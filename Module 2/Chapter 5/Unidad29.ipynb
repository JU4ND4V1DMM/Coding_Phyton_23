{
 "cells": [
  {
   "cell_type": "markdown",
   "metadata": {},
   "source": [
    "# <FONT COLOR=\"blue\"> **Samsung Innovation Campus**</FONT>  \n",
    "\n",
    "## <FONT COLOR=\"blue\">**Codificación y Programación**</FONT>\n",
    "\n",
    "# **Capítulo 5: Algoritmos 2 - Algoritmos de Ordenamiento**\n",
    "\n",
    "## Objetivos del capítulo\n",
    "\n",
    "- Los alumnos pueden entender los problemas de ordenamiento y resolverlos utilizando los métodos de ordenamiento de burbuja, ordenamiento de selección, ordenamiento de inserción, ordenamiento por mezcla y ordenamiento rápido. Además, el algoritmo de ordenamiento puede implementarse en Python, y el alumno puede comprender y comparar la complejidad temporal de cada método de ordenamiento.\n",
    "\n",
    "## Contenido del capítulo\n",
    "\n",
    "* Unidad 27. Ordenamiento por burbuja, selección e inserción\n",
    "* Unidad 28. Ordenamiento por mezcla (Merge Sort)\n",
    "* Unidad 29. Ordenamiento rápido (Quick Sort)\n"
   ]
  },
  {
   "cell_type": "markdown",
   "metadata": {},
   "source": [
    "# **Unidad 29. Ordenamiento rápido (Quick Sort)**\n"
   ]
  },
  {
   "cell_type": "markdown",
   "metadata": {},
   "source": [
    "## Objetivos de aprendizaje\n",
    "\n",
    "- Comprender el algoritmo de ordenamiento rápido y ser capaz de resolver problemas de ordenamiento utilizando la ordenamiento rápido.\n",
    "- Comprender y ser capaz de explicar la diferencia entre la ordenamiento rápido y la ordenamiento por mezcla.\n",
    "- Entender y ser capaz de explicar la complejidad temporal de la ordenamiento rápido.\n",
    "\n",
    "## Resumen de aprendizaje\n",
    "\n",
    "- Implementar el ordenamiento rápido que divida una lista sin ordenar dada en base al pivote y los ordene individualmente.\n",
    "- Implementar una función de partición que divide una lista no ordenada en base al pivote para un ordenamiento rápido.\n",
    "- Entender que el ordenamiento rápido es también un método de divide-y-vencerás utilizando una función recursiva como el algoritmo de ordenamiento por mezcla.\n",
    "\n",
    "## Conceptos que deberá conocer de las unidades anteriores. ##\n",
    "\n",
    "- Usar operadores de comparación para comparar dos números.\n",
    "- Dividir el problema dado y realizar llamadas recursivas  a una función.\n",
    "- Aplicar la notación Big O para analizar la complejidad temporal de un algoritmo."
   ]
  },
  {
   "cell_type": "markdown",
   "metadata": {},
   "source": [
    "## Palabras clave\n",
    "\n",
    "<table>\n",
    "<td> Problema de clasificación </td>\n",
    "<td> Ordenamiento rápido </td>\n",
    "<td> Pivote y Partición </td>\n",
    "</table>"
   ]
  },
  {
   "cell_type": "markdown",
   "metadata": {},
   "source": [
    "##  <FONT COLOR=\"blue\"> Misión </FONT>"
   ]
  },
  {
   "cell_type": "markdown",
   "metadata": {},
   "source": [
    "### <FONT COLOR=\"blue\"> 1. Problema del mundo real </FONT>"
   ]
  },
  {
   "cell_type": "markdown",
   "metadata": {},
   "source": [
    "#### **1.1. Clasificación in-place**"
   ]
  },
  {
   "cell_type": "markdown",
   "metadata": {},
   "source": [
    "En la unidad anterior, estudiamos el algoritmo de ordenamiento por mezcla. Sin embargo, para utilizar el ordenamiento por mezcla, teníamos que utilizar un espacio de memoria adicional del mismo tamaño que la lista dada. ¿Podemos diseñar un algoritmo de ordenamiento eficiente sin espacio de memoria adicional? \n",
    "\n",
    "Supongamos que nos dan 7 canicas de hierro como las que se muestran a continuación. Estas canicas de hierro tienen la misma forma y tamaño, pero tienen pesos diferentes. ¿Simplemente intercambiando estas canicas de hierro, se pueden enviar las cosas más ligeras que las canicas rojas a la izquierda y las cosas más pesadas que las canicas rojas a la derecha?\n",
    "\n",
    "<div align=\"center\"><img src=\"https://github.com/Repositorio17092022/RepositorioiImagenes/blob/main/unidad29/imagen124.png?raw=true\"  width= \"450px\" /></div>"
   ]
  },
  {
   "cell_type": "markdown",
   "metadata": {},
   "source": [
    "#### **2.1. Partición con pivote**"
   ]
  },
  {
   "cell_type": "markdown",
   "metadata": {},
   "source": [
    "Utilizar la balanza. La balanza puede realizar las siguientes operaciones.\n",
    "\n",
    "- Puede comparar los pesos sacando dos canicas de un barril de canicas de hierro.\n",
    "- Se pueden intercambiar las posiciones de las dos canicas de hierro.\n",
    "\n",
    "Tenemos una canica roja de referencia, así que podemos encontrar una canica más ligera y otra más pesada que la canica roja e intercambiarlas.\n",
    "Con esta estrategia, ¿cuántas comparaciones hay que hacer para colocar todas las canicas ordenadas por peso?\n",
    "\n",
    "<div align=\"center\"><img src=\"https://github.com/Repositorio17092022/RepositorioiImagenes/blob/main/unidad29/imagen126.png?raw=true\"  width= \"550px\" /></div>"
   ]
  },
  {
   "cell_type": "markdown",
   "metadata": {},
   "source": [
    "## <FONT COLOR=\"blue\"> Concepto clave </FONT>"
   ]
  },
  {
   "cell_type": "markdown",
   "metadata": {},
   "source": [
    "### <FONT COLOR=\"blue\"> 1. Ordenamiento rápido </FONT>"
   ]
  },
  {
   "cell_type": "markdown",
   "metadata": {},
   "source": [
    "#### **1.1. Un ejemplo de ordenamiento rápido**"
   ]
  },
  {
   "cell_type": "markdown",
   "metadata": {},
   "source": [
    "El ordenamiento rápido es un algoritmo de ordenamiento que ordena recursivamente una lista no ordenada dividiéndola en dos sublistas, según el valor del pivote.\n",
    "\n",
    "**EJ:** Supongamos que queremos ordenar una lista dispuesta en el orden [15, 10, 12, 20, 25, 13, 22] de la siguiente manera.\n",
    "\n",
    "<div align=\"center\"><img src=\"https://github.com/Repositorio17092022/RepositorioiImagenes/blob/main/unidad29/imagen128.png?raw=true\"  width= \"450px\" /></div>\n",
    "\n",
    "En primer lugar, el primer elemento 15 se establece como pivote. Los elementos más pequeños que el pivote se dividen a la izquierda del pivote, y los elementos más grandes que el pivote se dividen a la derecha del pivote.\n",
    "\n",
    "<div align=\"center\"><img src=\"https://github.com/Repositorio17092022/RepositorioiImagenes/blob/main/unidad29/imagen129.png?raw=true\"  width= \"450px\" /></div>\n",
    "\n",
    "Dividir pivotando el primer elemento de cada lista dividida. <br>\n",
    "A continuación, divide las sublistas con un nuevo pivote en cada sublista dividida respectivamente.\n",
    "\n",
    "<div align=\"center\"><img src=\"https://github.com/Repositorio17092022/RepositorioiImagenes/blob/main/unidad29/imagen130.png?raw=true\"  width= \"450px\" /></div>\n",
    "\n",
    "<div align=\"center\"><img src=\"https://github.com/Repositorio17092022/RepositorioiImagenes/blob/main/unidad29/imagen131.png?raw=true\"  width= \"450px\" /></div>\n",
    "\n",
    "Si sólo hay un elemento, la llamada recursiva termina porque está ordenada. En este momento, toda la lista está ordenada.\n",
    "\n",
    "<div align=\"center\"><img src=\"https://github.com/Repositorio17092022/RepositorioiImagenes/blob/main/unidad29/imagen132.png?raw=true\"  width= \"450px\" /></div>"
   ]
  },
  {
   "cell_type": "markdown",
   "metadata": {},
   "source": [
    "#### **1.2. Partición con pivote**"
   ]
  },
  {
   "cell_type": "markdown",
   "metadata": {},
   "source": [
    "Encuentra un método para dividir la izquierda y la derecha en base al pivote sin utilizar un espacio de almacenamiento separado. Utiliza la balanza.\n",
    "\n",
    "<div align=\"center\"><img src=\"https://github.com/Repositorio17092022/RepositorioiImagenes/blob/main/unidad29/imagen133.png?raw=true\"  width= \"450px\" /></div>\n",
    "\n",
    "Primero, encuentra un valor mayor que el pivote de izquierda a derecha en el conjunto de elementos excluyendo el pivote. Como 10 es menor que 15, pasa al siguiente elemento.\n",
    "\n",
    "<div align=\"center\"><img src=\"https://github.com/Repositorio17092022/RepositorioiImagenes/blob/main/unidad29/imagen134.png?raw=true\"  width= \"450px\" /></div>\n",
    "\n",
    "Como 12 es menor que 15, pasa al siguiente elemento.\n",
    "\n",
    "<div align=\"center\"><img src=\"https://github.com/Repositorio17092022/RepositorioiImagenes/blob/main/unidad29/imagen135.png?raw=true\"  width= \"450px\" /></div>\n",
    "\n",
    "Como 20 es mayor que 15, 20 es el primer elemento de la lista que es mayor que el pivote.\n",
    "\n",
    "<div align=\"center\"><img src=\"https://github.com/Repositorio17092022/RepositorioiImagenes/blob/main/unidad29/imagen136.png?raw=true\"  width= \"450px\" /></div>\n",
    "\n",
    "A continuación, encuentra el primer elemento menor que el pivote de derecha a izquierda. Como 22 es mayor que 15, se mueve al siguiente elemento.\n",
    "\n",
    "<div align=\"center\"><img src=\"https://github.com/Repositorio17092022/RepositorioiImagenes/blob/main/unidad29/imagen137.png?raw=true\"  width= \"450px\" /></div>\n",
    "\n",
    "Como 13 es menor que 15, 13 es el último elemento menor que 15.\n",
    "\n",
    "<div align=\"center\"><img src=\"https://github.com/Repositorio17092022/RepositorioiImagenes/blob/main/unidad29/imagen138.png?raw=true\"  width= \"450px\" /></div>\n",
    "\n",
    "El primer elemento mayor que el pivote y el último elemento menor que el pivote se intercambian. Repitiendo este proceso, los elementos menores que el pivote y los mayores que el pivote se dividen en dos particiones.\n",
    "\n",
    "<div align=\"center\"><img src=\"https://github.com/Repositorio17092022/RepositorioiImagenes/blob/main/unidad29/imagen139.png?raw=true\"  width= \"450px\" /></div>\n",
    "\n",
    "En una lista con dos particiones, cuando un elemento en una posición de pivote y un elemento de pivote se intercambian entre sí, el pivote se coloca en la posición de pivote, los elementos menores que el pivote se colocan a la izquierda y los elementos mayores que el pivote se colocan a la derecha.\n",
    "\n",
    "<div align=\"center\"><img src=\"https://github.com/Repositorio17092022/RepositorioiImagenes/blob/main/unidad29/imagen140.png?raw=true\"  width= \"450px\" /></div>\n"
   ]
  },
  {
   "cell_type": "markdown",
   "metadata": {},
   "source": [
    "#### **1.3. Elección de un pivote**"
   ]
  },
  {
   "cell_type": "markdown",
   "metadata": {},
   "source": [
    "Anteriormente, hemos utilizado la estrategia de pivotar para seleccionar el primer elemento de la lista. Qué pasaría si utilizáramos esta estrategia en una lista ya ordenada como ésta:\n",
    "\n",
    "<div align=\"center\"><img src=\"https://github.com/Repositorio17092022/RepositorioiImagenes/blob/main/unidad29/imagen141.png?raw=true\"  width= \"450px\" /></div>\n",
    "\n",
    "Como cada vez el primer elemento de la lista es el más pequeño, la función partition() no puede dividir. Tenemos que dividir N veces de la siguiente manera.\n",
    "\n",
    "<div align=\"center\"><img src=\"https://github.com/Repositorio17092022/RepositorioiImagenes/blob/main/unidad29/imagen142.png?raw=true\"  width= \"550px\" /></div>\n",
    "\n",
    "¿Qué pasaría si fijamos el pivote en un elemento arbitrario? En el peor de los casos, el orden de los elementos puede ser seleccionado, pero la probabilidad de tal caso es muy improbable, por lo que en promedio, tiene un valor esperado de O(NlogN).\n"
   ]
  },
  {
   "cell_type": "markdown",
   "metadata": {},
   "source": [
    "## <FONT COLOR=\"blue\"> Vamos a codificar </FONT>"
   ]
  },
  {
   "cell_type": "markdown",
   "metadata": {},
   "source": [
    "### <FONT COLOR=\"blue\"> 1. Implementación: Ordenamiento rápido con First Pivot </FONT>"
   ]
  },
  {
   "cell_type": "markdown",
   "metadata": {},
   "source": [
    "#### **1.1. Ordenamiento rápido con el enfoque \"divide y vencerás\".**"
   ]
  },
  {
   "cell_type": "markdown",
   "metadata": {},
   "source": [
    "Ordenamiento rápido utiliza una estrategia de dividir y vencerás como el ordenamiento por mezcla. La diferencia con el ordenamiento por mezcla es que, al dividir en dos listas en función del pivote, los tamaños de las dos listas pueden ser diferentes."
   ]
  },
  {
   "cell_type": "code",
   "execution_count": 1,
   "metadata": {},
   "outputs": [],
   "source": [
    "def ordenamiento_rapido1(S, bajo, alto):\n",
    "    if bajo < alto:\n",
    "        print(S)\n",
    "        punto_pivote = particion1(S, bajo, alto)\n",
    "        ordenamiento_rapido1(S, bajo, punto_pivote - 1)\n",
    "        ordenamiento_rapido1(S, punto_pivote + 1, alto)\n",
    "        "
   ]
  },
  {
   "cell_type": "markdown",
   "metadata": {},
   "source": [
    "**líneas 1-3**\n",
    "\n",
    "- Ordenamiento rápido ordena los elementos de menor a mayor para una S dada.\n",
    "- Si bajo es igual o menor que alto, la ordenamiento puede terminar porque está en estado ordenado"
   ]
  },
  {
   "cell_type": "markdown",
   "metadata": {},
   "source": [
    "Según el pivote, la función particion1() divide los elementos de S en elementos menores que el pivote y elementos mayores que el pivote. Estas dos listas divididas se ordenan mediante una llamada recursiva.\n",
    "\n",
    "**Líneas 4-6**\n",
    "\n",
    "- pivotpoint devuelve la posición del pivote en la función particion1().\n",
    "- Los elementos más pequeños que el pivote se colocan a la izquierda del punto de pivote, y los elementos más grandes que el pivote se colocan a la derecha del punto de pivote.\n",
    "- Los elementos de la izquierda y de la derecha se ordenan en función del punto de pivote, respectivamente.\n"
   ]
  },
  {
   "cell_type": "markdown",
   "metadata": {},
   "source": [
    "#### **1.2. Partición con el primer pivote.**"
   ]
  },
  {
   "cell_type": "markdown",
   "metadata": {},
   "source": [
    "La función partition1() divide los elementos de menor a mayor en un S dado basándose en el pivote. Supongamos que la estrategia del pivote es seleccionar el primer elemento de los elementos dados."
   ]
  },
  {
   "cell_type": "code",
   "execution_count": 2,
   "metadata": {},
   "outputs": [],
   "source": [
    "def particion1(S, low, high):\n",
    "    pivote = S[low]\n",
    "    izquierda, derecha = low + 1, high\n",
    "    while izquierda < derecha:\n",
    "        print(S)\n",
    "        while izquierda <= derecha and S[izquierda] <= pivote:\n",
    "            izquierda += 1\n",
    "        while izquierda <= derecha and S[derecha] >= pivote:\n",
    "            derecha -= 1\n",
    "        if izquierda < derecha:\n",
    "            S[izquierda], S[derecha] = S[derecha], S[izquierda]\n",
    "    punto_pivote = derecha\n",
    "    S[low], S[punto_pivote] = S[punto_pivote], S[low]\n",
    "    return punto_pivote"
   ]
  },
  {
   "cell_type": "markdown",
   "metadata": {},
   "source": [
    "**Línea 1-2**\n",
    "\n",
    "- La función partition1() toma S, low y high como parámetros de entrada.\n",
    "- El primer elemento del rango dado S[low] se establece como pivote.\n"
   ]
  },
  {
   "cell_type": "markdown",
   "metadata": {},
   "source": [
    "La operación de partición selecciona una estrategia para intercambiar elementos en el rango de S comparándolos en los extremos izquierdo y derecho, respectivamente.\n",
    "\n",
    "**Línea 3-11**\n",
    "\n",
    "- Entre los elementos, excluyendo el pivote, se seleccionan el de la izquierda y el de la derecha como elementos más a la izquierda y más a la derecha.\n",
    "- Encuentre el primer elemento de la izquierda que sea mayor que el pivote, y el primer elemento de la derecha que sea menor que el pivote.\n",
    "- Intercambia los elementos de la izquierda y de la derecha.\n"
   ]
  },
  {
   "cell_type": "markdown",
   "metadata": {},
   "source": [
    "Al finalizar la operación de intercambio, el primer elemento seleccionado por el pivote se desplaza a la posición central.\n",
    "\n",
    "**Línea 12-14**\n",
    "\n",
    "- En la línea 3-11, cuando la operación de intercambio ha finalizado, el elemento S[punto de pivote] se convierte en el último elemento de los elementos menores que el elemento de pivote.\n",
    "- Si el elemento del pivote en la posición baja y el elemento en la posición del punto de pivote se intercambian entre sí, la operación de partición se completa.\n"
   ]
  },
  {
   "cell_type": "markdown",
   "metadata": {},
   "source": [
    "#### **1.3. Ejecución del ordenamiento rápido**"
   ]
  },
  {
   "cell_type": "markdown",
   "metadata": {},
   "source": [
    "Cuando se ejecuta el algoritmo de ordenamiento rápido implementado anteriormente, la ordenamiento rápido se realiza mediante el siguiente proceso."
   ]
  },
  {
   "cell_type": "code",
   "execution_count": 3,
   "metadata": {},
   "outputs": [
    {
     "name": "stdout",
     "output_type": "stream",
     "text": [
      "[15, 10, 12, 20, 25, 13, 22]\n",
      "[15, 10, 12, 20, 25, 13, 22]\n",
      "[15, 10, 12, 13, 25, 20, 22]\n",
      "[13, 10, 12, 15, 25, 20, 22]\n",
      "[13, 10, 12, 15, 25, 20, 22]\n",
      "[12, 10, 13, 15, 25, 20, 22]\n",
      "[10, 12, 13, 15, 25, 20, 22]\n",
      "[10, 12, 13, 15, 25, 20, 22]\n",
      "[10, 12, 13, 15, 22, 20, 25]\n",
      "[10, 12, 13, 15, 20, 22, 25]\n"
     ]
    }
   ],
   "source": [
    "S = [15, 10, 12, 20, 25, 13, 22]\n",
    "ordenamiento_rapido1(S, 0, len(S) - 1)\n",
    "print(S)"
   ]
  },
  {
   "cell_type": "markdown",
   "metadata": {},
   "source": [
    "El peor caso del ordenamiento rápido es cuando el S dado se ordena en orden descendente. En este caso, se puede confirmar que se dividen exactamente N-1 elementos en cada llamada recursiva."
   ]
  },
  {
   "cell_type": "code",
   "execution_count": 4,
   "metadata": {},
   "outputs": [
    {
     "name": "stdout",
     "output_type": "stream",
     "text": [
      "[25, 22, 20, 15, 13, 12, 10]\n",
      "[25, 22, 20, 15, 13, 12, 10]\n",
      "[10, 22, 20, 15, 13, 12, 25]\n",
      "[10, 22, 20, 15, 13, 12, 25]\n",
      "[10, 22, 20, 15, 13, 12, 25]\n",
      "[10, 22, 20, 15, 13, 12, 25]\n",
      "[10, 12, 20, 15, 13, 22, 25]\n",
      "[10, 12, 20, 15, 13, 22, 25]\n",
      "[10, 12, 20, 15, 13, 22, 25]\n",
      "[10, 12, 20, 15, 13, 22, 25]\n",
      "[10, 12, 13, 15, 20, 22, 25]\n",
      "[10, 12, 15, 13, 20, 22, 25]\n"
     ]
    }
   ],
   "source": [
    "S = [25, 22, 20, 15, 13, 12 ,10]\n",
    "ordenamiento_rapido1(S, 0, len(S) - 1)\n",
    "print(S)"
   ]
  },
  {
   "cell_type": "markdown",
   "metadata": {},
   "source": [
    "### <FONT COLOR=\"blue\"> 2. Implementación del ordenamiento rápido con pivote aleatorio </FONT>"
   ]
  },
  {
   "cell_type": "markdown",
   "metadata": {},
   "source": [
    "#### **2.1. Ordenamiento rápido con pivote aleatorio**"
   ]
  },
  {
   "cell_type": "markdown",
   "metadata": {},
   "source": [
    "\n",
    "\n",
    "El algoritmo quicksort1() selecciona el primer elemento de la lista como pivote. El algoritmo quicksort2() selecciona un elemento aleatorio como pivote. La selección del pivote se implementa en la función partition2().\n"
   ]
  },
  {
   "cell_type": "code",
   "execution_count": 3,
   "metadata": {},
   "outputs": [],
   "source": [
    "def ordenamiento_rapido2(S, low, high):\n",
    "    if low < high:\n",
    "        punto_pivote = particion2(S, low, high)\n",
    "        ordenamiento_rapido2(S, low, punto_pivote - 1)\n",
    "        ordenamiento_rapido2(S, punto_pivote + 1, high)"
   ]
  },
  {
   "cell_type": "markdown",
   "metadata": {},
   "source": [
    "#### **2.2. Elección de un pivote aleatorio**"
   ]
  },
  {
   "cell_type": "markdown",
   "metadata": {},
   "source": [
    "La función partition2() selecciona un elemento aleatorio del elemento dado de S como pivote."
   ]
  },
  {
   "cell_type": "code",
   "execution_count": 4,
   "metadata": {},
   "outputs": [],
   "source": [
    "from random import randint\n",
    "\n",
    "def particion2(S, low, high):\n",
    "    rand = randint(low, high)\n",
    "    S[low], S[rand] = S[rand], S[low]\n",
    "    pivote, izquierda, derecha = S[low], low, high\n",
    "    print(S, izquierda, derecha, \"Pivote = \", pivote)\n",
    "    while izquierda <derecha:\n",
    "        while izquierda < high and S[izquierda] <= pivote:\n",
    "            izquierda += 1\n",
    "        while derecha > low and pivote <= S[derecha]:\n",
    "            derecha -= 1\n",
    "        if izquierda < derecha:\n",
    "            S[izquierda], S[derecha] = S[derecha], S[izquierda]\n",
    "    S[low], S[derecha] = S[derecha], S[low]\n",
    "    return derecha\n"
   ]
  },
  {
   "cell_type": "markdown",
   "metadata": {},
   "source": [
    "**Línea 4-6**\n",
    "\n",
    "- Se establece una posición aleatoria dentro del rango bajo y alto dado como valor rand.\n",
    "- Cuando se intercambian S[low] y S[rand], el primer elemento se cambia por un elemento aleatorio.\n"
   ]
  },
  {
   "cell_type": "markdown",
   "metadata": {},
   "source": [
    "#### **2.3. Ejecución de la ordenamiento rápido con pivote aleatorio**"
   ]
  },
  {
   "cell_type": "markdown",
   "metadata": {},
   "source": [
    "Cabe destacar que el algoritmo quicksort2() no es el peor caso ni siquiera para los casos de entrada ordenados de forma descendente, a diferencia del algoritmo quicksort1()."
   ]
  },
  {
   "cell_type": "code",
   "execution_count": 11,
   "metadata": {},
   "outputs": [
    {
     "name": "stdout",
     "output_type": "stream",
     "text": [
      "[13, 22, 20, 15, 25, 12, 10] 0 6 Pivote =  13\n",
      "[12, 10, 13, 15, 25, 20, 22] 0 1 Pivote =  12\n",
      "[10, 12, 13, 20, 25, 15, 22] 3 6 Pivote =  20\n",
      "[10, 12, 13, 15, 20, 22, 25] 5 6 Pivote =  22\n",
      "[10, 12, 13, 15, 20, 22, 25]\n"
     ]
    }
   ],
   "source": [
    "S = [25, 22, 20, 15, 13, 12 ,10]\n",
    "ordenamiento_rapido2(S, 0, len(S) - 1)\n",
    "print(S)"
   ]
  },
  {
   "cell_type": "markdown",
   "metadata": {},
   "source": [
    "## <FONT COLOR=\"blue\">**Quiz** </FONT>\n",
    "\n",
    "### <FONT COLOR=\"blue\">**Q1.** </FONT>\n"
   ]
  },
  {
   "cell_type": "markdown",
   "metadata": {},
   "source": [
    "\n",
    "<table>\n",
    "<tr>\n",
    "  <td><strong> Dada la siguiente lista, escriba la salida después de ejecutar la función particion1() </strong></td>\n",
    "<tr>\n",
    "</table>"
   ]
  },
  {
   "cell_type": "code",
   "execution_count": null,
   "metadata": {},
   "outputs": [],
   "source": [
    "S = [15, 10, 12, 20, 25, 13, 22]\n",
    "ordenamiento_rapido1(S, 0, len(S) - 1)\n",
    "print(S)"
   ]
  },
  {
   "cell_type": "markdown",
   "metadata": {},
   "source": [
    "## <FONT COLOR=\"blue\">Programación por parejas </FONT>\n",
    "\n",
    "### <FONT COLOR=\"blue\">Práctica de la programación en parejas </FONT>\n",
    "\n",
    "\n",
    "**Directriz, mecanismos y plan de contingencia**\n",
    "\n",
    " Preparar la programación por parejas implica establecer pautas y mecanismos para ayudar a los alumnos a emparejarse correctamente y mantenerlos emparejados.  Por ejemplo, los estudiantes deben turnarse para \"conducir el mouse\".  La preparación efectiva requiere planes de contingencia en caso de que uno de los socios se ausente o decida no participar por una u otra razón.  En estos casos, es importante dejar claro que el alumno activo no será sancionado porque el emparejamiento no funcionó bien.\n",
    " \n",
    "**Emparejar habilidades similares, no necesariamente iguales, como socios**\n",
    "\n",
    " La programación en parejas puede ser efectiva cuando los estudiantes con habilidades similares, aunque no necesariamente iguales, se emparejan como compañeros.  El emparejamiento de estudiantes que no coinciden a menudo puede conducir a una participación desequilibrada.  Los maestros deben enfatizar que la programación en parejas no es una estrategia de \"divide y vencerás\", sino más bien un verdadero esfuerzo de colaboración en cada esfuerzo por todo el proyecto.  Los maestros deben evitar emparejar a estudiantes muy débiles con estudiantes muy fuertes.\n",
    "\n",
    "**Motivar a los estudiantes ofreciendo incentivos adicionales**\n",
    "\n",
    " Ofrecer incentivos adicionales puede ayudar a motivar a los estudiantes a emparejarse, especialmente con estudiantes avanzados.  A algunos maestros les ha resultado útil pedirles a los estudiantes que se emparejen solo para una o dos tareas.\n",
    "\n",
    "**Evitar trampas en la colaboración**\n",
    "\n",
    " El desafío para el maestro es encontrar formas de evaluar los resultados individuales, mientras aprovecha los beneficios de la colaboración.  ¿Cómo saber si un estudiante aprendió o hizo trampa?  Los expertos recomiendan revisar el diseño y la evaluación del curso, así como discutir explícita y concretamente con los estudiantes los comportamientos que se interpretarán como trampa.  Los expertos alientan a los maestros a hacer que las tareas sean significativas para los estudiantes y a explicar el valor de lo que los estudiantes aprenderán al completarlas.\n",
    "\n",
    "**Entorno de aprendizaje colaborativo**\n",
    "\n",
    " Un entorno de aprendizaje colaborativo ocurre cada vez que un instructor requiere que los estudiantes trabajen juntos en actividades de aprendizaje.  Los entornos de aprendizaje colaborativo pueden implicar actividades tanto formales como informales y pueden incluir o no una evaluación directa.  Por ejemplo, parejas de estudiantes trabajan en asignaciones de programación; pequeños grupos de estudiantes discuten posibles respuestas a la pregunta de un profesor durante la lección; y los estudiantes trabajan juntos fuera de clase para aprender nuevos conceptos.  El aprendizaje colaborativo es distinto de los proyectos en los que los estudiantes \"dividen y vencerán\".  Cuando los estudiantes dividen el trabajo, cada uno es responsable de solo una parte de la resolución del problema y hay oportunidades muy limitadas para resolver los problemas con los demás.  En entornos colaborativos, los estudiantes participan en conversaciones intelectuales entre ellos.\n",
    "\n"
   ]
  },
  {
   "cell_type": "markdown",
   "metadata": {},
   "source": [
    "### <FONT COLOR=\"blue\"> **Q1.** </FONT>"
   ]
  },
  {
   "cell_type": "markdown",
   "metadata": {},
   "source": [
    "Escriba un algoritmo que encuentre el Kº elemento mayor, dados N elementos desordenados.\n",
    "\n",
    "Después de resolver el problema con los dos métodos anteriores, analiza qué algoritmo es más eficiente."
   ]
  },
  {
   "cell_type": "markdown",
   "metadata": {},
   "source": [
    "- Puede devolver el elemento Kth después de utilizar la función de ordenamiento.\n",
    "\n",
    "- Puede utilizar la función partition() para realizar una llamada recursiva hasta que el pivote sea el Kº elemento.\n"
   ]
  }
 ],
 "metadata": {
  "kernelspec": {
   "display_name": "Python 3.9.13 64-bit (microsoft store)",
   "language": "python",
   "name": "python3"
  },
  "language_info": {
   "codemirror_mode": {
    "name": "ipython",
    "version": 3
   },
   "file_extension": ".py",
   "mimetype": "text/x-python",
   "name": "python",
   "nbconvert_exporter": "python",
   "pygments_lexer": "ipython3",
   "version": "3.9.13"
  },
  "orig_nbformat": 4,
  "vscode": {
   "interpreter": {
    "hash": "d6ff7cb00638fb92356a42c28981a177178b7e1976aa8ecd498ce1508ea8d5e4"
   }
  }
 },
 "nbformat": 4,
 "nbformat_minor": 2
}
