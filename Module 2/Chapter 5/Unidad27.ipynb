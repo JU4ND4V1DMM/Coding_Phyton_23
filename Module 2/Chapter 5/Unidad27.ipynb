{
  "cells": [
    {
      "cell_type": "markdown",
      "metadata": {},
      "source": [
        "# <FONT COLOR=\"blue\"> **Samsung Innovation Campus**</FONT>  \n",
        "\n",
        "## <FONT COLOR=\"blue\">**Codificación y Programación**</FONT>\n",
        "\n",
        "# **Capítulo 5: Algoritmos 2 - Algoritmos de Ordenamiento**\n",
        "\n",
        "## Objetivos del capítulo\n",
        "\n",
        "- Los alumnos pueden entender los problemas de ordenamiento y resolverlos utilizando los métodos de ordenamiento de burbuja, ordenamiento de selección, ordenamiento de inserción, ordenamiento por mezcla y ordenamiento rápido. Además, el algoritmo de ordenamiento puede implementarse en Python, y el alumno puede comprender y comparar la complejidad temporal de cada método de ordenamiento.\n",
        "\n",
        "## Contenido del capítulo\n",
        "\n",
        "* Unidad 27. Ordenamiento por burbuja, selección e inserción\n",
        "* Unidad 28. Ordenamiento por mezcla (Merge Sort)\n",
        "* Unidad 29. Ordenamiento rápido (Quick Sort)\n",
        "\n"
      ]
    },
    {
      "cell_type": "markdown",
      "metadata": {},
      "source": [
        "# **Unidad 27. Ordenamiento por burbujas, selección e inserción**"
      ]
    },
    {
      "cell_type": "markdown",
      "metadata": {},
      "source": [
        "## Objetivos de aprendizaje\n",
        "- Comprender el problema de Ordenamiento y ser capaz de resolverlo utilizando diversas técnicas de ordenamiento.\n",
        "- Comprender y ser capaz de explicar las diferencias entre el ordenamiento por burbujas, ordenamiento por selección y  ordenamiento por inserción.\n",
        "- Comprender y ser capaz de describir la complejidad temporal del ordenamiento por burbujas, ordenamiento por selección y ordenamiento por inserción.\n",
        "\n",
        "## Resumen de aprendizaje\n",
        "- Implementar el ordenamiento por burbujas, que ordena dos elementos adyacentes intercambiándolos.\n",
        "- Implementar el ordenamiento por selección, que encuentra el elemento más pequeño y crea una lista ordenada.\n",
        "- Implementar el ordenamiento por inserción, que inserta un nuevo elemento en una lista ordenada.\n",
        "\n",
        "## Conceptos que necesitará conocer de las unidades anteriores\n",
        "- Uso de operadores de comparación para comparar dos números.\n",
        "- Utilizar la función swap para intercambiar las posiciones de dos números.\n",
        "- Aplicar la notación Big O para analizar la complejidad temporal de un algoritmo.\n",
        "\n",
        "## Palabras clave \n",
        "\n",
        "<table>\n",
        "<tr>\n",
        "  <td><strong>Problema de clasificación</strong></td>\n",
        "  <td><strong>Ordenamiento por burbujas</strong></td>\n",
        "<tr>\n",
        "  <td><strong>Ordenamiento por selección</strong></td>\n",
        "  <td><strong>Ordenamiento por inserción</strong></td>\n",
        "<tr>\n",
        "<tr>\n",
        "  <td><strong>Tiempo cuadrático</strong></td>\n",
        "<tr>\n",
        "</table>"
      ]
    },
    {
      "cell_type": "markdown",
      "metadata": {},
      "source": [
        "##  <FONT COLOR=\"blue\">Misión</FONT>"
      ]
    },
    {
      "cell_type": "markdown",
      "metadata": {},
      "source": [
        "###  <FONT COLOR=\"blue\">1. Problema del mundo real</FONT>"
      ]
    },
    {
      "cell_type": "markdown",
      "metadata": {},
      "source": [
        "#### **1.1. El problema de la clasificación**"
      ]
    },
    {
      "cell_type": "markdown",
      "metadata": {},
      "source": [
        "En nuestra vida diaria, a menudo nos encontramos con problemas de alineación.\n",
        "\n",
        "- 🔵 Supongamos que te dan 5 canicas de hierro azules como las que se muestran a continuación. Estas canicas de hierro tienen la misma forma y tamaño, pero tienen pesos diferentes. ¿Qué método se debe utilizar para ordenar estas canicas de hierro en orden ascendente de peso como se muestra a continuación?\n",
        "\n",
        "<div align=\"center\"><img src=\"https://github.com/Repositorio17092022/RepositorioiImagenes/blob/main/unidad27/imagen9.PNG?raw=true\"  width= \"500px\" /></div>"
      ]
    },
    {
      "cell_type": "markdown",
      "metadata": {},
      "source": [
        "###  <FONT COLOR=\"blue\">2. Misión</FONT>"
      ]
    },
    {
      "cell_type": "markdown",
      "metadata": {},
      "source": [
        "##### **2.1. Ordenamiento por burbuja: cuando sólo se pueden intercambiar dos elementos adyacentes**"
      ]
    },
    {
      "cell_type": "markdown",
      "metadata": {},
      "source": [
        "Imagina que una herramienta que podemos utilizar es un dispositivo que puede hacer lo siguiente:\n",
        "\n",
        "- Puede coger dos canicas adyacentes y comparar su peso.\n",
        "- Se pueden bajar las dos canicas intercambiando sus posiciones.\n",
        "\n",
        "Como el dispositivo no puede recordar el peso de las canicas, sólo pueden cambiar de posición dos canicas adyacentes a la vez. Puede utilizar una estrategia para enviar la canica más pesada a la derecha en cada comparación.\n",
        "\n",
        "Con esta estrategia, ¿cuántas comparaciones necesitan todas las canicas para colocarse en un orden ordenado por peso?\n",
        "\n",
        "<div align=\"center\"><img src=\"https://github.com/Repositorio17092022/RepositorioiImagenes/blob/main/unidad27/imagen10.PNG?raw=true\"  width= \"500px\" /></div>"
      ]
    },
    {
      "cell_type": "markdown",
      "metadata": {},
      "source": [
        "##### **2.2. Ordenamiento por selección: cuando se puede utilizar una balanza**"
      ]
    },
    {
      "cell_type": "markdown",
      "metadata": {},
      "source": [
        "Utilice una balanza. La balanza puede realizar las siguientes operaciones:\n",
        "\n",
        "- Puede coger dos canicas que no sean adyacentes y comparar sus pesos.\n",
        "- Se pueden devolver las dos canicas intercambiando sus posiciones.\n",
        "\n",
        "La balanza tampoco puede recordar el peso de la canica, pero puede intercambiar las posiciones de dos canicas que no son adyacentes a la vez. Puede elegir una estrategia para comparar la primera canica con la de menor peso para poder intercambiarla.\n",
        "\n",
        "Con esta estrategia, ¿cuántas comparaciones serían necesarias para colocar todas las canicas en orden de peso?\n",
        "\n",
        "<div align=\"center\"><img src=\"https://github.com/Repositorio17092022/RepositorioiImagenes/blob/main/unidad27/imagen11.PNG?raw=true\"  width= \"550px\" /></div>"
      ]
    },
    {
      "cell_type": "markdown",
      "metadata": {},
      "source": [
        "##### **2.3. Ordenamiento por inserción: cuando sólo se puede obtener una bola a la vez**"
      ]
    },
    {
      "cell_type": "markdown",
      "metadata": {},
      "source": [
        "Utiliza la balanza. Esta vez hay limitaciones:\n",
        "\n",
        "- Las canicas de hierro están en el barril, y sólo se pueden sacar de una en una.\n",
        "- Cada vez que se saca una canica, debe colocarse siempre en una posición ordenada\n",
        "\n",
        "En este caso, no es posible comparar todas las canicas a la vez, pero como ya hay canicas ordenadas cada vez que se sacan, se puede buscar la nueva canica en secuencia.\n",
        "\n",
        "Con esta estrategia, ¿cuántas comparaciones harían falta para colocar todas las canicas ordenadas por peso?\n",
        "\n",
        "<div align=\"center\"><img src=\"https://github.com/Repositorio17092022/RepositorioiImagenes/blob/main/unidad27/imagen12.PNG?raw=true\"  width= \"550px\" /></div>"
      ]
    },
    {
      "cell_type": "markdown",
      "metadata": {},
      "source": [
        "##  <FONT COLOR=\"blue\">Concepto clave</FONT>"
      ]
    },
    {
      "cell_type": "markdown",
      "metadata": {},
      "source": [
        "###  <FONT COLOR=\"blue\">1. Ordenamiento por burbuja</FONT>"
      ]
    },
    {
      "cell_type": "markdown",
      "metadata": {},
      "source": [
        "##### **1.1. Un ejemplo de Ordenamiento por burbuja**"
      ]
    },
    {
      "cell_type": "markdown",
      "metadata": {},
      "source": [
        "Ordenamiento por burbuja es un algoritmo de Ordenamiento que compara dos elementos adyacentes e intercambia sus posiciones si se invierte el orden.\n",
        "\n",
        "🔵 Supongamos que queremos ordenar una lista en el orden de [50, 30, 40, 10, 20] como sigue.\n",
        "\n",
        "<div align=\"center\"><img src=\"https://github.com/Repositorio17092022/RepositorioiImagenes/blob/main/unidad27/imagen14.PNG?raw=true\"  width= \"550px\" /></div>"
      ]
    },
    {
      "cell_type": "markdown",
      "metadata": {},
      "source": [
        "##### **1.2. El proceso de Ordenamiento por burbuja**"
      ]
    },
    {
      "cell_type": "markdown",
      "metadata": {},
      "source": [
        "Primero se compara el primer elemento 50 con el segundo elemento 30. Como 50 es mayor que 30, hay que intercambiar los lugares de los dos números.\n",
        "\n",
        "<div align=\"center\"><img src=\"https://github.com/Repositorio17092022/RepositorioiImagenes/blob/main/unidad27/imagen15.PNG?raw=true\"  width= \"450px\" /></div>"
      ]
    },
    {
      "cell_type": "markdown",
      "metadata": {},
      "source": [
        "A continuación, compara el segundo elemento 50 con el tercero 40. Como 50 es mayor que 40, hay que intercambiar los lugares de los dos números.\n",
        "\n",
        "<div align=\"center\"><img src=\"https://github.com/Repositorio17092022/RepositorioiImagenes/blob/main/unidad27/imagen16.PNG?raw=true\"  width= \"450px\" /></div>"
      ]
    },
    {
      "cell_type": "markdown",
      "metadata": {},
      "source": [
        "A continuación, compara el tercer elemento 50 con el cuarto elemento 10. Como 50 es mayor que 10, hay que intercambiar los lugares de los dos números.\n",
        "\n",
        "<div align=\"center\"><img src=\"https://github.com/Repositorio17092022/RepositorioiImagenes/blob/main/unidad27/imagen17.PNG?raw=true\"  width= \"450px\" /></div>"
      ]
    },
    {
      "cell_type": "markdown",
      "metadata": {},
      "source": [
        "A continuación, compara el cuarto elemento 50 con el último elemento 20. Como 50 es mayor que 20, hay que intercambiar los lugares de los dos números.\n",
        "\n",
        "<div align=\"center\"><img src=\"https://github.com/Repositorio17092022/RepositorioiImagenes/blob/main/unidad27/imagen18.PNG?raw=true\"  width= \"450px\" /></div>"
      ]
    },
    {
      "cell_type": "markdown",
      "metadata": {},
      "source": [
        "Obsérvese que después de la primera pasada, el elemento más grande de la lista 50 se coloca en el extremo derecho. El último elemento de la Ordenamiento en la segunda pasada puede ser excluido.\n",
        "\n",
        "<div align=\"center\"><img src=\"https://github.com/Repositorio17092022/RepositorioiImagenes/blob/main/unidad27/imagen19.PNG?raw=true\"  width= \"500px\" /></div>"
      ]
    },
    {
      "cell_type": "markdown",
      "metadata": {},
      "source": [
        "Continuar con la Ordenamiento de burbujas en una lista no ordenada excepto el último elemento.\n",
        "\n",
        "<div align=\"center\"><img src=\"https://github.com/Repositorio17092022/RepositorioiImagenes/blob/main/unidad27/imagen20.PNG?raw=true\"  width= \"450px\" /></div>"
      ]
    },
    {
      "cell_type": "markdown",
      "metadata": {},
      "source": [
        "Observe que en la segunda pasada se ha encontrado el segundo elemento más grande. Ahora este segundo elemento también puede ser excluido de la clasificación.\n",
        "\n",
        "<div align=\"center\"><img src=\"https://github.com/Repositorio17092022/RepositorioiImagenes/blob/main/unidad27/imagen21.PNG?raw=true\"  width= \"500px\" /></div>"
      ]
    },
    {
      "cell_type": "markdown",
      "metadata": {},
      "source": [
        "Del mismo modo, la clasificación de burbujas puede continuar en la tercera pasada.\n",
        "\n",
        "<div align=\"center\"><img src=\"https://github.com/Repositorio17092022/RepositorioiImagenes/blob/main/unidad27/imagen22.PNG?raw=true\"  width= \"450px\" /></div>"
      ]
    },
    {
      "cell_type": "markdown",
      "metadata": {},
      "source": [
        "Del mismo modo, la Ordenamiento por burbujas puede continuar hasta que todos los elementos estén ordenados.\n",
        "\n",
        "<div align=\"center\"><img src=\"https://github.com/Repositorio17092022/RepositorioiImagenes/blob/main/unidad27/imagen23.PNG?raw=true\"  width= \"450px\" /></div>"
      ]
    },
    {
      "cell_type": "markdown",
      "metadata": {},
      "source": [
        "###   <FONT COLOR=\"blue\">2. Ordenamiento por selección</FONT>"
      ]
    },
    {
      "cell_type": "markdown",
      "metadata": {},
      "source": [
        "##### **2.1. Un ejemplo de Ordenamiento por selección**"
      ]
    },
    {
      "cell_type": "markdown",
      "metadata": {},
      "source": [
        "Ordenamiento por selección es un algoritmo de Ordenamiento que encuentra el elemento más pequeño de una lista y lo coloca en el lado izquierdo. Para ello, utiliza una estrategia para comparar el primer elemento de una lista sin ordenar con el resto de la lista e intercambiar posiciones con el elemento más pequeño.\n",
        "\n",
        "🔵 Supongamos que queremos ordenar una lista dispuesta en el orden de [50, 30, 40, 10, 20] de la siguiente manera.\n",
        "\n",
        "<div align=\"center\"><img src=\"https://github.com/Repositorio17092022/RepositorioiImagenes/blob/main/unidad27/imagen24.PNG?raw=true\"  width= \"550px\" /></div>"
      ]
    },
    {
      "cell_type": "markdown",
      "metadata": {},
      "source": [
        "##### **2.2. El proceso de selección**"
      ]
    },
    {
      "cell_type": "markdown",
      "metadata": {},
      "source": [
        "En primer lugar, se compara el primer elemento 50 con el segundo elemento 30. Como 50 es mayor que 30, hay que cambiar los lugares de cada uno.\n",
        "\n",
        "<div align=\"center\"><img src=\"https://github.com/Repositorio17092022/RepositorioiImagenes/blob/main/unidad27/imagen25.PNG?raw=true\"  width= \"450px\" /></div>"
      ]
    },
    {
      "cell_type": "markdown",
      "metadata": {},
      "source": [
        "A continuación, compara el primer elemento 30 con el tercer elemento 40. Como 30 es menor que 40, no cambian de posición. \n",
        "\n",
        "<div align=\"center\"><img src=\"https://github.com/Repositorio17092022/RepositorioiImagenes/blob/main/unidad27/imagen26.PNG?raw=true\"  width= \"450px\" /></div>"
      ]
    },
    {
      "cell_type": "markdown",
      "metadata": {},
      "source": [
        "A continuación, compara el primer elemento 30 con el cuarto elemento 10. Como 10 es menor que 30, hay que cambiar los lugares de cada uno.\n",
        "\n",
        "<div align=\"center\"><img src=\"https://github.com/Repositorio17092022/RepositorioiImagenes/blob/main/unidad27/imagen27.PNG?raw=true\"  width= \"450px\" /></div>"
      ]
    },
    {
      "cell_type": "markdown",
      "metadata": {},
      "source": [
        "A continuación, compara el primer elemento 10 con el quinto elemento 20. Como 10 es menor que 20, no cambian de posición.\n",
        "\n",
        "<div align=\"center\"><img src=\"https://github.com/Repositorio17092022/RepositorioiImagenes/blob/main/unidad27/imagen28.PNG?raw=true\"  width= \"450px\" /></div>"
      ]
    },
    {
      "cell_type": "markdown",
      "metadata": {},
      "source": [
        "Observe que en el ordenamiento por selección, el elemento más pequeño 10 se coloca al principio de la lista al final de la primera pasada. Como el primer elemento es una lista ordenada, puede ser excluido de la Ordenamiento por selección de la siguiente pasada.\n",
        "\n",
        "<div align=\"center\"><img src=\"https://github.com/Repositorio17092022/RepositorioiImagenes/blob/main/unidad27/imagen29.PNG?raw=true\"  width= \"500px\" /></div>"
      ]
    },
    {
      "cell_type": "markdown",
      "metadata": {},
      "source": [
        "Ordenamiento por selección puede continuar en una lista sin ordenar, excepto el primer elemento.\n",
        "\n",
        "<div align=\"center\"><img src=\"https://github.com/Repositorio17092022/RepositorioiImagenes/blob/main/unidad27/imagen30.PNG?raw=true\"  width= \"450px\" /></div>"
      ]
    },
    {
      "cell_type": "markdown",
      "metadata": {},
      "source": [
        "Observe que en la segunda pasada se ha encontrado el segundo elemento más grande. Ahora este segundo elemento también puede ser excluido de la clasificación.\n",
        "\n",
        "<div align=\"center\"><img src=\"https://github.com/Repositorio17092022/RepositorioiImagenes/blob/main/unidad27/imagen33.PNG?raw=true\"  width= \"550px\" /></div>"
      ]
    },
    {
      "cell_type": "markdown",
      "metadata": {},
      "source": [
        "El ordenamiento por selección puede continuar en una lista sin ordenar, excepto en la lista ordenada.\n",
        "\n",
        "<div align=\"center\"><img src=\"https://github.com/Repositorio17092022/RepositorioiImagenes/blob/main/unidad27/imagen35.PNG?raw=true\"  width= \"450px\" /></div>"
      ]
    },
    {
      "cell_type": "markdown",
      "metadata": {},
      "source": [
        "###  <FONT COLOR=\"blue\">3. Ordenamiento por inserción</FONT>"
      ]
    },
    {
      "cell_type": "markdown",
      "metadata": {},
      "source": [
        "##### **3.1. Un ejemplo de Ordenamiento por inserción**"
      ]
    },
    {
      "cell_type": "markdown",
      "metadata": {},
      "source": [
        "Ordenamiento por inserción es un algoritmo de Ordenamiento que añade elementos de una lista no ordenada a la lista ordenada uno a uno. Para ello, utiliza una estrategia para encontrar la posición a añadir comparando el elemento a añadir con el resto de la lista ordenada secuencialmente.\n",
        "\n",
        "🔵 Supongamos que queremos ordenar una lista dispuesta en el orden de [50, 30, 40, 10, 20] de la siguiente manera.\n",
        "\n",
        "<div align=\"center\"><img src=\"https://github.com/Repositorio17092022/RepositorioiImagenes/blob/main/unidad27/imagen37.PNG?raw=true\"  width= \"550px\" /></div>"
      ]
    },
    {
      "cell_type": "markdown",
      "metadata": {},
      "source": [
        "##### **3.2. El proceso de ordenamiento por inserción**"
      ]
    },
    {
      "cell_type": "markdown",
      "metadata": {},
      "source": [
        "En primer lugar, el primer elemento 50 puede considerarse una lista ordenada porque sólo hay un elemento.\n",
        "\n",
        "<div align=\"center\"><img src=\"https://github.com/Repositorio17092022/RepositorioiImagenes/blob/main/unidad27/imagen38.PNG?raw=true\"  width= \"450px\" /></div>"
      ]
    },
    {
      "cell_type": "markdown",
      "metadata": {},
      "source": [
        "Como el segundo elemento 30 es menor que 50 en la lista ordenada, 50 se desplaza a la derecha en uno.\n",
        "\n",
        "<div align=\"center\"><img src=\"https://github.com/Repositorio17092022/RepositorioiImagenes/blob/main/unidad27/imagen39.PNG?raw=true\"  width= \"450px\" /></div>"
      ]
    },
    {
      "cell_type": "markdown",
      "metadata": {},
      "source": [
        "Después de mover 50, se inserta 30 en esa posición porque no hay más elementos para comparar.\n",
        "\n",
        "<div align=\"center\"><img src=\"https://github.com/Repositorio17092022/RepositorioiImagenes/blob/main/unidad27/imagen40.PNG?raw=true\"  width= \"450px\" /></div>"
      ]
    },
    {
      "cell_type": "markdown",
      "metadata": {},
      "source": [
        "Como el tercer elemento 40 es menor que 50 en la lista ordenada, 50 se desplaza a la derecha en uno.\n",
        "\n",
        "<div align=\"center\"><img src=\"https://github.com/Repositorio17092022/RepositorioiImagenes/blob/main/unidad27/imagen41.PNG?raw=true\"  width= \"450px\" /></div>"
      ]
    },
    {
      "cell_type": "markdown",
      "metadata": {},
      "source": [
        "En la lista ordenada, como el elemento anterior 30 es menor que 40, éste se inserta en la posición actual.\n",
        "\n",
        "<div align=\"center\"><img src=\"https://github.com/Repositorio17092022/RepositorioiImagenes/blob/main/unidad27/imagen42.PNG?raw=true\"  width= \"450px\" /></div>"
      ]
    },
    {
      "cell_type": "markdown",
      "metadata": {},
      "source": [
        "En la lista ordenada, como el elemento anterior 50 es mayor que 10, 50 se desplaza a la derecha en uno.\n",
        "\n",
        "<div align=\"center\"><img src=\"https://github.com/Repositorio17092022/RepositorioiImagenes/blob/main/unidad27/imagen43.PNG?raw=true\"  width= \"450px\" /></div>"
      ]
    },
    {
      "cell_type": "markdown",
      "metadata": {},
      "source": [
        "En la lista ordenada, como el elemento anterior 40 es mayor que 10, 40 se desplaza a la derecha en uno. \n",
        "\n",
        "<div align=\"center\"><img src=\"https://github.com/Repositorio17092022/RepositorioiImagenes/blob/main/unidad27/imagen44.PNG?raw=true\"  width= \"450px\" /></div>"
      ]
    },
    {
      "cell_type": "markdown",
      "metadata": {},
      "source": [
        "En la lista ordenada, como el elemento anterior 30 es mayor que 10, 30 se desplaza a la derecha en uno. \n",
        "\n",
        "<div align=\"center\"><img src=\"https://github.com/Repositorio17092022/RepositorioiImagenes/blob/main/unidad27/imagen45.PNG?raw=true\"  width= \"450px\" /></div>"
      ]
    },
    {
      "cell_type": "markdown",
      "metadata": {},
      "source": [
        "10 se inserta en esa posición porque no quedan más elementos para comparar en la lista ordenada. \n",
        "\n",
        "<div align=\"center\"><img src=\"https://github.com/Repositorio17092022/RepositorioiImagenes/blob/main/unidad27/imagen46.PNG?raw=true\"  width= \"450px\" /></div>"
      ]
    },
    {
      "cell_type": "markdown",
      "metadata": {},
      "source": [
        "Como el último elemento 20 es menor que 50 en la lista ordenada, 50 se desplaza a la derecha en uno.\n",
        "\n",
        "<div align=\"center\"><img src=\"https://github.com/Repositorio17092022/RepositorioiImagenes/blob/main/unidad27/imagen47.PNG?raw=true\"  width= \"450px\" /></div>"
      ]
    },
    {
      "cell_type": "markdown",
      "metadata": {},
      "source": [
        "En la lista ordenada, como el elemento anterior 40 es mayor que 20, 40 se desplaza a la derecha en uno.\n",
        "\n",
        "<div align=\"center\"><img src=\"https://github.com/Repositorio17092022/RepositorioiImagenes/blob/main/unidad27/imagen48.PNG?raw=true\"  width= \"450px\" /></div>"
      ]
    },
    {
      "cell_type": "markdown",
      "metadata": {},
      "source": [
        "En la lista ordenada, como el elemento anterior 30 es mayor que 20, 30 se desplaza a la derecha en uno.\n",
        "\n",
        "<div align=\"center\"><img src=\"https://github.com/Repositorio17092022/RepositorioiImagenes/blob/main/unidad27/imagen49.PNG?raw=true\"  width= \"450px\" /></div>"
      ]
    },
    {
      "cell_type": "markdown",
      "metadata": {},
      "source": [
        "En la lista ordenada, como el elemento anterior 10 es menor que 20, se inserta 20 en esa posición. Obsérvese que como hemos insertado todos los elementos, la lista completa es una lista ordenada.\n",
        "\n",
        "<div align=\"center\"><img src=\"https://github.com/Repositorio17092022/RepositorioiImagenes/blob/main/unidad27/imagen50.PNG?raw=true\"  width= \"450px\" /></div>"
      ]
    },
    {
      "cell_type": "markdown",
      "metadata": {},
      "source": [
        "##  <FONT COLOR=\"blue\">Vamos a codificar</FONT>"
      ]
    },
    {
      "cell_type": "markdown",
      "metadata": {},
      "source": [
        "###  <FONT COLOR=\"blue\">1. Operación de intercambio</FONT>"
      ]
    },
    {
      "cell_type": "markdown",
      "metadata": {},
      "source": [
        "##### **1.1. Swap: exchange the values of two elements**"
      ]
    },
    {
      "cell_type": "markdown",
      "metadata": {},
      "source": [
        "Las dos operaciones básicas del algoritmo de Ordenamiento son las operaciones de comparación e intercambio. La operación de intercambio se puede implementar como la siguiente función."
      ]
    },
    {
      "cell_type": "code",
      "execution_count": null,
      "metadata": {},
      "outputs": [],
      "source": [
        "def intercambiar1(S, x, y):\n",
        "    t = S[x]\n",
        "    S[x] = S[y]\n",
        "    S[y] = t"
      ]
    },
    {
      "cell_type": "code",
      "execution_count": 3,
      "metadata": {},
      "outputs": [
        {
          "name": "stdout",
          "output_type": "stream",
          "text": [
            "[10, 20]\n",
            "\n",
            "[20, 10]\n"
          ]
        }
      ],
      "source": [
        "S = [10, 20]\n",
        "print(S)\n",
        "intercambiar1(S, 0, 1)\n",
        "print(S)"
      ]
    },
    {
      "cell_type": "markdown",
      "metadata": {},
      "source": [
        "**Linea 1-4**\n",
        "\n",
        "- La función swap() toma una lista S y las posiciones x e y de los elementos de la lista como parámetros de entrada.\n",
        "- Almacena el valor de S[x] en una variable temporal t y almacena el valor de S[y] en S[x].\n",
        "- El valor de S[x] almacenado en la variable t como almacenamiento temporal se almacena en S[y].\n"
      ]
    },
    {
      "cell_type": "markdown",
      "metadata": {},
      "source": [
        "##### **1.2. Intercambio en Python**"
      ]
    },
    {
      "cell_type": "markdown",
      "metadata": {},
      "source": [
        "En Python, puedes almacenar valores en múltiples variables al mismo tiempo, por lo que puedes intercambiar los valores de dos variables de forma más sencilla de la siguiente manera."
      ]
    },
    {
      "cell_type": "code",
      "execution_count": 5,
      "metadata": {},
      "outputs": [],
      "source": [
        "def intercambiar2(S, x, y):\n",
        "    S[x], S[y], = S[y], S[x]"
      ]
    },
    {
      "cell_type": "code",
      "execution_count": 6,
      "metadata": {},
      "outputs": [
        {
          "name": "stdout",
          "output_type": "stream",
          "text": [
            "[10, 20]\n",
            "\n",
            "[20, 10]\n"
          ]
        }
      ],
      "source": [
        "S = [10, 20]\n",
        "print(S)\n",
        "intercambiar2(S, 0, 1)\n",
        "print(S)"
      ]
    },
    {
      "cell_type": "markdown",
      "metadata": {},
      "source": [
        "**Linea 1-2**\n",
        "\n",
        "- Sustituye los valores de S[y] y S[x] en S[x] y S[y], respectivamente.\n",
        "- En este momento, cabe señalar que los dos valores pueden intercambiarse porque el valor de la derecha se convierte en una tupla y se asigna al valor de la izquierda.\n"
      ]
    },
    {
      "cell_type": "markdown",
      "metadata": {},
      "source": [
        "####  <FONT COLOR=\"blue\">2. Ordenamiento por burbujas</FONT>"
      ]
    },
    {
      "cell_type": "markdown",
      "metadata": {},
      "source": [
        "##### **2.1. Implementación: Ordenamiento por burbujas**"
      ]
    },
    {
      "cell_type": "markdown",
      "metadata": {},
      "source": [
        "Ordenamiento por burbujas es un algoritmo que intercambia dos elementos adyacentes comprobándolos de la siguiente manera."
      ]
    },
    {
      "cell_type": "code",
      "execution_count": 8,
      "metadata": {},
      "outputs": [],
      "source": [
        "def burbuja(S):\n",
        "    n = len(S)\n",
        "    for i in range(n):\n",
        "        print(S)\n",
        "        for j in range(n - 1):\n",
        "            if S[j] > S[j + 1]:\n",
        "                S[j], S[j + 1] = S[j + 1], S[j]\n",
        "        "
      ]
    },
    {
      "cell_type": "markdown",
      "metadata": {},
      "source": [
        "**Linea 3-7**\n",
        "\n",
        "- Para cada i, los valores de los elementos adyacentes se comparan para el elemento j a la derecha de i.\n",
        "- Si dos elementos adyacentes están fuera de orden, los dos valores se intercambian.\n"
      ]
    },
    {
      "cell_type": "code",
      "execution_count": 9,
      "metadata": {},
      "outputs": [],
      "source": [
        "def burbuja(S):\n",
        "    n = len(S)\n",
        "    for i in range(n):\n",
        "        print(S)\n",
        "        for j in range(n - 1):\n",
        "            if S[j] > S[j + 1]:\n",
        "                S[j], S[j + 1] = S[j + 1], S[j]"
      ]
    },
    {
      "cell_type": "code",
      "execution_count": 10,
      "metadata": {},
      "outputs": [
        {
          "name": "stdout",
          "output_type": "stream",
          "text": [
            "[50, 30, 40, 10, 20]\n",
            "\n",
            "[30, 40, 10, 20, 50]\n",
            "\n",
            "[30, 10, 20, 40, 50]\n",
            "\n",
            "[10, 20, 30, 40, 50]\n",
            "\n",
            "[10, 20, 30, 40, 50]\n",
            "\n",
            "[10, 20, 30, 40, 50]\n"
          ]
        }
      ],
      "source": [
        "S = [50, 30, 40, 10, 20]\n",
        "burbuja(S)\n",
        "print(S)"
      ]
    },
    {
      "cell_type": "markdown",
      "metadata": {},
      "source": [
        "**Linea 4**\n",
        "\n",
        "- Para comprobar el funcionamiento del ordenamiento por burbujas, el estado de S se emite cada vez que se ejecuta el bucle i-ésimo."
      ]
    },
    {
      "cell_type": "markdown",
      "metadata": {},
      "source": [
        "###  <FONT COLOR=\"blue\">3. Ordenamiento por selección</FONT>"
      ]
    },
    {
      "cell_type": "markdown",
      "metadata": {},
      "source": [
        "##### **3.1. Implementación: Ordenamiento por selección sin intercambio**"
      ]
    },
    {
      "cell_type": "markdown",
      "metadata": {},
      "source": [
        "Ordenamiento por selección es un algoritmo que selecciona el valor más pequeño de la lista y lo añade a la lista ordenada de la siguiente manera."
      ]
    },
    {
      "cell_type": "code",
      "execution_count": 16,
      "metadata": {},
      "outputs": [],
      "source": [
        "def selección_de_orden1(S):\n",
        "    R = []\n",
        "    while len(S) > 0:\n",
        "        print(R, S)\n",
        "        mas_pequeño = S.index(min(S))\n",
        "        R.append(S[mas_pequeño])\n",
        "        S.pop(mas_pequeño)\n",
        "    return R"
      ]
    },
    {
      "cell_type": "markdown",
      "metadata": {},
      "source": [
        "**Linea 1-8**\n",
        "\n",
        "- Toma una lista no ordenada S como parámetro de entrada y devuelve una lista ordenada R.\n",
        "- Encuentra el elemento más grande de S, lo elimina, añade el elemento eliminado a R, y repite hasta que S se convierta en una lista vacía"
      ]
    },
    {
      "cell_type": "markdown",
      "metadata": {},
      "source": [
        "#### **3.2. Ejecución del ordenamiento por selección sin intercambio**"
      ]
    },
    {
      "cell_type": "markdown",
      "metadata": {},
      "source": [
        "Comprueba el funcionamiento del algoritmo de ordenamiento por selección. Se añaden a R por orden del elemento más pequeño de S."
      ]
    },
    {
      "cell_type": "code",
      "execution_count": 17,
      "metadata": {},
      "outputs": [],
      "source": [
        "def selección_de_orden1(S):\n",
        "    R = []\n",
        "    while len(S) > 0:\n",
        "        print(R, S)\n",
        "        mas_pequeño = S.index(min(S))\n",
        "        R.append(S[mas_pequeño])\n",
        "        S.pop(mas_pequeño)\n",
        "    return R"
      ]
    },
    {
      "cell_type": "code",
      "execution_count": 18,
      "metadata": {},
      "outputs": [
        {
          "name": "stdout",
          "output_type": "stream",
          "text": [
            "[] [50, 30, 40, 10, 20]\n",
            "\n",
            "[10] [50, 30, 40, 20]\n",
            "\n",
            "[10, 20] [50, 30, 40]\n",
            "\n",
            "[10, 20, 30] [50, 40]\n",
            "\n",
            "[10, 20, 30, 40] [50]\n",
            "\n",
            "[10, 20, 30, 40, 50]\n"
          ]
        }
      ],
      "source": [
        "S = [50, 30, 40, 10, 20]\n",
        "R = selección_de_orden1(S)\n",
        "print(R)"
      ]
    },
    {
      "cell_type": "markdown",
      "metadata": {},
      "source": [
        "**Linea 4**\n",
        "\n",
        "- Para comprobar el funcionamiento del ordenamiento por selección, el estado de S se emite cada vez que se ejecuta el bucle while."
      ]
    },
    {
      "cell_type": "markdown",
      "metadata": {},
      "source": [
        "#### **3.3. Implementación del Ordenamiento por selección en el lugar**"
      ]
    },
    {
      "cell_type": "markdown",
      "metadata": {},
      "source": [
        "Ordenamiento in situ se refiere a un algoritmo de Ordenamiento que ordena a través de una operación de intercambio sin utilizar memoria adicional. El algoritmo selectionsort1() implementado anteriormente utiliza memoria adicional R, por lo que no es una Ordenamiento In-Place.\n",
        "\n",
        "Para implementar el algoritmo de Ordenamiento In-Place para la Ordenamiento por selección, impleméntelo de la siguiente manera usando la operación de intercambio como se mostró anteriormente."
      ]
    },
    {
      "cell_type": "code",
      "execution_count": 19,
      "metadata": {},
      "outputs": [],
      "source": [
        "def selección_de_orden2(S):\n",
        "    n = len(S)\n",
        "    for i in range (n - 1):\n",
        "        print(S)\n",
        "        mas_pequeño = i\n",
        "        for j in range(i + 1, n):\n",
        "            if S[j] < S[mas_pequeño]:\n",
        "                mas_pequeño = j\n",
        "        S[i], S[mas_pequeño] = S[mas_pequeño], S[i]"
      ]
    },
    {
      "cell_type": "markdown",
      "metadata": {},
      "source": [
        "**Linea 1-9**\n",
        "\n",
        "- En la línea 6-8, se encuentra la posición del elemento más pequeño después del elemento i-ésimo.\n",
        "- En la línea 9, se intercambian el elemento i-ésimo y el elemento de la posición más pequeña.\n",
        "- En el bucle for exterior, i se repite desde el primer elemento de la lista hasta el último."
      ]
    },
    {
      "cell_type": "markdown",
      "metadata": {},
      "source": [
        "#### **3.4. Ejecución del Ordenamiento por selección en el lugar**"
      ]
    },
    {
      "cell_type": "markdown",
      "metadata": {},
      "source": [
        "Comprueba el funcionamiento del algoritmo de ordenamiento por selección. Se ordenan en el orden del elemento más pequeño sin utilizar memoria adicional."
      ]
    },
    {
      "cell_type": "code",
      "execution_count": 20,
      "metadata": {},
      "outputs": [],
      "source": [
        "def selección_de_orden2(S):\n",
        "    n = len(S)\n",
        "    for i in range (n - 1):\n",
        "        print(S)\n",
        "        mas_pequeño = i\n",
        "        for j in range(i + 1, n):\n",
        "            if S[j] < S[mas_pequeño]:\n",
        "                mas_pequeño = j\n",
        "        S[i], S[mas_pequeño] = S[mas_pequeño], S[i]"
      ]
    },
    {
      "cell_type": "code",
      "execution_count": 22,
      "metadata": {},
      "outputs": [
        {
          "name": "stdout",
          "output_type": "stream",
          "text": [
            "[50, 30, 40, 10, 20]\n",
            "\n",
            "[10, 30, 40, 50, 20]\n",
            "\n",
            "[10, 20, 40, 50, 30]\n",
            "\n",
            "[10, 20, 30, 50, 40]\n",
            "\n",
            "[10, 20, 30, 40, 50]\n"
          ]
        }
      ],
      "source": [
        "S = [50, 30, 40, 10, 20]\n",
        "selección_de_orden2(S)\n",
        "print(S)"
      ]
    },
    {
      "cell_type": "markdown",
      "metadata": {},
      "source": [
        "**Linea 4**\n",
        "\n",
        "Para comprobar el funcionamiento de la Ordenamiento de la selección, el estado de S se emite cada vez que se ejecuta el bucle i-ésimo."
      ]
    },
    {
      "cell_type": "markdown",
      "metadata": {},
      "source": [
        "###   <FONT COLOR=\"blue\">4. Ordenamiento por inserción</FONT>"
      ]
    },
    {
      "cell_type": "markdown",
      "metadata": {},
      "source": [
        "#### **4.1. Implementación: Ordenamiento por inserción con memoria adicional**"
      ]
    },
    {
      "cell_type": "markdown",
      "metadata": {},
      "source": [
        "Ordenamiento por inserción es un algoritmo de Ordenamiento que añade un nuevo elemento en la posición correcta de la lista ordenada de la siguiente manera."
      ]
    },
    {
      "cell_type": "code",
      "execution_count": 35,
      "metadata": {},
      "outputs": [],
      "source": [
        "def clasificación_por_inserción1(S):\n",
        "    n =  len(S)\n",
        "    R = []\n",
        "    while len(S) > 0:\n",
        "        print(R, S)\n",
        "        x =  S.pop(0)\n",
        "        j = len(R) - 1\n",
        "        while j >=0 and R[j] > x:\n",
        "            j -= 1  \n",
        "        R.insert(j + 1, x)\n",
        "    return R"
      ]
    },
    {
      "cell_type": "markdown",
      "metadata": {},
      "source": [
        "**Linea 1-11**\n",
        "\n",
        "- Toma una lista no ordenada S como parámetro de entrada y devuelve una lista ordenada R.\n",
        "- Se toman los elementos de S uno a uno, se avanza desde el último elemento de R y se añaden a la posición donde se va a insertar el elemento."
      ]
    },
    {
      "cell_type": "markdown",
      "metadata": {},
      "source": [
        "#### **4.2. Ejecución del ordenamiento por inserción con memoria adicional**"
      ]
    },
    {
      "cell_type": "markdown",
      "metadata": {},
      "source": [
        "Comprobar el funcionamiento del algoritmo de Ordenamiento por inserción. Añade elementos de S a R en orden ordenado."
      ]
    },
    {
      "cell_type": "code",
      "execution_count": 36,
      "metadata": {},
      "outputs": [],
      "source": [
        "def clasificación_por_inserción1(S):\n",
        "    n =  len(S)\n",
        "    R = []\n",
        "    while len(S) > 0:\n",
        "        print(R, S)\n",
        "        x = S.pop(0)\n",
        "        j = len(R) - 1\n",
        "        while j >=0 and R[j] > x:\n",
        "            j -= 1  \n",
        "        R.insert(j + 1, x)\n",
        "    return R\n"
      ]
    },
    {
      "cell_type": "code",
      "execution_count": 37,
      "metadata": {},
      "outputs": [
        {
          "name": "stdout",
          "output_type": "stream",
          "text": [
            "[] [50, 30, 40, 10, 20]\n",
            "\n",
            "[50] [30, 40, 10, 20]\n",
            "\n",
            "[30, 50] [40, 10, 20]\n",
            "\n",
            "[30, 40, 50] [10, 20]\n",
            "\n",
            "[10, 30, 40, 50] [20]\n",
            "\n",
            "None\n"
          ]
        }
      ],
      "source": [
        "S = [50, 30, 40, 10, 20]\n",
        "clasificación_por_inserción1(S)\n",
        "print(R)"
      ]
    },
    {
      "cell_type": "markdown",
      "metadata": {},
      "source": [
        "**Linea 5**\n",
        "\n",
        "Para comprobar el funcionamiento del Ordenamiento por inserción, el estado de S se emite cada vez que se ejecuta el bucle while."
      ]
    },
    {
      "cell_type": "markdown",
      "metadata": {},
      "source": [
        "#### **4.3. Implementación: ordenamiento por inserción en el lugar**"
      ]
    },
    {
      "cell_type": "markdown",
      "metadata": {},
      "source": [
        "Para implementar el ordenamiento por inserción como un algoritmo de Ordenamiento in-Place, se puede implementar mientras se mueven los elementos uno a uno, como se mostró anteriormente."
      ]
    },
    {
      "cell_type": "code",
      "execution_count": 39,
      "metadata": {},
      "outputs": [],
      "source": [
        "def clasificación_por_inserción2(S):\n",
        "    n = len(S)\n",
        "    for i in range(1, n):\n",
        "        print(S)\n",
        "        x = S[i]\n",
        "        j = i -1\n",
        "        while j >= 0 and S[j] > x:\n",
        "            S[j + 1] = S[j]\n",
        "            j -= 1\n",
        "        S[j + 1] = x"
      ]
    },
    {
      "cell_type": "markdown",
      "metadata": {},
      "source": [
        "**Linea 1-10**\n",
        "\n",
        "- En la línea 5, el elemento i-ésimo se almacena temporalmente en x.\n",
        "- En la Línea 6-9, se decrementa j mientras se mueve el elemento hasta encontrar un elemento mayor que x, y entonces se almacena x en la posición correspondiente.\n",
        "- En el bucle for exterior, i se repite desde el primer elemento de la lista hasta el último.\n"
      ]
    },
    {
      "cell_type": "markdown",
      "metadata": {},
      "source": [
        "#### **4.4. Ejecución del Ordenamiento por inserción en el lugar**"
      ]
    },
    {
      "cell_type": "markdown",
      "metadata": {},
      "source": [
        "Comprueba el funcionamiento del algoritmo de ordenamiento por inserción. Coloca un elemento de S en su posición correcta por inserción."
      ]
    },
    {
      "cell_type": "code",
      "execution_count": 40,
      "metadata": {},
      "outputs": [],
      "source": [
        "def clasificación_por_inserción2(S):\n",
        "    n = len(S)\n",
        "    for i in range(1, n):\n",
        "        print(S)\n",
        "        x = S[i]\n",
        "        j = i -1\n",
        "        while j >= 0 and S[j] > x:\n",
        "            S[j + 1] = S[j]\n",
        "            j -= 1\n",
        "        S[j + 1] = x"
      ]
    },
    {
      "cell_type": "code",
      "execution_count": 41,
      "metadata": {},
      "outputs": [
        {
          "name": "stdout",
          "output_type": "stream",
          "text": [
            "[50, 30, 40, 10, 20]\n",
            "\n",
            "[30, 50, 40, 10, 20]\n",
            "\n",
            "[30, 40, 50, 10, 20]\n",
            "\n",
            "[10, 30, 40, 50, 20]\n",
            "\n",
            "[10, 20, 30, 40, 50]\n"
          ]
        }
      ],
      "source": [
        "S = [50, 30, 40, 10, 20]\n",
        "clasificación_por_inserción2(S)\n",
        "print(S)"
      ]
    },
    {
      "cell_type": "markdown",
      "metadata": {},
      "source": [
        "**Linea 4**\n",
        "\n",
        "- Para comprobar el funcionamiento del ordenamiento por inserción, el estado de S se emite cada vez que se ejecuta el bucle for i-ésimo."
      ]
    },
    {
      "cell_type": "markdown",
      "metadata": {},
      "source": [
        "💡💡 **Un paso más**\n",
        "\n",
        "- ¿Cuál es la complejidad temporal del algoritmo de Ordenamiento?\n",
        "- El algoritmo de Ordenamiento de burbujas ejecuta un doble bucle for anidado, y el número de comparaciones para cada pasada es N - 1, N - 2, N - 3, ... , 0.\n",
        "- El número de comparaciones en el algoritmo de Ordenamiento de burbujas es T(N) = (N - 1) + (N - 2) + ... + 1 = N(N-1)/2.\n",
        "- La complejidad temporal del algoritmo de Ordenamiento de burbujas es O(N2).\n",
        "- Como la Ordenamiento por selección ejecuta un doble bucle for como la Ordenamiento por burbujas, la complejidad temporal es O(N2) por la misma razón.\n",
        "- En el caso de la Ordenamiento por inserción, el número de comparaciones difiere entre el peor caso y el mejor caso.\n",
        "- El mejor caso es un array ya ordenado. En este caso, la complejidad de tiempo se convierte en O(N) porque la posición de inserción se puede encontrar sólo con una comparación para cada pasada.\n",
        "- El peor caso es una matriz ordenada en orden inverso. En este caso, la complejidad temporal es O(N2) como en la Ordenamiento por burbuja/selección, porque la posición de inserción debe compararse con todos los elementos de la lista ordenada en cada pasada.\n",
        "\n"
      ]
    },
    {
      "cell_type": "markdown",
      "metadata": {},
      "source": [
        "## <FONT COLOR=\"blue\">**Quiz** </FONT>\n",
        "\n",
        "### <FONT COLOR=\"blue\">**Q1.** </FONT>\n"
      ]
    },
    {
      "cell_type": "markdown",
      "metadata": {},
      "source": [
        "#### **¿Cuántas operaciones de intercambio se han ejecutado en el proceso de ordenamiento de burbujas siguiente?**"
      ]
    },
    {
      "cell_type": "code",
      "execution_count": 45,
      "metadata": {},
      "outputs": [],
      "source": [
        "def burbuja(S):\n",
        "    n = len(S)\n",
        "    for i in range(n):\n",
        "        print(S)\n",
        "        for j in range(n -1):\n",
        "            if S[j] > S[j +1]:\n",
        "                S[j], S[j + 1] = S[j + 1], S[j]  #🔵"
      ]
    },
    {
      "cell_type": "code",
      "execution_count": 46,
      "metadata": {},
      "outputs": [
        {
          "name": "stdout",
          "output_type": "stream",
          "text": [
            "[50, 30, 40, 10, 20]\n",
            "\n",
            "[30, 40, 10, 20, 50]\n",
            "\n",
            "[30, 10, 20, 40, 50]\n",
            "\n",
            "[10, 20, 30, 40, 50]\n",
            "\n",
            "[10, 20, 30, 40, 50]\n",
            "\n",
            "[10, 20, 30, 40, 50]\n"
          ]
        }
      ],
      "source": [
        "S = [50, 30, 40, 10, 20]\n",
        "burbuja(S)\n",
        "print(S)"
      ]
    },
    {
      "cell_type": "markdown",
      "metadata": {},
      "source": [
        "### <FONT COLOR=\"blue\">**Q2.** </FONT>"
      ]
    },
    {
      "cell_type": "markdown",
      "metadata": {},
      "source": [
        "#### **¿Cuántas operaciones de comparación se han ejecutado en el proceso de ordenamiento por inserción que se muestra a continuación?**"
      ]
    },
    {
      "cell_type": "code",
      "execution_count": 58,
      "metadata": {},
      "outputs": [],
      "source": [
        "def clasificación_por_inserción2(S):\n",
        "    n = len(S)\n",
        "    for i in range(1, n):\n",
        "        print(S)\n",
        "        x = S[i]\n",
        "        j = i - 1\n",
        "        while j >= 0 and S[j] > x: #🔵\n",
        "            S[j + 1] = S[j]\n",
        "            j -= 1\n",
        "        S[j + 1] = x"
      ]
    },
    {
      "cell_type": "code",
      "execution_count": 59,
      "metadata": {},
      "outputs": [
        {
          "name": "stdout",
          "output_type": "stream",
          "text": [
            "[50, 30, 40, 10, 20]\n",
            "\n",
            "[30, 50, 40, 10, 20]\n",
            "\n",
            "[30, 40, 50, 10, 20]\n",
            "\n",
            "[10, 30, 40, 50, 20]\n",
            "\n",
            "[10, 20, 30, 40, 50]\n"
          ]
        }
      ],
      "source": [
        "S = [50, 30, 40, 10, 20]\n",
        "clasificación_por_inserción2(S)\n",
        "print(S)"
      ]
    },
    {
      "cell_type": "markdown",
      "metadata": {},
      "source": [
        "###  <FONT COLOR=\"blue\">Programación por parejas</FONT>"
      ]
    },
    {
      "cell_type": "markdown",
      "metadata": {},
      "source": [
        "#### <FONT COLOR=\"blue\">**Práctica de programación por parejas** </FONT>"
      ]
    },
    {
      "cell_type": "markdown",
      "metadata": {},
      "source": [
        "**Directriz, mecanismos y plan de contingencia**\n",
        "\n",
        " Preparar la programación por parejas implica establecer pautas y mecanismos para ayudar a los alumnos a emparejarse correctamente y mantenerlos emparejados.  Por ejemplo, los estudiantes deben turnarse para \"conducir el mouse\".  La preparación efectiva requiere planes de contingencia en caso de que uno de los socios se ausente o decida no participar por una u otra razón.  En estos casos, es importante dejar claro que el alumno activo no será sancionado porque el emparejamiento no funcionó bien.\n",
        "\n",
        "**Emparejar habilidades similares, no necesariamente iguales, como socios**\n",
        "\n",
        " La programación en parejas puede ser efectiva cuando los estudiantes con habilidades similares, aunque no necesariamente iguales, se emparejan como compañeros.  El emparejamiento de estudiantes que no coinciden a menudo puede conducir a una participación desequilibrada.  Los maestros deben enfatizar que la programación en parejas no es una estrategia de \"divide y vencerás\", sino más bien un verdadero esfuerzo de colaboración en cada esfuerzo por todo el proyecto.  Los maestros deben evitar emparejar a estudiantes muy débiles con estudiantes muy fuertes.\n",
        "\n",
        "**Motivar a los estudiantes ofreciendo incentivos adicionales**\n",
        "\n",
        " Ofrecer incentivos adicionales puede ayudar a motivar a los estudiantes a emparejarse, especialmente con estudiantes avanzados.  A algunos maestros les ha resultado útil pedirles a los estudiantes que se emparejen solo para una o dos tareas.\n",
        "\n",
        "**Evitar trampas en la colaboración**\n",
        "\n",
        " El desafío para el maestro es encontrar formas de evaluar los resultados individuales, mientras aprovecha los beneficios de la colaboración.  ¿Cómo saber si un estudiante aprendió o hizo trampa?  Los expertos recomiendan revisar el diseño y la evaluación del curso, así como discutir explícita y concretamente con los estudiantes los comportamientos que se interpretarán como trampa.  Los expertos alientan a los maestros a hacer que las tareas sean significativas para los estudiantes y a explicar el valor de lo que los estudiantes aprenderán al completarlas.\n",
        "\n",
        "**Entorno de aprendizaje colaborativo**\n",
        "\n",
        " Un entorno de aprendizaje colaborativo ocurre cada vez que un instructor requiere que los estudiantes trabajen juntos en actividades de aprendizaje.  Los entornos de aprendizaje colaborativo pueden implicar actividades tanto formales como informales y pueden incluir o no una evaluación directa.  Por ejemplo, parejas de estudiantes trabajan en asignaciones de programación;  pequeños grupos de estudiantes discuten posibles respuestas a la pregunta de un profesor durante la lección;  y los estudiantes trabajan juntos fuera de clase para aprender nuevos conceptos.  El aprendizaje colaborativo es distinto de los proyectos en los que los estudiantes \"dividen y vencerán\".  Cuando los estudiantes dividen el trabajo, cada uno es responsable de solo una parte de la resolución del problema y hay oportunidades muy limitadas para resolver los problemas con los demás.  En entornos colaborativos, los estudiantes participan en conversaciones intelectuales entre ellos."
      ]
    },
    {
      "cell_type": "markdown",
      "metadata": {},
      "source": [
        "###  <FONT COLOR=\"blue\">**Q1.**</FONT>"
      ]
    },
    {
      "cell_type": "markdown",
      "metadata": {},
      "source": [
        "Dadas dos palabras, escribe un algoritmo que determine si estas dos cadenas son anagramas.\n",
        "Un anagrama es una palabra que se forma reordenando las letras de otra palabra utilizando todas las letras originales exactamente una vez. (Por ejemplo, \"ESCUCHAR\" y \"SILENCIO\" son anagramas).\n",
        "\n",
        "<div align=\"center\"><img src=\"https://github.com/Repositorio17092022/RepositorioiImagenes/blob/main/unidad27/imagen71.PNG?raw=true\"  width= \"400px\" /></div>"
      ]
    },
    {
      "cell_type": "markdown",
      "metadata": {},
      "source": [
        "###  <FONT COLOR=\"blue\">**Q2.**</FONT>"
      ]
    },
    {
      "cell_type": "markdown",
      "metadata": {},
      "source": [
        "El uso de un algoritmo de clasificación permite determinar fácilmente si se trata de un anagrama o no.\n",
        "\n",
        "- Cree una función que evalúe los anagramas utilizando la función sorted() incorporada de Python.\n",
        "- Modificar la función selection_sort2() para crear una función que determine los anagramas.\n",
        "- Modificar la función insertion_sort2() para crear una función que determine el anagrama.\n",
        "\n",
        "\n",
        "<div align=\"center\"><img src=\"https://github.com/Repositorio17092022/RepositorioiImagenes/blob/main/unidad27/imagen72.PNG?raw=true\"  width= \"400px\" /></div>"
      ]
    }
  ],
  "metadata": {
    "kernelspec": {
      "display_name": "Python 3.9.13 64-bit (microsoft store)",
      "language": "python",
      "name": "python3"
    },
    "language_info": {
      "codemirror_mode": {
        "name": "python",
        "version": 3
      },
      "file_extension": ".py",
      "mimetype": "text/x-python",
      "name": "python",
      "nbconvert_exporter": "python",
      "pygments_lexer": "ipython3",
      "version": "3.9.13"
    },
    "vscode": {
      "interpreter": {
        "hash": "d6ff7cb00638fb92356a42c28981a177178b7e1976aa8ecd498ce1508ea8d5e4"
      }
    }
  },
  "nbformat": 4,
  "nbformat_minor": 4
}
