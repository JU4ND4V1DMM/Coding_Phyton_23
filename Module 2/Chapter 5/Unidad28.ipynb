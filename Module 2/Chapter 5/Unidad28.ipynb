{
  "cells": [
    {
      "cell_type": "markdown",
      "metadata": {},
      "source": [
        "# <FONT COLOR=\"blue\"> **Samsung Innovation Campus**</FONT>  \n",
        "\n",
        "# <FONT COLOR=\"blue\">**Codificación y Programación**</FONT>\n",
        "\n",
        "# **Capítulo 5: Algoritmos 2 - Algoritmos de Ordenamiento**\n",
        "\n",
        "# Objetivos del capítulo\n",
        "\n",
        "- Los alumnos pueden entender los problemas de ordenamiento y resolverlos utilizando los métodos de ordenamiento de burbuja, ordenamiento de selección, ordenamiento de inserción, ordenamiento por mezcla y ordenamiento rápido. Además, el algoritmo de ordenamiento puede implementarse en Python, y el alumno puede comprender y comparar la complejidad temporal de cada método de ordenamiento.\n",
        "\n",
        "# Contenido del capítulo\n",
        "\n",
        "* Unidad 27. Ordenamiento por burbuja, selección e inserción\n",
        "* Unidad 28. Ordenamiento por mezcla (Merge Sort)\n",
        "* Unidad 29. Ordenamiento rápido (Quick Sort)\n"
      ]
    },
    {
      "cell_type": "markdown",
      "metadata": {},
      "source": [
        "# **Unidad 28. Ordenamiento por mezcla (Merge Sort)**\n",
        "\n"
      ]
    },
    {
      "cell_type": "markdown",
      "metadata": {},
      "source": [
        "# Objetivos de aprendizaje\n",
        "- Comprender el algoritmo de ordenamiento por mezcla y ser capaz de resolver problemas de ordenamiento utilizando el ordenamiento por mezcla.\n",
        "- Comprender y ser capaz de explicar la diferencia entre ordenamiento por mezcla, ordenamiento por burbuja, ordenamiento por selección y ordenamiento por inserción.\n",
        "- Entender y ser capaz de explicar la complejidad temporal del ordenamiento por mezcla\n",
        "\n",
        "# Resumen de aprendizaje\n",
        "- Implementar el ordenamiento por mezcla que divide la lista no ordenada dada, ordena cada una de ellas y las vuelve a unir.\n",
        "- Implementar una función que convierta dos listas ordenadas en una lista ordenada para el ordenamiento por mezcla.\n",
        "- Comprender que el algoritmo de ordenamiento por mezcla es un divide y vencerás que utiliza funciones recursivas.\n",
        "\n",
        "\n",
        "#  Conceptos que necesitará conocer de las unidades anteriores\n",
        "- Uso de operadores de comparación para comparar dos números.\n",
        "- Dividir el problema dado y realizar llamadas recursivas a la función.\n",
        "- Aplicar la notación Big O para analizar la complejidad temporal de un algoritmo.\n",
        "\n",
        "**Palabras clave**\n",
        "\n",
        "<table>\n",
        "<tr>\n",
        "  <td><strong>Problema de ordenamiento</strong></td>\n",
        "<tr>\n",
        "  <td><strong>ordenamiento por mezcla</strong></td>\n",
        "<tr>\n",
        "<tr>\n",
        "  <td><strong>Combinar</strong></td>\n",
        "<tr>\n",
        "</table>"
      ]
    },
    {
      "cell_type": "markdown",
      "metadata": {},
      "source": [
        "##  <FONT COLOR=\"blue\">Misión</FONT>"
      ]
    },
    {
      "cell_type": "markdown",
      "metadata": {},
      "source": [
        "###  <FONT COLOR=\"blue\">1. Problema del mundo real</FONT>"
      ]
    },
    {
      "cell_type": "markdown",
      "metadata": {},
      "source": [
        "#### **1.1 El problema de mezcla**"
      ]
    },
    {
      "cell_type": "markdown",
      "metadata": {},
      "source": [
        "En la unidad anterior, hemos estudiado los algoritmos de ordenamiento O(N2). ¿Podemos crear un algoritmo de ordenamiento más eficiente que éstos?\n",
        "\n",
        "- 🔵 Supongamos que nos dan 4 canicas de hierro azules y 4 verdes como las que se muestran a continuación. Estas canicas de hierro tienen la misma forma y tamaño, pero tienen pesos diferentes. Sin embargo, si estas canicas de hierro se disponen en orden ascendente de peso como se muestra a continuación, ¿cómo se puede ordenar el conjunto?\n",
        "\n",
        "<div align=\"center\"><img src=\"https://github.com/Repositorio17092022/RepositorioiImagenes/blob/main/unidad28/imagen78.PNG?raw=true\"  width= \"500px\" /></div>"
      ]
    },
    {
      "cell_type": "markdown",
      "metadata": {},
      "source": [
        "###  <FONT COLOR=\"blue\">2. Misión</FONT>"
      ]
    },
    {
      "cell_type": "markdown",
      "metadata": {},
      "source": [
        "#### **2.1. Fusión de dos listas ordenadas**"
      ]
    },
    {
      "cell_type": "markdown",
      "metadata": {},
      "source": [
        "Utilice la balanza. La balanza puede realizar las siguientes operaciones:\n",
        "\n",
        "- Tomar la canica más ligera de dos barriles de canicas de hierro y compararlas.\n",
        "- La más ligera de las dos canicas de hierro puede colocarse en un nuevo barril de canicas de hierro\n",
        "\n",
        "Sabiendo que los dos barriles ya contienen canicas clasificadas, podemos comparar las dos canicas de menor peso de cada uno de los dos barriles y tomar una estrategia para colocarlas en un nuevo barril.\n",
        "\n",
        "Con esta estrategia, ¿cuántas comparaciones serían necesarias para colocar todas las canicas ordenadas por peso?\n",
        "\n",
        "<div align=\"center\"><img src=\"https://github.com/Repositorio17092022/RepositorioiImagenes/blob/main/unidad28/imagen79.PNG?raw=true\"  width= \"500px\" /></div>"
      ]
    },
    {
      "cell_type": "markdown",
      "metadata": {},
      "source": [
        "## <FONT COLOR=\"blue\"> Concepto clave </FONT>"
      ]
    },
    {
      "cell_type": "markdown",
      "metadata": {},
      "source": [
        "### <FONT COLOR=\"blue\"> 1. Ordenamiento por mezcla  </FONT>  "
      ]
    },
    {
      "cell_type": "markdown",
      "metadata": {},
      "source": [
        "\n",
        "#### **1.1. Un ejemplo de Ordenamiento por mezcla**\n",
        "\n"
      ]
    },
    {
      "cell_type": "markdown",
      "metadata": {},
      "source": [
        "La Ordenamiento por mezcla es un algoritmo de ordenamiento que divide una lista sin ordenar en dos sublistas, las ordena y luego las fusiona en una lista ordenada. \n",
        "\n",
        "🔵 Supongamos que queremos ordenar una lista dispuesta en el orden de [27, 10, 12, 20, 25, 13, 15, 22] de la siguiente manera.\n",
        "\n",
        "<div align=\"center\"><img src=\"https://github.com/Repositorio17092022/RepositorioiImagenes/blob/main/unidad28/imagen81.PNG?raw=true\"  width= \"500px\" /></div>\n",
        " "
      ]
    },
    {
      "cell_type": "markdown",
      "metadata": {},
      "source": [
        "Primero, divide 8 elementos entre dos para obtener 4 elementos cada uno. Si esta lista dividida está en un estado ordenado, se pueden fusionar las dos listas divididas en un estado ordenado de nuevo. Tenemos que ordenar recursivamente la lista dividida.\n",
        "\n",
        "\n",
        "<div align=\"center\"><img src=\"https://github.com/Repositorio17092022/RepositorioiImagenes/blob/main/unidad28/imagen82.png?raw=true\"  width= \"550px\" /></div>\n",
        "\n",
        "Una lista no ordenada dividida en dos puede ser dividida en dos y fusionada en una lista ordenada. Dado que la lista dividida aún no está ordenada, la llamada recursiva continúa.\n",
        "\n",
        "<div align=\"center\"><img src=\"https://github.com/Repositorio17092022/RepositorioiImagenes/blob/main/unidad28/imagen83.png?raw=true\"  width= \"550px\" /></div>\n",
        "\n",
        "dividir una lista de dos elementos da como resultado una lista de un elemento. En este caso, dado que una lista con un elemento es una lista ordenada, las listas pueden volver a fusionarse en un estado ordenado.\n",
        "\n",
        "<div align=\"center\"><img src=\"https://github.com/Repositorio17092022/RepositorioiImagenes/blob/main/unidad28/imagen84.png?raw=true\"  width= \"750px\" /></div>\n",
        "\n",
        "La fusión de listas de un elemento crea una lista ordenada de dos elementos.\n",
        "\n",
        "<div align=\"center\"><img src=\"https://github.com/Repositorio17092022/RepositorioiImagenes/blob/main/unidad28/imagen85.png?raw=true\"  width= \"750px\" /></div>\n",
        "\n",
        "La fusión de listas de dos elementos crea una lista ordenada de cuatro elementos\n",
        "\n",
        "<div align=\"center\"><img src=\"https://github.com/Repositorio17092022/RepositorioiImagenes/blob/main/unidad28/imagen86.png?raw=true\"  width= \"650px\" /></div>\n",
        "\n",
        "La fusión de una lista de cuatro elementos crea una lista ordenada de ocho elementos.\n",
        "\n",
        "<div align=\"center\"><img src=\"https://github.com/Repositorio17092022/RepositorioiImagenes/blob/main/unidad28/imagen87.png?raw=true\"  width= \"550px\" /></div>"
      ]
    },
    {
      "cell_type": "markdown",
      "metadata": {},
      "source": [
        "#### **1.2 Fusión de dos listas ordenadas**"
      ]
    },
    {
      "cell_type": "markdown",
      "metadata": {},
      "source": [
        "Encuentra un método para fusionar dos listas ordenadas en una lista ordenada. Utiliza una balanza.\n",
        "\n",
        "<div align=\"center\"><img src=\"https://github.com/Repositorio17092022/RepositorioiImagenes/blob/main/unidad28/imagen88.png?raw=true\"  width= \"550px\" /></div>\n",
        "\n",
        "En primer lugar, se toma el elemento más pequeño de las dos listas ordenadas de una en una y se comparan. En este caso, como el 10 es menor que el 13, el 10 se añade primero a la lista ordenada\n",
        "\n",
        "<div align=\"center\"><img src=\"https://github.com/Repositorio17092022/RepositorioiImagenes/blob/main/unidad28/imagen89.png?raw=true\"  width= \"550px\" /></div>\n",
        "\n",
        "Elimina el elemento enviado a la lista ordenada y compara el siguiente elemento. Como 12 es menor que 13, 12 se añade a la lista ordenada.\n",
        "\n",
        "1.\n",
        "\n",
        "<div align=\"center\"><img src=\"https://github.com/Repositorio17092022/RepositorioiImagenes/blob/main/unidad28/imagen90.png?raw=true\"  width= \"550px\" /></div>\n",
        "\n",
        "2.\n",
        "\n",
        "<div align=\"center\"><img src=\"https://github.com/Repositorio17092022/RepositorioiImagenes/blob/main/unidad28/imagen91.png?raw=true\"  width= \"550px\" /></div>\n",
        "\n",
        "3.\n",
        "\n",
        "<div align=\"center\"><img src=\"https://github.com/Repositorio17092022/RepositorioiImagenes/blob/main/unidad28/imagen92.png?raw=true\"  width= \"550px\" /></div>\n",
        "\n",
        "4.\n",
        "\n",
        "<div align=\"center\"><img src=\"https://github.com/Repositorio17092022/RepositorioiImagenes/blob/main/unidad28/imagen93.png?raw=true\"  width= \"550px\" /></div>\n",
        "\n",
        "5.\n",
        "\n",
        "<div align=\"center\"><img src=\"https://github.com/Repositorio17092022/RepositorioiImagenes/blob/main/unidad28/imagen94.png?raw=true\"  width= \"550px\" /></div>\n",
        "\n",
        "6.\n",
        "\n",
        "<div align=\"center\"><img src=\"https://github.com/Repositorio17092022/RepositorioiImagenes/blob/main/unidad28/imagen95.png?raw=true\"  width= \"550px\" /></div>\n",
        "\n",
        "Si una de las dos listas está vacía, todos los elementos de la otra lista se añaden a la lista ordenada por orden\n",
        "\n",
        "<div align=\"center\"><img src=\"https://github.com/Repositorio17092022/RepositorioiImagenes/blob/main/unidad28/imagen96.png?raw=true\"  width= \"550px\" /></div>\n"
      ]
    },
    {
      "cell_type": "markdown",
      "metadata": {},
      "source": [
        "## <FONT COLOR=\"blue\"> Vamos a codificar </FONT>"
      ]
    },
    {
      "cell_type": "markdown",
      "metadata": {},
      "source": [
        "### <FONT COLOR=\"blue\"> 1. Implementación: ordenamiento por mezcla con memoria adicional. </FONT>"
      ]
    },
    {
      "cell_type": "markdown",
      "metadata": {},
      "source": [
        "#### **1.1. Ordenamiento por mezcla mediante el enfoque de \"divide y vencerás\".**"
      ]
    },
    {
      "cell_type": "markdown",
      "metadata": {},
      "source": [
        "Una forma sencilla de implementar el merge sort es conquistar una lista dada dividiéndola en dos listas. Este método de diseño de algoritmos se llama dividir-y-conquistar, y lo estudiaremos de nuevo en la Unidad 31."
      ]
    },
    {
      "cell_type": "code",
      "execution_count": 1,
      "metadata": {},
      "outputs": [],
      "source": [
        "def ordenamiento_fusion1(S):\n",
        "    n = len(S)\n",
        "    if n>1:\n",
        "        print(S)\n",
        "        media = n // 2\n",
        "        L, R = S[:media], S[media:]\n",
        "        ordenamiento_fusion1(L)\n",
        "        ordenamiento_fusion1(R)\n",
        "        fusion1(S, L, R)"
      ]
    },
    {
      "cell_type": "markdown",
      "metadata": {},
      "source": [
        "**Línea 1-3**\n",
        "\n",
        "- Merge sort conquista una S dada dividiéndola en dos listas si el tamaño de S es mayor que 1.\n",
        "- Si el tamaño de la S dada es 1 o menos, la ordenamiento puede terminar porque ya ha sido ordenada\n"
      ]
    },
    {
      "cell_type": "markdown",
      "metadata": {},
      "source": [
        "Si el tamaño dado de S es mayor que 1, se divide en dos listas, se ordena en dos listas y se fusiona en una lista."
      ]
    },
    {
      "cell_type": "code",
      "execution_count": null,
      "metadata": {},
      "outputs": [],
      "source": [
        "def ordenamiento_fusion1(S):\n",
        "    n = len(S)\n",
        "    if n>1:\n",
        "        print(S)\n",
        "        media = n // 2\n",
        "        L, R = S[:media], S[media:]\n",
        "        ordenamiento_fusion1(L)\n",
        "        ordenamiento_fusion1(R)\n",
        "        fusion1(S, L, R)"
      ]
    },
    {
      "cell_type": "markdown",
      "metadata": {},
      "source": [
        "**línea 5-8**\n",
        "\n",
        "- Para dividir una S dada en dos, después de encontrar el valor medio, se divide en dos listas, L y R. En este momento, es necesario notar que la lista S se crea como una lista separada para L y R a través de la división.\n",
        "- Las listas L y R creadas por separado se ordenan por separado mediante llamadas recursivas"
      ]
    },
    {
      "cell_type": "markdown",
      "metadata": {},
      "source": [
        "Si L y R son listas ordenadas, podemos fusionar estas dos listas en S ordenada."
      ]
    },
    {
      "cell_type": "code",
      "execution_count": 3,
      "metadata": {},
      "outputs": [],
      "source": [
        "def ordenamiento_fusion1(S):\n",
        "    n = len(S)\n",
        "    if n>1:\n",
        "        print(S)\n",
        "        media = n // 2\n",
        "        L, R = S[:media], S[media:]\n",
        "        ordenamiento_fusion1(L)\n",
        "        ordenamiento_fusion1(R)\n",
        "        fusion1(S, L, R)"
      ]
    },
    {
      "cell_type": "markdown",
      "metadata": {},
      "source": [
        "**Línea 9**\n",
        "- Combinar L y R para crear una lista ordenada S"
      ]
    },
    {
      "cell_type": "markdown",
      "metadata": {},
      "source": [
        "#### **1.2. Combinar dos listas ordenadas en una lista ordenada.**"
      ]
    },
    {
      "cell_type": "markdown",
      "metadata": {},
      "source": [
        "La función merge1() crea una lista ordenada S fusionando L y R, que son listas ordenadas, respectivamente."
      ]
    },
    {
      "cell_type": "code",
      "execution_count": 2,
      "metadata": {},
      "outputs": [],
      "source": [
        "def fusion1(S, L, R):\n",
        "    k = 0\n",
        "    while len(L)>0 and len(R)>0:\n",
        "        if L[0] <= R[0]:\n",
        "            S[k] = L.pop(0)\n",
        "        else:\n",
        "            S[k] = R.pop(0)\n",
        "        k += 1\n",
        "    while len(L) != 0:\n",
        "        S[k] = L.pop(0)\n",
        "        k += 1\n",
        "    while len(R) != 0:\n",
        "        S[k] = R.pop(0)\n",
        "        k += 1   "
      ]
    },
    {
      "cell_type": "markdown",
      "metadata": {},
      "source": [
        "**Linea 2-8**\n",
        "\n",
        "- Al aumentar el índice de k, el menor de los primeros elementos de L y R se almacena como el k-ésimo elemento de S.\n",
        "\n",
        "**Linea 9-11**\n",
        "\n",
        "- Al salir del bucle while de la línea 3-8, una de las dos listas L y R ha procesado todos los elementos.\n",
        "- Si la longitud de L es distinta de cero, todos los elementos restantes de L pueden añadirse a S.\n",
        "\n",
        "**Linea 12-14**\n",
        "\n",
        "- Si la longitud de la lista R es distinta de cero, se procesa todo L y sólo queda R sin procesar.\n",
        "Todos los elementos restantes de R deben añadirse a S.\n",
        "\n"
      ]
    },
    {
      "cell_type": "markdown",
      "metadata": {},
      "source": [
        "#### **1.3. Ejecución del ordenamiento por mezcla**\n"
      ]
    },
    {
      "cell_type": "markdown",
      "metadata": {},
      "source": [
        "Una vez aplicado el ejemplo utilizado anteriormente a la función mergesort1(), el resultado es el siguiente"
      ]
    },
    {
      "cell_type": "code",
      "execution_count": 4,
      "metadata": {},
      "outputs": [
        {
          "name": "stdout",
          "output_type": "stream",
          "text": [
            "[27, 10, 12, 20, 25, 13, 15, 22]\n",
            "[27, 10, 12, 20]\n",
            "[27, 10]\n",
            "[12, 20]\n",
            "[25, 13, 15, 22]\n",
            "[25, 13]\n",
            "[15, 22]\n",
            "[10, 12, 13, 15, 20, 22, 25, 27]\n"
          ]
        }
      ],
      "source": [
        "S = [27, 10, 12, 20, 25, 13, 15, 22]\n",
        "ordenamiento_fusion1(S)\n",
        "print(S)"
      ]
    },
    {
      "cell_type": "markdown",
      "metadata": {},
      "source": [
        "**Líneas 1 a 3**\n",
        "\n",
        "- La S dada por print(S) se imprime en la 4ª línea de la función mergesort1().\n",
        "- La salida S de la línea 3 es el resultado ordenado después de ejecutar la función mergesort1().\n"
      ]
    },
    {
      "cell_type": "markdown",
      "metadata": {},
      "source": [
        "**<h4>💡 Un paso más</h4>**\n",
        "\n",
        "¿Cuánta memoria utiliza adicionalmente la función mergesort1()? <br> \n",
        "\n",
        "La función mergesort1() crea nuevas listas L y R cada vez que se llama a la función. Si se suma el tamaño de estas dos listas, se convierte en el mismo tamaño de la S pasada originalmente en la llamada. <br>\n",
        "\n",
        "Como la llamada recursiva se realiza para L y R respectivamente, el tamaño de las dos listas en cada llamada recursiva es aproximadamente la mitad del tamaño de la llamada anterior. Por lo tanto, el tamaño de la lista utilizada adicionalmente es el siguiente.\n",
        "\n",
        "$$ N + \\frac{N}{2} + \\frac{N}{2^2} + ... + \\frac{N}{2^k} = 2N$$\n",
        "\n",
        "- La función mergesort1() debe utilizar una memoria adicional de tamaño 2N que es el doble del tamaño N de un S dado.\n",
        "- Este algoritmo puede modificarse para utilizar sólo N de memoria adicional.\n"
      ]
    },
    {
      "cell_type": "markdown",
      "metadata": {},
      "source": [
        "### <FONT COLOR=\"blue\"> 2. Implementación: ordenamiento por mezcla de forma más eficiente. </FONT>"
      ]
    },
    {
      "cell_type": "markdown",
      "metadata": {},
      "source": [
        "#### **2.1. Mejora del ordenamiento por mezcla**"
      ]
    },
    {
      "cell_type": "markdown",
      "metadata": {},
      "source": [
        "La función mergesort2() ordena S especificando los rangos de bajos y altos en lugar de dividir S en L y R"
      ]
    },
    {
      "cell_type": "code",
      "execution_count": 5,
      "metadata": {},
      "outputs": [],
      "source": [
        "def ordenamiento_fusion2(S, low, high):\n",
        "    if low < high:\n",
        "        print(S)\n",
        "        mid = (low + high) // 2\n",
        "        ordenamiento_fusion2(S, low, mid)\n",
        "        ordenamiento_fusion2(S, mid + 1, high)\n",
        "        fusion2(S, low, mid, high)"
      ]
    },
    {
      "cell_type": "markdown",
      "metadata": {},
      "source": [
        "**Línea 1-3**\n",
        "\n",
        "- Para un S dado, recibe los índices de low y high como parámetros de entrada.\n",
        "- Sólo se realiza una llamada recursiva si low es menor que high, en caso contrario, se termina la ordenamiento"
      ]
    },
    {
      "cell_type": "markdown",
      "metadata": {},
      "source": [
        "**Línea 4-7**\n",
        "\n",
        "- Para dividir y conquistar los elementos en los rangos bajo y alto, se hace una llamada recursiva basada en mid.\n",
        "- La función merge2() fusiona dos elementos ordenados en uno basado en mid.\n"
      ]
    },
    {
      "cell_type": "markdown",
      "metadata": {},
      "source": [
        "#### **2.2. Fusión de dos listas ordenadas para ordenamiento por mezcla mejorado**\n"
      ]
    },
    {
      "cell_type": "markdown",
      "metadata": {},
      "source": [
        "La función merge2() hace que los elementos se ordenen de izquierda a derecha en rangos bajos y altos basados en el medio."
      ]
    },
    {
      "cell_type": "code",
      "execution_count": 6,
      "metadata": {},
      "outputs": [],
      "source": [
        "def fusion2(S, low, mid, high):\n",
        "    R = []\n",
        "    i, j = low, mid + 1\n",
        "    while i <= mid and j <= high:\n",
        "        if S[i] < S[j]:\n",
        "            R.append(S[i]); i += 1\n",
        "        else:\n",
        "            R.append(S[j]); j += 1\n",
        "    if i > mid:\n",
        "        for k in range(j, high + 1):\n",
        "            R.append(S[j])\n",
        "    else:\n",
        "        for k in range(i, mid + 1):\n",
        "            R.append(S[i])\n",
        "    for k in range(len(R)):\n",
        "        S[low + k] = R[k]"
      ]
    },
    {
      "cell_type": "markdown",
      "metadata": {},
      "source": [
        "**Linea 2-8**\n",
        "\n",
        "- Añade los elementos ordenados a una nueva lista llamada R, empezando por i y j en la parte baja y media+1, respectivamente.\n",
        "- Hay que tener en cuenta que los elementos anteriores a mid y posteriores a mid+1 son elementos ordenados, respectivamente.\n"
      ]
    },
    {
      "cell_type": "markdown",
      "metadata": {},
      "source": [
        "**Linea 9-11**\n",
        "\n",
        "- Al salir del bucle while de la línea 3-8, o bien i será mayor que mid o bien j será mayor que high, dependiendo de la condición de la línea 4.\n",
        "- Si i es mayor que mid, los elementos restantes deben añadirse a R hasta que el índice de j sea high.\n"
      ]
    },
    {
      "cell_type": "markdown",
      "metadata": {},
      "source": [
        "**Linea 12-14**\n",
        "\n",
        "- Al salir del bucle while de la línea 3-8, o bien i será mayor que mid o bien j será mayor que high, dependiendo de la condición de la línea 4.\n",
        "- Si i no es mayor que mid, los elementos restantes deben añadirse a R hasta que el índice de i sea mid."
      ]
    },
    {
      "cell_type": "markdown",
      "metadata": {},
      "source": [
        "**Linea 15-16**\n",
        "\n",
        "- En la línea 15, se almacena en la lista R una única lista ordenada de menor a mayor.\n",
        "- Todos los elementos de bajo a alto de S se copian a los elementos de la lista R.\n"
      ]
    },
    {
      "cell_type": "markdown",
      "metadata": {},
      "source": [
        "#### **2.3. Ejecución del ordenamiento por mezcla mejorado**"
      ]
    },
    {
      "cell_type": "markdown",
      "metadata": {},
      "source": [
        "Una vez aplicado el ejemplo utilizado anteriormente a la función mergesort2(), la salida es la siguiente."
      ]
    },
    {
      "cell_type": "code",
      "execution_count": 7,
      "metadata": {},
      "outputs": [
        {
          "name": "stdout",
          "output_type": "stream",
          "text": [
            "[27, 10, 12, 20, 25, 13, 15, 22]\n",
            "[27, 10, 12, 20, 25, 13, 15, 22]\n",
            "[27, 10, 12, 20, 25, 13, 15, 22]\n",
            "[10, 27, 12, 20, 25, 13, 15, 22]\n",
            "[10, 12, 20, 27, 25, 13, 15, 22]\n",
            "[10, 12, 20, 27, 25, 13, 15, 22]\n",
            "[10, 12, 20, 27, 13, 25, 15, 22]\n",
            "[10, 12, 13, 15, 20, 22, 25, 27]\n"
          ]
        }
      ],
      "source": [
        "S = [27, 10, 12, 20, 25, 13, 15, 22]\n",
        "ordenamiento_fusion2(S, 0, len(S)-1)\n",
        "print(S)"
      ]
    },
    {
      "cell_type": "markdown",
      "metadata": {},
      "source": [
        "**líneas 1-3**\n",
        "\n",
        "- La S dada por print(S) se imprime en la tercera línea de la función mergesort2().\n",
        "- La salida S de la línea 3 es el resultado ordenado tras la ejecución de la función mergesort2().\n",
        "Cabe destacar que el tamaño de S no cambia, a diferencia de la salida de la función mergesort1()."
      ]
    },
    {
      "cell_type": "markdown",
      "metadata": {},
      "source": [
        "## <FONT COLOR=\"blue\">**Quiz** </FONT>\n",
        "\n",
        "### <FONT COLOR=\"blue\">**Q1.** </FONT>\n"
      ]
    },
    {
      "cell_type": "markdown",
      "metadata": {},
      "source": [
        "\n",
        "<table>\n",
        "<tr>\n",
        "  <td><strong> ¿Cuántas veces se ejecutó la función ordenamiento_fusion2() en el proceso de ordenamiento por mezcla que se muestra a continuación? </strong></td>\n",
        "<tr>\n",
        "</table>"
      ]
    },
    {
      "cell_type": "code",
      "execution_count": null,
      "metadata": {},
      "outputs": [],
      "source": [
        "S = [6, 2, 11, 7, 5, 4, 8, 16, 10, 3]\n",
        "ordenamiento_fusion2(S, 0, len(S)-1)\n",
        "print(S)"
      ]
    },
    {
      "cell_type": "code",
      "execution_count": null,
      "metadata": {},
      "outputs": [],
      "source": [
        "S = [6, 2, 11, 7, 5, 4, 8, 16, 10, 3, 1, 12, 9]\n",
        "ordenamiento_fusion2(S, 0, len(S)-1)\n",
        "print(S)"
      ]
    },
    {
      "cell_type": "markdown",
      "metadata": {},
      "source": [
        "## <FONT COLOR=\"blue\">Programación por parejas </FONT>\n",
        "\n",
        "### <FONT COLOR=\"blue\">Práctica de la programación en parejas </FONT>\n",
        "\n",
        "\n",
        "**Directriz, mecanismos y plan de contingencia**\n",
        "\n",
        " Preparar la programación por parejas implica establecer pautas y mecanismos para ayudar a los alumnos a emparejarse correctamente y mantenerlos emparejados.  Por ejemplo, los estudiantes deben turnarse para \"conducir el mouse\".  La preparación efectiva requiere planes de contingencia en caso de que uno de los socios se ausente o decida no participar por una u otra razón.  En estos casos, es importante dejar claro que el alumno activo no será sancionado porque el emparejamiento no funcionó bien.\n",
        " \n",
        "**Emparejar habilidades similares, no necesariamente iguales, como socios**\n",
        "\n",
        " La programación en parejas puede ser efectiva cuando los estudiantes con habilidades similares, aunque no necesariamente iguales, se emparejan como compañeros.  El emparejamiento de estudiantes que no coinciden a menudo puede conducir a una participación desequilibrada.  Los maestros deben enfatizar que la programación en parejas no es una estrategia de \"divide y vencerás\", sino más bien un verdadero esfuerzo de colaboración en cada esfuerzo por todo el proyecto.  Los maestros deben evitar emparejar a estudiantes muy débiles con estudiantes muy fuertes.\n",
        "\n",
        "**Motivar a los estudiantes ofreciendo incentivos adicionales**\n",
        "\n",
        " Ofrecer incentivos adicionales puede ayudar a motivar a los estudiantes a emparejarse, especialmente con estudiantes avanzados.  A algunos maestros les ha resultado útil pedirles a los estudiantes que se emparejen solo para una o dos tareas.\n",
        "\n",
        "**Evitar trampas en la colaboración**\n",
        "\n",
        " El desafío para el maestro es encontrar formas de evaluar los resultados individuales, mientras aprovecha los beneficios de la colaboración.  ¿Cómo saber si un estudiante aprendió o hizo trampa?  Los expertos recomiendan revisar el diseño y la evaluación del curso, así como discutir explícita y concretamente con los estudiantes los comportamientos que se interpretarán como trampa.  Los expertos alientan a los maestros a hacer que las tareas sean significativas para los estudiantes y a explicar el valor de lo que los estudiantes aprenderán al completarlas.\n",
        "\n",
        "**Entorno de aprendizaje colaborativo**\n",
        "\n",
        " Un entorno de aprendizaje colaborativo ocurre cada vez que un instructor requiere que los estudiantes trabajen juntos en actividades de aprendizaje.  Los entornos de aprendizaje colaborativo pueden implicar actividades tanto formales como informales y pueden incluir o no una evaluación directa.  Por ejemplo, parejas de estudiantes trabajan en asignaciones de programación; pequeños grupos de estudiantes discuten posibles respuestas a la pregunta de un profesor durante la lección; y los estudiantes trabajan juntos fuera de clase para aprender nuevos conceptos.  El aprendizaje colaborativo es distinto de los proyectos en los que los estudiantes \"dividen y vencerán\".  Cuando los estudiantes dividen el trabajo, cada uno es responsable de solo una parte de la resolución del problema y hay oportunidades muy limitadas para resolver los problemas con los demás.  En entornos colaborativos, los estudiantes participan en conversaciones intelectuales entre ellos.\n",
        "\n"
      ]
    },
    {
      "cell_type": "markdown",
      "metadata": {},
      "source": [
        "### <FONT COLOR=\"blue\"> **Q1.** </FONT>"
      ]
    },
    {
      "cell_type": "markdown",
      "metadata": {},
      "source": [
        "Dadas N listas ordenadas como entrada, escribe un programa que las fusione en una lista ordenada."
      ]
    },
    {
      "cell_type": "code",
      "execution_count": null,
      "metadata": {},
      "outputs": [],
      "source": [
        "N = int(input(\"Ingrese el número de lista: \"))\n",
        "lista_de_numeros = []\n",
        "for i in range(N):\n",
        "    numeros = list(map(int, input(\"Ingrese una lista de números: \").split()))\n",
        "    print(numeros)\n",
        "    lista_de_numeros.append(numeros)\n",
        "ordenada = fusion_multiple(lista_de_numeros)\n",
        "print(\"Fusionada dentro : \", ordenada)"
      ]
    }
  ],
  "metadata": {
    "kernelspec": {
      "display_name": "Python 3.9.13 64-bit (microsoft store)",
      "language": "python",
      "name": "python3"
    },
    "language_info": {
      "codemirror_mode": {
        "name": "ipython",
        "version": 3
      },
      "file_extension": ".py",
      "mimetype": "text/x-python",
      "name": "python",
      "nbconvert_exporter": "python",
      "pygments_lexer": "ipython3",
      "version": "3.9.13"
    },
    "vscode": {
      "interpreter": {
        "hash": "d6ff7cb00638fb92356a42c28981a177178b7e1976aa8ecd498ce1508ea8d5e4"
      }
    }
  },
  "nbformat": 4,
  "nbformat_minor": 4
}
