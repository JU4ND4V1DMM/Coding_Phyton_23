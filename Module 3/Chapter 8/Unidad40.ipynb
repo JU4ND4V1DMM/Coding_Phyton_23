{
 "cells": [
  {
   "cell_type": "markdown",
   "metadata": {},
   "source": [
    "# <FONT COLOR=\"blue\"> **Samsung Innovation Campus**</FONT>  \n",
    "\n",
    "## <FONT COLOR=\"blue\">**Codificación y Programación**</FONT>\n",
    "\n",
    "\n",
    "#  **Capítulo 8. Mini proyecto de análisis y visualización de datos**\n",
    "\n",
    "## Objetivos del capítulo\n",
    "\n",
    "- Ser capaz de tener confianza haciendo los mismos resultados con el análisis y la visualización de datos que los expertos hacen en el campo sólo con lo que hemos aprendido a través del curso, que es el objetivo central del mini-proyecto.\n",
    "\n",
    "- Ser capaz de entender que las habilidades de análisis de datos utilizando Python son habilidades esenciales en el campo real mediante la resolución de casos del mundo real a través del mini-proyecto.\n",
    "Ser capaz de practicar en el campo de la contabilidad financiera a través de tareas de análisis de datos financieros.\n",
    "\n",
    "- Ser capaz de practicar en la resolución de diversos problemas sociales del mundo real a través de tareas de análisis de datos públicos.\n",
    "\n",
    "## Contenido del capítulo\n",
    "\n",
    "- Unidad 39. Mini proyecto de análisis de datos financieros\n",
    "- Unidad 40. Mini Proyecto de Análisis de la Pandemia Global de Corona\n"
   ]
  },
  {
   "cell_type": "markdown",
   "metadata": {},
   "source": [
    "##  **Unidad 40. Mini proyecto de análisis de la pandemia de Corona Virus en el mundo**\n",
    "\n"
   ]
  },
  {
   "cell_type": "markdown",
   "metadata": {},
   "source": [
    "##  <FONT COLOR=\"blue\">Misión</FONT>"
   ]
  },
  {
   "cell_type": "markdown",
   "metadata": {},
   "source": [
    "## **Mini proyecto de análisis de la pandemia de Corona Virus en el mundo**\n",
    "\n",
    "En la historia de la humanidad ha habido varias situaciones de pandemia.\n",
    "\n",
    "Cada vez que aparece una nueva epidemia, la humanidad ha tratado de encontrar nuevas vacunas y tratamientos. En cada caso, lo más importante ha sido realizar investigaciones epidemiológicas fiables y divulgar los resultados de forma transparente.\n",
    "\n",
    "La humanidad creó nuevas vacunas y tratamientos basándose en los datos divulgados públicamente y trató de encontrar un camino hasta que se dispusiera de una alternativa.\n",
    "\n",
    "En la situación de pandemia, diversos análisis de datos, como ¿cuántas personas están actualmente infectadas? ¿dónde están las regiones en las que las personas infectadas están disminuyendo actualmente? ¿cuál es la edad y el entorno de vida en el que el número de personas infectadas es elevado? y si el número de personas infectadas está disminuyendo debido a la eficacia de la vacuna? y la visualización de datos para que la gente los entienda más fácilmente han hecho muchas contribuciones.\n",
    "\n",
    "A través de este miniproyecto, también estamos tratando de obtener estadísticas descriptivas sobre qué países tienen el mayor número de infecciones, basándonos en los datos relacionados con la corona disponibles para el público.\n",
    "\n",
    "El resultado mostrará el nivel de infección acumulado en un mapa del mundo para que cualquiera pueda comprobarlo de un vistazo.\n",
    "\n",
    "Utilizamos los datos de la base de datos [Vacunas contra el Coronavirus (COVID-19)] recogidos en tiempo real por https://ourworldindata.org/\n",
    "\n",
    "Podemos utilizar los datos necesarios para la práctica en \"./data//covid/covid-vaccination-doses-per-capita.csv\".\n",
    "\n",
    "Como referencia, debemos entender que hay algunos datos que están excluidos porque algunos países no revelan los datos al mundo, pero aún así podemos practicar con los datos proporcionados. "
   ]
  },
  {
   "cell_type": "markdown",
   "metadata": {},
   "source": [
    "###  <FONT COLOR=\"blue\">Vamos a codificar</FONT>"
   ]
  },
  {
   "cell_type": "markdown",
   "metadata": {},
   "source": [
    "####  <FONT COLOR=\"blue\">**Paso 1**</FONT>"
   ]
  },
  {
   "cell_type": "markdown",
   "metadata": {},
   "source": [
    "Preparemos los datos."
   ]
  },
  {
   "cell_type": "code",
   "execution_count": 1,
   "metadata": {},
   "outputs": [],
   "source": [
    "import numpy as np\n",
    "import pandas as pd\n",
    "import datetime\n",
    "import matplotlib.pyplot as plt\n",
    "from datetime import date, datetime, time, timezone\n",
    "\n",
    "df = pd.read_csv(\"./owid-covid-data.csv\")"
   ]
  },
  {
   "cell_type": "markdown",
   "metadata": {},
   "source": [
    "**Linea 7**\n",
    "\n",
    "Introduzca la ruta del archivo descargado como una ruta relativa."
   ]
  },
  {
   "cell_type": "code",
   "execution_count": 2,
   "metadata": {},
   "outputs": [
    {
     "name": "stdout",
     "output_type": "stream",
     "text": [
      "<class 'pandas.core.frame.DataFrame'>\n",
      "RangeIndex: 219868 entries, 0 to 219867\n",
      "Data columns (total 67 columns):\n",
      " #   Column                                      Non-Null Count   Dtype  \n",
      "---  ------                                      --------------   -----  \n",
      " 0   iso_code                                    219868 non-null  object \n",
      " 1   continent                                   207221 non-null  object \n",
      " 2   location                                    219868 non-null  object \n",
      " 3   date                                        219868 non-null  object \n",
      " 4   total_cases                                 210915 non-null  float64\n",
      " 5   new_cases                                   210677 non-null  float64\n",
      " 6   new_cases_smoothed                          209481 non-null  float64\n",
      " 7   total_deaths                                191819 non-null  float64\n",
      " 8   new_deaths                                  191764 non-null  float64\n",
      " 9   new_deaths_smoothed                         190584 non-null  float64\n",
      " 10  total_cases_per_million                     209950 non-null  float64\n",
      " 11  new_cases_per_million                       209712 non-null  float64\n",
      " 12  new_cases_smoothed_per_million              208521 non-null  float64\n",
      " 13  total_deaths_per_million                    190867 non-null  float64\n",
      " 14  new_deaths_per_million                      190812 non-null  float64\n",
      " 15  new_deaths_smoothed_per_million             189637 non-null  float64\n",
      " 16  reproduction_rate                           164389 non-null  float64\n",
      " 17  icu_patients                                27961 non-null   float64\n",
      " 18  icu_patients_per_million                    27961 non-null   float64\n",
      " 19  hosp_patients                               30710 non-null   float64\n",
      " 20  hosp_patients_per_million                   30710 non-null   float64\n",
      " 21  weekly_icu_admissions                       7227 non-null    float64\n",
      " 22  weekly_icu_admissions_per_million           7227 non-null    float64\n",
      " 23  weekly_hosp_admissions                      14281 non-null   float64\n",
      " 24  weekly_hosp_admissions_per_million          14281 non-null   float64\n",
      " 25  total_tests                                 79387 non-null   float64\n",
      " 26  new_tests                                   75403 non-null   float64\n",
      " 27  total_tests_per_thousand                    79387 non-null   float64\n",
      " 28  new_tests_per_thousand                      75403 non-null   float64\n",
      " 29  new_tests_smoothed                          103965 non-null  float64\n",
      " 30  new_tests_smoothed_per_thousand             103965 non-null  float64\n",
      " 31  positive_rate                               95927 non-null   float64\n",
      " 32  tests_per_case                              94348 non-null   float64\n",
      " 33  tests_units                                 106788 non-null  object \n",
      " 34  total_vaccinations                          61520 non-null   float64\n",
      " 35  people_vaccinated                           58817 non-null   float64\n",
      " 36  people_fully_vaccinated                     56053 non-null   float64\n",
      " 37  total_boosters                              32783 non-null   float64\n",
      " 38  new_vaccinations                            50592 non-null   float64\n",
      " 39  new_vaccinations_smoothed                   126608 non-null  float64\n",
      " 40  total_vaccinations_per_hundred              61520 non-null   float64\n",
      " 41  people_vaccinated_per_hundred               58817 non-null   float64\n",
      " 42  people_fully_vaccinated_per_hundred         56053 non-null   float64\n",
      " 43  total_boosters_per_hundred                  32783 non-null   float64\n",
      " 44  new_vaccinations_smoothed_per_million       126608 non-null  float64\n",
      " 45  new_people_vaccinated_smoothed              126014 non-null  float64\n",
      " 46  new_people_vaccinated_smoothed_per_hundred  126014 non-null  float64\n",
      " 47  stringency_index                            165982 non-null  float64\n",
      " 48  population                                  218586 non-null  float64\n",
      " 49  population_density                          195257 non-null  float64\n",
      " 50  median_age                                  180682 non-null  float64\n",
      " 51  aged_65_older                               178773 non-null  float64\n",
      " 52  aged_70_older                               179736 non-null  float64\n",
      " 53  gdp_per_capita                              180018 non-null  float64\n",
      " 54  extreme_poverty                             117408 non-null  float64\n",
      " 55  cardiovasc_death_rate                       180205 non-null  float64\n",
      " 56  diabetes_prevalence                         189430 non-null  float64\n",
      " 57  female_smokers                              136502 non-null  float64\n",
      " 58  male_smokers                                134633 non-null  float64\n",
      " 59  handwashing_facilities                      88592 non-null   float64\n",
      " 60  hospital_beds_per_thousand                  160314 non-null  float64\n",
      " 61  life_expectancy                             205426 non-null  float64\n",
      " 62  human_development_index                     175716 non-null  float64\n",
      " 63  excess_mortality_cumulative_absolute        7461 non-null    float64\n",
      " 64  excess_mortality_cumulative                 7461 non-null    float64\n",
      " 65  excess_mortality                            7508 non-null    float64\n",
      " 66  excess_mortality_cumulative_per_million     7461 non-null    float64\n",
      "dtypes: float64(62), object(5)\n",
      "memory usage: 112.4+ MB\n"
     ]
    }
   ],
   "source": [
    "df.info()"
   ]
  },
  {
   "cell_type": "markdown",
   "metadata": {},
   "source": [
    "**Línea 1**\n",
    "\n",
    "Consulta el resumen técnico de los datos."
   ]
  },
  {
   "cell_type": "code",
   "execution_count": null,
   "metadata": {},
   "outputs": [],
   "source": [
    "df['Date'] = pd.to_datetime(df['Day'])\n",
    "df.set_index('Date', inplace = True)\n",
    "df.drop(['Day'], axis = 1, inplace = True)\n",
    "\n",
    "df.head()"
   ]
  },
  {
   "cell_type": "markdown",
   "metadata": {},
   "source": [
    "**Linea 1,2,3,5**\n",
    "\n",
    "- 1: Dado que Day es un tipo de dato Object, no es necesario cambiarlo a un tipo de carácter, sólo convertirlo a datetime.\n",
    "- 2: Cambie el índice a la columna recién creada.\n",
    "- 3: Eliminar las columnas innecesarias.\n",
    "- 5: Compruebe el marco de datos."
   ]
  },
  {
   "cell_type": "code",
   "execution_count": null,
   "metadata": {},
   "outputs": [],
   "source": [
    "len(df['Entity'].unique())"
   ]
  },
  {
   "cell_type": "markdown",
   "metadata": {},
   "source": [
    "**Linea 1**\n",
    "\n",
    "Puede consultar los datos de un total de 236 países.\n"
   ]
  },
  {
   "cell_type": "markdown",
   "metadata": {},
   "source": [
    "####  <FONT COLOR=\"blue\">**Paso 2**</FONT>"
   ]
  },
  {
   "cell_type": "markdown",
   "metadata": {},
   "source": [
    "Vamos a crear un grupo en torno a la columna entidad y a crear un nuevo marco de datos para almacenar los datos acumulados por país."
   ]
  },
  {
   "cell_type": "code",
   "execution_count": null,
   "metadata": {},
   "outputs": [],
   "source": [
    "covid_c = df.groupby(['Entity'])"
   ]
  },
  {
   "cell_type": "markdown",
   "metadata": {},
   "source": [
    "Si ve el resultado del código que aparece a continuación, podrá comprobar que el número de filas (longitud del marco de datos) del marco de datos para cada clave (que será el nombre del país en este caso) es diferente. Esto significa que el estado real de la provisión de datos es diferente para cada país. Recuerde que esto es representativo de una de las situaciones del mundo real."
   ]
  },
  {
   "cell_type": "code",
   "execution_count": 33,
   "metadata": {},
   "outputs": [],
   "source": [
    "# Separar la información del grupo creado por clave e imprimirla.\n",
    "\n",
    "for key,group in covid_c:\n",
    "    print('+key', key)\n",
    "    print('+number', len(group))\n",
    "    print(group.head())\n",
    "    print('\\n')"
   ]
  },
  {
   "cell_type": "markdown",
   "metadata": {},
   "source": [
    "**Linea 1,3,4,5**\n",
    "\n",
    "- 1: Separar la información del grupo creado por clave e imprimirla.\n",
    "- 3: Imprimir el nombre de la clave del grupo.\n",
    "- 4: El número de datos de la clave (El número de datos por país).\n",
    "- 5: Imprime 5 líneas para cada grupo."
   ]
  },
  {
   "cell_type": "markdown",
   "metadata": {},
   "source": [
    "Guardemos el total de cada grupo en un nuevo marco de datos. Creamos estadísticas sobre el número acumulado de casos por 100 personas en cada país desde el momento del brote de la corona hasta el momento actual."
   ]
  },
  {
   "cell_type": "code",
   "execution_count": null,
   "metadata": {},
   "outputs": [],
   "source": [
    "total_df = covid_c.sum()\n",
    "total_df.head()"
   ]
  },
  {
   "cell_type": "markdown",
   "metadata": {},
   "source": [
    "####  <FONT COLOR=\"blue\">**Paso 3**</FONT>"
   ]
  },
  {
   "cell_type": "markdown",
   "metadata": {},
   "source": [
    "Hemos aprendido y practicado la visualización de datos de gráficos para diversas estadísticas descriptivas utilizando la biblioteca matplotlib o seaborn. Sin embargo, en el campo de la visualización de datos, hay muchos casos de uso de objetos de mapa como se muestra en la imagen de abajo. El resultado de este mini-proyecto es expresar la situación de la corona en forma de marco de datos cambiando el color según el peso en el mapa del mundo.\n",
    "\n",
    "<div align=\"center\"><img src=\"https://github.com/Repositorio17092022/RepositorioiImagenes/blob/main/unidad40/imagen69.png?raw=true\"  width= \"500px\" /></div>\n",
    "\n",
    "Antes de resolver la misión, aprenderemos a expresar los datos en el mapa utilizando la biblioteca folium.\n",
    "\n",
    "https://python-visualization.github.io/folium/"
   ]
  },
  {
   "cell_type": "markdown",
   "metadata": {},
   "source": [
    "**1) Instalar la biblioteca Folium**\n",
    "\n",
    "- Desplázate al entorno virtual actual, e instala la biblioteca a través de uno de los dos comandos siguientes.\n",
    "\n",
    "- pip install folium\n",
    "\n",
    "- conda install folium -c conda-forge: Se recomienda instalar usando conda\n",
    "\n",
    "**2) Obtenga la información de coordenadas del lugar que desee**\n",
    "\n",
    "- Es necesario conocer la información de latitud y longitud de la ubicación para mostrar un mapa de la ubicación que desea. La forma más fácil de obtener la ubicación de latitud y longitud es utilizar el servicio de Google Maps. El método que se indica a continuación es el que se realiza cuando se utiliza un PC normal.\n",
    "\n",
    "- Vaya a https://www.google.com/maps\n",
    "\n",
    "- Busca la ubicación que quieras en el mapa o muévela arrastrando el ratón.\n",
    "\n",
    "- Haga clic con el botón derecho del ratón en el lugar donde desea obtener con precisión la información de latitud y \n",
    "información de longitud.\n",
    "\n",
    "- Al hacer clic en la información de coordenadas, la información se copia automáticamente en el portapapeles\n",
    "\n",
    "- La siguiente imagen es el resultado de buscar la ubicación de la sede de Samsung Electronics en Corea como muestra.\n",
    "\n",
    "\n",
    "<div align=\"center\"><img src=\"https://github.com/Repositorio17092022/RepositorioiImagenes/blob/main/unidad40/imagen72.png?raw=true\"  width= \"500px\" /></div>\n",
    "\n",
    "**3) Crear un mapa**"
   ]
  },
  {
   "cell_type": "code",
   "execution_count": 10,
   "metadata": {},
   "outputs": [
    {
     "data": {
      "text/html": [
       "<div style=\"width:100%;\"><div style=\"position:relative;width:100%;height:0;padding-bottom:60%;\"><span style=\"color:#565656\">Make this Notebook Trusted to load map: File -> Trust Notebook</span><iframe srcdoc=\"&lt;!DOCTYPE html&gt;\n",
       "&lt;head&gt;    \n",
       "    &lt;meta http-equiv=&quot;content-type&quot; content=&quot;text/html; charset=UTF-8&quot; /&gt;\n",
       "    \n",
       "        &lt;script&gt;\n",
       "            L_NO_TOUCH = false;\n",
       "            L_DISABLE_3D = false;\n",
       "        &lt;/script&gt;\n",
       "    \n",
       "    &lt;style&gt;html, body {width: 100%;height: 100%;margin: 0;padding: 0;}&lt;/style&gt;\n",
       "    &lt;style&gt;#map {position:absolute;top:0;bottom:0;right:0;left:0;}&lt;/style&gt;\n",
       "    &lt;script src=&quot;https://cdn.jsdelivr.net/npm/leaflet@1.6.0/dist/leaflet.js&quot;&gt;&lt;/script&gt;\n",
       "    &lt;script src=&quot;https://code.jquery.com/jquery-1.12.4.min.js&quot;&gt;&lt;/script&gt;\n",
       "    &lt;script src=&quot;https://maxcdn.bootstrapcdn.com/bootstrap/3.2.0/js/bootstrap.min.js&quot;&gt;&lt;/script&gt;\n",
       "    &lt;script src=&quot;https://cdnjs.cloudflare.com/ajax/libs/Leaflet.awesome-markers/2.0.2/leaflet.awesome-markers.js&quot;&gt;&lt;/script&gt;\n",
       "    &lt;link rel=&quot;stylesheet&quot; href=&quot;https://cdn.jsdelivr.net/npm/leaflet@1.6.0/dist/leaflet.css&quot;/&gt;\n",
       "    &lt;link rel=&quot;stylesheet&quot; href=&quot;https://maxcdn.bootstrapcdn.com/bootstrap/3.2.0/css/bootstrap.min.css&quot;/&gt;\n",
       "    &lt;link rel=&quot;stylesheet&quot; href=&quot;https://maxcdn.bootstrapcdn.com/bootstrap/3.2.0/css/bootstrap-theme.min.css&quot;/&gt;\n",
       "    &lt;link rel=&quot;stylesheet&quot; href=&quot;https://maxcdn.bootstrapcdn.com/font-awesome/4.6.3/css/font-awesome.min.css&quot;/&gt;\n",
       "    &lt;link rel=&quot;stylesheet&quot; href=&quot;https://cdnjs.cloudflare.com/ajax/libs/Leaflet.awesome-markers/2.0.2/leaflet.awesome-markers.css&quot;/&gt;\n",
       "    &lt;link rel=&quot;stylesheet&quot; href=&quot;https://cdn.jsdelivr.net/gh/python-visualization/folium/folium/templates/leaflet.awesome.rotate.min.css&quot;/&gt;\n",
       "    \n",
       "            &lt;meta name=&quot;viewport&quot; content=&quot;width=device-width,\n",
       "                initial-scale=1.0, maximum-scale=1.0, user-scalable=no&quot; /&gt;\n",
       "            &lt;style&gt;\n",
       "                #map_2f0e050e2e1f0603da8db77053eeb5bc {\n",
       "                    position: relative;\n",
       "                    width: 100.0%;\n",
       "                    height: 100.0%;\n",
       "                    left: 0.0%;\n",
       "                    top: 0.0%;\n",
       "                }\n",
       "            &lt;/style&gt;\n",
       "        \n",
       "&lt;/head&gt;\n",
       "&lt;body&gt;    \n",
       "    \n",
       "            &lt;div class=&quot;folium-map&quot; id=&quot;map_2f0e050e2e1f0603da8db77053eeb5bc&quot; &gt;&lt;/div&gt;\n",
       "        \n",
       "&lt;/body&gt;\n",
       "&lt;script&gt;    \n",
       "    \n",
       "            var map_2f0e050e2e1f0603da8db77053eeb5bc = L.map(\n",
       "                &quot;map_2f0e050e2e1f0603da8db77053eeb5bc&quot;,\n",
       "                {\n",
       "                    center: [37.2594750011864, 127.05145091394964],\n",
       "                    crs: L.CRS.EPSG3857,\n",
       "                    zoom: 13,\n",
       "                    zoomControl: true,\n",
       "                    preferCanvas: false,\n",
       "                }\n",
       "            );\n",
       "\n",
       "            \n",
       "\n",
       "        \n",
       "    \n",
       "            var tile_layer_0db431c8ada4ced48b443bcdff37da62 = L.tileLayer(\n",
       "                &quot;https://{s}.tile.openstreetmap.org/{z}/{x}/{y}.png&quot;,\n",
       "                {&quot;attribution&quot;: &quot;Data by \\u0026copy; \\u003ca href=\\&quot;http://openstreetmap.org\\&quot;\\u003eOpenStreetMap\\u003c/a\\u003e, under \\u003ca href=\\&quot;http://www.openstreetmap.org/copyright\\&quot;\\u003eODbL\\u003c/a\\u003e.&quot;, &quot;detectRetina&quot;: false, &quot;maxNativeZoom&quot;: 18, &quot;maxZoom&quot;: 18, &quot;minZoom&quot;: 0, &quot;noWrap&quot;: false, &quot;opacity&quot;: 1, &quot;subdomains&quot;: &quot;abc&quot;, &quot;tms&quot;: false}\n",
       "            ).addTo(map_2f0e050e2e1f0603da8db77053eeb5bc);\n",
       "        \n",
       "&lt;/script&gt;\" style=\"position:absolute;width:100%;height:100%;left:0;top:0;border:none !important;\" allowfullscreen webkitallowfullscreen mozallowfullscreen></iframe></div></div>"
      ],
      "text/plain": [
       "<folium.folium.Map at 0x15dbf806e90>"
      ]
     },
     "execution_count": 10,
     "metadata": {},
     "output_type": "execute_result"
    }
   ],
   "source": [
    "import folium\n",
    "\n",
    "map = folium.Map(location = [37.2594750011864, 127.05145091394964],\n",
    "                zoom_start = 13,\n",
    "                )\n",
    "\n",
    "map"
   ]
  },
  {
   "cell_type": "markdown",
   "metadata": {},
   "source": [
    "**Linea 3,4,6,7**\n",
    "\n",
    "- 3: Introduzca las coordenadas del centro del mapa en el orden de latitud y longitud.\n",
    "- 4: Factor de ampliación para la representación inicial del mapa\n",
    "- 7: m.save(\"index.html\") \n"
   ]
  },
  {
   "cell_type": "markdown",
   "metadata": {},
   "source": [
    "**4) Aplicar un estilo al mapa**\n",
    "\n",
    "Puede especificar el estilo gráfico del mapa mostrado a través de la entrada del parámetro tiles de la función map(). Si no se introduce ningún valor, se aplica el estilo de openstreetmap. A continuación se indican algunos de los más utilizados:\n",
    "\n",
    "tamenterrain\n",
    "\n",
    "stamentoner\n",
    "\n",
    "stamenwatercolor\n",
    "\n",
    "cartodbpositron\n",
    "\n",
    "cartodbdark_matter\n",
    "\n",
    "openstreetmap\n",
    "\n",
    "Hay varios estilos, puedes cambiarlos uno por uno y verlos por ti mismo.\n"
   ]
  },
  {
   "cell_type": "code",
   "execution_count": 11,
   "metadata": {},
   "outputs": [
    {
     "data": {
      "text/html": [
       "<div style=\"width:100%;\"><div style=\"position:relative;width:100%;height:0;padding-bottom:60%;\"><span style=\"color:#565656\">Make this Notebook Trusted to load map: File -> Trust Notebook</span><iframe srcdoc=\"&lt;!DOCTYPE html&gt;\n",
       "&lt;head&gt;    \n",
       "    &lt;meta http-equiv=&quot;content-type&quot; content=&quot;text/html; charset=UTF-8&quot; /&gt;\n",
       "    \n",
       "        &lt;script&gt;\n",
       "            L_NO_TOUCH = false;\n",
       "            L_DISABLE_3D = false;\n",
       "        &lt;/script&gt;\n",
       "    \n",
       "    &lt;style&gt;html, body {width: 100%;height: 100%;margin: 0;padding: 0;}&lt;/style&gt;\n",
       "    &lt;style&gt;#map {position:absolute;top:0;bottom:0;right:0;left:0;}&lt;/style&gt;\n",
       "    &lt;script src=&quot;https://cdn.jsdelivr.net/npm/leaflet@1.6.0/dist/leaflet.js&quot;&gt;&lt;/script&gt;\n",
       "    &lt;script src=&quot;https://code.jquery.com/jquery-1.12.4.min.js&quot;&gt;&lt;/script&gt;\n",
       "    &lt;script src=&quot;https://maxcdn.bootstrapcdn.com/bootstrap/3.2.0/js/bootstrap.min.js&quot;&gt;&lt;/script&gt;\n",
       "    &lt;script src=&quot;https://cdnjs.cloudflare.com/ajax/libs/Leaflet.awesome-markers/2.0.2/leaflet.awesome-markers.js&quot;&gt;&lt;/script&gt;\n",
       "    &lt;link rel=&quot;stylesheet&quot; href=&quot;https://cdn.jsdelivr.net/npm/leaflet@1.6.0/dist/leaflet.css&quot;/&gt;\n",
       "    &lt;link rel=&quot;stylesheet&quot; href=&quot;https://maxcdn.bootstrapcdn.com/bootstrap/3.2.0/css/bootstrap.min.css&quot;/&gt;\n",
       "    &lt;link rel=&quot;stylesheet&quot; href=&quot;https://maxcdn.bootstrapcdn.com/bootstrap/3.2.0/css/bootstrap-theme.min.css&quot;/&gt;\n",
       "    &lt;link rel=&quot;stylesheet&quot; href=&quot;https://maxcdn.bootstrapcdn.com/font-awesome/4.6.3/css/font-awesome.min.css&quot;/&gt;\n",
       "    &lt;link rel=&quot;stylesheet&quot; href=&quot;https://cdnjs.cloudflare.com/ajax/libs/Leaflet.awesome-markers/2.0.2/leaflet.awesome-markers.css&quot;/&gt;\n",
       "    &lt;link rel=&quot;stylesheet&quot; href=&quot;https://cdn.jsdelivr.net/gh/python-visualization/folium/folium/templates/leaflet.awesome.rotate.min.css&quot;/&gt;\n",
       "    \n",
       "            &lt;meta name=&quot;viewport&quot; content=&quot;width=device-width,\n",
       "                initial-scale=1.0, maximum-scale=1.0, user-scalable=no&quot; /&gt;\n",
       "            &lt;style&gt;\n",
       "                #map_399510b7b47e03ca0437285d5a11125e {\n",
       "                    position: relative;\n",
       "                    width: 100.0%;\n",
       "                    height: 100.0%;\n",
       "                    left: 0.0%;\n",
       "                    top: 0.0%;\n",
       "                }\n",
       "            &lt;/style&gt;\n",
       "        \n",
       "&lt;/head&gt;\n",
       "&lt;body&gt;    \n",
       "    \n",
       "            &lt;div class=&quot;folium-map&quot; id=&quot;map_399510b7b47e03ca0437285d5a11125e&quot; &gt;&lt;/div&gt;\n",
       "        \n",
       "&lt;/body&gt;\n",
       "&lt;script&gt;    \n",
       "    \n",
       "            var map_399510b7b47e03ca0437285d5a11125e = L.map(\n",
       "                &quot;map_399510b7b47e03ca0437285d5a11125e&quot;,\n",
       "                {\n",
       "                    center: [37.2594750011864, 127.05145091394964],\n",
       "                    crs: L.CRS.EPSG3857,\n",
       "                    zoom: 13,\n",
       "                    zoomControl: true,\n",
       "                    preferCanvas: false,\n",
       "                }\n",
       "            );\n",
       "\n",
       "            \n",
       "\n",
       "        \n",
       "    \n",
       "            var tile_layer_230b33bfb6ef5d2da188c87d78876bad = L.tileLayer(\n",
       "                &quot;https://stamen-tiles-{s}.a.ssl.fastly.net/watercolor/{z}/{x}/{y}.jpg&quot;,\n",
       "                {&quot;attribution&quot;: &quot;Map tiles by \\u003ca href=\\&quot;http://stamen.com\\&quot;\\u003eStamen Design\\u003c/a\\u003e, under \\u003ca href=\\&quot;http://creativecommons.org/licenses/by/3.0\\&quot;\\u003eCC BY 3.0\\u003c/a\\u003e. Data by \\u0026copy; \\u003ca href=\\&quot;http://openstreetmap.org\\&quot;\\u003eOpenStreetMap\\u003c/a\\u003e, under \\u003ca href=\\&quot;http://creativecommons.org/licenses/by-sa/3.0\\&quot;\\u003eCC BY SA\\u003c/a\\u003e.&quot;, &quot;detectRetina&quot;: false, &quot;maxNativeZoom&quot;: 18, &quot;maxZoom&quot;: 18, &quot;minZoom&quot;: 0, &quot;noWrap&quot;: false, &quot;opacity&quot;: 1, &quot;subdomains&quot;: &quot;abc&quot;, &quot;tms&quot;: false}\n",
       "            ).addTo(map_399510b7b47e03ca0437285d5a11125e);\n",
       "        \n",
       "&lt;/script&gt;\" style=\"position:absolute;width:100%;height:100%;left:0;top:0;border:none !important;\" allowfullscreen webkitallowfullscreen mozallowfullscreen></iframe></div></div>"
      ],
      "text/plain": [
       "<folium.folium.Map at 0x15ddac61f30>"
      ]
     },
     "execution_count": 11,
     "metadata": {},
     "output_type": "execute_result"
    }
   ],
   "source": [
    "import folium\n",
    "\n",
    "map = folium.Map(location = [37.2594750011864, 127.05145091394964],\n",
    "                zoom_start = 13,\n",
    "                tiles = \"stamenwatercolor\"\n",
    "                )\n",
    "\n",
    "map"
   ]
  },
  {
   "cell_type": "markdown",
   "metadata": {},
   "source": [
    "**Linea 3,4,5**\n",
    "\n",
    "- 3: Coordenadas centrales del mapa\n",
    "- 4: Factor de ampliación para la representación inicial del mapa\n",
    "- 5: Si no se especifica nada, el valor por defecto es openstreetmap.\n"
   ]
  },
  {
   "cell_type": "markdown",
   "metadata": {},
   "source": [
    "**5) Cómo mostrar los iconos de los marcadores y la información en lugares específicos**\n"
   ]
  },
  {
   "cell_type": "code",
   "execution_count": 16,
   "metadata": {},
   "outputs": [
    {
     "data": {
      "text/html": [
       "<div style=\"width:100%;\"><div style=\"position:relative;width:100%;height:0;padding-bottom:60%;\"><span style=\"color:#565656\">Make this Notebook Trusted to load map: File -> Trust Notebook</span><iframe srcdoc=\"&lt;!DOCTYPE html&gt;\n",
       "&lt;head&gt;    \n",
       "    &lt;meta http-equiv=&quot;content-type&quot; content=&quot;text/html; charset=UTF-8&quot; /&gt;\n",
       "    \n",
       "        &lt;script&gt;\n",
       "            L_NO_TOUCH = false;\n",
       "            L_DISABLE_3D = false;\n",
       "        &lt;/script&gt;\n",
       "    \n",
       "    &lt;style&gt;html, body {width: 100%;height: 100%;margin: 0;padding: 0;}&lt;/style&gt;\n",
       "    &lt;style&gt;#map {position:absolute;top:0;bottom:0;right:0;left:0;}&lt;/style&gt;\n",
       "    &lt;script src=&quot;https://cdn.jsdelivr.net/npm/leaflet@1.6.0/dist/leaflet.js&quot;&gt;&lt;/script&gt;\n",
       "    &lt;script src=&quot;https://code.jquery.com/jquery-1.12.4.min.js&quot;&gt;&lt;/script&gt;\n",
       "    &lt;script src=&quot;https://maxcdn.bootstrapcdn.com/bootstrap/3.2.0/js/bootstrap.min.js&quot;&gt;&lt;/script&gt;\n",
       "    &lt;script src=&quot;https://cdnjs.cloudflare.com/ajax/libs/Leaflet.awesome-markers/2.0.2/leaflet.awesome-markers.js&quot;&gt;&lt;/script&gt;\n",
       "    &lt;link rel=&quot;stylesheet&quot; href=&quot;https://cdn.jsdelivr.net/npm/leaflet@1.6.0/dist/leaflet.css&quot;/&gt;\n",
       "    &lt;link rel=&quot;stylesheet&quot; href=&quot;https://maxcdn.bootstrapcdn.com/bootstrap/3.2.0/css/bootstrap.min.css&quot;/&gt;\n",
       "    &lt;link rel=&quot;stylesheet&quot; href=&quot;https://maxcdn.bootstrapcdn.com/bootstrap/3.2.0/css/bootstrap-theme.min.css&quot;/&gt;\n",
       "    &lt;link rel=&quot;stylesheet&quot; href=&quot;https://maxcdn.bootstrapcdn.com/font-awesome/4.6.3/css/font-awesome.min.css&quot;/&gt;\n",
       "    &lt;link rel=&quot;stylesheet&quot; href=&quot;https://cdnjs.cloudflare.com/ajax/libs/Leaflet.awesome-markers/2.0.2/leaflet.awesome-markers.css&quot;/&gt;\n",
       "    &lt;link rel=&quot;stylesheet&quot; href=&quot;https://cdn.jsdelivr.net/gh/python-visualization/folium/folium/templates/leaflet.awesome.rotate.min.css&quot;/&gt;\n",
       "    \n",
       "            &lt;meta name=&quot;viewport&quot; content=&quot;width=device-width,\n",
       "                initial-scale=1.0, maximum-scale=1.0, user-scalable=no&quot; /&gt;\n",
       "            &lt;style&gt;\n",
       "                #map_f5b781a356291342569980980b8412ac {\n",
       "                    position: relative;\n",
       "                    width: 100.0%;\n",
       "                    height: 100.0%;\n",
       "                    left: 0.0%;\n",
       "                    top: 0.0%;\n",
       "                }\n",
       "            &lt;/style&gt;\n",
       "        \n",
       "&lt;/head&gt;\n",
       "&lt;body&gt;    \n",
       "    \n",
       "            &lt;div class=&quot;folium-map&quot; id=&quot;map_f5b781a356291342569980980b8412ac&quot; &gt;&lt;/div&gt;\n",
       "        \n",
       "&lt;/body&gt;\n",
       "&lt;script&gt;    \n",
       "    \n",
       "            var map_f5b781a356291342569980980b8412ac = L.map(\n",
       "                &quot;map_f5b781a356291342569980980b8412ac&quot;,\n",
       "                {\n",
       "                    center: [45.372, -121.6972],\n",
       "                    crs: L.CRS.EPSG3857,\n",
       "                    zoom: 12,\n",
       "                    zoomControl: true,\n",
       "                    preferCanvas: false,\n",
       "                }\n",
       "            );\n",
       "\n",
       "            \n",
       "\n",
       "        \n",
       "    \n",
       "            var tile_layer_160a3a75798c62905f51c72b92515dbd = L.tileLayer(\n",
       "                &quot;https://stamen-tiles-{s}.a.ssl.fastly.net/terrain/{z}/{x}/{y}.jpg&quot;,\n",
       "                {&quot;attribution&quot;: &quot;Map tiles by \\u003ca href=\\&quot;http://stamen.com\\&quot;\\u003eStamen Design\\u003c/a\\u003e, under \\u003ca href=\\&quot;http://creativecommons.org/licenses/by/3.0\\&quot;\\u003eCC BY 3.0\\u003c/a\\u003e. Data by \\u0026copy; \\u003ca href=\\&quot;http://openstreetmap.org\\&quot;\\u003eOpenStreetMap\\u003c/a\\u003e, under \\u003ca href=\\&quot;http://creativecommons.org/licenses/by-sa/3.0\\&quot;\\u003eCC BY SA\\u003c/a\\u003e.&quot;, &quot;detectRetina&quot;: false, &quot;maxNativeZoom&quot;: 18, &quot;maxZoom&quot;: 18, &quot;minZoom&quot;: 0, &quot;noWrap&quot;: false, &quot;opacity&quot;: 1, &quot;subdomains&quot;: &quot;abc&quot;, &quot;tms&quot;: false}\n",
       "            ).addTo(map_f5b781a356291342569980980b8412ac);\n",
       "        \n",
       "    \n",
       "            var marker_a9e7d940a01912a38db1bb89d3f86577 = L.marker(\n",
       "                [45.3288, -121.6625],\n",
       "                {}\n",
       "            ).addTo(map_f5b781a356291342569980980b8412ac);\n",
       "        \n",
       "    \n",
       "            var icon_15e47a6be4e3db23d2da4ff971b5e3f7 = L.AwesomeMarkers.icon(\n",
       "                {&quot;extraClasses&quot;: &quot;fa-rotate-0&quot;, &quot;icon&quot;: &quot;cloud&quot;, &quot;iconColor&quot;: &quot;white&quot;, &quot;markerColor&quot;: &quot;blue&quot;, &quot;prefix&quot;: &quot;glyphicon&quot;}\n",
       "            );\n",
       "            marker_a9e7d940a01912a38db1bb89d3f86577.setIcon(icon_15e47a6be4e3db23d2da4ff971b5e3f7);\n",
       "        \n",
       "    \n",
       "        var popup_9f5d72c9f7d7f32b458e46b885ebbac2 = L.popup({&quot;maxWidth&quot;: &quot;100%&quot;});\n",
       "\n",
       "        \n",
       "            var html_ef93382c6440aab330e0ad1c28c76fea = $(`&lt;div id=&quot;html_ef93382c6440aab330e0ad1c28c76fea&quot; style=&quot;width: 100.0%; height: 100.0%;&quot;&gt;Mt. Hood Meadows&lt;/div&gt;`)[0];\n",
       "            popup_9f5d72c9f7d7f32b458e46b885ebbac2.setContent(html_ef93382c6440aab330e0ad1c28c76fea);\n",
       "        \n",
       "\n",
       "        marker_a9e7d940a01912a38db1bb89d3f86577.bindPopup(popup_9f5d72c9f7d7f32b458e46b885ebbac2)\n",
       "        ;\n",
       "\n",
       "        \n",
       "    \n",
       "    \n",
       "            var marker_98810a7a8f67eb5dd5a56d47c1b41195 = L.marker(\n",
       "                [45.3311, -121.7113],\n",
       "                {}\n",
       "            ).addTo(map_f5b781a356291342569980980b8412ac);\n",
       "        \n",
       "    \n",
       "            var icon_eeb53dec05a99e07d70640f31c59007d = L.AwesomeMarkers.icon(\n",
       "                {&quot;extraClasses&quot;: &quot;fa-rotate-0&quot;, &quot;icon&quot;: &quot;green&quot;, &quot;iconColor&quot;: &quot;white&quot;, &quot;markerColor&quot;: &quot;blue&quot;, &quot;prefix&quot;: &quot;glyphicon&quot;}\n",
       "            );\n",
       "            marker_98810a7a8f67eb5dd5a56d47c1b41195.setIcon(icon_eeb53dec05a99e07d70640f31c59007d);\n",
       "        \n",
       "    \n",
       "        var popup_dc1871f9bdadaafe5298f8fe299d1a00 = L.popup({&quot;maxWidth&quot;: &quot;100%&quot;});\n",
       "\n",
       "        \n",
       "            var html_afb6db636f2c41eac60ce442bdc228cf = $(`&lt;div id=&quot;html_afb6db636f2c41eac60ce442bdc228cf&quot; style=&quot;width: 100.0%; height: 100.0%;&quot;&gt;Timber line Lodge&lt;/div&gt;`)[0];\n",
       "            popup_dc1871f9bdadaafe5298f8fe299d1a00.setContent(html_afb6db636f2c41eac60ce442bdc228cf);\n",
       "        \n",
       "\n",
       "        marker_98810a7a8f67eb5dd5a56d47c1b41195.bindPopup(popup_dc1871f9bdadaafe5298f8fe299d1a00)\n",
       "        ;\n",
       "\n",
       "        \n",
       "    \n",
       "    \n",
       "            var circle_marker_6189005406ee04cd001fa08ab25582c9 = L.circleMarker(\n",
       "                [45.38, -121.6],\n",
       "                {&quot;bubblingMouseEvents&quot;: true, &quot;color&quot;: &quot;#3186cc&quot;, &quot;dashArray&quot;: null, &quot;dashOffset&quot;: null, &quot;fill&quot;: true, &quot;fillColor&quot;: &quot;#3186cc&quot;, &quot;fillOpacity&quot;: 0.2, &quot;fillRule&quot;: &quot;evenodd&quot;, &quot;lineCap&quot;: &quot;round&quot;, &quot;lineJoin&quot;: &quot;round&quot;, &quot;opacity&quot;: 1.0, &quot;radius&quot;: 100, &quot;stroke&quot;: true, &quot;weight&quot;: 3}\n",
       "            ).addTo(map_f5b781a356291342569980980b8412ac);\n",
       "        \n",
       "    \n",
       "        var popup_b28bfff49a6b1f5094a6776b4d3bce16 = L.popup({&quot;maxWidth&quot;: &quot;100%&quot;});\n",
       "\n",
       "        \n",
       "            var html_5dd6699dc7c631563dfb329a51147f68 = $(`&lt;div id=&quot;html_5dd6699dc7c631563dfb329a51147f68&quot; style=&quot;width: 100.0%; height: 100.0%;&quot;&gt;circle&lt;/div&gt;`)[0];\n",
       "            popup_b28bfff49a6b1f5094a6776b4d3bce16.setContent(html_5dd6699dc7c631563dfb329a51147f68);\n",
       "        \n",
       "\n",
       "        circle_marker_6189005406ee04cd001fa08ab25582c9.bindPopup(popup_b28bfff49a6b1f5094a6776b4d3bce16)\n",
       "        ;\n",
       "\n",
       "        \n",
       "    \n",
       "&lt;/script&gt;\" style=\"position:absolute;width:100%;height:100%;left:0;top:0;border:none !important;\" allowfullscreen webkitallowfullscreen mozallowfullscreen></iframe></div></div>"
      ],
      "text/plain": [
       "<folium.folium.Map at 0x15ddb1b6500>"
      ]
     },
     "execution_count": 16,
     "metadata": {},
     "output_type": "execute_result"
    }
   ],
   "source": [
    "marker_map = folium.Map(location = [45.372, -121.6972], zoom_start = 12, tiles = \"Stamen Terrain\")\n",
    "\n",
    "folium.Marker(\n",
    "    location = [45.3288, -121.6625],\n",
    "    popup = \"Mt. Hood Meadows\",\n",
    "    icon = folium.Icon(icon = \"cloud\"),\n",
    ").add_to(marker_map)\n",
    "\n",
    "folium.Marker(\n",
    "    location = [45.3311, -121.7113],\n",
    "    popup = \"Timber line Lodge\",\n",
    "    icon = folium.Icon(icon = \"green\"),\n",
    ").add_to(marker_map)\n",
    "\n",
    "folium.CircleMarker(\n",
    "    location = [45.3800, -121.6000],\n",
    "    radius = 100,\n",
    "    popup = \"circle\",\n",
    "    color = \"#3186cc\",\n",
    "    fill = True,\n",
    "    fill_color = \"#3186cc\",\n",
    ").add_to(marker_map)\n",
    "\n",
    "marker_map"
   ]
  },
  {
   "cell_type": "markdown",
   "metadata": {},
   "source": [
    "**Linea 4,5,6,15,17,18,19,20,21**\n",
    "\n",
    "- 4: Información de latitud y longitud donde se mostrará el marcador\n",
    "- 5: Información que se mostrará como mensaje emergente cuando se haga clic en un marcador\n",
    "- 6: Estilo del icono del marcador\n",
    "- 15: Método para especificar un área en un círculo\n",
    "- 17: Especificar el tamaño del círculo\n",
    "- 18: Información que se mostrará como mensaje emergente cuando se haga clic en el círculo\n",
    "- 19: Información del color del borde del círculo\n",
    "- 20: Decidir si se pinta el interior del círculo\n",
    "- 21: Información del color a pintar en el círculo\n"
   ]
  },
  {
   "cell_type": "markdown",
   "metadata": {},
   "source": [
    "**6) Cómo mostrar un diagrama paso a paso en el área del mapa**\n",
    "\n",
    "Se trata de un método para visualizar datos coloreando el área rodeada por un determinado límite en un mapa, como una línea fronteriza entre determinados países o un distrito administrativo.\n",
    "\n",
    "A medida que aumenta el valor de la información a entregar, el color pintado en el área correspondiente se vuelve más oscuro."
   ]
  },
  {
   "cell_type": "code",
   "execution_count": 1,
   "metadata": {},
   "outputs": [
    {
     "ename": "ModuleNotFoundError",
     "evalue": "No module named 'pandas'",
     "output_type": "error",
     "traceback": [
      "\u001b[1;31m---------------------------------------------------------------------------\u001b[0m",
      "\u001b[1;31mModuleNotFoundError\u001b[0m                       Traceback (most recent call last)",
      "\u001b[1;32m<ipython-input-1-14cc68390ca4>\u001b[0m in \u001b[0;36m<module>\u001b[1;34m\u001b[0m\n\u001b[1;32m----> 1\u001b[1;33m \u001b[1;32mimport\u001b[0m \u001b[0mpandas\u001b[0m \u001b[1;32mas\u001b[0m \u001b[0mpd\u001b[0m\u001b[1;33m\u001b[0m\u001b[1;33m\u001b[0m\u001b[0m\n\u001b[0m\u001b[0;32m      2\u001b[0m \u001b[1;33m\u001b[0m\u001b[0m\n\u001b[0;32m      3\u001b[0m url = (\n\u001b[0;32m      4\u001b[0m     \u001b[1;34m\"https://raw.githubusercontent.com/python-visualization/folium/master/examples/data\"\u001b[0m\u001b[1;33m\u001b[0m\u001b[1;33m\u001b[0m\u001b[0m\n\u001b[0;32m      5\u001b[0m )\n",
      "\u001b[1;31mModuleNotFoundError\u001b[0m: No module named 'pandas'"
     ]
    }
   ],
   "source": [
    "import pandas as pd \n",
    "\n",
    "url = (\n",
    "    \"https://raw.githubusercontent.com/python-visualization/folium/master/examples/data\"\n",
    ")\n",
    "state_geo = f\"{url}/us-states.json\"\n",
    "state_unemployment = f\"{url}/US.Unemployment_Oct2012.csv\"\n",
    "state_data = pd.read_csv(state_unemployment)\n",
    "\n",
    "m = folium.Map(location = [48, -102], zoom_start = 3)\n",
    "\n",
    "folium.Choropleth(\n",
    "    geo_data  = state_geo,\n",
    "    name = 'choropleth',\n",
    "    data = state_data,\n",
    "    columns = [\"State\", \"Unemployment\"], \n",
    "    key_on = \"feature.id\",\n",
    "    fill_color = \"YlGn\",\n",
    "    fill_opacity = 0.7,\n",
    "    line_opacity = 0.2,\n",
    "    legend_name = \"Unemployment Rate (%)\",\n",
    ").add_to(m)\n",
    "\n",
    "folium.LayerControl().add_to(m)\n",
    "\n",
    "m"
   ]
  },
  {
   "cell_type": "markdown",
   "metadata": {},
   "source": [
    "**Linea 13,15,16,17**\n",
    "\n",
    "- 13: datos geoJson del distrito administrativo\n",
    "- 15: Nombre de los datos a cargar en el distrito administrativo\n",
    "- 16: Nombres de columnas y variables a utilizar para este mapa en el marco de datos\n",
    "- 17: Coincidencia entre los distritos administrativos en los datos y los distritos administrativos en geojson"
   ]
  },
  {
   "cell_type": "markdown",
   "metadata": {},
   "source": [
    "####  <FONT COLOR=\"blue\">**Paso 4**</FONT>"
   ]
  },
  {
   "cell_type": "markdown",
   "metadata": {},
   "source": [
    "Podemos visualizar el marco de datos ya procesado del número acumulado de casos confirmados por 100 personas en cada país aplicando el método de visualización al mapa aprendido en el paso 3.\n",
    "\n",
    "https://ourworldindata.org/covid-vaccination-global-projections"
   ]
  },
  {
   "cell_type": "code",
   "execution_count": null,
   "metadata": {},
   "outputs": [],
   "source": [
    "import folium\n",
    "import json\n",
    "\n",
    "center = [35.762887375145795, 84.08313219586536]\n",
    "\n",
    "m = folium.Map(location = center, zoom_start = 2,\n",
    "               max_bounds = True,\n",
    "               min_zoom = 1, min_lat = -84,\n",
    "               max_lat = 84, min_lon = -175, max_lon = 187,\n",
    "               )\n",
    "\n",
    "geo_path = \"./data//world_geojson/World_Countries__Generalized_.geojson\"    \n",
    "\n",
    "json_data = json.load(open(geo_path), encoding = 'utf-8')\n",
    "\n",
    "folium.Choropleth(geo_data  = json_data,\n",
    "                  data = total_df,\n",
    "                  columns = (total_df.index,'total_vaccinations_per_hundred'),\n",
    "                  key_on = 'properties.COUNTRY',\n",
    "                  fill_color = \"RdYlGn\",\n",
    "                  fill_opacity = 0.7,\n",
    "                  line_opacity = 0.5,\n",
    "                ).add_to(m)\n",
    "\n",
    "\n",
    "folium.LayerControl().add_to(m)"
   ]
  },
  {
   "cell_type": "code",
   "execution_count": null,
   "metadata": {},
   "outputs": [],
   "source": [
    "m"
   ]
  },
  {
   "cell_type": "markdown",
   "metadata": {},
   "source": [
    "**Linea 1**\n",
    "\n",
    "Esta es una visualización del número acumulado de personas infectadas por un grupo de 100 personas desde el momento del brote de la corona en base a la hora actual."
   ]
  }
 ],
 "metadata": {
  "kernelspec": {
   "display_name": "Python 3.9.13 64-bit (microsoft store)",
   "language": "python",
   "name": "python3"
  },
  "language_info": {
   "codemirror_mode": {
    "name": "ipython",
    "version": 3
   },
   "file_extension": ".py",
   "mimetype": "text/x-python",
   "name": "python",
   "nbconvert_exporter": "python",
   "pygments_lexer": "ipython3",
   "version": "3.9.13"
  },
  "orig_nbformat": 4,
  "vscode": {
   "interpreter": {
    "hash": "d6ff7cb00638fb92356a42c28981a177178b7e1976aa8ecd498ce1508ea8d5e4"
   }
  }
 },
 "nbformat": 4,
 "nbformat_minor": 2
}
