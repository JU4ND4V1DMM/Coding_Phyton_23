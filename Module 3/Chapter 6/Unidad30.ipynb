{
  "cells": [
    {
      "cell_type": "markdown",
      "metadata": {},
      "source": [
        "# <FONT COLOR=\"blue\"> **Samsung Innovation Campus**</FONT>  \n",
        "## <FONT COLOR=\"blue\">**Codificación y programación**</FONT>\n",
        "\n",
        "# **Capítulo 6. Algoritmos 3 – Resolución de problemas con algoritmos**\n",
        "\n",
        "## Objetivos del capítulo\n",
        "- Los alumnos podrán resolver problemas comunes utilizando algoritmos. Los alumnos podrán comprender algunas técnicas de diseño algorítmico, como el algoritmo voraz (greedy approach), el método divide y vencerás (divide-and-conquer), el método de programación dinámica y el método vuelta atrás (backtracking), y podrán aplicarlas a problemas reales para resolverlos.\n",
        "\n",
        "## Contenido del capítulo\n",
        "- Unidad 30. El algoritmo voraz (greedy approach)\n",
        "- Unidad 31. El método divide y vencerás (divide-and-conquer)\n",
        "- Unidad 32. El método de programación dinámica\n",
        "- Unidad 33. El método vuelta atrás (backtracking)"
      ]
    },
    {
      "cell_type": "markdown",
      "metadata": {},
      "source": [
        "# **Unidad 30. El algoritmo voraz (greedy approach)** "
      ]
    },
    {
      "cell_type": "markdown",
      "metadata": {},
      "source": [
        "## Objetivos de aprendizaje\n",
        "\n",
        "- Comprender el algoritmo voraz y resolver problemas dados utilizando el enfoque voraz.\n",
        "- Comprender que problemas como el intercambio de monedas y la selección de actividades pueden resolverse mediante el algoritmo voraz.\n",
        "- Diseñar e implementar el algoritmo voraz de forma recursiva.\n",
        "\n",
        "\n",
        "## Resumen de aprendizaje\n",
        "\n",
        "- Aprenda a resolver problemas algorítmicos utilizando el enfoque voraz.\n",
        "- Aprenda a resolver el problema del intercambio de monedas utilizando el enfoque voraz.\n",
        "- Aprenda a resolver el problema de selección de actividades utilizando el enfoque voraz.\n",
        "\n",
        "## Conceptos que deberá conocer de las unidades anteriores\n",
        "\n",
        "- Ser capaz de comprender e implementar la definición de una función recursiva y sus condiciones de terminación.\n",
        "- Ser capaz de utilizar un algoritmo de ordenamiento para ordenar un conjunto determinado de conjuntos de datos.\n",
        "- Ser capaz de analizar el rendimiento de algoritmos recursivos.\n",
        "\n",
        "## Palabras clave\n",
        "\n",
        "<table>\n",
        "<tr>\n",
        "  <td><strong>Enfoque Voraz</strong></td>\n",
        "  <td><strong>Recursividad</strong></td>\n",
        "<tr>\n",
        "  <td><strong>Iteración</strong></td>\n",
        "  <td><strong>Problema del intercambio de monedas</strong></td>\n",
        "  <td><strong>Problema de selección de actividades</strong></td>\n",
        "<tr>\n",
        "</table>"
      ]
    },
    {
      "cell_type": "markdown",
      "metadata": {},
      "source": [
        "## <FONT COLOR=\"blue\"> Misión</FONT>"
      ]
    },
    {
      "cell_type": "markdown",
      "metadata": {},
      "source": [
        "### <FONT COLOR=\"blue\">1.Problema del mundo real </FONT>"
      ]
    },
    {
      "cell_type": "markdown",
      "metadata": {},
      "source": [
        "####  **1.1. ¿Cuántas reuniones son posibles?**"
      ]
    },
    {
      "cell_type": "markdown",
      "metadata": {},
      "source": [
        "<div align=\"center\"><img src=\"https://media.istockphoto.com/photos/diverse-employees-on-online-conference-video-call-on-tv-screen-in-picture-id1333390966?k=20&m=1333390966&s=170667a&w=0&h=0-s0yo17Ne_8QcTTM_Elg2tltiOnrbcScbXjlUOfWiI=\"  width= \"350px\" /></div>\n",
        "\n",
        "\n",
        "- Supongamos que hay una empresa con una sola sala de conferencias.\n",
        "- Hay varios equipos en la empresa y planean celebrar varias reuniones en esta sala de conferencias.\n",
        "- Dado que los dos equipos no pueden usar la misma sala de conferencias al mismo tiempo, el administrador de la sala de conferencias intenta asignar la sala de conferencias para que se celebre un número máximo de reuniones manteniendo las condiciones de que las reuniones no se superpongan.\n",
        "- ¿Es posible saber el número máximo de reuniones posibles cuando sabemos la hora de inicio y la hora de finalización de N número de solicitudes de uso de la sala de conferencias?\n",
        "- Este problema se llama Problema de selección de actividades.\n",
        "- Creemos un algoritmo para resolver el problema de la asignación de salas de conferencias."
      ]
    },
    {
      "cell_type": "markdown",
      "metadata": {},
      "source": [
        "### <FONT COLOR=\"blue\">2.Problema de selección de actividades</FONT>"
      ]
    },
    {
      "cell_type": "markdown",
      "metadata": {},
      "source": [
        "\n",
        "<div align=\"center\"><img src=\"https://github.com/CarlosJVega/RepositorioiImagenes/blob/main/unidad30/Imagen1_1.png?raw=true\"  width= \"1000px\" /></div>\n",
        "\n",
        "- Suponga que N=7 solicitudes de uso de salas de conferencias se dieron de la siguiente manera.\n",
        "- A cada solicitud de sala de reuniones se le dio una hora de inicio y una hora de finalización.\n",
        "- ¿Cuál es el número máximo de reuniones que no se superponen aquí?"
      ]
    },
    {
      "cell_type": "markdown",
      "metadata": {},
      "source": [
        "### <FONT COLOR=\"blue\">3. Solución </FONT> "
      ]
    },
    {
      "cell_type": "markdown",
      "metadata": {},
      "source": [
        "####  **3.1 Cómo funciona la selección de actividades**"
      ]
    },
    {
      "cell_type": "markdown",
      "metadata": {},
      "source": [
        "\n",
        "- La última reunión seleccionable es [0, 1, 4, 5] y el número máximo de reuniones seleccionables es 4.\n"
      ]
    },
    {
      "cell_type": "code",
      "execution_count": 2,
      "metadata": {},
      "outputs": [],
      "source": [
        "def activity_selection(start,finish):\n",
        "    result=[]\n",
        "    i=0\n",
        "    result.append(i)\n",
        "    for j in range(1,len(start)):\n",
        "        if finish[i]<=start[j]:\n",
        "            result.append(j)\n",
        "            i=j\n",
        "    return result"
      ]
    },
    {
      "cell_type": "code",
      "execution_count": 4,
      "metadata": {},
      "outputs": [
        {
          "name": "stdout",
          "output_type": "stream",
          "text": [
            "[0, 1, 4, 5] 4\n"
          ]
        }
      ],
      "source": [
        "start = [1,3,2,1,5,8,5]\n",
        "finish= [2,4,5,6,6,9,9]\n",
        "meetings=activity_selection(start,finish)\n",
        "maximun=len(meetings)\n",
        "print(meetings,maximun)"
      ]
    },
    {
      "cell_type": "markdown",
      "metadata": {},
      "source": [
        "## <FONT COLOR=\"blue\"> Concepto clave</FONT>"
      ]
    },
    {
      "cell_type": "markdown",
      "metadata": {},
      "source": [
        "### <FONT COLOR=\"blue\">1. Enfoque voraz (Greedy) </FONT>"
      ]
    },
    {
      "cell_type": "markdown",
      "metadata": {},
      "source": [
        "####  **1.1. ¿Que es el Enfoque voraz (Greedy)?**"
      ]
    },
    {
      "cell_type": "markdown",
      "metadata": {},
      "source": [
        "El enfoque voraz es una técnica de diseño de algoritmos que llega a una solución seleccionando la \"mejor\" opción en el momento de una secuencia de opciones de acuerdo con criterios predefinidos.\n",
        "\n",
        "Es una técnica de diseño algorítmico muy eficiente y simple para resolver problemas de optimización, como el problema de cambio de moneda y el problema de selección de actividad."
      ]
    },
    {
      "cell_type": "markdown",
      "metadata": {},
      "source": [
        "**El enfoque codicioso resuelve el problema en los siguientes tres pasos.**\n",
        "- **Proceso de selección:** Elija el siguiente elemento para agregar al conjunto.\n",
        "- **Comprobación de viabilidad:** Compruebe si un nuevo conjunto es apropiado para ser la respuesta.\n",
        "- **Comprobación de la solución:** Determine si un nuevo conjunto es la respuesta al problema."
      ]
    },
    {
      "cell_type": "markdown",
      "metadata": {},
      "source": [
        "####  **1.2. Problema del intercambio de monedas**"
      ]
    },
    {
      "cell_type": "markdown",
      "metadata": {},
      "source": [
        "Usando el método voraz, resolvamos un problema de cambio de moneda de la siguiente manera.\n",
        "- Hay cuatro tipos de monedas en Corea, como se muestra a continuación.\n",
        "- La cantidad de cada moneda es de 500 wones, 100 wones, 50 wones y 10 wones.\n",
        "\n",
        "<div align=\"center\"><img src=\"https://github.com/CarlosJVega/RepositorioiImagenes/blob/main/unidad30/Imagen1_2.png?raw=true\"  width= \"800px\" /></div>\n",
        "\n",
        "- Al distribuir cambios en monedas, tratamos de dar la menor cantidad de monedas.\n",
        "- Puedes suponer que el número de monedas está suficientemente preparado para que no falte."
      ]
    },
    {
      "cell_type": "markdown",
      "metadata": {},
      "source": [
        "### **Ejemplo** ###"
      ]
    },
    {
      "cell_type": "markdown",
      "metadata": {},
      "source": [
        "- Por ejemplo, suponga que el cambio que debe devolverse es de 870 wones.\n",
        "    -  Puedes hacer el cambio con 87 monedas por valor de 10 wones. Sin embargo, en este caso, hay demasiadas monedas para el cambio.\n",
        "    - ¿Cómo se pueden devolver 870 wones minimizando el número de monedas como se muestra a continuación?\n",
        "\n",
        "<div align=\"center\"><img src=\"https://github.com/CarlosJVega/RepositorioiImagenes/blob/main/unidad30/Imagen2.png?raw=true\"  width= \"1000px\" /></div>\n",
        "    "
      ]
    },
    {
      "cell_type": "markdown",
      "metadata": {},
      "source": [
        "- 1.    \n",
        "    - En primer lugar, elijamos 500 wones, la moneda más grande. Allí, el cambio restante es de 370 wones.\n",
        "    - Por lo tanto, ya no se pueden elegir monedas de 500 wones.\n",
        "    \n",
        "<div align=\"center\"><img src=\"https://github.com/CarlosJVega/RepositorioiImagenes/blob/main/unidad30/Imagen3.png?raw=true\"  width= \"1000px\" /></div>"
      ]
    },
    {
      "cell_type": "markdown",
      "metadata": {},
      "source": [
        "- 2.    \n",
        "    - Dado que ya no se pueden seleccionar monedas de 500 wones, se selecciona la siguiente moneda más grande, 100 wones.\n",
        "    - El cambio restante es de 270 wones, por lo que aún puede elegir más monedas de 100 wones.\n",
        "    \n",
        "<div align=\"center\"><img src=\"https://github.com/CarlosJVega/RepositorioiImagenes/blob/main/unidad30/Imagen4.png?raw=true\"  width= \"1000px\" /></div>\n"
      ]
    },
    {
      "cell_type": "markdown",
      "metadata": {},
      "source": [
        "- 3.\n",
        "    - Si elige una moneda de 100 wones, el cambio restante es de 170 wones, por lo que aún puede elegir otra moneda de 100 wones.\n",
        "\n",
        "<div align=\"center\"><img src=\"https://github.com/CarlosJVega/RepositorioiImagenes/blob/main/unidad30/Imagen5.png?raw=true\"  width= \"1000px\" /></div>"
      ]
    },
    {
      "cell_type": "markdown",
      "metadata": {},
      "source": [
        "- 4.\n",
        "    - Si elige una moneda de 100 wones, el cambio restante será de 70 wones. Ahora, ya no se pueden monedas elegir 100.\n",
        "\n",
        "<div align=\"center\"><img src=\"https://github.com/CarlosJVega/RepositorioiImagenes/blob/main/unidad30/Imagen6.png?raw=true\"  width= \"1000px\" /></div>"
      ]
    },
    {
      "cell_type": "markdown",
      "metadata": {},
      "source": [
        "- 5.\n",
        "    - Como no se puede elegir una moneda de 100 wones, elijamos 50 wones, que es la siguiente moneda más grande. El cambio restante fue de 20 wones y las monedas de 50 wones ya no están disponibles.\n",
        "\n",
        "<div align=\"center\"><img src=\"https://github.com/CarlosJVega/RepositorioiImagenes/blob/main/unidad30/Imagen7.png?raw=true\"  width= \"1000px\" /></div>"
      ]
    },
    {
      "cell_type": "markdown",
      "metadata": {},
      "source": [
        "- 6.\n",
        "    - La siguiente moneda más grande después de la moneda de 50 wones es una moneda de 10 wones, así que elijamos 10 wones. El cambio restante es de 10 wones, por lo que aún puede elegir más monedas de 10 wones.\n",
        "\n",
        "<div align=\"center\"><img src=\"https://github.com/CarlosJVega/RepositorioiImagenes/blob/main/unidad30/Imagen8.png?raw=true\"  width= \"1000px\" /></div>"
      ]
    },
    {
      "cell_type": "markdown",
      "metadata": {},
      "source": [
        "- 7.\n",
        "    - Si elige una moneda de 10 wones, el cambio restante será de 0 wones. Por lo tanto, todas las monedas seleccionadas son de 870 wones y el cambio se puede devolver con siete monedas.\n",
        "\n",
        "<div align=\"center\"><img src=\"https://github.com/CarlosJVega/RepositorioiImagenes/blob/main/unidad30/Imagen9.png?raw=true\"  width= \"1000px\" /></div>"
      ]
    },
    {
      "cell_type": "markdown",
      "metadata": {},
      "source": [
        "####  **1.3. Diseñando el Algoritmo Voraz (Greedy)**"
      ]
    },
    {
      "cell_type": "markdown",
      "metadata": {},
      "source": [
        "El proceso anterior se expresa en pseudocódigo de la siguiente manera.\n",
        "\n",
        "   - <FONT COLOR=\"red\"> while</FONT> (<FONT COLOR=\"#77B5FE\">  hay más monedas y no se soluciona el problema</FONT> ) {\n",
        "        -  toma la moneda restante más grande\n",
        "        - <FONT COLOR=\"red\"> if</FONT> (<FONT COLOR=\"#77B5FE\">  agregar la moneda no hace que el cambio exceda el monto adeudado </FONT> )\n",
        "            - agregue la moneda al cambio\n",
        "        - <FONT COLOR=\"red\"> if</FONT> (<FONT COLOR=\"#77B5FE\">  el valor total del cambio es igual al monto adeudado </FONT> )\n",
        "            - el problema esta resuelto }"
      ]
    },
    {
      "cell_type": "markdown",
      "metadata": {},
      "source": [
        "El enfoque voraz utilizado en el problema del intercambio de monedas consta de los siguientes tres pasos.\n",
        " 1. Proceso de selección:\n",
        "    - Elija la moneda con el valor nominal más alto.\n",
        "    - Es decir, en esta etapa, se selecciona el mejor elemento para agregar al conjunto de soluciones.\n",
        " 2. Comprobación de viabilidad:\n",
        "    - Compruebe si el valor nominal de la moneda seleccionada es mayor que la cantidad total de cambio.\n",
        "    - En otras palabras, se examina si el mejor elemento seleccionado en la etapa actual es apropiado para ser la respuesta.\n",
        " 3. Comprobación de la solución:\n",
        "    - Compruebe si la cantidad de la moneda seleccionada es igual a la cantidad de cambio.\n",
        "    - En otras palabras, se examina la adición del mejor elemento seleccionado en la etapa actual para ver si es la respuesta.\n"
      ]
    },
    {
      "cell_type": "markdown",
      "metadata": {},
      "source": [
        "El proceso anterior se expresa en pseudocódigo de la siguiente manera.\n",
        "\n",
        "   - <FONT COLOR=\"red\"> while</FONT> (<FONT COLOR=\"#77B5FE\">  hay más monedas y no se soluciona el problema</FONT> ) {\n",
        "        - toma la moneda restante más grande   <FONT COLOR=\"orange\">   1. Proceso de selección </FONT>\n",
        "        - <FONT COLOR=\"red\"> if</FONT> (<FONT COLOR=\"#77B5FE\">  agregar la moneda no hace que el cambio exceda el monto adeudado </FONT> )  <FONT COLOR=\"orange\">   2. Comprobación de viabilidad </FONT>\n",
        "            - agregue la moneda al cambio\n",
        "        - <FONT COLOR=\"red\"> if</FONT> (<FONT COLOR=\"#77B5FE\">  el valor total del cambio es igual al monto adeudado </FONT> ) <FONT COLOR=\"orange\">   3. Comprobación de la solución </FONT>\n",
        "            - el problema esta resuelto }"
      ]
    },
    {
      "cell_type": "markdown",
      "metadata": {},
      "source": [
        "## <FONT COLOR=\"blue\">Vamos a codificar </FONT>"
      ]
    },
    {
      "cell_type": "markdown",
      "metadata": {},
      "source": [
        "### <FONT COLOR=\"blue\"> 1. Problema del intercambio de monedas </FONT>"
      ]
    },
    {
      "cell_type": "markdown",
      "metadata": {},
      "source": [
        "####  **1.1. Implementación y Codificación**"
      ]
    },
    {
      "cell_type": "markdown",
      "metadata": {},
      "source": [
        " Escribamos un algoritmo para resolver el problema del intercambio de monedas.\n",
        "\n",
        " La entrada del algoritmo es el tipo de moneda y la cantidad de cambio, y la salida es una lista de monedas.\n",
        " \n",
        " En este momento, suponga que la cantidad de monedas se da en orden descendente"
      ]
    },
    {
      "cell_type": "code",
      "execution_count": 1,
      "metadata": {},
      "outputs": [],
      "source": [
        "def coin_change(coins, amount):\n",
        "    changes = []\n",
        "    largest = 0\n",
        "    while(amount > 0):\n",
        "        if amount < coins[largest]:\n",
        "            largest +=1\n",
        "        else:\n",
        "            changes.append(coins[largest])\n",
        "            amount -=coins[largest]\n",
        "    return changes"
      ]
    },
    {
      "cell_type": "markdown",
      "metadata": {},
      "source": [
        "**Lineas 2-3**\n",
        "- La lista de cambios, que actúa como monedero de monedas, se inicializa como una lista vacía.\n",
        "- Dado que las monedas están dispuestas en orden descendente, inicialice la cantidad máxima de monedas en la posición \"más grande\" que se puede colocar en la billetera actual como el primer elemento de la lista de monedas.\n",
        "\n",
        "**Lineas 4-9**\n",
        "- La instrucción while se repite hasta que el cambio todavía este disponible.\n",
        "- Si el cambio es mayor o igual a la cantidad \"mayor\" actual, reste la cantidad de la línea 8-9.\n",
        "- Si el cambio es menor que la cantidad actual de 'más grande', aumente la cantidad más grande y continúe con la siguiente cantidad de monedas."
      ]
    },
    {
      "cell_type": "markdown",
      "metadata": {},
      "source": [
        "####  **1.2. Ejecutar el código**"
      ]
    },
    {
      "cell_type": "markdown",
      "metadata": {},
      "source": [
        "El algoritmo implementado anteriormente funciona de la siguiente manera.\n",
        "\n",
        "La lista y el número de monedas son la salida de la cantidad de cambio recibida del usuario.\n",
        "\n",
        "En este momento, se supone que el valor de entrada es una cantidad que puede cambiar de un conjunto de monedas"
      ]
    },
    {
      "cell_type": "code",
      "execution_count": 6,
      "metadata": {},
      "outputs": [
        {
          "name": "stdout",
          "output_type": "stream",
          "text": [
            "Ingrese la cantidad: 980\n",
            "[500, 100, 100, 100, 100, 50, 10, 10, 10] 9\n"
          ]
        }
      ],
      "source": [
        "coins = [500, 100, 50, 10]\n",
        "amount = int(input('Ingrese la cantidad:'))\n",
        "changes = coin_change(coins, amount)\n",
        "print('Ingrese la cantidad:', amount)\n",
        "print(changes, len(changes))"
      ]
    },
    {
      "cell_type": "markdown",
      "metadata": {},
      "source": [
        "### <FONT COLOR=\"blue\"> 2. El problema de selección de actividades </FONT>"
      ]
    },
    {
      "cell_type": "markdown",
      "metadata": {},
      "source": [
        "####  **2.1. Resolviendo el problema de selección de actividades**"
      ]
    },
    {
      "cell_type": "markdown",
      "metadata": {},
      "source": [
        "Apliquemos el enfoque voraz al problema de selección de actividades presentado anteriormente.\n",
        "\n",
        "Suponga que N=7 solicitudes de uso de salas de conferencias se dieron de la siguiente manera.\n",
        "\n",
        "<div align=\"center\"><img src=\"https://github.com/CarlosJVega/RepositorioiImagenes/blob/main/unidad30/Imagen1_1.png?raw=true\"  width= \"1000px\" /></div>\n",
        "\n",
        "A cada solicitud de sala de reuniones se le dio una hora de inicio y una hora de finalización. ¿Cuál es el número máximo de reuniones que no se superponen aquí?"
      ]
    },
    {
      "cell_type": "markdown",
      "metadata": {},
      "source": [
        "El dibujo de estas solicitudes de sala de conferencias en el horario es el siguiente.\n",
        "\n",
        "<div align=\"center\"><img src=\"https://github.com/CarlosJVega/RepositorioiImagenes/blob/main/unidad30/Imagen11.png?raw=true\"  width= \"800px\" /></div>"
      ]
    },
    {
      "cell_type": "markdown",
      "metadata": {},
      "source": [
        "**Analisis individual de cada reunión**\n"
      ]
    },
    {
      "cell_type": "markdown",
      "metadata": {},
      "source": [
        "\n",
        "- <FONT COLOR=\"blue\">  Reunion ID: 0. </FONT> Al principio, se pueden realizar todas las reuniones, por lo que se puede realizar la reunión 0. En este momento, cabe señalar que las reuniones están organizadas en orden de tiempo de finalización. En otras palabras, la reunión 0 es la que tiene el tiempo de finalización más rápido.\n",
        "\n",
        "- <FONT COLOR=\"blue\">  Reunion ID: 1. </FONT>  La hora de finalización de la reunión 1 es posterior a la reunión 0. Por lo tanto, si la hora de inicio es posterior a la hora de finalización de las reuniones ya seleccionadas, se puede seleccionar. Se puede seleccionar porque la hora de inicio 3:00 de la reunión 1 es mayor que la hora de finalización 2:00 de la reunión 0.\n",
        "\n",
        "- Reunion ID: 2. La hora de inicio de la reunión 2 es menor que la hora de finalización de la  reunión 1, por lo que no se puede seleccionar.\n",
        "\n",
        "- Reunion ID: 3. Es imposible seleccionar, porque la hora de inicio de la reunión 3 es menor que la hora de finalización de la reunión 1.\n",
        "\n",
        "- <FONT COLOR=\"blue\">  Reunion ID: 4. </FONT>  La hora de inicio de la reunión 4, (5:00), es mayor que la hora de finalización de la reunión 1, (4:00), por lo que es seleccionable.\n",
        "\n",
        "- <FONT COLOR=\"blue\">  Reunion ID: 5. </FONT>  La hora de inicio de la reunión 5, (7:00), es mayor que la hora de finalización de la reunión 4, (6:00), por lo que también se puede seleccionar.\n",
        "\n",
        "- Reunion ID: 6. La hora de inicio de la reunión 6, es menor que la hora de inicio de la reunión 5, por lo que no se puede seleccionar."
      ]
    },
    {
      "cell_type": "markdown",
      "metadata": {},
      "source": [
        "La reunión final seleccionable es [0, 1, 4, 5] y el número máximo de reuniones seleccionables es 4.\n",
        "\n",
        "<div align=\"center\"><img src=\"https://github.com/CarlosJVega/RepositorioiImagenes/blob/main/unidad30/Imagen12.png?raw=true\"  width= \"800px\" /></div>"
      ]
    },
    {
      "cell_type": "markdown",
      "metadata": {},
      "source": [
        "#### **2.2. Implementación y Codificación**"
      ]
    },
    {
      "cell_type": "markdown",
      "metadata": {},
      "source": [
        "Resolvamos el problema de selección de actividades usando la estrategia presentada anteriormente."
      ]
    },
    {
      "cell_type": "code",
      "execution_count": 7,
      "metadata": {},
      "outputs": [],
      "source": [
        "def activity_selection(start,finish):\n",
        "    result=[]\n",
        "    i=0\n",
        "    result.append(i)\n",
        "    for j in range(1,len(start)):\n",
        "        if finish[i]<=start[j]:\n",
        "            result.append(j)\n",
        "            i=j\n",
        "    return result"
      ]
    },
    {
      "cell_type": "markdown",
      "metadata": {},
      "source": [
        "**Lineas 1-4**\n",
        "- Para el problema de selección de actividades, la hora de inicio de la reunión \"start\" y la hora de finalización de la reunión \"finish\" se proporcionan como entradas.\n",
        "- La lista de \"result\" incluirá el número de reunión.\n",
        "- Por lo tanto, el índice *i* se almacena inicialmente como 0 y se coloca en el resultado.\n",
        "\n",
        "**Lineas 5-9**\n",
        "- Como ya se ha seleccionado la actividad 0, se intentan reuniones desde 1 hasta *len(start) -1*.\n",
        "- Si *finish[i]* es menor o igual que *start[j]*, significa que la $j$-ésima reunión no se superpone con la reunión existente.\n",
        "- Por lo tanto, *j*, que cumple esta condición, se suma al resultado.\n",
        "- Ahora actualice *i* al valor de *j* para especificar la última vez de la reunión como la $j$-ésima* reunión."
      ]
    },
    {
      "cell_type": "markdown",
      "metadata": {},
      "source": [
        "####  **2.3. Ejecutar el código**"
      ]
    },
    {
      "cell_type": "markdown",
      "metadata": {},
      "source": [
        "El problema de selección de actividades se puede ejecutar de la siguiente manera.\n",
        "\n",
        "En este momento, el inicio y el final representan la hora de inicio de la reunión y la hora de finalización de la reunión, respectivamente, y la salida de las reuniones es el número de índice de la reunión seleccionada, y el máximo es el número de la reunión máxima."
      ]
    },
    {
      "cell_type": "code",
      "execution_count": 8,
      "metadata": {},
      "outputs": [
        {
          "name": "stdout",
          "output_type": "stream",
          "text": [
            "[0, 1, 4, 5] 4\n"
          ]
        }
      ],
      "source": [
        "start = [1,3,2,1,5,8,5]\n",
        "finish= [2,4,5,6,6,9,9]\n",
        "meetings=activity_selection(start,finish)\n",
        "maximun=len(meetings)\n",
        "print(meetings,maximun)"
      ]
    },
    {
      "cell_type": "markdown",
      "metadata": {},
      "source": [
        "## <FONT COLOR=\"blue\"> **Quiz** </FONT>"
      ]
    },
    {
      "cell_type": "markdown",
      "metadata": {},
      "source": [
        "### <FONT COLOR=\"blue\">**Q1.** </FONT>"
      ]
    },
    {
      "cell_type": "markdown",
      "metadata": {},
      "source": [
        "En el problema del intercambio de monedas, supongamos que hay una moneda de 400 wones.\n",
        "\n",
        "Si es así, escriba el resultado de cómo el algoritmo coin_change() determinará el cambio de la moneda de 800 wones."
      ]
    },
    {
      "cell_type": "code",
      "execution_count": null,
      "metadata": {},
      "outputs": [],
      "source": []
    },
    {
      "cell_type": "markdown",
      "metadata": {},
      "source": [
        "## <FONT COLOR=\"blue\">Programación por parejas </FONT>\n",
        "\n",
        "### <FONT COLOR=\"blue\">Práctica de la programación en parejas </FONT>\n",
        "\n",
        "\n",
        "**Directriz, mecanismos y plan de contingencia**\n",
        "\n",
        " Preparar la programación por parejas implica establecer pautas y mecanismos para ayudar a los alumnos a emparejarse correctamente y mantenerlos emparejados.  Por ejemplo, los estudiantes deben turnarse para \"conducir el mouse\".  La preparación efectiva requiere planes de contingencia en caso de que uno de los socios se ausente o decida no participar por una u otra razón.  En estos casos, es importante dejar claro que el alumno activo no será sancionado porque el emparejamiento no funcionó bien.\n",
        " \n",
        "**Emparejar habilidades similares, no necesariamente iguales, como socios**\n",
        "\n",
        " La programación en parejas puede ser efectiva cuando los estudiantes con habilidades similares, aunque no necesariamente iguales, se emparejan como compañeros.  El emparejamiento de estudiantes que no coinciden a menudo puede conducir a una participación desequilibrada.  Los maestros deben enfatizar que la programación en parejas no es una estrategia de \"divide y vencerás\", sino más bien un verdadero esfuerzo de colaboración en cada esfuerzo por todo el proyecto.  Los maestros deben evitar emparejar a estudiantes muy débiles con estudiantes muy fuertes.\n",
        "\n",
        "**Motivar a los estudiantes ofreciendo incentivos adicionales**\n",
        "\n",
        " Ofrecer incentivos adicionales puede ayudar a motivar a los estudiantes a emparejarse, especialmente con estudiantes avanzados.  A algunos maestros les ha resultado útil pedirles a los estudiantes que se emparejen solo para una o dos tareas.\n",
        "\n",
        "**Evitar trampas en la colaboración**\n",
        "\n",
        " El desafío para el maestro es encontrar formas de evaluar los resultados individuales, mientras aprovecha los beneficios de la colaboración.  ¿Cómo saber si un estudiante aprendió o hizo trampa?  Los expertos recomiendan revisar el diseño y la evaluación del curso, así como discutir explícita y concretamente con los estudiantes los comportamientos que se interpretarán como trampa.  Los expertos alientan a los maestros a hacer que las tareas sean significativas para los estudiantes y a explicar el valor de lo que los estudiantes aprenderán al completarlas.\n",
        "\n",
        "**Entorno de aprendizaje colaborativo**\n",
        "\n",
        " Un entorno de aprendizaje colaborativo ocurre cada vez que un instructor requiere que los estudiantes trabajen juntos en actividades de aprendizaje.  Los entornos de aprendizaje colaborativo pueden implicar actividades tanto formales como informales y pueden incluir o no una evaluación directa.  Por ejemplo, parejas de estudiantes trabajan en asignaciones de programación; pequeños grupos de estudiantes discuten posibles respuestas a la pregunta de un profesor durante la lección; y los estudiantes trabajan juntos fuera de clase para aprender nuevos conceptos.  El aprendizaje colaborativo es distinto de los proyectos en los que los estudiantes \"dividen y vencerán\".  Cuando los estudiantes dividen el trabajo, cada uno es responsable de solo una parte de la resolución del problema y hay oportunidades muy limitadas para resolver los problemas con los demás.  En entornos colaborativos, los estudiantes participan en conversaciones intelectuales entre ellos.\n",
        "\n"
      ]
    },
    {
      "cell_type": "markdown",
      "metadata": {},
      "source": [
        "### <FONT COLOR=\"blue\">**Q1.** </FONT>"
      ]
    },
    {
      "cell_type": "markdown",
      "metadata": {},
      "source": [
        "Suponga que el número de monedas en el problema de intercambio de monedas no es infinito. Por ejemplo, si tiene las siguientes monedas en su billetera, ¿cómo debe distribuir 710 won como cambio?\n",
        "\n",
        "<div align=\"center\"><img src=\"https://github.com/CarlosJVega/RepositorioiImagenes/blob/main/unidad30/Imagen13.png?raw=true\"  width= \"800px\" /></div>\n"
      ]
    },
    {
      "cell_type": "markdown",
      "metadata": {},
      "source": [
        "### <FONT COLOR=\"blue\">**Q2.** </FONT>"
      ]
    },
    {
      "cell_type": "markdown",
      "metadata": {},
      "source": [
        "Dada la cantidad de monedas y la cantidad de cambio, encuentre la cantidad mínima de monedas que puede devolver como cambio."
      ]
    }
  ],
  "metadata": {
    "kernelspec": {
      "display_name": "Python 3.6.13 ('NLP_36')",
      "language": "python",
      "name": "python3"
    },
    "language_info": {
      "codemirror_mode": {
        "name": "ipython",
        "version": 3
      },
      "file_extension": ".py",
      "mimetype": "text/x-python",
      "name": "python",
      "nbconvert_exporter": "python",
      "pygments_lexer": "ipython3",
      "version": "3.6.13"
    },
    "vscode": {
      "interpreter": {
        "hash": "8e1f65abe31763ebfc6a38c41cf4af767abbd4b367e58bf83433c82f0381c299"
      }
    }
  },
  "nbformat": 4,
  "nbformat_minor": 4
}
