{
  "cells": [
    {
      "cell_type": "markdown",
      "metadata": {},
      "source": [
        "# <FONT COLOR=\"blue\"> **Samsung Innovation Campus**</FONT>  \n",
        "## <FONT COLOR=\"blue\">**Codificación y programación**</FONT>\n",
        "\n",
        "# **Capítulo 6. Algoritmos 3 – Resolución de problemas con algoritmos**\n",
        "\n",
        "## Objetivos del capítulo\n",
        "- Los alumnos podrán resolver problemas comunes utilizando algoritmos. Los alumnos podrán comprender algunas técnicas de diseño algorítmico, como el algoritmo voraz (greedy approach), el método divide y vencerás (divide-and-conquer), el método de programación dinámica y el método vuelta atrás (backtracking), y podrán aplicarlas a problemas reales para resolverlos.\n",
        "\n",
        "## Contenido del capítulo\n",
        "- Unidad 30. El algoritmo voraz (greedy approach)\n",
        "- Unidad 31. El método divide y vencerás (divide-and-conquer)\n",
        "- Unidad 32. El método de programación dinámica\n",
        "- Unidad 33. El método vuelta atrás (backtracking)"
      ]
    },
    {
      "cell_type": "markdown",
      "metadata": {},
      "source": [
        "\n",
        "# **Unidad 32. El método de programación dinámica**"
      ]
    },
    {
      "cell_type": "markdown",
      "metadata": {},
      "source": [
        "## <FONT COLOR=\"blue\"> **Objetivo de aprendizaje de la unidad** </FONT>"
      ]
    },
    {
      "cell_type": "markdown",
      "metadata": {},
      "source": [
        "Objetivos de aprendizaje\n",
        "\n",
        "- Comprender la programación dinámica y calcular la secuencia de Fibonacci utilizando la programación dinámica.\n",
        "- Calcular el coeficiente binomial utilizando el triángulo de Pascal.\n",
        "- Resolver el problema de optimización utilizando una relación recursiva de forma ascendente (bottom-up).\n",
        "\n",
        "\n",
        "\n",
        "Resumen de aprendizaje\n",
        "\n",
        "- Aprender a definir recursivamente la secuencia de Fibonacci y resolverla con programación dinámica.\n",
        "- Aprender a calcular el triángulo de Pascal usando las propiedades recursivas de los coeficientes binomiales.\n",
        "- Aprender a resolver relaciones recursivas de abajo hacia arriba (bottom-up), usando programación dinámica.\n",
        "\n",
        "\n",
        "\n",
        "Conceptos que deberá conocer de las unidades anteriores\n",
        "\n",
        "- Ser capaz de definir problemas parciales recursivamente utilizando el método divide y vencerás.\n",
        "- Ser capaz de implementar funciones recursivas utilizando relaciones recursivas.\n",
        "- Ser capaz de almacenar valores en una tabla usando listas y diccionarios\n",
        "\n",
        "Palabras clave\n",
        "\n",
        "<table>\n",
        "<tr>\n",
        "  <td><strong>Programación Dinámica</strong></td>\n",
        "  <td><strong>Recursividad</strong></td>\n",
        "<tr>\n",
        "  <td><strong>Enfoque bottom-up</strong></td>\n",
        "  <td><strong>Memoización</strong></td>\n",
        "<tr>\n",
        "</table>"
      ]
    },
    {
      "cell_type": "markdown",
      "metadata": {},
      "source": [
        "## <FONT COLOR=\"blue\"> Misión</FONT>"
      ]
    },
    {
      "cell_type": "markdown",
      "metadata": {},
      "source": [
        "### <FONT COLOR=\"blue\">1.Problema del mundo real </FONT>"
      ]
    },
    {
      "cell_type": "markdown",
      "metadata": {},
      "source": [
        "####  **1.1. ¿Cuantas conejos hay?**"
      ]
    },
    {
      "cell_type": "markdown",
      "metadata": {},
      "source": [
        "<div align=\"center\"><img src=\"https://github.com/CarlosJVega/RepositorioiImagenes/blob/main/unidad32/Imagen1.png?raw=true\"  width= \"350px\" /></div>\n",
        "\n",
        "\n",
        "Leonardo de Pisa pensó en esta regla mientras reflexionaba sobre la población de conejos.\n",
        "- En el primer mes, solo existen un par de conejos.\n",
        "- En el segundo mes, un par de conejos dan a luz a un par de conejos bebés.\n",
        "- En el tercer mes, dos pares de conejos dan a luz a dos pares de conejos bebés.\n",
        "- Suponga que un par de conejos reproducibles dan a luz a un par de conejos bebés cada mes y que los conejos no mueren.\n",
        "\n",
        "¿Cuántas parejas de conejos habrá en total en el mes N?"
      ]
    },
    {
      "cell_type": "markdown",
      "metadata": {},
      "source": [
        "### <FONT COLOR=\"blue\">2.Problema de la secuencia de Fibonacci </FONT>"
      ]
    },
    {
      "cell_type": "markdown",
      "metadata": {},
      "source": [
        "\n",
        "<div align=\"center\"><img src=\"https://github.com/CarlosJVega/RepositorioiImagenes/blob/main/unidad32/Imagen2.png?raw=true\"  width= \"600px\" /></div>\n",
        "\n",
        "- Leonardo de Pisa es conocido con el nombre de Fibonacci. Este problema planteado por Fibonacci es ampliamente conocido como la secuencia de Fibonacci, un problema muy importante en la teoría matemática.\n",
        "\n",
        "- El enésimo número de Fibonacci $F_n$ es una secuencia definida por el siguiente valor inicial y su recurrencia como se muestra a continuación.\n",
        "\n",
        "$$F_0 = 0$$\n",
        "$$F_1 = 1$$\n",
        "$$F_n = F_{(n−1)}+F_{(n−1)}$$\n",
        "\n",
        "La sucesión de Fibonacci es la siguiente.\n",
        "\n",
        "$$ 0, 1, 1, 2, 3, 5, 8, 13, 21, 34, 55, 89, 144, 233, 377, 610, … $$\n",
        "\n",
        "Escribamos un algoritmo para encontrar los términos del enésimo término de Fibonacci.\n",
        "\n"
      ]
    },
    {
      "cell_type": "markdown",
      "metadata": {},
      "source": [
        "### <FONT COLOR=\"blue\">3. Solución </FONT> "
      ]
    },
    {
      "cell_type": "markdown",
      "metadata": {},
      "source": [
        "####  **3.1 n-ésimo término de Fibonacci  de forma recursiva**"
      ]
    },
    {
      "cell_type": "markdown",
      "metadata": {},
      "source": [
        "\n",
        "- El problema de obtener el n-ésimo término de Fibonacci se puede resolver recursivamente usando ecuaciones recursivas de la siguiente manera.\n",
        "\n",
        "- Sin embargo, estos métodos recursivos de resolución de problemas tienen una grave ineficiencia.\n"
      ]
    },
    {
      "cell_type": "code",
      "execution_count": 1,
      "metadata": {},
      "outputs": [],
      "source": [
        "def fib1(n):\n",
        "    if n==0 or n==1:\n",
        "        return n\n",
        "    else:\n",
        "        return  fib1(n-1) + fib1(n-2)"
      ]
    },
    {
      "cell_type": "code",
      "execution_count": 6,
      "metadata": {},
      "outputs": [
        {
          "name": "stdout",
          "output_type": "stream",
          "text": [
            "Ingrese un número:  9 . Resultado:  34\n"
          ]
        }
      ],
      "source": [
        "N= int(input('Ingrese un número: '))\n",
        "print('Ingrese un número: ',N, '. Resultado: ', fib1(N))"
      ]
    },
    {
      "cell_type": "markdown",
      "metadata": {},
      "source": [
        "Por ejemplo, considere llamar a *fib1(5)*.\n",
        "\n",
        "Las funciones recursivas se llaman de la siguiente forma\n",
        "\n",
        "<div align=\"center\"><img src=\"https://github.com/CarlosJVega/RepositorioiImagenes/blob/main/unidad32/Imagen3.png?raw=true\"  width= \"600px\" /></div>\n",
        "\n",
        "- Aquí, debe tenerse en cuenta que *fib1(3)*, *fib1(2)* y *fib1(1)* se llaman dos veces, respectivamente.\n",
        "- El problema de tales llamadas recursivas duplicadas se llama el subproblema superpuesto\n",
        "\n",
        "<div align=\"center\"><img src=\"https://github.com/CarlosJVega/RepositorioiImagenes/blob/main/unidad32/Imagen4.png?raw=true\"  width= \"600px\" /></div>\n"
      ]
    },
    {
      "cell_type": "markdown",
      "metadata": {},
      "source": [
        "####  **3.1 Encontrando el n-ésimo término de Fibonacci con programación dinámica**"
      ]
    },
    {
      "cell_type": "markdown",
      "metadata": {},
      "source": [
        "Para resolver el subproblema superpuesto, se puede encontrar una solución ascendente a partir de la recursividad como se muestra a continuación y resolverla con bucles."
      ]
    },
    {
      "cell_type": "code",
      "execution_count": 8,
      "metadata": {},
      "outputs": [],
      "source": [
        "F= {0:0, 1:1}\n",
        "def fib2(n):\n",
        "    if n in F:\n",
        "        return F[n]\n",
        "    else:\n",
        "        F[n] = fib2(n-1) + fib2(n-2)\n",
        "        return  F[n]"
      ]
    },
    {
      "cell_type": "code",
      "execution_count": 9,
      "metadata": {},
      "outputs": [
        {
          "name": "stdout",
          "output_type": "stream",
          "text": [
            "Ingrese un número:  15 . Resultado:  610\n"
          ]
        }
      ],
      "source": [
        "N= int(input('Ingrese un número: '))\n",
        "print('Ingrese un número: ',N, '. Resultado: ', fib2(N))"
      ]
    },
    {
      "cell_type": "markdown",
      "metadata": {},
      "source": [
        "## <FONT COLOR=\"blue\"> Concepto clave</FONT>"
      ]
    },
    {
      "cell_type": "markdown",
      "metadata": {},
      "source": [
        "### <FONT COLOR=\"blue\">1. Programación Dinámica (Dynamic Programming) </FONT>"
      ]
    },
    {
      "cell_type": "markdown",
      "metadata": {},
      "source": [
        "####  **1.1.  Programación Dinámica vs. Divide y Vencerás**"
      ]
    },
    {
      "cell_type": "markdown",
      "metadata": {},
      "source": [
        "La programación dinámica es el mismo método que el método divide y vencerás, cubierto en la Unidad 31, en el sentido de que ambos son soluciones recursivas a un problema dado.\n",
        "\n",
        "Dado que el método divide y vencerás repite cálculos ineficientes cuando ocurre el subproblema superpuesto, el método de programación dinámica almacena los subproblemas en una variable o tabla para que los subproblemas ya calculados no se vuelvan a calcular.\n",
        "\n",
        "<div align=\"center\"><img src=\"https://github.com/CarlosJVega/RepositorioiImagenes/blob/main/unidad32/Imagen5.png?raw=true\"  width= \"600px\" /></div>\n"
      ]
    },
    {
      "cell_type": "markdown",
      "metadata": {},
      "source": [
        "####  **1.2. El diseño del algoritmo de programación dinámica**"
      ]
    },
    {
      "cell_type": "markdown",
      "metadata": {},
      "source": [
        "La programación dinámica es una técnica de diseño algorítmico que analiza las características recursivas de un problema dado y luego obtiene una respuesta en una solución de forma ascendente.\n",
        "\n",
        "En este momento, la técnica de almacenar las respuestas a los subproblemas superpuestos en la tabla para resolver el subproblema superpuesto se llama *memoización*.\n",
        "\n",
        "**El procedimiento de desarrollo del algoritmo de programación dinámica es el siguiente**.\n",
        "\n",
        "- Establecer una ecuación recursiva para calcular la respuesta al caso de entrada del problema\n",
        "- La respuesta al caso de entrada completo se obtiene mediante un método ascendente que resuelve primero el caso de entrada pequeño.\n",
        "\n",
        "**La programación dinámica utiliza la memorización para cálculos ascendentes.**\n",
        "- Las respuestas a los subproblemas se almacenan en una tabla (o memoria).\n",
        "- Cuando se encuentra con el mismo subproblema, se toma directamente de la tabla (o memoria) sin volver a calcular."
      ]
    },
    {
      "cell_type": "markdown",
      "metadata": {},
      "source": [
        "####  **1.3. El Triángulo de Pascal**"
      ]
    },
    {
      "cell_type": "markdown",
      "metadata": {},
      "source": [
        "El triángulo de Pascal es un famoso algoritmo que aplica programación dinámica.\n",
        "El triángulo de Pascal es una matriz de coeficientes binarios en matemáticas en forma triangular.\n",
        "\n",
        "\n",
        "<div align=\"center\"><img src=\"https://github.com/CarlosJVega/RepositorioiImagenes/blob/main/unidad32/Imagen6.png?raw=true\"  width= \"600px\" /></div>\n",
        "\n",
        "En el triángulo de Pascal, el coeficiente binomial tiene las siguientes propiedades recursivas dependiendo de $n$ y $k$.\n",
        "\n",
        "$$ \n",
        "\\tbinom{n}{k}= \n",
        "\\left \\{\n",
        "\\begin{aligned}  \n",
        "\\tbinom{n-1}{k-1} + \\tbinom{n-1}{k} \\quad  & 0<k<n \\\\\n",
        "1 \\quad  & k=0 \\quad \\text{or} \\quad k=n\n",
        "\\end{aligned}\n",
        "\\right .\n",
        "$$\n",
        "\n",
        "<div align=\"center\"><img src=\"https://github.com/CarlosJVega/RepositorioiImagenes/blob/main/unidad32/Imagen7.png?raw=true\"  width= \"600px\" /></div>\n",
        "\n",
        "\n",
        "\n"
      ]
    },
    {
      "cell_type": "markdown",
      "metadata": {},
      "source": [
        "####  **1.4. El Triángulo de Pascal por Divide y Vencerás**"
      ]
    },
    {
      "cell_type": "markdown",
      "metadata": {},
      "source": [
        "Sin embargo, tal solución recursiva, como la sucesión de Fibonacci, provoca los siguientes subproblemas superpuestos.\n",
        "\n",
        "<div align=\"center\"><img src=\"https://github.com/CarlosJVega/RepositorioiImagenes/blob/main/unidad32/Imagen8.png?raw=true\"  width= \"600px\" /></div>\n",
        "\n",
        "Para aplicar la programación dinámica al triángulo de Pascal, se puede usar una tabla como se muestra a continuación.\n",
        "\n",
        "<div align=\"center\"><img src=\"https://github.com/CarlosJVega/RepositorioiImagenes/blob/main/unidad32/Imagen9.png?raw=true\"  width= \"600px\" /></div>"
      ]
    },
    {
      "cell_type": "markdown",
      "metadata": {},
      "source": [
        "## <FONT COLOR=\"blue\">Vamos a Codificar </FONT>"
      ]
    },
    {
      "cell_type": "markdown",
      "metadata": {},
      "source": [
        "### <FONT COLOR=\"blue\"> 1. Programación Dinámica </FONT>"
      ]
    },
    {
      "cell_type": "markdown",
      "metadata": {},
      "source": [
        "####  **1.1. n-ésimo término de Fibonacci  de forma recursiva**"
      ]
    },
    {
      "cell_type": "markdown",
      "metadata": {},
      "source": [
        "La función *fib1()* es una implementación de la definición recursiva de la secuencia de Fibonacci a través de una función recursiva."
      ]
    },
    {
      "cell_type": "code",
      "execution_count": 1,
      "metadata": {},
      "outputs": [],
      "source": [
        "def fib1(n):\n",
        "    if n==0 or n==1:\n",
        "        return n\n",
        "    else:\n",
        "        return  fib1(n-1) + fib1(n-2)"
      ]
    },
    {
      "cell_type": "markdown",
      "metadata": {},
      "source": [
        "**Lineas 2-5**\n",
        "- Línea 2-3: La condición de terminación de la función recursiva devuelve un valor de $n$ cuando $n$ es $0$ o $1$.\n",
        "- Línea 4-5: La función recursiva devuelve la suma de $n-1$ y $n-2$ términos por la definición recursiva de la secuencia de Fibonacci."
      ]
    },
    {
      "cell_type": "markdown",
      "metadata": {},
      "source": [
        "####  **1.2. n-ésimo término de Fibonacci con memoización**"
      ]
    },
    {
      "cell_type": "markdown",
      "metadata": {},
      "source": [
        "La función *fib2()* se implementa a través de una función recursiva como una solución de abajo hacia arriba mediante la aplicación de un método de programación dinámica."
      ]
    },
    {
      "cell_type": "code",
      "execution_count": 2,
      "metadata": {},
      "outputs": [],
      "source": [
        "F= {0:0, 1:1}\n",
        "def fib2(n):\n",
        "    if n in F:\n",
        "        return F[n]\n",
        "    else:\n",
        "        F[n] = fib2(n-1) + fib2(n-2)\n",
        "        return  F[n]"
      ]
    },
    {
      "cell_type": "markdown",
      "metadata": {},
      "source": [
        "**Lineas 1-5**\n",
        "- F se genera como un diccionario, y los valores $F[0]$ y $F[1]$ se inicializan en $0$ y $1$, respectivamente.\n",
        "- Línea 4-5: Si $n$ existe en el Diccionario $F$, es un subproblema que ya ha sido calculado y se puede devolver $F[n]$ inmediatamente.\n",
        "\n",
        "**Lineas 6-8**\n",
        "- Si el valor de $n$ no existe en el Diccionario $F$, es un problema parcial que aún no se ha calculado, por lo que se realiza una llamada recursiva.\n",
        "- Línea 7-8: El valor calculado a través de la llamada recursiva se almacena en $F$ para que no se vuelva a calcular y luego se devuelve como $F[n]$."
      ]
    },
    {
      "cell_type": "markdown",
      "metadata": {},
      "source": [
        "La función *fib3()* implementa la memorización usando una lista en lugar de un diccionario.\n",
        "\n",
        "En este caso, el valor del elemento del término de Fibonacci, que no se calcula, se puede inicializar a $-1$ para determinar si hay un cálculo duplicado."
      ]
    },
    {
      "cell_type": "code",
      "execution_count": 10,
      "metadata": {},
      "outputs": [],
      "source": [
        "def fib3(F,n):\n",
        "    if n <= 1:\n",
        "        return F[n]\n",
        "    else:\n",
        "        if F[n] < 0:\n",
        "            F[n] = fib3(F,n-1) + fib3(F,n-2)\n",
        "        return  F[n]"
      ]
    },
    {
      "cell_type": "markdown",
      "metadata": {},
      "source": [
        "**Lineas 1-7**\n",
        "- Línea 2-3: si $n$ tiene un valor menor que $1$, devuelve el valor de $F[n]$.\n",
        "- Línea 5-7: cuando el valor de $F[n]$ es menor que $0$, se realiza una llamada recursiva o se devuelve $F[n]$ inmediatamente."
      ]
    },
    {
      "cell_type": "code",
      "execution_count": 13,
      "metadata": {},
      "outputs": [
        {
          "name": "stdout",
          "output_type": "stream",
          "text": [
            "Ingrese un número:  10 . Resultado:  55\n"
          ]
        }
      ],
      "source": [
        "N = int(input('Ingrese un número: '))\n",
        "F = [0,1] + [-1]*(N-1)\n",
        "print('Ingrese un número: ',N, '. Resultado: ', fib3(F,N))"
      ]
    },
    {
      "cell_type": "markdown",
      "metadata": {},
      "source": [
        "**Lineas 2-3**\n",
        "- Los elementos $0$ y $1$ de la lista $F$ se inicializan en $0$ y $1$, respectivamente, y el elemento $N – 1$ restante se inicializa en $-1$.\n",
        "- Pase $F$ y $N$ a los valores de los parámetros de la función *fib3()*"
      ]
    },
    {
      "cell_type": "markdown",
      "metadata": {},
      "source": [
        "####  **1.3. El triángulo de Pascal por recursión**"
      ]
    },
    {
      "cell_type": "markdown",
      "metadata": {},
      "source": [
        "Usando las propiedades recursivas del coeficiente binomial, *bin(n, k)* se puede calcular de la siguiente manera."
      ]
    },
    {
      "cell_type": "code",
      "execution_count": 14,
      "metadata": {},
      "outputs": [],
      "source": [
        "def bin1(n,k):\n",
        "    if k==0 or n==k:\n",
        "        return 1\n",
        "    else:\n",
        "        return bin1(n-1,k-1) + bin1(n-1,k)"
      ]
    },
    {
      "cell_type": "markdown",
      "metadata": {},
      "source": [
        "**Lineas 1-5**\n",
        "- Línea 2-3: si $k$ es $0$ o $n$, devuelve $1$.\n",
        "- Línea 4-5: si $k$ no es $0$ ni $1$, se realiza una llamada recursiva utilizando la naturaleza recursiva del coeficiente binomial"
      ]
    },
    {
      "cell_type": "code",
      "execution_count": 16,
      "metadata": {},
      "outputs": [
        {
          "name": "stdout",
          "output_type": "stream",
          "text": [
            "binomial(8,5) es 56\n"
          ]
        }
      ],
      "source": [
        "n = int(input('Ingrese el valor de n: '))\n",
        "k = int(input('Ingrese el valor de k: '))\n",
        "print(f'binomial({n},{k}) es {bin1(n,k)}')"
      ]
    },
    {
      "cell_type": "markdown",
      "metadata": {},
      "source": [
        "####  **1.3. El triángulo de Pascal por Programación Dinámica**"
      ]
    },
    {
      "cell_type": "markdown",
      "metadata": {},
      "source": [
        "Al aplicar la programación dinámica, las expresiones recursivas se pueden resolver de forma ascendente utilizando bucles como se muestra a continuación."
      ]
    },
    {
      "cell_type": "code",
      "execution_count": 17,
      "metadata": {},
      "outputs": [],
      "source": [
        "def bin2(n,k):\n",
        "    B = [[0] *(i + 1) for i in range(n+1)]\n",
        "    for i in range(n+1):\n",
        "        for j in range(i+1):\n",
        "            if j==0 or j==i:\n",
        "                B[i][j] = 1\n",
        "            else:\n",
        "                B[i][j] =  B[i-1][j-1] + B[i-1][j]\n",
        "    return B[n][k]"
      ]
    },
    {
      "cell_type": "markdown",
      "metadata": {},
      "source": [
        "**Lineas 1-2**\n",
        "- Para los parámetros de entrada $n$ y $k$, el triángulo de Pascal se configura en forma de lista.\n",
        "- La lista $B$ de la lista tiene $n + 1$ filas, y la fila $i$ es una lista con una longitud de $i + 1$, en la que todos los valores se inicializan en $0$\n",
        "\n",
        "**Lineas 3-9**\n",
        "- A partir de la n-ésima fila del triángulo de Pascal, calculamos cada coeficiente binomial de abajo hacia arriba.\n",
        "- Cada coeficiente binomial $B[i][j]$ es $B[i-1][j-1]$ y $B[i-1][j]$ ya está calculado, por lo que se pueden calcular inmediatamente mediante la suma"
      ]
    },
    {
      "cell_type": "code",
      "execution_count": 28,
      "metadata": {},
      "outputs": [
        {
          "name": "stdout",
          "output_type": "stream",
          "text": [
            "binomial(4,0) es 1\n"
          ]
        }
      ],
      "source": [
        "n = int(input('Ingrese el valor de n: '))\n",
        "k = int(input('Ingrese el valor de k: '))\n",
        "print(f'binomial({n},{k}) es {bin2(n,k)}')"
      ]
    },
    {
      "cell_type": "markdown",
      "metadata": {},
      "source": [
        "## <FONT COLOR=\"blue\"> **Quiz** </FONT>"
      ]
    },
    {
      "cell_type": "markdown",
      "metadata": {},
      "source": [
        "### <FONT COLOR=\"blue\">**Q1.** </FONT>"
      ]
    },
    {
      "cell_type": "markdown",
      "metadata": {},
      "source": [
        "Analice el resultado de la ejecución del siguiente código y compárelo con el rendimiento de las funciones *fib1()*, *fib2()* y *fib3()*.\n"
      ]
    },
    {
      "cell_type": "code",
      "execution_count": 29,
      "metadata": {},
      "outputs": [
        {
          "name": "stdout",
          "output_type": "stream",
          "text": [
            "Ingrese un número:  10 . Resultado:  55\n"
          ]
        }
      ],
      "source": [
        "def fib4(n):\n",
        "    if n <= 1:\n",
        "        return n\n",
        "    else:\n",
        "        a, b = 0 , 1\n",
        "        for i in range(2, n+1):\n",
        "            a , b = b , a + b\n",
        "        return  b\n",
        "\n",
        "N = int(input('Ingrese un número: '))\n",
        "print('Ingrese un número: ',N, '. Resultado: ', fib4(N))"
      ]
    },
    {
      "cell_type": "markdown",
      "metadata": {},
      "source": [
        "### <FONT COLOR=\"blue\">**Q2.** </FONT>"
      ]
    },
    {
      "cell_type": "markdown",
      "metadata": {},
      "source": [
        "Analice los resultados de ejecución del siguiente código y compárelo con el rendimiento de las funciones *bin1()* y *bin2()*."
      ]
    },
    {
      "cell_type": "code",
      "execution_count": 30,
      "metadata": {},
      "outputs": [
        {
          "name": "stdout",
          "output_type": "stream",
          "text": [
            "1\n",
            "11\n",
            "121\n",
            "1331\n",
            "14641\n",
            "15101051\n",
            "1615201561\n",
            "172135352171\n",
            "18285670562881\n",
            "193684126126843691\n"
          ]
        }
      ],
      "source": [
        "def bin3(n,k):\n",
        "    B = [0] *(n + 1)\n",
        "    for i in range(n+1):\n",
        "        for j in range(n, -1, -1):\n",
        "            if j==0 or j==i:\n",
        "                B[j] = 1\n",
        "            else:\n",
        "                B[j] =  B[j-1] + B[j]\n",
        "    return B[k]\n",
        "\n",
        "for i in range(10):\n",
        "    for j in range(i+1):\n",
        "        print (bin3(i,j), end ='')\n",
        "    print()"
      ]
    },
    {
      "cell_type": "markdown",
      "metadata": {},
      "source": [
        "## <FONT COLOR=\"blue\">Programación por parejas </FONT>\n",
        "\n",
        "### <FONT COLOR=\"blue\">Práctica de la programación en parejas </FONT>\n",
        "\n",
        "\n",
        "**Directriz, mecanismos y plan de contingencia**\n",
        "\n",
        " Preparar la programación por parejas implica establecer pautas y mecanismos para ayudar a los alumnos a emparejarse correctamente y mantenerlos emparejados.  Por ejemplo, los estudiantes deben turnarse para \"conducir el mouse\".  La preparación efectiva requiere planes de contingencia en caso de que uno de los socios se ausente o decida no participar por una u otra razón.  En estos casos, es importante dejar claro que el alumno activo no será sancionado porque el emparejamiento no funcionó bien.\n",
        " \n",
        "**Emparejar habilidades similares, no necesariamente iguales, como socios**\n",
        "\n",
        " La programación en parejas puede ser efectiva cuando los estudiantes con habilidades similares, aunque no necesariamente iguales, se emparejan como compañeros.  El emparejamiento de estudiantes que no coinciden a menudo puede conducir a una participación desequilibrada.  Los maestros deben enfatizar que la programación en parejas no es una estrategia de \"divide y vencerás\", sino más bien un verdadero esfuerzo de colaboración en cada esfuerzo por todo el proyecto.  Los maestros deben evitar emparejar a estudiantes muy débiles con estudiantes muy fuertes.\n",
        "\n",
        "**Motivar a los estudiantes ofreciendo incentivos adicionales**\n",
        "\n",
        " Ofrecer incentivos adicionales puede ayudar a motivar a los estudiantes a emparejarse, especialmente con estudiantes avanzados.  A algunos maestros les ha resultado útil pedirles a los estudiantes que se emparejen solo para una o dos tareas.\n",
        "\n",
        "**Evitar trampas en la colaboración**\n",
        "\n",
        " El desafío para el maestro es encontrar formas de evaluar los resultados individuales, mientras aprovecha los beneficios de la colaboración.  ¿Cómo saber si un estudiante aprendió o hizo trampa?  Los expertos recomiendan revisar el diseño y la evaluación del curso, así como discutir explícita y concretamente con los estudiantes los comportamientos que se interpretarán como trampa.  Los expertos alientan a los maestros a hacer que las tareas sean significativas para los estudiantes y a explicar el valor de lo que los estudiantes aprenderán al completarlas.\n",
        "\n",
        "**Entorno de aprendizaje colaborativo**\n",
        "\n",
        " Un entorno de aprendizaje colaborativo ocurre cada vez que un instructor requiere que los estudiantes trabajen juntos en actividades de aprendizaje.  Los entornos de aprendizaje colaborativo pueden implicar actividades tanto formales como informales y pueden incluir o no una evaluación directa.  Por ejemplo, parejas de estudiantes trabajan en asignaciones de programación; pequeños grupos de estudiantes discuten posibles respuestas a la pregunta de un profesor durante la lección; y los estudiantes trabajan juntos fuera de clase para aprender nuevos conceptos.  El aprendizaje colaborativo es distinto de los proyectos en los que los estudiantes \"dividen y vencerán\".  Cuando los estudiantes dividen el trabajo, cada uno es responsable de solo una parte de la resolución del problema y hay oportunidades muy limitadas para resolver los problemas con los demás.  En entornos colaborativos, los estudiantes participan en conversaciones intelectuales entre ellos.\n",
        "\n"
      ]
    },
    {
      "cell_type": "markdown",
      "metadata": {},
      "source": [
        "### <FONT COLOR=\"blue\">**Q1.** </FONT> \n",
        "\n",
        "Dados n enteros en un arreglo unidimensional sucesivo, escriba un algoritmo que encuentre cuándo se maximiza la suma de los valores sucesivos en el arreglo."
      ]
    },
    {
      "cell_type": "code",
      "execution_count": null,
      "metadata": {},
      "outputs": [],
      "source": [
        "S = [-2,-1,-3,4,-1,2,1,-5,4]\n",
        "M = maximun_subarray(S)\n",
        "print(M)"
      ]
    },
    {
      "cell_type": "markdown",
      "metadata": {},
      "source": [
        "<div align=\"center\"><img src=\"https://github.com/CarlosJVega/RepositorioiImagenes/blob/main/unidad32/Imagen10.png?raw=true\"  width= \"600px\" /></div>"
      ]
    }
  ],
  "metadata": {
    "kernelspec": {
      "display_name": "Python 3.6.13 ('NLP_36')",
      "language": "python",
      "name": "python3"
    },
    "language_info": {
      "codemirror_mode": {
        "name": "ipython",
        "version": 3
      },
      "file_extension": ".py",
      "mimetype": "text/x-python",
      "name": "python",
      "nbconvert_exporter": "python",
      "pygments_lexer": "ipython3",
      "version": "3.6.13"
    },
    "vscode": {
      "interpreter": {
        "hash": "8e1f65abe31763ebfc6a38c41cf4af767abbd4b367e58bf83433c82f0381c299"
      }
    }
  },
  "nbformat": 4,
  "nbformat_minor": 4
}
