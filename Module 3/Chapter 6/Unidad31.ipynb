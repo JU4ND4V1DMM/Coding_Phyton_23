{
  "cells": [
    {
      "cell_type": "markdown",
      "metadata": {},
      "source": [
        "# <FONT COLOR=\"blue\"> **Samsung Innovation Campus**</FONT>  \n",
        "## <FONT COLOR=\"blue\">**Codificación y programación**</FONT>\n",
        "\n",
        "# **Capítulo 6. Algoritmos 3 – Resolución de problemas con algoritmos**\n",
        "\n",
        "## Objetivos del capítulo\n",
        "- Los alumnos podrán resolver problemas comunes utilizando algoritmos. Los alumnos podrán comprender algunas técnicas de diseño algorítmico, como el algoritmo voraz (greedy approach), el método divide y vencerás (divide-and-conquer), el método de programación dinámica y el método vuelta atrás (backtracking), y podrán aplicarlas a problemas reales para resolverlos.\n",
        "\n",
        "## Contenido del capítulo\n",
        "- Unidad 30. El algoritmo voraz (greedy approach)\n",
        "- Unidad 31. El método divide y vencerás (divide-and-conquer)\n",
        "- Unidad 32. El método de programación dinámica\n",
        "- Unidad 33. El método vuelta atrás (backtracking)"
      ]
    },
    {
      "cell_type": "markdown",
      "metadata": {},
      "source": [
        "\n",
        "# **Unidad 31. El método divide y vencerás (divide-and-conquer)**"
      ]
    },
    {
      "cell_type": "markdown",
      "metadata": {},
      "source": [
        "## <FONT COLOR=\"blue\"> **Objetivo de aprendizaje de la unidad** </FONT>"
      ]
    },
    {
      "cell_type": "markdown",
      "metadata": {},
      "source": [
        "Objetivos de aprendizaje\n",
        "\n",
        "- Comprender el método divide y vencerás y resolver el problema de la ruta del triángulo (Triangle Path) usando este método.\n",
        "- Comprender que la búsqueda binaria, el ordenamiento por mezcla  y el ordenamiento rápido son algoritmos que aplican el método divide y vencerás.\n",
        "- Diseñar e implementar recursivamente el algoritmo divide y vencerás.\n",
        "\n",
        "\n",
        "Resumen de aprendizaje\n",
        "\n",
        "- Aprenda a resolver el problema de ruta del triángulo usando el método divide y vencerás.\n",
        "- Aprenda a diseñar el método divide y vencerás a través de la búsqueda binaria, el ordenamiento por mezcla  y el ordenamiento rápido.\n",
        "- Aprenda a resolver problemas usando el método divide y vencerás.\n",
        "\n",
        "Conceptos que deberá conocer de las unidades anteriores\n",
        "\n",
        "- Ser capaz de comprender e implementar la definición de la función recursiva y sus condiciones de terminación.\n",
        "- Ser capaz de resolver el problema de búsqueda binaria mediante bucles y recursividad.\n",
        "- Ser capaz de resolver problemas de ordenamiento usando el ordenamiento por mezcla  y el ordenamiento rápido.\n",
        "\n",
        "Palabras clave\n",
        "\n",
        "<table>\n",
        "<tr>\n",
        "  <td><strong>Divide y vencerás</strong></td>\n",
        "  <td><strong>Recursividad</strong></td>\n",
        "  <td><strong>Problema ruta del triángulo</strong></td>\n",
        "<tr>\n",
        "</table>"
      ]
    },
    {
      "cell_type": "markdown",
      "metadata": {},
      "source": [
        "## <FONT COLOR=\"blue\"> Misión</FONT>"
      ]
    },
    {
      "cell_type": "markdown",
      "metadata": {},
      "source": [
        "### <FONT COLOR=\"blue\">1.Problema del mundo real </FONT>"
      ]
    },
    {
      "cell_type": "markdown",
      "metadata": {},
      "source": [
        "####  **1.1. Encuentra un camino en el laberinto**"
      ]
    },
    {
      "cell_type": "markdown",
      "metadata": {},
      "source": [
        "<div align=\"center\"><img src=\"https://github.com/CarlosJVega/RepositorioiImagenes/blob/main/unidad31/Imagen1.png?raw=true\"  width= \"350px\" /></div>\n",
        "\n",
        "\n",
        "- Considere el problema de encontrar un camino en un laberinto.\n",
        "- Suponga que un laberinto se presenta en una matriz bidimensional, solo se puede mover hacia la derecha y hacia abajo, y debe pagar una cierta cantidad de dinero cuando pasa por cada celda.\n",
        "- ¿Cómo podemos encontrar el camino que incurre en el menor costo?"
      ]
    },
    {
      "cell_type": "markdown",
      "metadata": {},
      "source": [
        "### <FONT COLOR=\"blue\">2. Problema del camino más corto de un triángulo </FONT>"
      ]
    },
    {
      "cell_type": "markdown",
      "metadata": {},
      "source": [
        "\n",
        "- Suponga que en un triángulo dado compuesto por números enteros positivos, puede comenzar en la parte superior del triángulo y descender una fila a la vez.\n",
        "- Si un movimiento es posible solo para números adyacentes a la izquierda o a la derecha, ¿cuál es la suma del menor número de rutas de viaje hasta que llega al final?\n",
        "- Por ejemplo, en el siguiente triángulo, la suma mínima de las rutas de viaje es $2 + 3 + 5 + 1 = 11$.\n",
        "\n",
        "\n",
        "<div align=\"center\"><img src=\"https://github.com/CarlosJVega/RepositorioiImagenes/blob/main/unidad31/Imagen2.png?raw=true\"  width= \"600px\" /></div>"
      ]
    },
    {
      "cell_type": "markdown",
      "metadata": {},
      "source": [
        "### <FONT COLOR=\"blue\">3. Solución </FONT> "
      ]
    },
    {
      "cell_type": "markdown",
      "metadata": {},
      "source": [
        "####  **3.1 Cómo funciona el buscador de la ruta mínima del triángulo**"
      ]
    },
    {
      "cell_type": "markdown",
      "metadata": {},
      "source": [
        "\n",
        "- Un programa que encuentra la suma de los caminos más cortos en un triángulo es un programa que encuentra y genera la suma de los caminos más cortos en este triángulo con la lista de números dada, como se muestra a continuación.\n"
      ]
    },
    {
      "cell_type": "code",
      "execution_count": 1,
      "metadata": {},
      "outputs": [],
      "source": [
        "def find_minimun(row,col,triangle):\n",
        "    if row== len(triangle):\n",
        "        return 0\n",
        "    else:\n",
        "        minimun = min(find_minimun(row + 1,col,triangle), find_minimun(row + 1,col +1 ,triangle))\n",
        "    return triangle[row][col]+ minimun"
      ]
    },
    {
      "cell_type": "code",
      "execution_count": 2,
      "metadata": {},
      "outputs": [
        {
          "name": "stdout",
          "output_type": "stream",
          "text": [
            "El minimo costo es 11\n"
          ]
        }
      ],
      "source": [
        "triangle = [\n",
        "    [2],\n",
        "    [3,4],\n",
        "    [6,5,7],\n",
        "    [4,1,8,3]\n",
        "]\n",
        "\n",
        "minimun=find_minimun(0,0,triangle)\n",
        "print('El minimo costo es' , minimun)"
      ]
    },
    {
      "cell_type": "markdown",
      "metadata": {},
      "source": [
        "## <FONT COLOR=\"blue\"> Concepto clave </FONT>"
      ]
    },
    {
      "cell_type": "markdown",
      "metadata": {},
      "source": [
        "### <FONT COLOR=\"blue\">1. El método divide y vencerás (divide-and-conquer) </FONT>"
      ]
    },
    {
      "cell_type": "markdown",
      "metadata": {},
      "source": [
        "####  **1.1. La estrategia divide y vencerás**"
      ]
    },
    {
      "cell_type": "markdown",
      "metadata": {},
      "source": [
        "La estrategia divide y vencerás divide la instancia de entrada de un problema dado en dos o más instancias de entrada pequeñas.\n",
        "\n",
        "Si la respuesta a la instancia de entrada dividida no se puede obtener inmediatamente, divídala nuevamente en instancias de entrada más pequeñas.\n",
        "\n",
        "Si obtuvo la respuesta a la instancia de entrada dividida, puede integrar esta respuesta para encontrar la respuesta a la instancia de entrada original."
      ]
    },
    {
      "cell_type": "markdown",
      "metadata": {},
      "source": [
        "**El método divide y vencerás es una estrategia para resolver los problemas en los siguientes pasos.**\n",
        "- **Dividir:** divide la instancia de entrada del problema en dos o más instancias de entrada pequeñas.\n",
        "- **Vencer:** resuelve cada una de las instancias de entrada divididas. Si la instancia dividida no es lo suficientemente pequeña, use la recursividad para resolverla.\n",
        "- **Combinar:** si es necesario, busque la respuesta de la instancia de entrada original combinando las respuestas de la instancia de entrada pequeña."
      ]
    },
    {
      "cell_type": "markdown",
      "metadata": {},
      "source": [
        "####  **1.2.  Búsqueda binaria (Binary Search) | divide y vencerás**"
      ]
    },
    {
      "cell_type": "markdown",
      "metadata": {},
      "source": [
        "La búsqueda binaria estudiada en la Unidad 25 es un ejemplo representativo de divide y vencerás.\n",
        "\n",
        "La búsqueda binaria utiliza una estrategia de divide y vencerás para encontrar un elemento dado en una lista ordenada.\n",
        "\n",
        "#### **Ejemplo** \n",
        "\n",
        "Por ejemplo, digamos que encontramos $x=26$ como una búsqueda binaria en una lista ordenada $S$ con nueve elementos como se muestra a continuación.\n",
        "\n",
        "\n",
        "<div align=\"center\"><img src=\"https://github.com/CarlosJVega/RepositorioiImagenes/blob/main/unidad31/Imagen3.png?raw=true\"  width= \"800px\" /></div>\n",
        "\n",
        "Primero, comparamos x con el elemento central 37 en esta lista."
      ]
    },
    {
      "cell_type": "markdown",
      "metadata": {},
      "source": [
        "Dado que $x$ es menor que 37, si $x$ existe en $S$, existe en la parte izquierda de esta lista, por lo que el espacio de búsqueda se puede reducir a la mitad.\n",
        "    \n",
        "<div align=\"center\"><img src=\"https://github.com/CarlosJVega/RepositorioiImagenes/blob/main/unidad31/Imagen4.png?raw=true\"  width= \"1000px\" /></div>"
      ]
    },
    {
      "cell_type": "markdown",
      "metadata": {},
      "source": [
        "Compare los valores del elemento central $17$ y $x$ de nuevo en el espacio de búsqueda reducido a la mitad $S$.\n",
        "    \n",
        "<div align=\"center\"><img src=\"https://github.com/CarlosJVega/RepositorioiImagenes/blob/main/unidad31/Imagen5.png?raw=true\"  width= \"1000px\" /></div>\n"
      ]
    },
    {
      "cell_type": "markdown",
      "metadata": {},
      "source": [
        "Dado que $x$ es mayor que $17$, si $x$ existe en esta lista, existirá en la parte derecha de $S$, por lo que podemos reducir el espacio de búsqueda nuevamente.\n",
        "\n",
        "<div align=\"center\"><img src=\"https://github.com/CarlosJVega/RepositorioiImagenes/blob/main/unidad31/Imagen6.png?raw=true\"  width= \"550px\" /></div>"
      ]
    },
    {
      "cell_type": "markdown",
      "metadata": {},
      "source": [
        "Si el elemento medio de $S$ es igual a $x$, la búsqueda puede terminar.\n",
        "\n",
        "Si $S$ continúa con la búsqueda binaria y se convierte en un conjunto vacío, podemos ver que $x$ es un elemento que no existe en la lista $S$.\n",
        "\n",
        "<div align=\"center\"><img src=\"https://github.com/CarlosJVega/RepositorioiImagenes/blob/main/unidad31/Imagen7.png?raw=true\"  width= \"550px\" /></div>"
      ]
    },
    {
      "cell_type": "markdown",
      "metadata": {},
      "source": [
        "####  **1.3. El algoritmo de ordenamiento por mezcla (Merge Sort) | divide y vencerás**"
      ]
    },
    {
      "cell_type": "markdown",
      "metadata": {},
      "source": [
        "El algoritmo de ordenamiento por mezcla estudiado en la Unidad 28 también usa divide y vencerás.\n",
        "\n",
        "En este momento, debe tenerse en cuenta que la búsqueda binaria resuelve solo uno de los problemas divididos en dos partes, mientras que El algoritmo de ordenamiento por mezcla resuelve cada uno de los problemas divididos en dos partes.\n",
        "\n",
        "\n",
        "<div align=\"center\"><img src=\"https://github.com/CarlosJVega/RepositorioiImagenes/blob/main/unidad31/Imagen8.png?raw=true\"  width= \"600px\" /></div>\n",
        "\n",
        "Además, vale la pena señalar que el ordenamiento por mezcla requería un procedimiento separado para fusionar las dos listas ordenadas después de dividir el problema en dos problemas parciales del mismo tamaño y superarlos.\n",
        "\n",
        "<div align=\"center\"><img src=\"https://github.com/CarlosJVega/RepositorioiImagenes/blob/main/unidad31/Imagen9.png?raw=true\"  width= \"600px\" /></div>\n",
        "\n",
        "El ordenamiento rápido (Quick Sort), estudiada en la Unidad 29, también usa divide y vencerás.\n",
        "\n",
        "En este momento, el ordenamiento rápido divide un problema determinado en dos casos de entrada, pero el tamaño de los dos casos de entrada divididos no es igual.\n",
        "\n",
        "Además, cabe señalar que el ordenamiento rápido no tiene un proceso de integración de las dos listas ordenadas.\n",
        "\n",
        "<div align=\"center\"><img src=\"https://github.com/CarlosJVega/RepositorioiImagenes/blob/main/unidad31/Imagen10.png?raw=true\"  width= \"600px\" /></div>\n",
        "\n",
        "\n"
      ]
    },
    {
      "cell_type": "markdown",
      "metadata": {},
      "source": [
        "## <FONT COLOR=\"blue\">Vamos a Codificar</FONT>"
      ]
    },
    {
      "cell_type": "markdown",
      "metadata": {},
      "source": [
        "### <FONT COLOR=\"blue\"> 1. Divide y Vencerás </FONT>"
      ]
    },
    {
      "cell_type": "markdown",
      "metadata": {},
      "source": [
        "####  **1.1. Búsqueda binaria con iteración**"
      ]
    },
    {
      "cell_type": "markdown",
      "metadata": {},
      "source": [
        "Veamos nuevamente la implementación de la función bin_search() de la Unidad 25.\n",
        "\n",
        "Esta función utilizó una estrategia para reducir el alcance de la búsqueda utilizando índices bajos y altos"
      ]
    },
    {
      "cell_type": "code",
      "execution_count": 1,
      "metadata": {},
      "outputs": [],
      "source": [
        "def bin_search(nums, x):\n",
        "    low, high = 0, len(nums)-1\n",
        "    while low <= high:\n",
        "        mid = (low+high)//2\n",
        "        if nums[mid] == x:\n",
        "            return mid\n",
        "        elif nums[mid]>x:\n",
        "            high = mid - 1\n",
        "        else:\n",
        "            low = mid + 1\n",
        "\n",
        "    return -1"
      ]
    },
    {
      "cell_type": "markdown",
      "metadata": {},
      "source": [
        "**Lineas 1-11**\n",
        "- El algoritmo de búsqueda binaria que usa la declaración iterativa reduce el alcance de la búsqueda usando los índices *low* y *high*."
      ]
    },
    {
      "cell_type": "markdown",
      "metadata": {},
      "source": [
        "####  **1.2. Búsqueda binaria con divide y vencerás**"
      ]
    },
    {
      "cell_type": "markdown",
      "metadata": {},
      "source": [
        "El problema de búsqueda binaria se puede implementar recursivamente, como se muestra a continuación, aplicando la estrategia divide y vencerás."
      ]
    },
    {
      "cell_type": "code",
      "execution_count": 2,
      "metadata": {},
      "outputs": [],
      "source": [
        "def bin_search2(nums, x, low, high):\n",
        "    if low > high:\n",
        "        return -1\n",
        "    else:\n",
        "        mid = (low+high)//2\n",
        "        if nums[mid] == x:\n",
        "            return mid\n",
        "        elif nums[mid]>x:\n",
        "            return bin_search2(nums, x, low, mid - 1)\n",
        "        else:\n",
        "            return bin_search2(nums, x, mid + 1, high)"
      ]
    },
    {
      "cell_type": "markdown",
      "metadata": {},
      "source": [
        "**Lineas 2-3**\n",
        "- *bin_search2()* encuentra $x$ en números y devuelve el índice correspondiente.\n",
        "- La condición de terminación de la función recursiva es cuando el valor de *low* es mayor que el valor de *high*.\n",
        "- En este caso, dado que $x$ no existe en $S$, devuelve $-1$.\n",
        "- *Mid* es el elemento medio del rango de búsqueda y devuelve el índice *mid* si *nums[mid]* es igual al valor de $x$.\n",
        "- Si $x$ es menor que *nums[mid]*, busque el rango *[low, mid -1]* por recursividad.\n",
        "- Si $x$ es mayor que *nums[mid]*, busca el rango *[mid + 1, high]* por recursividad."
      ]
    },
    {
      "cell_type": "markdown",
      "metadata": {},
      "source": [
        "### <FONT COLOR=\"blue\"> 2. Problema del camino más corto de un triángulo</FONT>"
      ]
    },
    {
      "cell_type": "markdown",
      "metadata": {},
      "source": [
        "####  **2.1. Resolviendo el problema con divide y vencerás**"
      ]
    },
    {
      "cell_type": "markdown",
      "metadata": {},
      "source": [
        "Resolvamos el problema de la suma mínima de rutas de viaje triangulares con el método de conquista dividida.\n",
        "\n",
        "En primer lugar, un triángulo dado se puede expresar en forma de una lista $T$ como se muestra en la siguiente figura.\n",
        "\n",
        "<div align=\"center\"><img src=\"https://github.com/CarlosJVega/RepositorioiImagenes/blob/main/unidad31/Imagen11.png?raw=true\"  width= \"600px\" /></div>\n",
        "\n",
        "Sea *C(row, col)* la suma de las rutas mínimas desde las posiciones de fila y columna en la lista $T$ de la lista.\n",
        "\n",
        "<div align=\"center\"><img src=\"https://github.com/CarlosJVega/RepositorioiImagenes/blob/main/unidad31/Imagen12.png?raw=true\"  width= \"600px\" /></div>"
      ]
    },
    {
      "cell_type": "markdown",
      "metadata": {},
      "source": [
        "La suma de los caminos mínimos *C(row, col)* tiene la siguiente relación recursiva.\n",
        "\n",
        "- Si el valor de la fila es igual a $n$, la suma de los caminos es cero porque ha llegado a la parte inferior del triángulo.\n",
        "- Si el valor de la fila no es $n$, el número *T[row][col]* de la ubicación actual se convierte en costo.\n",
        "- Por lo tanto, se puede seleccionar una ruta que tenga un costo menor a partir de la suma de las rutas mínimas en las posiciones inferior e inferior derecha de la posición actual.\n",
        "\n",
        "$$ 𝐶(𝑟𝑜𝑤,𝑐𝑜𝑙) = 𝑇[𝑟𝑜𝑤][𝑐𝑜𝑙] + min⁡(𝐶(𝑟𝑜𝑤+1,𝑐𝑜𝑙), 𝐶(𝑟𝑜𝑤+1,𝑐𝑜𝑙+1)) $$\n",
        "\n",
        "$$ 𝐶(𝑛,𝑐𝑜𝑙) = 0  $$"
      ]
    },
    {
      "cell_type": "markdown",
      "metadata": {},
      "source": [
        "#### **2.2. Implementación y Codificación**"
      ]
    },
    {
      "cell_type": "markdown",
      "metadata": {},
      "source": [
        "Utilizando la relación recursiva analizada anteriormente, la función find_minimum() a la que se aplica la recursividad se puede implementar como se muestra a continuación."
      ]
    },
    {
      "cell_type": "code",
      "execution_count": 3,
      "metadata": {},
      "outputs": [],
      "source": [
        "def find_minimun(row,col,triangle):\n",
        "    if row== len(triangle):\n",
        "        return 0\n",
        "    else:\n",
        "        minimun = min(find_minimun(row + 1,col,triangle), find_minimun(row + 1,col +1 ,triangle))\n",
        "    return triangle[row][col]+ minimun"
      ]
    },
    {
      "cell_type": "markdown",
      "metadata": {},
      "source": [
        "**Lineas 1-3**\n",
        "- El parámetro de entrada de la función *find_minimum()* es el \"triángulo\" de la lista que indica la ubicación actual de la fila, la columna y la lista.\n",
        "- Dado que la condición de terminación de la función recursiva llega a la parte inferior del triángulo, los valores de fila y largo son los mismos.\n",
        "- En este caso, devolvemos $0$ a la suma de los caminos.\n",
        "\n",
        "**Lineas 4-5**\n",
        "- Si aún no ha llegado al fondo del triángulo, la suma de los dos caminos se calcula por recursividad.\n",
        "- En este momento, se debe seleccionar un valor más pequeño de la suma de las rutas después de moverse hacia abajo y hacia abajo a la derecha.\n",
        "\n",
        "**Linea 6**\n",
        "- A través de llamadas recursivas, se seleccionó un valor menor como mínimo entre los caminos inferior o inferior derecho.\n",
        "- La suma de las rutas mínimas en la ubicación actual es el valor que suma el triángulo [row[col] de la ruta actual a este mínimo."
      ]
    },
    {
      "cell_type": "markdown",
      "metadata": {},
      "source": [
        "####  **2.3. Ejecutar el código**"
      ]
    },
    {
      "cell_type": "markdown",
      "metadata": {},
      "source": [
        "Cuando la variable triángulo se ingresa como una lista de listas como la siguiente, la posición superior se convierte en triangle[0][0], de modo que los valores de row y col son 0, 0, respectivamente, y la función *find_minimu()* puede ser llamada."
      ]
    },
    {
      "cell_type": "code",
      "execution_count": 4,
      "metadata": {},
      "outputs": [
        {
          "name": "stdout",
          "output_type": "stream",
          "text": [
            "El minimo costo es 11\n"
          ]
        }
      ],
      "source": [
        "triangle = [\n",
        "    [2],\n",
        "    [3,4],\n",
        "    [6,5,7],\n",
        "    [4,1,8,3]\n",
        "]\n",
        "\n",
        "minimun=find_minimun(0,0,triangle)\n",
        "print('El minimo costo es' , minimun)"
      ]
    },
    {
      "cell_type": "markdown",
      "metadata": {},
      "source": [
        "## <FONT COLOR=\"blue\"> **Quiz** </FONT>"
      ]
    },
    {
      "cell_type": "markdown",
      "metadata": {},
      "source": [
        "### <FONT COLOR=\"blue\">**Q1.** </FONT>"
      ]
    },
    {
      "cell_type": "markdown",
      "metadata": {},
      "source": [
        "Supongamos que hay ocho monedas idénticas numeradas del 1 al 8. De estas, solo una moneda es más pesada que las otra. Si puede pesar las monedas en una balanza de dos brazos, diseñe un algoritmo para seleccionar la moneda mas pesada.\n",
        "\n",
        "Al menos, ¿cuántas veces se deben usar la balanza para encontrar la moneda?\n",
        "\n",
        "<div align=\"center\"><img src=\"https://github.com/CarlosJVega/RepositorioiImagenes/blob/main/unidad31/Imagen14.png?raw=true\"  width= \"600px\" /></div>"
      ]
    },
    {
      "cell_type": "code",
      "execution_count": null,
      "metadata": {},
      "outputs": [],
      "source": []
    },
    {
      "cell_type": "markdown",
      "metadata": {},
      "source": [
        "### <FONT COLOR=\"blue\">**Q2.** </FONT>"
      ]
    },
    {
      "cell_type": "markdown",
      "metadata": {},
      "source": [
        "En la pregunta anterior, supongamos que hay nueve monedas idénticas numeradas del 1 al 9.\n",
        "En este caso, diseñe un algoritmo para seleccionar una moneda pesada.\n",
        "Al menos, ¿cuántas veces se deben usar la balanza para sacar la moneda?\n",
        "\n",
        "<div align=\"center\"><img src=\"https://github.com/CarlosJVega/RepositorioiImagenes/blob/main/unidad31/Imagen15.png?raw=true\"  width= \"600px\" /></div>"
      ]
    },
    {
      "cell_type": "markdown",
      "metadata": {},
      "source": [
        "## <FONT COLOR=\"blue\">Programación por parejas </FONT>\n",
        "\n",
        "### <FONT COLOR=\"blue\">Práctica de la programación en parejas </FONT>\n",
        "\n",
        "\n",
        "**Directriz, mecanismos y plan de contingencia**\n",
        "\n",
        " Preparar la programación por parejas implica establecer pautas y mecanismos para ayudar a los alumnos a emparejarse correctamente y mantenerlos emparejados.  Por ejemplo, los estudiantes deben turnarse para \"conducir el mouse\".  La preparación efectiva requiere planes de contingencia en caso de que uno de los socios se ausente o decida no participar por una u otra razón.  En estos casos, es importante dejar claro que el alumno activo no será sancionado porque el emparejamiento no funcionó bien.\n",
        " \n",
        "**Emparejar habilidades similares, no necesariamente iguales, como socios**\n",
        "\n",
        " La programación en parejas puede ser efectiva cuando los estudiantes con habilidades similares, aunque no necesariamente iguales, se emparejan como compañeros.  El emparejamiento de estudiantes que no coinciden a menudo puede conducir a una participación desequilibrada.  Los maestros deben enfatizar que la programación en parejas no es una estrategia de \"divide y vencerás\", sino más bien un verdadero esfuerzo de colaboración en cada esfuerzo por todo el proyecto.  Los maestros deben evitar emparejar a estudiantes muy débiles con estudiantes muy fuertes.\n",
        "\n",
        "**Motivar a los estudiantes ofreciendo incentivos adicionales**\n",
        "\n",
        " Ofrecer incentivos adicionales puede ayudar a motivar a los estudiantes a emparejarse, especialmente con estudiantes avanzados.  A algunos maestros les ha resultado útil pedirles a los estudiantes que se emparejen solo para una o dos tareas.\n",
        "\n",
        "**Evitar trampas en la colaboración**\n",
        "\n",
        " El desafío para el maestro es encontrar formas de evaluar los resultados individuales, mientras aprovecha los beneficios de la colaboración.  ¿Cómo saber si un estudiante aprendió o hizo trampa?  Los expertos recomiendan revisar el diseño y la evaluación del curso, así como discutir explícita y concretamente con los estudiantes los comportamientos que se interpretarán como trampa.  Los expertos alientan a los maestros a hacer que las tareas sean significativas para los estudiantes y a explicar el valor de lo que los estudiantes aprenderán al completarlas.\n",
        "\n",
        "**Entorno de aprendizaje colaborativo**\n",
        "\n",
        " Un entorno de aprendizaje colaborativo ocurre cada vez que un instructor requiere que los estudiantes trabajen juntos en actividades de aprendizaje.  Los entornos de aprendizaje colaborativo pueden implicar actividades tanto formales como informales y pueden incluir o no una evaluación directa.  Por ejemplo, parejas de estudiantes trabajan en asignaciones de programación; pequeños grupos de estudiantes discuten posibles respuestas a la pregunta de un profesor durante la lección; y los estudiantes trabajan juntos fuera de clase para aprender nuevos conceptos.  El aprendizaje colaborativo es distinto de los proyectos en los que los estudiantes \"dividen y vencerán\".  Cuando los estudiantes dividen el trabajo, cada uno es responsable de solo una parte de la resolución del problema y hay oportunidades muy limitadas para resolver los problemas con los demás.  En entornos colaborativos, los estudiantes participan en conversaciones intelectuales entre ellos.\n",
        "\n"
      ]
    },
    {
      "cell_type": "markdown",
      "metadata": {},
      "source": [
        "### <FONT COLOR=\"blue\">**Q1.** </FONT> \n",
        "\n",
        "Diseñar algoritmo de divide y vencerás que resuelva el Problema de Tromino."
      ]
    },
    {
      "cell_type": "markdown",
      "metadata": {},
      "source": [
        "Tres cuadrados unidos entre sí se llama tromino.\n",
        "Hay un tablero de ajedrez con m cuadrados conectados horizontal y verticalmente, y un compartimento está marcado con una $X$.\n",
        "Aquí, asumimos que m es una potencia de 2.\n",
        "Queremos llenar el tablero con un tromino para cumplir las siguientes condiciones.\n",
        "- Todo el tablero de ajedrez debe llenarse con un tromino.\n",
        "- Una columna marcada con una $X$ no se puede cubrir con un tromino.\n",
        "- Los trominós no se pueden superponer.\n",
        "- Un Tromino no puede sobresalir del tablero de ajedrez.\n",
        "\n",
        "<div align=\"center\"><img src=\"https://github.com/CarlosJVega/RepositorioiImagenes/blob/main/unidad31/Imagen16.png?raw=true\"  width= \"800px\" /></div>\n",
        "\n",
        "**Pista:**\n",
        "- Por ejemplo, considere una forma de cubrir todos los compartimentos con un tromino en un tablero de 4*4 y un tablero de 8*8.\n",
        "- Piensa en dividir un tablero dado en cuatro.\n",
        "\n",
        "<div align=\"center\"><img src=\"https://github.com/CarlosJVega/RepositorioiImagenes/blob/main/unidad31/Imagen17.png?raw=true\"  width= \"800px\" /></div>\n",
        "\n",
        "**Pista:**\n",
        "- El tromino consta de tres cuadrados. Dado un tablero N*N, encuentre una manera de llenar todos los espacios en blanco con un tromino.\n",
        "- En este caso, una parte donde se muestra una X en el tablero no se puede cubrir con un tromino.\n",
        "\n",
        "<div align=\"center\"><img src=\"https://github.com/CarlosJVega/RepositorioiImagenes/blob/main/unidad31/Imagen18.png?raw=true\"  width= \"800px\" /></div>\n",
        "\n",
        "**Pista:**\n",
        "- Por ejemplo, considere una forma de cubrir todos los compartimentos con un tromino en un tablero de 4*4 y un tablero de 8*8.\n",
        "- Piensa en dividir un tablero dado en cuatro.\n",
        "\n",
        "<div align=\"center\"><img src=\"https://github.com/CarlosJVega/RepositorioiImagenes/blob/main/unidad31/Imagen19.png?raw=true\"  width= \"800px\" /></div>\n",
        "\n",
        "**Pista:**\n",
        "El tablero dado se puede cubrir con un tromino como se muestra a continuación.\n",
        "\n",
        "<div align=\"center\"><img src=\"https://github.com/CarlosJVega/RepositorioiImagenes/blob/main/unidad31/Imagen20.png?raw=true\"  width= \"800px\" /></div>"
      ]
    }
  ],
  "metadata": {
    "kernelspec": {
      "display_name": "Python 3.6.13 ('NLP_36')",
      "language": "python",
      "name": "python3"
    },
    "language_info": {
      "codemirror_mode": {
        "name": "ipython",
        "version": 3
      },
      "file_extension": ".py",
      "mimetype": "text/x-python",
      "name": "python",
      "nbconvert_exporter": "python",
      "pygments_lexer": "ipython3",
      "version": "3.6.13"
    },
    "vscode": {
      "interpreter": {
        "hash": "8e1f65abe31763ebfc6a38c41cf4af767abbd4b367e58bf83433c82f0381c299"
      }
    }
  },
  "nbformat": 4,
  "nbformat_minor": 4
}
