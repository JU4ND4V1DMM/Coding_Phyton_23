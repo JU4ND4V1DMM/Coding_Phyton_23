{
  "cells": [
    {
      "cell_type": "markdown",
      "metadata": {},
      "source": [
        "# <FONT COLOR=\"blue\"> **Samsung Innovation Campus**</FONT>  \n",
        "## <FONT COLOR=\"blue\">**Codificación y programación**</FONT>\n",
        "\n",
        "# **Capítulo 6. Algoritmos 3 – Resolución de problemas con algoritmos**\n",
        "\n",
        "## Objetivos del capítulo\n",
        "- Los alumnos podrán resolver problemas comunes utilizando algoritmos. Los alumnos podrán comprender algunas técnicas de diseño algorítmico, como el algoritmo voraz (greedy approach), el método divide y vencerás (divide-and-conquer), el método de programación dinámica y el método vuelta atrás (backtracking), y podrán aplicarlas a problemas reales para resolverlos.\n",
        "\n",
        "## Contenido del capítulo\n",
        "- Unidad 30. El algoritmo voraz (greedy approach)\n",
        "- Unidad 31. El método divide y vencerás (divide-and-conquer)\n",
        "- Unidad 32. El método de programación dinámica\n",
        "- Unidad 33. El método vuelta atrás (backtracking)"
      ]
    },
    {
      "cell_type": "markdown",
      "metadata": {},
      "source": [
        "\n",
        "# **Unidad 33. El método vuelta atrás (backtracking)**"
      ]
    },
    {
      "cell_type": "markdown",
      "metadata": {},
      "source": [
        "## Objetivos de aprendizaje\n",
        "\n",
        "- Comprender las técnicas de vuelta atrás(backtracking) y resolver problemas de N-Queens.\n",
        "- Comprender que la técnica de vuelta atrás es una búsqueda en profundidad que utiliza una pila de llamadas funcional.\n",
        "- Implementar algoritmos de manera eficiente a través de la poda en el proceso de búsqueda en profundidad.\n",
        "\n",
        "\n",
        "## Resumen de aprendizaje\n",
        "\n",
        "- Aprender a resolver el problema de N-Queens.\n",
        "- Aprender el principio de resolver la suma de subconjuntos.\n",
        "- Aprender a aplicar técnicas de backtracking.\n",
        "\n",
        "## Conceptos que deberá conocer de las unidades anteriores\n",
        "\n",
        "- Ser capaz de comprender e implementar la definición de funciones recursivas y las condiciones de terminación de las recursiones.\n",
        "- Ser capaz de hacer bifurcaciones condicionales usando sentencias condicionales.\n",
        "- Ser capaz de usar listas de Python.\n",
        "\n",
        "## Palabras clave\n",
        "\n",
        "<table>\n",
        "<tr>\n",
        "  <td><strong>Backtracking</strong></td>\n",
        "  <td><strong>Búsqueda en profundidad</strong></td>\n",
        "<tr>\n",
        "  <td><strong>Promising</strong></td>\n",
        "  <td><strong>Poda</strong></td>\n",
        "<tr>\n",
        "</table>"
      ]
    },
    {
      "cell_type": "markdown",
      "metadata": {},
      "source": [
        "## <FONT COLOR=\"blue\"> Misión</FONT>"
      ]
    },
    {
      "cell_type": "markdown",
      "metadata": {},
      "source": [
        "### <FONT COLOR=\"blue\">1.Problema del mundo real</FONT>"
      ]
    },
    {
      "cell_type": "markdown",
      "metadata": {},
      "source": [
        "####  **1.1. El problema de las 8 reinas**"
      ]
    },
    {
      "cell_type": "markdown",
      "metadata": {},
      "source": [
        "<div align=\"center\"><img src=\"https://github.com/CarlosJVega/RepositorioiImagenes/blob/main/unidad33/Imagen1.png?raw=true\"  width= \"350px\" /></div>\n",
        "\n",
        "\n",
        "- El problema de las 8 reinas es el problema de colocar ocho reinas en un tablero de ajedrez de 8*8.\n",
        "- En el ajedrez, la reina puede moverse hacia la izquierda y hacia la derecha, hacia arriba y hacia abajo y en diagonal. Por lo tanto, no se puede colocar ninguna otra reina en la misma fila, columna o diagonal donde se coloca otra reina.\n",
        "- Para generalizar este problema, se convierte en un problema de N-Queens. Es decir, es un problema de ordenar N-Queens en el tablero de ajedrez N*N.\n",
        "- Creemos un algoritmo para resolver el problema de N-Queens."
      ]
    },
    {
      "cell_type": "markdown",
      "metadata": {},
      "source": [
        "### <FONT COLOR=\"blue\">2.Problema de N-Queens </FONT>"
      ]
    },
    {
      "cell_type": "markdown",
      "metadata": {},
      "source": [
        "\n",
        "- El problema de N-Queens es el problema de colocar N reinas en el tablero de ajedrez N*N.\n",
        "- Por ejemplo, el problema de las 4 reinas en el caso de N=4 es un problema de colocar cuatro reinas en un tablero de ajedrez de 4x4.\n",
        "\n",
        "\n",
        "<div align=\"center\"><img src=\"https://github.com/CarlosJVega/RepositorioiImagenes/blob/main/unidad33/Imagen2.png?raw=true\"  width= \"400px\" /></div>"
      ]
    },
    {
      "cell_type": "markdown",
      "metadata": {},
      "source": [
        "### <FONT COLOR=\"blue\">3. Solución</FONT> "
      ]
    },
    {
      "cell_type": "markdown",
      "metadata": {},
      "source": [
        "####  **3.1 Cómo funciona la solución de N-Queens**"
      ]
    },
    {
      "cell_type": "markdown",
      "metadata": {},
      "source": [
        "- El problema de N-Reinas es el problema de colocar N-reinas en el tablero de ajedrez N*N.\n",
        "- Por ejemplo, el problema de las 4 reinas en el caso de N=4 es un problema de colocar cuatro reinas en un tablero de ajedrez de 4x4.\n"
      ]
    },
    {
      "cell_type": "code",
      "execution_count": 1,
      "metadata": {},
      "outputs": [],
      "source": [
        "def n_queens(i,col):\n",
        "    if promising(i,col):\n",
        "        if i==len(col) -1:\n",
        "            print(col)\n",
        "        else:\n",
        "            for j in range(len(col)):\n",
        "                col[i+1] =j\n",
        "                n_queens(i+1,col)\n",
        "def promising(i,col):\n",
        "    for k in range(i):\n",
        "        if col[i]==col[k] or abs(col[i] - col[k]) == (i-k):\n",
        "            return False\n",
        "    return True"
      ]
    },
    {
      "cell_type": "code",
      "execution_count": 6,
      "metadata": {},
      "outputs": [
        {
          "name": "stdout",
          "output_type": "stream",
          "text": [
            "Ingrese el numero de reinas: 4\n",
            "[1, 3, 0, 2]\n",
            "[2, 0, 3, 1]\n"
          ]
        }
      ],
      "source": [
        "N = int(input(\"Ingrese el numero de reinas:\"))\n",
        "print(\"Ingrese el numero de reinas:\", N)\n",
        "n_queens(-1, [-1]*N) "
      ]
    },
    {
      "cell_type": "markdown",
      "metadata": {},
      "source": [
        "## <FONT COLOR=\"blue\"> Concepto clave</FONT>"
      ]
    },
    {
      "cell_type": "markdown",
      "metadata": {},
      "source": [
        "### <FONT COLOR=\"blue\">1. Vuelta atrás (Backtracking) </FONT>"
      ]
    },
    {
      "cell_type": "markdown",
      "metadata": {},
      "source": [
        "####  **1.1. Búsqueda en profundidad**"
      ]
    },
    {
      "cell_type": "markdown",
      "metadata": {},
      "source": [
        "¿Cómo se pueden visitar todos los nodos una vez en una estructura de árbol como se muestra a continuación?\n",
        "\n",
        "<div align=\"center\"><img src=\"https://github.com/CarlosJVega/RepositorioiImagenes/blob/main/unidad33/Imagen3.png?raw=true\"  width= \"800px\" /></div>\n"
      ]
    },
    {
      "cell_type": "markdown",
      "metadata": {},
      "source": [
        "- La búsqueda en profundidad se refiere a un método de búsqueda en el que la prioridad de profundidad se busca de la siguiente manera.\n",
        "- Primero, visite el nodo raíz, seguido del nodo 2 y el nodo 3.\n",
        "\n",
        "<div align=\"center\"><img src=\"https://github.com/CarlosJVega/RepositorioiImagenes/blob/main/unidad33/Imagen4.png?raw=true\"  width= \"800px\" /></div>"
      ]
    },
    {
      "cell_type": "markdown",
      "metadata": {},
      "source": [
        "- El nodo 3 tiene más nodos para visitar, por lo que debe devolver el nodo anterior.\n",
        "- Dado que quedan nodos para visitar en el nodo 2, la búsqueda en profundidad puede continuar\n",
        "\n",
        "<div align=\"center\"><img src=\"https://github.com/CarlosJVega/RepositorioiImagenes/blob/main/unidad33/Imagen5.png?raw=true\"  width= \"800px\" /></div>"
      ]
    },
    {
      "cell_type": "markdown",
      "metadata": {},
      "source": [
        "- Después de visitar los nodos 4 y 5, vuelve al 2.\n",
        "- Dado que ya se han visitado todos los subnodos del nodo 2, deben volver al nodo 1\n",
        "<div align=\"center\"><img src=\"https://github.com/CarlosJVega/RepositorioiImagenes/blob/main/unidad33/Imagen6.png?raw=true\"  width= \"800px\" /></div>"
      ]
    },
    {
      "cell_type": "markdown",
      "metadata": {},
      "source": [
        "- De esta forma, todos los nodos se pueden visitar en el siguiente orden.\n",
        "- El número de cada nodo es el orden de los nodos visitados por (Depth First Search, DFS)\n",
        "<div align=\"center\"><img src=\"https://github.com/CarlosJVega/RepositorioiImagenes/blob/main/unidad33/Imagen7.png?raw=true\"  width= \"800px\" /></div>"
      ]
    },
    {
      "cell_type": "markdown",
      "metadata": {},
      "source": [
        "El pseudocódigo de la búsqueda en profundidad se puede expresar de la siguiente manera.\n",
        "\n",
        "   - <FONT COLOR=\"purple\"> def</FONT> <FONT COLOR=\"#77B5FE\"> depth_first_search  </FONT> ( node v ): \n",
        "        - visit <FONT COLOR=\"#77B5FE\"> v  </FONT> \n",
        "        - <FONT COLOR=\"purple\"> for </FONT> <FONT COLOR=\"#77B5FE\"> cada hijo u de v  </FONT>\n",
        "            - <FONT COLOR=\"#77B5FE\"> depth_first_search (u)  </FONT>\n",
        " "
      ]
    },
    {
      "cell_type": "markdown",
      "metadata": {},
      "source": [
        "####  **1.2. Estrategia Vuelta Atrás**"
      ]
    },
    {
      "cell_type": "markdown",
      "metadata": {},
      "source": [
        "Vuelta Atrás es una estrategia útil de diseño de algoritmos que crea de forma incremental una solución candidata y retrocede tan pronto como determina que la solución candidata no puede conducir a una solución válida.\n",
        "\n",
        "**Vuelta Atrás resuelve problemas con el siguiente proceso**\n",
        "- Organice el espacio de búsqueda en forma de árbol.\n",
        "- Explore el árbol del espacio de búsqueda mediante la búsqueda en profundidad.\n",
        "- Vuelve cuando ya no es prometedor (promising).\n",
        "\n",
        "**Vuelta Atrás utiliza la técnica de poda de la siguiente manera.**\n",
        "- La poda se refiere a regresar sin visitar los nodos en el subárbol que no son prometedores.\n",
        "- Prometedor (promising) se refiere a un estado en el que puede existir una solución en el subárbol de un nodo que visita actualmente."
      ]
    },
    {
      "cell_type": "markdown",
      "metadata": {},
      "source": [
        "#### **Ejemplo** "
      ]
    },
    {
      "cell_type": "markdown",
      "metadata": {},
      "source": [
        "- Por ejemplo, como se muestra a continuación, los nodos 5, 6 y 10 no necesitan visitar este nodo y sus subnodos si no son prometedores.\n",
        "\n",
        "<div align=\"center\"><img src=\"https://github.com/CarlosJVega/RepositorioiImagenes/blob/main/unidad33/Imagen8.png?raw=true\"  width= \"1000px\" /></div>\n",
        "    "
      ]
    },
    {
      "cell_type": "markdown",
      "metadata": {},
      "source": [
        "- Por lo tanto, la eficiencia del algoritmo puede mejorarse eliminando los nodos poco prometedores de la siguiente manera y evitando así la visita.\n",
        "    \n",
        "<div align=\"center\"><img src=\"https://github.com/CarlosJVega/RepositorioiImagenes/blob/main/unidad33/Imagen9.png?raw=true\"  width= \"1000px\" /></div>"
      ]
    },
    {
      "cell_type": "markdown",
      "metadata": {},
      "source": [
        "## <FONT COLOR=\"blue\">Vamos a codificar </FONT>"
      ]
    },
    {
      "cell_type": "markdown",
      "metadata": {},
      "source": [
        "### <FONT COLOR=\"blue\"> 1. Problema de N-Queens con Vuelta Atrás </FONT>"
      ]
    },
    {
      "cell_type": "markdown",
      "metadata": {},
      "source": [
        "####  **1.1. Resolviendo el problema de N-Queens con Vuelta Atrás**"
      ]
    },
    {
      "cell_type": "markdown",
      "metadata": {},
      "source": [
        "Para resolver el problema de N-Queens, considere el caso de N=4. El problema de las 4 reinas es el problema de colocar cuatro reinas en un tablero de ajedrez de 4x4.\n",
        "\n",
        "<div align=\"center\"><img src=\"https://github.com/CarlosJVega/RepositorioiImagenes/blob/main/unidad33/Imagen10.png?raw=true\"  width= \"400px\" /></div>\n",
        "\n",
        "La forma más fácil es colocar la reina en todas las ubicaciones configurables.\n",
        "Si se coloca una reina negra en la posición (0, 0) como se muestra a continuación, puede intentar colocar la reina roja en todas las posiciones posibles en la segunda fila.\n",
        "\n",
        "<div align=\"center\"><img src=\"https://github.com/CarlosJVega/RepositorioiImagenes/blob/main/unidad33/Imagen11.png?raw=true\"  width= \"400px\" /></div>\n",
        "\n",
        "Sin embargo, los lugares primero y segundo de la segunda fila no se pueden colocar.\n",
        "Esto se debe a que la reina negra, que ya ha sido colocada, no puede coexistir con otra reina en la misma fila o diagonal.\n",
        "\n",
        "<div align=\"center\"><img src=\"https://github.com/CarlosJVega/RepositorioiImagenes/blob/main/unidad33/Imagen12.png?raw=true\"  width= \"400px\" /></div>\n",
        "\n",
        "Si, en la segunda fila, la reina se coloca en la tercera columna.\n",
        "En la tercera fila, las reinas no se pueden colocar en ningún lado.\n",
        "Esto se debe a que no se puede colocar en la misma fila, columna o línea diagonal que las dos reinas que ya están en posición.\n",
        "\n",
        "<div align=\"center\"><img src=\"https://github.com/CarlosJVega/RepositorioiImagenes/blob/main/unidad33/Imagen13.png?raw=true\"  width= \"400px\" /></div>\n",
        "\n",
        "Volvamos al segundo lugar y coloquemos la reina en el cuarto lugar.\n",
        "Esta vez, la reina se puede colocar en la segunda columna de la tercera fila.\n",
        "Sin embargo, la reina ya no se puede colocar en el cuarto lugar.\n",
        "\n",
        "<div align=\"center\"><img src=\"https://github.com/CarlosJVega/RepositorioiImagenes/blob/main/unidad33/Imagen14.png?raw=true\"  width= \"400px\" /></div>\n",
        "\n",
        "Volvamos a la tercera fila y coloquemos la reina.\n",
        "La reina no se puede colocar en la tercera y cuarta fila, por lo que tenemos que volver a la segunda fila nuevamente.\n",
        "Como ya probamos todas las segundas líneas, volvamos a la primera línea e intentemos con la siguiente.\n",
        "\n",
        "<div align=\"center\"><img src=\"https://github.com/CarlosJVega/RepositorioiImagenes/blob/main/unidad33/Imagen15.png?raw=true\"  width= \"400px\" /></div>\n",
        "\n",
        "Si la reina se coloca en la segunda columna de la primera fila, la reina se puede colocar en la cuarta columna de la segunda fila.\n",
        "Si coloca una reina en la primera columna de la tercera fila, puede colocar una reina en la tercera columna de la cuarta fila.\n",
        "Ahora hemos resuelto este problema porque tenemos las cuatro reinas.\n",
        "\n",
        "<div align=\"center\"><img src=\"https://github.com/CarlosJVega/RepositorioiImagenes/blob/main/unidad33/Imagen16.png?raw=true\"  width= \"400px\" /></div>"
      ]
    },
    {
      "cell_type": "markdown",
      "metadata": {},
      "source": [
        "####   **1.2. Espacio de búsqueda con poda**"
      ]
    },
    {
      "cell_type": "markdown",
      "metadata": {},
      "source": [
        "El árbol espacial de búsqueda del problema N-Queens se puede dibujar de la siguiente manera.\n",
        "\n",
        "<div align=\"center\"><img src=\"https://github.com/CarlosJVega/RepositorioiImagenes/blob/main/unidad33/Imagen17.png?raw=true\"  width= \"400px\" /></div>"
      ]
    },
    {
      "cell_type": "markdown",
      "metadata": {},
      "source": [
        "####  **1.3. Pseudocodigo para la solución de N-Queens**"
      ]
    },
    {
      "cell_type": "markdown",
      "metadata": {},
      "source": [
        "El pseudocódigo para resolver este problema se puede expresar de la siguiente manera.\n",
        "\n",
        "- <FONT COLOR=\"purple\"> def</FONT> <FONT COLOR=\"#77B5FE\"> n_queens  </FONT> ( node v ): \n",
        "    - <FONT COLOR=\"purple\"> if</FONT> (<FONT COLOR=\"#77B5FE\"> promising  </FONT> ( v ) ):\n",
        "        - <FONT COLOR=\"purple\"> if</FONT> (<FONT COLOR=\"#77B5FE\"> es   una solución de v </FONT> ):\n",
        "            - Escriba la solución\n",
        "        - <FONT COLOR=\"purple\"> else</FONT>:\n",
        "            - <FONT COLOR=\"purple\"> for </FONT> (<FONT COLOR=\"#77B5FE\"> cada hijo u de v  </FONT>):\n",
        "                - <FONT COLOR=\"#77B5FE\"> n_queens  </FONT> ( u )\n",
        "      "
      ]
    },
    {
      "cell_type": "markdown",
      "metadata": {},
      "source": [
        "####  **1.4. Implementación y codificación**"
      ]
    },
    {
      "cell_type": "markdown",
      "metadata": {},
      "source": [
        "La función promising debe verificar si existen dos reinas en la misma fila, columna o diagonal.\n",
        "- Supongamos que *col[i]* es el número de la columna en la i-ésima fila.\n",
        "- Es decir, *col = [1, 0, 2, 3]* muestra el siguiente estado.\n",
        "\n",
        "<div align=\"center\"><img src=\"https://github.com/CarlosJVega/RepositorioiImagenes/blob/main/unidad33/Imagen18.png?raw=true\"  width= \"600px\" /></div>\n",
        "\n",
        "Dado que colocaremos reinas solo en filas diferentes, podemos evitar la superposición de filas.\n",
        "Para verificar si las dos reinas existen en la misma columna, se debe verificar la siguiente situación\n",
        "\n",
        "<div align=\"center\"><img src=\"https://github.com/CarlosJVega/RepositorioiImagenes/blob/main/unidad33/Imagen19.png?raw=true\"  width= \"500px\" /></div>\n",
        "\n",
        "Para determinar si las dos reinas pueden existir en diagonal, el valor absoluto de la diferencia entre filas y columnas debe verificarse de la siguiente manera.\n",
        "\n",
        "<div align=\"center\"><img src=\"https://github.com/CarlosJVega/RepositorioiImagenes/blob/main/unidad33/Imagen20.png?raw=true\"  width= \"600px\" /></div>\n"
      ]
    },
    {
      "cell_type": "code",
      "execution_count": 1,
      "metadata": {},
      "outputs": [],
      "source": [
        "def promising(i,col):\n",
        "    for k in range(i):\n",
        "        if col[i]==col[k] or abs(col[i] - col[k]) == (i-k):\n",
        "            return False\n",
        "    return True"
      ]
    },
    {
      "cell_type": "markdown",
      "metadata": {},
      "source": [
        "**Lineas 1-2**\n",
        "- Dada una lista de columnas y el índice $i$ como parámetros de entrada, verifique si la $i$-ésima columna es prometedora.\n",
        "- La fila en la que ya está colocada la reina es la rama $0^{th}$ a $i^{th}$ – 1, por lo que atraviesa el bucle for de $0$ a $i - 1$.\n",
        "\n",
        "**Lineas 3-5**\n",
        "- Para cada índice $k$, verifique si ya hay diferentes reinas en la misma columna, o si hay diferentes reinas en la diagonal.\n",
        "- Si hay una reina en la misma columna o en su diagonal, devuelve *False*. De lo contrario, devuelve *True*."
      ]
    },
    {
      "cell_type": "markdown",
      "metadata": {},
      "source": [
        "La función n_queens() implementa una estrategia de Vuelta Atrás."
      ]
    },
    {
      "cell_type": "code",
      "execution_count": 9,
      "metadata": {},
      "outputs": [],
      "source": [
        "def n_queens(i,col):\n",
        "    if promising(i,col):\n",
        "        if i==len(col) -1:\n",
        "            print(col)\n",
        "        else:\n",
        "            for j in range(len(col)):\n",
        "                col[i+1] =j\n",
        "                n_queens(i+1,col)"
      ]
    },
    {
      "cell_type": "markdown",
      "metadata": {},
      "source": [
        "**Lineas 2-4**\n",
        "- Dados $i$ y $col$ como parámetros de entrada, si la $i$-ésima columna no es prometedora, regresa inmediatamente.\n",
        "- Si la $i$-ésima columna es prometedora e $i$ es la última fila, se ha encontrado la solución, por lo que se ingresa la lista de columnas correspondiente.\n",
        "\n",
        "**Lineas 5-8**\n",
        "- Si la i-ésima columna es prometedora y $i$ no es la última fila, continúe con la búsqueda en profundidad.\n",
        "- Línea 7: Antes de continuar con la búsqueda en profundidad, coloque la reina en la columna $i+1_{er}$ término $j$ de la lista de columnas,\n",
        "- Línea 8: y Continuar buscando la fila $i + 1$."
      ]
    },
    {
      "cell_type": "markdown",
      "metadata": {},
      "source": [
        "####  **1.5. Ejecutar la solución de N-Queens**"
      ]
    },
    {
      "cell_type": "markdown",
      "metadata": {},
      "source": [
        "Después de recibir el valor de $N$ como entrada del usuario, la lista de columnas que inicializa la $i$-ésima fila en $-1$ y los elementos de la lista en $-1$ se proporciona como un valor de parámetro, y se llama a la función *n_queens()*"
      ]
    },
    {
      "cell_type": "code",
      "execution_count": 8,
      "metadata": {},
      "outputs": [
        {
          "name": "stdout",
          "output_type": "stream",
          "text": [
            "Ingrese el numero de reinas: 4\n",
            "[1, 3, 0, 2]\n",
            "[2, 0, 3, 1]\n"
          ]
        }
      ],
      "source": [
        "N = int(input(\"Ingrese el numero de reinas:\"))\n",
        "print(\"Ingrese el numero de reinas:\", N)\n",
        "n_queens(-1, [-1]*N) "
      ]
    },
    {
      "cell_type": "markdown",
      "metadata": {},
      "source": [
        "## <FONT COLOR=\"blue\"> **Quiz** </FONT>"
      ]
    },
    {
      "cell_type": "markdown",
      "metadata": {},
      "source": [
        "### <FONT COLOR=\"blue\">**Q1.** </FONT>"
      ]
    },
    {
      "cell_type": "markdown",
      "metadata": {},
      "source": [
        "Si reemplaza cada letra con un número en las siguientes letras, el número correspondiente a las cinco palabras se elevará al cuadrado. Y para cada palabra, la suma de cada dígito también se convierte en un número cuadrado.\n",
        "Encuentra el número que representa cada letra.\n",
        "\n",
        "<div align=\"center\"><img src=\"https://github.com/CarlosJVega/RepositorioiImagenes/blob/main/unidad33/Imagen21.png?raw=true\"  width= \"600px\" /></div>\n",
        "\n",
        "**Pista**\n",
        "\n",
        "Tenga en cuenta que T y O pueden ser 8 y 1, respectivamente.\n",
        "Como 81 es un número cuadrado perfecto, $81 = 9^2$.\n",
        "Además, $8 + 1$ es un número cuadrado perfecto, ya que $9 = 3^2$."
      ]
    },
    {
      "cell_type": "code",
      "execution_count": null,
      "metadata": {},
      "outputs": [],
      "source": []
    },
    {
      "cell_type": "markdown",
      "metadata": {},
      "source": [
        "## <FONT COLOR=\"blue\">Programación por parejas </FONT>\n",
        "\n",
        "### <FONT COLOR=\"blue\">Práctica de la programación en parejas </FONT>\n",
        "\n",
        "\n",
        "**Directriz, mecanismos y plan de contingencia**\n",
        "\n",
        " Preparar la programación por parejas implica establecer pautas y mecanismos para ayudar a los alumnos a emparejarse correctamente y mantenerlos emparejados.  Por ejemplo, los estudiantes deben turnarse para \"conducir el mouse\".  La preparación efectiva requiere planes de contingencia en caso de que uno de los socios se ausente o decida no participar por una u otra razón.  En estos casos, es importante dejar claro que el alumno activo no será sancionado porque el emparejamiento no funcionó bien.\n",
        " \n",
        "**Emparejar habilidades similares, no necesariamente iguales, como socios**\n",
        "\n",
        " La programación en parejas puede ser efectiva cuando los estudiantes con habilidades similares, aunque no necesariamente iguales, se emparejan como compañeros.  El emparejamiento de estudiantes que no coinciden a menudo puede conducir a una participación desequilibrada.  Los maestros deben enfatizar que la programación en parejas no es una estrategia de \"divide y vencerás\", sino más bien un verdadero esfuerzo de colaboración en cada esfuerzo por todo el proyecto.  Los maestros deben evitar emparejar a estudiantes muy débiles con estudiantes muy fuertes.\n",
        "\n",
        "**Motivar a los estudiantes ofreciendo incentivos adicionales**\n",
        "\n",
        " Ofrecer incentivos adicionales puede ayudar a motivar a los estudiantes a emparejarse, especialmente con estudiantes avanzados.  A algunos maestros les ha resultado útil pedirles a los estudiantes que se emparejen solo para una o dos tareas.\n",
        "\n",
        "**Evitar trampas en la colaboración**\n",
        "\n",
        " El desafío para el maestro es encontrar formas de evaluar los resultados individuales, mientras aprovecha los beneficios de la colaboración.  ¿Cómo saber si un estudiante aprendió o hizo trampa?  Los expertos recomiendan revisar el diseño y la evaluación del curso, así como discutir explícita y concretamente con los estudiantes los comportamientos que se interpretarán como trampa.  Los expertos alientan a los maestros a hacer que las tareas sean significativas para los estudiantes y a explicar el valor de lo que los estudiantes aprenderán al completarlas.\n",
        "\n",
        "**Entorno de aprendizaje colaborativo**\n",
        "\n",
        " Un entorno de aprendizaje colaborativo ocurre cada vez que un instructor requiere que los estudiantes trabajen juntos en actividades de aprendizaje.  Los entornos de aprendizaje colaborativo pueden implicar actividades tanto formales como informales y pueden incluir o no una evaluación directa.  Por ejemplo, parejas de estudiantes trabajan en asignaciones de programación; pequeños grupos de estudiantes discuten posibles respuestas a la pregunta de un profesor durante la lección; y los estudiantes trabajan juntos fuera de clase para aprender nuevos conceptos.  El aprendizaje colaborativo es distinto de los proyectos en los que los estudiantes \"dividen y vencerán\".  Cuando los estudiantes dividen el trabajo, cada uno es responsable de solo una parte de la resolución del problema y hay oportunidades muy limitadas para resolver los problemas con los demás.  En entornos colaborativos, los estudiantes participan en conversaciones intelectuales entre ellos.\n",
        "\n"
      ]
    },
    {
      "cell_type": "markdown",
      "metadata": {},
      "source": [
        "### <FONT COLOR=\"blue\">**Q1.** </FONT>"
      ]
    },
    {
      "cell_type": "markdown",
      "metadata": {},
      "source": [
        "La matriz binaria N*N se da en un laberinto de la siguiente manera, y el ratón debe moverse desde la coordenada (0, 0) a la coordenada (N-1, N-1)\n",
        "\n",
        "\n",
        "<div align=\"center\"><img src=\"https://github.com/CarlosJVega/RepositorioiImagenes/blob/main/unidad33/Imagen22.png?raw=true\"  width= \"600px\" /></div>\n"
      ]
    },
    {
      "cell_type": "markdown",
      "metadata": {},
      "source": [
        "**Pista**\n",
        "- Para salir de este laberinto, el ratón debe viajar a un camino con el número 0.\n",
        "- Continúe la búsqueda usando DFS, regrese cuando llegue a un callejón sin salida y viaje hasta llegar a su destino\n",
        "\n",
        "\n",
        "<div align=\"center\"><img src=\"https://github.com/CarlosJVega/RepositorioiImagenes/blob/main/unidad33/Imagen23.png?raw=true\"  width= \"600px\" /></div>\n",
        "\n"
      ]
    }
  ],
  "metadata": {
    "kernelspec": {
      "display_name": "Python 3.6.13 ('NLP_36')",
      "language": "python",
      "name": "python3"
    },
    "language_info": {
      "codemirror_mode": {
        "name": "ipython",
        "version": 3
      },
      "file_extension": ".py",
      "mimetype": "text/x-python",
      "name": "python",
      "nbconvert_exporter": "python",
      "pygments_lexer": "ipython3",
      "version": "3.6.13"
    },
    "vscode": {
      "interpreter": {
        "hash": "8e1f65abe31763ebfc6a38c41cf4af767abbd4b367e58bf83433c82f0381c299"
      }
    }
  },
  "nbformat": 4,
  "nbformat_minor": 4
}
