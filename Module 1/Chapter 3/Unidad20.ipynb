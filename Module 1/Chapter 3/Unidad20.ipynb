{
 "cells": [
  {
   "cell_type": "markdown",
   "id": "f936ea87",
   "metadata": {},
   "source": [
    "# <FONT COLOR=\"blue\"> **Samsung Innovation Campus**</FONT>  \n",
    "\n",
    "## <FONT COLOR=\"blue\">**Codificación y Programación**</FONT>\n",
    "\n",
    "# **Capítulo 3: Programación eficaz en Python: Función, Clausura y Clase**\n",
    "\n",
    "## Objetivos del capítulo\n",
    "\n",
    "Los alumnos podrán utilizar funciones y técnicas de programación modular. Los alumnos podrán usar expresiones lambda, que son expresiones que se usan para expresar funciones simples. Los alumnos podrán comprender el cierre que recibe el valor de retorno como una función después de definir funciones anidadas. Además, los alumnos podrán definir clases, que son conceptos importantes de los lenguajes orientados a objetos.\n",
    "\n",
    "## Contenido del capítulo\n",
    "- Unidad 17. Función\n",
    "- Unidad 18. Llamado Recursivo de una Función\n",
    "- Unidad 19. Lambda\n",
    "- Unidad 20. Clausura\n",
    "- Unidad 21. Clase"
   ]
  },
  {
   "cell_type": "markdown",
   "id": "6077fa0d",
   "metadata": {},
   "source": [
    "# **Unidad 20. Clausura (Closure)**\n"
   ]
  },
  {
   "cell_type": "markdown",
   "id": "c0e29db1",
   "metadata": {},
   "source": [
    "\n",
    "## Objetivos de aprendizaje\n",
    "- Entender y utilizar el alcance de uso de las variables a través del entendimiento de la regla de alcance.\n",
    "- Llamar y operar una función dentro de una función a través de funciones anidadas.\n",
    "- Entender el concepto de variables locales dentro de una función y variables globales definidas por fuera de una función. Tambien, detectar variables cercanas al usar la palabra clave *nonlocal* dentro de una función.\n",
    "- Retornar la referencia de una función interna contenida dentro de una función mediante el *closure*.\n",
    "- Construir un *closure* a través del uso de la función lambda.\n",
    "- Convertir una variable local de un *closure* a través del uso de *nonlocal*.\n",
    "\n",
    "## Resumen de la lección\n",
    "- Aprenderás el alcance válido de una variable de Python.\n",
    "- Crearás una función anidada y crearás llamados a sus funciones internas.\n",
    "- Aprenderás como usar la palabra clave *keyword* la cual encuentra la variable local más cercana.\n",
    "- Entenderás porque el *closure* es necesario y cómo definirlo.\n",
    "- Aprenderás como definir el *closure* a través de la función lambda.\n",
    "- Aprenderás como convertir variables locales de un *closure*.\n",
    " \n",
    "## Conceptos previos de debes saber de las unidades previas\n",
    "\n",
    "- Saber usar las funciones lambda.\n",
    "- Saber usar las funciones pre-construidas de Python *filter*, *map*, * reduce* en conjunto con la función lambda.\n",
    "- Ser capáz de ingresar de manera eficiente valores a traves de los parámetros variables, parámetros básicos y parámetros por palabras clave. \n",
    "\n",
    "## Palabras clave\n",
    "\n",
    "- Reglas de alcance (scoping rule)\n",
    "- Funciones anidadas\n",
    "- Variables locales y globales\n",
    "- Closure\n",
    "- No locales"
   ]
  },
  {
   "attachments": {},
   "cell_type": "markdown",
   "id": "c20925db",
   "metadata": {},
   "source": [
    "## <FONT COLOR=\"blue\"> Misión </FONT>\n",
    "\n",
    "### <FONT COLOR=\"blue\">1. Problema del mundo real </FONT>\n",
    "\n",
    "#### **1.1 Problema de la industrialización: La concentración urbana**\n",
    "\n",
    "<img src=\"https://raw.githubusercontent.com/EdgarGM20/Imagenes/main/Ch20_fig1.png\" width=\"480px\" />\n",
    "\n",
    "En muchos paises, las concentaciones en zonas urbanas ha aumentado debido a la industrialización. De hecho, en el 2018, cerca del 80% de la población en Estados Unidos vive en ciudades y se estima que alcance lel 90% para el 2050. Concentraciones masivas en zonas urbanas produce una parálisis de su funcionamiento normal al igual que de sus actividades económicas. Muchas naciones están sufriendo de polución en el aire, congestión vial, crisis de viviendas, etc. En esta mision, analizaremos información de zonas urbanas para investigar la concentación población en estas.\n",
    "\n",
    "<img src=\"https://raw.githubusercontent.com/EdgarGM20/Imagenes/main/Ch20_fig2.png\" width=\"480px\" />\n",
    "\n",
    "El concepto de urbanización refiere a la concentración de la población y los aspectos relacionados con sus resultantes cambios locales y sociales. Tambien refiere al incremento de población en una ciudad. Una caracteristica de la urbanización es la migración rural a la ciudades. Si consideras la tasa de población de las ciudades que son superiores a 100k, en 1800 era de 1.7% mientras que en 1950 era del 13%. Es decir, que en los últimos 150 años la población urbana ha crecido 20 veces mientras que la población mundial solo creció 2.5 veces. Es más, en 1960, la tasa de población urbana pasó a ser del 20.1%. Finalmente, este problema de la urbanizacion no solo pasa en las naciones desarrolladas, este fenómeno también se observa en regiones tales como el sudeste asiático y latinoamerica.\n",
    "\n",
    "### <FONT COLOR=\"blue\"> 2. Solución </FONT>\n",
    "\n",
    "#### **2.1. Más acerca de la urbanización**\n",
    "<img src=\"https://raw.githubusercontent.com/EdgarGM20/Imagenes/main/Ch20_fig3.png\" width=\"480px\" />\n",
    "\n",
    "Si quieres profundizar sobre este tema puedes hacer clic en este enlace [clic](https://en.wikipedia.org/wiki/Urbanization)\n",
    "\n",
    "### <FONT COLOR=\"blue\"> 3. Misión </FONT>\n",
    "\n",
    "#### **3.1. Análisis sobre la urbanización**\n",
    "\n",
    "<img src=\"https://raw.githubusercontent.com/EdgarGM20/Imagenes/main/Ch20_fig4.png\" width=\"480px\"  />\n",
    "\n",
    "Vamos a analizar una nación de Asia y construiremos la información de la población de sus 4 ciudades principales. Para ello, vamos a generar un diccionario llamado city_pop el cual contiene el nombre y la población de A, B, C y D. La información de ese diccionario (unidades por 10k):\n",
    "\n",
    "- A = 9765\n",
    "- B = 3441\n",
    "- C = 2954\n",
    "- D = 1531\n",
    "\n",
    "Y crearemos la función *urban* la cual imprime la población de la ciudad más poblada, la población de la menos poblada, la diferencia de población entre las ciudades más y menos pobladas, y el promedio de las 4 poblaciones.\n",
    "\n",
    "#### **3.2 Implentación del análisis sobre la urbanización**"
   ]
  },
  {
   "cell_type": "code",
   "execution_count": 1,
   "id": "fff39584",
   "metadata": {},
   "outputs": [
    {
     "name": "stdout",
     "output_type": "stream",
     "text": [
      "población máxima:  9765\n",
      "población mínima: 1531\n",
      "Diferencia:  8234\n",
      "Población media:  4422.75\n"
     ]
    }
   ],
   "source": [
    "def urban(city):\n",
    "    global max_pop, min_pop, pop_sum\n",
    "    n = 0\n",
    "    for name, pop in city.items():\n",
    "        if pop > max_pop:\n",
    "            max_pop = pop\n",
    "        if pop < min_pop:\n",
    "            min_pop = pop\n",
    "        pop_sum += pop\n",
    "        n += 1\n",
    "    \n",
    "    print('población máxima: ', max_pop)\n",
    "    print('población mínima:', min_pop)\n",
    "    print('Diferencia: ', max_pop - min_pop)\n",
    "    print('Población media: ', pop_sum/n)\n",
    "    \n",
    "max_pop = 0\n",
    "min_pop = 10000000\n",
    "pop_sum = 0\n",
    "\n",
    "# Estadísticas de las ciudades\n",
    "city_pop = {'A': 9765, 'B':3441, 'C':2954, 'D':1531}\n",
    "\n",
    "urban(city_pop)"
   ]
  },
  {
   "cell_type": "markdown",
   "id": "f7955796",
   "metadata": {},
   "source": [
    "**##### **3.3 Diagrama de flujo y pseudocódigo de la implementación final**\n",
    "\n",
    "<img src=\"https://raw.githubusercontent.com/EdgarGM20/Imagenes/main/Ch20_fig5.png\" width=\"480px\"  />\n",
    "\n",
    "## <FONT COLOR=\"blue\"> Concepto Clave </FONT>\n",
    "### <FONT COLOR=\"blue\"> 1. Regla del alcance en Python </FONT>\n",
    "#### **1.1 Regla del alcance**\n",
    "\n",
    "En esta unidad se introduce muchas funciones de alto nivel y conceptos abstractos. Particularmente se centra en el alcance valido de las variables y las funciones. En los lenguages de programación, incluido Python, se establecen reglas para validar el contexto y el acceso para una variable, a esto se le conoce como **Regla del alcance**. En particular, Python distingue el alcance de las variables de la siguiente manera:\n",
    "- L(local): Variable local definida dentro de una función.\n",
    "- E(Función local delimitada (enclose)): Alcance de una función que contiene otra función. Python, a diferencia de otros lenguajes, puede definir una función dentro de otra.\n",
    "- G(global): Variable de un módulo que no es incluida en el alcance de una función.\n",
    "- B(Pre-construida): Una variable pre-construida en el programa.\n",
    "\n",
    "#### **1.2 Regla del alcance en Python**\n",
    "\n",
    "Si una variable se define dentro de una función, se convierte en una variable local. Si se define por fuera de la función, se convierte en una variable global. Por ahora, examinemos las variables L, G y E en el ejercicio de a continuación. (B es una variable pre-construida por lo que no aparece en el siguiente código)"
   ]
  },
  {
   "cell_type": "code",
   "execution_count": 2,
   "id": "ab891caf",
   "metadata": {},
   "outputs": [
    {
     "name": "stdout",
     "output_type": "stream",
     "text": [
      "10 20 11\n",
      "10 40 11\n"
     ]
    }
   ],
   "source": [
    "x = 10\n",
    "y = 11 # Corresponde a G\n",
    "def foo():\n",
    "    x = 20 # la función foo corresponde a L\n",
    "    def bar():\n",
    "        a = 10 # La función bar corresponde a E\n",
    "        print(a, x, y) # Cada variable corresponde a L, E y G\n",
    "    bar()\n",
    "    x = 40\n",
    "    bar()\n",
    "foo()"
   ]
  },
  {
   "cell_type": "markdown",
   "id": "787312ee",
   "metadata": {},
   "source": [
    "Ten en cuenta el posible TypeError que te puede ocurrir con funciones pre-construidas."
   ]
  },
  {
   "cell_type": "code",
   "execution_count": 3,
   "id": "844bf067",
   "metadata": {},
   "outputs": [
    {
     "data": {
      "text/plain": [
       "<function abs(x, /)>"
      ]
     },
     "execution_count": 3,
     "metadata": {},
     "output_type": "execute_result"
    }
   ],
   "source": [
    "abs # Funcion pre-construida"
   ]
  },
  {
   "cell_type": "code",
   "execution_count": 4,
   "id": "f8f7cdeb",
   "metadata": {},
   "outputs": [],
   "source": [
    "abs = 10 # Función global abs"
   ]
  },
  {
   "cell_type": "code",
   "execution_count": 5,
   "id": "cb199362",
   "metadata": {},
   "outputs": [],
   "source": [
    "#abs(-5) # Función global abs() bloquea a la función pre-construida abs()"
   ]
  },
  {
   "cell_type": "markdown",
   "id": "d86fcaef",
   "metadata": {},
   "source": [
    "Por lo tanto, necesitas ser cuidadoso con las funciones pre-construidas. Como abs = 10, el nombre de una función pre-construida a menudo es usado como variable, por lo que la función *abs* se bloquea ya que fue usado como variable y al ejecutar el código. Para que retome sus propiedades se debe eliminar la variable global como se muestra a continuación:"
   ]
  },
  {
   "cell_type": "code",
   "execution_count": 6,
   "id": "0db91a09",
   "metadata": {},
   "outputs": [
    {
     "name": "stdout",
     "output_type": "stream",
     "text": [
      "10\n"
     ]
    }
   ],
   "source": [
    "del abs # Elimina la función global\n",
    "print(abs(-10)) # Vuelve a aparecer la funcion pre-construida"
   ]
  },
  {
   "cell_type": "markdown",
   "id": "bf180cde",
   "metadata": {},
   "source": [
    "Ahora generemos una variable global counter y usemos una tarea como contar = 200 dentre de una función. El número 200 será impreso desde el interior de la función. ¿Ambas funciones, la interna y la externa, imprimiran 200?"
   ]
  },
  {
   "cell_type": "code",
   "execution_count": 7,
   "id": "07f9a44a",
   "metadata": {},
   "outputs": [
    {
     "name": "stdout",
     "output_type": "stream",
     "text": [
      "counter:  200\n",
      "counter:  100\n"
     ]
    }
   ],
   "source": [
    "def print_counter():\n",
    "    counter = 200\n",
    "    print('counter: ', counter)\n",
    "    \n",
    "counter = 100\n",
    "print_counter()\n",
    "print('counter: ', counter)"
   ]
  },
  {
   "cell_type": "markdown",
   "id": "eb17e9c0",
   "metadata": {},
   "source": [
    "#### **1.3 Variables locales y globales**\n",
    "\n",
    "Compare una variable local, la cual se declara dentro de una función y una variable global, la cual es usada en todo el código.\n",
    "<img src=\"https://raw.githubusercontent.com/EdgarGM20/Imagenes/main/Ch20_fig6.png\" width=\"480px\"  />\n",
    "\n",
    "Preste atencion a que el registro de memoria de la variable local desaparece una vez la función interna la ejecuta.\n",
    "\n",
    "<img src=\"https://raw.githubusercontent.com/EdgarGM20/Imagenes/main/Ch20_fig7.png\" width=\"480px\"  />\n",
    "\n",
    "Por otro lado, la palabra clave *global* signifia que la funcion usará la variable global que se define por fuera de la función interna. Veamos que pasa cuando la agregamos al código anterior"
   ]
  },
  {
   "cell_type": "code",
   "execution_count": 8,
   "id": "064b3863",
   "metadata": {},
   "outputs": [
    {
     "name": "stdout",
     "output_type": "stream",
     "text": [
      "counter:  200\n",
      "counter:  200\n"
     ]
    }
   ],
   "source": [
    "def print_counter():\n",
    "    global counter\n",
    "    counter = 200\n",
    "    print('counter: ', counter)\n",
    "    \n",
    "counter = 100\n",
    "print_counter()\n",
    "print('counter: ', counter)"
   ]
  },
  {
   "cell_type": "markdown",
   "id": "3e83a354",
   "metadata": {},
   "source": [
    "Como observamos, la palabra clave global cambia el valor de la variable externa\n",
    "\n",
    "<img src=\"https://raw.githubusercontent.com/EdgarGM20/Imagenes/main/Ch20_fig8.png\" width=\"480px\"  />\n",
    "\n",
    "#### **1.4 Funciones de primera-clase**\n",
    "\n",
    "Una función de primera clase puede ser tratada como cualquier otro objeto. Tu puedes pasar una función a un parámetro, insertarlo a otra varibale o usarla como el valor de retorno. Incluso puedes almacenar una función en tipos de datos como listas y diccionarios. El código de abajo muestra un ejemplo que ejecuta la función callfunc la cual recibe una función como parámetro"
   ]
  },
  {
   "cell_type": "code",
   "execution_count": 9,
   "id": "e76466e4",
   "metadata": {},
   "outputs": [
    {
     "name": "stdout",
     "output_type": "stream",
     "text": [
      "callfunc(greet) function call: \n",
      "Hello\n"
     ]
    }
   ],
   "source": [
    "def callfunc(func):\n",
    "    func()\n",
    "\n",
    "def greet():\n",
    "    print('Hello')\n",
    "    \n",
    "print('callfunc(greet) function call: ')\n",
    "callfunc(greet)"
   ]
  },
  {
   "cell_type": "markdown",
   "id": "1ab95cec",
   "metadata": {},
   "source": [
    "Una función de Python puede ser almacenada en una lista y llamarla de manera similar como una variable"
   ]
  },
  {
   "cell_type": "code",
   "execution_count": 10,
   "id": "f484028f",
   "metadata": {},
   "outputs": [
    {
     "name": "stdout",
     "output_type": "stream",
     "text": [
      "a:  300\n",
      "b:  -100\n"
     ]
    }
   ],
   "source": [
    "def plus(a, b):\n",
    "    return a + b\n",
    "\n",
    "def minus(a, b):\n",
    "    return a - b\n",
    "\n",
    "l_list = [plus, minus]\n",
    "a = l_list[0](100, 200)\n",
    "b = l_list[1](100, 200)\n",
    "\n",
    "print('a: ', a)\n",
    "print('b: ', b)"
   ]
  },
  {
   "cell_type": "markdown",
   "id": "69005c4e",
   "metadata": {},
   "source": [
    "#### **1.5 Funciones de alto nivel implementadas por funciones de primera-clase**\n",
    "\n",
    "Tu puedes ejecutar tareas complejas usando las caracteristicas de las funciones de primera clase. Para ello, mira el siguente ejemplo:"
   ]
  },
  {
   "cell_type": "code",
   "execution_count": 11,
   "id": "49b75ab0",
   "metadata": {},
   "outputs": [
    {
     "data": {
      "text/plain": [
       "7"
      ]
     },
     "execution_count": 11,
     "metadata": {},
     "output_type": "execute_result"
    }
   ],
   "source": [
    "def add(a, b):\n",
    "    return a + b\n",
    "\n",
    "def f(g, a, b):\n",
    "    return g(a, b)\n",
    "\n",
    "f(add, 3, 4)"
   ]
  },
  {
   "cell_type": "markdown",
   "id": "aeaac106",
   "metadata": {},
   "source": [
    "Como viste, tu puedes usar una función como un argumento o un valor de retorno porque en Python son funciones de primera clase.\n",
    "\n",
    "### <FONT COLOR=\"blue\">2. Funciones exteriores y funciones anidadas </FONT>\n",
    "#### **2.1 Ejemplo de una funcion anidada en Python**\n",
    "\n",
    "En Python, tu puedes definir la función *italic* y *bold* en la función *decorate* como se muestra en las siguientes líneas de código:"
   ]
  },
  {
   "cell_type": "code",
   "execution_count": 12,
   "id": "946b3fa9",
   "metadata": {},
   "outputs": [
    {
     "name": "stdout",
     "output_type": "stream",
     "text": [
      "<i>hello</i>\n",
      "<b>hello</b>\n"
     ]
    }
   ],
   "source": [
    "def decorate(style = 'italic'):\n",
    "    def italic(s):\n",
    "        return '<i>' + s + '</i>'\n",
    "    def bold(s):\n",
    "        return '<b>' + s + '</b>'\n",
    "    \n",
    "    if style == 'italic':\n",
    "        return italic\n",
    "    else:\n",
    "        return bold\n",
    "    \n",
    "dec = decorate()\n",
    "print(dec('hello'))\n",
    "dec2 = decorate('bold')\n",
    "print(dec2('hello'))\n"
   ]
  },
  {
   "cell_type": "markdown",
   "id": "e6df7b20",
   "metadata": {},
   "source": [
    "#### **2.2 Razones para usar funciones anidadas**\n",
    "\n",
    "Una funcion anidad es una función dentro de otra. Apesar de las funciones ubadas en el exterior, estas pueden leer variables libremente de la función madre. Prueba el siguiente código:"
   ]
  },
  {
   "cell_type": "code",
   "execution_count": 13,
   "id": "0bdb2cd2",
   "metadata": {},
   "outputs": [
    {
     "name": "stdout",
     "output_type": "stream",
     "text": [
      "hello\n"
     ]
    }
   ],
   "source": [
    "def another_func():\n",
    "    print('hello')\n",
    "    \n",
    "def outer_func():\n",
    "    return another_func()\n",
    "\n",
    "outer_func()"
   ]
  },
  {
   "cell_type": "markdown",
   "id": "1add55c3",
   "metadata": {},
   "source": [
    "Incluso, una razón más importante para usar funciones anidades es la noción de algo llamado *closure*. Una de las condiciones necesarias para implementar el *closure* está ejecutar funicones unidades, es por ello que las funciones anidadas son un importante concepto para entender el *closure*\n",
    "\n",
    "### <FONT COLOR=\"blue\"> 3. Proceso para encontrar variables no locales </FONT>\n",
    "#### **3.1 Palabra clave 'global'**\n",
    "\n",
    "Si necesitas editar el valor de una variable (n1) desde dentro de una función después de declarar una variable global, se debe usar la palabra clave global dentro de esta función interna. Veamos el siguiente ejemplo:"
   ]
  },
  {
   "cell_type": "code",
   "execution_count": 14,
   "id": "35c81e70",
   "metadata": {},
   "outputs": [
    {
     "name": "stdout",
     "output_type": "stream",
     "text": [
      "2\n"
     ]
    }
   ],
   "source": [
    "n1 = 1\n",
    "def func1():\n",
    "    def func2():\n",
    "        global n1\n",
    "        n1 += 1\n",
    "        print(n1)\n",
    "    func2()\n",
    "\n",
    "func1()"
   ]
  },
  {
   "cell_type": "markdown",
   "id": "86b0bce1",
   "metadata": {},
   "source": [
    "#### **3.2 Necesidad de la palabra clave *nonlocal***\n",
    "\n",
    "En el ejemplo anterior, si intentas referir a la variable n2 como una variable global, nos va a aparecer un error de nombre (NameError) debido a que la variable global n2 aún no ha sido definida."
   ]
  },
  {
   "cell_type": "code",
   "execution_count": 15,
   "id": "ddcb440f",
   "metadata": {},
   "outputs": [],
   "source": [
    "def func1():\n",
    "    n2 = 1\n",
    "    def func2():\n",
    "        global n2\n",
    "        n2 += 1\n",
    "        print(n2)\n",
    "    func2()\n",
    "\n",
    "#func1()"
   ]
  },
  {
   "cell_type": "markdown",
   "id": "5de9391b",
   "metadata": {},
   "source": [
    "En estos casos, se debe usar la palabra clave *nonlocal* en vez de *global*."
   ]
  },
  {
   "cell_type": "code",
   "execution_count": 16,
   "id": "4e265103",
   "metadata": {},
   "outputs": [
    {
     "name": "stdout",
     "output_type": "stream",
     "text": [
      "2\n"
     ]
    }
   ],
   "source": [
    "def func1():\n",
    "    n3 = 1\n",
    "    def func2():\n",
    "        nonlocal n3\n",
    "        n3 += 1\n",
    "        print(n3)\n",
    "    func2()\n",
    "\n",
    "func1()"
   ]
  },
  {
   "cell_type": "markdown",
   "id": "8aef4d66",
   "metadata": {},
   "source": [
    "En el ejemplo anterior, debemos usar la plabra clave *nonlocal* en la variable n3 para indicarle al programa que no es una variable local, pero tampoco es una global en el alcance actual. Si tu no estableces a n3 como una variable *nonlocal* con la intención de usar la variable n3 más cercana que no es una variable local, no hay problema. Al concepto de conectar con una variable cercana se le denomina como unión vinculante (binding).\n",
    "\n",
    "##### **3.3 Palabra clave *nonlocal* y la unión vinculante**\n",
    "\n",
    "Tu puedes vincular una variable que está localizada en un nivel superior haciendo uso  de la palabra clave *nonlocal*. Veamos el siguiente ejemplo:"
   ]
  },
  {
   "cell_type": "code",
   "execution_count": 17,
   "id": "c98f9b60",
   "metadata": {},
   "outputs": [
    {
     "name": "stdout",
     "output_type": "stream",
     "text": [
      "80\n",
      "20\n"
     ]
    }
   ],
   "source": [
    "x = 20 # variable global\n",
    "def f():\n",
    "    x = 40\n",
    "    def g():\n",
    "        nonlocal x\n",
    "        x = 80\n",
    "    g()\n",
    "    print(x)\n",
    "    \n",
    "f()\n",
    "print(x)"
   ]
  },
  {
   "cell_type": "markdown",
   "id": "ab04c249",
   "metadata": {},
   "source": [
    "Como vemos, la variable x de la función g ha cambiando su valor a 80 debido a que no es una variable local. Sin embargo, después de que se ejecutan todas las funciones, al imprimir la variable x nuevamente esta toma el valor de 20. Por lo tanto, la variable x se vincula nuevamente a su valor real.\n",
    "\n",
    "#### **3.4 Relación entre la variable *nonlocal* y la *global***\n",
    "\n",
    "Puede ocurrir un error de sintaxis (SyntaxError) cuando se intente definir una variable no local ya que el programa no va a detectar un vinculo para la variable en cuestión. Veamos en el siguiente ejemplo lo que sucede:"
   ]
  },
  {
   "cell_type": "code",
   "execution_count": 18,
   "id": "20112aa8",
   "metadata": {},
   "outputs": [],
   "source": [
    "x = 70 # variable global\n",
    "def f():\n",
    "    nonlocal x\n",
    "    x = 140\n",
    "\n",
    "f()\n",
    "print(x)"
   ]
  },
  {
   "attachments": {},
   "cell_type": "markdown",
   "id": "cff02667",
   "metadata": {},
   "source": [
    "#### **3.5 Proceso para encontrar variables no locales**\n",
    "\n",
    "Supoga un caso donde una una funcion g es definida dentro de una función f y una función h es definida dentro de una función g. Como veremos a continuación, el valor de la variable a dentro de la función g cambia porque fue ejecutada la función h después dentro de la función g. Sin embargo, por fuera de la función g la variable a no cambia debido a que la variable no local no alcanza a referenciar a la función f. Esto significa que la variable no local encuentra y modifica solo la variable más cercana."
   ]
  },
  {
   "cell_type": "code",
   "execution_count": 19,
   "id": "ef9e986a",
   "metadata": {},
   "outputs": [
    {
     "name": "stdout",
     "output_type": "stream",
     "text": [
      "[Nivel 2] a = 333\n",
      "[Nivel 1] a = 777\n"
     ]
    }
   ],
   "source": [
    "def f():\n",
    "    a = 777\n",
    "    def g():\n",
    "        a = 100\n",
    "        def h():\n",
    "            nonlocal a\n",
    "            a = 333\n",
    "        h()\n",
    "        print('[Nivel 2] a = {}'.format(a))\n",
    "    g()\n",
    "    print('[Nivel 1] a = {}'.format(a))\n",
    "    \n",
    "f()"
   ]
  },
  {
   "cell_type": "markdown",
   "id": "84ab2e73",
   "metadata": {},
   "source": [
    "### <FONT COLOR=\"blue\"> 4. El concepto de closure </FONT>\n",
    "#### **4.1 Acerca de *closure***\n",
    "\n",
    "La forma básica de una función *closure* es: Se crea una función anidada dentro de una función y el valor retornado de esta es la función anidada. En estos casos puedes decir que la función anidada fue cerrada *closured*.  Si una función es cerrada, las variables dentro del cuerpo de la función original (la función más externa) no desaparecen de la memoria. Luego, en la próxima llamada se puede utilizar la función anidada. Veamos este concepto en el siguiente ejemplo: "
   ]
  },
  {
   "cell_type": "code",
   "execution_count": 20,
   "id": "78a42b43",
   "metadata": {},
   "outputs": [
    {
     "name": "stdout",
     "output_type": "stream",
     "text": [
      "2 4 6\n"
     ]
    }
   ],
   "source": [
    "def closure_calc():\n",
    "    a = 2\n",
    "    def mult(x):\n",
    "        return a*x\n",
    "    return mult\n",
    "\n",
    "c = closure_calc()\n",
    "print(c(1), c(2), c(3))"
   ]
  },
  {
   "cell_type": "markdown",
   "id": "95591ae7",
   "metadata": {},
   "source": [
    "#### **4.2 Analizando una función cerrada (*closure*)**\n",
    "\n",
    "En el código inferior, el retorno del valor de la función *closure_calc* es la función *mult*, por lo tanto, esta referencia su función interna y como todas las funciones en pythos son de primera clase, es por ello que la función mult puede ser llamada a través de c.\n",
    "\n",
    "<img src=\"https://raw.githubusercontent.com/EdgarGM20/Imagenes/main/Ch20_fig9.png\" width=\"480px\"  />\n",
    "\n",
    "#### **4.3 Propósito de una función cerrada (*closure*)**\n",
    "\n",
    "En la programación tradicional tienes que declarar una variable global para usarla en varias funciones sin importar que ya se hayan ejecutado. Sin embargo, el uso indiscriminado de lsas  variables globales puede llevar efectos colaterales al momento de depurar el código. Para crear una función cerrada (closure), se define una variable y el cuerpo de la función y luego la empaquetas dentro de otra función. Por lo tanto, si hay una función externa que empaqueta una función cerrada, el tipo de retorno de la función externa se convierte en una función cerrada, lo que permite reducir la frecuencia de una variable en general y  esconder su funcionamiento interno del exterior.\n",
    "\n",
    "#### **4.4 Uso principal de una función cerrada (*closure*)**\n",
    "\n",
    "La función cerrada tiene dos propósitos:\n",
    " - limitar el uso de variables globales.\n",
    " - esconder datos.\n",
    " \n",
    "En términos de eficiencia de operación de memoria, una función cerrada es ineficiente. Sin embargo, al final, esta estrategia puede llegar a ser más efectiva porque reduce la cantidad de variables globales. Por otro lado, si quieres esconder información, puedes declarar una función cerrada que empaquete las variables locales de la función interna. Como dato adicional, una función cerrada provee de un espacio independiente para cada función por lo que puedes definir una función que se comporte independientemente como un objeto instanciado, pero esto lo veremos en la siguiente unidad.\n",
    "\n",
    "Una función cerrada tiene memoria separada para cada variable.\n",
    "\n",
    "<img src=\"https://raw.githubusercontent.com/EdgarGM20/Imagenes/main/Ch20_fig10.png\" width=\"480px\"  />\n",
    "\n",
    "En el siguiente ejercicio puedes ver que la función cerrada tiene un espacio de memoria separada para cada variable, por lo tanto, cada conteo para c1 y c2 tienen su propio espacio de memoria"
   ]
  },
  {
   "cell_type": "code",
   "execution_count": 21,
   "id": "4574b08a",
   "metadata": {},
   "outputs": [
    {
     "name": "stdout",
     "output_type": "stream",
     "text": [
      "c1 1\n",
      "c1 2\n",
      "c2 1\n"
     ]
    }
   ],
   "source": [
    "def makecounter():\n",
    "    count = 0\n",
    "    def counter():\n",
    "        nonlocal count\n",
    "        count += 1\n",
    "        return count\n",
    "    return counter\n",
    "\n",
    "c1 = makecounter()\n",
    "c2 = makecounter()\n",
    "\n",
    "print('c1', c1())\n",
    "print('c1', c1())\n",
    "print('c2', c2())\n"
   ]
  },
  {
   "cell_type": "markdown",
   "id": "b616cb47",
   "metadata": {},
   "source": [
    "#### **4.5 Cómo generar una función cerrada (*closure*)**\n",
    "\n",
    "Tu puedes generar una función cerrada escribiendo una función anidada y retornándola. Veamos el siguiente ejemplo:"
   ]
  },
  {
   "cell_type": "code",
   "execution_count": 22,
   "id": "c087a374",
   "metadata": {},
   "outputs": [
    {
     "name": "stdout",
     "output_type": "stream",
     "text": [
      "8 11 14 17 20\n"
     ]
    }
   ],
   "source": [
    "def calc():\n",
    "    a = 3\n",
    "    b = 5\n",
    "    \n",
    "    def mul_add(x):\n",
    "        return a*x + b\n",
    "    return mul_add\n",
    "\n",
    "c = calc()\n",
    "print(c(1), c(2), c(3), c(4), c(5))"
   ]
  },
  {
   "cell_type": "markdown",
   "id": "22c492e5",
   "metadata": {},
   "source": [
    "### <FONT COLOR=\"blue\"> 5. Realizando funciones cerradas con lambda </FONT>\n",
    "#### **5.1 Ejemplo de realizar una función cerrada con lambda**\n",
    "\n",
    "Del ejemplo anterior, podemos crear una función lambda que realice la operación $a*x + b$ y que retone la función lambda simplificando el proceso. Por otro lado, normalmente la función lambda y la función cerrada se usan en conjunto por lo que fácilmente se pueden llegar a confundir sus funcionalidades, por lo que debemos siempre recordar que lambda es una función anónima mientra que la función cerrada significa que una función que puede ser reusada manteniendo sus propiedades definidas en el empaquetamiento.  "
   ]
  },
  {
   "cell_type": "code",
   "execution_count": 23,
   "id": "d4c68b1b",
   "metadata": {},
   "outputs": [
    {
     "name": "stdout",
     "output_type": "stream",
     "text": [
      "5 7 9 11 13\n"
     ]
    }
   ],
   "source": [
    "def calc():\n",
    "    a = 2\n",
    "    b = 3\n",
    "    \n",
    "    return lambda x: a*x + b\n",
    "\n",
    "c = calc()\n",
    "print(c(1), c(2), c(3), c(4), c(5))"
   ]
  },
  {
   "cell_type": "markdown",
   "id": "86c499e8",
   "metadata": {},
   "source": [
    "### <FONT COLOR=\"blue\"> 6. Cambiando una variable local de una función cerrada </FONT>\n",
    "#### **6.1 Ejemplo de realizar el cambio de una variable local en una función cerrada**\n",
    "\n",
    "Para realizarlo, debemos hacer uso de la varible *nonlocal*. Veamos el siguiente ejemplo:"
   ]
  },
  {
   "cell_type": "code",
   "execution_count": 24,
   "id": "7019c58c",
   "metadata": {},
   "outputs": [
    {
     "name": "stdout",
     "output_type": "stream",
     "text": [
      "5 12 21\n"
     ]
    }
   ],
   "source": [
    "def calc():\n",
    "    a = 2\n",
    "    b = 3\n",
    "    total = 0\n",
    "    def mul_add(x):\n",
    "        nonlocal total\n",
    "        total = total + a*x + b\n",
    "        return total\n",
    "    return mul_add\n",
    "\n",
    "c = calc()\n",
    "print(c(1), c(2), c(3))"
   ]
  },
  {
   "cell_type": "markdown",
   "id": "37f85e5a",
   "metadata": {},
   "source": [
    "### <FONT COLOR=\"blue\"> 7. Repaso de la lección </FONT>\n",
    "### Q1. *(tiempo estimado: 5 min)*\n",
    "Cree una función anidada llamando a esta función *greetings* y otra función llamada *say_hi* dentro de esa función. Llame la función *say_hi* dentro de la función *greetings* y luego, llame la función *greetings* e imprima 'hello'. \n",
    "\n",
    "Use la siguiente definición para la función *say_hi*"
   ]
  },
  {
   "cell_type": "code",
   "execution_count": 25,
   "id": "2dd70c3d",
   "metadata": {},
   "outputs": [],
   "source": [
    "def say_hi():\n",
    "    print('hello')"
   ]
  },
  {
   "cell_type": "markdown",
   "id": "451ca78e",
   "metadata": {},
   "source": [
    "### Q2. *(tiempo estimado: 5 min)*\n",
    "Escriba la siguiente función *calc* y asigne calc a la variable num. Luego, ejecute num(3), el resultado debe ser 14."
   ]
  },
  {
   "cell_type": "code",
   "execution_count": 26,
   "id": "3a76c942",
   "metadata": {},
   "outputs": [],
   "source": [
    "def calc():\n",
    "    a = 3\n",
    "    b = 5\n",
    "    def mul_add(x):\n",
    "        return a*x + b\n",
    "    return mul_add"
   ]
  },
  {
   "cell_type": "markdown",
   "id": "82cd328f",
   "metadata": {},
   "source": [
    "### Q3. *(tiempo estimado: 5 min)*\n",
    "Reconstruya la funcion interna *mul_add* de la función anidada calc del problema anterior usando la expresion lambda y obtenga el mismo resultado."
   ]
  },
  {
   "cell_type": "markdown",
   "id": "9a17fa50",
   "metadata": {},
   "source": [
    "## <FONT COLOR=\"blue\"> Vamos a codificar </FONT>\n",
    "### <FONT COLOR=\"blue\"> 1. Gráficos Turtle </FONT>\n",
    "#### **1.1 Gráficos Turtle: Herramienta de dibujo en Python**\n",
    "En este apartado hablaremos una herramienta de dibujo en Python llamado *turtle*. Est herramienta permite realizar gráficas en Python, adicionalmente es un módulo pre-construido en Pythos que tiene varios métodos y tiene abundantes características.\n",
    "\n",
    "<img src=\"https://raw.githubusercontent.com/EdgarGM20/Imagenes/main/Ch20_fig11.png\" width=\"480px\"  />\n",
    "\n",
    "#### **1.2 Pintando una figura con Turtle**\n",
    "\n",
    "Ejecute el siguiente código el cual generará una ventana emergente que pintara un gráfico con el cursor.\n",
    "\n",
    "<img src=\"https://raw.githubusercontent.com/EdgarGM20/Imagenes/main/Ch20_fig12.png\" width=\"480px\"  />"
   ]
  },
  {
   "cell_type": "code",
   "execution_count": 27,
   "id": "ab161724",
   "metadata": {},
   "outputs": [],
   "source": [
    "import turtle as t\n",
    "\n",
    "t.setup(width = 400, height = 400)\n",
    "for i in range(20):\n",
    "    t.forward(i)\n",
    "    t.left(93)\n",
    "t.done()"
   ]
  },
  {
   "cell_type": "markdown",
   "id": "4ae07818",
   "metadata": {},
   "source": [
    "#### **1.3 Inicializando Turtle u modificando las formas**\n",
    "Como vimos en el ejemplo anterior, una ventana emergente aparece al ejecutar el codigo. t.setup permite modificar el área de la ventana, el titulo y otras características. t.forward mueve el cursor a la izquierda i pixeles. t.left rota el cursor p grados a la izquierda.\n",
    "\n",
    "#### **1.4 Algunos comandos en Turtle**\n",
    "\n",
    "A continuación veremos otras características que ofrece el graficador de Turtle con sus funcionalidades:\n",
    "\n",
    "<img src=\"https://raw.githubusercontent.com/EdgarGM20/Imagenes/main/Ch20_fig13.png\" width=\"880px\"  />\n",
    "\n",
    "<img src=\"https://raw.githubusercontent.com/EdgarGM20/Imagenes/main/Ch20_fig14.png\" width=\"880px\"  />"
   ]
  },
  {
   "attachments": {},
   "cell_type": "markdown",
   "id": "1f0d8210",
   "metadata": {},
   "source": [
    "### <FONT COLOR=\"blue\"> 2. Expresiones regulares y metacaracteres </FONT>\n",
    "#### **2.1 Expresiones regulares**\n",
    "\n",
    "<img src=\"https://raw.githubusercontent.com/EdgarGM20/Imagenes/main/Ch20_fig15.png\" width=\"480px\"  />\n",
    "\n",
    "Puedes profundizar un poco más acerca de esto en el siguiente [link](https://stackhoarder.com/2019/08/18/python%EB%B6%80%ED%84%B0-web-scraping-%EA%B9%8C%EC%A7%80-%EC%B5%9C%EB%8B%A8-%EC%8B%9C%EA%B0%84%EC%97%90-%EC%9D%B5%ED%98%80%EB%B3%B4%EC%9E%90/)\n",
    "\n",
    "Las expresiones regulares con un lenguaje que contiene patrones en las cadenas de texto. Son importantes en el análisis y rastreo de páginas web. Aprendamos un poco más acerca de estas en los siguientes ejercicios. \n",
    "\n",
    "#### **2.2 Buscando con expresiones regulares**\n",
    "\n",
    "La sintaxis de una expresión regular son complejas, en esta sección solo abarcaemos algunas búsquedas sencillas. Para ello, necesitas importar el módulo *re*."
   ]
  },
  {
   "cell_type": "code",
   "execution_count": 28,
   "id": "6c155b2c",
   "metadata": {},
   "outputs": [
    {
     "name": "stdout",
     "output_type": "stream",
     "text": [
      "<re.Match object; span=(0, 4), match='Life'>\n"
     ]
    }
   ],
   "source": [
    "import re\n",
    "\n",
    "txt1 = 'Life is too short, yo need python.'\n",
    "txt2 = 'The best moments of my life.'\n",
    "print(re.search('Life', txt1))"
   ]
  },
  {
   "cell_type": "code",
   "execution_count": 29,
   "id": "9db8d8d3",
   "metadata": {},
   "outputs": [
    {
     "name": "stdout",
     "output_type": "stream",
     "text": [
      "None\n"
     ]
    }
   ],
   "source": [
    "print(re.search('Life', txt2))"
   ]
  },
  {
   "cell_type": "markdown",
   "id": "5a5c3f81",
   "metadata": {},
   "source": [
    "El resultado del primer print nos dice que hubo un match porque en el primer texto se incluye la palabra Life con la L mayúscula. Sin embargo, en el segundo texto, el print retorna None porque la palabra life viene con la l minúscula.\n",
    "\n",
    "Ahora vamos a usar el método *group* para extraer la palabra que hizo matchs. Veamos el siguiente ejemplo:"
   ]
  },
  {
   "cell_type": "code",
   "execution_count": 30,
   "id": "b7ce7fd2",
   "metadata": {},
   "outputs": [
    {
     "data": {
      "text/plain": [
       "'Life'"
      ]
     },
     "execution_count": 30,
     "metadata": {},
     "output_type": "execute_result"
    }
   ],
   "source": [
    "match = re.search('Life', txt1)\n",
    "match.group()"
   ]
  },
  {
   "cell_type": "markdown",
   "id": "663d89b6",
   "metadata": {},
   "source": [
    "Para interpretar esta salida, usemos los métodos *start*, *end* y *span* a la variable match:"
   ]
  },
  {
   "cell_type": "code",
   "execution_count": 31,
   "id": "dfa19284",
   "metadata": {},
   "outputs": [
    {
     "data": {
      "text/plain": [
       "0"
      ]
     },
     "execution_count": 31,
     "metadata": {},
     "output_type": "execute_result"
    }
   ],
   "source": [
    "match.start()"
   ]
  },
  {
   "cell_type": "code",
   "execution_count": 32,
   "id": "faadfd3d",
   "metadata": {},
   "outputs": [
    {
     "data": {
      "text/plain": [
       "4"
      ]
     },
     "execution_count": 32,
     "metadata": {},
     "output_type": "execute_result"
    }
   ],
   "source": [
    "match.end()"
   ]
  },
  {
   "cell_type": "code",
   "execution_count": 33,
   "id": "92178b71",
   "metadata": {},
   "outputs": [
    {
     "data": {
      "text/plain": [
       "(0, 4)"
      ]
     },
     "execution_count": 33,
     "metadata": {},
     "output_type": "execute_result"
    }
   ],
   "source": [
    "match.span()"
   ]
  },
  {
   "cell_type": "markdown",
   "id": "292e1371",
   "metadata": {},
   "source": [
    "Como vemos, los métodos usados anteriormente nos revelan información adicional de la palabra que hizo match como el indice inicial y final en el que empieza y termina la palabra que hizo match. Tambien se observa que el método span retorna la posición de inicio y final en un solo llamado."
   ]
  },
  {
   "cell_type": "code",
   "execution_count": 34,
   "id": "c4b367d8",
   "metadata": {},
   "outputs": [
    {
     "data": {
      "text/plain": [
       "'Life'"
      ]
     },
     "execution_count": 34,
     "metadata": {},
     "output_type": "execute_result"
    }
   ],
   "source": [
    "txt1[0:4]"
   ]
  },
  {
   "cell_type": "markdown",
   "id": "84d4ed06",
   "metadata": {},
   "source": [
    "En el caso de que una cadena de texto, la función *compile* busca patrones de expresiones regulares y los compila como un objeto. Luego, se puede usar este objeto para que busque esos patrones en algún texto en particular. Veamos el siguiente ejemplo:"
   ]
  },
  {
   "cell_type": "code",
   "execution_count": 35,
   "id": "6e04ed12",
   "metadata": {},
   "outputs": [
    {
     "name": "stdout",
     "output_type": "stream",
     "text": [
      "010-2345-1234\n"
     ]
    }
   ],
   "source": [
    "import re\n",
    "\n",
    "text = 'please call 010-2345-1234'\n",
    "# \\d{3} - busca patrones con 3 enteros\n",
    "# \\d{4} - busca patrones de 4 enteros\n",
    "regex = re.compile('(\\d{3})-(\\d{4}-\\d{4})')\n",
    "match_obj = regex.search(text)\n",
    "print(match_obj.group())"
   ]
  },
  {
   "cell_type": "code",
   "execution_count": 36,
   "id": "cccfbb1f",
   "metadata": {},
   "outputs": [
    {
     "name": "stdout",
     "output_type": "stream",
     "text": [
      "010\n"
     ]
    }
   ],
   "source": [
    "print(match_obj.group(1))"
   ]
  },
  {
   "cell_type": "code",
   "execution_count": 37,
   "id": "5ad61a04",
   "metadata": {},
   "outputs": [
    {
     "name": "stdout",
     "output_type": "stream",
     "text": [
      "2345-1234\n"
     ]
    }
   ],
   "source": [
    "print(match_obj.group(2))"
   ]
  },
  {
   "cell_type": "markdown",
   "id": "666e6bc3",
   "metadata": {},
   "source": [
    "Validemos los resultados obtenidos por la función *search* en una expresión regular."
   ]
  },
  {
   "cell_type": "code",
   "execution_count": 38,
   "id": "2530cb6d",
   "metadata": {},
   "outputs": [
    {
     "name": "stdout",
     "output_type": "stream",
     "text": [
      "None\n"
     ]
    }
   ],
   "source": [
    "txt2 = 'The best moments of my life.'\n",
    "print(re.search('Life', txt2))"
   ]
  },
  {
   "cell_type": "code",
   "execution_count": 39,
   "id": "4b5418cd",
   "metadata": {},
   "outputs": [
    {
     "name": "stdout",
     "output_type": "stream",
     "text": [
      "<re.Match object; span=(23, 27), match='life'>\n"
     ]
    }
   ],
   "source": [
    "print(re.search('Life|life', txt2)) # el simbolo | permite buscar Life o life"
   ]
  },
  {
   "cell_type": "markdown",
   "id": "ed7c52d9",
   "metadata": {},
   "source": [
    "## <FONT COLOR=\"blue\">Programación por parejas </FONT>\n",
    "\n",
    "### <FONT COLOR=\"blue\">Práctica de la programación en parejas </FONT>\n",
    "\n",
    "\n",
    "**Directriz, mecanismos y plan de contingencia**\n",
    "\n",
    " Preparar la programación por parejas implica establecer pautas y mecanismos para ayudar a los alumnos a emparejarse correctamente y mantenerlos emparejados.  Por ejemplo, los estudiantes deben turnarse para \"conducir el mouse\".  La preparación efectiva requiere planes de contingencia en caso de que uno de los socios se ausente o decida no participar por una u otra razón.  En estos casos, es importante dejar claro que el alumno activo no será sancionado porque el emparejamiento no funcionó bien.\n",
    " \n",
    "**Emparejar habilidades similares, no necesariamente iguales, como socios**\n",
    "\n",
    " La programación en parejas puede ser efectiva cuando los estudiantes con habilidades similares, aunque no necesariamente iguales, se emparejan como compañeros.  El emparejamiento de estudiantes que no coinciden a menudo puede conducir a una participación desequilibrada.  Los maestros deben enfatizar que la programación en parejas no es una estrategia de \"divide y vencerás\", sino más bien un verdadero esfuerzo de colaboración en cada esfuerzo por todo el proyecto.  Los maestros deben evitar emparejar a estudiantes muy débiles con estudiantes muy fuertes.\n",
    "\n",
    "**Motivar a los estudiantes ofreciendo incentivos adicionales**\n",
    "\n",
    " Ofrecer incentivos adicionales puede ayudar a motivar a los estudiantes a emparejarse, especialmente con estudiantes avanzados.  A algunos maestros les ha resultado útil pedirles a los estudiantes que se emparejen solo para una o dos tareas.\n",
    "\n",
    "**Evitar trampas en la colaboración**\n",
    "\n",
    " El desafío para el maestro es encontrar formas de evaluar los resultados individuales, mientras aprovecha los beneficios de la colaboración.  ¿Cómo saber si un estudiante aprendió o hizo trampa?  Los expertos recomiendan revisar el diseño y la evaluación del curso, así como discutir explícita y concretamente con los estudiantes los comportamientos que se interpretarán como trampa.  Los expertos alientan a los maestros a hacer que las tareas sean significativas para los estudiantes y a explicar el valor de lo que los estudiantes aprenderán al completarlas.\n",
    "\n",
    "**Entorno de aprendizaje colaborativo**\n",
    "\n",
    " Un entorno de aprendizaje colaborativo ocurre cada vez que un instructor requiere que los estudiantes trabajen juntos en actividades de aprendizaje.  Los entornos de aprendizaje colaborativo pueden implicar actividades tanto formales como informales y pueden incluir o no una evaluación directa.  Por ejemplo, parejas de estudiantes trabajan en asignaciones de programación; pequeños grupos de estudiantes discuten posibles respuestas a la pregunta de un profesor durante la lección; y los estudiantes trabajan juntos fuera de clase para aprender nuevos conceptos.  El aprendizaje colaborativo es distinto de los proyectos en los que los estudiantes \"dividen y vencerán\".  Cuando los estudiantes dividen el trabajo, cada uno es responsable de solo una parte de la resolución del problema y hay oportunidades muy limitadas para resolver los problemas con los demás.  En entornos colaborativos, los estudiantes participan en conversaciones intelectuales entre ellos.\n",
    "\n"
   ]
  },
  {
   "cell_type": "markdown",
   "id": "1385a99f",
   "metadata": {},
   "source": [
    "### <FONT COLOR=\"blue\">**Q1.** </FONT>\n",
    "\n",
    "Extraiga la lista resultante de la lista *lst* que tiene valores de 1 a 100. La lista resultante tiene los elementos de *lst* que son divisibles por 5 o 7. Para ello declare la función func1(a) y anide las funciones func2 y func3. Luego llame las dos funciones desde la función func1 e imprima los números que son divisibles por 5 o 7. Finalmente, alinee los valores resultantes usando la función pre-construida *sorted()*. \n",
    "\n",
    "Respuesta esperada:\n",
    "\n",
    "<img src=\"https://raw.githubusercontent.com/EdgarGM20/Imagenes/main/Ch20_fig17.png\" width=\"480px\"  />"
   ]
  },
  {
   "cell_type": "code",
   "execution_count": 40,
   "id": "68a542a4",
   "metadata": {},
   "outputs": [],
   "source": [
    "# Funciones a anidar\n",
    "\n",
    "def func2():\n",
    "    result1 = []\n",
    "    for i in a:\n",
    "        if i%5 == 0:\n",
    "            result1.append(i)\n",
    "    return result1\n",
    "\n",
    "def func3():\n",
    "    result2 = []\n",
    "    for i in a:\n",
    "        if i%7 == 0:\n",
    "            result2.append(i)\n",
    "    return result2"
   ]
  }
 ],
 "metadata": {
  "kernelspec": {
   "display_name": "Python 3 (ipykernel)",
   "language": "python",
   "name": "python3"
  },
  "language_info": {
   "codemirror_mode": {
    "name": "ipython",
    "version": 3
   },
   "file_extension": ".py",
   "mimetype": "text/x-python",
   "name": "python",
   "nbconvert_exporter": "python",
   "pygments_lexer": "ipython3",
   "version": "3.9.12"
  }
 },
 "nbformat": 4,
 "nbformat_minor": 5
}
