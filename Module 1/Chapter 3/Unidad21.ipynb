{
 "cells": [
  {
   "cell_type": "markdown",
   "id": "a6784503",
   "metadata": {},
   "source": [
    "# <FONT COLOR=\"blue\"> **Samsung Innovation Campus**</FONT>  \n",
    "\n",
    "## <FONT COLOR=\"blue\">**Codificación y Programación**</FONT>\n",
    "\n",
    "# **Capítulo 3: Programación eficaz en Python: Función, Clausura y Clase**\n",
    "\n",
    "## Objetivos del capítulo\n",
    "\n",
    "Los alumnos podrán utilizar funciones y técnicas de programación modular. Los alumnos podrán usar expresiones lambda, que son expresiones que se usan para expresar funciones simples. Los alumnos podrán comprender el cierre que recibe el valor de retorno como una función después de definir funciones anidadas. Además, los alumnos podrán definir clases, que son conceptos importantes de los lenguajes orientados a objetos.\n",
    "\n",
    "## Contenido del capítulo\n",
    "- Unidad 17. Función\n",
    "- Unidad 18. Llamado Recursivo de una Función\n",
    "- Unidad 19. Lambda\n",
    "- Unidad 20. Clausura\n",
    "- Unidad 21. Clase"
   ]
  },
  {
   "cell_type": "markdown",
   "id": "96242b3f",
   "metadata": {},
   "source": [
    "# **Unidad 21. Clases**"
   ]
  },
  {
   "cell_type": "markdown",
   "id": "3da6a3e6",
   "metadata": {},
   "source": [
    "## Objetivos de aprendizaje\n",
    "- Entender los conceptos básicos de la programación orientada a objetos\n",
    "- Entender los conceptos básicos de la encapsulación y la construcción de códigos encapsulados para la estabilidad de la ejecución de un programa\n",
    "- Entender el concetp de instacias de clases y objetos y encuentra sus diferencias\n",
    "- Construir clases, entiende como estructurar un objeto y contruyec objetos\n",
    "- Entender los conceptos básico de un constructor y usas parámetros propios de un constructor\n",
    "- Entender la estructura de un método de definir métodos\n",
    "- Entender los conceptos básicos de referencia y explicar como los mecanismos internos de asignacion de instancia de clase a una variable\n",
    "- Definir una nueva clase que se herede de una clase prexistente \n",
    "\n",
    "## Resumen de la lección\n",
    "- Estudiaremos programacion orientada a objetos\n",
    "- Entenderemos los conceptos básicos de encapsulación\n",
    "- Aprenderemos los conceptos básicos de un objeto y una instancia de clase\n",
    "- Construiremos una clase y entenderemos como contruir una clase y un objeto\n",
    "- Asignamremos un objeto a una variable a través de un operadory aprenderemos los conceptos de referencia.\n",
    "- Aprenderemos como definir una clase nueva a partir de heredar de otra clase\n",
    "\n",
    " \n",
    "## Conceptos previos de debes saber de las unidades previas\n",
    "\n",
    "- Crear una función anidada y llamar una función dentro de otra\n",
    "- Utilizar la palabra clave nonlocal y global\n",
    "- Aplicar espaciados y declaración de bloques\n",
    "\n",
    "## Palabras clave\n",
    "\n",
    "- Objeto\n",
    "- Clase\n",
    "- Instancia\n",
    "- Constructor\n",
    "- Parámetros propios\n",
    "- Herencia"
   ]
  },
  {
   "cell_type": "markdown",
   "id": "1c291f28",
   "metadata": {},
   "source": [
    "## <FONT COLOR=\"blue\"> Misión </FONT>\n",
    "\n",
    "### <FONT COLOR=\"blue\">1. Problema del mundo real </FONT>\n",
    "\n",
    "#### 1.1 Bancos y sistemas computacionales\n",
    "\n",
    "<img src=\"https://raw.githubusercontent.com/EdgarGM20/Imagenes/main/Ch21_fig1.png\" width=\"480px\"  />\n",
    "\n",
    "El banco es una institución de la sociedad que maneja los préstamos y los ahorros. Para ello, usan sistemas computarizados  que automatizan sus procesos. Los bancos, en su continuo crecimiento, expanden sus negocios, sin embargo, esto genera complejidad en sus sistemas. Debido a esta necesidad, codificaremos una solucion para solventar dichas necesidades.\n",
    "\n",
    "Por lo tanto, vamos a construir una clase llamada BankAccount y ejecutamos sus funcionalidades a través de la programación orientada a objetos OOP. Para ello, estas son las tareas:\n",
    "\n",
    "- Crear la clase llamada BankAccount, con ella generaremos la cuenta account1 con el nombre del usuario y el depósito realizado.\n",
    "- Imprimir la información de la cuenta, retiramos un dinero, e imprima la información de la cuenta nuevamente. Luego, retira una cantidad superior a lo que tiene ahorrado, para lo cual, se debe imprimir que se deniega el retiro junto con su saldo disponible."
   ]
  },
  {
   "cell_type": "markdown",
   "id": "56aab09f",
   "metadata": {},
   "source": [
    "### <FONT COLOR=\"blue\"> 2. Diagrama de flujo y pseudocódigo de la implementación final </FONT>\n",
    "\n",
    "A continuación se observa el pseudocódigo del algoritmo a implementar\n",
    "\n",
    "<img src=\"https://raw.githubusercontent.com/EdgarGM20/Imagenes/main/Ch21_fig2.png\" width=\"480px\"  />\n",
    "\n",
    "### <FONT COLOR=\"blue\"> 3. Solución </FONT>\n",
    "\n",
    "Y a continuación el código generado:"
   ]
  },
  {
   "cell_type": "code",
   "execution_count": 1,
   "id": "6b7ede5d",
   "metadata": {},
   "outputs": [
    {
     "name": "stdout",
     "output_type": "stream",
     "text": [
      "El balance de David con cuenta 1234-0001 es 0 pesos\n",
      "2000 pesos han sidos depositados. El balance es 2000 pesos.\n",
      "El balance de David con cuenta 1234-0001 es 2,000 pesos\n",
      "El balance de David con cuenta 1234-0001 es 1,500 pesos\n",
      "El balance de la cuenta es 1500 pesos. Estos es mas bajo que la cantidad que ingresaste 5000 pesos\n"
     ]
    }
   ],
   "source": [
    "class BankAccount:\n",
    "    def __init__ (self, name, account_num, balance = 0):\n",
    "        self.name = name\n",
    "        self.account_num = account_num\n",
    "        self.balance = balance\n",
    "        \n",
    "    def get_name():\n",
    "        return self.name\n",
    "    \n",
    "    def get_account_num():\n",
    "        return self.balance\n",
    "    \n",
    "    def deposit(self, amount):\n",
    "        self.balance +=amount\n",
    "        print('{} pesos han sidos depositados. El balance es {} pesos.'.format(amount, self.balance))\n",
    "        return self.balance\n",
    "    \n",
    "    def withdraw(self, amount):\n",
    "        if self.balance - amount > 0:\n",
    "            self.balance -= amount\n",
    "        else:\n",
    "            print('El balance de la cuenta es {} pesos. Estos es mas bajo que la cantidad que ingresaste {} pesos'.format(self.balance, amount))\n",
    "            \n",
    "    def __str__(self):\n",
    "        return 'El balance de {} con cuenta {} es {:,} pesos'.format(self.name, self.account_num, self.balance)\n",
    "    \n",
    "account1 = BankAccount(\"David\", \"1234-0001\")\n",
    "print(account1)\n",
    "\n",
    "account1.deposit(2000)\n",
    "print(account1)\n",
    "account1.withdraw(500)\n",
    "print(account1)\n",
    "account1.withdraw(5000)\n",
    "    "
   ]
  },
  {
   "cell_type": "markdown",
   "id": "21856997",
   "metadata": {},
   "source": [
    "## <FONT COLOR=\"blue\"> Concepto Clave </FONT>\n",
    "### <FONT COLOR=\"blue\"> 1. Regla del alcance en Python </FONT>\n",
    "\n",
    "#### **1.1 Programación y objetos**\n",
    "\n",
    "La lista de animales es un objeto que tiene elementos como 'Lion', 'dog', entre otros. Por otro lado, tambien tiene métodos como sort, append, remove, reverse, entre otros. Estos tambien se le conoce como atributos. Por lo tanto, los elementos en un sistema computacional que tienen atributos y métodos son llamados objetos."
   ]
  },
  {
   "cell_type": "code",
   "execution_count": 2,
   "id": "d332866a",
   "metadata": {},
   "outputs": [
    {
     "data": {
      "text/plain": [
       "['Lion', 'cat', 'dog', 'tiger']"
      ]
     },
     "execution_count": 2,
     "metadata": {},
     "output_type": "execute_result"
    }
   ],
   "source": [
    "animals = ['Lion', 'tiger', 'cat', 'dog']\n",
    "animals.sort()\n",
    "animals"
   ]
  },
  {
   "cell_type": "code",
   "execution_count": 3,
   "id": "61323e64",
   "metadata": {},
   "outputs": [
    {
     "data": {
      "text/plain": [
       "['Lion', 'cat', 'dog', 'tiger', 'rabit']"
      ]
     },
     "execution_count": 3,
     "metadata": {},
     "output_type": "execute_result"
    }
   ],
   "source": [
    "animals.append('rabit')\n",
    "animals"
   ]
  },
  {
   "cell_type": "code",
   "execution_count": 4,
   "id": "2899d349",
   "metadata": {},
   "outputs": [
    {
     "data": {
      "text/plain": [
       "['rabit', 'tiger', 'dog', 'cat', 'Lion']"
      ]
     },
     "execution_count": 4,
     "metadata": {},
     "output_type": "execute_result"
    }
   ],
   "source": [
    "animals.reverse()\n",
    "animals"
   ]
  },
  {
   "cell_type": "markdown",
   "id": "ec8d14fe",
   "metadata": {},
   "source": [
    "#### **1.2 Comparación entre programación procedimental y programación orientada a objetos (OOP)**\n",
    "\n",
    "\n",
    "<img src=\"https://raw.githubusercontent.com/EdgarGM20/Imagenes/main/Ch21_fig3.png\" width=\"480px\"  />\n",
    "\n",
    "\n",
    "- En la programación procedimental se requiere de gran cantidad de filas y llamadas a funciones que incrementan a medida que se complejiza un proyecto por lo que se hace dificil de maniobrar para proyectos de gran escala.\n",
    "\n",
    "- En la programacion orientada a objetos se contruyen clases a través de métodos y objetos. Las clases se construyen para tener acciones y atributos. En síntesis, OOP aplica las clases en los rogramas a través de la creación de objetos que interactuan entre si. Por lo tanto, OOP requiere de menor costo de mantenimiento en caso de desarrollo y actualizaciones de software. "
   ]
  },
  {
   "cell_type": "markdown",
   "id": "133e793d",
   "metadata": {},
   "source": [
    "#### **1.3 Sintaxis para llamar objetos y métodos**\n",
    "\n",
    "<img src=\"https://raw.githubusercontent.com/EdgarGM20/Imagenes/main/Ch21_fig4.png\" width=\"480px\"  />\n",
    "\n",
    "se usa el punto para llamar los métodos de un objeto."
   ]
  },
  {
   "cell_type": "markdown",
   "id": "9ce22f51",
   "metadata": {},
   "source": [
    "### <FONT COLOR=\"blue\">2. Ejemplos de clases vistas en unidades anteriores </FONT>\n",
    "#### **2.1 Ejemplos usando clases y objetos** "
   ]
  },
  {
   "cell_type": "code",
   "execution_count": 5,
   "id": "8eb3a4cb",
   "metadata": {},
   "outputs": [
    {
     "data": {
      "text/plain": [
       "'Lion'"
      ]
     },
     "execution_count": 5,
     "metadata": {},
     "output_type": "execute_result"
    }
   ],
   "source": [
    "s = animals.pop()\n",
    "s"
   ]
  },
  {
   "cell_type": "code",
   "execution_count": 6,
   "id": "2d67d32f",
   "metadata": {},
   "outputs": [
    {
     "data": {
      "text/plain": [
       "'LION'"
      ]
     },
     "execution_count": 6,
     "metadata": {},
     "output_type": "execute_result"
    }
   ],
   "source": [
    "s.upper()"
   ]
  },
  {
   "cell_type": "code",
   "execution_count": 7,
   "id": "615737e1",
   "metadata": {},
   "outputs": [
    {
     "data": {
      "text/plain": [
       "-1"
      ]
     },
     "execution_count": 7,
     "metadata": {},
     "output_type": "execute_result"
    }
   ],
   "source": [
    "s.find('a')"
   ]
  },
  {
   "cell_type": "markdown",
   "id": "57fae318",
   "metadata": {},
   "source": [
    "#### **2.2 Funciones varias y clases incluidas en módulos**\n",
    "\n",
    "A continuación vemos un ejemplo de la estructura de un programa y como interactuan estos entre si\n",
    "\n",
    "<img src=\"https://raw.githubusercontent.com/EdgarGM20/Imagenes/main/Ch21_fig5.png\" width=\"480px\"  />\n",
    "\n",
    "#### **2.3 Funcionalidades específicas de type e id**\n",
    "La función *type*  retorna los tipos de datos de un objeto. Cada objeto, cuando es creado tien su propio valor id."
   ]
  },
  {
   "cell_type": "code",
   "execution_count": 8,
   "id": "07848a53",
   "metadata": {},
   "outputs": [
    {
     "data": {
      "text/plain": [
       "list"
      ]
     },
     "execution_count": 8,
     "metadata": {},
     "output_type": "execute_result"
    }
   ],
   "source": [
    "animals = ['Lion', 'tiger', 'cat', 'dog']\n",
    "type(animals)"
   ]
  },
  {
   "cell_type": "code",
   "execution_count": 9,
   "id": "ee900b7c",
   "metadata": {},
   "outputs": [
    {
     "data": {
      "text/plain": [
       "1502418444352"
      ]
     },
     "execution_count": 9,
     "metadata": {},
     "output_type": "execute_result"
    }
   ],
   "source": [
    "id(animals)"
   ]
  },
  {
   "cell_type": "code",
   "execution_count": 10,
   "id": "fe18cb9b",
   "metadata": {},
   "outputs": [
    {
     "data": {
      "text/plain": [
       "str"
      ]
     },
     "execution_count": 10,
     "metadata": {},
     "output_type": "execute_result"
    }
   ],
   "source": [
    "s = 'tiger'\n",
    "type(s)"
   ]
  },
  {
   "cell_type": "code",
   "execution_count": 11,
   "id": "b63e5364",
   "metadata": {},
   "outputs": [
    {
     "data": {
      "text/plain": [
       "1502418393840"
      ]
     },
     "execution_count": 11,
     "metadata": {},
     "output_type": "execute_result"
    }
   ],
   "source": [
    "id(s)"
   ]
  },
  {
   "cell_type": "markdown",
   "id": "eff313d2",
   "metadata": {},
   "source": [
    "#### **2.4 Ejemplos de la clase str y sus métodos**\n",
    "\n",
    "La clase str tiene varios métodos que se muestran a continuación:\n",
    "\n",
    "<img src=\"https://raw.githubusercontent.com/EdgarGM20/Imagenes/main/Ch21_fig6.png\" width=\"480px\"  />\n",
    "\n",
    "\n",
    "#### **2.5 Ejemplos de la clase int y sus métodos**\n",
    "\n",
    "La clase int tiene varios métodos que se muestran a continuación:\n",
    "\n",
    "<img src=\"https://raw.githubusercontent.com/EdgarGM20/Imagenes/main/Ch21_fig7.png\" width=\"480px\"  />\n"
   ]
  },
  {
   "cell_type": "markdown",
   "id": "3723401f",
   "metadata": {},
   "source": [
    "### <FONT COLOR=\"blue\">3. Diferencias entre instancias y objetos </FONT>\n",
    "\n",
    "#### **3.1 Definición de instancias y objetos**\n",
    "\n",
    "<img src=\"https://raw.githubusercontent.com/EdgarGM20/Imagenes/main/Ch21_fig8.png\" width=\"480px\"  />\n",
    "\n",
    "Una clase es un concepto abstracto que denota un conjunto de atributos y acciones usadas en los programas. Mientras una instancia es un objeto individual de una clase y tiene valores específicos de atributos. \n",
    "\n",
    "<img src=\"https://raw.githubusercontent.com/EdgarGM20/Imagenes/main/Ch21_fig9.png\" width=\"480px\"  />\n",
    "\n",
    "#### **3.2 Sintaxis de una clase**\n",
    "Para definir una clase, puedes asignar la palabra clave *class*:\n",
    "\n",
    "<img src=\"https://raw.githubusercontent.com/EdgarGM20/Imagenes/main/Ch21_fig10.png\" width=\"480px\"  />\n",
    "\n",
    "#### **3.3 Distinción precisa entre objetos e instancias**\n",
    "\n",
    "Los dos términos son similares, pero para ser más precisos, los objetos puden ser definidos como un material o una cosa, mientras que una instancia es definida como un material o una cosa creada por una clase. Para resumir:\n",
    "\n",
    "- Todos los objetos de python tiene un data type.\n",
    "- Todas las instancias de pythos son creadas de clases.\n",
    "- Los objetos de python son creados de clases.\n",
    "- Las clases en python son un objeto.\n",
    "- nabi es un objeto.\n",
    "- La instancia de la clase *cat* es nabi.\n",
    "- 100 es un objeto de tipo entero."
   ]
  },
  {
   "cell_type": "markdown",
   "id": "edde539f",
   "metadata": {},
   "source": [
    "### <FONT COLOR=\"blue\">  4. Declarando *class*, *constructor* y *self parameter*  </FONT>\n",
    "\n",
    "#### **4.1 Sintaxis simple para una clase *definition***\n",
    "\n",
    "Se recomienda seguir las siguientes convenciones:\n",
    "\n",
    "- Usar letras en minúsculas para la primera letra de una función, objeto o variable.\n",
    "- Usar letras en mayúsculas para la primera letra de la clase\n",
    "- Cuando estas definiendo un atributo protegido en una clase u objeto, empieza la primera palabra con un guión bajo.\n",
    "- Para usar nombres de palabras reservadas como nombres de variables, agrega un guión bajo.\n",
    "- Un atributo privado tiene una estructura en la que los nombres son internamente modificadas para que el acceso externo sea denegado.\n",
    "- Para atributos especiales o métodos dentro de pythons adiciones __ antes y después del nombre.\n",
    "\n",
    "Veamos el siguiente ejemplo:"
   ]
  },
  {
   "cell_type": "code",
   "execution_count": 12,
   "id": "32d5245c",
   "metadata": {},
   "outputs": [
    {
     "name": "stdout",
     "output_type": "stream",
     "text": [
      "<__main__.Cat object at 0x0000015DCF195F70>\n"
     ]
    }
   ],
   "source": [
    "class Cat:\n",
    "    pass\n",
    "\n",
    "nabi = Cat()\n",
    "print(nabi)"
   ]
  },
  {
   "cell_type": "markdown",
   "id": "7b477ba3",
   "metadata": {},
   "source": [
    "#### **4.2 Usando *methods* and *self***\n",
    "\n",
    "Un método o miembro de una función es una función definida dentro de una clase que es usada por la clase o las instancias de la clase. El parámetro propio del método  meow del siguiente ejemplo es una referencia propia. El cual es obligatorio al ser el primer parámetro de un método.\n",
    "\n",
    "<img src=\"https://raw.githubusercontent.com/EdgarGM20/Imagenes/main/Ch21_fig11.png\" width=\"480px\"  />\n",
    "\n",
    "#### **4.3 Sintaxis para los métodos de llamadas**\n",
    "\n",
    "<img src=\"https://raw.githubusercontent.com/EdgarGM20/Imagenes/main/Ch21_fig12.png\" width=\"480px\"  />\n",
    "\n",
    "Para llamar a los métodos de una instancia use el operador punto. En el siguiente ejemplo, la instancia nabi puede usar el método meow de la clase Cat.\n",
    "\n",
    "#### **4.4 Metodo *constructor* __ init __**\n",
    "El constructor __ init __ es un método que asigna un valor por defecto a la variable dentro de una instancia cuando se crea un objeto y es automáticamente ejecutado cuando un objeto es generado. De manera similar, el método __ str __ , muestra la información de una objeto en formato string. Por ejemplo, dentro de la clase **Cat**, el método __ str __ muestra el nombre y el color de un gato.\n",
    "\n",
    "#### **4.5 Definición de clase y los métodos especiales __ init __ , __ str __**\n",
    "\n",
    "El método __ str __ retorna la representación imprimible de un objeto. Veamos el siguiente ejemplo:\n",
    "\n",
    "<img src=\"https://raw.githubusercontent.com/EdgarGM20/Imagenes/main/Ch21_fig13.png\" width=\"480px\"  />"
   ]
  },
  {
   "cell_type": "code",
   "execution_count": 13,
   "id": "05cd0cb4",
   "metadata": {},
   "outputs": [
    {
     "name": "stdout",
     "output_type": "stream",
     "text": [
      "Cat(name=nabi, color=black)\n",
      "Cat(name=nero, color=white)\n"
     ]
    }
   ],
   "source": [
    "class Cat:\n",
    "    def __init__(self, name, color):\n",
    "        self.name = name\n",
    "        self.color = color\n",
    "        \n",
    "    # Una expresión de formato string en la clase Cat\n",
    "    def __str__(self):\n",
    "        return 'Cat(name='+self.name+', color='+self.color+')'\n",
    "    \n",
    "nabi = Cat('nabi', 'black')\n",
    "nero = Cat('nero', 'white')\n",
    "\n",
    "print(nabi)\n",
    "print(nero)"
   ]
  },
  {
   "cell_type": "markdown",
   "id": "3e9711a9",
   "metadata": {},
   "source": [
    "#### **4.6  Constructor __ init __  y parámetros propios**\n",
    "\n",
    "<img src=\"https://raw.githubusercontent.com/EdgarGM20/Imagenes/main/Ch21_fig14.png\" width=\"480px\"  />\n",
    "\n",
    "En este ejemplo, el primer parámetro del método *self*, refiere a la instancia de la clase actual. El nombre del segundo parámetro y el tercero (name y color) son variables que asignan los nombres y colores correspondientes los cuales son atributos de la instancia.\n",
    "\n",
    "#### **4.7  ¿Cuando __ init __  es un método especial?**\n",
    "\n",
    "Generalmente, los métodos especiales __ str __ son automáticamente llamados. En el código de a continuación, en el que la información es impresa por el método formato con un indicador de posición {}, el método __ str __ es automáticamente llamado y ejecutado."
   ]
  },
  {
   "cell_type": "code",
   "execution_count": 14,
   "id": "93de389c",
   "metadata": {},
   "outputs": [
    {
     "name": "stdout",
     "output_type": "stream",
     "text": [
      "Información de nabi: Cat(name=nabi, color=black)\n"
     ]
    }
   ],
   "source": [
    "print('Información de nabi: {}'. format(nabi))"
   ]
  },
  {
   "cell_type": "markdown",
   "id": "f5d0a8c0",
   "metadata": {},
   "source": [
    "### <FONT COLOR=\"blue\">  5. Estructura del método </FONT>\n",
    "\n",
    "#### **5.1 Definición de *method* y código de ejemplo para llamar un método**\n",
    "\n",
    "<img src=\"https://raw.githubusercontent.com/EdgarGM20/Imagenes/main/Ch21_fig15.png\" width=\"480px\"  />\n",
    "\n",
    "Veamos el siguiente ejemplo:"
   ]
  },
  {
   "cell_type": "code",
   "execution_count": 15,
   "id": "87cea121",
   "metadata": {},
   "outputs": [
    {
     "name": "stdout",
     "output_type": "stream",
     "text": [
      "Mi nombre es nabi, color black, miau, miau\n",
      "Mi nombre es nero, color white, miau, miau\n",
      "Mi nombre es mimi, color brown, miau, miau\n"
     ]
    }
   ],
   "source": [
    "class Cat:\n",
    "    def __init__(self, name, color):\n",
    "        self.name = name\n",
    "        self.color = color\n",
    "        \n",
    "    # El método que impreme la información de un gato\n",
    "    def meow(self):\n",
    "        print('Mi nombre es {}, color {}, miau, miau'. format(self.name, self.color))\n",
    "    \n",
    "nabi = Cat('nabi', 'black')\n",
    "nero = Cat('nero', 'white')\n",
    "mimi = Cat('mimi', 'brown')\n",
    "\n",
    "nabi.meow()\n",
    "nero.meow()\n",
    "mimi.meow()"
   ]
  },
  {
   "cell_type": "markdown",
   "id": "8512a482",
   "metadata": {},
   "source": [
    "#### **5.2 Variables de una instancia, variables miembro y campos**\n",
    "\n",
    "<img src=\"https://raw.githubusercontent.com/EdgarGM20/Imagenes/main/Ch21_fig16.png\" width=\"480px\"  />\n",
    "\n",
    "Cada uno de estos terminos denota varibales que almacenan distintos atributos para cada instancia. Por ejemplo, podemos ver el ejemplo anterior. "
   ]
  },
  {
   "cell_type": "markdown",
   "id": "2acf3f3e",
   "metadata": {},
   "source": [
    "### <FONT COLOR=\"blue\"> 6. Clase *Variables* y Métodos </FONT>\n",
    "\n",
    "#### **6.1 ¿Qué es una variable de una instancia?**\n",
    "\n",
    "Desde que los atributos de una clase son diferentes deacuerdo a las instancias individuales, ellos pueden tener valores distintos. A esto se le conoce como variables de una instancia. Examinemos el siguiente ejemplo:\n",
    "\n",
    "<img src=\"https://raw.githubusercontent.com/EdgarGM20/Imagenes/main/Ch21_fig17.png\" width=\"480px\"  />"
   ]
  },
  {
   "cell_type": "code",
   "execution_count": 16,
   "id": "f2f2e946",
   "metadata": {},
   "outputs": [
    {
     "name": "stdout",
     "output_type": "stream",
     "text": [
      "Area de c1 50.24\n",
      "Area de c2 113.04\n",
      "Area de c3 78.5\n"
     ]
    }
   ],
   "source": [
    "class Circle:\n",
    "    def __init__(self, name, radius, PI):\n",
    "        self.__name = name # Variable de una instancia\n",
    "        self.__radius = radius # Variable de una instancia\n",
    "        self.__PI =  PI # Variable de una instancia\n",
    "        \n",
    "    # Calcule el área de un circulo\n",
    "    def area(self):\n",
    "        return self.__PI*self.__radius**2\n",
    "    \n",
    "c1 = Circle('C1', 4, 3.14)\n",
    "print('Area de c1', c1.area())\n",
    "\n",
    "c2 = Circle('C2', 6, 3.14)\n",
    "print('Area de c2', c2.area())\n",
    "\n",
    "c3 = Circle('C3', 5, 3.14)\n",
    "print('Area de c3', c3.area())"
   ]
  },
  {
   "cell_type": "markdown",
   "id": "6afba97b",
   "metadata": {},
   "source": [
    "#### **6.2 ¿Qué son variables de una clase?**\n",
    "\n",
    "Las variables de una instanciar pueden tener atributos comunes que deben ser compartidos por la clase. En el ejemplo anterior, PI es un atributo de clase. Si un atributo es compartido por instancias individuales el solapamiento de los datos se reduce y la detección de errores se vuelve más fácil. Por otro lado, si el valor self.__ PI de la clase Circle fueran las constantes c1, c2 y c3 deberían compartir el valor de PI. A esto es lo que se le conoce como una variable de una clase. \n",
    "\n",
    "<img src=\"https://raw.githubusercontent.com/EdgarGM20/Imagenes/main/Ch21_fig18.png\" width=\"480px\"  />\n",
    "\n",
    "En el ejemplo anterior, la variable de clase de la función Circle, PI es una variable compartida por las instancias de esta clase. Los atributos de clase __ name y __ radius son variables de la instancia que pertencen a esta.\n",
    "\n",
    "\n",
    "#### **6.3 Definiendo variables de clase**\n",
    "\n",
    "Las variables de clase son definidas por fuera de los métodos como se muestra a continuación. La variable de clase PI es compartida por las intancias c1, c2 y c3. \n",
    "\n",
    "<img src=\"https://raw.githubusercontent.com/EdgarGM20/Imagenes/main/Ch21_fig19.png\" width=\"480px\"  />\n",
    "\n",
    "#### **6.4 Código usando la variable de clase PI**\n",
    "\n",
    "El área de la clase círculo en el código de a continuación es un método en el que puede ser llamada por las instancias de la clase Circle. Este método usa la variable de clase PI a través de Circle.PI"
   ]
  },
  {
   "cell_type": "code",
   "execution_count": 17,
   "id": "c36d67c0",
   "metadata": {},
   "outputs": [
    {
     "name": "stdout",
     "output_type": "stream",
     "text": [
      "Area de c1 50.264\n",
      "Area de c2 113.09400000000001\n",
      "Area de c3 78.53750000000001\n"
     ]
    }
   ],
   "source": [
    "class Circle:\n",
    "    PI = 3.1415\n",
    "    def __init__(self, name, radius):\n",
    "        self.__name = name # Variable de una instancia\n",
    "        self.__radius = radius # Variable de una instancia\n",
    "        \n",
    "    # Calcule el área de un circulo\n",
    "    def area(self):\n",
    "        return Circle.PI*self.__radius**2\n",
    "    \n",
    "c1 = Circle('C1', 4)\n",
    "print('Area de c1', c1.area())\n",
    "\n",
    "c2 = Circle('C2', 6)\n",
    "print('Area de c2', c2.area())\n",
    "\n",
    "c3 = Circle('C3', 5)\n",
    "print('Area de c3', c3.area())"
   ]
  },
  {
   "cell_type": "markdown",
   "id": "5f2fa2b6",
   "metadata": {},
   "source": [
    "#### **6.5 __ dict __ la cual muestra la informacion del atributo de los objetos de la clase**\n",
    "\n",
    "Tu puedes converir la variable del objeto de la clase a un tipo diccionario. veamos el siguiente ejemplo: "
   ]
  },
  {
   "cell_type": "code",
   "execution_count": 18,
   "id": "3e570ee5",
   "metadata": {},
   "outputs": [
    {
     "name": "stdout",
     "output_type": "stream",
     "text": [
      "Atributos de c1: {'name': 'C1', 'radius': 4}\n",
      "El valor del nombre de la variable c1: C1\n",
      "El valor del radio de la variable c1: 4\n"
     ]
    }
   ],
   "source": [
    "class Circle:\n",
    "    PI = 3.1415\n",
    "    def __init__(self, name, radius):\n",
    "        self.name = name # Variable de una instancia\n",
    "        self.radius = radius # Variable de una instancia\n",
    "         \n",
    "c1 = Circle('C1', 4)\n",
    "print('Atributos de c1:', c1.__dict__)\n",
    "\n",
    "# Tambien puedes obtener el valor a través del formato diccionario\n",
    "print('El valor del nombre de la variable c1:', c1.__dict__['name'])\n",
    "print('El valor del radio de la variable c1:', c1.__dict__['radius'])\n"
   ]
  },
  {
   "cell_type": "markdown",
   "id": "8d3bb926",
   "metadata": {},
   "source": [
    "Si hay una variable de la instancia con un guion bajo _ , use el siguiente método como se ve en el ejemplo. En este caso, las variables de la clase Circle tiene a __ radius y __ name. "
   ]
  },
  {
   "cell_type": "code",
   "execution_count": 19,
   "id": "bf3d6bdd",
   "metadata": {},
   "outputs": [
    {
     "name": "stdout",
     "output_type": "stream",
     "text": [
      "Atributos de c1: {'_Circle__name': 'C1', '_Circle__radius': 4}\n",
      "El valor del nombre de la variable c1: C1\n",
      "El valor del radio de la variable c1: 4\n"
     ]
    }
   ],
   "source": [
    "class Circle:\n",
    "    PI = 3.1415\n",
    "    def __init__(self, name, radius):\n",
    "        self.__name = name # Variable de una instancia\n",
    "        self.__radius = radius # Variable de una instancia\n",
    "         \n",
    "c1 = Circle('C1', 4)\n",
    "print('Atributos de c1:', c1.__dict__)\n",
    "\n",
    "# Tambien puedes obtener el valor a través del formato diccionario\n",
    "print('El valor del nombre de la variable c1:', c1.__dict__['_Circle__name'])\n",
    "print('El valor del radio de la variable c1:', c1.__dict__['_Circle__radius'])"
   ]
  },
  {
   "cell_type": "markdown",
   "id": "59d7889c",
   "metadata": {},
   "source": [
    "### <FONT COLOR=\"blue\">   7. Herencia de clases </FONT>\n",
    "#### **7.1 Concepto de clases y herencia**\n",
    "\n",
    "La herencia es una técnica que permite a los usuarios escribir una clase hija que herede los métodos y atributos de una clase construida anteriormente. La razón para realizar herencias es para ser más eficiente en el proceso de desarrollo e incluso, esta es una de las principales caracteristicas de la programación orientada a objetos. A continuación, un resumen de los términos antes de profundizar en este concepto.\n",
    "- La clase de nivel superior, la cual transmite los métodos y los atributos se denomina clase padre, superclase o clase base. \n",
    "- La clase que hereda los métodos y atributos se llama clase secundaria o subclase o clase derivada.\n",
    "\n",
    "En la figura de a continuación se muestra una abstracción del concepto de herencia. Una persona, la cual es la clase padre, tiene características generales tales como edad, género, nombre, etc. Sin embargo, las clases hijas, Manager, Employee y Studente, la cual hereda esas propiedades de Person, tendrá ambas características de Personas al igual que características más detallas  como el nombre de la compañía, el número de empleado, el pago, el número id de estudiante y calificaciones.\n",
    "\n",
    "<img src=\"https://raw.githubusercontent.com/EdgarGM20/Imagenes/main/Ch21_fig20.png\" width=\"480px\"  />\n",
    "\n",
    "#### **7.2 Sintaxis de una clase y una herencia**\n",
    "\n",
    "A continuación se muestra como la herencia de clase puede ser expresada en la sintaxis de Python. En esta se muesta que la clase hereda al encerrar el nombre de la clase con parentesis. Luego la clase hija puede heredar los métodos y atributos de la clase padre A y definir nuevos atributos por si misma tambien. "
   ]
  },
  {
   "cell_type": "code",
   "execution_count": 20,
   "id": "902c7b29",
   "metadata": {},
   "outputs": [
    {
     "name": "stdout",
     "output_type": "stream",
     "text": [
      "a.PI = 3.14\n",
      "b.PI = 3.14\n"
     ]
    }
   ],
   "source": [
    "class A: # Clase pade A\n",
    "    PI = 3.14\n",
    "    \n",
    "class B(A): # Clase hija B con la clase A de padre.\n",
    "    pass\n",
    "\n",
    "a = A() # Genera la instancia de la clase A\n",
    "b = B() # Genera la instancia de la clase B\n",
    "\n",
    "print('a.PI =', a.PI)\n",
    "print('b.PI =', b.PI)"
   ]
  },
  {
   "cell_type": "markdown",
   "id": "161e965a",
   "metadata": {},
   "source": [
    "### <FONT COLOR=\"blue\">  8. Repaso de la lección </FONT>\n",
    "#### Q1. *(tiempo estimado: 5 min)*\n",
    "\n",
    "Construya la clase *Dog* y sus objetos con sus funcionalidades descritas a continuación:\n",
    "\n",
    "- Tiene un método llamado *def bark(self):*. Este método imprime un ladrido.\n",
    "- Genere una instancia llamada 'Dog' y refiera a my_dog con un comando llamado my_dog = Dog\n",
    "- Imprima un ladrido con un método llamado my_dog.bark()\n",
    "\n",
    "Respuesta esperada: 'woof woof'\n",
    "\n",
    "### Q2. *(tiempo estimado: 5 min)*\n",
    "\n",
    "Defina la clase Dog con las funcionalidades descritas a continuación y llam sus métodos e instancias:\n",
    "\n",
    "- Esta clase Dog tiene un atributo llamado *name*\n",
    "- Tiene un método de inicialización llamado def __ init __ (self, name):. Este metodo inicializa el nombre de la clase Dog.\n",
    "- Tiene un método llamado def bark(self). Este método imrpime un ladrido.\n",
    "- Genere una instancia my_dog que tiene el nombre de 'Bigo' con el comando my_dog = Dog('Bingo')\n",
    "- Imprima los siguientes ladridos con el método my_dog.bark()\n",
    "\n",
    "Respuesta esperada: 'Bingo : woof woof'"
   ]
  },
  {
   "cell_type": "markdown",
   "id": "b171407e",
   "metadata": {},
   "source": [
    "## <FONT COLOR=\"blue\"> Vamos a codificar </FONT>\n",
    "\n",
    "### <FONT COLOR=\"blue\">  1. Diseño de una clase y encapsulación </FONT>\n",
    "\n",
    "#### **1.1 La importancia de la encapsulación**\n",
    "\n",
    "La encapsulación es una forma de reducir errores de accesos externos a atributos de clase internos. Una forma que obliga un acceso externo a pasar por funciones diseñadas para prevenir manipulación aleatoira de los atributos. Veamos el siguiente ejemplo en el que no se protegen los valores  internos de la clase:"
   ]
  },
  {
   "cell_type": "code",
   "execution_count": 21,
   "id": "70bfe544",
   "metadata": {},
   "outputs": [
    {
     "name": "stdout",
     "output_type": "stream",
     "text": [
      "Cat(name=nabi, age=3)\n",
      "Cat(name=nabi, age=-5)\n"
     ]
    }
   ],
   "source": [
    "class Cat:\n",
    "    def __init__(self, name, age):\n",
    "        self.name = name\n",
    "        self.age = age\n",
    "        \n",
    "    # Una expresión de formato string en la clase Cat\n",
    "    def __str__(self):\n",
    "        return 'Cat(name='+self.name+', age='+str(self.age)+')'\n",
    "    \n",
    "nabi = Cat('nabi', 3)\n",
    "print(nabi)\n",
    "\n",
    "nabi.age = 4\n",
    "nabi.age = -5 # Un número anormal en el que la edad es negativa\n",
    "\n",
    "print(nabi) # A pesar de que no genera un error de sintaxis si se oberva el problema de no proteger los valores internos"
   ]
  },
  {
   "cell_type": "markdown",
   "id": "e1b6aba7",
   "metadata": {},
   "source": [
    "#### **1.2 Concepto de encapsulación**\n",
    "\n",
    "Es una funcionalidad que envuelve los métdos de una clase y limita la manipulacion externa de las variables\n",
    "\n",
    "<img src=\"https://raw.githubusercontent.com/EdgarGM20/Imagenes/main/Ch21_fig22.png\" width=\"480px\"  />\n",
    "\n",
    "#### **1.3 Código de ejemplo de encapsulación**\n",
    "\n",
    "En el código de a continuación ha sido revisado para tener la variable set_age. Debido a la declaración condicional if age>0:, self.age=age, la edad no permite la operación si esta es negativa"
   ]
  },
  {
   "cell_type": "code",
   "execution_count": 22,
   "id": "493fd95e",
   "metadata": {},
   "outputs": [
    {
     "name": "stdout",
     "output_type": "stream",
     "text": [
      "Cat(name=nabi, age=3)\n",
      "Cat(name=nabi, age=4)\n"
     ]
    }
   ],
   "source": [
    "class Cat:\n",
    "    def __init__(self, name, age):\n",
    "        self.__name = name\n",
    "        self.__age = age\n",
    "        \n",
    "    # Una expresión de formato string en la clase Cat\n",
    "    def __str__(self):\n",
    "        return 'Cat(name='+self.__name+', age='+str(self.__age)+')'\n",
    "    \n",
    "    def set_age(self, age):\n",
    "        if age > 0:\n",
    "            self.__age = age\n",
    "            \n",
    "    def get_age(self):\n",
    "        return self.__age\n",
    "   \n",
    "    \n",
    "nabi = Cat('nabi', 3) # Se genera la instancia nabi\n",
    "print(nabi)\n",
    "\n",
    "nabi.set_age(4)\n",
    "nabi.set_age(-5)\n",
    "\n",
    "print(nabi) # Con lo anterior se previene de situaciones ilógicas como edades negativas"
   ]
  },
  {
   "cell_type": "markdown",
   "id": "414739eb",
   "metadata": {},
   "source": [
    "#### **1.4 Encapsulación y *setter***\n",
    "\n",
    "Como se mostró en el ejemplo anterior, en el que se usó la declaración condicional para que la edad no le asignaran valores negativos, cuando en el código se esblecen métodos que empiezan con setXXX, a estos se les conoce tambien como *setters*. De manera similar, aquellos que empiezan con getXXX son tambien conocidos como getters y son usados para leer valores de miemtros.\n",
    "\n",
    "Como recomendación, los pregramas serán más estables y seguros si los valores pueden solo ser asignados por lo *setters*y leídos por los *getters*. \n",
    "\n",
    "<img src=\"https://raw.githubusercontent.com/EdgarGM20/Imagenes/main/Ch21_fig23.png\" width=\"480px\"  />\n",
    "\n",
    "### <FONT COLOR=\"blue\"> 2. Operadores de identidad de objetos: is, is not </FONT>\n",
    "\n",
    "#### **2.1 Referirse a objetos idénticos a través de su id**\n",
    "\n",
    "El operador is regresa True si dos instancias son idénticas (Esto es que dos operandos se refieran al mismo objeto) y regresa fals cuano estos no son idénticos. Por otro lado, is not hace lo contrario a is. Veamos el siguiente ejemplo:"
   ]
  },
  {
   "cell_type": "code",
   "execution_count": 23,
   "id": "529ba184",
   "metadata": {},
   "outputs": [
    {
     "name": "stdout",
     "output_type": "stream",
     "text": [
      "list_a is not list_b\n"
     ]
    }
   ],
   "source": [
    "list_a = [10, 20, 30] # lista que refiere al objeto lista\n",
    "list_b = [10, 30, 30] # lista que refiere al objeto lista\n",
    "\n",
    "if list_a is list_b:\n",
    "    print('list_a is list_b')\n",
    "else:\n",
    "    print('list_a is not list_b')"
   ]
  },
  {
   "cell_type": "markdown",
   "id": "3b5d9612",
   "metadata": {},
   "source": [
    "Como vimos, el código nos devuelve que los objetos definidos anteriormente no son iguales. En la siguiente imagen vemos la razón:\n",
    "\n",
    "<img src=\"https://raw.githubusercontent.com/EdgarGM20/Imagenes/main/Ch21_fig24.png\" width=\"480px\"  />\n",
    "\n",
    "Ahora veamos el siguiente ejemplo:\n"
   ]
  },
  {
   "cell_type": "code",
   "execution_count": 24,
   "id": "26b25958",
   "metadata": {},
   "outputs": [
    {
     "name": "stdout",
     "output_type": "stream",
     "text": [
      " a es b\n"
     ]
    }
   ],
   "source": [
    "a = 'ABC' # Variable a que refiere un objeto string\n",
    "b = 'ABC' # Variable b que refiere un objeto string\n",
    "\n",
    "if a is b:\n",
    "    print(' a es b')\n",
    "else:\n",
    "    print('a no es b')\n",
    "    "
   ]
  },
  {
   "cell_type": "markdown",
   "id": "1a7a9943",
   "metadata": {},
   "source": [
    "Por otro lado, en el ejemplo anterion pero con objetos string. Como vimos, los strings son inmutables y por ello no tienen este inconveniente. En la siguiente imagen vemos gráficamente la explicación de este fenómeno\n",
    "\n",
    "<img src=\"https://raw.githubusercontent.com/EdgarGM20/Imagenes/main/Ch21_fig25.png\" width=\"480px\"  />\n",
    "\n",
    "### <FONT COLOR=\"blue\"> 3. Clases y métodos especiales </FONT>\n",
    "\n",
    "#### **3.1 Necesidad de métodos especiales**\n",
    "\n",
    "¿Por qué al construir una clase Vector2D que expresa un vector bidimensional se produce un error? Veamos el siguiente ejemplo:"
   ]
  },
  {
   "cell_type": "code",
   "execution_count": 25,
   "id": "006769b5",
   "metadata": {},
   "outputs": [],
   "source": [
    "class Vector2D:\n",
    "    def __init__(self, x, y):\n",
    "        self.x = x\n",
    "        self.y = y\n",
    "        \n",
    "v1 = Vector2D(30, 40)\n",
    "v2 = Vector2D(10, 20)\n",
    "\n",
    "#v3 = v1 + v2\n",
    "\n",
    "#print('v1 + v2 = ', v3)"
   ]
  },
  {
   "cell_type": "markdown",
   "id": "d1d82610",
   "metadata": {},
   "source": [
    "La razón de este error es porque el código no declara como la clase va a operar con las sumas en su interior. Para solucionarlo, vamos a definir un método llamado aa  que sume los componentes de cada vector. Luego que retorne un vector 2D con los valores correspondientes. Veamos la corrección a continuación:"
   ]
  },
  {
   "cell_type": "code",
   "execution_count": 26,
   "id": "832ee96b",
   "metadata": {},
   "outputs": [
    {
     "name": "stdout",
     "output_type": "stream",
     "text": [
      "v1 + v2 =  40, 60\n"
     ]
    }
   ],
   "source": [
    "class Vector2D:\n",
    "    def __init__(self, x, y):\n",
    "        self.x = x\n",
    "        self.y = y\n",
    "        \n",
    "    def __str__(self):\n",
    "        return '{}, {}'.format(self.x, self.y)\n",
    "    \n",
    "    def add(self, other):\n",
    "        return Vector2D(self.x + other.x, self.y + other.y)\n",
    "        \n",
    "v1 = Vector2D(30, 40)\n",
    "v2 = Vector2D(10, 20)\n",
    "\n",
    "v3 = v1.add(v2)\n",
    "\n",
    "print('v1 + v2 = ', v3)"
   ]
  },
  {
   "cell_type": "markdown",
   "id": "a9014586",
   "metadata": {},
   "source": [
    "#### **3.2 Definiendo métodos especiales**\n",
    "\n",
    "Así como en el ejemplo anterior definimos la función __ add __ que retorna la suma de dos vetores. Por otro lado, v1 + v2, el cual es identico a llamar v1.__ add __ (v2). Dado que v1+v2 es más intuituvo, usaremos el operador + en vez del método especial __ add __ . \n",
    "\n",
    "De manera similar, Python habilita adjuntar nuevas funcionalidades a la funcionalidad original del operador +.\n",
    "\n",
    "Veamos el siguiente ejemplo:"
   ]
  },
  {
   "cell_type": "code",
   "execution_count": 27,
   "id": "677254c7",
   "metadata": {},
   "outputs": [
    {
     "name": "stdout",
     "output_type": "stream",
     "text": [
      "v1 + v2 =  40, 60\n",
      "v1 - v2 =  20, 20\n"
     ]
    }
   ],
   "source": [
    "class Vector2D:\n",
    "    def __init__(self, x, y):\n",
    "        self.x = x\n",
    "        self.y = y\n",
    "        \n",
    " \n",
    "    def __add__(self, other):\n",
    "        return Vector2D(self.x + other.x, self.y + other.y)\n",
    "    \n",
    "    def __sub__(self, other):\n",
    "        return Vector2D(self.x - other.x, self.y - other.y)\n",
    "    \n",
    "    def __str__(self):\n",
    "        return '{}, {}'.format(self.x, self.y)\n",
    "        \n",
    "v1 = Vector2D(30, 40)\n",
    "v2 = Vector2D(10, 20)\n",
    "\n",
    "v3 = v1 + v2 # El comportamiento interno de v1 + v2 es identico a llamar el método v1.__add(v2)\n",
    "print('v1 + v2 = ', v3)\n",
    "\n",
    "v4 = v1 - v2\n",
    "print('v1 - v2 = ', v4)"
   ]
  },
  {
   "cell_type": "markdown",
   "id": "ced86c1d",
   "metadata": {},
   "source": [
    "#### **3.3 Varias clase de métodos especiales**\n",
    "\n",
    "Los principales operadores y métodos de python corresponden a los siguientes operadores:\n",
    "\n",
    "<img src=\"https://raw.githubusercontent.com/EdgarGM20/Imagenes/main/Ch21_fig26.png\" width=\"480px\"  />\n",
    "\n",
    "<img src=\"https://raw.githubusercontent.com/EdgarGM20/Imagenes/main/Ch21_fig27.png\" width=\"480px\"  />\n",
    "\n",
    "#### **3.4 Relación entre funciones pre-construidas y los métodos especiales**\n",
    "\n",
    "Python tiene un montón de funciones pre-construidas como: len, float, int, str, abs, hash, iter, etc. Estas funciones pre-construidas son formas de llamar métodos especias tales como: __ len __ , __ float __ , __ int  __ , __ str __ m, __ abs __ , __ hash __ , __ iter __ , etc. Por lo tanto, la función pre-construida len opera bajo la llamada del método especial __ len __ .\n",
    "\n",
    "### <FONT COLOR=\"blue\">  4. Significado de objeto, referencia y operador de asignación </FONT>\n",
    "\n",
    "#### **4.1 Significado de objeto, referencia y operador de asignación**\n",
    "\n",
    "Vamos a estudiar los roles de los objetos, referencias y operadores de asignación. Una variable es solo u nnombre dado a un objeto en la memoria, veamos el código de a continuación en el cual se puede verificar que id(100) es el mismo que id(n)."
   ]
  },
  {
   "cell_type": "code",
   "execution_count": 28,
   "id": "05d7fd79",
   "metadata": {},
   "outputs": [
    {
     "data": {
      "text/plain": [
       "1502316287440"
      ]
     },
     "execution_count": 28,
     "metadata": {},
     "output_type": "execute_result"
    }
   ],
   "source": [
    "n = 100\n",
    "id(100)"
   ]
  },
  {
   "cell_type": "code",
   "execution_count": 29,
   "id": "652d3199",
   "metadata": {},
   "outputs": [
    {
     "data": {
      "text/plain": [
       "1502316287440"
      ]
     },
     "execution_count": 29,
     "metadata": {},
     "output_type": "execute_result"
    }
   ],
   "source": [
    "id(n)"
   ]
  },
  {
   "cell_type": "markdown",
   "id": "b29ceea7",
   "metadata": {},
   "source": [
    "Si hay un objeto con el valor de 100, la variable de referencia n para el objeto tambien refiere al objeto idéntico 100. Tu puedes acceder al objeto 100 a traves de la variable n. Otra variable m puede acceder al objeto de la variable 100 usando un operador de asignación. Veamos la siguiente imágen y ejemplo:\n",
    "\n",
    "<img src=\"https://raw.githubusercontent.com/EdgarGM20/Imagenes/main/Ch21_fig28.png\" width=\"480px\"  />"
   ]
  },
  {
   "cell_type": "code",
   "execution_count": 30,
   "id": "11a171f7",
   "metadata": {},
   "outputs": [
    {
     "data": {
      "text/plain": [
       "1502316287440"
      ]
     },
     "execution_count": 30,
     "metadata": {},
     "output_type": "execute_result"
    }
   ],
   "source": [
    "n = 100\n",
    "m = n \n",
    "id(n)"
   ]
  },
  {
   "cell_type": "code",
   "execution_count": 31,
   "id": "80b6d146",
   "metadata": {},
   "outputs": [
    {
     "data": {
      "text/plain": [
       "1502316287440"
      ]
     },
     "execution_count": 31,
     "metadata": {},
     "output_type": "execute_result"
    }
   ],
   "source": [
    "id(m)"
   ]
  },
  {
   "cell_type": "markdown",
   "id": "ac8b55f9",
   "metadata": {},
   "source": [
    "Entonces, ¿cómo puedes referir objetos con atributos inmutables? Los enteros, los números reales, los strings, los booleanos y las tupas son objetos inmutables. A continuación, m y n refieren al mismo objeto 100, lo que le permite hacer uso eficiente de la memoria."
   ]
  },
  {
   "cell_type": "code",
   "execution_count": 32,
   "id": "39815d2b",
   "metadata": {},
   "outputs": [
    {
     "name": "stdout",
     "output_type": "stream",
     "text": [
      "1502316287440\n",
      "1502316287440\n"
     ]
    }
   ],
   "source": [
    "n = 100\n",
    "m =100\n",
    "print(id(n))\n",
    "print(id(m))"
   ]
  },
  {
   "cell_type": "markdown",
   "id": "5d8f3d43",
   "metadata": {},
   "source": [
    "#### **4.2 Operador de asignación significar referir objetos**\n",
    "\n",
    "La variable n y m que refieren un objeto pueden tambien referirse a objetos nuevos. El estado inicial de n refiere a 100 y por lo tanto, m tambien a través de la asignación m = n. Luego, si m y n refieren a otra variable de tal forma que n = 200 vemos que el id del objeto varía. Veamos la siguiente imagen y ejemplo:\n",
    "\n",
    "<img src=\"https://raw.githubusercontent.com/EdgarGM20/Imagenes/main/Ch21_fig29.png\" width=\"480px\"  />"
   ]
  },
  {
   "cell_type": "code",
   "execution_count": 33,
   "id": "4061af1b",
   "metadata": {},
   "outputs": [
    {
     "name": "stdout",
     "output_type": "stream",
     "text": [
      "1502316290704\n",
      "1502316287440\n"
     ]
    }
   ],
   "source": [
    "n = 100\n",
    "m = n\n",
    "\n",
    "n = 200\n",
    "print(id(n))\n",
    "print(id(m))"
   ]
  },
  {
   "cell_type": "markdown",
   "id": "fa3e6e5b",
   "metadata": {},
   "source": [
    "Por otro lado, veamos el método de asignación de objetos y la operación n = n + 1 a través del siguiente ejemplo"
   ]
  },
  {
   "cell_type": "code",
   "execution_count": 34,
   "id": "82889cb8",
   "metadata": {},
   "outputs": [
    {
     "data": {
      "text/plain": [
       "1502316287440"
      ]
     },
     "execution_count": 34,
     "metadata": {},
     "output_type": "execute_result"
    }
   ],
   "source": [
    "n = 100\n",
    "id(n)"
   ]
  },
  {
   "cell_type": "code",
   "execution_count": 35,
   "id": "24c10136",
   "metadata": {},
   "outputs": [
    {
     "data": {
      "text/plain": [
       "1502316287472"
      ]
     },
     "execution_count": 35,
     "metadata": {},
     "output_type": "execute_result"
    }
   ],
   "source": [
    "n = n + 1\n",
    "id(n)"
   ]
  },
  {
   "cell_type": "markdown",
   "id": "59286f96",
   "metadata": {},
   "source": [
    "<img src=\"https://raw.githubusercontent.com/EdgarGM20/Imagenes/main/Ch21_fig30.png\" width=\"480px\"  />\n",
    "\n",
    "como pudimos obervar, el objeto referido por n es definido como una variable inmutable por lo que al hacer otra asignación a esa variable provoca un desperdicio de espacio de memoria porque una variable ya no se refiere a ese objeto y los objetos que no se pueden acceder debido a la desaparición de su referencia se les conoce como basura (garbage). Por otro lado, la procedimiento de gestión periodica de memoria que remueve la memoria basura se le llama recolección de basura.\n",
    "\n",
    "### <FONT COLOR=\"blue\"> 5. Clases y herencia </FONT>\n",
    "\n",
    "#### **5.1 Estructura jerárquica de una clase**\n",
    "\n",
    "Tu puedes construir una clase llamada Manager y la clase Employee a través de la herencia de la clase Person, la cual es la clase padre. Dado que los managers y empleados son seres humanos, las dos clases hijas deberían contener el atributo name y el método get_name() de la clase Person. Si la clase Manager y Employee heredan de la clase Persom, las dos clases contendran las variables y miembros de la clase persona sin necesidad de incluir código extra. Veamos la siguiente figura:\n",
    "\n",
    "<img src=\"https://raw.githubusercontent.com/EdgarGM20/Imagenes/main/Ch21_fig31.png\" width=\"480px\"  />\n",
    "\n",
    "#### **5.2 Contruyendo una clase de estructura jerárquica**\n",
    "\n",
    "Veamos el siguiente ejemplo donde se define una estructura jerárquica de clases con la siguiente estructura:\n",
    "\n",
    "<img src=\"https://raw.githubusercontent.com/EdgarGM20/Imagenes/main/Ch21_fig32.png\" width=\"480px\"  />"
   ]
  },
  {
   "cell_type": "code",
   "execution_count": 36,
   "id": "95fd59fe",
   "metadata": {},
   "outputs": [
    {
     "name": "stdout",
     "output_type": "stream",
     "text": [
      "staff: David Doe, staffID: 1111\n",
      "staff: Paul Carter, staffID: 2222\n",
      "Manager: Ana Smith, position: CFO\n"
     ]
    }
   ],
   "source": [
    "class Person:\n",
    "    def __init__(self, name):\n",
    "        self.name = name\n",
    "    \n",
    "    def get_name(self):\n",
    "        return self.name\n",
    "    \n",
    "class Employee(Person): # Clase hija de la clase padre Person\n",
    "    def __init__(self, name, staff_id):\n",
    "        Person.__init__(self, name)\n",
    "        self.staff_id = staff_id\n",
    "    \n",
    "    def info(self):\n",
    "        return 'staff: '+ self.get_name() + ', staffID: ' + str (self.staff_id)\n",
    "    \n",
    "class Manager(Person): # Clase hija de la clase padre Person\n",
    "    def __init__(self, name, position):\n",
    "        Person.__init__(self, name)\n",
    "        self.position = position\n",
    "    def info(self):\n",
    "        return 'Manager: '+ self.get_name() + ', position: ' + str(self.position)\n",
    "        \n",
    "worker1 = Employee('David Doe', 1111)\n",
    "worker2 = Employee('Paul Carter', 2222)\n",
    "\n",
    "cfo = Manager('Ana Smith', 'CFO')\n",
    "\n",
    "print(worker1.info())\n",
    "print(worker2.info())\n",
    "print(cfo.info())"
   ]
  },
  {
   "cell_type": "markdown",
   "id": "38d858a9",
   "metadata": {},
   "source": [
    "## <FONT COLOR=\"blue\">Programación por parejas </FONT>\n",
    "\n",
    "### <FONT COLOR=\"blue\">Práctica de la programación en parejas </FONT>\n",
    "\n",
    "\n",
    "**Directriz, mecanismos y plan de contingencia**\n",
    "\n",
    " Preparar la programación por parejas implica establecer pautas y mecanismos para ayudar a los alumnos a emparejarse correctamente y mantenerlos emparejados.  Por ejemplo, los estudiantes deben turnarse para \"conducir el mouse\".  La preparación efectiva requiere planes de contingencia en caso de que uno de los socios se ausente o decida no participar por una u otra razón.  En estos casos, es importante dejar claro que el alumno activo no será sancionado porque el emparejamiento no funcionó bien.\n",
    " \n",
    "**Emparejar habilidades similares, no necesariamente iguales, como socios**\n",
    "\n",
    " La programación en parejas puede ser efectiva cuando los estudiantes con habilidades similares, aunque no necesariamente iguales, se emparejan como compañeros.  El emparejamiento de estudiantes que no coinciden a menudo puede conducir a una participación desequilibrada.  Los maestros deben enfatizar que la programación en parejas no es una estrategia de \"divide y vencerás\", sino más bien un verdadero esfuerzo de colaboración en cada esfuerzo por todo el proyecto.  Los maestros deben evitar emparejar a estudiantes muy débiles con estudiantes muy fuertes.\n",
    "\n",
    "**Motivar a los estudiantes ofreciendo incentivos adicionales**\n",
    "\n",
    " Ofrecer incentivos adicionales puede ayudar a motivar a los estudiantes a emparejarse, especialmente con estudiantes avanzados.  A algunos maestros les ha resultado útil pedirles a los estudiantes que se emparejen solo para una o dos tareas.\n",
    "\n",
    "**Evitar trampas en la colaboración**\n",
    "\n",
    " El desafío para el maestro es encontrar formas de evaluar los resultados individuales, mientras aprovecha los beneficios de la colaboración.  ¿Cómo saber si un estudiante aprendió o hizo trampa?  Los expertos recomiendan revisar el diseño y la evaluación del curso, así como discutir explícita y concretamente con los estudiantes los comportamientos que se interpretarán como trampa.  Los expertos alientan a los maestros a hacer que las tareas sean significativas para los estudiantes y a explicar el valor de lo que los estudiantes aprenderán al completarlas.\n",
    "\n",
    "**Entorno de aprendizaje colaborativo**\n",
    "\n",
    " Un entorno de aprendizaje colaborativo ocurre cada vez que un instructor requiere que los estudiantes trabajen juntos en actividades de aprendizaje.  Los entornos de aprendizaje colaborativo pueden implicar actividades tanto formales como informales y pueden incluir o no una evaluación directa.  Por ejemplo, parejas de estudiantes trabajan en asignaciones de programación; pequeños grupos de estudiantes discuten posibles respuestas a la pregunta de un profesor durante la lección; y los estudiantes trabajan juntos fuera de clase para aprender nuevos conceptos.  El aprendizaje colaborativo es distinto de los proyectos en los que los estudiantes \"dividen y vencerán\".  Cuando los estudiantes dividen el trabajo, cada uno es responsable de solo una parte de la resolución del problema y hay oportunidades muy limitadas para resolver los problemas con los demás.  En entornos colaborativos, los estudiantes participan en conversaciones intelectuales entre ellos.\n"
   ]
  },
  {
   "cell_type": "markdown",
   "id": "8d5b6d5e",
   "metadata": {},
   "source": [
    "### <FONT COLOR=\"blue\">**Q1.** </FONT>\n",
    "\n",
    "Construya la clase Studen que tiene las siguientes funcionalidades:\n",
    "- Este estudiante toma quices para inglés, matemáticas, ciencias y los puntajes son dados como entradas. Genere instancias a través del uso de esta clase. Esta clase tiene los siguientes atributos y acciones\n",
    "\n",
    "<img src=\"https://raw.githubusercontent.com/EdgarGM20/Imagenes/main/Ch21_fig33.png\" width=\"480px\"  />\n",
    "\n",
    "Respuesta esperada:\n",
    "\n",
    "<img src=\"https://raw.githubusercontent.com/EdgarGM20/Imagenes/main/Ch21_fig34.png\" width=\"480px\"  />"
   ]
  },
  {
   "cell_type": "code",
   "execution_count": null,
   "id": "ba7817db",
   "metadata": {},
   "outputs": [],
   "source": []
  }
 ],
 "metadata": {
  "kernelspec": {
   "display_name": "Python 3 (ipykernel)",
   "language": "python",
   "name": "python3"
  },
  "language_info": {
   "codemirror_mode": {
    "name": "ipython",
    "version": 3
   },
   "file_extension": ".py",
   "mimetype": "text/x-python",
   "name": "python",
   "nbconvert_exporter": "python",
   "pygments_lexer": "ipython3",
   "version": "3.9.12"
  }
 },
 "nbformat": 4,
 "nbformat_minor": 5
}
