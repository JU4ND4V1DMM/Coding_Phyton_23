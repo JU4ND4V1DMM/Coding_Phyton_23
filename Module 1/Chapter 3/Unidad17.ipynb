{
 "cells": [
  {
   "cell_type": "markdown",
   "id": "cb096b23",
   "metadata": {},
   "source": [
    "# <FONT COLOR=\"blue\"> **Samsung Innovation Campus**</FONT>  \n",
    "\n",
    "## <FONT COLOR=\"blue\">**Codificación y Programación**</FONT>\n",
    "\n",
    "# **Capítulo 3: Programación eficaz en Python: Función, Clausura y Clase**\n",
    "\n",
    "## Objetivos del capítulo\n",
    "\n",
    "Los alumnos podrán utilizar funciones y técnicas de programación modular. Los alumnos podrán usar expresiones lambda, que son expresiones que se usan para expresar funciones simples. Los alumnos podrán comprender el cierre que recibe el valor de retorno como una función después de definir funciones anidadas. Además, los alumnos podrán definir clases, que son conceptos importantes de los lenguajes orientados a objetos.\n",
    "\n",
    "## Contenido del capítulo\n",
    "- Unidad 17. Función\n",
    "- Unidad 18. Llamado Recursivo de una Función\n",
    "- Unidad 19. Lambda\n",
    "- Unidad 20. Clausura\n",
    "- Unidad 21. Clase\n"
   ]
  },
  {
   "cell_type": "markdown",
   "id": "57adae12",
   "metadata": {},
   "source": [
    "# **Unidad 17. Función**\n",
    "\n",
    "## Objetivos de aprendizaje\n",
    "\n",
    "- Entender funciones y ser capaz de crear funciones definidas por el usuario.\n",
    "- Ser capaz de nombrar una función usando la instrucción *def* y de llamarla usando su nombre.\n",
    "- Ser capaz de usar parámetros para recibir valores de funciones internas.\n",
    "- Entender y ser capaz de usar parámetros variables las cuales son técnicas para usar funciones convenientes.\n",
    "- Se capaz de usar parámetros por defecto cuando se declaran funciones. Cuando se llama a una función usando estos parámetros por defecto, el valor por defecto se usa para aquellos parámetros no declarados.\n",
    "- Ser capaz de usar parámetros en cualquier orden especificando una palabra clave del argumento cuando se llaman las funciones.\n",
    "- Ser capaz de usar la instrucción *return* para regresar los resultados de una función.\n",
    "\n",
    "## Resumen de la lección\n",
    "\n",
    "- Aprenderá a como usar funciones pre-construidas.\n",
    "- Entenderá la necesidad de funciones definidas por el usuario y aprender cómo definirías.\n",
    "- Aprenderá a como definir y llamar una función definida por el usuario usando la instrucción *def*.\n",
    "- Aprenderá a como usar parámetros para ingresar valores a la función llamada.\n",
    "- Aprenderá los tipos de errores que pueden ocurrir usando parámetros y como lidiar con ellos cuando ocurran.\n",
    "- Aprenderá a pasar valores eficientemente usando parámetros variables, parámetros por defecto y parámetros por palabras clave.\n",
    "- Aprenderá a retornar valores de las funciones a través de la instrucción *return*.\n",
    " \n",
    "## Conceptos previos de debes saber de las unidades previas\n",
    "\n",
    "- Saber como usar funciones de entrada y salida.\n",
    "- Saber como manipular los métodos string tales como *join*, *split* y *format*, de igual forma, manipular funciones de python pre-construidas tales como *sum* y *len*.\n",
    "- Saber como usar ciclos y las instrucciones *break* y *continue* para continuar o romper un bucle.\n",
    "\n",
    "## Palabras clave\n",
    "- Función.\n",
    "- Parámetro.\n",
    "- Errores de tipo.\n",
    "- Parámetro variable, por defecto y de palabra clave.\n",
    "- *Return*."
   ]
  },
  {
   "cell_type": "markdown",
   "id": "03dad49e",
   "metadata": {},
   "source": [
    "## <FONT COLOR=\"blue\"> Misión </FONT>\n",
    "\n",
    "### <FONT COLOR=\"blue\">1. Problema del mundo real </FONT>\n",
    "\n",
    "#### **1.1 Mundo digital y cifrado**\n",
    "\n",
    "<img src=\"https://raw.githubusercontent.com/EdgarGM20/Imagenes/main/Ch17_fig1.png?token=GHSAT0AAAAAABZFD7HKUFILCPXQHS4P6VMKYZ4BK5A\" width=\"480px\" height=\"240px\" />\n",
    "\n",
    "- En el mundo digital, es muy importante acreditar su identidad y acceder a la información.\n",
    "- Al mismo tiempo, las amenazas digitales tales como la falsificación de identidades personales o acceder a información pública sin autorización legitima se están convirtiendo en un problema grave.\n",
    "- Cuando dos personas tienen comunicaciones privadas en un lugar remoto, ellos deberian poder enviar y recibir información de forma cifrada.\n",
    "\n",
    "<img src=\"https://raw.githubusercontent.com/EdgarGM20/Imagenes/main/Ch17_fig2.png?token=GHSAT0AAAAAABZFD7HKAXX5JSUMVTLNVPG4YZ4BTLA\" width=\"480px\" height=\"240px\" />\n",
    "\n",
    "- Cuando las personas inician sesión en internet, el sitio web solicita al usuario una identificación, contraseña, etc. para comprobar que son ellos.\n",
    "- La mayoría de los sitios de internet y sistemas de comunicación \"cifran\" la información cuando la transmiten.\n",
    "- Cifremos nuestra información a través del histórico método de cifrado César el cual es uno de estos métodos de cifrado.\n",
    "- También aprendamos a cómo definir y llamar una función para resolver este problema.\n",
    "\n",
    "#### **1.2 Cifrado César**\n",
    "\n",
    "<img src=\"https://raw.githubusercontent.com/EdgarGM20/Imagenes/main/Ch17_fig3.png?token=GHSAT0AAAAAABZFD7HLSC7KAUYGO7BSLWR4YZ4B6MA\" width=\"480px\" height=\"240px\" />\n",
    "\n",
    "- Para aprender más acerca del cifrado de César, visite el siguiente link [click aquí](https://es.wikipedia.org/wiki/Cifrado_C%C3%A9sar)\n",
    "- Esta técnica de cifrado es conocida como una de las más antiguas.\n",
    "\n",
    "#### **1.3 Página web para crear cifrado César**\n",
    "\n",
    "<img src=\"https://raw.githubusercontent.com/EdgarGM20/Imagenes/main/Ch17_fig4.png?token=GHSAT0AAAAAABZFD7HLEOAFKZ5ZZSWG7J24YZ4CCRQ\" width=\"480px\" height=\"240px\" />\n",
    "\n",
    "- Algunas páginas web proveen un codificador de cifrado César.\n",
    "- Cuando visitas la pagina, puedes ingresar texto plano para crear el texto cifrado [click aquí](https://cryptii.com/pipes/caesar-cipher)\n",
    "\n",
    "### <FONT COLOR=\"blue\">2. Nuestra misión</FONT>\n",
    "\n",
    "#### **2.1 Crear un programa de cifrado César**\n",
    "\n",
    "- Use la técnica de cifrado César para crear un programa que reciba como entrada oraciones cifradas y decífrelas.\n",
    "- Para solucionar este problema, primero importe el módulo *string*  y use la función *ascii_uppercase*. Luego, ponga los valores generados por la funcion en una variable y luego genere una variable para almacenar los códigos de cifrado a través de un string slicing."
   ]
  },
  {
   "cell_type": "code",
   "execution_count": 1,
   "id": "fed34562",
   "metadata": {},
   "outputs": [
    {
     "name": "stdout",
     "output_type": "stream",
     "text": [
      "src_str:  ABCDEFGHIJKLMNOPQRSTUVWXYZ\n",
      "dst_str:  DEFGHIJKLMNOPQRSTUVWXYZABC\n"
     ]
    }
   ],
   "source": [
    "import string\n",
    "src_str = string.ascii_uppercase\n",
    "dst_str = src_str[3:] + src_str[:3]\n",
    "\n",
    "print(\"src_str: \", src_str)\n",
    "print(\"dst_str: \", dst_str)"
   ]
  },
  {
   "cell_type": "markdown",
   "id": "4baf062a",
   "metadata": {},
   "source": [
    "#### *2.2 Cómo funciona el cifrado César**\n",
    "\n",
    "Si ingresamos una oración tal como: APRENDAMOS FUNCIONES EN PYTHON!, nos debe dar como respuesta la oración cifrada: DSUHQGDPRV IXQFLRQHV HQ SBWKRQ!\n",
    "\n",
    "#### **2.3 Cómo funciona el cifrado César**\n",
    "\n",
    "**Pseudocodigo**\n",
    "\n",
    "1. Inicio.\n",
    "2. Ingrese una oración.\n",
    "3. **For** todos el número de caracteres en la oración, **Do**{\n",
    "4. **If** el carácter ingresado es una letra mayúscula, **Then** {\n",
    "5. Obtenga el tercer carácter del alfabeto que ud ingresó\n",
    "6. Imprima el carácter de *ch*}\n",
    "7. **Else**, {**Print** el carácter tal como ud lo ingresó}}\n",
    "8. Fin\n",
    "\n",
    "\n",
    "\n",
    "**Diagrama de flujo**\n",
    "\n",
    "<img src=\"https://raw.githubusercontent.com/EdgarGM20/Imagenes/main/Ch17_fig5.png?token=GHSAT0AAAAAABZFD7HLZUTVQJE4J2UDAOQEYZ4C4ZQ\" width=\"480px\" height=\"240px\" />\n",
    "\n",
    "#### **2.4 Programa del cifrado César: Código final**\n"
   ]
  },
  {
   "cell_type": "code",
   "execution_count": 2,
   "id": "f9a280d9",
   "metadata": {},
   "outputs": [
    {
     "name": "stdout",
     "output_type": "stream",
     "text": [
      "Oración cifrada: Hjemplo: DSUHQGDPRV IXQFLRQHV HQ SBWKRQ!\n"
     ]
    }
   ],
   "source": [
    "import string\n",
    "def cipher(a):\n",
    "    idx = src_str.index(a)\n",
    "    return dst_str[idx]\n",
    "\n",
    "src_str = string.ascii_uppercase\n",
    "dst_str = src_str[3:] + src_str[:3]\n",
    "\n",
    "src = \"Ejemplo: APRENDAMOS FUNCIONES EN PYTHON!\"# input('Ingrese una oración: ')\n",
    "print(\"Oración cifrada: \", end='')\n",
    "\n",
    "for ch in src:\n",
    "    if ch in src_str:\n",
    "        print(cipher(ch), end='')\n",
    "    else:\n",
    "        print(ch, end='')\n",
    "        \n",
    "print()\n",
    "\n",
    "# Ejemplo: APRENDAMOS FUNCIONES EN PYTHON!"
   ]
  },
  {
   "cell_type": "markdown",
   "id": "fc08636f",
   "metadata": {},
   "source": [
    "## <FONT COLOR=\"blue\"> Concepto Clave </FONT>\n",
    "### <FONT COLOR=\"blue\"> 1. Estructura básica de una función </FONT>\n",
    "#### **1.1 La función como bloque básico de construcción de un programa**\n",
    "\n",
    "En esta unidad, aprenderemos como las funciones juegan un rol importante en la programación.\n",
    "- Una función es un conjunto de códigos que realizan una operación específica dentro de un programa. Tiene la característica de ser ejecutada solo cuando la llaman.\n",
    "- Una función es el bloque básico de construcción de un programa.\n",
    "- Los software que usamos  son hechos a partir de la combinación de varias funciones y módulos.\n",
    "- Piense acerca de ensamblar las fichas de Lego para crear una figura que quieras. Es el mismo principio de crear programas. Para hacer un programa grande, de más de 10k líneas de código, las funciones necesarias deben ser bien combinadas y dispuestas en orden.\n",
    "\n",
    "<img src=\"https://raw.githubusercontent.com/EdgarGM20/Imagenes/main/Ch17_fig6.png?token=GHSAT0AAAAAABZFD7HL7RFR3V4TRBTU6OUCYZ4DXHQ\" width=\"480px\" height=\"240px\" />\n",
    "\n",
    "#### **1.2 Estructura básica de una función**\n",
    "\n",
    "A continuación aprenderás la estructura de una función que es esencial en un programa\n",
    "\n",
    "<img src=\"https://raw.githubusercontent.com/EdgarGM20/Imagenes/main/Ch17_fig7.png?token=GHSAT0AAAAAABZFD7HKU74QNY2RC6SLWSPSYZ5KEKA\" width=\"480px\" height=\"240px\" />\n",
    "\n",
    "#### **1.3 Cómo definir y llamar las funciones en el programa**\n",
    "\n",
    "A continuación aprenderás como definir y llamar un función sencilla"
   ]
  },
  {
   "cell_type": "code",
   "execution_count": 3,
   "id": "3c67c93e",
   "metadata": {},
   "outputs": [
    {
     "name": "stdout",
     "output_type": "stream",
     "text": [
      "***************\n"
     ]
    }
   ],
   "source": [
    "def print_star(): # Defina una funcion que imprima asteriscos\n",
    "    print('***************')\n",
    "\n",
    "print_star()"
   ]
  },
  {
   "cell_type": "markdown",
   "id": "1617ddcd",
   "metadata": {},
   "source": [
    "- **La linea 1:** se define una función usando la palabra clave (instrucción) *def*. Despues de escribir el nombre de la función se agrega unos paréntesis y se finaliza con el signo de puntuación de dos puntos \":\". Este signo de puntuación indica que un bloque de código continua. Si notamos, es similar a lo visto en lecciones anteriores para las estructuras *if*, *for* y *while*.\n",
    "- **En la línea 2:** Se ingresa el código que compone la función. Dicho codigo debe estar indentado. Este fragmento se denomina bloque y cuando se llame una función, esta ejecutará este bloque.\n",
    "- **En la línea 4:** Se llama la función recientemente generada *print_star()* y se ejecuta."
   ]
  },
  {
   "cell_type": "markdown",
   "id": "c2b643ad",
   "metadata": {},
   "source": [
    "#### **1.4 Cómo definir y llamar las funciones en el programa**\n",
    "\n",
    "La función *print_star()* es un conjunto o bloque de código (comandos) para hacer algo. Puedes comprobar que esta función se ejecutará cada vez que se requiera. (Las líneas 1 a 4 llaman la función *print_star*)"
   ]
  },
  {
   "cell_type": "code",
   "execution_count": 4,
   "id": "0430b6cc",
   "metadata": {},
   "outputs": [
    {
     "name": "stdout",
     "output_type": "stream",
     "text": [
      "***************\n",
      "***************\n",
      "***************\n",
      "***************\n"
     ]
    }
   ],
   "source": [
    "print_star() # Salida de asteriscos, primera llamada a la función\n",
    "print_star() # Salida de asteriscos, segunda llamada a la función\n",
    "print_star() # Salida de asteriscos, tercera llamada a la función\n",
    "print_star() # Salida de asteriscos, cuarta llamada a la función"
   ]
  },
  {
   "cell_type": "markdown",
   "id": "c54435b6",
   "metadata": {},
   "source": [
    "#### **1.5 Cómo definir y llamar las funciones en el programa**\n",
    "\n",
    "Las ventajas de las funciones de lo que hemos aprendido hasta el momento:\n",
    "\n",
    "1. Programación estructurada debido a que un programa muy grande puede ser segmentado en diferentes partes.\n",
    "2. Posibilidad de reusar funciones en otros programas.\n",
    "3. La legibilidad del código aumenta.\n",
    "4. Incluso, cuando esté modificando un programa, su mantenimiento es fácil porque solo unas funciones son las que necesitarán ser modificadas.\n",
    "5. Si usas una función previamente desarrollada, puedes ahorrar tiempo y dinero en el desarrollo de programas.\n",
    "\n",
    "### <FONT COLOR=\"blue\"> 2. Parámetros de una función </FONT>\n",
    "#### **2.1 Conceptos principales relacionados a las funciones**\n",
    "\n",
    "<img src=\"https://raw.githubusercontent.com/EdgarGM20/Imagenes/main/Ch17_fig8.png?token=GHSAT0AAAAAABZFD7HL7BAI3FOQ7KV3RVCGYZ5LE6Q\" width=\"480px\" height=\"240px\" />\n",
    "\n",
    "- **Parámetro:** Es una variable definida en el encabezado de una función o método. Recibe el valor real cuando la función es llamada. **Ejemplo:** los parámetros m y n de la función *def foo(m, n):*\n",
    "- **Argumento:** Refiere al valor real ingresado cuando una función o método es llamado. **Ejemplo:** Los argumentos 3 y 4 de la función *foo(3,4)*\n",
    "\n",
    "Ejemplo de una función que retorna la suma de los enteros del 1 al 10:\n",
    "\n",
    "<img src=\"https://raw.githubusercontent.com/EdgarGM20/Imagenes/main/Ch17_fig9.png?token=GHSAT0AAAAAABZFD7HKOBPVOT3JPECTYJMWYZ5LHQQ\" width=\"480px\" height=\"240px\" />\n",
    "\n",
    "#### **2.2 Función asterisco con parámetros**\n",
    "\n",
    "A continuación modificaremos la función de salida de asteriscos con algunos parámetros y la llamaremos con algunos argumentos."
   ]
  },
  {
   "cell_type": "code",
   "execution_count": 5,
   "id": "2ff6e7bc",
   "metadata": {},
   "outputs": [
    {
     "name": "stdout",
     "output_type": "stream",
     "text": [
      "***************\n",
      "***************\n",
      "***************\n",
      "***************\n"
     ]
    }
   ],
   "source": [
    "# Programa que repite la salida de asteriscos n-veces\n",
    "def print_star(n): # Defina una funcion que imprima asteriscos\n",
    "    for _ in range(n):\n",
    "        print('***************')\n",
    "\n",
    "print_star(4)"
   ]
  },
  {
   "cell_type": "markdown",
   "id": "31b9a906",
   "metadata": {},
   "source": [
    "- **La línea 2**: La función print_star toma el parámetro n como entrada\n",
    "- **La línea 3 y 4**: Genera un bucle que se ejecuta n-veces a través del ciclo *for* e imprime los asteriscos.\n",
    "- **La línea 6**: Da el valor del argumento, que en este caso es 4, cuando se llama a la función *print_star*\n",
    "\n",
    "### <FONT COLOR=\"blue\"> 3. Parámetros y los errores de typo.</FONT>\n",
    "#### **3.1 Caso A: usando parámetros**\n",
    "Controle el número de veces de la salida \"Hello\" a través de un argumento. En este caso, el $n$ dentro de la función es el parámetro que recibe el argumento."
   ]
  },
  {
   "cell_type": "code",
   "execution_count": 6,
   "id": "8aa8dfae",
   "metadata": {},
   "outputs": [
    {
     "name": "stdout",
     "output_type": "stream",
     "text": [
      "Imprime la palabra hello 2 veces. \n",
      "hello hello \n",
      "Imprime la palabra hello 3 veces. \n",
      "hello hello hello \n",
      "Imprime la palabra hello 4 veces. \n",
      "hello hello hello hello \n"
     ]
    }
   ],
   "source": [
    "def print_hello(n): # Repite la salida usando el parámetro n\n",
    "    print('hello ' * n)\n",
    "\n",
    "print(\"Imprime la palabra hello 2 veces. \")\n",
    "print_hello(2)\n",
    "print(\"Imprime la palabra hello 3 veces. \")\n",
    "print_hello(3)\n",
    "print(\"Imprime la palabra hello 4 veces. \")\n",
    "print_hello(4)"
   ]
  },
  {
   "cell_type": "markdown",
   "id": "ad79280b",
   "metadata": {},
   "source": [
    "#### **3.2 Caso B: usando parámetros**\n",
    "Encuentre la suma de los argumentos usando parámetros e imprímalos. La suma de los argumentos 10 y 20, y 100 y 200 se pueden calcular dentro de una función."
   ]
  },
  {
   "cell_type": "code",
   "execution_count": 7,
   "id": "945af112",
   "metadata": {},
   "outputs": [
    {
     "name": "stdout",
     "output_type": "stream",
     "text": [
      "La suma de 10 y 20 es 30\n",
      "La suma de 100 y 200 es 300\n"
     ]
    }
   ],
   "source": [
    "def print_sum(a, b): # Funcion con dos parámetros\n",
    "    result = a + b\n",
    "    print(\"La suma de\", a, \"y\", b, \"es\", result)\n",
    "    \n",
    "print_sum(10, 20)\n",
    "print_sum(100, 200)"
   ]
  },
  {
   "cell_type": "markdown",
   "id": "04f3b5bb",
   "metadata": {},
   "source": [
    "- **La línea 1**: La función *print_sum* toma los parámetros a y b.\n",
    "- **La línea 2 y 3**: Asigna el resultado de a + b y lo imprime.\n",
    "- **La línea 5**: LLama a la función , pone los argumentos 10 y 20 y lo ejecuta.\n",
    "\n",
    "#### **3.3 Error de typo en los parámetros**\n",
    "Si cuando se llama la función solo se ingresa un argumento, entonces aparece un mensaje de *TypeError* y no se ejecuta porque no está el valor del parámetro b, el cual es requerido por la función. Por eso es muy importante ajustar el número de argumentos con el número de parámetros de una función."
   ]
  },
  {
   "cell_type": "code",
   "execution_count": 8,
   "id": "a7769ef5",
   "metadata": {},
   "outputs": [],
   "source": [
    "#print_sum(10)"
   ]
  },
  {
   "cell_type": "markdown",
   "id": "d2861645",
   "metadata": {},
   "source": [
    "### <FONT COLOR=\"blue\"> 4. Parámetros arbitrarios </FONT>\n",
    "#### **4.1 Ingresando argumentos arbitrarios**\n",
    "\n",
    "- Cuando se está usando una función, hay casos donde el número de argumentos no es determinado. A esto se le llama, argumentos arbitrarios.\n",
    "- Cuando se recibe un argumento arbitrario desde una función se pone un asterisco (*) en frente del parámetro. Una variable dentro de la función que recibe un parámetro arbitrario se le llama parámetro arbitrario.\n",
    "- Los parámetros arbitrarios pueden ser usados, por ejemplo, en tuplas y listas.\n",
    "\n",
    "**Ejemplo:** Cuente el número de argumentos arbitrarios ingresados usando la función *len*"
   ]
  },
  {
   "cell_type": "code",
   "execution_count": 9,
   "id": "f28a03e9",
   "metadata": {},
   "outputs": [
    {
     "name": "stdout",
     "output_type": "stream",
     "text": [
      "El número de argumentos: 3\n",
      "Argumentos: (10, 20, 30)\n"
     ]
    }
   ],
   "source": [
    "def foo(*args):\n",
    "    print(\"El número de argumentos:\", len(args))\n",
    "    print(\"Argumentos:\", args)\n",
    "\n",
    "foo(10, 20, 30)"
   ]
  },
  {
   "cell_type": "markdown",
   "id": "31467166",
   "metadata": {},
   "source": [
    "**Las líneas 1, 2 y 3**: Toman un argumento arbitrario llamado \"args\", imprime la cantidad de \"args\" usando la función *len*, luego imprime los elementos de \"args\" y finalmente, viendo el resultado, se observa que los argumentos 10, 20 y 30 de la función son devueltos en forma de tupla a la salida de esta.\n",
    "\n",
    "#### **4.2 Hallando la suma de números ingresados como argumentos**\n",
    "\n",
    "Para ello, cree un programa que encuentre la suma de los números que son ingresados como argumentos. Nota: Si el número de argumentos a ser ingresados a la función *sum_nums* no es conocido de antemano, todos los argumentos pueden ser recibidos en el formato tupla a través des uso de un parámetro arbitrario llamado \"numbers\" que toma los argumentos arbitrarios de la función."
   ]
  },
  {
   "cell_type": "code",
   "execution_count": 10,
   "id": "ae5c1b5e",
   "metadata": {},
   "outputs": [
    {
     "name": "stdout",
     "output_type": "stream",
     "text": [
      "60\n",
      "150\n"
     ]
    }
   ],
   "source": [
    "def sum_nums(*numbers):\n",
    "    result = 0\n",
    "    for n in numbers:\n",
    "        result +=n\n",
    "    return result\n",
    "\n",
    "print(sum_nums(10, 20, 30)) # Imprime la suma de los argumentos 10, 20 y 30\n",
    "print(sum_nums(10, 20, 30, 40, 50)) # Imprime la suma de los argumentos 10, 20, 30, 40 y 50\n"
   ]
  },
  {
   "cell_type": "markdown",
   "id": "2840ddd1",
   "metadata": {},
   "source": [
    "**Las líneas 1, 2, 3, 4 y 5**: La función sum_nums toma un parámetro arbitrario llamado \"numbers\". A través de un ciclo *for*, la suma de los elementos (números) son almacenados en la variable result. Finalmente, se retorna el resultado.\n",
    "\n",
    "### <FONT COLOR=\"blue\"> 5. Parámetros por defecto </FONT>\n",
    "#### **5.1 Parámetros por defecto y programas robustos**\n",
    "\n",
    "Crearemos un programa robusto con parámetros por defecto. Pero antes, analizaremos porque la siguiente línea de código genera un error."
   ]
  },
  {
   "cell_type": "code",
   "execution_count": 11,
   "id": "646df00a",
   "metadata": {},
   "outputs": [],
   "source": [
    "#print_star()"
   ]
  },
  {
   "cell_type": "code",
   "execution_count": 12,
   "id": "5769977b",
   "metadata": {},
   "outputs": [],
   "source": [
    "def print_star(n=1): # Establezcamos el parametro n con valor por defecto igual a 1\n",
    "    for _ in range(n):\n",
    "        print('***************')\n",
    "\n",
    "#print_star()"
   ]
  },
  {
   "cell_type": "markdown",
   "id": "ddb6367e",
   "metadata": {},
   "source": [
    "Por lo tanto, al establecer un parámetro por defecto, el error ya no sucede.\n",
    "\n",
    "#### **5.2 Llamadas a funciones sin argumentos**\n",
    "\n",
    "- Como vimos en la línea anterior, en orden de que una función lleve a cabo su tarea es necesario ingresar correctamente sus argumentos. Algunas veces, es conveniente usar los parámetros por defecto para prevenir los errores y trabajar de manera más flexible. En el caso anterior, se usó los parámetros por defecto y como se vió, se puede asignar un valor por defecto, que en este caso fue 1. E incluso, si la función es llamada sin argumentos, el valor por defecto se asigna al parámetro n permitiendo así el correcto funcionamiento de la función.\n",
    "- Por otro lado, su a la función le ingresan un argumento, entonces el valor por defecto es ignorado. Por ejemplo, si se pone 2 es ingresado a la función entonces la función asigna el valor de 2 al parámetro $n$ como argumento."
   ]
  },
  {
   "cell_type": "code",
   "execution_count": 13,
   "id": "9bd41ceb",
   "metadata": {},
   "outputs": [
    {
     "name": "stdout",
     "output_type": "stream",
     "text": [
      "***************\n",
      "***************\n"
     ]
    }
   ],
   "source": [
    "print_star(2) # Como el valor del argumento es 2, el parámetro por defecto n=1 no se ejecuta. "
   ]
  },
  {
   "cell_type": "markdown",
   "id": "0810d3aa",
   "metadata": {},
   "source": [
    "#### **5.3 Practicando usando los parámetros por defecto**\n",
    "\n",
    "Para ello, vamos a crear una función llamada *div* que toma dos parámetros y le vamos a asignar el valor por defecto de 2 al segundo parámetro."
   ]
  },
  {
   "cell_type": "code",
   "execution_count": 14,
   "id": "f18eb033",
   "metadata": {},
   "outputs": [
    {
     "name": "stdout",
     "output_type": "stream",
     "text": [
      "div(4) =  2.0\n",
      "div(6, 3) =  2.0\n"
     ]
    }
   ],
   "source": [
    "def div(a, b=2):\n",
    "    return a/b\n",
    "\n",
    "print('div(4) = ', div(4))\n",
    "print('div(6, 3) = ', div(6,3))"
   ]
  },
  {
   "cell_type": "markdown",
   "id": "3eb1ea7d",
   "metadata": {},
   "source": [
    "**Las líneas 1 y 2**: *a* debe recibir un valor como argumento, sin embargo, *b* ya tiene asignado uno de antemano que es 2, incluso si no recibe valor como argumento y la función retorna el valor de *a/b*. Para el primer *print*, como solo se le ingresa a la función el valor de 4, a *b* se le asigna el valor por defecto de 2.\n",
    "\n",
    "¿Que pasaría si se asigna el valor por defecto de 2 al primer parámetro?"
   ]
  },
  {
   "cell_type": "code",
   "execution_count": 15,
   "id": "35884a53",
   "metadata": {},
   "outputs": [],
   "source": [
    "#def div(a=2, b):\n",
    "#    return a/b"
   ]
  },
  {
   "cell_type": "markdown",
   "id": "66183ad3",
   "metadata": {},
   "source": [
    "Los parámetros por defecto deberían ser asginados a todas las variables o desde la última variable en orden de aparición de los parámetros. A continuación, se definen unos casos particulares para la siguiente función con parámetros por defecto. En donde, *div()* es lo mismo que usar *div(1,2)*. Para el caso de *div(4), es lo mismo que *div(4,2)*."
   ]
  },
  {
   "cell_type": "code",
   "execution_count": 16,
   "id": "49fdd193",
   "metadata": {},
   "outputs": [
    {
     "name": "stdout",
     "output_type": "stream",
     "text": [
      "div() =  0.5\n",
      "div(4) =  2.0\n",
      "div(6, 3) =  2.0\n"
     ]
    }
   ],
   "source": [
    "def div(a=1, b=2):\n",
    "    return a/b\n",
    "\n",
    "print('div() = ', div())\n",
    "print('div(4) = ', div(4))\n",
    "print('div(6, 3) = ', div(6,3))"
   ]
  },
  {
   "cell_type": "markdown",
   "id": "3986f083",
   "metadata": {},
   "source": [
    "Como lo muestra la siguiente tabla:\n",
    "<img src=\"https://raw.githubusercontent.com/EdgarGM20/Imagenes/main/Ch17_fig10.png\" width=\"480px\" height=\"240px\" />"
   ]
  },
  {
   "cell_type": "markdown",
   "id": "67275a17",
   "metadata": {},
   "source": [
    "### <FONT COLOR=\"blue\"> 6. Parámetros por palabras clave </FONT>\n",
    "#### **6.1 Parámetros por palabras clave y método de transferencia de argumentos**\n",
    "\n",
    "El método de transferencia de argumentos por defecto en python es llamado el método de argumento posicional. \n",
    "\n",
    "**Ejemplo:**"
   ]
  },
  {
   "cell_type": "code",
   "execution_count": 17,
   "id": "6cdd47f5",
   "metadata": {},
   "outputs": [
    {
     "name": "stdout",
     "output_type": "stream",
     "text": [
      "El resultado es 2.0 o -4.0\n"
     ]
    }
   ],
   "source": [
    "def get_root(a, b, c):\n",
    "    r1 = (-b + (b**2 - 4*a*c)**0.5)/(2*a)\n",
    "    r2 = (-b - (b**2 - 4*a*c)**0.5)/(2*a)\n",
    "    return r1, r2\n",
    "\n",
    "# Cuando llame la función, use un valor constante como argumento\n",
    "# Retono de los resultados usando result1 y result2\n",
    "\n",
    "result1, result2 = get_root(1, 2, -8)\n",
    "print('El resultado es', result1, 'o', result2)"
   ]
  },
  {
   "cell_type": "markdown",
   "id": "36b20083",
   "metadata": {},
   "source": [
    "<img src=\"https://raw.githubusercontent.com/EdgarGM20/Imagenes/main/Ch17_fig11.png\" width=\"480px\" height=\"240px\" />\n",
    "\n",
    "#### **6.2 La necesidad de parámetros por palabras clave**\n",
    "\n",
    "Cuando se llama a una función, en vez de pasar solo el valor del argumento, el método de pasar los argumentos especificando el nombre se le llama parámetro por palabra clave. En el código de a continuación, si se ingresa -8, 2, 1 como argumento, el resultado será diferente a si se ingresa 1, 2, -8 como argumento. Por lo tanto, cuando se ingresa un valor a un parámetro, se ingresa en el orden a, b, c. Mientras que con el método de transferencia de un argumento posicional, el orden en el que los argumentos son listados son importantes."
   ]
  },
  {
   "cell_type": "code",
   "execution_count": 18,
   "id": "059e38bb",
   "metadata": {},
   "outputs": [
    {
     "name": "stdout",
     "output_type": "stream",
     "text": [
      "El resultado es -0.25 o 0.5\n"
     ]
    }
   ],
   "source": [
    "result1, result2 = get_root(-8, 2, 1)\n",
    "print('El resultado es', result1, 'o', result2)"
   ]
  },
  {
   "cell_type": "markdown",
   "id": "13a076c0",
   "metadata": {},
   "source": [
    "#### **6.3 Ventajas de los parámetros por palabras clave**\n",
    "\n",
    "Recordando, los parámetros por palabras clave son un método donde el valor del argumento es determinado por la palabra clave sin importar su posición.\n",
    "\n",
    "Ejemplos:"
   ]
  },
  {
   "cell_type": "code",
   "execution_count": 19,
   "id": "9df30da4",
   "metadata": {},
   "outputs": [
    {
     "name": "stdout",
     "output_type": "stream",
     "text": [
      "El resultado es 2.0 o -4.0\n",
      "El resultado es 2.0 o -4.0\n",
      "El resultado es 2.0 o -4.0\n"
     ]
    }
   ],
   "source": [
    "result1, result2 = get_root(a = 1, b = 2, c = -8)\n",
    "print('El resultado es', result1, 'o', result2)\n",
    "\n",
    "result1, result2 = get_root(a = 1, c = -8, b = 2)\n",
    "print('El resultado es', result1, 'o', result2)\n",
    "\n",
    "result1, result2 = get_root(c = -8, b = 2, a = 1)\n",
    "print('El resultado es', result1, 'o', result2)"
   ]
  },
  {
   "cell_type": "markdown",
   "id": "bb4b23a4",
   "metadata": {},
   "source": [
    "Como observamos en los resultados anteriores, en todos se obtiene el mismo valor. Por lo tanto, cuando los argumentos por palabra clave son usados, la posición de los argumentos no es importante.\n",
    "\n",
    "#### **6.4 Algunas consideraciones de los parámetros por palabras clave**\n",
    "\n",
    "Cuando se pasa un argumento a una función, hay dos métodos: el primero consiste en ingresarlo posicionalmente y el segundo, ingresarlo con palabras clave. Sin embargo, hay una opción para mezclar estos dos métodos. Cuando se mezclan estos dos tipos, los argumentos posicionales deben ir primero y luego deben ir los de palabra clave. Veamos el siguiente ejemplo: "
   ]
  },
  {
   "cell_type": "code",
   "execution_count": 20,
   "id": "21940de6",
   "metadata": {},
   "outputs": [
    {
     "name": "stdout",
     "output_type": "stream",
     "text": [
      "El resultado es 2.0 o -4.0\n"
     ]
    }
   ],
   "source": [
    "# Error al mezclar los dos métodos\n",
    "#result1, result2 = get_root(c = -8, b = 2, 1)\n",
    "print('El resultado es', result1, 'o', result2)"
   ]
  },
  {
   "cell_type": "code",
   "execution_count": 21,
   "id": "f8e5a8df",
   "metadata": {},
   "outputs": [
    {
     "name": "stdout",
     "output_type": "stream",
     "text": [
      "El resultado es 2.0 o -4.0\n"
     ]
    }
   ],
   "source": [
    "# Uso correcto de mezclar los dos métodos\n",
    "result1, result2 = get_root(1, 2, c = -8,)\n",
    "print('El resultado es', result1, 'o', result2)"
   ]
  },
  {
   "cell_type": "markdown",
   "id": "01ceebc9",
   "metadata": {},
   "source": [
    "### <FONT COLOR=\"blue\"> 7. Return </FONT>\n",
    "#### ***7.1 La declaración return que regresa un resultado**\n",
    "\n",
    "En general, se asume que el interior de una función es una caja negra. Dentro de esta hay un código específico que realiza una tarea y que entra un resultado. En la gráfica de a continuación se muestra un ejemplo de una función de python que regresa uno o más valores usando la sentencia *return*.\n",
    "\n",
    "<img src=\"https://raw.githubusercontent.com/EdgarGM20/Imagenes/main/Ch17_fig12.png\" width=\"480px\" height=\"240px\" />\n",
    "\n",
    "Por ejemplo, definamos una función que retorne la suma de dos valores. Para ello:"
   ]
  },
  {
   "cell_type": "code",
   "execution_count": 22,
   "id": "a53e103f",
   "metadata": {},
   "outputs": [
    {
     "name": "stdout",
     "output_type": "stream",
     "text": [
      "La suma de 10 y 20 = 30\n",
      "La suma de 100 y 200 = 300\n"
     ]
    }
   ],
   "source": [
    "def get_sum(a, b): # Función que retorna la suma de dos números\n",
    "    result = a + b\n",
    "    return result # Retorno del resultado usando la sentencia return\n",
    "\n",
    "n1 = get_sum(10, 20)\n",
    "print(\"La suma de 10 y 20 =\", n1)\n",
    "\n",
    "n2 = get_sum(100, 200)\n",
    "print(\"La suma de 100 y 200 =\", n2)"
   ]
  },
  {
   "cell_type": "markdown",
   "id": "8684c1ee",
   "metadata": {},
   "source": [
    "Ahora, modifiquemos un poco la función *get_Sum* para que retorne el resultado directamente sin necesidad de definir variables intermedias"
   ]
  },
  {
   "cell_type": "code",
   "execution_count": 23,
   "id": "765885ad",
   "metadata": {},
   "outputs": [
    {
     "name": "stdout",
     "output_type": "stream",
     "text": [
      "La suma de 100 y 200 = 300\n"
     ]
    }
   ],
   "source": [
    "def get_sum(a, b):\n",
    "    return a + b\n",
    "\n",
    "n2 = get_sum(100, 200)\n",
    "print(\"La suma de 100 y 200 =\", n2)"
   ]
  },
  {
   "cell_type": "markdown",
   "id": "ff7fbcb2",
   "metadata": {},
   "source": [
    "Como observamos, los dos métodos tienen el mismo resultado.\n",
    "\n",
    "#### **7.2 La sentencia return que regresa una tupla**\n",
    "\n",
    "En el siguiente ejemplo veremos que la sentencia *return* puede regresar varios valores en forma de tuplas. Recordemos la función que definimos anteriormente *get_root*"
   ]
  },
  {
   "cell_type": "code",
   "execution_count": 24,
   "id": "686118af",
   "metadata": {},
   "outputs": [
    {
     "name": "stdout",
     "output_type": "stream",
     "text": [
      "El resultado es 2.0 o -4.0\n"
     ]
    }
   ],
   "source": [
    "def get_root(a, b, c):\n",
    "    r1 = (-b + (b**2 - 4*a*c)**0.5)/(2*a)\n",
    "    r2 = (-b - (b**2 - 4*a*c)**0.5)/(2*a)\n",
    "    return r1, r2\n",
    "\n",
    "# Vamos usar argumentos posicionales\n",
    "result1, result2 = get_root(1, 2, -8)\n",
    "print('El resultado es', result1, 'o', result2)\n"
   ]
  },
  {
   "cell_type": "markdown",
   "id": "2fd1815a",
   "metadata": {},
   "source": [
    "### <FONT COLOR=\"blue\"> 7. Repaso de la lección </FONT>\n",
    "### Q1. *(tiempo estimado: 5 min)*\n",
    "Defina una función llamada *my_greet* que imprima \"Bienvenido.\" y llame esta función para que imprima el saludo dos veces.\n",
    "### Q2. *(tiempo estimado: 10 min)*\n",
    "Implemente la función *max2(m,n)*  la cual tome dos parámetros llamados m y n y que regrese el número mayor de estos dos valores. Por otro lado, implemente la función *min2(m,n)* que tome dos parámetros llamados m y n y que regrese el número menor de estos dos valores. Luego, asigne el valor de 100 y 200 como argumentos para las dos funciones e imprima su resultado.\n",
    "### Q3. *(tiempo estimado: 5 min)*\n",
    "Queremos cambiar el valor de la distancia de millas a kilómetros (Las millas son una unidad de medida que se usa principalmente en Estados Unidos, mientras que los kilómetros son la unidad estándar internacional). Para ello implemente la función *mile2km(ml)* que toma valores de las millas y las convierta en kilómetros. Luego llame a esta función para que imprima la conversión de las millas 1 a 5 en kilómetros a través de la sentencia *for*. (Se define 1 milla con 1.61 km)\n",
    "### Q4. *(tiempo estimado: 5 min)*\n",
    "Implemente la función *cel2fah(cel)* que toma la temperatura en grados Celsius y que retorna la temperatura en grados Fahrenheit. Luego llame la función, a través de una sentencia *for*, que imprima las conversiones de temperatura desde 10 hasta 50 grados Celsius en pasos de 10 unidades. (Recuerde la fórmula de conversión Fah = Cel*(9/5) + 32"
   ]
  },
  {
   "cell_type": "markdown",
   "id": "2fe648a5",
   "metadata": {},
   "source": [
    "## <FONT COLOR=\"blue\"> Vamos a codificar </FONT>\n",
    "### <FONT COLOR=\"blue\"> 1. Procesando cadenas de texto </FONT>\n",
    "#### **1.1 Funciones y métodos varios de procesamiento de cadenas de texto**\n",
    "Vamos a profundizar en los métodos para procesar cadenas de texto que aprendieron en la unidad 14."
   ]
  },
  {
   "cell_type": "code",
   "execution_count": 25,
   "id": "950fbcc3",
   "metadata": {},
   "outputs": [
    {
     "name": "stdout",
     "output_type": "stream",
     "text": [
      "Cantidad de veces que sale el punto: 2\n",
      "Caracteres de la fecha: 10\n"
     ]
    }
   ],
   "source": [
    "birth = '1998.05.13'\n",
    "\n",
    "print('Cantidad de veces que sale el punto:', birth.count('.'))\n",
    "print('Caracteres de la fecha:', len(birth))\n"
   ]
  },
  {
   "cell_type": "markdown",
   "id": "1f08bc96",
   "metadata": {},
   "source": [
    "#### **1.2 Procesando cadenas de texto usando funciones pre-construidas**\n",
    "Tu puedes usar la función máximo y mínimo para obtener el carácter más grande y el más pequeño. Sin embargo, el criterio de selección se realiza basado en el sistema de codificación Unicode. (Unicode es un sistema de codificación que define los caracteres que pueden ser usados en los computadores). Veamos un ejemplo:"
   ]
  },
  {
   "cell_type": "code",
   "execution_count": 26,
   "id": "8c1beb01",
   "metadata": {},
   "outputs": [
    {
     "data": {
      "text/plain": [
       "'9'"
      ]
     },
     "execution_count": 26,
     "metadata": {},
     "output_type": "execute_result"
    }
   ],
   "source": [
    "max(birth)"
   ]
  },
  {
   "cell_type": "code",
   "execution_count": 27,
   "id": "bbbd5e5c",
   "metadata": {},
   "outputs": [
    {
     "data": {
      "text/plain": [
       "57"
      ]
     },
     "execution_count": 27,
     "metadata": {},
     "output_type": "execute_result"
    }
   ],
   "source": [
    "ord(max(birth)) # la función ord regresa el valor unicode para '9'"
   ]
  },
  {
   "cell_type": "code",
   "execution_count": 28,
   "id": "41e0e546",
   "metadata": {},
   "outputs": [
    {
     "data": {
      "text/plain": [
       "46"
      ]
     },
     "execution_count": 28,
     "metadata": {},
     "output_type": "execute_result"
    }
   ],
   "source": [
    "# la función ord regresa el valor unicode para el valor más pequeño dentro de la cadena\n",
    "ord(min(birth)) "
   ]
  },
  {
   "cell_type": "code",
   "execution_count": 29,
   "id": "f75dff67",
   "metadata": {},
   "outputs": [
    {
     "name": "stdout",
     "output_type": "stream",
     "text": [
      "('9', '.')\n"
     ]
    }
   ],
   "source": [
    "# Retorno de los caracteres correspondientes para los valores Unicode 57 y 46\n",
    "\n",
    "print((chr(57), chr(46)))"
   ]
  },
  {
   "cell_type": "markdown",
   "id": "7ac249cf",
   "metadata": {},
   "source": [
    "#### **1.3 Otros métodos para procesar cadenas de texto**"
   ]
  },
  {
   "cell_type": "code",
   "execution_count": 30,
   "id": "e4d38fbc",
   "metadata": {},
   "outputs": [
    {
     "name": "stdout",
     "output_type": "stream",
     "text": [
      "2\n",
      "0\n",
      "3\n",
      "11\n",
      "True\n",
      "True\n"
     ]
    }
   ],
   "source": [
    "a = 'I love python'\n",
    "print(a.count('o')) # cuenta el número de veces que aparece 'o'\n",
    "print(a.count('k')) # cuenta el número de veces que aparece 'k'\n",
    "print(a.find('o')) # regresa el índice de la ubicación en que aparece el primer'o'\n",
    "print(a.find('on')) # regresa el índice de la ubicación en que aparece el primer 'on'\n",
    "print(a.startswith('I')) # regresa si la frase empieza con el caracter 'I'\n",
    "print(a.endswith('python')) # regresa si la frase termina con el caracter 'I'"
   ]
  },
  {
   "cell_type": "code",
   "execution_count": 31,
   "id": "f0008eca",
   "metadata": {},
   "outputs": [
    {
     "name": "stdout",
     "output_type": "stream",
     "text": [
      "I LOVE PYTHON\n",
      "i love python\n",
      "i lOVE pYTHON\n",
      "True\n"
     ]
    }
   ],
   "source": [
    "a = 'I Love Python'\n",
    "g = 'i love python'\n",
    "h = 'I LOVE PYTHON'\n",
    "\n",
    "print(a.upper()) # Convierte toda la frase a mayúsculas\n",
    "print(h.lower()) # Convierte toda la frase a minúsculas\n",
    "print(a.swapcase()) # Convierte mayúsculas en minúsculas y viceversa\n",
    "print(a.istitle()) # ¿Es una frase que las palabras empiezan con mayúscula y terminan en minúscula?\n"
   ]
  },
  {
   "cell_type": "markdown",
   "id": "80870285",
   "metadata": {},
   "source": [
    "#### **1.4 Usando los módulos para procesar cadenas de texto**\n",
    "Python tiene un módulo llamado *string* que te ayuda a procesar cadenas de texto. Funciones tales como *ascii_uppercase* contiene letras en mayúsculas y *ascii_lowercase* contiene letras en minúsculas. A continuación imprimamos las letras del alfabeto inglés usando el módulo *string*"
   ]
  },
  {
   "cell_type": "code",
   "execution_count": 32,
   "id": "16f40dc2",
   "metadata": {},
   "outputs": [
    {
     "name": "stdout",
     "output_type": "stream",
     "text": [
      "src_str= ABCDEFGHIJKLMNOPQRSTUVWXYZ\n",
      "src_str= abcdefghijklmnopqrstuvwxyz\n",
      "dst_str= BCDEFGHIJKLMNOPQRSTUVWXYZA\n"
     ]
    }
   ],
   "source": [
    "import string\n",
    "src_str = string.ascii_uppercase\n",
    "print('src_str=', src_str) # Imprime el alfabeto en mayúscula\n",
    "\n",
    "src_str = string.ascii_lowercase\n",
    "print('src_str=', src_str) # Imprime el alfabeto en minúscula\n",
    "\n",
    "src_str = string.ascii_uppercase\n",
    "dst_str = src_str[1:] + src_str[:1]\n",
    "print('dst_str=', dst_str) # Imprime el alfabeto reorganizado a través del slicing y concatenación"
   ]
  },
  {
   "cell_type": "markdown",
   "id": "8815caa4",
   "metadata": {},
   "source": [
    "#### **1.5 Usando el método index**\n",
    "A través de este método, la posición de la letra A en src_str puede ser consultada y almacenada en una variable (n). Por otro lado, se puede confirmar que la posición de la letra 'A' en src_str corresponde a la letra 'B' en dst_str."
   ]
  },
  {
   "cell_type": "code",
   "execution_count": 33,
   "id": "eedec9e8",
   "metadata": {},
   "outputs": [
    {
     "name": "stdout",
     "output_type": "stream",
     "text": [
      "El índice de A en src_str =  0\n",
      "El caractér en dst_str en la posición de A en src_str = B\n"
     ]
    }
   ],
   "source": [
    "n = src_str.index('A')\n",
    "print('El índice de A en src_str = ', n)\n",
    "print('El caractér en dst_str en la posición de A en src_str =', dst_str[n])"
   ]
  },
  {
   "cell_type": "markdown",
   "id": "81765800",
   "metadata": {},
   "source": [
    "### <FONT COLOR=\"blue\">2. Encontrando la solución de una ecuación cuadrática</FONT>\n",
    "#### **2.1 Solución de una ecuación cuadrática**\n",
    "Si los coeficientes de una ecuación cuadrática son a, b y c respectivamente, la fórmula de la ecuación cuadrática es la que se muestra a continuación. Se asume que que el valor de a es cualquiera menos 0. Solucionemos esta fórmula a continuación:\n",
    "<img src=\"https://raw.githubusercontent.com/EdgarGM20/Imagenes/main/Ch17_fig13.png\" width=\"480px\" height=\"240px\" />\n"
   ]
  },
  {
   "cell_type": "code",
   "execution_count": 34,
   "id": "bee7b51b",
   "metadata": {},
   "outputs": [
    {
     "name": "stdout",
     "output_type": "stream",
     "text": [
      "La solución es 2.0 o -4.0\n",
      "La solución es 4.0 o -1.0\n"
     ]
    }
   ],
   "source": [
    "def print_root(a, b, c):\n",
    "    r1 = (-b + (b**2 - 4*a*c)**0.5)/(2*a)\n",
    "    r2 = (-b - (b**2 - 4*a*c)**0.5)/(2*a)\n",
    "    print('La solución es', r1, 'o', r2)\n",
    "\n",
    "# Solución de la ecuación cuadrática\n",
    "print_root(1, 2, -8)\n",
    "print_root(2, -6, -8)"
   ]
  },
  {
   "cell_type": "markdown",
   "id": "fa9381a5",
   "metadata": {},
   "source": [
    "### <FONT COLOR=\"blue\">3. Declaración de múltiple retorno </FONT>\n",
    "#### **3.1 Una función que regresa el área y el perímetro de un círculo**\n",
    "\n",
    "Use el radio de un circulo para encontrar el área y el perímetro de un circulo a través de la función circle_area_circum(radius)."
   ]
  },
  {
   "cell_type": "code",
   "execution_count": 35,
   "id": "50400976",
   "metadata": {},
   "outputs": [
    {
     "name": "stdout",
     "output_type": "stream",
     "text": [
      "El área de un círculo de radio 10 es 314.0, y el perímetro es 62.8\n"
     ]
    }
   ],
   "source": [
    "def circle_area_circum(radius):\n",
    "    area = 3.14*radius**2\n",
    "    circum = 2*3.14*radius\n",
    "    return area, circum\n",
    "\n",
    "radio = 10\n",
    "area, circum = circle_area_circum(radio)\n",
    "print('El área de un círculo de radio {} es {:.1f}, y el perímetro es {:.1f}'.format(radio, area, circum))"
   ]
  },
  {
   "cell_type": "markdown",
   "id": "49c20a20",
   "metadata": {},
   "source": [
    "### <FONT COLOR=\"blue\"> 4. Variables globales </FONT>\n",
    "#### **4.1 Concepto de variables globales**\n",
    "\n",
    "Una variable global es una variable que se declara por fuera de la función y está disponible en todo el código. Como vemos en la siguiente imagen, en la que las variables a y b pueden ser llamadas en el script del código y en funciones internas como la de *print_sum* \n",
    "<img src=\"https://raw.githubusercontent.com/EdgarGM20/Imagenes/main/Ch17_fig14.png\" width=\"480px\" height=\"240px\" />"
   ]
  },
  {
   "cell_type": "code",
   "execution_count": 36,
   "id": "08b98857",
   "metadata": {},
   "outputs": [
    {
     "name": "stdout",
     "output_type": "stream",
     "text": [
      "interior de print_sum(). La suma de  10 y 20 es 30\n",
      "exterior de print_sum(). La suma de  10 y 20 es 30\n"
     ]
    }
   ],
   "source": [
    "def print_sum():\n",
    "    result = a + b\n",
    "    print('interior de print_sum(). La suma de ', a, 'y', b, 'es', result)\n",
    "    \n",
    "a = 10\n",
    "b = 20\n",
    "print_sum()\n",
    "\n",
    "result = a + b\n",
    "print('exterior de print_sum(). La suma de ', a, 'y', b, 'es', result)"
   ]
  },
  {
   "cell_type": "code",
   "execution_count": 37,
   "id": "dd09db21",
   "metadata": {},
   "outputs": [
    {
     "name": "stdout",
     "output_type": "stream",
     "text": [
      "interior de print_sum(). La suma de  100 y 200 es 300\n",
      "exterior de print_sum(). La suma de  10 y 20 es 30\n"
     ]
    }
   ],
   "source": [
    "# Observa el siguiente ejemplo y describa que pasa\n",
    "def print_sum():\n",
    "    # Creación de variables internas con valores de 100 y 200\n",
    "    a = 100\n",
    "    b = 200\n",
    "    result = a + b\n",
    "    print('interior de print_sum(). La suma de ', a, 'y', b, 'es', result)\n",
    "\n",
    "# Creación de variables globales con valores 10 y 20 \n",
    "a = 10\n",
    "b = 20\n",
    "print_sum()\n",
    "\n",
    "result = a + b\n",
    "print('exterior de print_sum(). La suma de ', a, 'y', b, 'es', result)"
   ]
  },
  {
   "cell_type": "markdown",
   "id": "439648ae",
   "metadata": {},
   "source": [
    "#### **4.2 Concepto de variables locales**\n",
    "Teniendo foco en los resultados anteriores se observa que dentro de la función se generan las variables locales 100 y 200. Por otro lado, las variables globales refieren a los valores de 10 y 20. Por lo tanto, en la siguiente figura se resume lo visto, en el que las variables globales existen en el script general de python. Pero que al ingresar a la función *print_sum*, las variables a y b generan un nuevo objeto con valores distinto a pesar de tener los mismos nombres.\n",
    "\n",
    "<img src=\"https://raw.githubusercontent.com/EdgarGM20/Imagenes/main/Ch17_fig15.png\" width=\"480px\" height=\"240px\" />"
   ]
  },
  {
   "cell_type": "markdown",
   "id": "42ab1d46",
   "metadata": {},
   "source": [
    "#### **4.3 Palabra clave *global***\n",
    "Aprende a referirte a las variables globales usando la palabra clave *keyword*"
   ]
  },
  {
   "cell_type": "code",
   "execution_count": 38,
   "id": "2be06132",
   "metadata": {},
   "outputs": [
    {
     "name": "stdout",
     "output_type": "stream",
     "text": [
      "interior de print_sum(). La suma de  100 y 200 es 300\n",
      "exterior de print_sum(). La suma de  100 y 200 es 300\n"
     ]
    }
   ],
   "source": [
    "def print_sum():\n",
    "    global a, b # a y b usan los valores declarados por fuera de la función\n",
    "    a = 100\n",
    "    b = 200\n",
    "    result = a + b\n",
    "    print('interior de print_sum(). La suma de ', a, 'y', b, 'es', result)\n",
    "\n",
    "# Creación de variables globales con valores 10 y 20 \n",
    "a = 10\n",
    "b = 20\n",
    "print_sum()\n",
    "\n",
    "result = a + b\n",
    "print('exterior de print_sum(). La suma de ', a, 'y', b, 'es', result)"
   ]
  },
  {
   "cell_type": "code",
   "execution_count": 39,
   "id": "cc41e839",
   "metadata": {},
   "outputs": [],
   "source": [
    "# Ten cuidado con el siguiente error de sintaxis. En este caso, se genera\n",
    "# un error porque no se puede asignar, al mismo tiempo, un valor cuando \n",
    "# se hace la asignación de una variable global.\n",
    "\n",
    "#def print_sum():\n",
    "    #global a = 0 # a y b usan los valores declarados por fuera de la función"
   ]
  },
  {
   "cell_type": "markdown",
   "id": "3dafb956",
   "metadata": {},
   "source": [
    "#### **4.4 Proceso de referencia de variables globales**\n",
    "\n",
    "El proceso de usar variables globales a y b en una función a través de la declaración explicita de la palabra clave *global* se muestra en la siguiente imagen. Es de resaltar que como las variables internas del ejemplo anterior se declararon como globales, al ejecutarse, estas reescribieron las variables globales del exterior.\n",
    "\n",
    "<img src=\"https://raw.githubusercontent.com/EdgarGM20/Imagenes/main/Ch17_fig16.png\" width=\"480px\" height=\"240px\" />"
   ]
  },
  {
   "cell_type": "markdown",
   "id": "2a4d18c6",
   "metadata": {},
   "source": [
    "#### **4.5 Algunas notas al usar constantes en variables globales**\n",
    "\n",
    "Usar variables globales es una mala práctica en todos los lenguajes de programación. Cuando la longitud del código crece, las variables globales pueden causar errores. Por otro lado, las constantes globales no son del todo malo. Una constante global puede ser declarada como se define afuera de una función y puede ser referenciada a través de todo el módulo. Por lo general, estas se define en mayúscula para hacerla más fácil de distinguir del resto de variables. A continuación un ejemplo:"
   ]
  },
  {
   "cell_type": "code",
   "execution_count": 40,
   "id": "f7f58cf1",
   "metadata": {},
   "outputs": [
    {
     "name": "stdout",
     "output_type": "stream",
     "text": [
      "102400\n"
     ]
    }
   ],
   "source": [
    "GLOBAL_VALUE = 1024 # Al definir esta variable en mayúscula se hace fácil distinguirla de las demás\n",
    "def foo():\n",
    "    global GLOBAL_VALUE\n",
    "    a = GLOBAL_VALUE*100\n",
    "    print(a)\n",
    "\n",
    "foo()"
   ]
  },
  {
   "cell_type": "markdown",
   "id": "53d2f69b",
   "metadata": {},
   "source": [
    "### <FONT COLOR=\"blue\"> 5. Funciones y métodos </FONT>\n",
    "#### **5.1 Diferencia entre función y método**\n",
    "\n",
    "Las funciones y los métodos son equivalentes en que ellos realizan una acción definida para realizar una tarea específica. Sin embargo, hay una diferencia entre las dos. La función, es un módulo de programación que recibe parámetros (algunos pueden ser ignorados) y realiza una operación específica y retorna un resultado si este es especificado. Mientra que un método es una función que es adjunta en un objeto que se maneja dentro de la programación orientada a objetos. Por lo tanto, un método puede llamar objetos con diferentes valores los cuales se llaman instancias. Sin embargo, esto lo profundizaremos más adelante.\n"
   ]
  },
  {
   "cell_type": "markdown",
   "id": "b0ed942b",
   "metadata": {},
   "source": [
    "#### **5.2 El método *format***\n",
    "\n",
    "A continuación aprenderemos a dar formato a una salida cuando estamos escribiendo una cadena de texto. Por ejemplo"
   ]
  },
  {
   "cell_type": "code",
   "execution_count": 41,
   "id": "301f7e0c",
   "metadata": {},
   "outputs": [
    {
     "data": {
      "text/plain": [
       "'Hello Pyhton!'"
      ]
     },
     "execution_count": 41,
     "metadata": {},
     "output_type": "execute_result"
    }
   ],
   "source": [
    "'{} Pyhton!'.format('Hello') # En el marcador de posición {} se inclue la palabra que le indica el argumento del método format"
   ]
  },
  {
   "cell_type": "code",
   "execution_count": 42,
   "id": "c99b4033",
   "metadata": {},
   "outputs": [
    {
     "data": {
      "text/plain": [
       "'Hi Pyhton!'"
      ]
     },
     "execution_count": 42,
     "metadata": {},
     "output_type": "execute_result"
    }
   ],
   "source": [
    "'{} Pyhton!'.format('Hi') "
   ]
  },
  {
   "cell_type": "code",
   "execution_count": 43,
   "id": "cc77b598",
   "metadata": {},
   "outputs": [
    {
     "data": {
      "text/plain": [
       "'Hello Pyhton!'"
      ]
     },
     "execution_count": 43,
     "metadata": {},
     "output_type": "execute_result"
    }
   ],
   "source": [
    "'{0} Pyhton!'.format('Hello') # A esto se le conoce como una base de cadena de texto o un formato de cadena de texto"
   ]
  },
  {
   "cell_type": "markdown",
   "id": "d6bb58a4",
   "metadata": {},
   "source": [
    "Por otro lado, tu puedes controlar el orden a través de la asignación del índice requerido dentro del marcador de posición. Por defecto, este asigna el valor de 0 como lo vimos en el ejemplo anterior. A continuación algunos ejemplos:\n",
    "\n",
    "<img src=\"https://raw.githubusercontent.com/EdgarGM20/Imagenes/main/Ch17_fig17.png\" width=\"480px\" height=\"240px\" />"
   ]
  },
  {
   "cell_type": "code",
   "execution_count": 44,
   "id": "88dfba2c",
   "metadata": {},
   "outputs": [
    {
     "data": {
      "text/plain": [
       "'I like Python and Java'"
      ]
     },
     "execution_count": 44,
     "metadata": {},
     "output_type": "execute_result"
    }
   ],
   "source": [
    "'I like {} and {}'. format('Python', 'Java')"
   ]
  },
  {
   "cell_type": "code",
   "execution_count": 45,
   "id": "496eb22a",
   "metadata": {},
   "outputs": [
    {
     "data": {
      "text/plain": [
       "'I like Python and Java'"
      ]
     },
     "execution_count": 45,
     "metadata": {},
     "output_type": "execute_result"
    }
   ],
   "source": [
    "'I like {0} and {1}'. format('Python', 'Java')"
   ]
  },
  {
   "cell_type": "code",
   "execution_count": 46,
   "id": "aad518e3",
   "metadata": {},
   "outputs": [
    {
     "data": {
      "text/plain": [
       "'I like Java and Python'"
      ]
     },
     "execution_count": 46,
     "metadata": {},
     "output_type": "execute_result"
    }
   ],
   "source": [
    "'I like {1} and {0}'. format('Python', 'Java') # Dependiendo del índice, el devolverá una resultado."
   ]
  },
  {
   "cell_type": "markdown",
   "id": "857ac0d0",
   "metadata": {},
   "source": [
    "Incluso, puedes usar varias salidas a través del índice del marcador de posición. Veamos algunos ejemplos:"
   ]
  },
  {
   "cell_type": "code",
   "execution_count": 47,
   "id": "9c0b541d",
   "metadata": {},
   "outputs": [
    {
     "data": {
      "text/plain": [
       "'Hello, Hello, Hello! Python'"
      ]
     },
     "execution_count": 47,
     "metadata": {},
     "output_type": "execute_result"
    }
   ],
   "source": [
    "'{0}, {0}, {0}! Python'.format('Hello')"
   ]
  },
  {
   "cell_type": "code",
   "execution_count": 48,
   "id": "2ff67459",
   "metadata": {},
   "outputs": [
    {
     "data": {
      "text/plain": [
       "'Hello, Hello, Hello! Python'"
      ]
     },
     "execution_count": 48,
     "metadata": {},
     "output_type": "execute_result"
    }
   ],
   "source": [
    "'{0}, {0}, {0}! Python'.format('Hello', 'Hi')"
   ]
  },
  {
   "cell_type": "code",
   "execution_count": 49,
   "id": "406c98d7",
   "metadata": {},
   "outputs": [
    {
     "data": {
      "text/plain": [
       "'Hello Python, Hello Python, Hello Python'"
      ]
     },
     "execution_count": 49,
     "metadata": {},
     "output_type": "execute_result"
    }
   ],
   "source": [
    "'{0} {1}, {0} {1}, {0} {1}'.format('Hello', 'Python')"
   ]
  },
  {
   "cell_type": "code",
   "execution_count": 50,
   "id": "a7de530b",
   "metadata": {},
   "outputs": [
    {
     "data": {
      "text/plain": [
       "'100 200, 100 200, 100 200'"
      ]
     },
     "execution_count": 50,
     "metadata": {},
     "output_type": "execute_result"
    }
   ],
   "source": [
    "'{0} {1}, {0} {1}, {0} {1}'.format(100, 200)"
   ]
  },
  {
   "cell_type": "markdown",
   "id": "8d1ecfe2",
   "metadata": {},
   "source": [
    "En un formato, puedes poner no solo cadenas de texto (incluye otros tipos de datos tales como: Enteros, Booleanos, entre otros), tambien se pueden agregar variables u objetos como se muestra a continuación:"
   ]
  },
  {
   "cell_type": "code",
   "execution_count": 51,
   "id": "5b7fc4c0",
   "metadata": {},
   "outputs": [
    {
     "data": {
      "text/plain": [
       "'Hello World!'"
      ]
     },
     "execution_count": 51,
     "metadata": {},
     "output_type": "execute_result"
    }
   ],
   "source": [
    "greet = 'Hello'\n",
    "'{} World!'.format(greet)"
   ]
  },
  {
   "cell_type": "code",
   "execution_count": 52,
   "id": "954b26a1",
   "metadata": {},
   "outputs": [
    {
     "name": "stdout",
     "output_type": "stream",
     "text": [
      "My name is David!\n"
     ]
    }
   ],
   "source": [
    "name = 'David'\n",
    "print('My name is {}!'.format(name))"
   ]
  },
  {
   "cell_type": "markdown",
   "id": "2d2fba5b",
   "metadata": {},
   "source": [
    "A continuación un ejemplo que toma el nombre, edad y trabajo de un usuario como entradas, que son almacenadas en las variables name, age y job, y cuya salida hace uso del método format."
   ]
  },
  {
   "cell_type": "code",
   "execution_count": 53,
   "id": "8b7e4043",
   "metadata": {},
   "outputs": [],
   "source": [
    "#name = input('Ingresa tu primer nombre: ')\n",
    "#age = input('Ingresa tu edad: ')\n",
    "#job = input('Ingresa tu trabajo: ')\n",
    "\n",
    "#print('Tu nombre es {}, edad {} y trabajo {}'.format(name, age, job))"
   ]
  },
  {
   "cell_type": "markdown",
   "id": "cba8b6c9",
   "metadata": {},
   "source": [
    "### <FONT COLOR=\"blue\"> 6. Producto conjunto </FONT>\n",
    "#### **6.1 Concepto de un producto de conjuntos**\n",
    "\n",
    "Recordando este concepto tratado en lecciones anteriores, veamos como a través de las funciones se puede crea fácilmente esta definición. A continuación su definición:\n",
    "\n",
    "<img src=\"https://raw.githubusercontent.com/EdgarGM20/Imagenes/main/Ch17_fig18.png\" width=\"480px\" height=\"240px\" />"
   ]
  },
  {
   "cell_type": "code",
   "execution_count": 54,
   "id": "8f32568a",
   "metadata": {},
   "outputs": [
    {
     "name": "stdout",
     "output_type": "stream",
     "text": [
      "{((3, 1), 3), ((3, 3), 1), ((3, 1), 1), ((1, 3), 3), ((1, 1), 1), ((3, 3), 3), ((1, 1), 3), ((1, 3), 1)}\n"
     ]
    }
   ],
   "source": [
    "def product_set(set1, set2):\n",
    "    res = set()\n",
    "    for i in set1:\n",
    "        for j in set2:\n",
    "            res = res|{(i,j)} # Product set usando doble for\n",
    "    return res\n",
    "\n",
    "def exp(input_set, exponent): # Función que realiza la potencia de un conjunto de entrada\n",
    "    res = input_set # Inicialización de la variable res\n",
    "    for _ in range(exponent-1): # Repite las veces que indique el exponente ingresado\n",
    "        res = product_set(res, input_set)\n",
    "    return res\n",
    "\n",
    "A = {1, 3}\n",
    "A3 = exp(A, 3) # Realiza 3 veces el producto del conjunto A\n",
    "print(A3)"
   ]
  },
  {
   "cell_type": "markdown",
   "id": "8b95c92c",
   "metadata": {},
   "source": [
    "#### **6.2 El número de todos los posibles resultados cuando un dado es lanzado dos veces**\n",
    "\n",
    "Para realizarlo, vamos a usar la función definida anteriormente"
   ]
  },
  {
   "cell_type": "code",
   "execution_count": 55,
   "id": "7a456c14",
   "metadata": {},
   "outputs": [
    {
     "name": "stdout",
     "output_type": "stream",
     "text": [
      "{(3, 4), (4, 3), (3, 1), (5, 4), (4, 6), (5, 1), (2, 2), (1, 6), (2, 5), (1, 3), (6, 2), (6, 5), (4, 2), (4, 5), (3, 3), (5, 6), (3, 6), (5, 3), (2, 4), (1, 2), (2, 1), (1, 5), (6, 1), (6, 4), (3, 2), (4, 1), (3, 5), (5, 2), (4, 4), (5, 5), (1, 1), (1, 4), (2, 3), (2, 6), (6, 6), (6, 3)}\n"
     ]
    }
   ],
   "source": [
    "cases = {1, 2, 3, 4, 5, 6} # Caras de los dados\n",
    "cases_2times = product_set(cases, cases) # Realiza el producto de conjuntos para este caso\n",
    "print(cases_2times)"
   ]
  },
  {
   "cell_type": "markdown",
   "id": "b405f33f",
   "metadata": {},
   "source": [
    "## <FONT COLOR=\"blue\">Programación por parejas </FONT>\n",
    "\n",
    "### <FONT COLOR=\"blue\">Práctica de la programación en parejas </FONT>\n",
    "\n",
    "\n",
    "**Directriz, mecanismos y plan de contingencia**\n",
    "\n",
    " Preparar la programación por parejas implica establecer pautas y mecanismos para ayudar a los alumnos a emparejarse correctamente y mantenerlos emparejados.  Por ejemplo, los estudiantes deben turnarse para \"conducir el mouse\".  La preparación efectiva requiere planes de contingencia en caso de que uno de los socios se ausente o decida no participar por una u otra razón.  En estos casos, es importante dejar claro que el alumno activo no será sancionado porque el emparejamiento no funcionó bien.\n",
    " \n",
    "**Emparejar habilidades similares, no necesariamente iguales, como socios**\n",
    "\n",
    " La programación en parejas puede ser efectiva cuando los estudiantes con habilidades similares, aunque no necesariamente iguales, se emparejan como compañeros.  El emparejamiento de estudiantes que no coinciden a menudo puede conducir a una participación desequilibrada.  Los maestros deben enfatizar que la programación en parejas no es una estrategia de \"divide y vencerás\", sino más bien un verdadero esfuerzo de colaboración en cada esfuerzo por todo el proyecto.  Los maestros deben evitar emparejar a estudiantes muy débiles con estudiantes muy fuertes.\n",
    "\n",
    "**Motivar a los estudiantes ofreciendo incentivos adicionales**\n",
    "\n",
    " Ofrecer incentivos adicionales puede ayudar a motivar a los estudiantes a emparejarse, especialmente con estudiantes avanzados.  A algunos maestros les ha resultado útil pedirles a los estudiantes que se emparejen solo para una o dos tareas.\n",
    "\n",
    "**Evitar trampas en la colaboración**\n",
    "\n",
    " El desafío para el maestro es encontrar formas de evaluar los resultados individuales, mientras aprovecha los beneficios de la colaboración.  ¿Cómo saber si un estudiante aprendió o hizo trampa?  Los expertos recomiendan revisar el diseño y la evaluación del curso, así como discutir explícita y concretamente con los estudiantes los comportamientos que se interpretarán como trampa.  Los expertos alientan a los maestros a hacer que las tareas sean significativas para los estudiantes y a explicar el valor de lo que los estudiantes aprenderán al completarlas.\n",
    "\n",
    "**Entorno de aprendizaje colaborativo**\n",
    "\n",
    " Un entorno de aprendizaje colaborativo ocurre cada vez que un instructor requiere que los estudiantes trabajen juntos en actividades de aprendizaje.  Los entornos de aprendizaje colaborativo pueden implicar actividades tanto formales como informales y pueden incluir o no una evaluación directa.  Por ejemplo, parejas de estudiantes trabajan en asignaciones de programación; pequeños grupos de estudiantes discuten posibles respuestas a la pregunta de un profesor durante la lección; y los estudiantes trabajan juntos fuera de clase para aprender nuevos conceptos.  El aprendizaje colaborativo es distinto de los proyectos en los que los estudiantes \"dividen y vencerán\".  Cuando los estudiantes dividen el trabajo, cada uno es responsable de solo una parte de la resolución del problema y hay oportunidades muy limitadas para resolver los problemas con los demás.  En entornos colaborativos, los estudiantes participan en conversaciones intelectuales entre ellos.\n",
    "\n"
   ]
  },
  {
   "cell_type": "markdown",
   "id": "14445fe1",
   "metadata": {},
   "source": [
    "### <FONT COLOR=\"blue\">**Q1.** </FONT>\n",
    "\n",
    "Permita que un usuario ingrese 3 enteros a, b y c e imprima el valor promedio, el máximo y el mínimo de estos 3. Para ello, defina y llame las funciones *mean3(a, b, c)*, *max3(a, b, c)*, *min3(a, b, c)*. \n",
    "\n",
    "Debes tener una salida similar a la que se muestra a continuación:\n",
    "\n",
    "<img src=\"https://raw.githubusercontent.com/EdgarGM20/Imagenes/main/Ch17_fig19.png\" width=\"1000px\"  />"
   ]
  },
  {
   "cell_type": "code",
   "execution_count": null,
   "id": "97f3b52a",
   "metadata": {},
   "outputs": [],
   "source": []
  }
 ],
 "metadata": {
  "kernelspec": {
   "display_name": "Python 3.9.13 64-bit (microsoft store)",
   "language": "python",
   "name": "python3"
  },
  "language_info": {
   "codemirror_mode": {
    "name": "ipython",
    "version": 3
   },
   "file_extension": ".py",
   "mimetype": "text/x-python",
   "name": "python",
   "nbconvert_exporter": "python",
   "pygments_lexer": "ipython3",
   "version": "3.9.13"
  },
  "vscode": {
   "interpreter": {
    "hash": "d6ff7cb00638fb92356a42c28981a177178b7e1976aa8ecd498ce1508ea8d5e4"
   }
  }
 },
 "nbformat": 4,
 "nbformat_minor": 5
}
