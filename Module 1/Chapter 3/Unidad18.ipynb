{
 "cells": [
  {
   "cell_type": "markdown",
   "id": "16ee7965",
   "metadata": {},
   "source": [
    "# <FONT COLOR=\"blue\"> **Samsung Innovation Campus**</FONT>  \n",
    "\n",
    "## <FONT COLOR=\"blue\">**Codificación y Programación**</FONT>\n",
    "\n",
    "# **Capítulo 3: Programación eficaz en Python: Función, Clausura y Clase**\n",
    "\n",
    "## Objetivos del capítulo\n",
    "\n",
    "Los alumnos podrán utilizar funciones y técnicas de programación modular. Los alumnos podrán usar expresiones lambda, que son expresiones que se usan para expresar funciones simples. Los alumnos podrán comprender el cierre que recibe el valor de retorno como una función después de definir funciones anidadas. Además, los alumnos podrán definir clases, que son conceptos importantes de los lenguajes orientados a objetos.\n",
    "\n",
    "## Contenido del capítulo\n",
    "- Unidad 17. Función\n",
    "- Unidad 18. Llamado Recursivo de una Función\n",
    "- Unidad 19. Lambda\n",
    "- Unidad 20. Clausura\n",
    "- Unidad 21. Clase"
   ]
  },
  {
   "cell_type": "markdown",
   "id": "d0972bcd",
   "metadata": {},
   "source": [
    "# **Unidad 18. Funciones recursivas**\n",
    "\n",
    "## Objetivos de aprendizaje\n",
    "- Entender y ser capaz de usar funciones recursivas.\n",
    "- Entender el concepto de factorial y ser capaz de implementarlo a través de declaraciones iterativas.\n",
    "- Ser capaz de implementar las funciones factorial y Finobacci a través de funciones recursivas en vez de usar loops.\n",
    "- Entender las deficiencias de las funciones recursivas y ser capaz de implementar la secuencia de Finobacci más rápidamente a través de la memorización.\n",
    "\n",
    "## Resumen de la lección\n",
    "- Aprenderá cómo resolver problemas a través de llamar a la función así misma.\n",
    "- Aprenderá a cómo implementar la función factorial a través de loops para verificar la eficiencia de las funciones recursivas.\n",
    "- Aprenderá como crear una función recursiva y llamarla para encontrar el factorial y los números de la secuencia de Finobacci.\n",
    "- Aprenderá las desventajas y limitaciones de las llamadas recursivas y cómo implementar la secuencia de Finobacci de mejor forma a través de la memorización.\n",
    " \n",
    "## Conceptos previos de debes saber de las unidades previas\n",
    "- Saber como definir y llamar una función definida por el usuario usando la declaración *def*.\n",
    "- Saber como ingresar valores a las funciones eficientemente a través del uso de los parámetros variables, parámetros por defecto y los parámetros por palabras clave.\n",
    "- Saber como retornar múltiples valores a través de la declaración *return* de una función.\n",
    "\n",
    "\n",
    "## Palabras clave\n",
    "\n",
    "- Llamada recursiva.\n",
    "- Factorial.\n",
    "- Secuencia de Finobacci.\n",
    "- Memorización."
   ]
  },
  {
   "cell_type": "markdown",
   "id": "4494417e",
   "metadata": {},
   "source": [
    "## <FONT COLOR=\"blue\"> Misión </FONT>\n",
    "\n",
    "### <FONT COLOR=\"blue\">1. Problema del mundo real </FONT>\n",
    "\n",
    "\n",
    "#### **1.1 ¿Cómo hacemos un fractal?**\n",
    "\n",
    "<img src=\"https://raw.githubusercontent.com/EdgarGM20/Imagenes/main/Ch18_fig1.png\" width=\"880px\" />\n",
    "\n",
    "Los humanos han usado computadores para resolver problemas complejos. Sin embargo, aún hay problemas difíciles en este mundo. En la figura de a continuación podemos observar un ejemplo representativo de lo que es un fractal. Un fractal es un fenómeno natural que exhibe características que se repiten con cierta regularidad y puede ser usado, por ejemplo, para crear imágenes de la naturaleza tales como montañas y nubes en efectos especiales de los videos. De hecho, algunos efectos especiales en gráficas puede ser creados haciendo uso de los fractales. En programación, es complejo expresar una figura fractal para que lo entienda un computador. Sin embargo, hay un camino para resolver este problema a través de la **Recursividad**."
   ]
  },
  {
   "attachments": {},
   "cell_type": "markdown",
   "id": "50db33ce",
   "metadata": {},
   "source": [
    "#### **1.1 El problema de las torres de Hanoi**\n",
    "<img src=\"https://raw.githubusercontent.com/EdgarGM20/Imagenes/main/Ch18_fig2.png\" width=\"480px\" height=\"240px\" />\n",
    "\n",
    "El problema de la torre de Hanoi es un problema representativo del uso de las funciones recursivas para solucionar de forma sencilla problemas complejos. La torre de Hanoi es un juego en el cual los discos mostrados en la figura son movidos a los bastones de acuerdo a unas reglas. Cuando se está jugando, existe un número óptimo de movimientos para su solución que varía según la cantidad de discos que hayan en el juego. Si hay n discos, el número óptimo de movimientos es 2^n - 1. Vamos a aprender de estos conceptos mientras realizamos un programa para este problema.\n",
    "\n",
    "### <FONT COLOR=\"blue\"> 2. Solución </FONT>\n",
    "#### **2.1 Solucionando el rompecabezas de la torre de Hanoi**\n",
    "<img src=\"https://raw.githubusercontent.com/EdgarGM20/Imagenes/main/Ch18_fig3.png\" width=\"480px\" height=\"240px\" />\n",
    "\n",
    "La torre de Hanoi también es un juego de rompecabezas. Hay 3 bastones y 3 discos de diferente tamaño que encajan en estos bastones. Antes de empezar el rompecabezas, los discos son agrupados en un bastón de manera ordenada dejando el más pequeño en la parte superior. El objetivo del juego es mover los discos de un bastón a otro de tal forma que se satisfagan las condiciones:\n",
    "- Mover los n-discos de diferente tamaño desde un punto A a un punto final C.\n",
    "- Solo un disco puede ser movido a la vez.\n",
    "- Cuando se mueve un disco, lo pasas de la cima de un bastón y solo lo puedes mover a la cima del otro bastón.\n",
    "- En el proceso de mover los discos, un disco grande no puede ser puesto por encima de un disco más pequeño.\n",
    "Para profundizar puedes visitar la página: [clic aqui](https://en.wikipedia.org/wiki/Tower_of_Hanoi)\n",
    "\n",
    "### <FONT COLOR=\"blue\"> 3. Misión </FONT>\n",
    "\n",
    "#### **3.1 Algoritmo de las torres de Hanoi**\n",
    "<img src=\"https://raw.githubusercontent.com/EdgarGM20/Imagenes/main/Ch18_fig4.png\" width=\"480px\" height=\"240px\" />\n",
    "\n",
    "Algoritmo:\n",
    "- Si hay un solo disco, este se puede mover desde un punto a otro en un turno.\n",
    "- Asuma que hay 3 discos y 3 bastones:\n",
    "    - Con el fin de mover el disco menor las bastón destino, mueva 3-1 discos a los bastones auxiliares.\n",
    "    - Mueva el disco 3 al bastón inicial.\n",
    "    - Mueva los 3-1 discos de los bastones auxiliares al bastón de destino.\n",
    "Podemos resolver este problema a través del método recursivo.\n",
    "\n",
    "#### **3.2 y 3.3 Función Hanoi y Cómo funciona el algoritmo para el caso de que n=3**\n",
    "En la función, en la parte del *else* resuelve el problema llamándose a a si misma la función hanoi() para mover el disco. Esta es la parte central del código. Ahora vamos a programar esta función:"
   ]
  },
  {
   "cell_type": "code",
   "execution_count": 1,
   "id": "042e9c82",
   "metadata": {
    "scrolled": true
   },
   "outputs": [
    {
     "name": "stdout",
     "output_type": "stream",
     "text": [
      "Numero 1, A -> C\n",
      "Numero 2, A -> B\n",
      "Numero 1, C -> B\n",
      "Numero 3, A -> C\n",
      "Numero 1, B -> A\n",
      "Numero 2, B -> C\n",
      "Numero 1, A -> C\n"
     ]
    }
   ],
   "source": [
    "def hanoi(n, from_, to_, via_):\n",
    "    if n == 1:\n",
    "        print('Numero {}, {} -> {}'.format(n, from_, to_))\n",
    "    else:\n",
    "        hanoi(n-1, from_, via_, to_)\n",
    "        print('Numero {}, {} -> {}'.format(n, from_, to_))\n",
    "        hanoi(n-1, via_,to_, from_)\n",
    "        \n",
    "hanoi(3, 'A', 'C', 'B')"
   ]
  },
  {
   "attachments": {},
   "cell_type": "markdown",
   "id": "d1e60315",
   "metadata": {},
   "source": [
    "#### **3.4 Pseudocódigo**\n",
    "A continuación veremos el pseudocódigo y su correspondiente diagrama de flujo. En el cual, a grandes rasgos, empieza llamando la función hanoi(n, from_, to_, via_), si solo queda un disco entonces mueve el disco de from_ a to_. En caso de que no, muevel el disco n-1 desde from_ a to_ a través de la función de hanoi(n-1, from_, via_, to_). Luego, mueve el disco n (el más grande) from_ to_ el destino. Después, mueve el disco n-1 en via_ hacía el destino, from_ es usado como un bastón auxiliar. Después, llame a la función hanoi(n-1, via_, to_, from_) y finaliza.\n",
    "\n",
    "<img src=\"https://raw.githubusercontent.com/EdgarGM20/Imagenes/main/Ch18_fig5.png\" width=\"880px\" />"
   ]
  },
  {
   "cell_type": "markdown",
   "id": "031095a4",
   "metadata": {},
   "source": [
    "## <FONT COLOR=\"blue\"> Concepto Clave </FONT>\n",
    "### <FONT COLOR=\"blue\"> 1. Encuentre el factorial usando ciclos </FONT>\n",
    "#### **1.1 Definición de factorial**\n",
    "\n",
    "El factorial es un término matemático y se expresa como $n!$ para un número natural $n$. El factorial es el producto de todos los números naturales desde 1 hasta $n$ el cual es un número natural cualquiera, matemáticamente su fórmula es:\n",
    "\n",
    "<img src=\"https://raw.githubusercontent.com/EdgarGM20/Imagenes/main/Ch18_fig6.png\" width=\"880px\" />\n",
    "\n",
    "#### **1.2 Factorial usando el ciclo for**\n",
    "Para realizarlo vamos a programar el factorial usando el ciclo for como se muestra a continuación."
   ]
  },
  {
   "cell_type": "code",
   "execution_count": 2,
   "id": "40b1fed4",
   "metadata": {},
   "outputs": [
    {
     "name": "stdout",
     "output_type": "stream",
     "text": [
      "5! = 120\n"
     ]
    }
   ],
   "source": [
    "#n = int(input('Enter a number: '))\n",
    "n=5\n",
    "fact = 1\n",
    "for i in range(1, n+1):\n",
    "    fact = fact*i\n",
    "    \n",
    "print('{}! = {}'.format(n, fact))"
   ]
  },
  {
   "cell_type": "markdown",
   "id": "d8224eab",
   "metadata": {},
   "source": [
    "### <FONT COLOR=\"blue\"> 2. Encuentre el factorial usando una función recursiva </FONT>\n",
    "#### **2.1 ¿Qué es una función recursiva?**\n",
    "\n",
    "Una llamada recursiva es una función que se llama asi misma dentro de la función. La recursividad es una técnica de solución de problemas muy útil, puede resolver problemas de manera simple e intuitiva que serían más complejos si se solucionan con técnicas procedimentales. En este caso en particular,\n",
    "\n",
    "$$n! = n*(n-1)!$$ y si \n",
    "$$n<=1 \\rightarrow 1$$\n",
    "\n",
    "Revisemos el siguiente ejemplo:\n",
    "\n",
    "<img src=\"https://raw.githubusercontent.com/EdgarGM20/Imagenes/main/Ch18_fig7.png\" width=\"880px\"  />\n",
    "\n",
    "#### **2.2 El flujo de una función recursiva**\n",
    "El flujo de la función factorial recursiva se muestra a continuación. Factorial(1) regresa 1. luego, por factorial(2), el cual retorna: *2*factorial(1) = 2* por 1 y asi sucesivamente, hasta que finalmente retorna 120.\n",
    "\n",
    "<img src=\"https://raw.githubusercontent.com/EdgarGM20/Imagenes/main/Ch18_fig8.png\" width=\"880px\"  />\n",
    "\n",
    "Hay que tener en cuenta que en una función recursiva, la condición de terminación es completamente necesaria. Por otro lado, por definición el factorial de 1! = 1, por lo que no habría necesidad de definir un valor de factorial para valores menores a este. Sin embargo, en este caso se define y cuando el valor ingresado es menor a 1, el programa regresa 1. En código, esto se ve de la siguiente manera:"
   ]
  },
  {
   "cell_type": "code",
   "execution_count": 3,
   "id": "d4b794f5",
   "metadata": {},
   "outputs": [
    {
     "name": "stdout",
     "output_type": "stream",
     "text": [
      "5! = 120\n"
     ]
    }
   ],
   "source": [
    "def factorial(n): # Función recursiva para n!\n",
    "    if n <= 1:    # Condición de terminación \n",
    "        return 1\n",
    "    else:\n",
    "        return n*factorial(n-1) # n*(n-1)! implementación de la definición\n",
    "    \n",
    "n = 5\n",
    "print('{}! = {}'.format(n, factorial(n)))"
   ]
  },
  {
   "cell_type": "markdown",
   "id": "9981e756",
   "metadata": {},
   "source": [
    "**Un paso adicional, la recursividad y el algoritmo de divide y vencerás**\n",
    "\n",
    "En la recursividad, cuando una función se llama así misma y el tamaño del problema es n, es una práctica común es dividirla en pequeños problemas menores que n. Este método de solución está cercanamente relacionado con el algoritmo de divide y conquista. Este algoritmo, puede ser llamado como una recursión multi-rama. El ejemplo del factorial mostrado anteriormente no es un algoritmo de divide y conquista porque es una recursión de una rama donde la llamada recursiva solo se realiza una vez. Cuando el tamaño del problema es n y el problema se divide en dos de tamaño n/2 y se pasan los argumentos recursivamente, a esto, si se consideraría como un caso típico del algoritmo de divide y conquista. Adicionalmente a los casos en los que se reparten en dos, los métodos que se reparten en más de dos problemas más pequeños, son considerados como algoritmos de divide y conquista (en un problema de divide y conquista, hay una **restricción**: La suma de los problemas pequeños no debe ser más grande que el problema original). Finalmente, si aprendes estructuras de datos después, aprenderás un algoritmo llamado ordenamiento rápido (quick sort). Este algoritmo puede ser implementado con el método de divide y conquista a través de llamados recursivos.\n",
    "\n",
    "### <FONT COLOR=\"blue\"> 3. Desventajas de las funciones recursivas y de memorización </FONT>\n",
    "#### **3.1 Ventajas y desventajas de las funciones con ciclos y recursivas**\n",
    "\n",
    "A continuación, los pros y contras de las funciones recursivas\n",
    "\n",
    "<img src=\"https://raw.githubusercontent.com/EdgarGM20/Imagenes/main/Ch18_fig9.png\" width=\"880px\" />\n",
    "\n",
    "#### **3.2 Definición de la serie de Finobacci**\n",
    "\n",
    "Una serie de Finobacci es una secuencia en la que el primer el segundo término son 1 y los términos subsiguientes son la suma de los términos inmediatamente anterior. \n",
    "\n",
    "El primer término $F_0$ de la serie es 0, $F_1$ es 1 y $F_n$ es definido como sigue:\n",
    "\n",
    "$$F_n = F_{n-1} + F_{n-2}$$\n",
    "\n",
    "De acuerdo a su definición, la serie de Finobacci es:\n",
    "\n",
    "$$0, 1, 1, 2, 3, 5, 8, 13, 21, ... $$\n",
    "\n",
    "La serie de Finobacci puede crear secuencias con patrones geométricos como se muestra en la siguiente figura.\n",
    "\n",
    "<img src=\"https://raw.githubusercontent.com/EdgarGM20/Imagenes/main/Ch18_fig10.png\" width=\"880px\" />\n",
    "\n",
    "A continuación se muestra la función recursiva de Finobacci"
   ]
  },
  {
   "cell_type": "code",
   "execution_count": 4,
   "id": "03c362d9",
   "metadata": {},
   "outputs": [
    {
     "name": "stdout",
     "output_type": "stream",
     "text": [
      "La secuencia de Finobacci:  0 1 1 2 3 "
     ]
    }
   ],
   "source": [
    "def finobacci(n): # Función recursiva\n",
    "    if n <= 1:\n",
    "        return n\n",
    "    else:\n",
    "        return (finobacci(n-1) + finobacci(n-2)) # F_n = F_(n-1) + F_(n-2)\n",
    "    \n",
    "#nterms = int(input(\"Cuántos términos de la secuencia de Finobacci quieres: \"))\n",
    "nterms = 5\n",
    "# No se puede generar los términos si n es negativo\n",
    "if nterms <= 0:\n",
    "    print('Error, ingrese un número positivo.')\n",
    "else:\n",
    "    print('La secuencia de Finobacci: ', end = ' ')\n",
    "    for i in range(nterms):\n",
    "        print(finobacci(i), end = ' ')\n",
    "        "
   ]
  },
  {
   "cell_type": "markdown",
   "id": "3c36cbfd",
   "metadata": {},
   "source": [
    "#### **3.3 Proceso de ejecución de la función de Finobacci**\n",
    "\n",
    "En este literal vamos a profundizar lo que pasa internamente de la función finobacci(5). Como se observa en la imagen, fib(5) llama a fib(4) y fib(3), y fib(4) llama recursivamente a fib(3) y fib(2). Este proceso resulta en una ejecución muy larga en forma de árbol.\n",
    "<img src=\"https://raw.githubusercontent.com/EdgarGM20/Imagenes/main/Ch18_fig11.png\" width=\"480px\" height=\"240px\" />\n",
    "\n",
    "#### **3.4 Implementación de la función de Finobacci**\n",
    "La implementación de la serie de Finobacci de manera recursiva se define a continuación, en la que el valor se adiciona recursivamente hasta que se cumpla el criterio de terminación."
   ]
  },
  {
   "cell_type": "code",
   "execution_count": 5,
   "id": "e86a3e80",
   "metadata": {},
   "outputs": [
    {
     "name": "stdout",
     "output_type": "stream",
     "text": [
      "55\n"
     ]
    }
   ],
   "source": [
    "def finobacci(n): # Función recursiva\n",
    "    if n==0:\n",
    "        return 0\n",
    "    elif n == 1:\n",
    "        return 1\n",
    "    else:\n",
    "        return (finobacci(n-1) + finobacci(n-2)) # F_n = F_(n-1) + F_(n-2)\n",
    "\n",
    "print(finobacci(10))"
   ]
  },
  {
   "attachments": {},
   "cell_type": "markdown",
   "id": "07cc0f33",
   "metadata": {},
   "source": [
    "#### **3.5 Eficiencia de la implementación de la función de Finobacci como función recursiva**\n",
    "\n",
    "El mayor problema con las funciones recursivas es que no es eficiente porque repite cálculos sin importar que ese valor incluso ya se ha calculado previamente. Miremos cuanto tiempo le toma al programa encontrar el término 30 de la secuencia de finobacci, para ello vamos a usar el módulo para la medición de tiempo *Timer()* que provee esta métrica. Para profundizar puede consultar le módulo [timeit](https://docs.python.org/3/library/timeit.html)."
   ]
  },
  {
   "cell_type": "code",
   "execution_count": 6,
   "id": "19ed305d",
   "metadata": {},
   "outputs": [
    {
     "name": "stdout",
     "output_type": "stream",
     "text": [
      "finobacci_1(30)*20 times:  6.822911200000001 segundos\n"
     ]
    }
   ],
   "source": [
    "from timeit import *\n",
    "def finobacci_1(n): # Función recursiva\n",
    "    if n==0:\n",
    "        return 0\n",
    "    elif n == 1:\n",
    "        return 1\n",
    "    else:\n",
    "        return (finobacci_1(n-1) + finobacci_1(n-2)) # F_n = F_(n-1) + F_(n-2)\n",
    "\n",
    "t3 = Timer(\"finobacci_1(30)\", \"from __main__ import finobacci_1\")\n",
    "print(\"finobacci_1(30)*20 times: \", t3.timeit(number = 20), \"segundos\")"
   ]
  },
  {
   "cell_type": "markdown",
   "id": "ecd4f378",
   "metadata": {},
   "source": [
    "Como vimos en el ejemplo anterior, la tarea se repite 20 veces y toma aproximadamente 9.7 segundos. Si escribimos números por encima de estos probablemente tome mucho más tiempo.\n",
    "\n",
    "#### **3.6 Función de Finobacci y memoización**\n",
    "\n",
    "La memorización es un método de almacenamiento de los resultados de los pequeños problemas que se repiten una y otra vez pero que su resultado no cambia. Para resolver los problemas que hemos visto a lo largo de la lección lo más recomendable sería usar, *memoización* y *Programación dinámica (DP)*. La programación dinámica es una de los algoritmos de solución de problemas que veremos en el curso de algoritmos posteriormente. Sin embargo, algunos puntos importantes de este método:\n",
    "- En programación dinámica tienes que resolver pequeños problemas para resolver los problemas grandes.\n",
    "- Los resultados de estos pequeños problemas son usualmente constantes.\n",
    "- Los problemas pequeños que no cambian ocurren repetidamente.\n",
    "\n",
    "En un problema específico, en el que los resultados son almacenados a través de la memorización, los cálculos innecesarios pueden ser omitidos y devolver, de manera más rápida, los valores almacenados. En una función recursiva se tiene que también resolver pequeños problemas hasta el criterio de finalización es cumplido y lo más probablemente es que estos pequeños problemas se repitan a lo largo del proceso.\n",
    "\n",
    "A continuación se muestra un ejemplo de introducción a la memorización para la función de fib(5) para encontrar el término 5 de la serie de Finobacci. En la imagen de la izquierda, es el caso donde se realiza el llamado a 15 funciones ya que no se hace uso de la memorización. Por otro lado, en la imagen de la derecha, los llamados recursivos se reducen a 9 debido a que algunos de los llamados de la función se habían calculado previamente y se habían almacenado. El proceso de memorización se puede realizar a través de un diccionario de python.\n",
    "\n",
    "<img src=\"https://raw.githubusercontent.com/EdgarGM20/Imagenes/main/Ch18_fig12.png\" width=\"880px\" />\n",
    "\n",
    "#### **3.7 Función de Finobacci y el principio de memoización**\n",
    "Con el fin de evitar el doble cálculo, si los valores de los términos son almacenados en el diccionario *dic*, entonces los valores una vez calculados no se vuelven a re-calcular. A continuación se muestra la función que implementa esta estrategia."
   ]
  },
  {
   "cell_type": "code",
   "execution_count": 7,
   "id": "63b2aa12",
   "metadata": {},
   "outputs": [
    {
     "name": "stdout",
     "output_type": "stream",
     "text": [
      "finobacci_2(30)*20 times:  2.590000000068926e-05 segundos\n"
     ]
    }
   ],
   "source": [
    "from timeit import *\n",
    "\n",
    "dic = {0:0, 1:1}\n",
    "def finobacci_2(n): # Función recursiva\n",
    "    if n in dic:\n",
    "        return dic[n]\n",
    "    \n",
    "    dic[n] = finobacci_2(n-1) + finobacci_2(n-2)\n",
    "    return dic[n]\n",
    "\n",
    "t2 = Timer(\"finobacci_2(30)\", \"from __main__ import finobacci_2\")\n",
    "print(\"finobacci_2(30)*20 times: \", t2.timeit(number = 20), \"segundos\")"
   ]
  },
  {
   "cell_type": "markdown",
   "id": "518c742e",
   "metadata": {},
   "source": [
    "Si recordamos, en el caso que no teníamos implementado la memorización tomó 9.7 segundos, pero con la memorización, este resultado se optimizó a 0.000033 segundos. Por lo tanto, si se reduce la eficiencia de una función recursiva, se debe considerar incrementar su eficiencia a través de almacenar los resultados cada vez que la función recursiva se llama. Finalmente, se muestra el diagrama de flujo de como los diccionarios son almacenados.\n",
    "\n",
    "<img src=\"https://raw.githubusercontent.com/EdgarGM20/Imagenes/main/Ch18_fig13.png\" width=\"880px\" />\n"
   ]
  },
  {
   "cell_type": "markdown",
   "id": "b02c3206",
   "metadata": {},
   "source": [
    "### <FONT COLOR=\"blue\"> 4. Repaso de la lección </FONT>\n",
    "### Q1. *(tiempo estimado: 5 min)*\n",
    "Toma ue número n como entrada y encuentre su suma desde 1 hasta n. Escriba su función usando funciones recursivas.\n",
    "### Q2. *(tiempo estimado: 5 min)*\n",
    "Python tiene el operador ** el cual indica una potencia, Sin embargo, tomemos a x y n como entradas sin usar ese operador y use una función recursiva que retorne x a la potencia de n. Luego, calcule $2^{10}$ poniendo x como 2 y n como 10."
   ]
  },
  {
   "cell_type": "markdown",
   "id": "3ef18fe7",
   "metadata": {},
   "source": [
    "## <FONT COLOR=\"blue\"> Vamos a codificar </FONT>\n",
    "### <FONT COLOR=\"blue\"> 1. Funciones pre-construidas </FONT>\n",
    "#### **1.1 Funciones pre-construidas expresadas como cajas negras**\n",
    "\n",
    "Hasta el momento hemos estado usando funciones como *print* e *input*. Ahora, aprenderemos mas acerca de estas. En programación, una función es a menudo tratada como una caja negra. Esto es porque el usuario que la llama solo necesita proveerle de la entrada correcta y este solo requiere su valor resultante.\n",
    "\n",
    "<img src=\"https://raw.githubusercontent.com/EdgarGM20/Imagenes/main/Ch18_fig14.png\" width=\"480px\"  />\n",
    "\n",
    "Por ejemplo, desde que sabemos que la función *len*  permite contar el número de caracteres de una cadena de texto, nosotros la usamos sin conocer el detalle interno de ese proceso. De manera similar, las funciones *print* e *input* pertenecen a este grupo de funciones. Las funciones que son implementadas por defecto en Python son llamadas como funciones pre-construidas y Python proveen más de 100 de estas.\n",
    "\n",
    "<img src=\"https://raw.githubusercontent.com/EdgarGM20/Imagenes/main/Ch18_fig15.png\" width=\"480px\"  />\n",
    "\n",
    "#### **1.2 Funciones pre-construidas de Python**\n",
    "<img src=\"https://raw.githubusercontent.com/EdgarGM20/Imagenes/main/Ch18_fig16.png\" width=\"880px\" />\n",
    "\n",
    "#### **1.3 Cómo usar funciones pre-construidas de Python**\n",
    "\n",
    "Las funciones que usan código pre-construido por Python no requieren ser importadas. Por ejemplo:"
   ]
  },
  {
   "cell_type": "code",
   "execution_count": 8,
   "id": "7b540f5d",
   "metadata": {},
   "outputs": [
    {
     "data": {
      "text/plain": [
       "100"
      ]
     },
     "execution_count": 8,
     "metadata": {},
     "output_type": "execute_result"
    }
   ],
   "source": [
    "# La función abs retorna el valor absoluto\n",
    "abs(-100)"
   ]
  },
  {
   "cell_type": "code",
   "execution_count": 9,
   "id": "57c20c2d",
   "metadata": {},
   "outputs": [
    {
     "data": {
      "text/plain": [
       "100"
      ]
     },
     "execution_count": 9,
     "metadata": {},
     "output_type": "execute_result"
    }
   ],
   "source": [
    "# La función min retorna el valor mínimo de los elementos ingresados\n",
    "min(200, 100, 300, 400)"
   ]
  },
  {
   "cell_type": "code",
   "execution_count": 10,
   "id": "7ac9d74c",
   "metadata": {},
   "outputs": [
    {
     "data": {
      "text/plain": [
       "400"
      ]
     },
     "execution_count": 10,
     "metadata": {},
     "output_type": "execute_result"
    }
   ],
   "source": [
    "# La función max retorna el valor maximo de los elementos ingresados\n",
    "max(200, 100, 300, 400)"
   ]
  },
  {
   "cell_type": "markdown",
   "id": "4a184b86",
   "metadata": {},
   "source": [
    "#### **1.4 El valor retornado de una función pre-construida de Python**"
   ]
  },
  {
   "cell_type": "code",
   "execution_count": 11,
   "id": "ee495b90",
   "metadata": {},
   "outputs": [
    {
     "data": {
      "text/plain": [
       "3"
      ]
     },
     "execution_count": 11,
     "metadata": {},
     "output_type": "execute_result"
    }
   ],
   "source": [
    "str1 = 'F00'\n",
    "len(str1) # Retorna la longitud de un string"
   ]
  },
  {
   "cell_type": "code",
   "execution_count": 12,
   "id": "b11cb651",
   "metadata": {},
   "outputs": [
    {
     "data": {
      "text/plain": [
       "str"
      ]
     },
     "execution_count": 12,
     "metadata": {},
     "output_type": "execute_result"
    }
   ],
   "source": [
    "type(str1) # Retorna el tipo de un objeto "
   ]
  },
  {
   "cell_type": "code",
   "execution_count": 13,
   "id": "d997153b",
   "metadata": {},
   "outputs": [
    {
     "data": {
      "text/plain": [
       "2490601741040"
      ]
     },
     "execution_count": 13,
     "metadata": {},
     "output_type": "execute_result"
    }
   ],
   "source": [
    "id(str1) # Retorna el ID del valor de un objeto"
   ]
  },
  {
   "cell_type": "code",
   "execution_count": 14,
   "id": "ed58c3eb",
   "metadata": {},
   "outputs": [
    {
     "data": {
      "text/plain": [
       "600"
      ]
     },
     "execution_count": 14,
     "metadata": {},
     "output_type": "execute_result"
    }
   ],
   "source": [
    "eval(\"100+200+300\") # Convierte la cadena de texto en valores y operaciones numéricas y luego las evalua"
   ]
  },
  {
   "cell_type": "markdown",
   "id": "12979b14",
   "metadata": {},
   "source": [
    "#### **1.5 Funciones pre-construidas de Python asociadas al ordenamiento**\n",
    "\n",
    "El código ordena un listado de cadenas de texto y enteros de forma ascendente y descendente"
   ]
  },
  {
   "cell_type": "code",
   "execution_count": 15,
   "id": "ac18eb61",
   "metadata": {},
   "outputs": [
    {
     "data": {
      "text/plain": [
       "['A', 'B', 'D', 'E', 'F']"
      ]
     },
     "execution_count": 15,
     "metadata": {},
     "output_type": "execute_result"
    }
   ],
   "source": [
    "sorted(\"EABFD\") # Ordenamiento de una cadena de texto"
   ]
  },
  {
   "cell_type": "code",
   "execution_count": 16,
   "id": "05d5ed05",
   "metadata": {},
   "outputs": [
    {
     "data": {
      "text/plain": [
       "[50, 100, 200, 300, 400]"
      ]
     },
     "execution_count": 16,
     "metadata": {},
     "output_type": "execute_result"
    }
   ],
   "source": [
    "n_list = [200, 100, 300, 400, 50]\n",
    "sorted(n_list) # Ordenamiento de un listado en orden ascendente"
   ]
  },
  {
   "cell_type": "code",
   "execution_count": 17,
   "id": "ca47b06d",
   "metadata": {},
   "outputs": [
    {
     "data": {
      "text/plain": [
       "[400, 300, 200, 100, 50]"
      ]
     },
     "execution_count": 17,
     "metadata": {},
     "output_type": "execute_result"
    }
   ],
   "source": [
    "sorted(n_list, reverse=True) # Ordenamiento de un listado en orden descendente"
   ]
  },
  {
   "cell_type": "markdown",
   "id": "3d4eb600",
   "metadata": {},
   "source": [
    "#### **1.6 La función *id* y la programación orientada a objetos**\n",
    "\n",
    "Python es un lenguaje de programación orientada a objetos. El paradigma en el que objetos con diversas propiedades y funciones componen un programa es el núcleo de la programación orientada a objetos. Los objetos de Python tienen una única identidad que las distingue de otros objetos. La función id retorna la identidad de un objeto como un número entero. Los objetos se tratarán en la unidad 21. Por el momento, tenemos los siguientes ejemplos:  "
   ]
  },
  {
   "cell_type": "code",
   "execution_count": 18,
   "id": "e244e290",
   "metadata": {},
   "outputs": [
    {
     "data": {
      "text/plain": [
       "2490601742064"
      ]
     },
     "execution_count": 18,
     "metadata": {},
     "output_type": "execute_result"
    }
   ],
   "source": [
    "a_str = 'Hello Python!'\n",
    "id(a_str)"
   ]
  },
  {
   "cell_type": "code",
   "execution_count": 19,
   "id": "7a7cb28d",
   "metadata": {},
   "outputs": [
    {
     "data": {
      "text/plain": [
       "2490618589968"
      ]
     },
     "execution_count": 19,
     "metadata": {},
     "output_type": "execute_result"
    }
   ],
   "source": [
    "n = 300\n",
    "id(n)"
   ]
  },
  {
   "cell_type": "markdown",
   "id": "8fd03840",
   "metadata": {},
   "source": [
    "#### **1.7 La función *type***\n",
    "La función *type* retorna el tipo de dato de un objeto. Practiquemos un poco este concepto."
   ]
  },
  {
   "cell_type": "code",
   "execution_count": 20,
   "id": "09c63b26",
   "metadata": {},
   "outputs": [
    {
     "data": {
      "text/plain": [
       "int"
      ]
     },
     "execution_count": 20,
     "metadata": {},
     "output_type": "execute_result"
    }
   ],
   "source": [
    "type(123)"
   ]
  },
  {
   "cell_type": "code",
   "execution_count": 21,
   "id": "415f8328",
   "metadata": {},
   "outputs": [
    {
     "data": {
      "text/plain": [
       "str"
      ]
     },
     "execution_count": 21,
     "metadata": {},
     "output_type": "execute_result"
    }
   ],
   "source": [
    "type('Hello string!')"
   ]
  },
  {
   "cell_type": "code",
   "execution_count": 22,
   "id": "0707bab3",
   "metadata": {},
   "outputs": [
    {
     "data": {
      "text/plain": [
       "float"
      ]
     },
     "execution_count": 22,
     "metadata": {},
     "output_type": "execute_result"
    }
   ],
   "source": [
    "type(120.3)"
   ]
  },
  {
   "cell_type": "code",
   "execution_count": 23,
   "id": "56193338",
   "metadata": {},
   "outputs": [
    {
     "data": {
      "text/plain": [
       "list"
      ]
     },
     "execution_count": 23,
     "metadata": {},
     "output_type": "execute_result"
    }
   ],
   "source": [
    "type([100, 300, 600])"
   ]
  },
  {
   "cell_type": "markdown",
   "id": "98075053",
   "metadata": {},
   "source": [
    "#### **1.8 La función *eval***\n",
    "La función *eval* es una función donde el intérprete de Python ejecuta el valor de una cadena de texto como argumento y cuya salida es el resultado que se espera de los cálculos descritos en ella. Esta función es muy poderosa, como la ejecución del script en sí. Pero debe ser usada con cuidado porque puede llamar directamente comandos del sistema para obtener información de todas las carpetas en el sistema donde Python se está ejecutando e incluso puede borrarlos. Veamos algunos ejemplos:"
   ]
  },
  {
   "cell_type": "code",
   "execution_count": 24,
   "id": "4ac27393",
   "metadata": {},
   "outputs": [
    {
     "data": {
      "text/plain": [
       "30"
      ]
     },
     "execution_count": 24,
     "metadata": {},
     "output_type": "execute_result"
    }
   ],
   "source": [
    "eval('10+20') # El traductor de Python ejecuta la sentencia 10 + 20"
   ]
  },
  {
   "cell_type": "code",
   "execution_count": 25,
   "id": "0dd75f42",
   "metadata": {},
   "outputs": [
    {
     "data": {
      "text/plain": [
       "50.0"
      ]
     },
     "execution_count": 25,
     "metadata": {},
     "output_type": "execute_result"
    }
   ],
   "source": [
    "eval('(5*20)/2') # El traductor de Python ejecuta la sentencia (5*20)/2"
   ]
  },
  {
   "cell_type": "code",
   "execution_count": 26,
   "id": "77bad156",
   "metadata": {},
   "outputs": [
    {
     "data": {
      "text/plain": [
       "'A'"
      ]
     },
     "execution_count": 26,
     "metadata": {},
     "output_type": "execute_result"
    }
   ],
   "source": [
    "chr(65) # Retorna el valor Unicode de 65 el cual es la letra del alfabeto 'A'"
   ]
  },
  {
   "cell_type": "code",
   "execution_count": 27,
   "id": "2b76a041",
   "metadata": {},
   "outputs": [
    {
     "data": {
      "text/plain": [
       "65"
      ]
     },
     "execution_count": 27,
     "metadata": {},
     "output_type": "execute_result"
    }
   ],
   "source": [
    "ord('A') # Retorna el valor Unicode de la letra del alfabeto 'A'"
   ]
  },
  {
   "cell_type": "markdown",
   "id": "ee29194a",
   "metadata": {},
   "source": [
    "### <FONT COLOR=\"blue\"> 2. El problema de la torre de Hanoi </FONT>\n",
    "#### **2.1 Proceso de ejecución paso por paso**\n",
    "\n",
    "Ahora vamos a profundizar en el proceso de ejecución del algoritmo de la torre de Hanoi. Para resolverlo usaremos funciones recursivas.\n",
    "\n",
    "- Considere el caso con 3 discos con se muestra en la figura. En la etapa final, el disco más grande (el rojo) debe ir de A a C.\n",
    "- Para ello, los discos del medio (el azul y el verde) deben ir a B.\n",
    "- Se debe considerar mover los dos discos al destino B usando como punto de comienzo en A y el bastón C sin considerar el disco grande.\n",
    "- Cuando todos los discos más pequeños se han movido a B, el disco más grande (el rojo) se mueve a C [Figura 3].\n",
    "- En este caso, habrá dos discos pequeños en el bastón B [Figura 4].\n",
    "- Después de eso, se debe considerar mover los dos discos más pequeños desde el punto B al punto C usando el bastón de apoyo A [Figuras 5, 6 y 7].\n",
    "\n",
    "<img src=\"https://raw.githubusercontent.com/EdgarGM20/Imagenes/main/Ch18_fig4.png\" width=\"680px\"  />\n",
    "\n",
    "Cuando hay solo 1 disco, este se puede mover directamente de A a C.\n",
    "\n",
    "Cuando hay 2 discos,\n",
    "- Primero se mueve el disco pequeño a B (Como si fuera solo 1 disco)\n",
    "- Luego, se mueve el más grande a C.\n",
    "- Finalmente, se mueve el el disco pequeño de B a C. (Como si fuera solo 1 disco)\n",
    "\n",
    "Cuando hay 3 discos,\n",
    "- Primero mueva el (disco 1 y 2) de A a B. (Como si fueran solo 2 discos)\n",
    "- Luego, mueva el disco 3 a C cuando solo quede un disco en esta bastón.\n",
    "- Finalmente mueva el (disco 1 y 2) de B a C. (Como si fueran solo 2 discos)\n",
    "\n",
    "Cuando hay n-discos,\n",
    "- Primero mueva los n-1 discos a B. (Como si fueran n-1 discos)\n",
    "- Luego mueva el último disco a C cuando solo quede un disco en este bastón.\n",
    "- Finalmente, mueva los n-1 discos de B a C (Como si fueran n-1 discos)\n",
    "\n",
    "Por lo que finalmente, se tendría el siguiente código:"
   ]
  },
  {
   "cell_type": "code",
   "execution_count": 28,
   "id": "f26a121d",
   "metadata": {},
   "outputs": [
    {
     "name": "stdout",
     "output_type": "stream",
     "text": [
      "Numero 1, A -> C\n",
      "Numero 2, A -> B\n",
      "Numero 1, C -> B\n",
      "Numero 3, A -> C\n",
      "Numero 1, B -> A\n",
      "Numero 2, B -> C\n",
      "Numero 1, A -> C\n"
     ]
    }
   ],
   "source": [
    "def hanoi(n, from_, to_, via_):\n",
    "    if n == 1:\n",
    "        print('Numero {}, {} -> {}'.format(n, from_, to_))\n",
    "    else:\n",
    "        hanoi(n-1, from_, via_, to_)\n",
    "        print('Numero {}, {} -> {}'.format(n, from_, to_))\n",
    "        hanoi(n-1, via_,to_, from_)\n",
    "        \n",
    "hanoi(3, 'A', 'C', 'B')"
   ]
  },
  {
   "cell_type": "markdown",
   "id": "dedcd450",
   "metadata": {},
   "source": [
    "## <FONT COLOR=\"blue\">Programación por parejas </FONT>\n",
    "\n",
    "### <FONT COLOR=\"blue\">Práctica de la programación en parejas </FONT>\n",
    "\n",
    "\n",
    "**Directriz, mecanismos y plan de contingencia**\n",
    "\n",
    " Preparar la programación por parejas implica establecer pautas y mecanismos para ayudar a los alumnos a emparejarse correctamente y mantenerlos emparejados.  Por ejemplo, los estudiantes deben turnarse para \"conducir el mouse\".  La preparación efectiva requiere planes de contingencia en caso de que uno de los socios se ausente o decida no participar por una u otra razón.  En estos casos, es importante dejar claro que el alumno activo no será sancionado porque el emparejamiento no funcionó bien.\n",
    " \n",
    "**Emparejar habilidades similares, no necesariamente iguales, como socios**\n",
    "\n",
    " La programación en parejas puede ser efectiva cuando los estudiantes con habilidades similares, aunque no necesariamente iguales, se emparejan como compañeros.  El emparejamiento de estudiantes que no coinciden a menudo puede conducir a una participación desequilibrada.  Los maestros deben enfatizar que la programación en parejas no es una estrategia de \"divide y vencerás\", sino más bien un verdadero esfuerzo de colaboración en cada esfuerzo por todo el proyecto.  Los maestros deben evitar emparejar a estudiantes muy débiles con estudiantes muy fuertes.\n",
    "\n",
    "**Motivar a los estudiantes ofreciendo incentivos adicionales**\n",
    "\n",
    " Ofrecer incentivos adicionales puede ayudar a motivar a los estudiantes a emparejarse, especialmente con estudiantes avanzados.  A algunos maestros les ha resultado útil pedirles a los estudiantes que se emparejen solo para una o dos tareas.\n",
    "\n",
    "**Evitar trampas en la colaboración**\n",
    "\n",
    " El desafío para el maestro es encontrar formas de evaluar los resultados individuales, mientras aprovecha los beneficios de la colaboración.  ¿Cómo saber si un estudiante aprendió o hizo trampa?  Los expertos recomiendan revisar el diseño y la evaluación del curso, así como discutir explícita y concretamente con los estudiantes los comportamientos que se interpretarán como trampa.  Los expertos alientan a los maestros a hacer que las tareas sean significativas para los estudiantes y a explicar el valor de lo que los estudiantes aprenderán al completarlas.\n",
    "\n",
    "**Entorno de aprendizaje colaborativo**\n",
    "\n",
    " Un entorno de aprendizaje colaborativo ocurre cada vez que un instructor requiere que los estudiantes trabajen juntos en actividades de aprendizaje.  Los entornos de aprendizaje colaborativo pueden implicar actividades tanto formales como informales y pueden incluir o no una evaluación directa.  Por ejemplo, parejas de estudiantes trabajan en asignaciones de programación; pequeños grupos de estudiantes discuten posibles respuestas a la pregunta de un profesor durante la lección; y los estudiantes trabajan juntos fuera de clase para aprender nuevos conceptos.  El aprendizaje colaborativo es distinto de los proyectos en los que los estudiantes \"dividen y vencerán\".  Cuando los estudiantes dividen el trabajo, cada uno es responsable de solo una parte de la resolución del problema y hay oportunidades muy limitadas para resolver los problemas con los demás.  En entornos colaborativos, los estudiantes participan en conversaciones intelectuales entre ellos.\n",
    "\n"
   ]
  },
  {
   "cell_type": "markdown",
   "id": "bfedc5d9",
   "metadata": {},
   "source": [
    "### <FONT COLOR=\"blue\">**Q1.** </FONT>\n",
    "\n",
    "El número natural e, tambien llamado el número de Euler o la constante de Napier, en un número irracional usado como la base de los logaritmos naturales y es definido con la siguiente formula:\n",
    "\n",
    "$$e = 1 + \\frac{1}{1!} + \\frac{1}{2!} + \\frac{1}{3!} + ... + \\frac{1}{n!}$$\n",
    "\n",
    "donde el valor de Euler depende de la cantidad de términos n que se establezcan. Desarrolle una función recursiva que permita encontrar el valor de euler(20) con 20 términos para encontrar los primeros 5 decimales.\n",
    "\n",
    "*Salida esperada para n=20, es euler(20) = 2.71828*"
   ]
  },
  {
   "cell_type": "code",
   "execution_count": null,
   "id": "a310acf5",
   "metadata": {},
   "outputs": [],
   "source": []
  }
 ],
 "metadata": {
  "kernelspec": {
   "display_name": "Python 3.9.13 64-bit (microsoft store)",
   "language": "python",
   "name": "python3"
  },
  "language_info": {
   "codemirror_mode": {
    "name": "ipython",
    "version": 3
   },
   "file_extension": ".py",
   "mimetype": "text/x-python",
   "name": "python",
   "nbconvert_exporter": "python",
   "pygments_lexer": "ipython3",
   "version": "3.9.13"
  },
  "vscode": {
   "interpreter": {
    "hash": "d6ff7cb00638fb92356a42c28981a177178b7e1976aa8ecd498ce1508ea8d5e4"
   }
  }
 },
 "nbformat": 4,
 "nbformat_minor": 5
}
