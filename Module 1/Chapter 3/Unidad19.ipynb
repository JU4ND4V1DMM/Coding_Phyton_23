{
 "cells": [
  {
   "cell_type": "markdown",
   "id": "7803dc87",
   "metadata": {},
   "source": [
    "# <FONT COLOR=\"blue\"> **Samsung Innovation Campus**</FONT>  \n",
    "\n",
    "## <FONT COLOR=\"blue\">**Codificación y Programación**</FONT>\n",
    "\n",
    "# **Capítulo 3: Programación eficaz en Python: Función, Clausura y Clase**\n",
    "\n",
    "## Objetivos del capítulo\n",
    "\n",
    "Los alumnos podrán utilizar funciones y técnicas de programación modular. Los alumnos podrán usar expresiones lambda, que son expresiones que se usan para expresar funciones simples. Los alumnos podrán comprender el cierre que recibe el valor de retorno como una función después de definir funciones anidadas. Además, los alumnos podrán definir clases, que son conceptos importantes de los lenguajes orientados a objetos.\n",
    "\n",
    "## Contenido del capítulo\n",
    "- Unidad 17. Función\n",
    "- Unidad 18. Llamado Recursivo de una Función\n",
    "- Unidad 19. Lambda\n",
    "- Unidad 20. Clausura\n",
    "- Unidad 21. Clase"
   ]
  },
  {
   "cell_type": "markdown",
   "id": "993c509e",
   "metadata": {},
   "source": [
    "# **Unidad 19. Lambda**\n",
    "\n",
    "## Objetivos de aprendizaje\n",
    "- Utilizar operaciones funcionales sin necesidad de incluir la declaración *def* a través del uso de la función *lambda*\n",
    "- Filtrar elementos a partir de ciertas condiciones de un listado a partir de la función *filter*.\n",
    "- Modificar el valor de los elementos de una lista usando la función *map*\n",
    "- Calcular el total acumulado de múltiples datos usando la función *reduce*\n",
    "\n",
    "## Resumen de la lección\n",
    "- Aprenderás las funcionalidades de la función lambda y cómo definir y llamar la función lambda.\n",
    "- Aprenderás como extraer elementos que satisfacen ciertas condiciones de una lista a través de la función *filter*.\n",
    "- Aprenderás como modificar las unidades de los valores usando la función *map*.\n",
    "- Aprenderás como calcular el total acumulado de múltiples datos usando la función *reduce*\n",
    " \n",
    "## Conceptos previos de debes saber de las unidades previas\n",
    "- Saber acerca de las funciones y ser capaz de explicar funciones pre-construidas y funciones definidas por el usuario.\n",
    "- Usar parámetros para ingresar valores a las funciones cuando estas sean llamadas.\n",
    "- Generar listas y usar métodos asociados a listas.\n",
    "\n",
    "## Palabras clave\n",
    "\n",
    "- Filter\n",
    "- Map\n",
    "- Reduce\n",
    "- Lambda"
   ]
  },
  {
   "cell_type": "markdown",
   "id": "d5ddb434",
   "metadata": {},
   "source": [
    "## <FONT COLOR=\"blue\"> Misión </FONT>\n",
    "\n",
    "### <FONT COLOR=\"blue\">1. Problema del mundo real </FONT>\n",
    "\n",
    "\n",
    "#### **1.1 Contenido digital y problemas de copyright**\n",
    "\n",
    "<img src=\"https://raw.githubusercontent.com/EdgarGM20/Imagenes/main/Ch19_fig1.png\" width=\"680px\" />\n",
    "\n",
    "El siglo 21 es la era digital y cultural. Sin embargo, mientras se crea contenido digital que toma mucho tiempo y esfuerzo, estos se vuelven vulnerables a la duplicación y distribución. Entonces la protección de las propiedades intelectuales como el copyright se vuelve un tema importante dentro de la etapa de la distribución de contenido digital. Generalmente, el copyright de un libro dura hasta 50 o 70 años después de la muerte del autor aunque es ligeramente diferente en algunos países.\n",
    "\n",
    "#### **1.2 Serie de Sherlock Holmes**\n",
    "\n",
    "<img src=\"https://raw.githubusercontent.com/EdgarGM20/Imagenes/main/Ch19_fig2.png\" width=\"480px\" height=\"240px\"/>\n",
    "\n",
    "Las series de Sherlock Holmes escritas por Arthur Conan Doyle son famosas en todo el mundo. Esta serie consiste de los libros:\n",
    "- A study in Scarlet (1887)\n",
    "- The sign of the four (1890)\n",
    "- The adventures of Sherlock Holmes (1892)\n",
    "- The memoirs of Sherlock Holmes (1894)\n",
    "- The Hound of the Baskervilles (1901)\n",
    "- The return of Sherlock Holmes (1905)\n",
    "- The Valley of fear (1915)\n",
    "- His last Bow (1917)\n",
    "- The case-book of Sherlock Holmes (1927)\n",
    "\n",
    "De los cuales recibiremos las fechas en el formato 1887.11.20 y analizaremos gramaticalmente (parsing) esta lista. Este análisis es una tarea que analiza la lista y la sintaxis de los datos. Escriba un programa que verifique, basado en el formato, si los años de las fechas corresponden a las fechas de publicación de los libros de Conan Doyle. \n",
    "\n",
    "<img src=\"https://raw.githubusercontent.com/EdgarGM20/Imagenes/main/Ch19_fig3.png\" width=\"480px\" />\n",
    "\n",
    "Estas novelas de detectives escritas por Conan Doyle tienen a Sherlock Holmes como el protagonista principal. Estas series introdujeron el género de detectives en el mundo, y esta es la primera y la más representativa de la edad dorada de las novelas de detectives que empezó en Inglaterra. El protagonista, Sherlock Holmes, es un personaje con muchos talentos en botánica, geología, química, anatomía, música, ley y deportes.\n",
    "\n",
    "<img src=\"https://raw.githubusercontent.com/EdgarGM20/Imagenes/main/Ch19_fig4.png\" width=\"480px\" />\n",
    "\n",
    "Visita el siguiente link para más detalles [Link](https://en.wikipedia.org/wiki/Sherlock_Holmes)\n",
    "\n",
    "### <FONT COLOR=\"blue\"> 2. Misión </FONT>\n",
    "\n",
    "#### **2.1 Formatear las fechas para comparar con el año de publicación de las series de Sherlock Holmes**\n",
    "\n",
    "<img src=\"https://raw.githubusercontent.com/EdgarGM20/Imagenes/main/Ch19_fig5.png\" width=\"480px\"/>\n",
    "\n",
    "Para ello, debemos recibir el año, el mes y la fecha del usuario y verificar si ese año es el año de publicación de la series de Sherlock Holmes. El formato de entrada del año por parte del usuario debe ser en la forma 1887.11.20. Por lo tanto, construya una función que imprima \"Ese no es un año de publicación de la serie de Sherlock Holmes\" si el año entrado por el usuario no corresponde al año de la publicación de la serie en la vida real. Para ello, vamos a construir una función *lambda* llamada *is_sherlock_book_yr* que verifica si el año de entrada es el mismo año de la publicación. Adicionalmente, revisaremos que el mes y la fecha ingresada por el usuario sea en el formato correcto. Por ejemplo, 1915.5.3 es una entrada correcta, pero 1915.5.33 no lo es. Entonces el programa debe imprimir \"La fecha es incorrecta\".\n",
    "\n",
    "#### **2.2 Construyendo el validador Sherlock Holmes**"
   ]
  },
  {
   "cell_type": "code",
   "execution_count": 1,
   "id": "d2112e6c",
   "metadata": {},
   "outputs": [
    {
     "name": "stdout",
     "output_type": "stream",
     "text": [
      "Este es la fecha de publicación de las series de Sherlock Holmes!\n"
     ]
    }
   ],
   "source": [
    "def valid_date(date):\n",
    "    days = [31, 29, 31, 30, 31, 30, 31, 31, 30, 31, 30, 31]\n",
    "    sherlock_series = [1887, 1890, 1892, 1894, 1901, 1905, 1915, 1917, 1927]\n",
    "    splitted = date.split('.')\n",
    "    year = int(splitted[0])\n",
    "    month = int(splitted[1])\n",
    "    day = int(splitted[2])\n",
    "    is_sherlock_book_yr = lambda x: x in sherlock_series\n",
    "    \n",
    "    if not is_sherlock_book_yr(year):\n",
    "        print('Ese no es un año de publicación de la serie de Sherlock Holmes')\n",
    "        return False\n",
    "    if month < 1 or month > 12:\n",
    "        print('El mes es incorrecto')\n",
    "    if day < 1 or day > days[month-1]:\n",
    "        print('La fecha es incorrecta')\n",
    "        return false\n",
    "    return True\n",
    "\n",
    "#date = input('Distinga año, mes y fecha, ejm: 1917.6.10: ')\n",
    "date = '1927.9.10'\n",
    "if valid_date(date) == True:\n",
    "    print('Este es la fecha de publicación de las series de Sherlock Holmes!')\n",
    "else:\n",
    "    print('Este no es la fecha de publicación de las series de Sherlock Holmes! o la entrada tiene un error')"
   ]
  },
  {
   "cell_type": "markdown",
   "id": "ecfa86f6",
   "metadata": {},
   "source": [
    "#### **2.3 Diagrama de flujo y pseudocódigo para la función *valid_date***\n",
    "\n",
    "<img src=\"https://raw.githubusercontent.com/EdgarGM20/Imagenes/main/Ch19_fig6.png\" width=\"480px\" height=\"240px\"/>"
   ]
  },
  {
   "cell_type": "markdown",
   "id": "34cf4dc7",
   "metadata": {},
   "source": [
    "## <FONT COLOR=\"blue\"> Concepto Clave </FONT>\n",
    "### <FONT COLOR=\"blue\"> 1. Expresión lambda </FONT>\n",
    "#### **1.1 Expresión lambda y sintaxis de la función lambda**\n",
    "\n",
    "Vamos a definir una función regular llamada *add* con la declaración *def* que regrese la suma de los parámetros x, y como se muestra en la gráfica de abajo. Sin embargo, en Python, tu puedes crear una función para solo un uso que resuma todos lo pasos de una función normal. A esto, se le llama función lambda. La función lambda es una función sin nombre y que llama a la expresión lambda. Debido a esta característica, también se le conoce como función anónima. Comparando una función regular con una función lambda se tiene que la función regular se compone de la palabra clave *def*, un nombre de la función, unos parámetros, los dos puntos y el cuerpo de la función. Mientras que la función lambda solo tiene las componentes de los parámetros y el cuerpo de la función.\n",
    "\n",
    "<img src=\"https://raw.githubusercontent.com/EdgarGM20/Imagenes/main/Ch19_fig7.png\" width=\"480px\" />\n",
    "\n",
    "La sintaxis de la función lambda es simple y se define como se muestra a continuación. Esta expresión consiste de [parámetros] y de dos puntos (:)\n",
    "\n",
    "$$ (lambda [\\text{parameters}]:{\\text{expresion}}) (\\text{arguments})$$\n",
    "\n",
    "#### **1.2 Sintaxis de una función regular**\n",
    "\n",
    "A continuación definimos la función que retorna la suma de dos enteros"
   ]
  },
  {
   "cell_type": "code",
   "execution_count": 2,
   "id": "ea246ee0",
   "metadata": {},
   "outputs": [
    {
     "name": "stdout",
     "output_type": "stream",
     "text": [
      "Suma de 100 y 200:  300\n"
     ]
    }
   ],
   "source": [
    "# Suma de enteros usando la función add()\n",
    "def add(x, y):\n",
    "    return x + y\n",
    "\n",
    "print('Suma de 100 y 200: ', add(100, 200))"
   ]
  },
  {
   "cell_type": "markdown",
   "id": "5c07b059",
   "metadata": {},
   "source": [
    "Después de programar notamos que a pesar que la función realiza una operación sencilla, el código debe seguir una sintaxis que incluye la palabra clave *def*, el nombre de la función, el cuerpo de la función y *return*.\n",
    "\n",
    "#### **1.3 Sintaxis de una función regular y una función lambda**\n",
    "\n",
    "Ahora vamos a usar la función lambda para realizar la misma operación anterior. Para ello vamos a definir la función con la palabra clave lambda. La expresión recibe los parámetros x, y y regresa la operación x + y. Por lo que notamos que la función realiza la suma de dos argumentos sin necesidad de definir una función regular como lo vimos en el ejemplo anterior."
   ]
  },
  {
   "cell_type": "code",
   "execution_count": 3,
   "id": "2e4cb23f",
   "metadata": {},
   "outputs": [
    {
     "name": "stdout",
     "output_type": "stream",
     "text": [
      "Suma de 100 y 200:  300\n"
     ]
    }
   ],
   "source": [
    "# Suma usando la función lambda\n",
    "add1 = lambda x, y: x + y\n",
    "print('Suma de 100 y 200: ', add1(100, 200))"
   ]
  },
  {
   "cell_type": "markdown",
   "id": "27a3eae1",
   "metadata": {},
   "source": [
    "Ahora sustituyamos la variable add con la función anónima lambda. Esto verifica que la función lambda realiza satisfactoriamente las tareas de una función regular."
   ]
  },
  {
   "cell_type": "code",
   "execution_count": 4,
   "id": "b1f146a1",
   "metadata": {},
   "outputs": [
    {
     "name": "stdout",
     "output_type": "stream",
     "text": [
      "Suma de 100 y 200:  300\n"
     ]
    }
   ],
   "source": [
    "print('Suma de 100 y 200: ', (lambda x, y: x + y)(100, 200))"
   ]
  },
  {
   "cell_type": "markdown",
   "id": "7d079ba1",
   "metadata": {},
   "source": [
    "Adicionalmente, la función lambda permite codificar de manera simplificada. Veamos el siguiente ejemplo en el que se usa la función lambda para hallar los valores de una lista elevados al cuadrado.\n",
    "\n",
    "**Nota:** Recuerda que la función *map* la veremos en el próximo capítulo, la idea en este punto es que veas una de las funcionalidades de la expresión lambda la cual es simplificar el código. "
   ]
  },
  {
   "cell_type": "code",
   "execution_count": 5,
   "id": "6a8ab234",
   "metadata": {},
   "outputs": [
    {
     "name": "stdout",
     "output_type": "stream",
     "text": [
      "[1, 4, 9, 16, 25, 36, 49]\n"
     ]
    }
   ],
   "source": [
    "a = [1, 2, 3, 4, 5, 6, 7]\n",
    "square_a = list(map(lambda x: x**2, a))\n",
    "print(square_a)"
   ]
  },
  {
   "cell_type": "markdown",
   "id": "4d3807e3",
   "metadata": {},
   "source": [
    "### <FONT COLOR=\"blue\"> 2. filter, map y reduce </FONT>\n",
    "#### **2.1 Sintaxis de la función *filter***\n",
    "\n",
    "Python ofrece funciones de muchas formas y la función *filter* es una de ellas. La función *filter* recibe elementos iterables y regresa solo lo que son verdaderos en el paquete. La sintaxis se describe a continuación:\n",
    "\n",
    "$$filter((\\text{función para ser aplicada}, \\left \\{\\text{objetos iterables}\\right \\}))$$\n",
    "\n",
    "#### **2.2 Ejemplo de aplicación de una función *filter***\n",
    "\n",
    "Hay una lista que almacena las edades de muchas personas. Construya una función que extraiga las edades de los adultos que sean mayores a 19."
   ]
  },
  {
   "cell_type": "code",
   "execution_count": 6,
   "id": "691634d7",
   "metadata": {},
   "outputs": [
    {
     "name": "stdout",
     "output_type": "stream",
     "text": [
      "listados de adultos: \n",
      "34 39 20 54 "
     ]
    }
   ],
   "source": [
    "def adult_func(n):\n",
    "    if n>=19:\n",
    "        return True\n",
    "    else:\n",
    "        return False\n",
    "\n",
    "ages = [34, 39, 20, 18, 13, 54]\n",
    "print('listados de adultos: ')\n",
    "\n",
    "for a in filter(adult_func, ages): # filtro por edad usando la función filter()\n",
    "    print(a, end=' ')"
   ]
  },
  {
   "cell_type": "markdown",
   "id": "409f7086",
   "metadata": {},
   "source": [
    "Por lo tanto, del ejemplo anterior vemos que la función *filter* retorna Verdadero cuando la variable n es mayor a 19 y falso en el caso contrario. Esto se debe porque al iterar la lista de edades el código ejecuta la función *adult_fuc* iterando sobre el listado de edades como argumentos y solo retornando loos valores del listado que son verdaderos.\n",
    "\n",
    "#### **2.3 Características de la función filter *adult_func***\n",
    "\n",
    "La función *adult_func* tiene las siguientes características:\n",
    "- El algoritmo es relativamente sencillo.\n",
    "- No necesita una variable extra interna.\n",
    "- No necesitas reusarla una vez filtras la lista de adultos.\n",
    "\n",
    "Por eso, en casos como este, en el que la funcionalidad es simple y su reuso no es necesario, entonces la función lambda es la más apropiada. Veamos a continuación como podemos transformarla la función *adult_func* en una función anónima a través de la función lambda."
   ]
  },
  {
   "cell_type": "code",
   "execution_count": 7,
   "id": "e272bfd9",
   "metadata": {},
   "outputs": [
    {
     "name": "stdout",
     "output_type": "stream",
     "text": [
      "listados de adultos: \n",
      "34 39 20 54 "
     ]
    }
   ],
   "source": [
    "ages = [34, 39, 20, 18, 13, 54]\n",
    "print('listados de adultos: ')\n",
    "\n",
    "for a in filter(lambda x: x >= 19, ages): # filtro por edad usando la función filter()\n",
    "    print(a, end=' ')"
   ]
  },
  {
   "cell_type": "markdown",
   "id": "5f7eddc2",
   "metadata": {},
   "source": [
    "#### **2.4 Funcionamiento de la función lambda usada en la función *filter***\n",
    "\n",
    "El diagrama inferior describe cómo opera la función lambda dentro de la función *filter*. El código es más simple y corto porque usa una función lambda de una línea en vez de la función definida *adult_func*.\n",
    "\n",
    "<img src=\"https://raw.githubusercontent.com/EdgarGM20/Imagenes/main/Ch19_fig8.png\" width=\"480px\"/>\n",
    "\n",
    "#### **2.5 Aplicación de la función lambda**\n",
    "\n",
    "Observe el comportamiento de la función lambda la cual actúa como un filtro. Una función filtro con una condición específica que filtra las unidades de la lista de entrada [34, 39, ...]. Y que permite el paso de aquellas unidades que son superiores o iguales a 19 y filtra las que no cumplen con la condición. Esta función lambda retorna un Verdadero o Falso de acuerdo al resultado de evaluar la condición. Luego, la función *filter* recibe el resultado de la función condicional y los objetos iterables como parámetros.\n",
    "\n",
    "#### **2.6 Función map**\n",
    "\n",
    "Python ofrece una función pre-construida llamada *map*. Esta función retorna un tipo de dato iterable a través de la aplicación que mapea en cada elemento del tipo de dato iterable. Considere un caso donde se retorna la lista de [1, 4, 9, 16, 25, 36, 49] a través de la aplicación de la operación elevar al cuadrado en cada valor de una lista ingresada la cual es [1, 2, 3, 4, 5, 6, 7] como se muestra a continuación:\n",
    "\n",
    "<img src=\"https://raw.githubusercontent.com/EdgarGM20/Imagenes/main/Ch19_fig9.png\" width=\"480px\"/>\n",
    "\n",
    "#### **2.7 Computando el valor al cuadrado de todas las unidades en la lista**\n",
    "\n",
    "Vamos a computar los valores al cuadrado de cada elemento de la lista. Para ello, primero vamos a solucionar el problema con los métodos que ya conocemos."
   ]
  },
  {
   "cell_type": "code",
   "execution_count": 8,
   "id": "1bca0c1b",
   "metadata": {},
   "outputs": [
    {
     "name": "stdout",
     "output_type": "stream",
     "text": [
      "[1, 4, 9, 16, 25, 36, 49]\n"
     ]
    }
   ],
   "source": [
    "a = [1, 2, 3, 4, 5, 6, 7]\n",
    "square_a = []\n",
    "for n in a:\n",
    "    square_a.append(n**2) # Adiciona n al cuadrado a la lista square_a\n",
    "print(square_a)"
   ]
  },
  {
   "cell_type": "markdown",
   "id": "0b8ef433",
   "metadata": {},
   "source": [
    "#### **2.8 Comportamiento de la función *map***\n",
    "\n",
    "El código anterior se puede modificar fácilmente usando la función *map*. La sintaxis de la función *map* como se muestra a continuación:\n",
    "\n",
    "$$map((\\text{función para ser aplicada}, \\left \\{\\text{objetos iterables}\\right \\}))$$\n",
    "\n",
    "La función *map* toma dos argumentos, el primero es la función a mapear y la segunda son los objetos iterables como una lista que puede ser ingresada a la función de mapeo. Ahora, vamos a usar la función *map* en el problema anterior."
   ]
  },
  {
   "cell_type": "code",
   "execution_count": 9,
   "id": "7ead94e1",
   "metadata": {},
   "outputs": [
    {
     "name": "stdout",
     "output_type": "stream",
     "text": [
      "[1, 4, 9, 16, 25, 36, 49]\n"
     ]
    }
   ],
   "source": [
    "def square(x):\n",
    "    return x**2\n",
    "\n",
    "a = [1, 2, 3, 4, 5, 6, 7]\n",
    "square_a = list(map(square, a))\n",
    "print(square_a)"
   ]
  },
  {
   "cell_type": "markdown",
   "id": "5a750fba",
   "metadata": {},
   "source": [
    "#### **2.9 Combinación de la función *map* y la función lambda**\n",
    "\n",
    "Como hicimos en el literal 2.3 puedes usar la función lambda para simplificar el código."
   ]
  },
  {
   "cell_type": "code",
   "execution_count": 10,
   "id": "ea713359",
   "metadata": {},
   "outputs": [
    {
     "name": "stdout",
     "output_type": "stream",
     "text": [
      "[1, 4, 9, 16, 25, 36, 49]\n"
     ]
    }
   ],
   "source": [
    "a = [1, 2, 3, 4, 5, 6, 7]\n",
    "square_a = list(map(lambda x: x**2, a))\n",
    "print(square_a)"
   ]
  },
  {
   "cell_type": "markdown",
   "id": "acf327ae",
   "metadata": {},
   "source": [
    "Incluso, tu puedes transformar las unidades de la lista a través de la modificación de la expresión lambda.\n",
    "\n",
    "<img src=\"https://raw.githubusercontent.com/EdgarGM20/Imagenes/main/Ch19_fig10.png\" width=\"480px\" height=\"240px\"/>"
   ]
  },
  {
   "cell_type": "code",
   "execution_count": 11,
   "id": "b4d60a53",
   "metadata": {},
   "outputs": [
    {
     "name": "stdout",
     "output_type": "stream",
     "text": [
      "[1, 8, 27, 64, 125, 216, 343]\n"
     ]
    }
   ],
   "source": [
    "a = [1, 2, 3, 4, 5, 6, 7]\n",
    "cubic_a = list(map(lambda x: x**3, a))\n",
    "print(cubic_a)"
   ]
  },
  {
   "cell_type": "markdown",
   "id": "e0b5f8d8",
   "metadata": {},
   "source": [
    "#### **2.10 Tipos de datos iterables y las funciones *filter* y *map***\n",
    "\n",
    "Python ofrece las funciones pre-construidas llamadas *filter* y *map*. Aplique la función mapeadora a cada elemento de un tipo de dato iterable. Estas funciones retornan objetos iterables por lo que se puede modificar esto en una lista a través de la función *list*.\n",
    "\n",
    "<img src=\"https://raw.githubusercontent.com/EdgarGM20/Imagenes/main/Ch19_fig11.png\" width=\"680px\"/>\n",
    "\n",
    "Por otro lado, cada elemento del tipo de dato iterable como la lista, la tupa, el rango, etc. es modificado y retornado por la función mapeadora como los son *filter* y *map*. Cada valor es un objeto iterable y estos objetos pueden ser modificados a un tipo de dato iterable a través del uso de una función modificadora tal como lo el *list*. Adicionalmente, al usar la función lambda en la función *filter* y *map*, esto ayuda a acelerar la ejecución debido a que reduce la sobrecarga de llamadas a las funciones. Finalmente, ¿Por qué se usa la función *filter* y *map* en cada item de un tipo de dato iterable como las listas, tuplas, etc.? La respuesta es que dicha tarea puede realizarse a través de una llamada a la función, pero si se realizan demasiadas llamadas a la función puede producir una deficiencia debido a que durante una llamada, la función guarda el estado antes de la llamada y restaura su valor previso, si se ejecuta frecuentemente puede ser un problema debido a que ralentiza la velocidad de funcionamiento del programa.\n",
    "\n",
    "#### **2.11 Función *reduce***\n",
    "\n",
    "La función *reduce* está incluida en un módulo llamado *functools*. Este retorna un valor único al ejecutar una operación con una función dada en los items de un objeto iterable. Examinemos el siguiente ejercicio don una lista llamada seq = [], la función reduce(func, seq) ejecuta el siguiente procedimiento:\n",
    "\n",
    "<img src=\"https://raw.githubusercontent.com/EdgarGM20/Imagenes/main/Ch19_fig12.png\" width=\"680px\"/>\n",
    "\n",
    "Los primeros dos items del listado seq, s1 y s2 son entradas de la función *func*, la cual actúa como un parámetro para reducir la función. Luego, cierto valor es retornado a *func()* el cual es dado como entrada de la siguiente función *func* con el siguiente elemento de la lista s3. En esta expresión, *func(func(),)*, se observa que es un proceso  recursivo iterativo hasta que se ejecuta el último item de la entrada. Al final, la función retorna un solo valor.\n",
    "\n",
    "\n",
    "#### **2.12 Ejemplo de una función *reduce***\n",
    "\n",
    "Veamos un ejemplo de esta función:\n"
   ]
  },
  {
   "cell_type": "code",
   "execution_count": 12,
   "id": "2275404c",
   "metadata": {},
   "outputs": [
    {
     "name": "stdout",
     "output_type": "stream",
     "text": [
      "10\n"
     ]
    }
   ],
   "source": [
    "from functools import reduce\n",
    "\n",
    "a = [1, 2, 3, 4]\n",
    "n = reduce(lambda x, y: x + y, a)\n",
    "print(n)"
   ]
  },
  {
   "cell_type": "markdown",
   "id": "7fde23ee",
   "metadata": {},
   "source": [
    "Como vemos, la función realizó la siguiente operación:\n",
    "$$ \\left \\{ \\left \\{ \\left \\{ 1 + 2\\right \\} + 3\\right \\} + 4\\right \\} \\Rightarrow \\text{retorna 10}$$"
   ]
  },
  {
   "cell_type": "markdown",
   "id": "55f29f6b",
   "metadata": {},
   "source": [
    "### <FONT COLOR=\"blue\"> 3. Repaso de la lección </FONT>\n",
    "\n",
    "### Q1. *(tiempo estimado: 5 min)*\n",
    "Hay una lista de elementos enteros llamada n_list = [1, 2, 3, 4, 5, 6, 7, 8, 9, 10]. Retorne una lista llamada *even_list* la cual solo contiene los elementos pares de n_list usando las funciones *filter* y *lambda*. \n",
    "\n",
    "Para este ejemplo, la respuesta esperada es: even_list = [2, 4, 6, 8, 10]. \n",
    "\n",
    "**Pistas:** Cree una lista vacía llamada *even_list* y agregue los items por el método append. Luego use el ciclo for y la función *filter* y finalmente, use la función lambda dentro de la función del filtro.\n",
    "\n",
    "### Q2. *(tiempo estimado: 5 min)*\n",
    "Hay una lista de elementos enteros llamada n_list = [1, 2, 3, 4, 5, 6, 7, 8, 9, 10]. Retorne una lista llamada *even_list* la cual solo contiene los elementos pares de n_list usando las funciones *filter* y *lambda*. Sin embargo, en este ejercicio no use el ciclo for y en vez de ello, use una función *list*. \n",
    "\n",
    "Para este ejemplo, la respuesta esperada es: even_list = [2, 4, 6, 8, 10]. \n",
    "\n",
    "**Pistas:** Modifique los objetos retornados por la función *filter* a una lista de objetos a través de la función *list* y asignelas a la variable even_list.\n",
    "\n",
    "### Q3. *(tiempo estimado: 5 min)*\n",
    "Escriba una función *map* que convierta la variable 'a_list', que contiene el alfabeto en minúscula ['a', 'b', 'c', 'd'] y lo convierte en la variable 'upper_a_list', que contiene el alfabeto en mayúscula ['A', 'B', 'C', 'D']. También defina una función llamada to_upper que reciba las letras en minúsculas como parámetros y las retorne como letras en mayúsculas. \n",
    "\n",
    "Para este ejemplo, la respuesta esperada es: upper_a_list = ['A', 'B', 'C', 'D']\n",
    "\n",
    "### Q4. *(tiempo estimado: 5 min)*\n",
    "Calcule la suma de enteros de 1 a 100 usando la función *reduce* y la expresión *lambda* dentro de ella. Use como entrada: range(1, 101). \n",
    "\n",
    "Para este ejemplo, la respuesta esperada es: \"La suma de 1 a 100 es: 5050\""
   ]
  },
  {
   "attachments": {},
   "cell_type": "markdown",
   "id": "ffd2d153",
   "metadata": {},
   "source": [
    "## <FONT COLOR=\"blue\"> Vamos a codificar </FONT>\n",
    "### <FONT COLOR=\"blue\"> 1. Manejo de excepciones </FONT>\n",
    "#### **1.1 Importancia del manejo de excepciones**\n",
    "\n",
    "Un desarrollador debe codificar teniendo en mente las posibles excepciones que puedan ocurrir. A continuación veremos un código que está en peligro de terminación debido a una entrada incorrecta. Para ello, vamos a usar las declaraciones *try* ~ *except*."
   ]
  },
  {
   "cell_type": "code",
   "execution_count": 13,
   "id": "db025750",
   "metadata": {},
   "outputs": [
    {
     "name": "stdout",
     "output_type": "stream",
     "text": [
      "10/2 = 5.0\n"
     ]
    }
   ],
   "source": [
    "try:\n",
    "    # a, b = input('Ingrese dos números: ').split() # \n",
    "    a = 10\n",
    "    b = 2\n",
    "    result = int(a)/int(b)\n",
    "    print('{}/{} = {}'.format(a, b, result))\n",
    "    \n",
    "except:\n",
    "    print('Verifique que los números sean correctos')"
   ]
  },
  {
   "cell_type": "code",
   "execution_count": 14,
   "id": "adf1b52d",
   "metadata": {},
   "outputs": [
    {
     "name": "stdout",
     "output_type": "stream",
     "text": [
      "Verifique que los números sean correctos\n"
     ]
    }
   ],
   "source": [
    "try:\n",
    "    # a, b = input('Ingrese dos números: ').split() # \n",
    "    a = 10\n",
    "    b = 'two'\n",
    "    result = int(a)/int(b)\n",
    "    print('{}/{} = {}'.format(a, b, result))\n",
    "    \n",
    "except:\n",
    "    print('Verifique que los números sean correctos')"
   ]
  },
  {
   "cell_type": "markdown",
   "id": "598491c3",
   "metadata": {},
   "source": [
    "#### **1.2 Otras excepciones**\n",
    "\n",
    "¿Qué otras clases de excepciones hay?\n",
    "En la siguiente tabla se muestran varios casos de excepciones, sin embargo, estas excepciones serán estudiadas más adelante.\n",
    "\n",
    "<img src=\"https://raw.githubusercontent.com/EdgarGM20/Imagenes/main/Ch19_fig13.png\" width=\"680px\"/>\n",
    "\n",
    "Examinemos algunos tipos de excepción con el siguiente código:"
   ]
  },
  {
   "cell_type": "code",
   "execution_count": 15,
   "id": "7eefe904",
   "metadata": {},
   "outputs": [
    {
     "name": "stdout",
     "output_type": "stream",
     "text": [
      "Error:  division by zero\n"
     ]
    }
   ],
   "source": [
    "# Error cuando se divide por cero\n",
    "\n",
    "try:\n",
    "    b = 2/0\n",
    "    a = 1 + '1000'\n",
    "except Exception as e:\n",
    "    print('Error: ', e)"
   ]
  },
  {
   "cell_type": "markdown",
   "id": "d7a129cd",
   "metadata": {},
   "source": [
    "Un paso más, un manejo de excepciones sofisticado incluye las sentencias: *try*, *except*, *else*, *finally*. En el siguiente código se agregó una declaración específica para cuando sale la excepción de 'ZeroDivisionError' lo cual le permite seguir operando incluso si se produce este error."
   ]
  },
  {
   "cell_type": "code",
   "execution_count": 16,
   "id": "c1aa4dda",
   "metadata": {},
   "outputs": [
    {
     "name": "stdout",
     "output_type": "stream",
     "text": [
      "divide(100, 2): \n",
      "El resultado es:  50.0\n",
      "Ejecución completa\n",
      "divide(100, 0)\n",
      "Error por dividir por cero\n",
      "Ejecución completa\n"
     ]
    }
   ],
   "source": [
    "def divide(x, y):\n",
    "    try:\n",
    "        result = x / y\n",
    "    except ZeroDivisionError:\n",
    "        print('Error por dividir por cero')\n",
    "    else:\n",
    "        print('El resultado es: ', result)\n",
    "    finally:\n",
    "        print('Ejecución completa')\n",
    "        \n",
    "print('divide(100, 2): ')\n",
    "divide(100, 2)\n",
    "\n",
    "print('divide(100, 0)')\n",
    "divide(100, 0)"
   ]
  },
  {
   "cell_type": "markdown",
   "id": "7bda06af",
   "metadata": {},
   "source": [
    "Vamos a profundizar en cada una de estas declaraciones:\n",
    "- **Try:** Encierra la declaración de la excepción con la clausula *try*. Si la excepción no ocurre porque se ejecutó la cláusula *try* entonces pasa a *except*. Si ocurre la excepción, entonces verifica el error y realiza las operaciones del except.\n",
    "- **Except:** El bloque que opera en caso de una *excepción*. Contiene la descripción de cómo manejar la excepción.\n",
    "- **else:** Este bloque opera cuando no hay excepción.\n",
    "- **finally:** Este bloque opera siempre sin importar la excepción.\n",
    "\n",
    "### <FONT COLOR=\"blue\"> 2. Objeto iterador </FONT>\n",
    "#### **2.1 El iterador es un objeto que se comporta detrás  de una declaración iterativa de Python**\n",
    "\n",
    "Un objeto iterador es un objeto que usa datos consecutivamente de una estructura de datos con uno o más items.\n",
    "\n",
    "<img src=\"https://raw.githubusercontent.com/EdgarGM20/Imagenes/main/Ch19_fig14.png\" width=\"580px\"/>\n",
    "\n",
    "Planteemos el siguiente caso, la lista de Python [10, 20, 30] se llama de forma repetida en iteraciones de forma similar que en un ciclo for i in [10, 20, 30]. ¿Cómo sabes su el ciclo for alcanzó el final del listado? Esto es posible porque el objeto *StopIteration* está oculto y se retorna al final de la lista de la forma [10, 20, 30, StopIteration]. Este objeto notifica al usuario que no hay más items para retornar en la iteración de un lazo. Por otro lado, este objeto es creado por la función pre-construida *next* y el método especial __next__. Revisa la documentación de Python si quieres profundizar sobre este tema.\n",
    "\n",
    "#### **2.2 Funciones pre-construidas para objetos iterables**\n",
    "\n",
    "Muchas funciones pre-construidas pueden ser aplicadas a objetos iterables en Python. Por ejemplo, funciones como *min* o *max* reciben objetos iterables como entrada y retornan los valores mínimos o máximos. Otras funciones pre-construidas de alto nivel como los son: *all*, *any*, *ascii*, *bool*, *filter*, *iter* también son ofrecidas.\n",
    "\n",
    "Por ejemplo, si tenemos una lista de valores [10, 20, 30] que han sido convertidos a un tipo de datos llamado *list_iterator* por la función *iter*. La función *iter* recibe los datos como entrada y regresa los iteradores. Generalmente, tu usas la función iter con la función *next*. La función *next* recibe un iterador como entrada y retorna el siguiente iterador. Por ejemplo:"
   ]
  },
  {
   "cell_type": "code",
   "execution_count": 17,
   "id": "3e1a379c",
   "metadata": {},
   "outputs": [
    {
     "data": {
      "text/plain": [
       "10"
      ]
     },
     "execution_count": 17,
     "metadata": {},
     "output_type": "execute_result"
    }
   ],
   "source": [
    "iter_a = iter([10, 20, 30])\n",
    "next(iter_a)"
   ]
  },
  {
   "cell_type": "code",
   "execution_count": 18,
   "id": "b4d3dce6",
   "metadata": {},
   "outputs": [
    {
     "data": {
      "text/plain": [
       "20"
      ]
     },
     "execution_count": 18,
     "metadata": {},
     "output_type": "execute_result"
    }
   ],
   "source": [
    "next(iter_a)"
   ]
  },
  {
   "cell_type": "markdown",
   "id": "03d0bf40",
   "metadata": {},
   "source": [
    "**Nota:** Si hacemos ul uso de la función *next* sobre el listado original (es decir, sin pasarlo previamente a un tipo de dato iterable con la función *iter*), Python nos arrojaría un error porque un objeto lista no retorna items consecutivos. Veamos el siguiente ejemplo:"
   ]
  },
  {
   "cell_type": "code",
   "execution_count": 19,
   "id": "b67842bd",
   "metadata": {},
   "outputs": [],
   "source": [
    "a = [10, 20, 30]\n",
    "#next(a)"
   ]
  },
  {
   "cell_type": "markdown",
   "id": "5fe5c0f6",
   "metadata": {},
   "source": [
    "#### **2.3 Tipos de datos no iterables y uso de la función *iter***\n",
    "Si pasas un tipo de variable entero de valor 100 como argumento a la función *iter* entonces ocurre un *TypeError*, esto debido a que un tipo de dato entero no puede ser convertido a un objeto iterable porque no es un dato iterable. Veamos el siguiente ejemplo:"
   ]
  },
  {
   "cell_type": "code",
   "execution_count": 20,
   "id": "6ab48761",
   "metadata": {},
   "outputs": [],
   "source": [
    "n = 100\n",
    "#iter(n)"
   ]
  },
  {
   "cell_type": "markdown",
   "id": "50b133b4",
   "metadata": {},
   "source": [
    "#### **2.4 Función *next* y extrayendo unidades de un objeto iterador**\n",
    "Para esto primero crearemos un objeto list llamado lst. Luego, le aplicaremos a este objeto la función *iter* y la almacenaremos en l_iter, con esto ya hemos convertido la lista en una lista iterable. Como resultado, puedes obtener los items consecutivos de la lista gracias al uso de la función *next*"
   ]
  },
  {
   "cell_type": "code",
   "execution_count": 21,
   "id": "01e920af",
   "metadata": {},
   "outputs": [
    {
     "name": "stdout",
     "output_type": "stream",
     "text": [
      "Tipo de dato:  <class 'list_iterator'>\n",
      "Uso de la función next:  10\n",
      "Uso de la función next:  20\n",
      "Uso de la función next:  30\n"
     ]
    }
   ],
   "source": [
    "lst = [10, 20, 30]\n",
    "l_iter = iter(lst)\n",
    "print('Tipo de dato: ', type(l_iter))\n",
    "\n",
    "print(\"Uso de la función next: \", next(l_iter))\n",
    "print(\"Uso de la función next: \", next(l_iter))\n",
    "print(\"Uso de la función next: \", next(l_iter))"
   ]
  },
  {
   "cell_type": "markdown",
   "id": "fa30cdbe",
   "metadata": {},
   "source": [
    "#### **2.5 Excepción StopIteration**\n",
    "\n",
    "<img src=\"https://raw.githubusercontent.com/EdgarGM20/Imagenes/main/Ch19_fig15.png\" width=\"680px\"/>\n",
    "\n",
    "Si hacemos el llamado de la función *next* una vez más una vez hayamos recorrido todos los items, Python nos generará una excepción llamada StopIteration como veremos a continuación:"
   ]
  },
  {
   "cell_type": "code",
   "execution_count": 22,
   "id": "8e1ec791",
   "metadata": {},
   "outputs": [],
   "source": [
    "# print(\"Uso de la función next: \", next(l_iter))"
   ]
  },
  {
   "cell_type": "markdown",
   "id": "fe1dd71f",
   "metadata": {},
   "source": [
    "#### **2.6 Usando el método especial __ next __**\n",
    "Un método en Python que lleva a cabo una tarea específica se le denomina como un método especial o un método mágico. Un método especial tiene dos guiones bajos antes y después del nombre, ejm: __ next __ y se usa para re-definir un operador o una función la cual ha sido definido en Python anteriormente. Como en el ejemplo de la sección 2.4, generemos la variable l_iter a partir de una lista (dato iterable), pero en esta ocasión usemos el método __ next __ para extraer los objetos iterables. "
   ]
  },
  {
   "cell_type": "code",
   "execution_count": 23,
   "id": "a79e08e5",
   "metadata": {},
   "outputs": [
    {
     "name": "stdout",
     "output_type": "stream",
     "text": [
      "Uso de la función next:  10\n",
      "Uso de la función next:  20\n",
      "Uso de la función next:  30\n"
     ]
    }
   ],
   "source": [
    "lst = [10, 20, 30]\n",
    "l_iter = iter(lst)\n",
    "\n",
    "print(\"Uso de la función next: \", l_iter.__next__())\n",
    "print(\"Uso de la función next: \", l_iter.__next__())\n",
    "print(\"Uso de la función next: \", l_iter.__next__())"
   ]
  },
  {
   "cell_type": "markdown",
   "id": "30321e18",
   "metadata": {},
   "source": [
    "**Nota:** Si realizamos la operación 10 + 20 esta da como resultado 30. Este resultado se debe al método especial __ add __ , por lo que el código 10+20 es igual a realizar $(10)\\text{__add__}(20)$. \n",
    "Python tiene muchos métodos escritos en la forma __ XXX __ los cuales profundizaremos en la unidad 21."
   ]
  },
  {
   "cell_type": "code",
   "execution_count": 24,
   "id": "fb9b25f2",
   "metadata": {},
   "outputs": [
    {
     "data": {
      "text/plain": [
       "30"
      ]
     },
     "execution_count": 24,
     "metadata": {},
     "output_type": "execute_result"
    }
   ],
   "source": [
    "10 + 20"
   ]
  },
  {
   "cell_type": "code",
   "execution_count": 25,
   "id": "490f1b61",
   "metadata": {},
   "outputs": [
    {
     "data": {
      "text/plain": [
       "30"
      ]
     },
     "execution_count": 25,
     "metadata": {},
     "output_type": "execute_result"
    }
   ],
   "source": [
    "(10).__add__(20)"
   ]
  },
  {
   "cell_type": "markdown",
   "id": "88337e2d",
   "metadata": {},
   "source": [
    "#### **2.7 Código que verifica si un objeto es iterable**\n",
    "Al hacer la prueba de la función *iter* dentro de la cláusula *try* podemos verificar si el objeto lista puede ser convertido en un objeto iterable. Si la excepción no ocurre entonces un mensaje se imprime indicando que si es un objeto iterable."
   ]
  },
  {
   "cell_type": "code",
   "execution_count": 26,
   "id": "a8fb3261",
   "metadata": {},
   "outputs": [
    {
     "name": "stdout",
     "output_type": "stream",
     "text": [
      "La lista es un objeto iterable\n"
     ]
    }
   ],
   "source": [
    "# Verifica si una lista es un objeto iterable\n",
    "try:\n",
    "    l = [10, 20, 30]\n",
    "    iterator = iter(l)\n",
    "except TypeError:\n",
    "    print('La lista no es un objeto iterable')\n",
    "else:\n",
    "    print('La lista es un objeto iterable')"
   ]
  },
  {
   "cell_type": "markdown",
   "id": "b1f89202",
   "metadata": {},
   "source": [
    "Hagamos otra prueba pero cambiemos el tipo de dato de entrada a tuplas."
   ]
  },
  {
   "cell_type": "code",
   "execution_count": 27,
   "id": "4e2d37b8",
   "metadata": {},
   "outputs": [
    {
     "name": "stdout",
     "output_type": "stream",
     "text": [
      "La tupla es un objeto iterable\n"
     ]
    }
   ],
   "source": [
    "# Verifica si una tupla es un objeto iterable\n",
    "try:\n",
    "    t = ['Hong gil dong', 22, 79.7]\n",
    "    iterator = iter(t)\n",
    "except TypeError:\n",
    "    print('La tupla no es un objeto iterable')\n",
    "else:\n",
    "    print('La tupla es un objeto iterable')"
   ]
  },
  {
   "cell_type": "markdown",
   "id": "f41efd5f",
   "metadata": {},
   "source": [
    "Hagamos otra prueba pero cambiemos el tipo de dato de entrada a un entero."
   ]
  },
  {
   "cell_type": "code",
   "execution_count": 28,
   "id": "408b91d4",
   "metadata": {},
   "outputs": [
    {
     "name": "stdout",
     "output_type": "stream",
     "text": [
      "n no es un objeto iterable\n"
     ]
    }
   ],
   "source": [
    "# Verifica si un entero es un objeto iterable\n",
    "try:\n",
    "    n = 100\n",
    "    iterator = iter(n)\n",
    "except TypeError:\n",
    "    print('n no es un objeto iterable')\n",
    "else:\n",
    "    print('n es un objeto iterable')"
   ]
  },
  {
   "cell_type": "markdown",
   "id": "8184e4f5",
   "metadata": {},
   "source": [
    "#### **2.8 Código que acceda a items del tipo de objeto *range_iterator***\n",
    "Tu puedes acceder a varios items de un objeto tipo *range_iterator* a través del uso de la función next. Veamos el siguiente ejemplo:"
   ]
  },
  {
   "cell_type": "code",
   "execution_count": 29,
   "id": "17634ae2",
   "metadata": {},
   "outputs": [
    {
     "name": "stdout",
     "output_type": "stream",
     "text": [
      "Tipo:  <class 'range'>\n",
      "Tipo:  <class 'range_iterator'>\n",
      "Uso de la función next:  0\n",
      "Uso de la función next:  1\n",
      "Uso de la función next:  2\n"
     ]
    }
   ],
   "source": [
    "print('Tipo: ', type(range(3)))\n",
    "r_iter = iter(range(3)) # Convierte el objeto tipo range en un objeto iterable\n",
    "print('Tipo: ', type(r_iter))\n",
    "\n",
    "print(\"Uso de la función next: \", next(r_iter))\n",
    "print(\"Uso de la función next: \", next(r_iter))\n",
    "print(\"Uso de la función next: \", next(r_iter))\n"
   ]
  },
  {
   "cell_type": "markdown",
   "id": "7bead8fc",
   "metadata": {},
   "source": [
    "#### **2.9 Funciones pre-construidas para objetos iterables: *all***\n",
    "La función *all* retorna Verdadero cuando todos los items retornables son Verdadero. Si hay ceros (0) o valores nulos (None), la función all retornará Falso. Veamos el siguiente ejemplo:"
   ]
  },
  {
   "cell_type": "code",
   "execution_count": 30,
   "id": "ccccc10f",
   "metadata": {},
   "outputs": [
    {
     "name": "stdout",
     "output_type": "stream",
     "text": [
      "True\n",
      "False\n",
      "False\n"
     ]
    }
   ],
   "source": [
    "l1 = [1, 2, 3, 4] # Todos los elementos no son cero\n",
    "l2 = [0, 2, 4, 8] # Un elemento es cero\n",
    "l3 = [0, 0, 0, 0] # Todos los elementos son 0\n",
    "\n",
    "print(all(l1)) # Retorna Verdadero solo cuando todos los elementos son Verdadero\n",
    "print(all(l2)) # Retorna Verdadero solo cuando todos los elementos son Verdadero\n",
    "print(all(l3)) # Retorna Verdadero solo cuando todos los elementos son Verdadero"
   ]
  },
  {
   "cell_type": "markdown",
   "id": "3c3d46b6",
   "metadata": {},
   "source": [
    "#### **2.10 Funciones pre-construidas para objetos iterables: *any***\n",
    "La función *any* retorna Verdadero si al menos un objeto iterable es cierto. Veamos el siguiente ejemplo:"
   ]
  },
  {
   "cell_type": "code",
   "execution_count": 31,
   "id": "94b510d6",
   "metadata": {},
   "outputs": [
    {
     "name": "stdout",
     "output_type": "stream",
     "text": [
      "True\n",
      "True\n",
      "False\n"
     ]
    }
   ],
   "source": [
    "l1 = [1, 2, 3, 4] # Todos los elementos no son cero\n",
    "l2 = [0, 2, 4, 8] # Un elemento es cero\n",
    "l3 = [0, 0, 0, 0] # Todos los elementos son 0\n",
    "\n",
    "print(any(l1)) # Retorna Verdadero solo cuando al menos un elemento es Verdadero\n",
    "print(any(l2)) # Retorna Verdadero solo cuando al menos un elemento es Verdadero\n",
    "print(any(l3)) # Retorna Verdadero solo cuando al menos un elemento es Verdadero"
   ]
  },
  {
   "cell_type": "markdown",
   "id": "5196f308",
   "metadata": {},
   "source": [
    "### <FONT COLOR=\"blue\"> 3. Comparación entre una *list Comprehension* y una expresión *lambda* </FONT>\n",
    "#### **3.1 Sintaxis de una *list comprehension***\n",
    "\n",
    "La sintaxis de una list comprehension se describe a continuación, donde la parte del condiciona se puede omitir dependiendo del problema.\n",
    "\n",
    "<img src=\"https://raw.githubusercontent.com/EdgarGM20/Imagenes/main/Ch19_fig16.png\" width=\"580px\"/>\n",
    "\n",
    "Ahora, calculemos elevar al cuadrado los elementos de una lista usando lo que hemos aprendido hasta el momento:"
   ]
  },
  {
   "cell_type": "code",
   "execution_count": 32,
   "id": "a38eafc5",
   "metadata": {},
   "outputs": [
    {
     "name": "stdout",
     "output_type": "stream",
     "text": [
      "Usando map y lambda, resultado:  [1, 4, 9, 16, 25, 36, 49]\n",
      "Usando list comprehension, resultado:  [1, 4, 9, 16, 25, 36, 49]\n",
      "Usando list comprehension y range, resultado:  [1, 4, 9, 16, 25, 36, 49]\n"
     ]
    }
   ],
   "source": [
    "# Cálculo haciendo uso de la función map y lambda\n",
    "a = [1, 2, 3, 4, 5, 6, 7]\n",
    "a = list(map(lambda x: x**2, a))\n",
    "print('Usando map y lambda, resultado: ', a)\n",
    "\n",
    "# Cálculo haciendo uso de list comprehension\n",
    "a = [1, 2, 3, 4, 5, 6, 7]\n",
    "a = [x**2 for x in a]\n",
    "print('Usando list comprehension, resultado: ', a)\n",
    "\n",
    "# Cálculo haciendo uso de list comprehension y range\n",
    "a = [x**2 for x in range(1,8)]\n",
    "print('Usando list comprehension y range, resultado: ', a)"
   ]
  },
  {
   "cell_type": "markdown",
   "id": "7f83c9d6",
   "metadata": {},
   "source": [
    "Ahora, compara los siguientes códigos, vemos que independiente de la estrategia que escojamos, vamos a obtener los mismos resultados y con un código más simplificado en ambos casos."
   ]
  },
  {
   "cell_type": "code",
   "execution_count": 33,
   "id": "90c0744d",
   "metadata": {},
   "outputs": [
    {
     "name": "stdout",
     "output_type": "stream",
     "text": [
      "adult list:  [34, 39, 20, 54]\n",
      "adult list:  [34, 39, 20, 54]\n"
     ]
    }
   ],
   "source": [
    "# Enfoque de solución usando filter y lambda\n",
    "ages = [34, 39, 20, 18, 13, 54]\n",
    "adult_ages = list(filter(lambda x: x >= 19, ages))\n",
    "print('adult list: ', adult_ages)\n",
    "\n",
    "# Enfoque de solución usando list comprehension\n",
    "ages = [34, 39, 20, 18, 13, 54]\n",
    "print('adult list: ', [x for x in ages if x >= 19])"
   ]
  },
  {
   "cell_type": "markdown",
   "id": "09bc99da",
   "metadata": {},
   "source": [
    "#### **3.2 List comprehension y la expresión lambda para simplificar código**\n",
    "Una list comprehension y una expresión lambda son similares y permites simplificar código. Veamos algunos ejemplos:"
   ]
  },
  {
   "cell_type": "code",
   "execution_count": 34,
   "id": "fb13ee85",
   "metadata": {},
   "outputs": [
    {
     "data": {
      "text/plain": [
       "[0, 1, 2, 3, 4, 5, 6, 7, 8, 9]"
      ]
     },
     "execution_count": 34,
     "metadata": {},
     "output_type": "execute_result"
    }
   ],
   "source": [
    "[x for x in range(10)] # listado de números de 0 a 9"
   ]
  },
  {
   "cell_type": "code",
   "execution_count": 35,
   "id": "7311df82",
   "metadata": {},
   "outputs": [
    {
     "data": {
      "text/plain": [
       "[0, 1, 4, 9, 16, 25, 36, 49, 64, 81]"
      ]
     },
     "execution_count": 35,
     "metadata": {},
     "output_type": "execute_result"
    }
   ],
   "source": [
    "[x*x for x in range(10)] # listado del valor al cuadrado de los números de 0 a 9"
   ]
  },
  {
   "cell_type": "code",
   "execution_count": 36,
   "id": "4351f46d",
   "metadata": {},
   "outputs": [
    {
     "data": {
      "text/plain": [
       "[0, 2, 4, 6, 8]"
      ]
     },
     "execution_count": 36,
     "metadata": {},
     "output_type": "execute_result"
    }
   ],
   "source": [
    "[x for x in range(10) if x%2 == 0] # listado de números pares entre 0 a 9"
   ]
  },
  {
   "cell_type": "code",
   "execution_count": 37,
   "id": "f9201eb0",
   "metadata": {},
   "outputs": [
    {
     "data": {
      "text/plain": [
       "[1, 3, 5, 7, 9]"
      ]
     },
     "execution_count": 37,
     "metadata": {},
     "output_type": "execute_result"
    }
   ],
   "source": [
    "[x for x in range(10) if x%2 == 1] # listado de números impares entre 0 a 9"
   ]
  },
  {
   "cell_type": "code",
   "execution_count": 38,
   "id": "1b4e9392",
   "metadata": {},
   "outputs": [
    {
     "data": {
      "text/plain": [
       "[0, 4, 16, 36, 64]"
      ]
     },
     "execution_count": 38,
     "metadata": {},
     "output_type": "execute_result"
    }
   ],
   "source": [
    "[x*x for x in range(10) if x%2 == 0] # listado de números pares al cuadrado entre 0 a 9"
   ]
  },
  {
   "cell_type": "code",
   "execution_count": 39,
   "id": "f8f76f8b",
   "metadata": {},
   "outputs": [
    {
     "data": {
      "text/plain": [
       "[1, 9, 25, 49, 81]"
      ]
     },
     "execution_count": 39,
     "metadata": {},
     "output_type": "execute_result"
    }
   ],
   "source": [
    "[x*x for x in range(10) if x%2 == 1] # listado de números impares al cuadrado entre 0 a 9"
   ]
  },
  {
   "cell_type": "markdown",
   "id": "6aff9fe9",
   "metadata": {},
   "source": [
    "**Nota:** Una list comprehension permite codificar en una sola línea. Veamos el siguiente ejemplo"
   ]
  },
  {
   "cell_type": "code",
   "execution_count": 40,
   "id": "7a4cfc32",
   "metadata": {},
   "outputs": [
    {
     "name": "stdout",
     "output_type": "stream",
     "text": [
      "ingrese varios enteros: 1 2 3\n"
     ]
    },
    {
     "data": {
      "text/plain": [
       "[1, 2, 3]"
      ]
     },
     "execution_count": 40,
     "metadata": {},
     "output_type": "execute_result"
    }
   ],
   "source": [
    "# Una posible forma de codificar el requerimiento\n",
    "s = input('ingrese varios enteros: ').split() # 10 20 30 40 50\n",
    "lst = [int(x) for x in s]\n",
    "lst"
   ]
  },
  {
   "cell_type": "code",
   "execution_count": 41,
   "id": "61e1a1d7",
   "metadata": {},
   "outputs": [
    {
     "name": "stdout",
     "output_type": "stream",
     "text": [
      "ingrese varios enteros: 1 2 3\n"
     ]
    },
    {
     "data": {
      "text/plain": [
       "[1, 2, 3]"
      ]
     },
     "execution_count": 41,
     "metadata": {},
     "output_type": "execute_result"
    }
   ],
   "source": [
    "# Una versión del mismo código en una sola línea\n",
    "[int(x) for x in input('ingrese varios enteros: ').split()]"
   ]
  },
  {
   "cell_type": "markdown",
   "id": "34edcc8d",
   "metadata": {},
   "source": [
    "Veamos otro ejemplo:"
   ]
  },
  {
   "cell_type": "code",
   "execution_count": 42,
   "id": "de643049",
   "metadata": {},
   "outputs": [
    {
     "name": "stdout",
     "output_type": "stream",
     "text": [
      "[2, 4, 6, 4, 8, 12, 6, 12, 18]\n"
     ]
    }
   ],
   "source": [
    "# Una posible forma de codificar el requerimiento\n",
    "product_xy = []\n",
    "for x in [1, 2, 3]:\n",
    "    for y in [2, 4, 6]:\n",
    "        product_xy.append(x*y)\n",
    "print(product_xy)"
   ]
  },
  {
   "cell_type": "code",
   "execution_count": 43,
   "id": "f1e299ac",
   "metadata": {},
   "outputs": [
    {
     "name": "stdout",
     "output_type": "stream",
     "text": [
      "[2, 4, 6, 4, 8, 12, 6, 12, 18]\n"
     ]
    }
   ],
   "source": [
    "product_xy = [x*y for x in [1, 2, 3] for y in [2, 4, 6]]\n",
    "print(product_xy)"
   ]
  },
  {
   "cell_type": "markdown",
   "id": "f96cd748",
   "metadata": {},
   "source": [
    "#### **3.3 Aplicación de la list comprehension y la expresión lambda**\n",
    "Veamos el siguiente ejemplo en el que vamos a calcular los múltiplos de 2 y de 3 usando una list comprehension y la función lambda"
   ]
  },
  {
   "cell_type": "code",
   "execution_count": 44,
   "id": "d1a5190a",
   "metadata": {},
   "outputs": [
    {
     "data": {
      "text/plain": [
       "[6, 12, 18, 24, 30]"
      ]
     },
     "execution_count": 44,
     "metadata": {},
     "output_type": "execute_result"
    }
   ],
   "source": [
    "[n for n in range(1, 31) if n%2 == 0 if n%3 == 0]"
   ]
  },
  {
   "cell_type": "code",
   "execution_count": 45,
   "id": "9cebeff1",
   "metadata": {},
   "outputs": [
    {
     "data": {
      "text/plain": [
       "[6, 12, 18, 24, 30]"
      ]
     },
     "execution_count": 45,
     "metadata": {},
     "output_type": "execute_result"
    }
   ],
   "source": [
    "list(filter(lambda x: x%2 == 0 and x%3 == 0, range(1, 31)))"
   ]
  },
  {
   "cell_type": "markdown",
   "id": "8f1e27b9",
   "metadata": {},
   "source": [
    "Ahora, modifiquemos un poco el ejercicio para calcular los múltiplos de 2, 3, y 5 usando una list comprehension y la función lambda con el fin de verificar que con este tipo de estructuras realizar un cambio de manera sencilla modificando las condiciones"
   ]
  },
  {
   "cell_type": "code",
   "execution_count": 46,
   "id": "2c0b2391",
   "metadata": {},
   "outputs": [
    {
     "data": {
      "text/plain": [
       "[30]"
      ]
     },
     "execution_count": 46,
     "metadata": {},
     "output_type": "execute_result"
    }
   ],
   "source": [
    "[n for n in range(1, 31) if n%2 == 0 if n%3 == 0 if n%5 == 0]"
   ]
  },
  {
   "cell_type": "code",
   "execution_count": 47,
   "id": "3447e88d",
   "metadata": {},
   "outputs": [
    {
     "data": {
      "text/plain": [
       "[30]"
      ]
     },
     "execution_count": 47,
     "metadata": {},
     "output_type": "execute_result"
    }
   ],
   "source": [
    "list(filter(lambda x: x%2 == 0 and x%3 == 0 and x%5 == 0, range(1, 31)))"
   ]
  },
  {
   "cell_type": "markdown",
   "id": "bdbcb96e",
   "metadata": {},
   "source": [
    "## <FONT COLOR=\"blue\">Programación por parejas </FONT>\n",
    "\n",
    "### <FONT COLOR=\"blue\">Práctica de la programación en parejas </FONT>\n",
    "\n",
    "\n",
    "**Directriz, mecanismos y plan de contingencia**\n",
    "\n",
    " Preparar la programación por parejas implica establecer pautas y mecanismos para ayudar a los alumnos a emparejarse correctamente y mantenerlos emparejados.  Por ejemplo, los estudiantes deben turnarse para \"conducir el mouse\".  La preparación efectiva requiere planes de contingencia en caso de que uno de los socios se ausente o decida no participar por una u otra razón.  En estos casos, es importante dejar claro que el alumno activo no será sancionado porque el emparejamiento no funcionó bien.\n",
    " \n",
    "**Emparejar habilidades similares, no necesariamente iguales, como socios**\n",
    "\n",
    " La programación en parejas puede ser efectiva cuando los estudiantes con habilidades similares, aunque no necesariamente iguales, se emparejan como compañeros.  El emparejamiento de estudiantes que no coinciden a menudo puede conducir a una participación desequilibrada.  Los maestros deben enfatizar que la programación en parejas no es una estrategia de \"divide y vencerás\", sino más bien un verdadero esfuerzo de colaboración en cada esfuerzo por todo el proyecto.  Los maestros deben evitar emparejar a estudiantes muy débiles con estudiantes muy fuertes.\n",
    "\n",
    "**Motivar a los estudiantes ofreciendo incentivos adicionales**\n",
    "\n",
    " Ofrecer incentivos adicionales puede ayudar a motivar a los estudiantes a emparejarse, especialmente con estudiantes avanzados.  A algunos maestros les ha resultado útil pedirles a los estudiantes que se emparejen solo para una o dos tareas.\n",
    "\n",
    "**Evitar trampas en la colaboración**\n",
    "\n",
    " El desafío para el maestro es encontrar formas de evaluar los resultados individuales, mientras aprovecha los beneficios de la colaboración.  ¿Cómo saber si un estudiante aprendió o hizo trampa?  Los expertos recomiendan revisar el diseño y la evaluación del curso, así como discutir explícita y concretamente con los estudiantes los comportamientos que se interpretarán como trampa.  Los expertos alientan a los maestros a hacer que las tareas sean significativas para los estudiantes y a explicar el valor de lo que los estudiantes aprenderán al completarlas.\n",
    "\n",
    "**Entorno de aprendizaje colaborativo**\n",
    "\n",
    " Un entorno de aprendizaje colaborativo ocurre cada vez que un instructor requiere que los estudiantes trabajen juntos en actividades de aprendizaje.  Los entornos de aprendizaje colaborativo pueden implicar actividades tanto formales como informales y pueden incluir o no una evaluación directa.  Por ejemplo, parejas de estudiantes trabajan en asignaciones de programación; pequeños grupos de estudiantes discuten posibles respuestas a la pregunta de un profesor durante la lección; y los estudiantes trabajan juntos fuera de clase para aprender nuevos conceptos.  El aprendizaje colaborativo es distinto de los proyectos en los que los estudiantes \"dividen y vencerán\".  Cuando los estudiantes dividen el trabajo, cada uno es responsable de solo una parte de la resolución del problema y hay oportunidades muy limitadas para resolver los problemas con los demás.  En entornos colaborativos, los estudiantes participan en conversaciones intelectuales entre ellos.\n",
    "\n"
   ]
  },
  {
   "cell_type": "markdown",
   "id": "07589121",
   "metadata": {},
   "source": [
    "### <FONT COLOR=\"blue\">**Q1.** </FONT>\n",
    "\n",
    "Tienes disponible la información de los puntajes de los exámenes de los estudiantes en inglés, matemáticas y ciencias que pueden ser expresados como una lista [100, 90, 95]. Si hay dos estudiantes, los puntajes se representarían como [100, 90, 95, 90, 85, 93]. Ahora, si un estudiante no realizó algún examen en particular se marca con el puntaje de 0. Por lo tanto, se requiere un código que imprima:\n",
    "- de cuantos estudiantes se tienen los puntajes,\n",
    "- el número de estudiantes con puntajes válidos (Es decir, que no tienen 0 en alguna materia),\n",
    "- y el puntaje de los estudiantes con calificaciones válidas.\n",
    "\n",
    "**Ejemplo de una entrada:** \n",
    "\n",
    "scores = [100, 90, 95, 90, 80, 70, 0, 80, 90, 90, 0, 90, 100, 75, 20, 30, 50, 90]\n",
    "\n",
    "**Ejemplo de salida:**\n",
    "\n",
    "scores = [100, 90, 95, 90, 80, 70, 0, 80, 90, 90, 0, 90, 100, 75, 20, 30, 50, 90]\n",
    "\n",
    "El número total de estudiantes es 6\n",
    "\n",
    "El número total de estudiantes válidos es 4\n",
    "\n",
    "[[100, 90, 95], [90, 80, 70], [100, 75, 20], [30, 50, 90]]"
   ]
  },
  {
   "cell_type": "code",
   "execution_count": null,
   "id": "e4df32eb",
   "metadata": {},
   "outputs": [],
   "source": []
  }
 ],
 "metadata": {
  "kernelspec": {
   "display_name": "Python 3.9.13 64-bit (microsoft store)",
   "language": "python",
   "name": "python3"
  },
  "language_info": {
   "codemirror_mode": {
    "name": "ipython",
    "version": 3
   },
   "file_extension": ".py",
   "mimetype": "text/x-python",
   "name": "python",
   "nbconvert_exporter": "python",
   "pygments_lexer": "ipython3",
   "version": "3.9.13"
  },
  "vscode": {
   "interpreter": {
    "hash": "d6ff7cb00638fb92356a42c28981a177178b7e1976aa8ecd498ce1508ea8d5e4"
   }
  }
 },
 "nbformat": 4,
 "nbformat_minor": 5
}
