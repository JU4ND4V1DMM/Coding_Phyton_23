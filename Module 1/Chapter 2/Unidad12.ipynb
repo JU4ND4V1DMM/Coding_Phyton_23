{
 "cells": [
  {
   "cell_type": "markdown",
   "metadata": {},
   "source": [
    "# <FONT COLOR=\"blue\"> **Samsung Innovation Campus**</FONT>  \n",
    "\n",
    "## <FONT COLOR=\"blue\">**Codificación y Programación**</FONT>\n",
    "\n",
    "\n",
    "# **Capítulo 2. Programación básica de Python - Tipo de datos de secuencia en Python**\n",
    "\n",
    "## Objetivos del capítulo\n",
    "- Los alumnos podrán usar tipos de datos de secuencia, como la lista, el diccionario, la tupla y el conjunto de Python. Python se caracteriza al proporcionar estructuras de datos enriquecidas que incluyen tipos de datos de secuencia, y los alumnos utilizarán esas estructuras de datos para adquirir habilidades de codificación avanzadas. \n",
    "\n",
    "## Contenido del capítulo\n",
    "- Unidad 10. Tipos de datos: lista y tupla\n",
    "- Unidad 11. Tipos de datos: diccionario\n",
    "- Unidad 12. Tipos de datos: secuencia\n",
    "- Unidad 13. Listas 2D\n",
    "- Unidad 14. Diccionario: Método 1\n",
    "- Unidad 15. Diccionario: Método 2\n",
    "- Unidad 16. Tipo de datos: Set"
   ]
  },
  {
   "cell_type": "markdown",
   "metadata": {},
   "source": [
    "# **Unidad 12. Tipos de datos: secuencia**"
   ]
  },
  {
   "cell_type": "markdown",
   "metadata": {},
   "source": [
    "## Objetivos de aprendizaje\n",
    "\n",
    "- Ser capaz de encontrar y aplicar un valor específico en el tipo de datos secuencia. \n",
    "- Ser capaz de integrar dos objetos mediante la vinculación de objetos de secuencia.\n",
    "- Aprender los tipos de datos de iteración de los objetos de secuencia y ser capaz de imprimir utilizando  sentencias de iteración.\n",
    "- Ser capaz de calcular el número de ciertos elementos del objeto secuencia. \n",
    "- Ser capaz de dibujar un rango específico utilizando el índice del objeto secuencia.\n",
    "- Aprender la función len que se utiliza frecuentemente en los objetos de secuencia y ser capaz de utilizar el tipo de datos de rango.\n",
    "\n",
    "## Resumen de aprendizaje\n",
    "\n",
    "- Aprender las funciones de búsqueda de cada uno de los objetos de tipo cadena, tupla y lista.\n",
    "- Aprender a enlazar objetos de secuencia y calcular el número de elementos específicos dentro del objeto de secuencia.\n",
    "- Comprender los tipos y características de los tipos de datos de iteración y aprender a utilizarlos adecuadamente.\n",
    "- Aprender a utilizar los índices de los objetos de secuencia.\n",
    "- Aprender a calcular la longitud de los objetos de secuencia utilizando la función len.\n",
    "\n",
    "## Conceptos que necesitará conocer de las unidades anteriores\n",
    "\n",
    "- Ser capaz de utilizar los operadores de uso frecuente de los objetos de secuencia, incluyendo los operadores in, not in, etc.\n",
    "- Poder utilizar los operadores de uso frecuente de los objetos de la secuencia, incluidos los operadores in, not in, etc.\n",
    "- Ser capaz de añadir y eliminar elementos a la lista y realizar cortes e indexaciones.\n",
    "\n",
    "## Palabras clave\n",
    "\n",
    "<table>\n",
    "<tr>\n",
    "  <td><strong>Objeto de la secuencia</strong></td>\n",
    "  <td><strong>Iteración</strong></td>\n",
    "  <td><strong>Búsqueda, vinculación</strong></td>\n",
    "<tr>\n",
    "  <td><strong>Encontrar un elemento específico</strong></td>\n",
    "  <td><strong>Índice</strong></td>\n",
    "  <td><strong>len, rango</strong></td>\n",
    "<tr>\n",
    "</table>\n"
   ]
  },
  {
   "cell_type": "markdown",
   "metadata": {},
   "source": [
    "## <FONT COLOR=\"blue\"> Misión </FONT>"
   ]
  },
  {
   "cell_type": "markdown",
   "metadata": {},
   "source": [
    "### <FONT COLOR=\"blue\"> 1. Problema del mundo real </FONT>"
   ]
  },
  {
   "cell_type": "markdown",
   "metadata": {},
   "source": [
    "##### 1.1. **Problema de envejecimiento** "
   ]
  },
  {
   "cell_type": "markdown",
   "metadata": {},
   "source": [
    "El envejecimiento es un grave problema social en países como Corea y Japón.\n",
    "\n",
    "El envejecimiento se refiere al porcentaje de población de edad avanzada sobre la población total.\n",
    "Los principales problemas del envejecimiento son los siguientes.\n",
    "\n",
    "Pobreza debido a la pérdida de mano de obra y a la falta de previsión para la vejez\n",
    "- Aumento de la carga financiera de los jóvenes y las personas de mediana edad debido al cuidado de los ancianos.\n",
    "- Competencia entre los jóvenes y los ancianos en cuanto al trabajo.\n",
    "- Abandono de los ancianos debido a la generalización de las familias nucleares.\n",
    "\n",
    "Investiga y calcula el porcentaje de envejecimiento en tu ciudad.\n",
    "\n",
    "<div align=\"center\"><img src=\"https://github.com/Repositorio17092022/RepositorioiImagenes/blob/main/unidad12/Imagen153.PNG?raw=true\" width = \"300px\"/></div>\n",
    "\n",
    "Fuente: *http://w/articlePrint.htww.inhapress.com/newsml?idxno=6982*\n",
    "\n"
   ]
  },
  {
   "cell_type": "markdown",
   "metadata": {},
   "source": [
    "##### **1.2. Calculadora de porcentaje de envejecimiento**\n"
   ]
  },
  {
   "cell_type": "markdown",
   "metadata": {},
   "source": [
    "Hay una tupla que muestra la composición de la población de una ciudad. En esta tupla, el primer elemento es el número de población entre 0 y 9 años, y el segundo elemento es la población entre 10-19 años, que es la población adolescente. El tercer elemento es la población de 20 a 29 años, y el elemento i+1 tiene el número de población entre 10i-10i+9 años. El undécimo elemento es el último, que incluye la población de más de 100 años.\n",
    "\n",
    "Supongamos que la tupla de composición de la población de las ciudades A y B es la siguiente"
   ]
  },
  {
   "cell_type": "code",
   "execution_count": 2,
   "metadata": {},
   "outputs": [],
   "source": [
    "poblacion_a = (100, 150, 230, 120, 180, 100, 140, 95, 81, 21, 4)\n",
    "poblacion_b = (300, 420, 530, 420, 400, 300, 40, 5, 1, 1, 1)"
   ]
  },
  {
   "cell_type": "markdown",
   "metadata": {},
   "source": [
    "Compara el grado de envejecimiento de cada ciudad. Supongamos que el grado de envejecimiento es el porcentaje de ancianos de 70 años o más sobre el total de la población. Escribe un programa para obtener los siguientes resultados. (Utiliza el corte para extraer las partes necesarias de los datos).\n"
   ]
  },
  {
   "cell_type": "markdown",
   "metadata": {},
   "source": [
    "##### **1.3. Datos adicionales relacionados con el envejecimiento**"
   ]
  },
  {
   "cell_type": "markdown",
   "metadata": {},
   "source": [
    "Para más detalles sobre el envejecimiento, consulte el enlace *https://m.koreatimes.co.kr/pages/article.asp?newsIdx=270287*\n",
    "\n",
    "<div align=\"center\"><img src=\"https://github.com/Repositorio17092022/RepositorioiImagenes/blob/main/unidad12/Imagen155.PNG?raw=true\" width= \"400px\"/></div>"
   ]
  },
  {
   "cell_type": "markdown",
   "metadata": {},
   "source": [
    "### <FONT COLOR=\"blue\"> 2. Misión </FONT>"
   ]
  },
  {
   "cell_type": "markdown",
   "metadata": {},
   "source": [
    "##### **2.1. Cómo funciona la calculadora del porcentaje de envejecimiento**\n"
   ]
  },
  {
   "cell_type": "code",
   "execution_count": 7,
   "metadata": {},
   "outputs": [
    {
     "name": "stdout",
     "output_type": "stream",
     "text": [
      "Los grados de envejecimiento en la ciudad A y B son 0.165 y 0.003 respectivamente.\n"
     ]
    }
   ],
   "source": [
    "poblacion_a = (100, 150, 230, 120, 180, 100, 140, 95, 81, 21, 4)\n",
    "poblacion_b = (300, 420, 530, 420, 400, 300, 40, 5, 1, 1, 1)\n",
    "edadA = sum(poblacion_a[7:])\n",
    "edadB = sum(poblacion_b[7:])\n",
    "sumaA, sumaB = sum(poblacion_a), sum(poblacion_b)\n",
    "\n",
    "ratioEdadA, ratioEdadB = edadA/sumaA, edadB/sumaB\n",
    "\n",
    "print('Los grados de envejecimiento en la ciudad A y B son {:5.3f} y {:5.3f} respectivamente.' \n",
    ".format(ratioEdadA,ratioEdadB))"
   ]
  },
  {
   "cell_type": "markdown",
   "metadata": {},
   "source": [
    "##### **2.2. Plan de programación**"
   ]
  },
  {
   "cell_type": "markdown",
   "metadata": {},
   "source": [
    "**<h4>Pseudocódigo</h4>**\n",
    "\n",
    "**[1] Inicio**\n",
    "\n",
    "[2] Introduzca los datos de población de la ciudad.\n",
    "\n",
    "[3] Utilice la segmentación para añadir sólo los ancianos de 70 años o más.\n",
    "\n",
    "[4] Añada la población total de la ciudad.\n",
    "\n",
    "[5] Divida la población anciana entre la población total de la ciudad.\n",
    "\n",
    "[6] Imprime el porcentaje de envejecimiento.\n",
    "\n",
    "**[7] Finalizar**\n",
    "\n",
    "**<h4>Diagrama de flujo</h4>**\n",
    "\n",
    "<div align=\"center\"><img src=\"https://github.com/Repositorio17092022/RepositorioiImagenes/blob/main/unidad12/Imagen157.PNG?raw=true\" width= \"400px\"/></div>"
   ]
  },
  {
   "cell_type": "markdown",
   "metadata": {},
   "source": [
    "##### **2.3. Código final de la calculadora de porcentaje de envejecimiento**"
   ]
  },
  {
   "cell_type": "code",
   "execution_count": 8,
   "metadata": {},
   "outputs": [
    {
     "name": "stdout",
     "output_type": "stream",
     "text": [
      "Los grados de envejecimiento en la ciudad A y B son 0.165 y 0.003 respectivamente.\n"
     ]
    }
   ],
   "source": [
    "poblacion_a = (100, 150, 230, 120, 180, 100, 140, 95, 81, 21, 4)\n",
    "poblacion_b = (300, 420, 530, 420, 400, 300, 40, 5, 1, 1, 1)\n",
    "edadA = sum(poblacion_a[7:])\n",
    "edadB = sum(poblacion_b[7:])\n",
    "sumaA, sumaB = sum(poblacion_a), sum(poblacion_b)\n",
    "\n",
    "ratioEdadA, ratioEdadB = edadA/sumaA, edadB/sumaB\n",
    "\n",
    "print('Los grados de envejecimiento en la ciudad A y B son {:5.3f} y {:5.3f} respectivamente.' \n",
    ".format(ratioEdadA,ratioEdadB))"
   ]
  },
  {
   "cell_type": "markdown",
   "metadata": {},
   "source": [
    "## <FONT COLOR=\"blue\"> Concepto clave </FONT>"
   ]
  },
  {
   "cell_type": "markdown",
   "metadata": {},
   "source": [
    "###  <FONT COLOR=\"blue\"> 1. Búsqueda de un valor específico </FONT>"
   ]
  },
  {
   "cell_type": "markdown",
   "metadata": {},
   "source": [
    "##### **1.1. Tipo de datos de la secuencia**"
   ]
  },
  {
   "cell_type": "markdown",
   "metadata": {},
   "source": [
    "La lista, la tupla, el rango y la cadena tienen una cosa en común, que es que se guardan múltiples valores en una secuencia dentro de esas estructuras de datos. \n",
    "\n",
    "En Python, los tipos de datos con secuencia de valores como la lista, la tupla, el rango y la cadena se llaman tipos de secuencia.\n",
    "\n",
    "Los objetos creados a partir de tipos de datos de secuencia se llaman objetos de secuencia, y cada valor en los objetos de secuencia se llama elemento.\n",
    "\n",
    "\n",
    "<div align=\"center\"><img src=\"https://github.com/Repositorio17092022/RepositorioiImagenes/blob/main/unidad12/Imagen160.PNG?raw=true \" width= \"800px\"/></div>"
   ]
  },
  {
   "cell_type": "markdown",
   "metadata": {},
   "source": [
    "##### **1.2. Operadores miembros: in, not in**"
   ]
  },
  {
   "cell_type": "markdown",
   "metadata": {},
   "source": [
    "Los operadores de miembro \"in\" y \"not in\" son operadores que devuelven True o False.\n",
    "\n",
    "Los operadores de miembro se utilizan para comprobar si un elemento específico está incluido en estructuras de datos como una cadena, una lista o una tupla.\n",
    "\n",
    "El operador \"in\" :devuelve True si el miembro está presente, y False en caso contrario.\n",
    "\n",
    "El operador \"not in\": devuelve False si el miembro está presente, y True si no.\n",
    "\n",
    "En el ejemplo siguiente, como list1 tiene 10, 10 en lista1 devuelve True, mientras que 10 no en lista1 devuelve False. \n"
   ]
  },
  {
   "cell_type": "code",
   "execution_count": 9,
   "metadata": {},
   "outputs": [
    {
     "data": {
      "text/plain": [
       "True"
      ]
     },
     "execution_count": 9,
     "metadata": {},
     "output_type": "execute_result"
    }
   ],
   "source": [
    "lista1 =[10, 20, 30, 40]\n",
    "10 in lista1"
   ]
  },
  {
   "cell_type": "code",
   "execution_count": 10,
   "metadata": {},
   "outputs": [
    {
     "data": {
      "text/plain": [
       "False"
      ]
     },
     "execution_count": 10,
     "metadata": {},
     "output_type": "execute_result"
    }
   ],
   "source": [
    "lista1 =[10, 20, 30, 40]\n",
    "10 not in lista1"
   ]
  },
  {
   "cell_type": "markdown",
   "metadata": {},
   "source": [
    "##### **1.3. Usando el operador “in”**"
   ]
  },
  {
   "cell_type": "markdown",
   "metadata": {},
   "source": [
    "Para buscar un valor específico en la tupla, utilice el operador \"in\"."
   ]
  },
  {
   "cell_type": "code",
   "execution_count": 11,
   "metadata": {},
   "outputs": [
    {
     "data": {
      "text/plain": [
       "True"
      ]
     },
     "execution_count": 11,
     "metadata": {},
     "output_type": "execute_result"
    }
   ],
   "source": [
    "tupla = (1, 2, 3, 4)\n",
    "3 in tupla"
   ]
  },
  {
   "cell_type": "markdown",
   "metadata": {},
   "source": [
    "Utilice el operador \"in\" en la secuencia de tipo de rango creada por la función de rango"
   ]
  },
  {
   "cell_type": "code",
   "execution_count": 12,
   "metadata": {},
   "outputs": [
    {
     "data": {
      "text/plain": [
       "False"
      ]
     },
     "execution_count": 12,
     "metadata": {},
     "output_type": "execute_result"
    }
   ],
   "source": [
    "11 in range(10)"
   ]
  },
  {
   "cell_type": "markdown",
   "metadata": {},
   "source": [
    "Utilice el operador \"in\" para buscar un valor específico de la cadena. Lo siguiente es Verdadero porque 'a' está incluida en 'abcd'."
   ]
  },
  {
   "cell_type": "code",
   "execution_count": 14,
   "metadata": {},
   "outputs": [
    {
     "data": {
      "text/plain": [
       "True"
      ]
     },
     "execution_count": 14,
     "metadata": {},
     "output_type": "execute_result"
    }
   ],
   "source": [
    "'a' in 'abcd'"
   ]
  },
  {
   "cell_type": "markdown",
   "metadata": {},
   "source": [
    "### <FONT COLOR=\"blue\"> 2. Vinculación de los objetos de la secuencia </FONT>"
   ]
  },
  {
   "cell_type": "markdown",
   "metadata": {},
   "source": [
    "##### **2.1. Vinculación de los objetos de la secuencia**\n"
   ]
  },
  {
   "cell_type": "markdown",
   "metadata": {},
   "source": [
    "Para los tipos de datos de secuencia, es posible utilizar el operador +.\n",
    "\n",
    "Sin embargo, los rangos no se pueden enlazar con el operador +.\n",
    "\n",
    "Vinculación de listas"
   ]
  },
  {
   "cell_type": "code",
   "execution_count": 15,
   "metadata": {},
   "outputs": [
    {
     "name": "stdout",
     "output_type": "stream",
     "text": [
      "[11, 22, 33, 44]\n",
      "[11, 22, 33, 44, 55, 66]\n"
     ]
    }
   ],
   "source": [
    "lista1 = [11, 22, 33, 44]\n",
    "lista2 = [55, 66]\n",
    "print(lista1)\n",
    "print(lista1 + lista2)"
   ]
  },
  {
   "cell_type": "markdown",
   "metadata": {},
   "source": [
    "##### **2.2. Vinculación de los objetos de la secuencia**"
   ]
  },
  {
   "cell_type": "markdown",
   "metadata": {},
   "source": [
    "Esto muestra cómo enlazar tuplas. Utilice el operador +."
   ]
  },
  {
   "cell_type": "code",
   "execution_count": 24,
   "metadata": {},
   "outputs": [
    {
     "name": "stdout",
     "output_type": "stream",
     "text": [
      "(1, 2, 3, 4, 5, 6)\n"
     ]
    }
   ],
   "source": [
    "tupla1 = (1, 2, 3)\n",
    "tupla2 = (4, 5 ,6)\n",
    "print(tupla1 + tupla2)"
   ]
  },
  {
   "cell_type": "markdown",
   "metadata": {},
   "source": [
    "Esto muestra cómo enlazar cadenas. Utilice el operador +. "
   ]
  },
  {
   "cell_type": "code",
   "execution_count": 25,
   "metadata": {},
   "outputs": [
    {
     "name": "stdout",
     "output_type": "stream",
     "text": [
      "¡Hola mundo!\n"
     ]
    }
   ],
   "source": [
    "cadena1 = '¡Hola '\n",
    "cadena2 = 'mundo!'\n",
    "print(cadena1 + cadena2)"
   ]
  },
  {
   "cell_type": "markdown",
   "metadata": {},
   "source": [
    "##### **2.3. Posible error al enlazar objetos de la secuencia**"
   ]
  },
  {
   "cell_type": "markdown",
   "metadata": {},
   "source": [
    "**❗ TypeError**"
   ]
  },
  {
   "cell_type": "code",
   "execution_count": 21,
   "metadata": {},
   "outputs": [
    {
     "ename": "TypeError",
     "evalue": "unsupported operand type(s) for +: 'range' and 'range'",
     "output_type": "error",
     "traceback": [
      "\u001b[1;31m---------------------------------------------------------------------------\u001b[0m",
      "\u001b[1;31mTypeError\u001b[0m                                 Traceback (most recent call last)",
      "Cell \u001b[1;32mIn [21], line 1\u001b[0m\n\u001b[1;32m----> 1\u001b[0m \u001b[38;5;28;43mrange\u001b[39;49m\u001b[43m(\u001b[49m\u001b[38;5;241;43m10\u001b[39;49m\u001b[43m)\u001b[49m\u001b[43m \u001b[49m\u001b[38;5;241;43m+\u001b[39;49m\u001b[43m \u001b[49m\u001b[38;5;28;43mrange\u001b[39;49m\u001b[43m(\u001b[49m\u001b[38;5;241;43m10\u001b[39;49m\u001b[43m,\u001b[49m\u001b[38;5;241;43m20\u001b[39;49m\u001b[43m)\u001b[49m\n",
      "\u001b[1;31mTypeError\u001b[0m: unsupported operand type(s) for +: 'range' and 'range'"
     ]
    }
   ],
   "source": [
    "range(10) + range(10,20)"
   ]
  },
  {
   "cell_type": "markdown",
   "metadata": {},
   "source": [
    "Si es así, la vinculación es posible haciendo el rango en la lista o tupla"
   ]
  },
  {
   "cell_type": "code",
   "execution_count": 22,
   "metadata": {},
   "outputs": [
    {
     "data": {
      "text/plain": [
       "[0, 1, 2, 3, 4, 5, 6, 7, 8, 9, 10, 11, 12, 13, 14, 15, 16, 17, 18, 19]"
      ]
     },
     "execution_count": 22,
     "metadata": {},
     "output_type": "execute_result"
    }
   ],
   "source": [
    "list(range(10)) + list(range(10,20))"
   ]
  },
  {
   "cell_type": "code",
   "execution_count": 23,
   "metadata": {},
   "outputs": [
    {
     "data": {
      "text/plain": [
       "(0, 1, 2, 3, 4, 5, 6, 7, 8, 9, 10, 11, 12, 13, 14, 15, 16, 17, 18, 19)"
      ]
     },
     "execution_count": 23,
     "metadata": {},
     "output_type": "execute_result"
    }
   ],
   "source": [
    "tuple(range(10)) + tuple(range(10,20))"
   ]
  },
  {
   "cell_type": "markdown",
   "metadata": {},
   "source": [
    "### <FONT COLOR=\"blue\"> 3. Iteración de objetos de secuencia </FONT>"
   ]
  },
  {
   "cell_type": "markdown",
   "metadata": {},
   "source": [
    "##### **3.1. Iteración de objetos de la secuencia**"
   ]
  },
  {
   "cell_type": "markdown",
   "metadata": {},
   "source": [
    "Operadores para iterar el objeto secuencia: *\n",
    "- Los tipos de datos de secuencia pueden utilizar un operador de multiplicación, que crea un elemento de objeto repetidamente.\n",
    "- Sin embargo, la multiplicación de objetos es imposible para el rango con el operador *.\n",
    "- Escrito como [tipo de datos de secuencia] * entero.\n",
    "\n",
    "Iteración de la lista"
   ]
  },
  {
   "cell_type": "code",
   "execution_count": 26,
   "metadata": {},
   "outputs": [
    {
     "name": "stdout",
     "output_type": "stream",
     "text": [
      "[11, 22, 33, 44, 11, 22, 33, 44]\n"
     ]
    }
   ],
   "source": [
    "lista1 = [11, 22, 33, 44] * 2\n",
    "print(lista1)"
   ]
  },
  {
   "cell_type": "markdown",
   "metadata": {},
   "source": [
    "Iteración de tuplas"
   ]
  },
  {
   "cell_type": "code",
   "execution_count": 27,
   "metadata": {},
   "outputs": [
    {
     "name": "stdout",
     "output_type": "stream",
     "text": [
      "(1, 2, 3, 1, 2, 3)\n"
     ]
    }
   ],
   "source": [
    "tupla1 = (1, 2, 3)\n",
    "print(tupla1 * 2)"
   ]
  },
  {
   "cell_type": "markdown",
   "metadata": {},
   "source": [
    "Iteración de cadenas"
   ]
  },
  {
   "cell_type": "code",
   "execution_count": 28,
   "metadata": {},
   "outputs": [
    {
     "name": "stdout",
     "output_type": "stream",
     "text": [
      "HolaHolaHola\n"
     ]
    }
   ],
   "source": [
    "cadena2 = 'Hola'\n",
    "print(cadena2 * 3)"
   ]
  },
  {
   "cell_type": "markdown",
   "metadata": {},
   "source": [
    "##### **3.2. Precauciones para la iteración de objetos de la secuencia**"
   ]
  },
  {
   "cell_type": "markdown",
   "metadata": {},
   "source": [
    "**❗ Error que se produce al utilizar el operador * para el tipo de rango: TypeError**\n"
   ]
  },
  {
   "cell_type": "code",
   "execution_count": 29,
   "metadata": {},
   "outputs": [
    {
     "ename": "TypeError",
     "evalue": "unsupported operand type(s) for *: 'range' and 'int'",
     "output_type": "error",
     "traceback": [
      "\u001b[1;31m---------------------------------------------------------------------------\u001b[0m",
      "\u001b[1;31mTypeError\u001b[0m                                 Traceback (most recent call last)",
      "Cell \u001b[1;32mIn [29], line 1\u001b[0m\n\u001b[1;32m----> 1\u001b[0m \u001b[38;5;28;43mrange\u001b[39;49m\u001b[43m(\u001b[49m\u001b[38;5;241;43m10\u001b[39;49m\u001b[43m)\u001b[49m\u001b[43m \u001b[49m\u001b[38;5;241;43m*\u001b[39;49m\u001b[43m \u001b[49m\u001b[38;5;241;43m3\u001b[39;49m\n",
      "\u001b[1;31mTypeError\u001b[0m: unsupported operand type(s) for *: 'range' and 'int'"
     ]
    }
   ],
   "source": [
    "range(10) * 3"
   ]
  },
  {
   "cell_type": "markdown",
   "metadata": {},
   "source": [
    "Para el tipo de datos range, los objetos no pueden ser enlazados utilizando el operador +.\n",
    "\n",
    "Del mismo modo, el tipo de datos range no puede ser iterado utilizando el operador de iteración *."
   ]
  },
  {
   "cell_type": "markdown",
   "metadata": {},
   "source": [
    "##### **3.3. Conversión del tipo para la iteración del tipo de datos del rango**\n"
   ]
  },
  {
   "cell_type": "markdown",
   "metadata": {},
   "source": [
    "El tipo de datos range no puede ser iterado con el operador *. \n",
    "\n",
    "Por lo tanto, debe convertirse en el tipo de datos lista o tupla como se muestra a continuación.\n"
   ]
  },
  {
   "cell_type": "code",
   "execution_count": 31,
   "metadata": {},
   "outputs": [
    {
     "name": "stdout",
     "output_type": "stream",
     "text": [
      "[0, 1, 2, 3, 4, 0, 1, 2, 3, 4, 0, 1, 2, 3, 4]\n"
     ]
    }
   ],
   "source": [
    "ran = list(range(5)) * 3\n",
    "print(ran)"
   ]
  },
  {
   "cell_type": "code",
   "execution_count": 32,
   "metadata": {},
   "outputs": [
    {
     "name": "stdout",
     "output_type": "stream",
     "text": [
      "(0, 1, 2, 3, 4, 0, 1, 2, 3, 4, 0, 1, 2, 3, 4)\n"
     ]
    }
   ],
   "source": [
    "ran = tuple(range(5)) * 3\n",
    "print(ran)"
   ]
  },
  {
   "cell_type": "markdown",
   "metadata": {},
   "source": [
    "##### <strong>3.4. Precaución al utilizar el operador*.</strong>"
   ]
  },
  {
   "cell_type": "markdown",
   "metadata": {},
   "source": [
    "**❗ operación de dos listas que inducen a un error sintáctico**\n"
   ]
  },
  {
   "cell_type": "code",
   "execution_count": 33,
   "metadata": {},
   "outputs": [
    {
     "ename": "TypeError",
     "evalue": "can't multiply sequence by non-int of type 'list'",
     "output_type": "error",
     "traceback": [
      "\u001b[1;31m---------------------------------------------------------------------------\u001b[0m",
      "\u001b[1;31mTypeError\u001b[0m                                 Traceback (most recent call last)",
      "Cell \u001b[1;32mIn [33], line 3\u001b[0m\n\u001b[0;32m      1\u001b[0m lista1 \u001b[38;5;241m=\u001b[39m [\u001b[38;5;241m11\u001b[39m, \u001b[38;5;241m22\u001b[39m, \u001b[38;5;241m33\u001b[39m, \u001b[38;5;241m44\u001b[39m]\n\u001b[0;32m      2\u001b[0m lista2 \u001b[38;5;241m=\u001b[39m [\u001b[38;5;241m55\u001b[39m, \u001b[38;5;241m66\u001b[39m]\n\u001b[1;32m----> 3\u001b[0m \u001b[38;5;28mprint\u001b[39m(\u001b[43mlista1\u001b[49m\u001b[43m \u001b[49m\u001b[38;5;241;43m*\u001b[39;49m\u001b[43m \u001b[49m\u001b[43mlista2\u001b[49m)\n",
      "\u001b[1;31mTypeError\u001b[0m: can't multiply sequence by non-int of type 'list'"
     ]
    }
   ],
   "source": [
    "lista1 = [11, 22, 33, 44]\n",
    "lista2 = [55, 66]\n",
    "print(lista1 * lista2)"
   ]
  },
  {
   "cell_type": "markdown",
   "metadata": {},
   "source": [
    "La operación [tipo de datos de secuencia] * [tipo de datos de secuencia] no puede realizarse entre los tipos de datos de lista, tupla y cadena.\n",
    "\n",
    "Todos los tipos de datos de secuencia deben utilizar [tipo de datos de secuencia] * [entero] para la operación iterativa.\n"
   ]
  },
  {
   "cell_type": "markdown",
   "metadata": {},
   "source": [
    "### <FONT COLOR=\"blue\"> 4. Cálculo del número de elementos de objetos de secuencia específicos </FONT>\n"
   ]
  },
  {
   "cell_type": "markdown",
   "metadata": {},
   "source": [
    "##### **4.1. Método count**"
   ]
  },
  {
   "cell_type": "markdown",
   "metadata": {},
   "source": [
    "Conozca el método count para calcular el número de elementos específicos en la secuencia.\n",
    "\n",
    "- El método count devuelve el número de elementos del objeto secuencia.\n",
    "- En el código siguiente, se encuentran tres 11 en la lista1, por lo que devuelve 3.\n"
   ]
  },
  {
   "cell_type": "code",
   "execution_count": 34,
   "metadata": {},
   "outputs": [
    {
     "name": "stdout",
     "output_type": "stream",
     "text": [
      "3\n"
     ]
    }
   ],
   "source": [
    "lista1 = [11, 11, 11, 22, 33, 44]\n",
    "print(lista1.count(11))     #Número de elementos específicos"
   ]
  },
  {
   "cell_type": "markdown",
   "metadata": {},
   "source": [
    "Impresión del método de recuento en tupla.\n",
    "- Hay tres 11 en el tupla1"
   ]
  },
  {
   "cell_type": "code",
   "execution_count": 35,
   "metadata": {},
   "outputs": [
    {
     "name": "stdout",
     "output_type": "stream",
     "text": [
      "3\n"
     ]
    }
   ],
   "source": [
    "tupla1 = (11, 11, 11, 22, 33, 44)\n",
    "print(tupla1.count(11))     #Número de elementos específicos"
   ]
  },
  {
   "cell_type": "markdown",
   "metadata": {},
   "source": [
    "Impresión del método de recuento en cadena\n",
    "- Hay tres \"L\" en el cadena1.\n"
   ]
  },
  {
   "cell_type": "code",
   "execution_count": 37,
   "metadata": {},
   "outputs": [
    {
     "name": "stdout",
     "output_type": "stream",
     "text": [
      "3\n"
     ]
    }
   ],
   "source": [
    "cadena1 = 'Hello world'\n",
    "print(cadena1.count('l'))     #Número de elementos específicos"
   ]
  },
  {
   "cell_type": "markdown",
   "metadata": {},
   "source": [
    "##### **4.2. Código de ejemplo del método count**"
   ]
  },
  {
   "cell_type": "markdown",
   "metadata": {},
   "source": [
    "Compara los resultados de impresión len y count del tipo de datos range 'ran'."
   ]
  },
  {
   "cell_type": "code",
   "execution_count": 38,
   "metadata": {},
   "outputs": [
    {
     "name": "stdout",
     "output_type": "stream",
     "text": [
      "5\n",
      "1\n"
     ]
    }
   ],
   "source": [
    "ran = range(0, 5, 1)\n",
    "print(len(ran))\n",
    "print(ran.count(2))"
   ]
  },
  {
   "cell_type": "markdown",
   "metadata": {},
   "source": [
    "**Linea 2, 3**\n",
    "- ran tiene cinco elementos de 0, 1, 2, 3, 4. El número de elementos impresos utilizando la función len sería 5.\n",
    "- Por otro lado, al usar el método count para ver cuántos 2s hay en la variable ran, imprimirá 1 porque sólo hay un 2.\n"
   ]
  },
  {
   "cell_type": "markdown",
   "metadata": {},
   "source": [
    "### <FONT COLOR=\"blue\"> 5. Usando el índice de objeto de secuencia </FONT>\n"
   ]
  },
  {
   "cell_type": "markdown",
   "metadata": {},
   "source": [
    "##### **5.1. Objetos de índice y secuencia**"
   ]
  },
  {
   "cell_type": "markdown",
   "metadata": {},
   "source": [
    "El índice se utiliza en las secuencias de objetos en común. \n",
    "\n",
    "Índice:\n",
    "- El índice se refiere a un número que indica el valor de un objeto de una lista o secuencia.\n",
    "- Los índices de una lista con n elementos aumentan de 0 a n-1.\n",
    "\n",
    "El índice de un objeto secuencia siempre empieza en 0.\n",
    "\n",
    "<div align=\"center\"><img src=\"https://github.com/Repositorio17092022/RepositorioiImagenes/blob/main/unidad12/Imagen174.PNG?raw=true \" width= \"800px\"/></div>"
   ]
  },
  {
   "cell_type": "markdown",
   "metadata": {},
   "source": [
    "##### **5.2. Indización de objetos de la secuencia**"
   ]
  },
  {
   "cell_type": "markdown",
   "metadata": {},
   "source": [
    "Referencia del valor del elemento mediante la indexación de la lista\n"
   ]
  },
  {
   "cell_type": "code",
   "execution_count": 39,
   "metadata": {},
   "outputs": [],
   "source": [
    "lista1 = [11, 11, 11, 22, 33, 44]"
   ]
  },
  {
   "cell_type": "code",
   "execution_count": 40,
   "metadata": {},
   "outputs": [
    {
     "data": {
      "text/plain": [
       "11"
      ]
     },
     "execution_count": 40,
     "metadata": {},
     "output_type": "execute_result"
    }
   ],
   "source": [
    "lista1[0]"
   ]
  },
  {
   "cell_type": "code",
   "execution_count": 41,
   "metadata": {},
   "outputs": [
    {
     "data": {
      "text/plain": [
       "11"
      ]
     },
     "execution_count": 41,
     "metadata": {},
     "output_type": "execute_result"
    }
   ],
   "source": [
    "lista1[2]"
   ]
  },
  {
   "cell_type": "markdown",
   "metadata": {},
   "source": [
    "Referencia del valor del elemento mediante la indexación de cadenas "
   ]
  },
  {
   "cell_type": "code",
   "execution_count": 42,
   "metadata": {},
   "outputs": [],
   "source": [
    "cadena1 = 'hola mundo'"
   ]
  },
  {
   "cell_type": "code",
   "execution_count": 43,
   "metadata": {},
   "outputs": [
    {
     "data": {
      "text/plain": [
       "'l'"
      ]
     },
     "execution_count": 43,
     "metadata": {},
     "output_type": "execute_result"
    }
   ],
   "source": [
    "cadena1[2]"
   ]
  },
  {
   "cell_type": "code",
   "execution_count": 44,
   "metadata": {},
   "outputs": [
    {
     "data": {
      "text/plain": [
       "'n'"
      ]
     },
     "execution_count": 44,
     "metadata": {},
     "output_type": "execute_result"
    }
   ],
   "source": [
    "cadena1[7]"
   ]
  },
  {
   "cell_type": "markdown",
   "metadata": {},
   "source": [
    "Referencia del valor del elemento mediante la indexación de tuplas"
   ]
  },
  {
   "cell_type": "code",
   "execution_count": 46,
   "metadata": {},
   "outputs": [],
   "source": [
    "tupla1 = (1,1,1,2,3,3,4)"
   ]
  },
  {
   "cell_type": "code",
   "execution_count": 47,
   "metadata": {},
   "outputs": [
    {
     "data": {
      "text/plain": [
       "2"
      ]
     },
     "execution_count": 47,
     "metadata": {},
     "output_type": "execute_result"
    }
   ],
   "source": [
    "tupla1[3]"
   ]
  },
  {
   "cell_type": "markdown",
   "metadata": {},
   "source": [
    "Referencia del valor del elemento a través de la indexación del rango: En el tipo de rango, se puede utilizar un valor de paso como 1 en (0, 5, 1) para designar el espacio de salto, que se explicará más adelante. "
   ]
  },
  {
   "cell_type": "code",
   "execution_count": 48,
   "metadata": {},
   "outputs": [],
   "source": [
    "ran = range(0, 5 ,1)"
   ]
  },
  {
   "cell_type": "code",
   "execution_count": 49,
   "metadata": {},
   "outputs": [
    {
     "data": {
      "text/plain": [
       "4"
      ]
     },
     "execution_count": 49,
     "metadata": {},
     "output_type": "execute_result"
    }
   ],
   "source": [
    "ran[4]"
   ]
  },
  {
   "cell_type": "markdown",
   "metadata": {},
   "source": [
    "##### **5.3. Rebanar objetos de la secuencia**"
   ]
  },
  {
   "cell_type": "markdown",
   "metadata": {},
   "source": [
    "En general, el corte del tipo de datos de la secuencia especifica los índices de inicio y final.\n",
    "\n",
    "Todos los tipos de datos de secuencia utilizan el mismo método de corte, tal como se indica en la siguiente regla. \n",
    "\n",
    "La designación del rango [1:5] trae elementos desde el índice 1 hasta el índice 5-1. \n",
    "\n",
    "Así, los elementos [20, 30, 40, 50] se cortan en rodajas.\n",
    "\n",
    "<div align=\"center\"><img src=\"https://github.com/Repositorio17092022/RepositorioiImagenes/blob/main/unidad12/Imagen177.PNG?raw=true.png \" width= \"600px\"/></div>\n",
    "\n",
    "Al importar hasta el final de toda la secuencia, se puede omitir el último índice. \n",
    "\n",
    "[1:] El corte puede realizarse desde el segundo al último elemento. \n",
    "\n",
    "<div align=\"center\"><img src=\"https://github.com/Repositorio17092022/RepositorioiImagenes/blob/main/unidad12/Imagen178.PNG?raw=true.png \" width= \"600px\"/></div>\n",
    "\n",
    "También se pueden omitir los índices de inicio y final.\n",
    "\n",
    "Cuando se utiliza junto con [:], importa todos los elementos. \n",
    "\n",
    "<div align=\"center\"><img src=\"https://github.com/Repositorio17092022/RepositorioiImagenes/blob/main/unidad12/Imagen179.PNG?raw=true \" width= \"600px\"/></div>"
   ]
  },
  {
   "cell_type": "markdown",
   "metadata": {},
   "source": [
    "##### **5.4. Indización negativa de los objetos de la secuencia**"
   ]
  },
  {
   "cell_type": "markdown",
   "metadata": {},
   "source": [
    "Se pueden utilizar índices negativos para los objetos de la secuencia.\n",
    "\n",
    "El índice del último elemento se convierte en -1, y -2, -3, ... se dan a los elementos anteriores.\n",
    "\n",
    "<div align=\"center\"><img src=\"https://github.com/Repositorio17092022/RepositorioiImagenes/blob/main/unidad12/Imagen180.PNG?raw=true \" width= \"600px\"/></div>\n",
    "\n",
    "La regla del índice negativo se aplica a los objetos de cadena.\n",
    "\n",
    "<div align=\"center\"><img src=\"https://github.com/Repositorio17092022/RepositorioiImagenes/blob/main/unidad12/Imagen181.PNG?raw=true \" width= \"700px\"/></div>"
   ]
  },
  {
   "cell_type": "code",
   "execution_count": 57,
   "metadata": {},
   "outputs": [
    {
     "name": "stdout",
     "output_type": "stream",
     "text": [
      "f\n"
     ]
    }
   ],
   "source": [
    "cadena1 = 'abcdef'\n",
    "print(cadena1[-1])"
   ]
  },
  {
   "cell_type": "code",
   "execution_count": 58,
   "metadata": {},
   "outputs": [
    {
     "name": "stdout",
     "output_type": "stream",
     "text": [
      "a\n"
     ]
    }
   ],
   "source": [
    "print(cadena1[-6])"
   ]
  },
  {
   "cell_type": "markdown",
   "metadata": {},
   "source": [
    "La regla del índice negativo se aplica a los objetos tupla.\n",
    "\n",
    "<div align=\"center\"><img src=\"https://github.com/Repositorio17092022/RepositorioiImagenes/blob/main/unidad12/Imagen182.PNG?raw=true \" width= \"700px\"/></div>"
   ]
  },
  {
   "cell_type": "code",
   "execution_count": 59,
   "metadata": {},
   "outputs": [
    {
     "name": "stdout",
     "output_type": "stream",
     "text": [
      "77\n"
     ]
    }
   ],
   "source": [
    "tupla1 = (11, 22, 33, 44, 55, 66, 77)\n",
    "print(tupla1[-1])"
   ]
  },
  {
   "cell_type": "code",
   "execution_count": 60,
   "metadata": {},
   "outputs": [
    {
     "name": "stdout",
     "output_type": "stream",
     "text": [
      "22\n"
     ]
    }
   ],
   "source": [
    "print(tupla1[-6])"
   ]
  },
  {
   "cell_type": "markdown",
   "metadata": {},
   "source": [
    "##### **5.5. Negative indexing of sequence objects**"
   ]
  },
  {
   "cell_type": "markdown",
   "metadata": {},
   "source": [
    "La regla del índice negativo se aplica a los objetos de rango. \n",
    "\n",
    "<div align=\"center\"><img src=\"https://github.com/Repositorio17092022/RepositorioiImagenes/blob/main/unidad12/Imagen183.PNG?raw=true \" width= \"700px\"/></div>"
   ]
  },
  {
   "cell_type": "code",
   "execution_count": 61,
   "metadata": {},
   "outputs": [
    {
     "name": "stdout",
     "output_type": "stream",
     "text": [
      "1\n"
     ]
    }
   ],
   "source": [
    "ran = range(1,7)\n",
    "print(ran[-6])"
   ]
  },
  {
   "cell_type": "code",
   "execution_count": 62,
   "metadata": {},
   "outputs": [
    {
     "name": "stdout",
     "output_type": "stream",
     "text": [
      "6\n"
     ]
    }
   ],
   "source": [
    "print(ran[-1])"
   ]
  },
  {
   "cell_type": "markdown",
   "metadata": {},
   "source": [
    "##### **5.6. Recortes con índices negativos**"
   ]
  },
  {
   "cell_type": "markdown",
   "metadata": {},
   "source": [
    "El siguiente es el método de corte utilizando índices negativos. \n",
    "\n",
    "[-7:-2]: Incluye los elementos [20, 30, 40, 50, 60] cuando se utiliza el rango de índices negativos\n",
    "\n",
    "<div align=\"center\"><img src=\"https://github.com/Repositorio17092022/RepositorioiImagenes/blob/main/unidad12/Imagen184.PNG?raw=true \" width= \"600px\"/></div>\n",
    "\n",
    "En caso de utilizar índices negativos, se importará hasta el último elemento de la lista al omitir el último índice como se muestra a continuación\n",
    "\n",
    "<div align=\"center\"><img src=\"https://github.com/Repositorio17092022/RepositorioiImagenes/blob/main/unidad12/Imagen185.PNG?raw=true \" width= \"600px\"/></div>\n",
    "\n",
    "Es posible omitir el primer índice en los cortes que utilizan índices negativos. \n",
    "[:-2] = importa el valor hasta el índice -3\n",
    "\n",
    "<div align=\"center\"><img src=\"https://github.com/Repositorio17092022/RepositorioiImagenes/blob/main/unidad12/Imagen186.PNG?raw=true \" width= \"600px\"/></div>"
   ]
  },
  {
   "cell_type": "markdown",
   "metadata": {},
   "source": [
    "### <FONT COLOR=\"blue\"> 6. Aplicaciones de la lente y la gama </FONT>\n"
   ]
  },
  {
   "cell_type": "markdown",
   "metadata": {},
   "source": [
    "##### **6.1. código de ejemplo de gama**"
   ]
  },
  {
   "cell_type": "markdown",
   "metadata": {},
   "source": [
    "Crea la lista_par que tiene como elementos números pares entre 1 y 10 (incluyendo el 10). \n",
    "\n",
    "Utilice la función de impresión para imprimir la lista de la siguiente manera"
   ]
  },
  {
   "cell_type": "code",
   "execution_count": 63,
   "metadata": {},
   "outputs": [
    {
     "name": "stdout",
     "output_type": "stream",
     "text": [
      "lista_par =  [2, 4, 6, 8, 10]\n"
     ]
    }
   ],
   "source": [
    "lista_par = list(range(2, 11 ,2))\n",
    "print('lista_par = ',lista_par)"
   ]
  },
  {
   "cell_type": "markdown",
   "metadata": {},
   "source": [
    "La secuencia creada por la función range se convierte en lista mediante la función list.\n",
    "\n",
    "Como el último argumento de range es 2, se incrementa sumando 2 de 2 a 10. Como resultado, los elementos son 2, 4, 6, 8, 10.\n",
    "\n",
    "Se pueden crear fácilmente listas con varios números convirtiendo el rango en tipo lista"
   ]
  },
  {
   "cell_type": "code",
   "execution_count": 64,
   "metadata": {},
   "outputs": [
    {
     "data": {
      "text/plain": [
       "[0, 1, 2, 3, 4, 5, 6, 7, 8, 9]"
      ]
     },
     "execution_count": 64,
     "metadata": {},
     "output_type": "execute_result"
    }
   ],
   "source": [
    "list(range(10))"
   ]
  },
  {
   "cell_type": "code",
   "execution_count": 65,
   "metadata": {},
   "outputs": [
    {
     "data": {
      "text/plain": [
       "[2, 3, 4, 5, 6, 7, 8, 9]"
      ]
     },
     "execution_count": 65,
     "metadata": {},
     "output_type": "execute_result"
    }
   ],
   "source": [
    "list(range(2, 10))"
   ]
  },
  {
   "cell_type": "code",
   "execution_count": 66,
   "metadata": {},
   "outputs": [
    {
     "data": {
      "text/plain": [
       "[2, 5, 8]"
      ]
     },
     "execution_count": 66,
     "metadata": {},
     "output_type": "execute_result"
    }
   ],
   "source": [
    "list(range(2, 10, 3))"
   ]
  },
  {
   "cell_type": "markdown",
   "metadata": {},
   "source": [
    "##### **6.2. len: ejemplos de código**"
   ]
  },
  {
   "cell_type": "markdown",
   "metadata": {},
   "source": [
    "Crea una lista llamada \"naciones\" que tenga como elementos 'Corea', 'China', 'Rusia', 'Malasia'. A continuación, imprime el último elemento de la lista utilizando el índice len(nations)-1."
   ]
  },
  {
   "cell_type": "code",
   "execution_count": 67,
   "metadata": {},
   "outputs": [
    {
     "name": "stdout",
     "output_type": "stream",
     "text": [
      "último elemento de naciones:  Malaysia\n"
     ]
    }
   ],
   "source": [
    "naciones = ['Korea', 'China', 'Russia', 'Malaysia']\n",
    "print(\"último elemento de naciones: \", naciones[len(naciones)-1])"
   ]
  },
  {
   "cell_type": "markdown",
   "metadata": {},
   "source": [
    "Utilizar los nombres de los países como elementos de la lista.\n",
    "\n",
    "Aproximación al último índice restando 1 a la longitud obtenida por la función len"
   ]
  },
  {
   "cell_type": "markdown",
   "metadata": {},
   "source": [
    "##### **6.3. Código ASCII de la letra**\n"
   ]
  },
  {
   "cell_type": "markdown",
   "metadata": {},
   "source": [
    "Si hay una tupla a que tiene elementos de ('A','B','C') y una tupla b con elementos de ('A','B','D'), entonces el valor del código de C es 67 y D es 68. Por tanto, a > b es Falso y a < b es Verdadero. Se determina comparando el tamaño de los elementos de la tupla.\n"
   ]
  },
  {
   "cell_type": "code",
   "execution_count": 68,
   "metadata": {},
   "outputs": [],
   "source": [
    "a = ['A', 'B', 'C']\n",
    "b = ['A', 'B', 'D']"
   ]
  },
  {
   "cell_type": "code",
   "execution_count": 69,
   "metadata": {},
   "outputs": [
    {
     "data": {
      "text/plain": [
       "67"
      ]
     },
     "execution_count": 69,
     "metadata": {},
     "output_type": "execute_result"
    }
   ],
   "source": [
    "ord('C')"
   ]
  },
  {
   "cell_type": "code",
   "execution_count": 70,
   "metadata": {},
   "outputs": [
    {
     "data": {
      "text/plain": [
       "68"
      ]
     },
     "execution_count": 70,
     "metadata": {},
     "output_type": "execute_result"
    }
   ],
   "source": [
    "ord('D')"
   ]
  },
  {
   "cell_type": "code",
   "execution_count": 71,
   "metadata": {},
   "outputs": [
    {
     "data": {
      "text/plain": [
       "False"
      ]
     },
     "execution_count": 71,
     "metadata": {},
     "output_type": "execute_result"
    }
   ],
   "source": [
    "a>b"
   ]
  },
  {
   "cell_type": "code",
   "execution_count": 72,
   "metadata": {},
   "outputs": [
    {
     "data": {
      "text/plain": [
       "True"
      ]
     },
     "execution_count": 72,
     "metadata": {},
     "output_type": "execute_result"
    }
   ],
   "source": [
    "a<b"
   ]
  },
  {
   "cell_type": "markdown",
   "metadata": {},
   "source": [
    "**<h3>💡 Un paso más</h3>**\n",
    "\n",
    "**¿Qué es el código ASCII utilizado en las cadenas?**\n",
    "\n",
    "El código ASCII es la abreviatura de 'American Standard Code for Information Interchange'. Designa y gestiona un número para cada carácter y es el código de caracteres más fundamental.\n",
    "\n",
    "En las primeras épocas del desarrollo informático, el método para expresar una letra 'A' difería en cada empresa de informática. Por ejemplo, la empresa A utilizaba 120 y la empresa B utilizaba 45 para expresar una letra 'A'.\n",
    "\n",
    "A medida que la industria informática fue evolucionando, fue necesario convertir los caracteres y símbolos en una misma expresión numérica para comunicarse con otros programas u ordenadores. Así, se desarrolló el código ASCII, que es un código de siete bits que asigna 128 números en alfabetos, números, letras especiales, caracteres de control, etc. \n"
   ]
  },
  {
   "cell_type": "markdown",
   "metadata": {},
   "source": [
    "## <FONT COLOR=\"blue\"> Codificación en papel </FONT>"
   ]
  },
  {
   "cell_type": "markdown",
   "metadata": {},
   "source": [
    "#### <FONT COLOR=\"blue\"> **Q1.** </FONT>"
   ]
  },
  {
   "cell_type": "markdown",
   "metadata": {},
   "source": [
    "Predecir el resultado de la ejecución del siguiente código y proporcionar el resultado escrito a mano. \n",
    "\n",
    "<table>\n",
    "<tr>\n",
    "  <td><strong>Condicion para la ejecución</strong></td>\n",
    "  <td>Predecir el resultado del siguiente programa y proporcionar <br>los resultados de la codificación a mano.</td>\n",
    "<tr>\n",
    "  <td><strong>Tiempo</strong></td>\n",
    "  <td>5 Minutos</td>\n",
    "<tr>\n",
    "</table>\n",
    "\n",
    "**Ejemplo de salida:**\n",
    "\n",
    "<img src=\"https://github.com/Repositorio17092022/RepositorioiImagenes/blob/main/unidad12/Imagen192.PNG?raw=true\" style=\"width: 70vw;\"/>\n",
    "\n",
    "*Escriba el código completo y los resultados esperados en la nota*"
   ]
  },
  {
   "cell_type": "markdown",
   "metadata": {},
   "source": [
    "#### <FONT COLOR=\"blue\"> **Q2.** </FONT>"
   ]
  },
  {
   "cell_type": "markdown",
   "metadata": {},
   "source": [
    "La siguiente tupla registra las ventas diarias de una tienda durante 10 días. Escribe un código para imprimir cuántos días se redujeron las ventas en comparación con el día anterior. (Sugerencia: compara los valores iterando los elementos con la sentencia de iteración).\n",
    "\n",
    "<table>\n",
    "<tr>\n",
    "  <td><strong>Condicion para la ejecución</strong></td>\n",
    "  <td>Registro diario de ventas: (100, 121, 120, 130, 140, 120, 122, 123, 190, <br>\n",
    "En los últimos 10 días, 3 días han reducido las ventas en comparación con el día anterior.\n",
    "</td>\n",
    "<tr>\n",
    "  <td><strong>Tiempo</strong></td>\n",
    "  <td>10 Minutos</td>\n",
    "<tr>\n",
    "</table>\n",
    "\n",
    "*Escriba el código completo y los resultados esperados en la nota*"
   ]
  },
  {
   "cell_type": "markdown",
   "metadata": {},
   "source": [
    "## <FONT COLOR=\"blue\"> Vamos a codificar </FONT>\n"
   ]
  },
  {
   "cell_type": "markdown",
   "metadata": {},
   "source": [
    "### <FONT COLOR=\"blue\"> 1. La tupla es un objeto inmutable entre los objetos de la secuencia  </FONT>\n"
   ]
  },
  {
   "cell_type": "markdown",
   "metadata": {},
   "source": [
    "##### **1.1. Definición de tupla**"
   ]
  },
  {
   "cell_type": "markdown",
   "metadata": {},
   "source": [
    "La tupla es un tipo de datos de colección que tiene múltiples elementos (valores de elementos).\n",
    "\n",
    "El tipo de datos de colección se refiere a un tipo de datos que puede tener muchos elementos como la lista, la tupla, el diccionario y el conjunto.\n",
    "\n",
    "Sin embargo, a diferencia de la lista, es imposible cambiar la secuencia de elementos una vez designados.\n",
    "t = ('uno', 'dos', 'tres')\n",
    "\n",
    "Inmutable\n",
    "\n",
    "- Imposible modificar o eliminar un objeto de la tupla \n"
   ]
  },
  {
   "cell_type": "markdown",
   "metadata": {},
   "source": [
    "##### **1.2. Cómo crear una tupla**"
   ]
  },
  {
   "cell_type": "markdown",
   "metadata": {},
   "source": [
    "Hay muchos métodos diferentes para crear una tupla.\n",
    "\n",
    "<table>\n",
    "<tr>\n",
    "  <td>Creación de una tupla vacía</td>\n",
    "  <td>tupla0 = tuple() #hay que usar paréntesis vacíos</td>\n",
    "<tr>\n",
    "  <td>Creación de una tupla con un elemento</td>\n",
    "  <td>tupla1 = (1,) #debe usar una coma</td>\n",
    "<tr>\n",
    "  <td>Creación de una tupla básica mediante paréntesis</td>\n",
    "  <td>tupla2 = (1, 2, 3, 4)</td>\n",
    "<tr>\n",
    "  <td>Creación de una tupla simple</td>\n",
    "  <td>tupla3 = 1, 2, 3, 4</td>\n",
    "<tr>\n",
    "  <td>CCreación de una tupla a partir de una lista</td>\n",
    "  <td>n_lista = [1, 2, 3, 4] <br>tupla4 = tuple(n_lista)</td>\n",
    "<tr>\n",
    "</table>\n"
   ]
  },
  {
   "cell_type": "markdown",
   "metadata": {},
   "source": [
    "##### **1.3. Variable tup de tipo entero**"
   ]
  },
  {
   "cell_type": "markdown",
   "metadata": {},
   "source": [
    "Precauciones para la declaración de tuplas con un elemento: variable tup de tipo entero.\n",
    "\n",
    "Al intentar crear una tupla con un elemento, si asignas tup = (100), se considera lo mismo que tup = 100, por lo que la tupla se convierte en un entero, no en una tupla. Por lo tanto, asegúrate de insertar una coma como tup = (100,) cuando uses tup como tupla.\n"
   ]
  },
  {
   "cell_type": "code",
   "execution_count": 73,
   "metadata": {},
   "outputs": [
    {
     "name": "stdout",
     "output_type": "stream",
     "text": [
      "100\n",
      "<class 'int'>\n"
     ]
    }
   ],
   "source": [
    "tup = (100)\n",
    "print(tup)\n",
    "print(type(tup))"
   ]
  },
  {
   "cell_type": "markdown",
   "metadata": {},
   "source": [
    "**Linea 1**\n",
    "\n",
    "Si se introduce tup = (100), el resultado será tup = 100.\n",
    "\n",
    "El tipo de datos de tup pasa a ser de tipo int. \n"
   ]
  },
  {
   "cell_type": "markdown",
   "metadata": {},
   "source": [
    "##### **1.4. Tuple type tup variable**"
   ]
  },
  {
   "cell_type": "markdown",
   "metadata": {},
   "source": [
    "Al intentar crear una tupla con un elemento, si asignas tup = (100), se considera lo mismo que tup = 100, por lo que la tupla se convierte en un entero, no en una tupla. \n",
    "\n",
    "Por lo tanto, asegúrate de insertar una coma como tup = (100,) cuando uses tup como tupla"
   ]
  },
  {
   "cell_type": "code",
   "execution_count": 74,
   "metadata": {},
   "outputs": [
    {
     "name": "stdout",
     "output_type": "stream",
     "text": [
      "(100,)\n",
      "<class 'tuple'>\n"
     ]
    }
   ],
   "source": [
    "tup = (100,)\n",
    "print(tup)\n",
    "print(type(tup))"
   ]
  },
  {
   "cell_type": "markdown",
   "metadata": {},
   "source": [
    "**Linea 1**\n",
    "\n",
    "Si se introduce tup = (100), el resultado será tup = 100.\n",
    "\n",
    "El tipo de datos de tup pasa a ser de tipo tuple. \n"
   ]
  },
  {
   "cell_type": "markdown",
   "metadata": {},
   "source": [
    "##### **1.5. Diferencias entre tupla y lista**\n"
   ]
  },
  {
   "cell_type": "markdown",
   "metadata": {},
   "source": [
    "A diferencia de la lista, los valores internos de una tupla no pueden ser modificados. Por lo tanto, la operación de asignación de un elemento individual, como se muestra a continuación, dará lugar a un error.\n",
    "\n",
    "Esta propiedad se llama inmutable.\n",
    "\n",
    "**❗ TypeError**"
   ]
  },
  {
   "cell_type": "code",
   "execution_count": 75,
   "metadata": {},
   "outputs": [
    {
     "ename": "TypeError",
     "evalue": "'tuple' object does not support item assignment",
     "output_type": "error",
     "traceback": [
      "\u001b[1;31m---------------------------------------------------------------------------\u001b[0m",
      "\u001b[1;31mTypeError\u001b[0m                                 Traceback (most recent call last)",
      "Cell \u001b[1;32mIn [75], line 2\u001b[0m\n\u001b[0;32m      1\u001b[0m t \u001b[38;5;241m=\u001b[39m (\u001b[38;5;241m0\u001b[39m, \u001b[38;5;241m1\u001b[39m, \u001b[38;5;241m2\u001b[39m, \u001b[38;5;241m3\u001b[39m, \u001b[38;5;241m4\u001b[39m)\n\u001b[1;32m----> 2\u001b[0m \u001b[43mt\u001b[49m\u001b[43m[\u001b[49m\u001b[38;5;241;43m0\u001b[39;49m\u001b[43m]\u001b[49m \u001b[38;5;241m=\u001b[39m \u001b[38;5;241m100\u001b[39m\n",
      "\u001b[1;31mTypeError\u001b[0m: 'tuple' object does not support item assignment"
     ]
    }
   ],
   "source": [
    "t = (0, 1, 2, 3, 4)\n",
    "t[0] = 100"
   ]
  },
  {
   "cell_type": "markdown",
   "metadata": {},
   "source": [
    "##### **1.6. Empaquetamiento y desempaquetamiento**"
   ]
  },
  {
   "cell_type": "markdown",
   "metadata": {},
   "source": [
    "Empaquetamiento: Se refiere a añadir muchos valores a una variable.\n",
    "\n",
    "Desempaquetar: Se refiere a tomar muchos valores de una variable empaquetada\n",
    "\n",
    "<div align=\"center\"><img src=\"https://github.com/Repositorio17092022/RepositorioiImagenes/blob/main/unidad12/Imagen200.PNG?raw=true \" width= \"700px\"/></div>"
   ]
  },
  {
   "cell_type": "markdown",
   "metadata": {},
   "source": [
    "##### **1.7. Intercambiar**"
   ]
  },
  {
   "cell_type": "markdown",
   "metadata": {},
   "source": [
    "a está asignada con 100 y b con 200, y la misión es intercambiar los valores de dos variables. \n",
    "\n",
    "El código siguiente es un método de intercambio que se utiliza generalmente en el lenguaje C o Java. \n",
    "\n",
    "Para el intercambio, se utiliza una variable temporal temp para tres sentencias de asignación.\n",
    "\n",
    "Python utiliza un método mucho más sencillo."
   ]
  },
  {
   "cell_type": "code",
   "execution_count": 8,
   "metadata": {},
   "outputs": [
    {
     "name": "stdout",
     "output_type": "stream",
     "text": [
      "Antes del intercambio a= 100  b= 200\n",
      "Despues del intercambio a= 200  b= 100\n"
     ]
    }
   ],
   "source": [
    "a = 100\n",
    "b = 200\n",
    "print('Antes del intercambio a=', a, ' b=',b)\n",
    "temp = a\n",
    "a = b\n",
    "b = temp\n",
    "print('Despues del intercambio a=', a, ' b=',b)"
   ]
  },
  {
   "cell_type": "markdown",
   "metadata": {},
   "source": [
    "Utilice la tupla de Python para crear fácilmente el código de la página anterior. \n",
    "\n",
    "En Python, el intercambio es posible utilizando una sola línea a, b = b, a como se muestra a continuación.\n",
    "\n",
    "El código es muy sencillo e intuitivo. \n",
    "\n"
   ]
  },
  {
   "cell_type": "code",
   "execution_count": 10,
   "metadata": {},
   "outputs": [
    {
     "name": "stdout",
     "output_type": "stream",
     "text": [
      "Antes del intercambio a= 100  b= 200\n",
      "Despuees del intercambio a= 200  b= 100\n"
     ]
    }
   ],
   "source": [
    "a = 100\n",
    "b = 200\n",
    "print('Antes del intercambio a=', a, ' b=',b)\n",
    "a, b = b, a\n",
    "print('Despuees del intercambio a=', a, ' b=',b)"
   ]
  },
  {
   "cell_type": "markdown",
   "metadata": {},
   "source": [
    "##### **1.8. Cómo ordenar la tupla**"
   ]
  },
  {
   "cell_type": "markdown",
   "metadata": {},
   "source": [
    "Debido a que los elementos no pueden ser modificados en la tupla, el uso del método de ordenación no está permitido.\n",
    "\n",
    "Al ordenar los elementos de la tupla, convierta la tupla en una lista y utilice el método sort para ordenar los números"
   ]
  },
  {
   "cell_type": "code",
   "execution_count": 11,
   "metadata": {},
   "outputs": [
    {
     "name": "stdout",
     "output_type": "stream",
     "text": [
      "[1, 2, 2, 3, 3, 3, 4, 5, 7, 9, 9]\n"
     ]
    }
   ],
   "source": [
    "tup = (1,2, 5, 4, 3, 2, 9, 3, 7, 3, 9)\n",
    "temp = list(tup)\n",
    "temp.sort()\n",
    "print(temp)"
   ]
  },
  {
   "cell_type": "markdown",
   "metadata": {},
   "source": [
    "## <FONT COLOR=\"blue\"> Programación por parejas </FONT>\n"
   ]
  },
  {
   "cell_type": "markdown",
   "metadata": {},
   "source": [
    "### <FONT COLOR=\"blue\"> **Práctica de la programación en parejas** </FONT>\n"
   ]
  },
  {
   "cell_type": "markdown",
   "metadata": {},
   "source": [
    "**Pautas, mecanismos y plan de contingencia**\n",
    "\n",
    "La preparación de la programación por parejas implica el establecimiento de pautas y mecanismos que ayuden a los alumnos a emparejarse correctamente y a mantenerlos emparejados. Por ejemplo, los alumnos deben turnarse para \"manejar el ratón\". Una preparación eficaz requiere planes de contingencia en caso de que uno de los compañeros esté ausente o decida no participar por una razón u otra. En estos casos, es importante dejar claro que el alumno activo no será castigado porque el emparejamiento no haya funcionado bien.\n",
    "\n",
    "**Emparejar a compañeros con capacidades similares, no necesariamente iguales**\n",
    "\n",
    "La programación en parejas puede ser eficaz cuando se empareja a estudiantes con capacidades similares, aunque no necesariamente iguales. El emparejamiento de estudiantes con capacidades no iguales a menudo\n",
    "puede conducir a una participación desequilibrada. Los profesores deben hacer hincapié en que la programación en parejas no es una estrategia de \"divide y vencerás\", sino un verdadero esfuerzo de colaboración en todos los esfuerzos de todo el proyecto. Los profesores deben evitar emparejar a estudiantes muy débiles con estudiantes muy fuertes.\n",
    "\n",
    "**Motivar a los alumnos ofreciéndoles incentivos adicionales**\n",
    "\n",
    "Ofrecer incentivos adicionales puede ayudar a motivar a los estudiantes a emparejarse, especialmente con los estudiantes avanzados. A algunos profesores les ha resultado útil exigir a los alumnos que se emparejen para una o dos tareas.\n",
    "\n",
    "**Evitar las trampas en la colaboración**\n",
    "\n",
    "El reto para el profesor es encontrar formas de evaluar los resultados individuales, al tiempo que se aprovechan los beneficios de la colaboración. ¿Cómo saber si un alumno aprendió o hizo trampa? Los expertos recomiendan revisar el diseño y la evaluación del curso, así como discutir explícita y concretamente con los estudiantes sobre los comportamientos que se interpretarán como trampa. Los expertos animan a los profesores a hacer que las tareas sean significativas para los estudiantes y a explicarles el valor de lo que aprenderán al completarlas.\n",
    "\n",
    "**Entorno de aprendizaje colaborativo**\n",
    "\n",
    "Un entorno de aprendizaje colaborativo se produce cada vez que un instructor requiere que los estudiantes trabajen juntos en actividades de aprendizaje. El entorno de aprendizaje colaborativo puede incluir tanto actividades formales como informales y puede o no incluir una evaluación directa. Por ejemplo, parejas de estudiantes trabajan en tareas de programación; pequeños grupos de estudiantes discuten las posibles respuestas a una pregunta del profesor durante la clase; y los estudiantes trabajan juntos fuera de clase para aprender nuevos conceptos.\n",
    "El aprendizaje colaborativo es distinto de los proyectos en los que los estudiantes \"dividen y conquistan\".\n",
    "Cuando los estudiantes se dividen el trabajo, cada uno es responsable de una parte de la resolución del problema y las oportunidades de trabajar con otros son muy limitadas. En los entornos de colaboración, los estudiantes participan en\n",
    "conversación intelectual entre ellos."
   ]
  },
  {
   "cell_type": "markdown",
   "metadata": {},
   "source": [
    "### <FONT COLOR=\"blue\"> **Q1.** </FONT>"
   ]
  },
  {
   "cell_type": "markdown",
   "metadata": {},
   "source": [
    "Devuelve el elemento con el máximo número de ocurrencias. Cuando hay más de dos elementos frecuentes, imprime el número más alto.\n",
    "\n",
    "**Ejemplo de salida:**\n",
    "\n",
    "*Tupla obtenida: (1, 2, 5, 4, 3, 2, 1, 9, 9, 3, 7, 3, 9)*\n",
    "\n",
    "*El elemento mas frecuente: 9*"
   ]
  },
  {
   "cell_type": "markdown",
   "metadata": {},
   "source": [
    "### <FONT COLOR=\"blue\"> **Q2.** </FONT>"
   ]
  },
  {
   "cell_type": "markdown",
   "metadata": {},
   "source": [
    "En el ejemplo de salida de abajo, hay tuplas que contienen elementos, así como tuplas vacías, cadenas vacías y listas vacías que no tienen elementos.\n",
    "Escribe un código para eliminar estas tuplas vacías, cadenas vacías y listas vacías de la lista dada a continuación. (Sin embargo, no elimine la tupla (,) porque se considera que tiene una tupla vacía). \n",
    "\n",
    "**Ejemplo de salida:**\n",
    "\n",
    "*Tupla obtenida: [(), (1,), [], 'abc', (), (), (1,), ('a',), ('a', 'b'), ((),), '']*\n",
    "\n",
    "*El elemento mas frecuente: [(1,), 'abc', (1,), ('a',), ('a', 'b'), ((),)]*"
   ]
  }
 ],
 "metadata": {
  "kernelspec": {
   "display_name": "Python 3.9.13 64-bit (microsoft store)",
   "language": "python",
   "name": "python3"
  },
  "language_info": {
   "codemirror_mode": {
    "name": "ipython",
    "version": 3
   },
   "file_extension": ".py",
   "mimetype": "text/x-python",
   "name": "python",
   "nbconvert_exporter": "python",
   "pygments_lexer": "ipython3",
   "version": "3.9.13"
  },
  "orig_nbformat": 4,
  "vscode": {
   "interpreter": {
    "hash": "d6ff7cb00638fb92356a42c28981a177178b7e1976aa8ecd498ce1508ea8d5e4"
   }
  }
 },
 "nbformat": 4,
 "nbformat_minor": 2
}
