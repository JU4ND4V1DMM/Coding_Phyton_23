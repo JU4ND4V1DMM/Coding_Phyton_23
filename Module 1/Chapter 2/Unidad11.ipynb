{
  "cells": [
    {
      "cell_type": "markdown",
      "metadata": {},
      "source": [
        "# <FONT COLOR=\"blue\"> **Samsung Innovation Campus**</FONT>  \n",
        "\n",
        "## <FONT COLOR=\"blue\">**Codificación y Programación**</FONT>\n",
        "\n",
        "\n",
        "# **Capítulo 2. Programación básica de Python - Tipo de datos de secuencia en Python**\n",
        "\n",
        "## Objetivos del capítulo\n",
        "- Los alumnos podrán usar tipos de datos de secuencia, como la lista, el diccionario, la tupla y el conjunto de Python. Python se caracteriza al proporcionar estructuras de datos enriquecidas que incluyen tipos de datos de secuencia, y los alumnos utilizarán esas estructuras de datos para adquirir habilidades de codificación avanzadas. \n",
        "\n",
        "## Contenido del capítulo\n",
        "- Unidad 10. Tipos de datos: lista y tupla\n",
        "- Unidad 11. Tipos de datos: diccionario\n",
        "- Unidad 12. Tipos de datos: secuencia\n",
        "- Unidad 13. Listas 2D\n",
        "- Unidad 14. Diccionario: Método 1\n",
        "- Unidad 15. Diccionario: Método 2\n",
        "- Unidad 16. Tipo de datos: Set"
      ]
    },
    {
      "cell_type": "markdown",
      "metadata": {},
      "source": [
        "# **Unidad 11. Tipo de datos: diccionario**"
      ]
    },
    {
      "cell_type": "markdown",
      "metadata": {},
      "source": [
        "## Objetivos de aprendizaje\n",
        "\n",
        "- Ser capaz de crear objetos de tipo diccionario y elementos con valores de datos\n",
        "- Comprender las diferencias entre el diccionario y la lista y ser capaz de aplicar los tipos de datos adecuados para diferentes condiciones\n",
        "- Ser capaz de acercarse a la clave del diccionario y asignar valores utilizando la clave \n",
        "\n",
        "## Resumen de aprendizaje\n",
        "\n",
        "- Aprender a utilizar los tipos de datos del diccionario para extraer valores utilizando una clave\n",
        "- Aprender a acercarse a la clave del diccionario y asignar valores utilizando la clave\n",
        "- Aprender a devolver el valor del objeto del diccionario utilizando el método pop proporcionado por el diccionario \n",
        "- Aprenda el tipo de datos json y cómo convertir los datos en diccionario\n",
        "\n",
        "## Conceptos que deberá conocer de las unidades anteriores\n",
        "\n",
        "- Conocimiento de la lista y la tupla para procesar múltiples datos como un solo dato \n",
        "- Cómo abordar los elementos de la lista y la tupla mediante el uso de índices \n",
        "- Cómo hacer slicing para cortar una parte de la secuencia \n",
        "\n",
        "## Palabras Clave\n",
        "\n",
        "<table>\n",
        "<tr>\n",
        "  <td><strong>Diccionario</strong></td>\n",
        "  <td><strong>Enfoque clave y asignación</strong></td>\n",
        "<tr>\n",
        "  <td><strong>json</strong></td>\n",
        "  <td><strong>Clave-Valor</strong></td>\n",
        "<tr>\n",
        "</table>\n"
      ]
    },
    {
      "cell_type": "markdown",
      "metadata": {},
      "source": [
        "## <FONT COLOR=\"blue\">Misión </FONT>"
      ]
    },
    {
      "cell_type": "markdown",
      "metadata": {},
      "source": [
        "### <FONT COLOR=\"blue\">1. Problema del mundo real </FONT>"
      ]
    },
    {
      "cell_type": "markdown",
      "metadata": {},
      "source": [
        "#####  **1.1. El pedido de quiosco no es amigable para las personas mayores.**"
      ]
    },
    {
      "cell_type": "markdown",
      "metadata": {},
      "source": [
        "<div align=\"center\"><img src=\"https://github.com/Repositorio17092022/RepositorioiImagenes/blob/main/unidad11/Imagen93.png?raw=true\" width = \"300px\"/></div>\n",
        "\n",
        "Debido a la propagación de la pandemia en todo el mundo, muchas cosas se han vuelto sin contacto. La difusión de COVID-19 dio lugar a que el gobierno de Corea apoyara la instalación de quioscos sin personal en cafés y restaurantes. Una encuesta demostró que las personas de entre 20 y 30 años están muy satisfechas con hacer pedidos en un quiosco.\n",
        "\n",
        "Sin embargo, todavía hay muchas personas, incluidas las de edad avanzada y otras que no están familiarizadas con el uso de la tecnología digital, que encuentran difícil utilizar los servicios sin contacto. \n",
        "\n",
        "Por ello, vamos a conocer la tecnología básica para prestar buenos servicios a los clientes mediante la misión de introducir e imprimir los menús de la cafetería."
      ]
    },
    {
      "cell_type": "markdown",
      "metadata": {},
      "source": [
        "#####  **1.2. Cómo combinar digitalmente dos tipos de datos como uno solo**"
      ]
    },
    {
      "cell_type": "markdown",
      "metadata": {},
      "source": [
        "<div align=\"center\"><img src=\"https://github.com/Repositorio17092022/RepositorioiImagenes/blob/main/unidad11/Imagen94.png?raw=true\" width = \"300px\"/></div>\n",
        "\n",
        "La mayoría de las cafeterías muestran la bebida y su precio juntos, como un conjunto. Por lo tanto, si se combina \"bebida:precio\" como un único conjunto, sería fácil escribir un programa de pedidos para la cafetería sin personal.\n",
        "\n",
        "Sin embargo, al listar la bebida y el precio utilizando la lista, sería difícil trabajar con ellos porque tienen diferentes tipos de datos.\n",
        "\n",
        "El problema es encontrar un método para combinar el menú y el precio juntos en todo momento, integrando dos tipos de datos diferentes como uno solo."
      ]
    },
    {
      "cell_type": "markdown",
      "metadata": {},
      "source": [
        "#####  **1.3. Elaboración de un programa de menús de cafetería**"
      ]
    },
    {
      "cell_type": "markdown",
      "metadata": {},
      "source": [
        "\n",
        "\n",
        "<div align=\"center\"><img src=\"https://github.com/Repositorio17092022/RepositorioiImagenes/blob/main/unidad11/Imagen95.png?raw=true\" width = \"300px\"/></div>\n",
        "\n",
        "En esta misión, se utilizará una estructura de datos llamada diccionario para imprimir el menú y el precio de una cafetería. \n",
        "\n",
        "Esta cafetería tiene cinco menús, incluyendo Americano, Americano helado, Cappuccino, Caffe Latte y Espresso, y los precios son 3.000 KRW, 3.500 KRW, 4.000 KRW, 4.500 KRW y 3.600 KRW, respectivamente.\n",
        "\n",
        "Además, intenta distinguir si el artículo está en el menú o no para imprimirlo cuando el usuario introduce un artículo."
      ]
    },
    {
      "cell_type": "markdown",
      "metadata": {},
      "source": [
        "### <FONT COLOR=\"blue\">2. Misión </FONT>"
      ]
    },
    {
      "cell_type": "markdown",
      "metadata": {},
      "source": [
        "#####  **2.1. Cómo funciona el menú de la cafetería #1**"
      ]
    },
    {
      "cell_type": "code",
      "execution_count": 19,
      "metadata": {},
      "outputs": [
        {
          "name": "stdout",
          "output_type": "stream",
          "text": [
            "Americano        price : 3,000KRW\n",
            "\n",
            "Ice Americano    price : 3,500KRW\n",
            "\n",
            "Cappuccino       price : 4,000KRW\n",
            "\n",
            "Cafe Latte       price : 4,500KRW\n",
            "\n",
            "Espresso         price : 3,600KRW\n"
          ]
        }
      ],
      "source": [
        "menu = {'Americano': 3000, 'Ice Americano': 3500, 'Cappuccino': 4000, 'Cafe Latte': 4500, 'Espresso': 3600}\n",
        "for key in menu:\n",
        "    print(\"{:16s} price : {:,}KRW\".format(key, menu[key]))"
      ]
    },
    {
      "cell_type": "markdown",
      "metadata": {},
      "source": [
        "Cómo funciona el menú de la cafetería #2"
      ]
    },
    {
      "cell_type": "code",
      "execution_count": 22,
      "metadata": {},
      "outputs": [
        {
          "name": "stdout",
          "output_type": "stream",
          "text": [
            "Americano        Precio: 3,000 KRW\n",
            "\n",
            "Ice Americano    Precio: 3,500 KRW\n",
            "\n",
            "Cappuccino       Precio: 4,000 KRW\n",
            "\n",
            "Cafe Latte       Precio: 4,500 KRW\n",
            "\n",
            "Espresso         Precio: 3,600 KRW\n",
            "\n",
            "Cafe Latte is 4,500KRW. Por favor, haga un pago.\n"
          ]
        }
      ],
      "source": [
        "print('Americano        Precio: 3,000 KRW')\n",
        "print('Ice Americano    Precio: 3,500 KRW')\n",
        "print('Cappuccino       Precio: 4,000 KRW') \n",
        "print('Cafe Latte       Precio: 4,500 KRW')\n",
        "print('Espresso         Precio: 3,600 KRW')\n",
        "eleccion = input('Seleccione un menú de la lista: ')\n",
        "if eleccion in menu.keys():\n",
        "    print('{} is {:,}KRW. Por favor, haga un pago.'.format(eleccion, menu[eleccion]))\n",
        "else: \n",
        "    print('Lo siento.  {} no está en el menu'.format(eleccion))"
      ]
    },
    {
      "cell_type": "markdown",
      "metadata": {},
      "source": [
        "#####  **2.2. Plan de programación nº 1**"
      ]
    },
    {
      "cell_type": "markdown",
      "metadata": {},
      "source": [
        "Pseudocódigo\n",
        "\n",
        "[1] Inicio \n",
        "\n",
        "[2] Introduzca el menú y el precio\n",
        "\n",
        "[3] para la clave en el diccionario, como el número de clave para la impresión hacer {\n",
        "\n",
        "[4] imprimir el menú. }\n",
        "\n",
        "[5] Fin\n",
        "\n",
        "Diagrama de flujo\n",
        "\n",
        "<div align=\"center\"><img src=\"https://github.com/Repositorio17092022/RepositorioiImagenes/blob/main/unidad11/imagen98.PNG?raw=true\" width = \"400px\"/></div>\n",
        "\n",
        "Plan de programación nº 2\n",
        "\n",
        "Pseudocódigo\n",
        "\n",
        "[1] Inicio \n",
        "\n",
        "[2] Imprima el menú elegido\n",
        "\n",
        "[3] Seleccionar un menú para comer\n",
        "\n",
        "[4] si la bebida que elegí está en el menú, entonces{\n",
        "\n",
        "[5] imprimir el menú }\n",
        "\n",
        "[6] si no{ no está en el menú. imprimir }\n",
        "\n",
        "[7] Fin\n",
        "\n",
        "Diagrama de flujo\n",
        "\n",
        "<div align=\"center\"><img src=\"https://github.com/Repositorio17092022/RepositorioiImagenes/blob/main/unidad11/imagen99.PNG?raw=true\" width = \"400px\"/></div>"
      ]
    },
    {
      "cell_type": "markdown",
      "metadata": {},
      "source": [
        "#####  **2.3. Menú del café código final #1**"
      ]
    },
    {
      "cell_type": "code",
      "execution_count": null,
      "metadata": {},
      "outputs": [],
      "source": [
        "menu = {'Americano': 3000, 'Ice Americano': 3500, 'Cappuccino': 4000, 'Cafe Latte': 4500, 'Espresso': 3600}\n",
        "for key in menu:\n",
        "    print(\"{:16s} price : {:,}KRW\".format(key, menu[key]))"
      ]
    },
    {
      "cell_type": "markdown",
      "metadata": {},
      "source": [
        "Menú del café código final #2"
      ]
    },
    {
      "cell_type": "code",
      "execution_count": null,
      "metadata": {},
      "outputs": [],
      "source": [
        "print('Americano        Precio: 3,000 KRW')\n",
        "print('Ice Americano    Precio: 3,500 KRW')\n",
        "print('Cappuccino       Precio: 4,000 KRW') \n",
        "print('Cafe Latte       Precio: 4,500 KRW')\n",
        "print('Espresso         Precio: 3,600 KRW')\n",
        "eleccion = input('Seleccione un menú de la lista: ')\n",
        "if eleccion in menu.keys():\n",
        "    print('{} is {:,}KRW. Por favor, haga un pago.'.format(eleccion, menu[eleccion]))\n",
        "else: \n",
        "    print('Lo siento.  {} no está en el menu'.format(eleccion))"
      ]
    },
    {
      "cell_type": "markdown",
      "metadata": {},
      "source": [
        "## <FONT COLOR=\"blue\">Concepto clave </FONT>"
      ]
    },
    {
      "cell_type": "markdown",
      "metadata": {},
      "source": [
        "### <FONT COLOR=\"blue\">1. Declaración del diccionario </FONT>"
      ]
    },
    {
      "cell_type": "markdown",
      "metadata": {},
      "source": [
        "#####  **1.1. Definición de Diccionario**"
      ]
    },
    {
      "cell_type": "markdown",
      "metadata": {},
      "source": [
        "- En esta unidad, vamos a discutir el diccionario, que es una estructura de datos extremadamente útil de python.\n",
        "- El diccionario es un tipo de datos que tiene un par clave-valor. \n",
        "- Es una estructura de datos muy utilizada ya que hace referencia al valor mediante la clave.\n",
        "- El diccionario es muy similar a una lista, pero su característica única es que tiene un par clave-valor. \n",
        "- Además, como el diccionario busca el valor mediante una clave, las claves no pueden duplicarse.\n",
        "- El elemento del diccionario se define al estar conectado con dos puntos como [clave] : [valor].\n",
        "- El diccionario consta de más de un elemento.\n",
        "- El [valor] puede buscarse utilizando la [clave], pero el [valor] no puede utilizarse para buscar la [clave].\n",
        "\n",
        "<div align=\"center\"><img src=\"https://github.com/Repositorio17092022/RepositorioiImagenes/blob/main/unidad11/imagen104.PNG?raw=true\" width = \"450px\"/></div>\n",
        "\n"
      ]
    },
    {
      "cell_type": "markdown",
      "metadata": {},
      "source": [
        "#####  **1.2 Comparación de la lista y el diccionario**"
      ]
    },
    {
      "cell_type": "markdown",
      "metadata": {},
      "source": [
        "En la lista, se pueden utilizar índices para aproximar cada valor [valor 1], [valor 2], ... [valor n]. Cada valor es el elemento.\n",
        "\n",
        "Los índices de la lista van de 0 a n-1.\n",
        "\n",
        "Por otra parte, el par clave-valor es un elemento del diccionario.\n",
        "\n",
        "<div align=\"center\"><img src=\"https://github.com/Repositorio17092022/RepositorioiImagenes/blob/main/unidad11/imagen105.PNG?raw=true\" width = \"500px\"/></div>"
      ]
    },
    {
      "cell_type": "markdown",
      "metadata": {},
      "source": [
        "#####  **1.3. Sintaxis del diccionario**"
      ]
    },
    {
      "cell_type": "markdown",
      "metadata": {},
      "source": [
        "Esta es la sintaxis que define una lista.\n"
      ]
    },
    {
      "cell_type": "code",
      "execution_count": null,
      "metadata": {},
      "outputs": [],
      "source": [
        "Nombre de la lista = [[valor1], ...]"
      ]
    },
    {
      "cell_type": "markdown",
      "metadata": {},
      "source": [
        "El siguiente es un ejemplo para crear la lista de frutas. \n"
      ]
    },
    {
      "cell_type": "code",
      "execution_count": null,
      "metadata": {},
      "outputs": [],
      "source": [
        "frutas = ['banana', 'apple', 'orange', 'kiwi'] # Lista con cadena"
      ]
    },
    {
      "cell_type": "markdown",
      "metadata": {},
      "source": [
        "Esta es la sintaxis que define un diccionario. El par clave-valor se combina con dos puntos."
      ]
    },
    {
      "cell_type": "code",
      "execution_count": null,
      "metadata": {},
      "outputs": [],
      "source": [
        "Nombre del diccionario = {[altura1] : [valor1], ...}"
      ]
    },
    {
      "cell_type": "code",
      "execution_count": null,
      "metadata": {},
      "outputs": [],
      "source": [
        "persona = {'nombre' : 'David Doe', 'Edad' : '26', 'Peso' : '82'} # Diccionario con nombre, edad, peso"
      ]
    },
    {
      "cell_type": "markdown",
      "metadata": {},
      "source": [
        "### <FONT COLOR=\"blue\">2. Pares clave-valor del diccionario </FONT>"
      ]
    },
    {
      "cell_type": "markdown",
      "metadata": {},
      "source": [
        "#####  **2.1. Impresión de valores mediante la clave del diccionario**"
      ]
    },
    {
      "cell_type": "markdown",
      "metadata": {},
      "source": [
        "Cree un diccionario con la siguiente información. Como se muestra en el código siguiente, es posible buscar a \"David Doe\" a través de la clave del diccionario de persona \"Nombre\", y el mismo método se aplica a \"Edad\" y \"Peso\".\n",
        "\n",
        "<table>\n",
        "<tr>\n",
        "  <td><strong>Item</strong></td>\n",
        "  <td><strong>Clave</strong></td>\n",
        "  <td><strong>Valor</strong></td>\n",
        "<tr>\n",
        "  <td><strong>Item 1</strong></td>\n",
        "  <td><strong>Nombre</strong></td>\n",
        "  <td><strong>'David Doe'</strong></td>\n",
        "<tr>\n",
        "  <td><strong>Item 2</strong></td>\n",
        "  <td><strong>Edad</strong></td>\n",
        "  <td><strong>26</strong></td>\n",
        "<tr>\n",
        "  <td><strong>Item 3</strong></td>\n",
        "  <td><strong>Peso</strong></td>\n",
        "  <td><strong>82</strong></td>\n",
        "</table>"
      ]
    },
    {
      "cell_type": "code",
      "execution_count": 4,
      "metadata": {},
      "outputs": [],
      "source": [
        "persona = {'Nombre' : 'David Doe', 'Edad' : '26', 'Peso' : '82'}"
      ]
    },
    {
      "cell_type": "code",
      "execution_count": 5,
      "metadata": {},
      "outputs": [
        {
          "data": {
            "text/plain": [
              "'David Doe'"
            ]
          },
          "execution_count": 5,
          "metadata": {},
          "output_type": "execute_result"
        }
      ],
      "source": [
        "persona['Nombre']"
      ]
    },
    {
      "cell_type": "code",
      "execution_count": 6,
      "metadata": {},
      "outputs": [
        {
          "data": {
            "text/plain": [
              "'26'"
            ]
          },
          "execution_count": 6,
          "metadata": {},
          "output_type": "execute_result"
        }
      ],
      "source": [
        "persona['Edad']"
      ]
    },
    {
      "cell_type": "code",
      "execution_count": 7,
      "metadata": {},
      "outputs": [
        {
          "data": {
            "text/plain": [
              "'82'"
            ]
          },
          "execution_count": 7,
          "metadata": {},
          "output_type": "execute_result"
        }
      ],
      "source": [
        "persona['Peso']"
      ]
    },
    {
      "cell_type": "markdown",
      "metadata": {},
      "source": [
        "#####  **2.2. Código de ejemplo para el diccionario clave-valor**"
      ]
    },
    {
      "cell_type": "markdown",
      "metadata": {},
      "source": [
        "Crea un nuevo diccionario llamado \"estudiantes\" que tiene pares [número de identificación] : [nombre] de tres estudiantes."
      ]
    },
    {
      "cell_type": "code",
      "execution_count": 8,
      "metadata": {},
      "outputs": [],
      "source": [
        "estudiantes = { 2019001:'John Smith', 2019002:'Jane Carter', 2019003:'Peter Kelly'}"
      ]
    },
    {
      "cell_type": "code",
      "execution_count": 9,
      "metadata": {},
      "outputs": [
        {
          "data": {
            "text/plain": [
              "'John Smith'"
            ]
          },
          "execution_count": 9,
          "metadata": {},
          "output_type": "execute_result"
        }
      ],
      "source": [
        "estudiantes[2019001]"
      ]
    },
    {
      "cell_type": "code",
      "execution_count": 10,
      "metadata": {},
      "outputs": [
        {
          "data": {
            "text/plain": [
              "'Jane Carter'"
            ]
          },
          "execution_count": 10,
          "metadata": {},
          "output_type": "execute_result"
        }
      ],
      "source": [
        "estudiantes[2019002]"
      ]
    },
    {
      "cell_type": "code",
      "execution_count": 11,
      "metadata": {},
      "outputs": [
        {
          "data": {
            "text/plain": [
              "'Peter Kelly'"
            ]
          },
          "execution_count": 11,
          "metadata": {},
          "output_type": "execute_result"
        }
      ],
      "source": [
        "estudiantes[2019003]"
      ]
    },
    {
      "cell_type": "markdown",
      "metadata": {},
      "source": [
        "### <FONT COLOR=\"blue\">3. Enfoque clave y asignación de valores del diccionario </FONT>"
      ]
    },
    {
      "cell_type": "markdown",
      "metadata": {},
      "source": [
        "#####  **3.1. Insertar un nuevo elemento en el diccionario**"
      ]
    },
    {
      "cell_type": "markdown",
      "metadata": {},
      "source": [
        "Utilice el siguiente método para insertar un nuevo elemento en el diccionario."
      ]
    },
    {
      "cell_type": "code",
      "execution_count": null,
      "metadata": {},
      "outputs": [],
      "source": [
        "Nombre_del_diccionario [clave] = valor"
      ]
    },
    {
      "cell_type": "markdown",
      "metadata": {},
      "source": [
        "Para la eliminación, introduzca la clave del elemento del diccionario que se va a eliminar junto a la palabra clave del.\n",
        "\n",
        "Error de clave se produce cuando se intenta eliminar un elemento con una clave no válida."
      ]
    },
    {
      "cell_type": "markdown",
      "metadata": {},
      "source": [
        "#####   **3.2. Inserción y cambio de elementos en el diccionario**"
      ]
    },
    {
      "cell_type": "markdown",
      "metadata": {},
      "source": [
        "Ejemplo de inserción de un elemento en el diccionario: Crear un elemento con la clave \"Trabajo\""
      ]
    },
    {
      "cell_type": "code",
      "execution_count": 13,
      "metadata": {},
      "outputs": [],
      "source": [
        "persona = {'Nombre' : 'David Doe', 'Edad' : '26', 'Peso' : '82'}"
      ]
    },
    {
      "cell_type": "code",
      "execution_count": 14,
      "metadata": {},
      "outputs": [],
      "source": [
        "persona['Trabajo'] = 'Científico de datos'"
      ]
    },
    {
      "cell_type": "code",
      "execution_count": 15,
      "metadata": {},
      "outputs": [
        {
          "data": {
            "text/plain": [
              "{'Nombre': 'David Doe',\n",
              " 'Edad': '26',\n",
              " 'Peso': '82',\n",
              " 'Trabajo': 'Científico de datos'}"
            ]
          },
          "execution_count": 15,
          "metadata": {},
          "output_type": "execute_result"
        }
      ],
      "source": [
        "persona"
      ]
    },
    {
      "cell_type": "markdown",
      "metadata": {},
      "source": [
        "Modificar el ítem del diccionario: Modificar el valor del ítem de 26 a 27 con la clave 'Edad"
      ]
    },
    {
      "cell_type": "code",
      "execution_count": 16,
      "metadata": {},
      "outputs": [],
      "source": [
        "persona = {'Nombre' : 'David Doe', 'Edad' : '26', 'Peso' : '82'}"
      ]
    },
    {
      "cell_type": "code",
      "execution_count": 17,
      "metadata": {},
      "outputs": [],
      "source": [
        "persona['Edad'] = 27"
      ]
    },
    {
      "cell_type": "code",
      "execution_count": 18,
      "metadata": {},
      "outputs": [
        {
          "data": {
            "text/plain": [
              "{'Nombre': 'David Doe', 'Edad': 27, 'Peso': '82'}"
            ]
          },
          "execution_count": 18,
          "metadata": {},
          "output_type": "execute_result"
        }
      ],
      "source": [
        "persona"
      ]
    },
    {
      "cell_type": "markdown",
      "metadata": {},
      "source": [
        "#####  **3.3. Borrar un elemento del diccionario**"
      ]
    },
    {
      "cell_type": "markdown",
      "metadata": {},
      "source": [
        "Borrar el elemento del diccionario: Borrar 'Edad': 26 con el comando del"
      ]
    },
    {
      "cell_type": "code",
      "execution_count": 19,
      "metadata": {},
      "outputs": [],
      "source": [
        "persona = {'Nombre' : 'David Doe', 'Edad' : '26', 'Peso' : '82'}"
      ]
    },
    {
      "cell_type": "code",
      "execution_count": 20,
      "metadata": {},
      "outputs": [],
      "source": [
        "del persona['Edad']"
      ]
    },
    {
      "cell_type": "code",
      "execution_count": 21,
      "metadata": {},
      "outputs": [
        {
          "data": {
            "text/plain": [
              "{'Nombre': 'David Doe', 'Peso': '82'}"
            ]
          },
          "execution_count": 21,
          "metadata": {},
          "output_type": "execute_result"
        }
      ],
      "source": [
        "persona"
      ]
    },
    {
      "cell_type": "markdown",
      "metadata": {},
      "source": [
        "Borrar un elemento del diccionario\n",
        "\n",
        "❗❗ Precauciones al borrar un elemento del diccionario - Se produce un error de clave al borrar con una clave no válida"
      ]
    },
    {
      "cell_type": "code",
      "execution_count": 22,
      "metadata": {},
      "outputs": [],
      "source": [
        "persona = {'Nombre' : 'David Doe', 'Edad' : '26', 'Peso' : '82'}"
      ]
    },
    {
      "cell_type": "code",
      "execution_count": 23,
      "metadata": {},
      "outputs": [
        {
          "ename": "KeyError",
          "evalue": "'ciudad_natal'",
          "output_type": "error",
          "traceback": [
            "\u001b[1;31m---------------------------------------------------------------------------\u001b[0m",
            "\u001b[1;31mKeyError\u001b[0m                                  Traceback (most recent call last)",
            "Cell \u001b[1;32mIn [23], line 1\u001b[0m\n\u001b[1;32m----> 1\u001b[0m \u001b[38;5;28;01mdel\u001b[39;00m persona[\u001b[38;5;124m'\u001b[39m\u001b[38;5;124mciudad_natal\u001b[39m\u001b[38;5;124m'\u001b[39m]\n",
            "\u001b[1;31mKeyError\u001b[0m: 'ciudad_natal'"
          ]
        }
      ],
      "source": [
        "del persona['ciudad_natal']"
      ]
    },
    {
      "cell_type": "markdown",
      "metadata": {},
      "source": [
        "Como se muestra arriba, se produce un error de clave cuando se intenta eliminar un elemento utilizando la clave inválida 'ciudad_natal'. "
      ]
    },
    {
      "cell_type": "markdown",
      "metadata": {},
      "source": [
        "#####  **3.4. Funciones y operadores para el diccionario**"
      ]
    },
    {
      "cell_type": "markdown",
      "metadata": {},
      "source": [
        "Las funciones y operadores aplicables al diccionario son similares a los de la lista.\n",
        "\n",
        "Función len\n",
        "- Permite obtener el número de elementos del diccionario \n",
        "\n",
        "In en el operador\n",
        "- Devuelve verdadero si la clave está presente en el diccionario\n",
        "\n",
        "Not In en el operador\n",
        "- Devuelve verdadero si la clave no se encuentra en el diccionario\n",
        "\n",
        "==, != operador\n",
        "- Comprueba si dos diccionarios tienen el mismo elemento "
      ]
    },
    {
      "cell_type": "code",
      "execution_count": 31,
      "metadata": {},
      "outputs": [],
      "source": [
        "persona = {'Nombre' : 'David Doe', 'Edad' : '26', 'Peso' : '82'}"
      ]
    },
    {
      "cell_type": "code",
      "execution_count": 25,
      "metadata": {},
      "outputs": [
        {
          "data": {
            "text/plain": [
              "3"
            ]
          },
          "execution_count": 25,
          "metadata": {},
          "output_type": "execute_result"
        }
      ],
      "source": [
        "len(persona) # Devuelve el número de elementos del diccionario\n"
      ]
    },
    {
      "cell_type": "code",
      "execution_count": 30,
      "metadata": {},
      "outputs": [
        {
          "data": {
            "text/plain": [
              "True"
            ]
          },
          "execution_count": 30,
          "metadata": {},
          "output_type": "execute_result"
        }
      ],
      "source": [
        "'Nombre' in persona # 'Nombre' se encuentra en la clave\n"
      ]
    },
    {
      "cell_type": "code",
      "execution_count": 27,
      "metadata": {},
      "outputs": [
        {
          "data": {
            "text/plain": [
              "False"
            ]
          },
          "execution_count": 27,
          "metadata": {},
          "output_type": "execute_result"
        }
      ],
      "source": [
        "'Job' in persona # 'Job' no se encuentra en la clave\n"
      ]
    },
    {
      "cell_type": "code",
      "execution_count": 28,
      "metadata": {},
      "outputs": [
        {
          "data": {
            "text/plain": [
              "False"
            ]
          },
          "execution_count": 28,
          "metadata": {},
          "output_type": "execute_result"
        }
      ],
      "source": [
        "'David Doe' in persona # 'David Doe' se encuentra en el valor pero no en la clave (precaución)"
      ]
    },
    {
      "cell_type": "code",
      "execution_count": 29,
      "metadata": {},
      "outputs": [
        {
          "data": {
            "text/plain": [
              "True"
            ]
          },
          "execution_count": 29,
          "metadata": {},
          "output_type": "execute_result"
        }
      ],
      "source": [
        "'David Doe' not in persona # Devuelve True porque 'David Doe' no se encuentra en la clave"
      ]
    },
    {
      "cell_type": "markdown",
      "metadata": {},
      "source": [
        "Recuerde que el valor, no la clave, no afecta al operador \"in\". \n",
        "\n",
        "''David Doe'' está incluido en el valor, pero como no se encuentra en la clave, el operador \"in\" devuelve False. "
      ]
    },
    {
      "cell_type": "code",
      "execution_count": 32,
      "metadata": {},
      "outputs": [
        {
          "data": {
            "text/plain": [
              "False"
            ]
          },
          "execution_count": 32,
          "metadata": {},
          "output_type": "execute_result"
        }
      ],
      "source": [
        "'David Doe' in persona # 'David Doe' se encuentra en el valor pero no en la clave (precaución)"
      ]
    },
    {
      "cell_type": "code",
      "execution_count": 33,
      "metadata": {},
      "outputs": [
        {
          "data": {
            "text/plain": [
              "True"
            ]
          },
          "execution_count": 33,
          "metadata": {},
          "output_type": "execute_result"
        }
      ],
      "source": [
        "'David Doe' not in persona  # Devuelve True porque 'David Doe' no se encuentra en la clave"
      ]
    },
    {
      "cell_type": "markdown",
      "metadata": {},
      "source": [
        "El operador == devuelve verdadero si dos diccionarios tienen el mismo elemento, y falso en caso contrario. \n",
        "\n",
        "El operador != devuelve el valor opuesto. "
      ]
    },
    {
      "cell_type": "code",
      "execution_count": 34,
      "metadata": {},
      "outputs": [],
      "source": [
        "d1 = {'Nombre' : 'David Doe', 'Edad' : 26}"
      ]
    },
    {
      "cell_type": "code",
      "execution_count": 35,
      "metadata": {},
      "outputs": [],
      "source": [
        "d2 = {'Edad' : 26, 'Nombre' : 'David Doe'}"
      ]
    },
    {
      "cell_type": "code",
      "execution_count": 36,
      "metadata": {},
      "outputs": [
        {
          "data": {
            "text/plain": [
              "True"
            ]
          },
          "execution_count": 36,
          "metadata": {},
          "output_type": "execute_result"
        }
      ],
      "source": [
        "d1 == d2"
      ]
    },
    {
      "cell_type": "code",
      "execution_count": 37,
      "metadata": {},
      "outputs": [
        {
          "data": {
            "text/plain": [
              "False"
            ]
          },
          "execution_count": 37,
          "metadata": {},
          "output_type": "execute_result"
        }
      ],
      "source": [
        "d1 != d2"
      ]
    },
    {
      "cell_type": "markdown",
      "metadata": {},
      "source": [
        "#####  **3.5. La operación de comparación no es aplicable en el diccionario**"
      ]
    },
    {
      "cell_type": "markdown",
      "metadata": {},
      "source": [
        "❗❗ Operación de comparación en el diccionario - TypeError "
      ]
    },
    {
      "cell_type": "code",
      "execution_count": 38,
      "metadata": {},
      "outputs": [
        {
          "ename": "TypeError",
          "evalue": "'>' not supported between instances of 'dict' and 'dict'",
          "output_type": "error",
          "traceback": [
            "\u001b[1;31m---------------------------------------------------------------------------\u001b[0m",
            "\u001b[1;31mTypeError\u001b[0m                                 Traceback (most recent call last)",
            "Cell \u001b[1;32mIn [38], line 1\u001b[0m\n\u001b[1;32m----> 1\u001b[0m \u001b[43md1\u001b[49m\u001b[43m \u001b[49m\u001b[38;5;241;43m>\u001b[39;49m\u001b[43m \u001b[49m\u001b[43md2\u001b[49m\n",
            "\u001b[1;31mTypeError\u001b[0m: '>' not supported between instances of 'dict' and 'dict'"
          ]
        }
      ],
      "source": [
        "d1 > d2"
      ]
    },
    {
      "cell_type": "markdown",
      "metadata": {},
      "source": [
        "El diccionario no admite operadores de comparación como >, >=, <, <=. Se produce un TypeError al utilizar los operadores de comparación de tamaño."
      ]
    },
    {
      "cell_type": "markdown",
      "metadata": {},
      "source": [
        "### <FONT COLOR=\"blue\">4. Diccionario de datos json / Conversión de listas </FONT>"
      ]
    },
    {
      "cell_type": "markdown",
      "metadata": {},
      "source": [
        "#####  **4.1. Documento estándar de servicios web**"
      ]
    },
    {
      "cell_type": "markdown",
      "metadata": {},
      "source": [
        "El documento estándar más utilizado para los servicios web es el documento HTML (HyperText Markup Language).\n",
        "\n",
        "El documento HTML es un subconjunto del documento XML.\n",
        "\n",
        "XML (eXtensible Markup Language) es un tipo de archivo que expresa datos estructurales a través de un documento de texto de datos. \n",
        "\n",
        "<div align=\"center\"><img src=\"https://github.com/Repositorio17092022/RepositorioiImagenes/blob/main/unidad11/imagen118.PNG?raw=true\" width = \"450px\"/></div>"
      ]
    },
    {
      "cell_type": "markdown",
      "metadata": {},
      "source": [
        "#####  **4.2. Tipo json**"
      ]
    },
    {
      "cell_type": "markdown",
      "metadata": {},
      "source": [
        "Considere un método para entregar un objeto de datos significativo utilizando un documento de texto. \n",
        "\n",
        "¿Cuáles serían los métodos efectivos para entregar la información como \"Nombre\": \"David Doe\"?\n",
        "\n",
        "Una forma de texto representativa es JSON.\n",
        "- JSON es un formato de texto que puede leer y escribir los datos más rápidamente que XML. \n",
        "- En esta unidad, aprenderemos brevemente a utilizar JSON.\n",
        "\n",
        "<div align=\"center\"><img src=\"https://github.com/Repositorio17092022/RepositorioiImagenes/blob/main/unidad11/imagen119.PNG?raw=true\" width = \"700px\"/></div>"
      ]
    },
    {
      "cell_type": "markdown",
      "metadata": {},
      "source": [
        "#####  **4.3. Definición de json**"
      ]
    },
    {
      "cell_type": "markdown",
      "metadata": {},
      "source": [
        "JSON (JavaScript Object Notation) fue desarrollado para entregar objetos de datos que consisten en \"pares clave-valor\".\n",
        "\n",
        "Estos datos están en un formato estándar abierto que utiliza el texto que podemos leer. Es un formato de datos importante para las comunicaciones entre el navegador y el servidor. \n",
        "\n",
        "Especialmente, se utiliza mucho para expresar los datos cuando se intercambian datos en Internet. \n",
        "\n",
        "Apenas hay restricciones en el tipo de datos, y es especialmente apropiado para expresar variables de un programa informático.\n",
        "\n",
        "Originalmente, se derivó del lenguaje JavaScript, por lo que sigue la sintaxis de JavaScript, pero tiene un formato de datos independiente del lenguaje. \n",
        "\n",
        "Por lo tanto, dado que tiene un lenguaje de programación o plataforma independiente, los códigos para el análisis de la sintaxis y la creación de datos JSON se pueden utilizar fácilmente en muchos lenguajes de programación diferentes, incluyendo C, C++, C#, Java, JavaScript, Perl, Python, etc."
      ]
    },
    {
      "cell_type": "markdown",
      "metadata": {},
      "source": [
        "#####  **4.4. Ejemplo de datos json**"
      ]
    },
    {
      "cell_type": "markdown",
      "metadata": {},
      "source": [
        "A continuación se muestra un ejemplo de archivo JSON. El siguiente JSON incluye información personal como el nombre, la edad, etc.\n",
        "\n",
        "<div align=\"center\"><img src=\"https://github.com/Repositorio17092022/RepositorioiImagenes/blob/main/unidad11/imagen121.PNG?raw=true\" width = \"650px\"/></div>"
      ]
    },
    {
      "cell_type": "markdown",
      "metadata": {},
      "source": [
        "#####  **4.5. Código de ejemplo para convertir datos json en un diccionario**"
      ]
    },
    {
      "cell_type": "markdown",
      "metadata": {},
      "source": [
        "El módulo json proporciona varias funciones para leer archivos o cadenas de tipo json como diccionario y convertirlos en cadenas.\n",
        "\n",
        "Para leer la cadena de tipo json se utiliza la función loads. El siguiente es el proceso de lectura y comprobación de la información de datos personales de tipo diccionario en el tipo de datos json. Los datos de tipo json consisten en cadenas que pueden ser convertidas en tipo diccionario a través de la función loads en el módulo json."
      ]
    },
    {
      "cell_type": "code",
      "execution_count": 48,
      "metadata": {},
      "outputs": [
        {
          "name": "stdout",
          "output_type": "stream",
          "text": [
            "<class 'dict'>\n",
            "\n",
            "David Doe\n",
            "\n",
            "{'Padre': 'John Doe', 'Madre': 'Marry Doe'}\n",
            "\n",
            "True\n"
          ]
        }
      ],
      "source": [
        "import json\n",
        "\n",
        "datos = '{\"Nombre\": \"David Doe\", \"Edad\": 25, \"Hobby\": [\"basketball\"], \"Familia\": {\"Padre\": \"John Doe\", \"Madre\": \"Marry Doe\"}, \"Casado\" : true}'\n",
        "\n",
        "json_datos = json.loads(datos)\n",
        "\n",
        "print(type(json_datos))\n",
        "print(json_datos['Nombre'])\n",
        "print(json_datos['Familia'])\n",
        "print(json_datos['Casado'])"
      ]
    },
    {
      "cell_type": "markdown",
      "metadata": {},
      "source": [
        "El módulo json de Python proporciona varias funciones que leen los archivos o cadenas de tipo json como diccionario y los convierten en cadenas. Cuando se utiliza el módulo json en un código, hay que utilizar el comando \"import json\".\n",
        "\n",
        "El siguiente código cambia la información de la novela The Old man and The Sea escrita por Ernest Hemingway a tipo json y la lee de la misma manera que la página anterior."
      ]
    },
    {
      "cell_type": "code",
      "execution_count": 49,
      "metadata": {},
      "outputs": [
        {
          "name": "stdout",
          "output_type": "stream",
          "text": [
            "<class 'dict'>\n",
            "\n",
            "el viejo y el mar\n",
            "\n",
            "12345\n",
            "\n",
            "Ernest Hemingway\n"
          ]
        }
      ],
      "source": [
        "import json\n",
        "\n",
        "datos = '{\"Titulo\": \"el viejo y el mar\", \"ISBN\": 12345, \"Autor\": \"Ernest Hemingway\"}'\n",
        "json_datos = json.loads(datos)\n",
        "\n",
        "print(type(json_datos))\n",
        "print(json_datos['Titulo'])\n",
        "print(json_datos['ISBN'])\n",
        "print(json_datos['Autor'])"
      ]
    },
    {
      "cell_type": "markdown",
      "metadata": {},
      "source": [
        "Linea 4.\n",
        "- Convierte los datos de tipo string en tipo json utilizando la función loads del módulo json.\n",
        "- El objeto json_data se convierte en un tipo de datos de diccionario."
      ]
    },
    {
      "cell_type": "markdown",
      "metadata": {},
      "source": [
        "#####  **4.6. Código de ejemplo para convertir el tipo de datos del diccionario en json**"
      ]
    },
    {
      "cell_type": "markdown",
      "metadata": {},
      "source": [
        "Utilice la función \"dump\" del módulo json para escribir el tipo de datos del diccionario como archivo de tipo json"
      ]
    },
    {
      "cell_type": "code",
      "execution_count": 50,
      "metadata": {},
      "outputs": [],
      "source": [
        "import json\n",
        "\n",
        "datos = '{\"Titulo\": \"el viejo y el mar\", \"ISBN\": 12345, \"Autor\": \"Ernest Hemingway\"}'\n",
        "json_datos = json.loads(datos)\n",
        "\n",
        "# Código para crear el archivo json_data como book.json\n",
        "with open('book.json', 'w') as f:\n",
        "    json.dump(json_datos, f, indent='\\t')"
      ]
    },
    {
      "cell_type": "markdown",
      "metadata": {},
      "source": [
        "Linea 7 y 8\n",
        "\n",
        "- Utilice la función with() y open para crear los datos de texto book.json en el modo de escritura ('w').\n",
        "- Utilice el comando json.dump para registrar los datos json en el archivo \"f\" en tipo json.\n",
        "- Sangría mediante el uso de sangría = '\\t'"
      ]
    },
    {
      "cell_type": "markdown",
      "metadata": {},
      "source": [
        "#####  **4.7. Grabación de los datos json en un archivo**"
      ]
    },
    {
      "cell_type": "markdown",
      "metadata": {},
      "source": [
        "El archivo book.json se crea en la ruta del código fuente de Jupyter Notebook.\n",
        "\n",
        "Abra el archivo y hay un archivo de tipo json como se muestra a continuación.\n",
        "\n",
        "Los caracteres de tabulación se utilizan para la sangría.\n",
        "\n",
        "<div align=\"center\"><img src=\"https://github.com/Repositorio17092022/RepositorioiImagenes/blob/main/unidad11/imagen125.PNG?raw=true\" width = \"700px\"/></div>"
      ]
    },
    {
      "cell_type": "markdown",
      "metadata": {},
      "source": [
        "#####  **4.8 With ~ como sintaxis**"
      ]
    },
    {
      "cell_type": "markdown",
      "metadata": {},
      "source": [
        "La sintaxis with ~ como se discutirá en detalle en la Unidad 13. Aprendamos sobre ella brevemente por ahora. \n",
        "\n",
        "Al realizar el procesamiento de archivos en Python, la apertura de archivos puede fallar. Por lo tanto, es conveniente realizar siempre la prueba de excepción.\n",
        "\n",
        "Además, después de terminar una tarea dada después de abrir el archivo, asegúrese de cerrar el archivo.\n",
        "\n",
        "El procesamiento de archivos se puede hacer convenientemente con la sintaxis \"with\". La sintaxis \"with\" es otro método para procesar fácilmente la excepción y al mismo tiempo hacer una sintaxis clara. \n",
        "\n",
        "<div align=\"center\"><img src=\"https://github.com/Repositorio17092022/RepositorioiImagenes/blob/main/unidad11/imagen126.PNG?raw=true\" width = \"700px\"/></div>"
      ]
    },
    {
      "cell_type": "markdown",
      "metadata": {},
      "source": [
        "## <FONT COLOR=\"blue\">Codificación en papel </FONT>"
      ]
    },
    {
      "cell_type": "markdown",
      "metadata": {},
      "source": [
        "Intente comprender completamente el concepto básico antes de pasar al siguiente paso.\n",
        "\n",
        "La falta de comprensión de los conceptos básicos aumentará su carga en el aprendizaje de este curso, lo que puede hacer que no apruebe el curso.\n",
        "\n",
        "Puede ser difícil ahora, pero para completar con éxito este curso le sugerimos que entienda completamente el concepto y pase al siguiente paso."
      ]
    },
    {
      "cell_type": "markdown",
      "metadata": {},
      "source": [
        "#### <FONT COLOR=\"blue\">**Q1** </FONT>"
      ]
    },
    {
      "cell_type": "markdown",
      "metadata": {},
      "source": [
        "Cree el diccionario capital_dic con los siguientes elementos clave-valor de cadena. A continuación, utilice el diccionario capital_dic para escribir los resultados relativos a Corea en los siguientes elementos del diccionario.\n",
        "\n",
        "<table>\n",
        "<tr>\n",
        "  <td><strong>Ejecución del programa Declaración de variables</strong></td>\n",
        "  <td>Clave : Corea<br> Valor : Seoul<br> Clave : China<br> Valor : Beijing<br> Clave : USA<br> Valor : Washington DC<br></td>\n",
        "<tr>\n",
        "  <td><strong>Tiempo</strong></td>\n",
        "  <td>5 Minutos</td>\n",
        "<tr>\n",
        "</table>\n",
        "\n",
        "Ejemplo de salida\n",
        "\n",
        "Seoul\n",
        "\n",
        "Escriba el código completo y el resultado esperado resulta en la nota."
      ]
    },
    {
      "cell_type": "markdown",
      "metadata": {},
      "source": [
        "#### <FONT COLOR=\"blue\">**Q2** </FONT>"
      ]
    },
    {
      "cell_type": "markdown",
      "metadata": {},
      "source": [
        "Cree el diccionario frutas_dic que tiene elementos de los siguientes elementos clave-valor. A continuación, utilice este diccionario para imprimir el precio de cada fruta como se muestra a continuación.\n",
        "\n",
        "<table>\n",
        "<tr>\n",
        "  <td><strong>Condiciones de Ejecución</strong></td>\n",
        "  <td>El precio de una manzana es de 5000 KRW. <br> El precio de un banano es de 4000 KRW. <br>El precio de una uva es de 5300 krw. <br>El precio de un melón es de 6500 krw.</td>\n",
        "<tr>\n",
        "  <td><strong>Tiempo</strong></td>\n",
        "  <td>5 Minutos</td>\n",
        "<tr>\n",
        "</table>\n",
        "\n",
        "diccionario frutas_dic\n",
        "\n",
        "<div align=\"center\"><img src=\"https://github.com/Repositorio17092022/RepositorioiImagenes/blob/main/unidad11/imagen129.PNG?raw=true\" width = \"750px\"/></div>\n",
        "\n",
        "Escriba el código completo y el resultado esperado resulta en la nota."
      ]
    },
    {
      "cell_type": "markdown",
      "metadata": {},
      "source": [
        "## <FONT COLOR=\"blue\">Vamos a codificar </FONT>\n"
      ]
    },
    {
      "cell_type": "markdown",
      "metadata": {},
      "source": [
        "### <FONT COLOR=\"blue\">1. Diccionario </FONT>"
      ]
    },
    {
      "cell_type": "markdown",
      "metadata": {},
      "source": [
        "#####  **1.1. Estructura del diccionario**"
      ]
    },
    {
      "cell_type": "markdown",
      "metadata": {},
      "source": [
        "Guarda los datos como un diccionario con clave y valor. \n",
        " - Similar a la lista, el diccionario es una estructura de datos para guardar valores, y es un tipo de datos básico en Python.\n",
        " - Sin embargo, una gran diferencia con la lista es que el diccionario tiene una clave relacionada con el valor.\n",
        "\n",
        "<div align=\"center\"><img src=\"https://github.com/Repositorio17092022/RepositorioiImagenes/blob/main/unidad11/imagen131.PNG?raw=true\" width = \"700px\"/></div>"
      ]
    },
    {
      "cell_type": "markdown",
      "metadata": {},
      "source": [
        "#####  **1.2. Declaración del diccionario**"
      ]
    },
    {
      "cell_type": "markdown",
      "metadata": {},
      "source": [
        "Hay muchas maneras de crear un diccionario, pero primero use { } para crear un diccionario vacío y luego agregue los números de teléfono uno por uno."
      ]
    },
    {
      "cell_type": "code",
      "execution_count": 51,
      "metadata": {},
      "outputs": [],
      "source": [
        " agenda_de_teléfono = { }# Crear un diccionario vacío"
      ]
    },
    {
      "cell_type": "markdown",
      "metadata": {},
      "source": [
        "La lista vacía se crea con [ ], mientras que el diccionario se crea con { }."
      ]
    },
    {
      "cell_type": "code",
      "execution_count": 52,
      "metadata": {},
      "outputs": [],
      "source": [
        "agenda_de_teléfono[\"David\"] = \"010-1234-5678\""
      ]
    },
    {
      "cell_type": "markdown",
      "metadata": {},
      "source": [
        "#####  **1.3. Cómo manejar el diccionario**"
      ]
    },
    {
      "cell_type": "markdown",
      "metadata": {},
      "source": [
        "Imprime los datos creados hasta el momento. \n"
      ]
    },
    {
      "cell_type": "code",
      "execution_count": 53,
      "metadata": {},
      "outputs": [
        {
          "name": "stdout",
          "output_type": "stream",
          "text": [
            "{'David': '010-1234-5678'}\n"
          ]
        }
      ],
      "source": [
        "print(agenda_de_teléfono)"
      ]
    },
    {
      "cell_type": "markdown",
      "metadata": {},
      "source": [
        "El diccionario puede ser creado e inicializado al mismo tiempo."
      ]
    },
    {
      "cell_type": "code",
      "execution_count": 54,
      "metadata": {},
      "outputs": [],
      "source": [
        "agenda_de_teléfono = {\"David\": \"010-1234-5678\"}"
      ]
    },
    {
      "cell_type": "markdown",
      "metadata": {},
      "source": [
        "Añada algunos otros números de teléfono en el diccionario, y el siguiente es el resultado impreso.\n"
      ]
    },
    {
      "cell_type": "code",
      "execution_count": 55,
      "metadata": {},
      "outputs": [
        {
          "name": "stdout",
          "output_type": "stream",
          "text": [
            "{'David': '010-1234-5678', 'John': '010-1234-5679', 'Daniel': '010-1234-5680'}\n"
          ]
        }
      ],
      "source": [
        "agenda_de_teléfono[\"John\"] = \"010-1234-5679\"\n",
        "agenda_de_teléfono[\"Daniel\"] = \"010-1234-5680\"\n",
        "print(agenda_de_teléfono)"
      ]
    },
    {
      "cell_type": "markdown",
      "metadata": {},
      "source": [
        "Al imprimir el diccionario de la guía telefónica, los elementos del diccionario se distinguirán con comas.\n"
      ]
    },
    {
      "cell_type": "markdown",
      "metadata": {},
      "source": [
        "### <FONT COLOR=\"blue\">2. Comparación de la lista y el diccionario </FONT>"
      ]
    },
    {
      "cell_type": "markdown",
      "metadata": {},
      "source": [
        "#####  **2.1. Lista y diccionario cuadro comparativo**"
      ]
    },
    {
      "cell_type": "markdown",
      "metadata": {},
      "source": [
        "<div align=\"center\"><img src=\"https://github.com/Repositorio17092022/RepositorioiImagenes/blob/main/unidad11/imagen134.PNG?raw=true\" width = \"800px\"/></div>\n",
        "\n",
        "<div align=\"center\"><img src=\"https://github.com/Repositorio17092022/RepositorioiImagenes/blob/main/unidad11/imagen135.PNG?raw=true\" width = \"800px\"/></div>"
      ]
    },
    {
      "cell_type": "markdown",
      "metadata": {},
      "source": [
        "#####  **2.2. Cómo eliminar un elemento de la lista**"
      ]
    },
    {
      "cell_type": "markdown",
      "metadata": {},
      "source": [
        "Vea cómo cambia lista[1] después de eliminar un elemento de la lista con el método pop.\n"
      ]
    },
    {
      "cell_type": "code",
      "execution_count": 57,
      "metadata": {},
      "outputs": [
        {
          "name": "stdout",
          "output_type": "stream",
          "text": [
            "antes de pop(0):  [11, 22, 33, 44, 55]\n",
            "\n",
            "antes de pop(0) lista[1]:  22\n",
            "\n",
            "despues de pop(0): [22, 33, 44, 55]\n",
            "\n",
            "despues de pop(0) lista[1]:  33\n"
          ]
        }
      ],
      "source": [
        "lista = [11, 22, 33, 44, 55]\n",
        "print('antes de pop(0): ', lista)\n",
        "print('antes de pop(0) lista[1]: ', lista[1])\n",
        "lista.pop(0)  # Use el índice 0 para eliminar el primer elemento de la lista\n",
        "print('despues de pop(0):', lista)\n",
        "print('despues de pop(0) lista[1]: ', lista[1])  # El valor referido por LST [1] cambia"
      ]
    },
    {
      "cell_type": "markdown",
      "metadata": {},
      "source": [
        "Si un elemento se elimina en la lista, entonces el valor referido cambia.\n",
        "\n",
        "Compare la eliminación de elementos en la lista y en el diccionario.\n",
        "\n",
        "Vea el borrado de elementos del diccionario y el cambio de dic[1].\n",
        "\n",
        "El método items en el siguiente código es una función que devuelve un par de tuplas (clave:valor), que se aprenderá en detalle más adelante"
      ]
    },
    {
      "cell_type": "code",
      "execution_count": 58,
      "metadata": {},
      "outputs": [
        {
          "name": "stdout",
          "output_type": "stream",
          "text": [
            "antes de pop(0):  dict_items([(0, 11), (1, 22), (2, 33), (3, 44), (4, 55)])\n",
            "\n",
            "antes de pop(0) diccionario[1]:  22\n",
            "\n",
            "despues de pop(0):  dict_items([(1, 22), (2, 33), (3, 44), (4, 55)])\n",
            "\n",
            "despues de pop(0) diccionario[1]:  22\n"
          ]
        }
      ],
      "source": [
        "diccionario = {0:11, 1:22, 2:33, 3:44, 4:55}\n",
        "# Imprima la función elementos () que devuelve el par de tuple (valor clave) del diccionario\n",
        "print('antes de pop(0): ', diccionario.items())\n",
        "print('antes de pop(0) diccionario[1]: ', diccionario[1])\n",
        "diccionario.pop(0)\n",
        "print('despues de pop(0): ', diccionario.items())\n",
        "print('despues de pop(0) diccionario[1]: ', diccionario[1])"
      ]
    },
    {
      "cell_type": "markdown",
      "metadata": {},
      "source": [
        "Incluso si se elimina un elemento, el valor referido por la clave no cambia en el diccionario."
      ]
    },
    {
      "cell_type": "markdown",
      "metadata": {},
      "source": [
        "#####  **2.3. Crear una lista y un diccionario y comprobar los valores de los elementos**"
      ]
    },
    {
      "cell_type": "markdown",
      "metadata": {},
      "source": [
        "<table>\n",
        "<tr>\n",
        "  <td><strong>Clasificación</strong></td>\n",
        "  <td>Listas (utiliza los índices)</td>\n",
        "  <td>Diccionario (utiliza las claves)</td>\n",
        "<tr>\n",
        "  <td><strong>Comprobar el valor del artículo</strong></td>\n",
        "  <td>Lista[0]</td>\n",
        "  <td>diccionario['uno']<br></td>\n",
        "<tr>\n",
        "</table>"
      ]
    },
    {
      "cell_type": "markdown",
      "metadata": {},
      "source": [
        "<table>\n",
        "<tr>\n",
        "  <td><strong>Clasificación</strong></td>\n",
        "  <td>Lista</td>\n",
        "  <td>Diccionario</td>\n",
        "<tr>\n",
        "  <td><strong>Crear un objeto vacío</strong></td>\n",
        "  <td>Lista = [ ]</td>\n",
        "  <td>diccionario = { }<br></td>\n",
        "<tr>\n",
        "<tr>\n",
        "  <td><strong>Crear un objeto con elementos</strong></td>\n",
        "  <td>Lista = [1, 2, 3]</td>\n",
        "  <td>diccionario = {'uno':1, 'dos':2}<br></td>\n",
        "<tr>\n",
        "</table>"
      ]
    },
    {
      "cell_type": "markdown",
      "metadata": {},
      "source": [
        "##### **2.4. Calcular el número de elementos de la lista y del diccionario y eliminar los valores**"
      ]
    },
    {
      "cell_type": "markdown",
      "metadata": {},
      "source": [
        "Cómo comprobar el número de elementos de la lista y del diccionario y eliminar valores\n",
        "\n",
        "<table>\n",
        "<tr>\n",
        "  <td><strong>Clasificación</strong></td>\n",
        "  <td>Lista</td>\n",
        "  <td>Diccionario</td>\n",
        "<tr>\n",
        "  <td><strong>Compruebe los números</strong></td>\n",
        "  <td>len(lista)</td>\n",
        "  <td>len(diccionario)<br></td>\n",
        "<tr>\n",
        "<tr>\n",
        "  <td><strong>Eliminar</strong></td>\n",
        "  <td>del(lista[0]) o del lista[0])</td>\n",
        "  <td>del(diccionario['uno']) o del diccionario['uno']<br></td>\n",
        "<tr>\n",
        "<tr>\n",
        "  <td><strong>Eliminar todo</strong></td>\n",
        "  <td>lista.clear</td>\n",
        "  <td>diccionario.clear<br></td>\n",
        "<tr>\n",
        "</table>\n",
        "\n",
        "Cómo verificar si se incluye un valor específico\n",
        "\n",
        "<table>\n",
        "<tr>\n",
        "  <td><strong>Clasificación</strong></td>\n",
        "  <td>Lista</td>\n",
        "  <td>Diccionario</td>\n",
        "<tr>\n",
        "  <td><strong>Comprobar el valor</strong></td>\n",
        "  <td>2 in lista</td>\n",
        "  <td>'uno' in diccionario.keys o 'uno' in diccionario<br></td>\n",
        "<tr>\n",
        "</table>"
      ]
    },
    {
      "cell_type": "markdown",
      "metadata": {},
      "source": [
        "### <FONT COLOR=\"blue\">3. Formato para una mejor impresión </FONT>"
      ]
    },
    {
      "cell_type": "markdown",
      "metadata": {},
      "source": [
        "#####  **3.1. formato como método de impresión**"
      ]
    },
    {
      "cell_type": "markdown",
      "metadata": {},
      "source": [
        "Hasta ahora se han realizado diferentes impresiones, pero las distancias entre los mensajes impresos no eran uniformes.\n",
        "\n",
        "Conozca los métodos de impresión para una impresión ordenada de las cadenas. El método \"format\" es extremadamente útil para imprimir cadenas. Utilice el marcador de posición como se indica a continuación para imprimir letras o números en un formato apropiado.\n",
        "\n",
        "El {} de abajo es el marcador de posición, que designa la ubicación de impresión del valor que es el argumento del método format. "
      ]
    },
    {
      "cell_type": "code",
      "execution_count": 59,
      "metadata": {},
      "outputs": [
        {
          "data": {
            "text/plain": [
              "'Hola Python!'"
            ]
          },
          "execution_count": 59,
          "metadata": {},
          "output_type": "execute_result"
        }
      ],
      "source": [
        "'{} Python!'.format('Hola')"
      ]
    },
    {
      "cell_type": "code",
      "execution_count": 60,
      "metadata": {},
      "outputs": [
        {
          "data": {
            "text/plain": [
              "'Me gusta Python y Java'"
            ]
          },
          "execution_count": 60,
          "metadata": {},
          "output_type": "execute_result"
        }
      ],
      "source": [
        "'Me gusta {} y {}'.format('Python','Java')"
      ]
    },
    {
      "cell_type": "markdown",
      "metadata": {},
      "source": [
        "#####  **3.2. Índice para imprimir**"
      ]
    },
    {
      "cell_type": "markdown",
      "metadata": {},
      "source": [
        "Utilice índices que incluyan 0, 1, 2 con respecto al argumento del método de formato para designar los valores de los argumentos.  \n",
        "\n",
        "En el marcador de posición {0} de abajo, el primer argumento se imprime debido al orden de los argumentos del método de formato.\n",
        "\n",
        "En el marcador de posición {1} de abajo, el segundo argumento se imprime debido al orden de los argumentos del método de formato."
      ]
    },
    {
      "cell_type": "code",
      "execution_count": 61,
      "metadata": {},
      "outputs": [
        {
          "data": {
            "text/plain": [
              "'Me gusta Python y Java'"
            ]
          },
          "execution_count": 61,
          "metadata": {},
          "output_type": "execute_result"
        }
      ],
      "source": [
        "'Me gusta {0} y {1}'.format('Python','Java')"
      ]
    },
    {
      "cell_type": "code",
      "execution_count": 62,
      "metadata": {},
      "outputs": [
        {
          "data": {
            "text/plain": [
              "'Me gusta Java y Python'"
            ]
          },
          "execution_count": 62,
          "metadata": {},
          "output_type": "execute_result"
        }
      ],
      "source": [
        "'Me gusta {1} y {0}'.format('Python','Java')"
      ]
    },
    {
      "cell_type": "code",
      "execution_count": 63,
      "metadata": {},
      "outputs": [
        {
          "data": {
            "text/plain": [
              "'Me gusta Python, Python, Python'"
            ]
          },
          "execution_count": 63,
          "metadata": {},
          "output_type": "execute_result"
        }
      ],
      "source": [
        "'Me gusta {0}, {0}, {0}'.format('Python','Java')"
      ]
    },
    {
      "cell_type": "markdown",
      "metadata": {},
      "source": [
        "Cuando se utiliza {0:4d}, se utilizan cuatro dígitos para imprimir un número entero, mientras que {0:5d} da como resultado cinco dígitos y {0:6d} seis dígitos."
      ]
    },
    {
      "cell_type": "code",
      "execution_count": 64,
      "metadata": {},
      "outputs": [
        {
          "name": "stdout",
          "output_type": "stream",
          "text": [
            "12345678901234567890\n",
            "\n",
            " 123,   123,    123\n"
          ]
        }
      ],
      "source": [
        "print('12345678901234567890')\n",
        "print('{0:4d}, {0:5d}, {0:6d}'.format(123))"
      ]
    },
    {
      "cell_type": "markdown",
      "metadata": {},
      "source": [
        "#####  **3.3. Designación de la anchura del campo para una impresión limpia**"
      ]
    },
    {
      "cell_type": "markdown",
      "metadata": {},
      "source": [
        "También es posible imprimir dos decimales con {0:.2f}. Designe {0:.3f} si imprime con tres decimales. \n",
        "\n",
        "\"f\" se refiere al punto flotante. Si es así, se puede designar el ancho de todo el campo delante del punto como {0:5.2f} o {0:6.2f}.\n"
      ]
    },
    {
      "cell_type": "code",
      "execution_count": 69,
      "metadata": {},
      "outputs": [
        {
          "data": {
            "text/plain": [
              "'Precisión de dos decimales : 0.33, Precisión de tres decimales 0.333333'"
            ]
          },
          "execution_count": 69,
          "metadata": {},
          "output_type": "execute_result"
        }
      ],
      "source": [
        "'Precisión de dos decimales : {0:.2f}, Precisión de tres decimales {0:3f}'.format(1/3)\n"
      ]
    },
    {
      "cell_type": "code",
      "execution_count": 67,
      "metadata": {},
      "outputs": [
        {
          "data": {
            "text/plain": [
              "'Números reales para 10 espacios :      3.142,     3.1416'"
            ]
          },
          "execution_count": 67,
          "metadata": {},
          "output_type": "execute_result"
        }
      ],
      "source": [
        "'Números reales para 10 espacios : {0:10.3f}, {0:10.4f}'.format(3.1415926)\n"
      ]
    },
    {
      "cell_type": "markdown",
      "metadata": {},
      "source": [
        "<div align=\"center\"><img src=\"https://github.com/Repositorio17092022/RepositorioiImagenes/blob/main/unidad11/imagen142.PNG?raw=true\" width = \"700px\"/></div>"
      ]
    },
    {
      "cell_type": "markdown",
      "metadata": {},
      "source": [
        "Para imprimir enteros, es posible designar el número de espacios para la impresión como {1:3d}, {1:4d}, {1:5d}.\n",
        "\n",
        "Cree un código para imprimir tres enteros designando 3, 4 y 5 espacios respectivamente a tres argumentos diferentes.\n",
        "\n",
        "El resultado sería una impresión bonita y ordenada como la que se muestra a continuación."
      ]
    },
    {
      "cell_type": "code",
      "execution_count": 70,
      "metadata": {},
      "outputs": [
        {
          "name": "stdout",
          "output_type": "stream",
          "text": [
            "  2    4     8\n",
            "\n",
            "  4   16    64\n",
            "\n",
            "  6   36   216\n",
            "\n",
            "  8   64   512\n",
            "\n",
            " 10  100  1000\n"
          ]
        }
      ],
      "source": [
        "for i in range(2, 11, 2):\n",
        "    print('{0:3d} {1:4d} {2:5d}'.format(i, i*i, i*i*i))"
      ]
    },
    {
      "cell_type": "markdown",
      "metadata": {},
      "source": [
        "## <FONT COLOR=\"blue\">Programación por parejas </FONT>\n"
      ]
    },
    {
      "cell_type": "markdown",
      "metadata": {},
      "source": [
        "### <FONT COLOR=\"blue\">**Práctica de programación por parejas** </FONT>"
      ]
    },
    {
      "cell_type": "markdown",
      "metadata": {},
      "source": [
        "**Directriz, mecanismos y plan de contingencia**\n",
        "\n",
        " Preparar la programación por parejas implica establecer pautas y mecanismos para ayudar a los alumnos a emparejarse correctamente y mantenerlos emparejados.  Por ejemplo, los estudiantes deben turnarse para \"conducir el mouse\".  La preparación efectiva requiere planes de contingencia en caso de que uno de los socios se ausente o decida no participar por una u otra razón.  En estos casos, es importante dejar claro que el alumno activo no será sancionado porque el emparejamiento no funcionó bien.\n",
        "\n",
        "**Emparejar habilidades similares, no necesariamente iguales, como socios**\n",
        "\n",
        " La programación en parejas puede ser efectiva cuando los estudiantes con habilidades similares, aunque no necesariamente iguales, se emparejan como compañeros.  El emparejamiento de estudiantes que no coinciden a menudo puede conducir a una participación desequilibrada.  Los maestros deben enfatizar que la programación en parejas no es una estrategia de \"divide y vencerás\", sino más bien un verdadero esfuerzo de colaboración en cada esfuerzo por todo el proyecto.  Los maestros deben evitar emparejar a estudiantes muy débiles con estudiantes muy fuertes.\n",
        "\n",
        "**Motivar a los estudiantes ofreciendo incentivos adicionales**\n",
        "\n",
        " Ofrecer incentivos adicionales puede ayudar a motivar a los estudiantes a emparejarse, especialmente con estudiantes avanzados.  A algunos maestros les ha resultado útil pedirles a los estudiantes que se emparejen solo para una o dos tareas.\n",
        "\n",
        "**Evitar trampas en la colaboración**\n",
        "\n",
        " El desafío para el maestro es encontrar formas de evaluar los resultados individuales, mientras aprovecha los beneficios de la colaboración.  ¿Cómo saber si un estudiante aprendió o hizo trampa?  Los expertos recomiendan revisar el diseño y la evaluación del curso, así como discutir explícita y concretamente con los estudiantes los comportamientos que se interpretarán como trampa.  Los expertos alientan a los maestros a hacer que las tareas sean significativas para los estudiantes y a explicar el valor de lo que los estudiantes aprenderán al completarlas.\n",
        "\n",
        "**Entorno de aprendizaje colaborativo**\n",
        "\n",
        " Un entorno de aprendizaje colaborativo ocurre cada vez que un instructor requiere que los estudiantes trabajen juntos en actividades de aprendizaje.  Los entornos de aprendizaje colaborativo pueden implicar actividades tanto formales como informales y pueden incluir o no una evaluación directa.  Por ejemplo, parejas de estudiantes trabajan en asignaciones de programación;  pequeños grupos de estudiantes discuten posibles respuestas a la pregunta de un profesor durante la lección;  y los estudiantes trabajan juntos fuera de clase para aprender nuevos conceptos.  El aprendizaje colaborativo es distinto de los proyectos en los que los estudiantes \"dividen y vencerán\".  Cuando los estudiantes dividen el trabajo, cada uno es responsable de solo una parte de la resolución del problema y hay oportunidades muy limitadas para resolver los problemas con los demás.  En entornos colaborativos, los estudiantes participan en conversaciones intelectuales entre ellos."
      ]
    },
    {
      "cell_type": "markdown",
      "metadata": {},
      "source": [
        "### <FONT COLOR=\"blue\">**Q1** </FONT>"
      ]
    },
    {
      "cell_type": "markdown",
      "metadata": {},
      "source": [
        "Cree el diccionario frutas_dic compuesto por pares clave-valor que incluyan ('manzana', 6000), ('melón', 3000), ('banano', 5000), ('naranja', 4000). A continuación, imprima todas las claves del diccionario frutas_dic como tipo de lista y examine si las claves 'manzana' y 'mango' se encuentran en el diccionario frutas_dic, e imprima como sigue.\n",
        "\n",
        "Ejemplo de salida\n",
        "\n",
        "claves_diccionario(['manzana', 'banano', 'naranja'])\n",
        "\n",
        "manzana is in fruta_diccionario.\n",
        "\n",
        "mango is not in fruta_diccionario."
      ]
    }
  ],
  "metadata": {
    "kernelspec": {
      "display_name": "Python 3.9.13 64-bit (microsoft store)",
      "language": "python",
      "name": "python3"
    },
    "language_info": {
      "codemirror_mode": {
        "name": "python",
        "version": 3
      },
      "file_extension": ".py",
      "mimetype": "text/x-python",
      "name": "python",
      "nbconvert_exporter": "python",
      "pygments_lexer": "ipython3",
      "version": "3.9.13"
    },
    "vscode": {
      "interpreter": {
        "hash": "d6ff7cb00638fb92356a42c28981a177178b7e1976aa8ecd498ce1508ea8d5e4"
      }
    }
  },
  "nbformat": 4,
  "nbformat_minor": 4
}
