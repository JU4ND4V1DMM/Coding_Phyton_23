{
  "cells": [
    {
      "cell_type": "markdown",
      "metadata": {},
      "source": [
        "# <FONT COLOR=\"blue\"> **Samsung Innovation Campus**</FONT>  \n",
        "\n",
        "## <FONT COLOR=\"blue\">**Codificación y Programación**</FONT>\n",
        "\n",
        "\n",
        "# **Capítulo 2. Programación básica de Python - Tipo de datos de secuencia en Python**\n",
        "\n",
        "## Objetivos del capítulo\n",
        "- Los alumnos podrán usar tipos de datos de secuencia, como la lista, el diccionario, la tupla y el conjunto de Python. Python se caracteriza al proporcionar estructuras de datos enriquecidas que incluyen tipos de datos de secuencia, y los alumnos utilizarán esas estructuras de datos para adquirir habilidades de codificación avanzadas. \n",
        "\n",
        "## Contenido del capítulo\n",
        "- Unidad 10. Tipos de datos: lista y tupla\n",
        "- Unidad 11. Tipos de datos: diccionario\n",
        "- Unidad 12. Tipos de datos: secuencia\n",
        "- Unidad 13. Listas 2D\n",
        "- Unidad 14. Diccionario: Método 1\n",
        "- Unidad 15. Diccionario: Método 2\n",
        "- Unidad 16. Tipo de datos: Set"
      ]
    },
    {
      "cell_type": "markdown",
      "metadata": {},
      "source": [
        "# **Unidad 14 Diccionario: Método 1**"
      ]
    },
    {
      "cell_type": "markdown",
      "metadata": {},
      "source": [
        "## Objetivos de aprendizaje\n",
        "\n",
        "- Ser capaz de añadir o modificar nuevos valores utilizando la clave del diccionario.\n",
        "- Ser capaz de encontrar y eliminar cualquier elemento dentro del diccionario.\n",
        "- Ser capaz de eliminar todos los elementos dentro del diccionario utilizando el método clear del diccionario.\n",
        "- Ser capaz de extraer un elemento clave-valor utilizando un método que haga referencia a una clave del diccionario.\n",
        "\n",
        "## Resumen de aprendizaje\n",
        "\n",
        "- Añadir y modificar el valor-clave del diccionario utilizando el método de añadir y modificar.\n",
        "- Borrar el valor arbitrario utilizando el método de borrar el valor-clave del diccionario.\n",
        "- Borrar todas las claves utilizando el método de borrar todos los valores-clave del diccionario.\n",
        "- Guardar el valor-clave del diccionario en otra variable utilizando el método que trae el valor-clave específico del diccionario.\n",
        "\n",
        "## Conceptos que deberá conocer de las unidades anteriores\n",
        "\n",
        "- Entienda que a los diccionarios se accede con claves y no con índices.\n",
        "- Ser capaz de acceder y asignar un valor a la clave del diccionario y realizar una operación de diccionario.\n",
        "- Comprender la diferencia entre lista y diccionario y ser capaz de declarar y utilizar el tipo de datos apropiado (lista, diccionario) según la situación.\n",
        "\n",
        "## Palabras clave\n",
        "\n",
        "<table>\n",
        "<tr>\n",
        "  <td><strong>Diccionario</strong></td>\n",
        "  <td><strong>Clave - Valor</strong></td>\n",
        "<tr>\n",
        "  <td><strong>Agregar, Editar/strong></td>\n",
        "  <td><strong>Eliminar</strong></td>\n",
        "<tr>\n",
        "<tr>\n",
        "  <td><strong>Guardar</strong></td>\n",
        "<tr>\n",
        "</table>\n"
      ]
    },
    {
      "cell_type": "markdown",
      "metadata": {},
      "source": [
        "## <FONT COLOR=\"blue\">Misión </FONT>"
      ]
    },
    {
      "cell_type": "markdown",
      "metadata": {},
      "source": [
        "### <FONT COLOR=\"blue\">1. Problema del mundo real </FONT>"
      ]
    },
    {
      "cell_type": "markdown",
      "metadata": {},
      "source": [
        "#####  **1.1. Dificultades para los autónomos de cafeterías y restaurantes por el aumento de los precios de las materias primas y los costes laborales**"
      ]
    },
    {
      "cell_type": "markdown",
      "metadata": {},
      "source": [
        "<div align=\"center\"><img src=\"https://github.com/Repositorio17092022/RepositorioiImagenes/blob/main/unidad14/Imagen287.png?raw=true\" width = \"300px\"/></div>\n",
        "\n",
        "\n",
        "Los distritos comerciales locales centrados en los autónomos, como los cafés y restaurantes, representan una gran proporción de las actividades económicas de los residentes locales.\n",
        "\n",
        "Sin embargo, la carga del continuo aumento de los precios de las materias primas y de los costes de la mano de obra puede causar dificultades de gestión a los autónomos.\n",
        "\n",
        "Es necesario un gran esfuerzo para minimizar los costes de explotación, y desarrollaremos programas para ayudar a estas operaciones.\n",
        "\n",
        "A través de la misión anterior, aprendimos a imprimir el menú de la cafetería. Esta misión mejorará la función anterior para implementar la función de añadir nuevos menús y precios.\n"
      ]
    },
    {
      "cell_type": "markdown",
      "metadata": {},
      "source": [
        "#####  **1.2. Programa que te dice el precio cuando pides el menú**"
      ]
    },
    {
      "cell_type": "markdown",
      "metadata": {},
      "source": [
        "<div align=\"center\"><img src=\"https://github.com/Repositorio17092022/RepositorioiImagenes/blob/main/unidad14/Imagen288.png?raw=true\" width = \"300px\"/></div>\n",
        "\n",
        "Cuando se contrata a nuevos empleados en una cafetería, se necesita mucho tiempo y dinero para formarles para que adquieran correctamente los menús y los precios y respondan de acuerdo con el manual.\n",
        "\n",
        "Los menús y los precios suelen cambiar en función de la situación. Por ejemplo, algunos menús suelen añadirse o eliminarse por temporadas y trimestralmente.\n",
        "\n",
        "Por lo tanto, vamos a desarrollar un programa para el personal de una cafetería. Este programa es un programa que informa a los clientes del precio en cuanto llaman al menú. \n",
        "\n",
        "Queremos poner los datos para que el menú y el precio estén vinculados y el precio pueda salir inmediatamente si se llama al menú.\n",
        "Vamos a crear un programa de menú de cafetería que funcione como el anterior.\n"
      ]
    },
    {
      "cell_type": "markdown",
      "metadata": {},
      "source": [
        "#####  **1.3. La etimología de café**"
      ]
    },
    {
      "cell_type": "markdown",
      "metadata": {},
      "source": [
        "<div align=\"center\"><img src=\"https://github.com/Repositorio17092022/RepositorioiImagenes/blob/main/unidad14/Imagen289.png?raw=true\" width = \"300px\"/></div>\n",
        "\n",
        "Lugar y ubicación para tomar café, té, etc. En francés, el café se llama cafetería, que se ha convertido en una \"casa que vende café\".\n",
        "\n",
        "Hoy en día, los cafés están ganando popularidad como lugares para disfrutar de la lectura o para utilizar los teléfonos inteligentes o los ordenadores portátiles mediante la conexión inalámbrica a Internet.\n",
        "\n",
        "Los operadores de cadenas de cafés globales, como Starbucks, gozan de una gran popularidad en países como Corea y Japón gracias a sus avanzadas estrategias y a las nuevas experiencias de los usuarios.\n",
        "\n",
        "Recientemente, Starbucks está ofreciendo servicios adecuados para la era móvil, como SIREN Order, y está liderando la innovación en los métodos de pedido.\n"
      ]
    },
    {
      "cell_type": "markdown",
      "metadata": {},
      "source": [
        "### <FONT COLOR=\"blue\">2. Solución </FONT>"
      ]
    },
    {
      "cell_type": "markdown",
      "metadata": {},
      "source": [
        "#####  **2.1. Programa de menús de cafetería**"
      ]
    },
    {
      "cell_type": "markdown",
      "metadata": {},
      "source": [
        "<div align=\"center\"><img src=\"https://github.com/Repositorio17092022/RepositorioiImagenes/blob/main/unidad14/Imagen290.png?raw=true\" width = \"300px\"/></div>\n",
        "\n",
        "En esta misión, introduciremos el menú en la cafetería e imprimiremos el precio del menú correspondiente. Además, implementaremos la función de introducir nuevos menús y precios.\n",
        "\n",
        "Estos comandos funcionarán escribiendo los comandos en el símbolo del sistema.\n",
        "\n",
        "En la ventana de ejecución aparece un símbolo del sistema '$', y el comando de entrada se expresa como '<' y el comando de búsqueda se expresa como '>'.\n",
        "\n",
        "La entrada es el menú: formulario de precios. Introduzca el menú para buscarlos.\n",
        "\n",
        "Si desea salir del programa del menú de la cafetería, introduzca q.\n"
      ]
    },
    {
      "cell_type": "markdown",
      "metadata": {},
      "source": [
        "### <FONT COLOR=\"blue\">3. Misión </FONT>"
      ]
    },
    {
      "cell_type": "markdown",
      "metadata": {},
      "source": [
        "#####  **3.1. Así funciona el programa de menús de cafetería.**"
      ]
    },
    {
      "cell_type": "code",
      "execution_count": 4,
      "metadata": {},
      "outputs": [
        {
          "name": "stdout",
          "output_type": "stream",
          "text": [
            "Inicio del programa de menú de Café ... presione Q para salir\n",
            "\n",
            "3000\n",
            "\n",
            "green tea no esta en el menú.\n",
            "\n",
            "Error en seleccionar el cafe\n",
            "\n",
            "5000\n",
            "\n",
            "Salida del Programa de menú de Café\n"
          ]
        }
      ],
      "source": [
        "print(\"Inicio del programa de menú de Café ... presione Q para salir\")\n",
        "cafe_menu = {'Cafe helado': 3000}\n",
        "\n",
        "while True:\n",
        "    str = input('$ ')\n",
        "    if str.startswith('q'):\n",
        "        break;\n",
        "    orden = str[0]\n",
        "\n",
        "    if orden == '<':\n",
        "        str = str.replace('<', \"\")\n",
        "        entrada_de_string = str.split(':')\n",
        "        if len(entrada_de_string) < 2 :\n",
        "            print('Error de entrada')\n",
        "            continue\n",
        "        else:\n",
        "             cafe_menu[entrada_de_string[0].strip()] = entrada_de_string[1].strip()\n",
        "    elif orden == '>':\n",
        "        str = str.replace('>', \"\")\n",
        "        entrada_de_string = str.strip()\n",
        "        if entrada_de_string in cafe_menu:\n",
        "            print(cafe_menu[entrada_de_string])\n",
        "        else: \n",
        "            print('{} no esta en el menú.'.format(entrada_de_string))\n",
        "    elif orden == 'q':\n",
        "        break\n",
        "    else : \n",
        "        print('Error en seleccionar el cafe')\n",
        "\n",
        "print(\"Salida del Programa de menú de Café\")"
      ]
    },
    {
      "cell_type": "markdown",
      "metadata": {},
      "source": [
        "Start café program... Enter q to exit\n",
        "\n",
        "Ingresar: $ > Cafe helado\n",
        " - Salida:  3000\n",
        "\n",
        "Ingresar: $ > green tea\n",
        " - Salida: green tea no esta en el menú.\n",
        "\n",
        "Ingresar: $ < espresso : 5000\n",
        "\n",
        "Ingresar:$ espresso\n",
        " - Salida: Error en seleccionar el cafe\n",
        "\n",
        "Ingresar: $ > espresso\n",
        " - Salida: 5000\n",
        "\n",
        "Ingresar: $ q\n",
        " - Salida:Salida del Programa de menú de Café."
      ]
    },
    {
      "cell_type": "markdown",
      "metadata": {},
      "source": [
        "#####  **3.2. Plan de programación**"
      ]
    },
    {
      "cell_type": "markdown",
      "metadata": {},
      "source": [
        "**Pseudocódigo**\n",
        "\n",
        "[1] Inicio\n",
        "\n",
        "[2] Restablecer el diccionario del menú de la cafetería. \n",
        "\n",
        "[3] mientras es cierto \n",
        "\n",
        "[4] Entrada de la orden y el menú de la cafetería.\n",
        "\n",
        "[5] si el primer comando es '<'(Entrada), entonces \n",
        "\n",
        "[6] Obtener el menú y el precio de la cadena de entrada.\n",
        "- Añade el menú y el precio al diccionario de la cafetería. \n",
        "                    \n",
        "[7] si no si el primer comando'>'(salida), entonces \n",
        "\n",
        "[8] Imprime el menú.\n",
        "\n",
        "[9] else si el primer comando es 'q', \n",
        "\n",
        "[10] salir del programa [13] Fin\n",
        "\n",
        "[11] si no imprime el error\n",
        "\n",
        "[12] Salir del programa\n",
        "\n",
        "[13] Fin\n",
        "\n",
        "**Diagrama de flujo**\n",
        "\n",
        "<div align=\"center\"><img src=\"https://github.com/Repositorio17092022/RepositorioiImagenes/blob/main/unidad14/Imagen293.PNG?raw=true\" width = \"450px\"/></div>"
      ]
    },
    {
      "cell_type": "markdown",
      "metadata": {},
      "source": [
        "#####  **3.3. Código final del programa de menús de cafetería**"
      ]
    },
    {
      "cell_type": "code",
      "execution_count": null,
      "metadata": {},
      "outputs": [],
      "source": [
        "print(\"Inicio del programa de menú de Café ... presione Q para salir\")\n",
        "cafe_menu = {'Cafe helado': 3000}\n",
        "\n",
        "while True:\n",
        "    str = input('$ ')\n",
        "    if str.startswith('q'):\n",
        "        break;\n",
        "    orden = str[0]\n",
        "\n",
        "    if orden == '<':\n",
        "        str = str.replace('<', \"\")\n",
        "        entrada_de_string = str.split(':')\n",
        "        if len(entrada_de_string) < 2 :\n",
        "            print('Error de entrada')\n",
        "            continue\n",
        "        else:\n",
        "             cafe_menu[entrada_de_string[0].strip()] = entrada_de_string[1].strip()\n",
        "    elif orden == '>':\n",
        "        str = str.replace('>', \"\")\n",
        "        entrada_de_string = str.strip()\n",
        "        if entrada_de_string in cafe_menu:\n",
        "            print(cafe_menu[entrada_de_string])\n",
        "        else: \n",
        "            print('{} no esta en el menú.'.format(entrada_de_string))\n",
        "    elif orden == 'q':\n",
        "        break\n",
        "    else : \n",
        "        print('Error en seleccionar el cafe')\n",
        "\n",
        "print(\"Salida del Programa de menú de Café\")"
      ]
    },
    {
      "cell_type": "markdown",
      "metadata": {},
      "source": [
        "## <FONT COLOR=\"blue\">Concepto clave </FONT>"
      ]
    },
    {
      "cell_type": "markdown",
      "metadata": {},
      "source": [
        "### <FONT COLOR=\"blue\">1. Añadir y editar juntos clave-valor </FONT>"
      ]
    },
    {
      "cell_type": "markdown",
      "metadata": {},
      "source": [
        "#####  **1.1. Añadir, editar el tipo de datos del diccionario**"
      ]
    },
    {
      "cell_type": "markdown",
      "metadata": {},
      "source": [
        "Es posible añadir y eliminar información al diccionario según sea necesario.\n",
        "\n",
        "Una de las funciones importantes para hacerlo es añadir un par clave-valor.\n",
        "\n",
        "Existe un método para añadir una clave-valor con el mismo formato que dic[key] = value.\n",
        "\n",
        "Sin embargo, hay casos en los que es necesario añadir o actualizar el valor por defecto según sea necesario.\n",
        "\n",
        "Echemos un vistazo a los métodos avanzados de dic, setdefault y update.\n",
        "- setdefault: añade pares clave-valor por defecto\n",
        "- update: modifica el valor de una clave y añade un par clave-valor si no hay clave"
      ]
    },
    {
      "cell_type": "markdown",
      "metadata": {},
      "source": [
        "#####  **1.2. Código del diccionario sin setdefault**"
      ]
    },
    {
      "cell_type": "markdown",
      "metadata": {},
      "source": [
        "El código siguiente es un código que cuenta el número de letras alfabéticas en la lista s dada y las almacena por adelantado.\n",
        "\n",
        "La a aparece dos veces, la b aparece tres veces y la c aparece dos veces. Pongamos esta información en el diccionario y la imprimamos."
      ]
    },
    {
      "cell_type": "code",
      "execution_count": 7,
      "metadata": {},
      "outputs": [
        {
          "name": "stdout",
          "output_type": "stream",
          "text": [
            "conteo del alfabeto:  {'a': 2, 'b': 3, 'c': 2}\n"
          ]
        }
      ],
      "source": [
        "letras = ['a', 'b', 'c', 'b', 'a', 'b', 'c']\n",
        "diccionario = {}\n",
        "for ch in letras:\n",
        "    if ch not in diccionario.keys():\n",
        "        diccionario[ch] = 0\n",
        "    diccionario[ch] += 1\n",
        "print('conteo del alfabeto: ', diccionario)"
      ]
    },
    {
      "cell_type": "markdown",
      "metadata": {},
      "source": [
        "**Linea 4, 5, 6**\n",
        "\n",
        "Examina si el valor de ch está en la clave de diccionario o no.\n",
        "\n",
        "Si no, añade una clave e inicializa el valor a cero.\n",
        "\n",
        "Añade 1 a la clave de diccionario."
      ]
    },
    {
      "cell_type": "markdown",
      "metadata": {},
      "source": [
        "Para construir un diccionario, es conveniente establecer los valores por defecto de cada clave. \n",
        "\n",
        "Sin embargo, el diccionario utilizado aquí es un diccionario vacío. Por lo tanto, el valor por defecto no existe.\n",
        "\n",
        "Para utilizar este diccionario, es necesario comprobar si el alfabeto ch está incluido en la clave del diccionario en la condición if y luego inicializarlo como se muestra en dic[i] = 0, si no es así.\n",
        "\n",
        "Veamos el método setdefault que hace más conveniente la funcionalidad del diccionario.\n",
        "\n",
        "<div align=\"center\"><img src=\"https://github.com/Repositorio17092022/RepositorioiImagenes/blob/main/unidad14/Imagen298.PNG?raw=true\" width = \"450px\"/></div>\n"
      ]
    },
    {
      "cell_type": "markdown",
      "metadata": {},
      "source": [
        "#####  **1.3. Código del diccionario con setdefault**"
      ]
    },
    {
      "cell_type": "markdown",
      "metadata": {},
      "source": [
        "La estructura de datos del diccionario de Python proporciona un método setdefault para evitar las cláusulas condicionales if del código anterior.\n",
        "\n",
        "Si se pasa el valor de la clave como primer factor y el valor por defecto como segundo factor, como se indica a continuación, el valor por defecto de la clave se especifica como 0."
      ]
    },
    {
      "cell_type": "code",
      "execution_count": 9,
      "metadata": {},
      "outputs": [
        {
          "name": "stdout",
          "output_type": "stream",
          "text": [
            "[('a', 1)]\n",
            "\n",
            "[('a', 1), ('b', 1)]\n",
            "\n",
            "[('a', 1), ('b', 1), ('c', 1)]\n",
            "\n",
            "[('a', 1), ('b', 2), ('c', 1)]\n",
            "\n",
            "[('a', 2), ('b', 2), ('c', 1)]\n",
            "\n",
            "[('a', 2), ('b', 3), ('c', 1)]\n",
            "\n",
            "[('a', 2), ('b', 3), ('c', 2)]\n",
            "\n",
            "conteo del alfabeto:  {'a': 2, 'b': 3, 'c': 2}\n"
          ]
        }
      ],
      "source": [
        "letras = ['a', 'b', 'c', 'b', 'a', 'b', 'c']\n",
        "diccionario = {}\n",
        "for ch in letras:\n",
        "    diccionario.setdefault(ch,0)\n",
        "    diccionario[ch] += 1\n",
        "    print(list(diccionario.items()))\n",
        "print('conteo del alfabeto: ', diccionario)"
      ]
    },
    {
      "cell_type": "markdown",
      "metadata": {},
      "source": [
        "**Linea 4, 5, 6**\n",
        "\n",
        "El setdefault devuelve la clave si tiene una clave y devuelve un segundo factor si no la tiene. \n",
        "\n",
        "Por lo tanto, es posible ver el efecto de que todas las apariciones de caracteres alfabéticos se inicialicen a cero a través de dic.setdefault(ch, 0).\n",
        "\n",
        "El valor de la clave cambia cada vez que se introduce un alfabeto a través de la sentencia print dentro del código.\n"
      ]
    },
    {
      "cell_type": "markdown",
      "metadata": {},
      "source": [
        "Si se especifica una clave y valores por defecto, como setdefault(clave, valor), los valores por defecto se almacenan en los valores y se devuelven los valores.\n",
        "\n",
        "El siguiente ejemplo es un código que añade una clave 'f' a un diccionario llamado dic, almacena 50 en un valor por defecto y lo imprime."
      ]
    },
    {
      "cell_type": "code",
      "execution_count": 10,
      "metadata": {},
      "outputs": [
        {
          "name": "stdout",
          "output_type": "stream",
          "text": [
            "{'a': 10, 'b': 20, 'c': 30, 'd': 40, 'f': 50}\n"
          ]
        }
      ],
      "source": [
        "diccionario = {'a' : 10, 'b' : 20, 'c' : 30, 'd' : 40}\n",
        "diccionario.setdefault('f', 50)\n",
        "print(diccionario)"
      ]
    },
    {
      "cell_type": "markdown",
      "metadata": {},
      "source": [
        "**Linea 2**\n",
        "\n",
        "Como no existe la clave 'f', añádela y pon el valor como 50.\n",
        "\n",
        "<div align=\"center\"><img src=\"https://github.com/Repositorio17092022/RepositorioiImagenes/blob/main/unidad14/Imagen302.PNG?raw=true\" width = \"500px\"/></div>"
      ]
    },
    {
      "cell_type": "markdown",
      "metadata": {},
      "source": [
        "#####  **1.4. La actualización cambia el valor de la clave.**"
      ]
    },
    {
      "cell_type": "markdown",
      "metadata": {},
      "source": [
        "El método update(clave=valor) modifica el valor de la clave en el diccionario.\n",
        "\n",
        "Por ejemplo, si el diccionario es dic = {'a' : 10} (donde la clave es una cadena), como se muestra en x.update (a = 90), los nombres y valores de las claves pueden especificarse excepto las comillas simples o dobles de la clave.\n",
        "\n",
        "En este caso, el valor de la clave 'a' puede modificarse a 90 como se indica a continuación."
      ]
    },
    {
      "cell_type": "code",
      "execution_count": 11,
      "metadata": {},
      "outputs": [
        {
          "name": "stdout",
          "output_type": "stream",
          "text": [
            "{'a': 90, 'b': 20, 'c': 30, 'd': 40}\n"
          ]
        }
      ],
      "source": [
        "diccionario = {'a' : 10, 'b' : 20, 'c' : 30, 'd' : 40}\n",
        "diccionario.update(a = 90)\n",
        "print(diccionario)"
      ]
    },
    {
      "cell_type": "markdown",
      "metadata": {},
      "source": [
        "Linea 2\n",
        "\n",
        "Cambia a por 90.\n",
        "\n",
        "<div align=\"center\"><img src=\"https://github.com/Repositorio17092022/RepositorioiImagenes/blob/main/unidad14/Imagen303.PNG?raw=true\" width = \"500px\"/></div>"
      ]
    },
    {
      "cell_type": "markdown",
      "metadata": {},
      "source": [
        "#####  **1.5. Cuando el método de actualización añade una clave que no existe.**"
      ]
    },
    {
      "cell_type": "markdown",
      "metadata": {},
      "source": [
        "Si la clave no existe en el diccionario, el método update también añade un par clave-valor.\n",
        "\n",
        "Como se muestra a continuación, no existe la clave 'e' en el dic, así que cuando se ejecuta dic.update (e=50), se puede ver que se añade 'e':50."
      ]
    },
    {
      "cell_type": "code",
      "execution_count": 12,
      "metadata": {},
      "outputs": [
        {
          "name": "stdout",
          "output_type": "stream",
          "text": [
            "{'a': 90, 'b': 20, 'c': 30, 'd': 40, 'e': 50}\n"
          ]
        }
      ],
      "source": [
        "diccionario.update(e = 50)\n",
        "print(diccionario)"
      ]
    },
    {
      "cell_type": "markdown",
      "metadata": {},
      "source": [
        "<div align=\"center\"><img src=\"https://github.com/Repositorio17092022/RepositorioiImagenes/blob/main/unidad14/Imagen304.PNG?raw=true\" width = \"400px\"/></div>"
      ]
    },
    {
      "cell_type": "markdown",
      "metadata": {},
      "source": [
        "#####  **1.6. Modificar varios elementos con el método de actualización**"
      ]
    },
    {
      "cell_type": "markdown",
      "metadata": {},
      "source": [
        "El método Update puede modificar los valores de una sola vez con múltiples valores-clave separados por comas.\n",
        "\n",
        "Lo mismo aquí, si existe una clave, modifica el valor de la clave correspondiente, y si no, añade un par clave-valor.\n",
        "\n",
        "A continuación, modifique el valor de la clave 'a' a 900, y añada 'f': 60.\n"
      ]
    },
    {
      "cell_type": "code",
      "execution_count": 13,
      "metadata": {},
      "outputs": [
        {
          "name": "stdout",
          "output_type": "stream",
          "text": [
            "{'a': 900, 'b': 20, 'c': 30, 'd': 40, 'e': 50, 'f': 60}\n"
          ]
        }
      ],
      "source": [
        "diccionario.update(a = 900, f = 60)\n",
        "print(diccionario)"
      ]
    },
    {
      "cell_type": "markdown",
      "metadata": {},
      "source": [
        "<div align=\"center\"><img src=\"https://github.com/Repositorio17092022/RepositorioiImagenes/blob/main/unidad14/Imagen305.PNG?raw=true\" width = \"400px\"/></div>"
      ]
    },
    {
      "cell_type": "markdown",
      "metadata": {},
      "source": [
        "#####  **1.7. Precauciones para utilizar el método de actualización**"
      ]
    },
    {
      "cell_type": "markdown",
      "metadata": {},
      "source": [
        "🎯 Enfoque\n",
        "\n",
        "La forma de actualización (clave=valor) sólo puede utilizarse cuando la clave es una cadena.\n",
        "\n",
        "Si la clave es un número, el valor puede modificarse insertando un diccionario como update(dictionary)."
      ]
    },
    {
      "cell_type": "code",
      "execution_count": 15,
      "metadata": {},
      "outputs": [
        {
          "name": "stdout",
          "output_type": "stream",
          "text": [
            "{1: 'UNO', 2: 'DOS', 3: 'TRES'}\n"
          ]
        }
      ],
      "source": [
        "diccionario2 = {1: 'UNO', 2: 'DOS'}\n",
        "diccionario2.update({1: 'UNO', 3: 'TRES'})\n",
        "print(diccionario2)"
      ]
    },
    {
      "cell_type": "markdown",
      "metadata": {},
      "source": [
        "#####  **1.8. Cómo modificar la clave del método de actualización cuando no es una cadena**"
      ]
    },
    {
      "cell_type": "markdown",
      "metadata": {},
      "source": [
        "Otra forma de modificar la clave-valor es utilizar una lista y una tupla.\n",
        "\n",
        "La actualización (lista) y la actualización (tupla) modifican los valores con listas y tuplas.\n",
        "\n",
        "En este caso, la lista crea una lista con claves y valores en forma de [Clave1, Valor1] y [Clave2, Valor2]], y enumera los pares clave-valor colocando esta lista en la lista.\n",
        "\n",
        "La tupla también tiene el mismo formato que la anterior.\n"
      ]
    },
    {
      "cell_type": "code",
      "execution_count": 18,
      "metadata": {},
      "outputs": [
        {
          "name": "stdout",
          "output_type": "stream",
          "text": [
            "{1: 'UNO', 2: 'DOS', 3: 'TRES', 4: 'CUATRO'}\n"
          ]
        }
      ],
      "source": [
        "# LISTA\n",
        "\n",
        "diccionario2.update([[2, 'DOS'], [4, 'CUATRO']])\n",
        "print(diccionario2)"
      ]
    },
    {
      "cell_type": "code",
      "execution_count": 19,
      "metadata": {},
      "outputs": [
        {
          "name": "stdout",
          "output_type": "stream",
          "text": [
            "{1: 'UNO', 2: 'DOS', 3: 'TRES', 4: 'CUATRO'}\n"
          ]
        }
      ],
      "source": [
        "# TUPLA\n",
        "\n",
        "diccionario2.update(((2, 'DOS'), (4, 'CUATRO')))\n",
        "print(diccionario2)"
      ]
    },
    {
      "cell_type": "markdown",
      "metadata": {},
      "source": [
        "#####  **1.9. Diferencia entre setdefault y update**"
      ]
    },
    {
      "cell_type": "markdown",
      "metadata": {},
      "source": [
        "Setdefault sólo puede añadir pares clave-valor, y no se pueden modificar los valores de las claves ya existentes. \n",
        "\n",
        "Sin embargo, update puede tanto añadir como modificar pares clave-valor. \n",
        "\n",
        "Incluso si la clave 'a' ya incluida se almacena como 90 utilizando setdefault, el valor de 'a' no cambia.\n"
      ]
    },
    {
      "cell_type": "code",
      "execution_count": 20,
      "metadata": {},
      "outputs": [
        {
          "name": "stdout",
          "output_type": "stream",
          "text": [
            "{'a': 10, 'b': 20, 'c': 30, 'd': 40}\n",
            "\n",
            "{'a': 10, 'b': 20, 'c': 30, 'd': 40}\n"
          ]
        }
      ],
      "source": [
        "diccionario = {'a' : 10, 'b' : 20, 'c' : 30, 'd' : 40}\n",
        "print(diccionario)\n",
        "diccionario.setdefault('a', 90)\n",
        "print(diccionario)"
      ]
    },
    {
      "cell_type": "markdown",
      "metadata": {},
      "source": [
        "### <FONT COLOR=\"blue\">2. Borrar clave-valor específica y aleatoria </FONT>"
      ]
    },
    {
      "cell_type": "markdown",
      "metadata": {},
      "source": [
        "#####  **2.1. Método Pop**"
      ]
    },
    {
      "cell_type": "markdown",
      "metadata": {},
      "source": [
        "El método pop borra un par clave-valor específico y lo devuelve.\n"
      ]
    },
    {
      "cell_type": "code",
      "execution_count": 21,
      "metadata": {},
      "outputs": [
        {
          "name": "stdout",
          "output_type": "stream",
          "text": [
            "10\n",
            "\n",
            "{'b': 20, 'c': 30, 'd': 40}\n"
          ]
        }
      ],
      "source": [
        "diccionario = {'a' : 10, 'b' : 20, 'c' : 30, 'd' : 40}\n",
        "print(diccionario.pop('a'))\n",
        "print(diccionario)"
      ]
    },
    {
      "cell_type": "markdown",
      "metadata": {},
      "source": [
        "Pop(key) devuelve el valor eliminado tras borrar un par clave-valor específico del diccionario.\n",
        "\n",
        "A continuación, borra la clave 'a' del diccionario y devuelve 10.\n"
      ]
    },
    {
      "cell_type": "markdown",
      "metadata": {},
      "source": [
        "#####  **2.2. Aplicación pop**"
      ]
    },
    {
      "cell_type": "markdown",
      "metadata": {},
      "source": [
        "Si se especifica un valor por defecto como pop(clave, valor por defecto), borra el par clave-valor y devuelve el valor borrado cuando hay una clave en el diccionario, pero sólo devuelve el valor por defecto cuando no hay clave.\n",
        "\n",
        "Como no hay ninguna clave 'f' en el diccionario, se devuelve el valor 8 designado como valor por defecto.\n"
      ]
    },
    {
      "cell_type": "code",
      "execution_count": 22,
      "metadata": {},
      "outputs": [
        {
          "name": "stdout",
          "output_type": "stream",
          "text": [
            "10\n",
            "\n",
            "{'b': 20, 'c': 30, 'd': 40}\n"
          ]
        }
      ],
      "source": [
        "diccionario = {'a' : 10, 'b' : 20, 'c' : 30, 'd' : 40}\n",
        "print(diccionario.pop('a'))\n",
        "print(diccionario)"
      ]
    },
    {
      "cell_type": "code",
      "execution_count": 23,
      "metadata": {},
      "outputs": [
        {
          "name": "stdout",
          "output_type": "stream",
          "text": [
            "8\n"
          ]
        }
      ],
      "source": [
        "print(diccionario.pop('f', 8))"
      ]
    },
    {
      "cell_type": "markdown",
      "metadata": {},
      "source": [
        "Linea 1\n",
        "\n",
        "Como no hay ninguna tecla con la letra 'f' en el dic, se devuelve 8.\n"
      ]
    },
    {
      "cell_type": "markdown",
      "metadata": {},
      "source": [
        "#####  **2.3. Método Popitem**"
      ]
    },
    {
      "cell_type": "markdown",
      "metadata": {},
      "source": [
        "Popitem borra cualquier par clave-valor y devuelve el par.\n"
      ]
    },
    {
      "cell_type": "code",
      "execution_count": 24,
      "metadata": {},
      "outputs": [
        {
          "name": "stdout",
          "output_type": "stream",
          "text": [
            "('d', 40)\n"
          ]
        }
      ],
      "source": [
        "diccionario = {'a' : 10, 'b' : 20, 'c' : 30, 'd' : 40}\n",
        "print(diccionario.popitem())"
      ]
    },
    {
      "cell_type": "code",
      "execution_count": 25,
      "metadata": {},
      "outputs": [
        {
          "name": "stdout",
          "output_type": "stream",
          "text": [
            "{'a': 10, 'b': 20, 'c': 30}\n"
          ]
        }
      ],
      "source": [
        "print(diccionario)"
      ]
    },
    {
      "cell_type": "markdown",
      "metadata": {},
      "source": [
        "Popitem borra cualquier par clave-valor del diccionario y devuelve el par clave-valor borrado en tupla. \n",
        "\n",
        "El comportamiento de este método depende de la versión de Python, que borra el último par clave-valor en Python 3.6 y superior y cualquier par clave-valor en 3.5 e inferior.\n",
        "\n",
        "Este material de clase se basa en la versión 3.6 de Python o superior, por lo que se devuelve el último elemento.\n"
      ]
    },
    {
      "cell_type": "markdown",
      "metadata": {},
      "source": [
        "### <FONT COLOR=\"blue\">3. Borrar todos los valores-clave : borrar </FONT>"
      ]
    },
    {
      "cell_type": "markdown",
      "metadata": {},
      "source": [
        "#####  **3.1. Metodo Clear**"
      ]
    },
    {
      "cell_type": "markdown",
      "metadata": {},
      "source": [
        "Borrar borra todos los pares clave-valor del diccionario.\n"
      ]
    },
    {
      "cell_type": "code",
      "execution_count": 27,
      "metadata": {},
      "outputs": [
        {
          "name": "stdout",
          "output_type": "stream",
          "text": [
            "{'a': 10, 'b': 20, 'c': 30, 'd': 40}\n",
            "\n",
            "{}\n"
          ]
        }
      ],
      "source": [
        "diccionario = {'a' : 10, 'b' : 20, 'c' : 30, 'd' : 40}\n",
        "print(diccionario)\n",
        "diccionario.clear()\n",
        "print(diccionario)"
      ]
    },
    {
      "cell_type": "markdown",
      "metadata": {},
      "source": [
        "Después de la limpieza, el diccionario dic se convierte en un diccionario vacío {}.\n"
      ]
    },
    {
      "cell_type": "markdown",
      "metadata": {},
      "source": [
        "### <FONT COLOR=\"blue\">4. Traer un valor de una clave específica y guardarlo : get </FONT>"
      ]
    },
    {
      "cell_type": "markdown",
      "metadata": {},
      "source": [
        "#####  **4.1. Método get**"
      ]
    },
    {
      "cell_type": "markdown",
      "metadata": {},
      "source": [
        "Get(key) toma el valor de una clave específica del diccionario.\n",
        "\n",
        "🔵 Lo siguiente trae el valor de la clave 'a' del diccionario"
      ]
    },
    {
      "cell_type": "code",
      "execution_count": 28,
      "metadata": {},
      "outputs": [
        {
          "name": "stdout",
          "output_type": "stream",
          "text": [
            "10\n"
          ]
        }
      ],
      "source": [
        "diccionario = {'a' : 10, 'b' : 20, 'c' : 30, 'd' : 40}\n",
        "a = diccionario.get('a')\n",
        "print(a)"
      ]
    },
    {
      "cell_type": "markdown",
      "metadata": {},
      "source": [
        "Si se especifica un valor por defecto como get(clave valor por defecto), devuelve el valor de la clave cuando el diccionario la tiene pero devuelve el valor por defecto cuando no hay clave.\n",
        "\n",
        "Como no hay clave 'z' en el diccionario, devuelve 0 que se especifica como valor por defecto.\n"
      ]
    },
    {
      "cell_type": "code",
      "execution_count": 29,
      "metadata": {},
      "outputs": [
        {
          "name": "stdout",
          "output_type": "stream",
          "text": [
            "0\n"
          ]
        }
      ],
      "source": [
        "    b = diccionario.get('z', 0)\n",
        "    print(b)"
      ]
    },
    {
      "cell_type": "markdown",
      "metadata": {},
      "source": [
        "### <FONT COLOR=\"blue\">5. Artículos, Claves, Valores </FONT>"
      ]
    },
    {
      "cell_type": "markdown",
      "metadata": {},
      "source": [
        "#####  **5.1. Imprimir el valor de la clave**\n"
      ]
    },
    {
      "cell_type": "markdown",
      "metadata": {},
      "source": [
        "La operación más importante en el diccionario es encontrar el valor asociado a la clave como se indica a continuación."
      ]
    },
    {
      "cell_type": "code",
      "execution_count": 39,
      "metadata": {},
      "outputs": [
        {
          "data": {
            "text/plain": [
              "10"
            ]
          },
          "execution_count": 39,
          "metadata": {},
          "output_type": "execute_result"
        }
      ],
      "source": [
        "diccionario = {'a' : 10, 'b' : 20, 'c' : 30, 'd' : 40}\n",
        "diccionario['a']"
      ]
    },
    {
      "cell_type": "markdown",
      "metadata": {},
      "source": [
        "Para dar salida a todas las claves utilizadas en el diccionario, utilice el método keys como se indica a continuación.\n"
      ]
    },
    {
      "cell_type": "code",
      "execution_count": 42,
      "metadata": {},
      "outputs": [
        {
          "data": {
            "text/plain": [
              "dict_keys(['a', 'b', 'c', 'd'])"
            ]
          },
          "execution_count": 42,
          "metadata": {},
          "output_type": "execute_result"
        }
      ],
      "source": [
        "diccionario = {'a' : 10, 'b' : 20, 'c' : 30, 'd' : 40}\n",
        "diccionario.keys()"
      ]
    },
    {
      "cell_type": "markdown",
      "metadata": {},
      "source": [
        "#####  **5.2. Imprimir valor**"
      ]
    },
    {
      "cell_type": "markdown",
      "metadata": {},
      "source": [
        "Values devuelve todos los valores utilizados en el diccionario.\n",
        "- Sin embargo, values se utiliza para devolver todos los valores utilizados en el diccionario.\n",
        "\n"
      ]
    },
    {
      "cell_type": "code",
      "execution_count": 43,
      "metadata": {},
      "outputs": [
        {
          "data": {
            "text/plain": [
              "dict_values([10, 20, 30, 40])"
            ]
          },
          "execution_count": 43,
          "metadata": {},
          "output_type": "execute_result"
        }
      ],
      "source": [
        "diccionario.values()"
      ]
    },
    {
      "cell_type": "markdown",
      "metadata": {},
      "source": [
        "#####  **5.3. Imprimir tanto la clave como el valor**"
      ]
    },
    {
      "cell_type": "markdown",
      "metadata": {},
      "source": [
        "Los elementos imprimen tanto la clave como el valor.\n",
        "- Además, items puede utilizarse para devolver todos los valores dentro del diccionario.\n",
        "-Cuando se llama a una función como dic.items en el bucle for, se devuelve la tupla (clave,valor), por lo que se puede utilizar como sigue."
      ]
    },
    {
      "cell_type": "code",
      "execution_count": 44,
      "metadata": {},
      "outputs": [
        {
          "data": {
            "text/plain": [
              "dict_items([('a', 10), ('b', 20), ('c', 30), ('d', 40)])"
            ]
          },
          "execution_count": 44,
          "metadata": {},
          "output_type": "execute_result"
        }
      ],
      "source": [
        "diccionario.items()"
      ]
    },
    {
      "cell_type": "code",
      "execution_count": 45,
      "metadata": {},
      "outputs": [
        {
          "name": "stdout",
          "output_type": "stream",
          "text": [
            "a : 10\n",
            "\n",
            "b : 20\n",
            "\n",
            "c : 30\n",
            "\n",
            "d : 40\n"
          ]
        }
      ],
      "source": [
        "for str1, num in diccionario.items():\n",
        "    print(str1, ':', num)"
      ]
    },
    {
      "cell_type": "markdown",
      "metadata": {},
      "source": [
        "Linea 1\n",
        "\n",
        "Los valores correspondientes a las claves y valores del diccionario se asignan a str1 y num, respectivamente.\n"
      ]
    },
    {
      "cell_type": "markdown",
      "metadata": {},
      "source": [
        "#####  **5.4. Varios métodos de diccionario y las funciones**"
      ]
    },
    {
      "cell_type": "markdown",
      "metadata": {},
      "source": [
        "<table>\n",
        "<tr>\n",
        "  <td><strong>Metodo</strong></td>\n",
        "  <td>Funcion</td>\n",
        "<tr>\n",
        "  <td><strong>keys()</strong></td>\n",
        "  <td>Devuelve todas las claves del diccionario.</td>\n",
        "<tr>\n",
        "<tr>\n",
        "  <td><strong>values()</strong></td>\n",
        "  <td>Devuelve todos los valores del diccionario.\n",
        "    </td>\n",
        "<tr>\n",
        "<tr>\n",
        "  <td><strong>items()</strong></td>\n",
        "  <td>Devuelve todos los elementos del diccionario en pares [clave]:[valor].\n",
        "</td>\n",
        "<tr>\n",
        "<tr>\n",
        "  <td><strong>get(key)</strong></td>\n",
        "  <td>Devuelve el valor de la clave. Si no hay ninguna clave, devuelve None.\n",
        "</td>\n",
        "<tr>\n",
        "<tr>\n",
        "  <td><strong>pop(key)</strong></td>\n",
        "  <td>Devuelve el valor de la clave y elimina el elemento. Si no hay clave, provoca una excepción KeyError.\n",
        "</td>\n",
        "<tr>\n",
        "<tr>\n",
        "  <td><strong>popitem()</strong></td>\n",
        "  <td>Devuelve el elemento seleccionado aleatoriamente y borra el elemento.\n",
        "</td>\n",
        "<tr>\n",
        "<tr>\n",
        "  <td><strong>clear()</strong></td>\n",
        "  <td>Borra todos los elementos del diccionario.\n",
        "</td>\n",
        "<tr>\n",
        "</table>"
      ]
    },
    {
      "cell_type": "markdown",
      "metadata": {},
      "source": [
        "## <FONT COLOR=\"blue\">Codificación en papel </FONT>\n"
      ]
    },
    {
      "cell_type": "markdown",
      "metadata": {},
      "source": [
        "Intente comprender completamente el concepto básico antes de pasar al siguiente paso.\n",
        "\n",
        "La falta de comprensión de los conceptos básicos aumentará su carga en el aprendizaje de este curso, lo que puede hacer que no apruebe el curso.\n",
        "\n",
        "Puede ser difícil ahora, pero para completar con éxito este curso le sugerimos que entienda completamente el concepto y pase al siguiente paso.\n"
      ]
    },
    {
      "cell_type": "markdown",
      "metadata": {},
      "source": [
        "### <FONT COLOR=\"blue\">**Q1** </FONT>"
      ]
    },
    {
      "cell_type": "markdown",
      "metadata": {},
      "source": [
        "Vamos a crear un diccionario llamado persona_diccionario con la siguiente información de contacto en su teléfono. \n",
        "Imprima esta información utilizando el bucle for para mostrar los resultados de salida que se muestran a continuación.\n",
        "\n",
        "<table>\n",
        "<tr>\n",
        "  <td><strong>Condiciones de Ejecución</strong></td>\n",
        "  <td>'Apellido': 'Doe', 'Primer nombre': 'David', 'Compañia': 'Samsung'</td>\n",
        "<tr>\n",
        "  <td><strong>Tiempo</strong></td>\n",
        "  <td>5 minutos</td>\n",
        "<tr>\n",
        "</table>\n"
      ]
    },
    {
      "cell_type": "markdown",
      "metadata": {},
      "source": [
        "\n",
        "<div align=\"center\"><img src=\"https://github.com/Repositorio17092022/RepositorioiImagenes/blob/main/unidad14/Imagen319.PNG?raw=true\" width = \"450px\"/></div>"
      ]
    },
    {
      "cell_type": "markdown",
      "metadata": {},
      "source": [
        "### <FONT COLOR=\"blue\">**Q2** </FONT>"
      ]
    },
    {
      "cell_type": "markdown",
      "metadata": {},
      "source": [
        "Escribamos un programa que realice la gestión del inventario en una tienda de conveniencia. Para ello, el inventario de los artículos que se venden en las tiendas de conveniencia se almacena en el diccionario de artículos, como se muestra en el siguiente ejemplo. Escriba un programa que reciba el nombre del artículo de los usuarios y devuelva el inventario del mismo. Suponga que se trata de una tienda de conveniencia muy pequeña y que los artículos tratados son los siguientes.\n",
        "\n",
        "<table>\n",
        "<tr>\n",
        "  <td><strong>Ejemplo de programa\n",
        "  \n",
        " resultados de la ejecución</strong></td>\n",
        "  <td>Introduzca el nombre del artículo: Leche\n",
        "  \n",
        "  1</td>\n",
        "<tr>\n",
        "  <td><strong>Tiempo</strong></td>\n",
        "  <td>5 minutos</td>\n",
        "<tr>\n",
        "</table>\n",
        "\n",
        "\n",
        "Items\n",
        "\n",
        "items = {\"Café\": 7, \"Lápiz\": 3, \"Vaso de papel\": 2, \"Leche\": 1, \"Coca-Cola\": 4, \"Libro\": 5}"
      ]
    },
    {
      "cell_type": "markdown",
      "metadata": {},
      "source": [
        "## <FONT COLOR=\"blue\">Vamos a codificar </FONT>"
      ]
    },
    {
      "cell_type": "markdown",
      "metadata": {},
      "source": [
        "### <FONT COLOR=\"blue\">1. Hagamos una codificación que procese datos de texto </FONT>"
      ]
    },
    {
      "cell_type": "markdown",
      "metadata": {},
      "source": [
        "#####  **1.1. Datos de texto**"
      ]
    },
    {
      "cell_type": "markdown",
      "metadata": {},
      "source": [
        "El texto ha sido utilizado durante mucho tiempo por el ser humano como el medio más importante para intercambiar información de forma eficiente.\n",
        "\n",
        "Los datos de texto pueden dividirse en documentos estructurados (archivos HTML, XML, CSV, JSON) y documentos no estructurados (texto en lenguaje natural).\n",
        "\n",
        "En general, dado que los datos de origen no están procesados, es necesario modificarlos para convertirlos en datos completos.\n",
        "\n",
        "\n",
        "<div align=\"center\"><img src=\"https://github.com/Repositorio17092022/RepositorioiImagenes/blob/main/unidad14/Imagen322.PNG?raw=true\" width = \"450px\"/></div>"
      ]
    },
    {
      "cell_type": "markdown",
      "metadata": {},
      "source": [
        "#####  **1.2. Datos de texto y expresión de la nube de palabras**"
      ]
    },
    {
      "cell_type": "markdown",
      "metadata": {},
      "source": [
        "<div align=\"center\"><img src=\"https://github.com/Repositorio17092022/RepositorioiImagenes/blob/main/unidad14/Imagen323.png?raw=true\" width = \"450px\"/></div>\n",
        "\n",
        "La figura anterior es un ejemplo de una tecnología de visualización llamada nube de palabras proporcionada por wordart.com.\n",
        "\n",
        "Los datos de texto pueden ser procesados hasta cierto punto utilizando sólo las funciones de cadena proporcionadas por la biblioteca primaria de Python, pero excelentes módulos externos como BeautifulSoup, csv, json, y nltk hacen que sea relativamente fácil de procesar y analizar el texto.(Cómo utilizar el módulo externo será cubierto más adelante)\n",
        "\n",
        "Para realizar estas tareas complejas, es necesario aprender a manejar cadenas.\n"
      ]
    },
    {
      "cell_type": "markdown",
      "metadata": {},
      "source": [
        "#####  **1.3. Método de división**"
      ]
    },
    {
      "cell_type": "markdown",
      "metadata": {},
      "source": [
        "El método de división corta las cadenas.\n",
        "- Supongamos que las palabras de la cadena están separadas por separadores como comas y espacios en blanco.\n",
        "- Por ejemplo, si se utiliza el método split para la cadena s como se indica a continuación, se puede separar una cadena en tres cadenas utilizando un espacio como separador.\n",
        "\n",
        "<div align=\"center\"><img src=\"https://github.com/Repositorio17092022/RepositorioiImagenes/blob/main/unidad14/Imagen324.PNG?raw=true\" width = \"650px\"/></div>"
      ]
    },
    {
      "cell_type": "code",
      "execution_count": 46,
      "metadata": {},
      "outputs": [
        {
          "data": {
            "text/plain": [
              "['Bienvenido', 'a', 'Python']"
            ]
          },
          "execution_count": 46,
          "metadata": {},
          "output_type": "execute_result"
        }
      ],
      "source": [
        "s = 'Bienvenido a Python'\n",
        "s.split()"
      ]
    },
    {
      "cell_type": "markdown",
      "metadata": {},
      "source": [
        "#####  **1.4. Ejemplo de uso de la división**"
      ]
    },
    {
      "cell_type": "markdown",
      "metadata": {},
      "source": [
        "Por otra parte, si hay años, meses y días divididos por periodos, como se indica a continuación, si el periodo (.) se da como factor en el método de división, los caracteres pueden clasificarse por periodos.\n"
      ]
    },
    {
      "cell_type": "code",
      "execution_count": 47,
      "metadata": {},
      "outputs": [
        {
          "data": {
            "text/plain": [
              "['2021', '8', '15']"
            ]
          },
          "execution_count": 47,
          "metadata": {},
          "output_type": "execute_result"
        }
      ],
      "source": [
        "s = '2021.8.15'\n",
        "s.split('.')"
      ]
    },
    {
      "cell_type": "markdown",
      "metadata": {},
      "source": [
        "Separe \"¡Hola, mundo!\" con una coma como se muestra a continuación.\n"
      ]
    },
    {
      "cell_type": "code",
      "execution_count": 57,
      "metadata": {},
      "outputs": [
        {
          "data": {
            "text/plain": [
              "['Hola', ' mundo!']"
            ]
          },
          "execution_count": 57,
          "metadata": {},
          "output_type": "execute_result"
        }
      ],
      "source": [
        "s = 'Hola, mundo!'\n",
        "s.split(\",\")"
      ]
    },
    {
      "cell_type": "markdown",
      "metadata": {},
      "source": [
        "Los resultados de la ejecución muestran que se ha separado en \"Hola\" y \"Mundo\". Sin embargo, el aspecto es incómodo porque hay un espacio delante de W.\n",
        "\n",
        "Estos espacios pueden ser eliminados por el método strip."
      ]
    },
    {
      "cell_type": "markdown",
      "metadata": {},
      "source": [
        "#####  **1.5. Método de Strip**"
      ]
    },
    {
      "cell_type": "markdown",
      "metadata": {},
      "source": [
        "Elimina el espacio antes y después de la cadena.\n",
        "- Sin embargo, este método no puede aplicarse si hay más de dos espacios o espacios antes y después de la cadena. \n",
        "- El código que se muestra a continuación no está correctamente separado porque se utiliza un carácter separador incorrecto.\n",
        "\n"
      ]
    },
    {
      "cell_type": "code",
      "execution_count": 62,
      "metadata": {},
      "outputs": [
        {
          "data": {
            "text/plain": [
              "['Hola', 'Mundo!']"
            ]
          },
          "execution_count": 62,
          "metadata": {},
          "output_type": "execute_result"
        }
      ],
      "source": [
        "s = 'Hola, Mundo!'\n",
        "s.split(', ')"
      ]
    },
    {
      "cell_type": "markdown",
      "metadata": {},
      "source": [
        "La tira elimina el espacio antes y después de la cadena.\n",
        "- Si hay un espacio después de una coma, como se indica a continuación, se recomienda eliminar el espacio después de dividirlo por comas.\n",
        "- Sería deseable eliminar el espacio antes y después de la cadena utilizando el método de la tira como a continuación.\n",
        "- El siguiente código es como una abreviatura de la lista y será tratado en detalle en la Unidad 19.\n",
        "- Este método de expresión aparece a menudo en la codificación de Python.\n"
      ]
    },
    {
      "cell_type": "code",
      "execution_count": 63,
      "metadata": {},
      "outputs": [
        {
          "data": {
            "text/plain": [
              "['Bienvenido', ' a', ' Python', ' y', ' bla', ' bla   ']"
            ]
          },
          "execution_count": 63,
          "metadata": {},
          "output_type": "execute_result"
        }
      ],
      "source": [
        "s = 'Bienvenido, a, Python, y, bla, bla   '\n",
        "s.split(',')  # separado s usando coma como separador"
      ]
    },
    {
      "cell_type": "code",
      "execution_count": 64,
      "metadata": {},
      "outputs": [
        {
          "data": {
            "text/plain": [
              "['Bienvenido', 'a', 'Python', 'y', 'bla', 'bla']"
            ]
          },
          "execution_count": 64,
          "metadata": {},
          "output_type": "execute_result"
        }
      ],
      "source": [
        "s = 'Bienvenido, a, Python, y, bla, bla   '\n",
        "[x.strip() for x in s.split(',')]  # Eliminar espacio antes y después del carácter del separador."
      ]
    },
    {
      "cell_type": "markdown",
      "metadata": {},
      "source": [
        "La tira elimina el espacio antes y después de la cadena.\n",
        "- Al procesar datos de cadena, el método strip se encarga de eliminar los espacios no deseados de la cadena. \n",
        "- El lstrip elimina el espacio de la izquierda de la cadena.\n",
        "- El rstrip elimina el espacio de la derecha de la cadena.\n",
        "\n",
        "<div align=\"center\"><img src=\"https://github.com/Repositorio17092022/RepositorioiImagenes/blob/main/unidad14/Imagen328.PNG?raw=true\" width = \"650px\"/></div>"
      ]
    },
    {
      "cell_type": "code",
      "execution_count": 65,
      "metadata": {},
      "outputs": [
        {
          "data": {
            "text/plain": [
              "'Hola, Mundo'"
            ]
          },
          "execution_count": 65,
          "metadata": {},
          "output_type": "execute_result"
        }
      ],
      "source": [
        "s = \"   Hola, Mundo   \"\n",
        "s.strip()"
      ]
    },
    {
      "cell_type": "code",
      "execution_count": 67,
      "metadata": {},
      "outputs": [
        {
          "data": {
            "text/plain": [
              "'Hola, Mundo   '"
            ]
          },
          "execution_count": 67,
          "metadata": {},
          "output_type": "execute_result"
        }
      ],
      "source": [
        "s.lstrip()"
      ]
    },
    {
      "cell_type": "code",
      "execution_count": 68,
      "metadata": {},
      "outputs": [
        {
          "data": {
            "text/plain": [
              "'   Hola, Mundo'"
            ]
          },
          "execution_count": 68,
          "metadata": {},
          "output_type": "execute_result"
        }
      ],
      "source": [
        "s.rstrip()"
      ]
    },
    {
      "cell_type": "markdown",
      "metadata": {},
      "source": [
        "#####  **1.6. Método de eliminación y cómo borrar caracteres específicos**"
      ]
    },
    {
      "cell_type": "markdown",
      "metadata": {},
      "source": [
        "Si desea eliminar un carácter particular antes y después de la cadena, transfiera el carácter como un factor de la tira.\n",
        "\n",
        "El código siguiente es para borrar el carácter '#'.\n"
      ]
    },
    {
      "cell_type": "code",
      "execution_count": 69,
      "metadata": {},
      "outputs": [
        {
          "data": {
            "text/plain": [
              "'esto es un ejemplo'"
            ]
          },
          "execution_count": 69,
          "metadata": {},
          "output_type": "execute_result"
        }
      ],
      "source": [
        "s = \"########esto es un ejemplo#####\"\n",
        "s.strip('#')"
      ]
    },
    {
      "cell_type": "markdown",
      "metadata": {},
      "source": [
        "rstrip y lstrip también pueden incluir ciertos caracteres como factores."
      ]
    },
    {
      "cell_type": "code",
      "execution_count": 70,
      "metadata": {},
      "outputs": [
        {
          "data": {
            "text/plain": [
              "'esto es un ejemplo#####'"
            ]
          },
          "execution_count": 70,
          "metadata": {},
          "output_type": "execute_result"
        }
      ],
      "source": [
        "s = \"########esto es un ejemplo#####\"\n",
        "s.lstrip('#')"
      ]
    },
    {
      "cell_type": "code",
      "execution_count": 71,
      "metadata": {},
      "outputs": [
        {
          "data": {
            "text/plain": [
              "'########esto es un ejemplo'"
            ]
          },
          "execution_count": 71,
          "metadata": {},
          "output_type": "execute_result"
        }
      ],
      "source": [
        "s = \"########esto es un ejemplo#####\"\n",
        "s.rstrip('#')"
      ]
    },
    {
      "cell_type": "markdown",
      "metadata": {},
      "source": [
        "#####  **1.7. Método de unión que conecta cadenas**"
      ]
    },
    {
      "cell_type": "markdown",
      "metadata": {},
      "source": [
        "Si split es una función de separación de una cadena en una subcadena, join es una función que recoge la subcadena y la convierte en una cadena. Cuando se llama a join, se pueden designar caracteres que actúan como adhesivos.\n",
        "\n",
        "<div align=\"center\"><img src=\"https://github.com/Repositorio17092022/RepositorioiImagenes/blob/main/unidad14/Imagen330.PNG?raw=true\" width = \"650px\"/></div>"
      ]
    },
    {
      "cell_type": "code",
      "execution_count": 72,
      "metadata": {},
      "outputs": [
        {
          "data": {
            "text/plain": [
              "'Manzana,Uva,Banano'"
            ]
          },
          "execution_count": 72,
          "metadata": {},
          "output_type": "execute_result"
        }
      ],
      "source": [
        "','.join(['Manzana','Uva','Banano'])"
      ]
    },
    {
      "cell_type": "markdown",
      "metadata": {},
      "source": [
        "Conecta tres palabras usando coma\n"
      ]
    },
    {
      "cell_type": "code",
      "execution_count": 73,
      "metadata": {},
      "outputs": [
        {
          "data": {
            "text/plain": [
              "'010-1234-5678'"
            ]
          },
          "execution_count": 73,
          "metadata": {},
          "output_type": "execute_result"
        }
      ],
      "source": [
        "'-'.join('010.1234.5678'.split('.')) # Cambiar el número de teléfono con.a -"
      ]
    },
    {
      "cell_type": "markdown",
      "metadata": {},
      "source": [
        "En el ejemplo anterior, podemos ver que la unión pone caracteres adhesivos sólo entre las cadenas y no antes o después de las cadenas.\n",
        "\n",
        "Si no se especifica la cadena de unión, devuelve la cadena sin espacios.\n",
        "- Si no se especifica la cadena a unir, se adjunta la cadena y se devuelve como se indica a continuación.\n"
      ]
    },
    {
      "cell_type": "code",
      "execution_count": 74,
      "metadata": {},
      "outputs": [
        {
          "data": {
            "text/plain": [
              "'ManzanaUvaBanano'"
            ]
          },
          "execution_count": 74,
          "metadata": {},
          "output_type": "execute_result"
        }
      ],
      "source": [
        "''.join(['Manzana','Uva','Banano'])"
      ]
    },
    {
      "cell_type": "markdown",
      "metadata": {},
      "source": [
        "La unión se utiliza a veces para recoger caracteres separados.\n",
        "- join también se utiliza para recoger los caracteres separados por la función de lista de la siguiente manera y convertirlos de nuevo en la cadena original.\n",
        "\n",
        "🔵 Conectemos clist, \"hola mundo\" que se cambia de cadena a lista, usando join.\n"
      ]
    },
    {
      "cell_type": "code",
      "execution_count": 75,
      "metadata": {},
      "outputs": [
        {
          "data": {
            "text/plain": [
              "['h', 'o', 'l', 'a', ' ', 'm', 'u', 'n', 'd', 'o']"
            ]
          },
          "execution_count": 75,
          "metadata": {},
          "output_type": "execute_result"
        }
      ],
      "source": [
        "s = 'hola mundo'\n",
        "clist = list(s)\n",
        "clist"
      ]
    },
    {
      "cell_type": "code",
      "execution_count": 76,
      "metadata": {},
      "outputs": [
        {
          "data": {
            "text/plain": [
              "'hola mundo'"
            ]
          },
          "execution_count": 76,
          "metadata": {},
          "output_type": "execute_result"
        }
      ],
      "source": [
        "''.join(clist)"
      ]
    },
    {
      "cell_type": "markdown",
      "metadata": {},
      "source": [
        "#####  **1.8. Utilizar la división y la unión**"
      ]
    },
    {
      "cell_type": "markdown",
      "metadata": {},
      "source": [
        "Usando split y join juntos, podemos eliminar los espacios innecesarios de la cadena.\n"
      ]
    },
    {
      "cell_type": "code",
      "execution_count": 80,
      "metadata": {},
      "outputs": [
        {
          "data": {
            "text/plain": [
              "'Acciones \\n\\t hablan más que las palabras'"
            ]
          },
          "execution_count": 80,
          "metadata": {},
          "output_type": "execute_result"
        }
      ],
      "source": [
        "cadena_a = 'Acciones \\n\\t hablan más que las palabras'\n",
        "cadena_a"
      ]
    },
    {
      "cell_type": "code",
      "execution_count": 81,
      "metadata": {},
      "outputs": [
        {
          "name": "stdout",
          "output_type": "stream",
          "text": [
            "Acciones \n",
            "\n",
            "\t hablan más que las palabras\n"
          ]
        }
      ],
      "source": [
        "print(cadena_a)"
      ]
    },
    {
      "cell_type": "code",
      "execution_count": 82,
      "metadata": {},
      "outputs": [
        {
          "data": {
            "text/plain": [
              "['Acciones', 'hablan', 'más', 'que', 'las', 'palabras']"
            ]
          },
          "execution_count": 82,
          "metadata": {},
          "output_type": "execute_result"
        }
      ],
      "source": [
        "lista_palabras = cadena_a.split()\n",
        "lista_palabras"
      ]
    },
    {
      "cell_type": "code",
      "execution_count": 83,
      "metadata": {},
      "outputs": [
        {
          "name": "stdout",
          "output_type": "stream",
          "text": [
            "Acciones hablan más que las palabras\n"
          ]
        }
      ],
      "source": [
        "cadena_refinada = \" \".join(lista_palabras)  # El cambio de línea y toque desaparece de A_String\n",
        "print(cadena_refinada)"
      ]
    },
    {
      "cell_type": "markdown",
      "metadata": {},
      "source": [
        "Después de eliminar el espacio usando Split, la cadena se adjunta usando unión."
      ]
    },
    {
      "cell_type": "markdown",
      "metadata": {},
      "source": [
        "#####  **1.9. Conversión de mayúsculas y minúsculas**"
      ]
    },
    {
      "cell_type": "markdown",
      "metadata": {},
      "source": [
        "En una cadena, la función de cambiar las letras mayúsculas a minúsculas es minúscula, y el método opuesto de cambiar a mayúsculas es una función mayúscula.\n"
      ]
    },
    {
      "cell_type": "code",
      "execution_count": 84,
      "metadata": {},
      "outputs": [
        {
          "data": {
            "text/plain": [
              "'hola, mundo!'"
            ]
          },
          "execution_count": 84,
          "metadata": {},
          "output_type": "execute_result"
        }
      ],
      "source": [
        "s = 'Hola, Mundo!'\n",
        "s.lower()"
      ]
    },
    {
      "cell_type": "code",
      "execution_count": 85,
      "metadata": {},
      "outputs": [
        {
          "data": {
            "text/plain": [
              "'HOLA, MUNDO!'"
            ]
          },
          "execution_count": 85,
          "metadata": {},
          "output_type": "execute_result"
        }
      ],
      "source": [
        "s.upper()"
      ]
    },
    {
      "cell_type": "markdown",
      "metadata": {},
      "source": [
        "Capitalizar es una función que convierte sólo la primera letra en mayúsculas.\n"
      ]
    },
    {
      "cell_type": "code",
      "execution_count": 86,
      "metadata": {},
      "outputs": [
        {
          "data": {
            "text/plain": [
              "'Hola'"
            ]
          },
          "execution_count": 86,
          "metadata": {},
          "output_type": "execute_result"
        }
      ],
      "source": [
        "s = 'hola'\n",
        "s.capitalize()"
      ]
    },
    {
      "cell_type": "markdown",
      "metadata": {},
      "source": [
        "#####  **1.10 Método Startswith**"
      ]
    },
    {
      "cell_type": "markdown",
      "metadata": {},
      "source": [
        "Startswith nos dice si una cadena comienza con un carácter específico.\n",
        "\n",
        "En el código siguiente, la primera letra es la \"A\", por lo que devuelve True.\n"
      ]
    },
    {
      "cell_type": "code",
      "execution_count": 87,
      "metadata": {},
      "outputs": [
        {
          "data": {
            "text/plain": [
              "True"
            ]
          },
          "execution_count": 87,
          "metadata": {},
          "output_type": "execute_result"
        }
      ],
      "source": [
        "s = 'ABCDEFGHIJKLMNOPQRSTUVWXYZ'\n",
        "s.startswith('A')"
      ]
    },
    {
      "cell_type": "markdown",
      "metadata": {},
      "source": [
        "Al añadir el segundo factor, podemos decidir por dónde empezar a buscar.\n"
      ]
    },
    {
      "cell_type": "code",
      "execution_count": 88,
      "metadata": {},
      "outputs": [
        {
          "data": {
            "text/plain": [
              "True"
            ]
          },
          "execution_count": 88,
          "metadata": {},
          "output_type": "execute_result"
        }
      ],
      "source": [
        "s.startswith('B', 1)"
      ]
    },
    {
      "cell_type": "code",
      "execution_count": 89,
      "metadata": {},
      "outputs": [
        {
          "data": {
            "text/plain": [
              "False"
            ]
          },
          "execution_count": 89,
          "metadata": {},
          "output_type": "execute_result"
        }
      ],
      "source": [
        "s.startswith('B', 5)"
      ]
    },
    {
      "cell_type": "markdown",
      "metadata": {},
      "source": [
        "Como \"B\" está en la segunda posición, startswith('B',1) devuelve True y startswith('B',5) devuelve False.\n"
      ]
    },
    {
      "cell_type": "markdown",
      "metadata": {},
      "source": [
        "##### **1.11 Método endswith**"
      ]
    },
    {
      "cell_type": "markdown",
      "metadata": {},
      "source": [
        "Endswith nos dice si una cadena termina con un carácter determinado.\n",
        "- En el código siguiente, como el último carácter termina en \"Z\", endswith('Z') devuelve True."
      ]
    },
    {
      "cell_type": "code",
      "execution_count": 90,
      "metadata": {},
      "outputs": [
        {
          "data": {
            "text/plain": [
              "False"
            ]
          },
          "execution_count": 90,
          "metadata": {},
          "output_type": "execute_result"
        }
      ],
      "source": [
        "s = 'ABCDEFGHIJKLMNOPQRSTUVWXYZ'\n",
        "s.endswith('A')"
      ]
    },
    {
      "cell_type": "markdown",
      "metadata": {},
      "source": [
        "endswith nos dice si una cadena termina con un carácter determinado.\n",
        "\n",
        "Como segundo factor del método endswith, se puede especificar el inicio de una cadena y el final de la misma como tercer factor.\n",
        "- endswith(Buscar cadena, inicio de la cadena, final de la cadena)\n"
      ]
    },
    {
      "cell_type": "code",
      "execution_count": 91,
      "metadata": {},
      "outputs": [
        {
          "data": {
            "text/plain": [
              "True"
            ]
          },
          "execution_count": 91,
          "metadata": {},
          "output_type": "execute_result"
        }
      ],
      "source": [
        "s.endswith('C', 1, 3)"
      ]
    },
    {
      "cell_type": "code",
      "execution_count": 92,
      "metadata": {},
      "outputs": [
        {
          "data": {
            "text/plain": [
              "False"
            ]
          },
          "execution_count": 92,
          "metadata": {},
          "output_type": "execute_result"
        }
      ],
      "source": [
        "s.endswith('C', 1, 10)"
      ]
    },
    {
      "cell_type": "markdown",
      "metadata": {},
      "source": [
        "Linea 1\n",
        "\n",
        "s = 'ABCDEFGHIJKLMNOPQRSTUVWXYZ' , si 1 y 3 especifican el principio y el final de la cadena, ésta se convierte en 'ABC'.\n",
        "\n",
        "Por lo tanto, endswith('C', 1, 3) es True.\n"
      ]
    },
    {
      "cell_type": "markdown",
      "metadata": {},
      "source": [
        "#####  **1.12 Método Endswith**"
      ]
    },
    {
      "cell_type": "markdown",
      "metadata": {},
      "source": [
        "Reemplazar puede sustituir un carácter específico de una cadena por otro.\n",
        "\n",
        "- El método de uso de replace es el siguiente\n",
        "- replace(old, new, [count]) -> replace(\"Valor a encontrar\", \"Valor a cambiar\", [número de cambio])\n",
        "- El código siguiente es un código que elimina o sustituye las comas (,) en la cadena de texto tantas veces como sea posible."
      ]
    },
    {
      "cell_type": "code",
      "execution_count": 93,
      "metadata": {},
      "outputs": [
        {
          "name": "stdout",
          "output_type": "stream",
          "text": [
            "Resultado: \n",
            "\n",
            "123456789999\n",
            "\n",
            "123456,789,999\n",
            "\n",
            "123456789,999\n",
            "\n",
            "123456789999\n"
          ]
        }
      ],
      "source": [
        "texto = '123,456,789,999'\n",
        "\n",
        "sustituirtodo = texto.replace(\",\",\"\")\n",
        "sustituir_t1 = texto.replace(\",\", \"\",1)\n",
        "sustituir_t2 = texto.replace(\",\", \"\",2)\n",
        "sustituir_t3 = texto.replace(\",\", \"\",3)\n",
        "print(\"Resultado: \")\n",
        "print(sustituirtodo)\n",
        "print(sustituir_t1)\n",
        "print(sustituir_t2)\n",
        "print(sustituir_t3)"
      ]
    },
    {
      "cell_type": "markdown",
      "metadata": {},
      "source": [
        "## <FONT COLOR=\"blue\">Programación por parejas </FONT>\n"
      ]
    },
    {
      "cell_type": "markdown",
      "metadata": {},
      "source": [
        "### <FONT COLOR=\"blue\">**Práctica de la programación en parejas** </FONT>"
      ]
    },
    {
      "cell_type": "markdown",
      "metadata": {},
      "source": [
        "**Directriz, mecanismos y plan de contingencia**\n",
        "\n",
        " Preparar la programación por parejas implica establecer pautas y mecanismos para ayudar a los alumnos a emparejarse correctamente y mantenerlos emparejados.  Por ejemplo, los estudiantes deben turnarse para \"conducir el ratón\".  La preparación efectiva requiere planes de contingencia en caso de que uno de los socios se ausente o decida no participar por una u otra razón.  En estos casos, es importante dejar claro que el alumno activo no será sancionado porque el emparejamiento no funcionó bien.\n",
        "\n",
        "**Emparejar habilidades similares, no necesariamente iguales, como socios**\n",
        "\n",
        " La programación en parejas puede ser efectiva cuando los estudiantes con habilidades similares, aunque no necesariamente iguales, se emparejan como compañeros.  El emparejamiento de estudiantes que no coinciden a menudo puede conducir a una participación desequilibrada.  Los maestros deben enfatizar que la programación en parejas no es una estrategia de \"divide y vencerás\", sino más bien un verdadero esfuerzo de colaboración en cada esfuerzo por todo el proyecto.  Los maestros deben evitar emparejar a estudiantes muy débiles con estudiantes muy fuertes.\n",
        "\n",
        "**Motivar a los estudiantes ofreciendo incentivos adicionales**\n",
        "\n",
        " Ofrecer incentivos adicionales puede ayudar a motivar a los estudiantes a emparejarse, especialmente con estudiantes avanzados.  A algunos maestros les ha resultado útil pedirles a los estudiantes que se emparejen solo para una o dos tareas.\n",
        "\n",
        "**Evitar trampas en la colaboración**\n",
        "\n",
        " El desafío para el maestro es encontrar formas de evaluar los resultados individuales, mientras aprovecha los beneficios de la colaboración.  ¿Cómo saber si un estudiante aprendió o hizo trampa?  Los expertos recomiendan revisar el diseño y la evaluación del curso, así como discutir explícita y concretamente con los estudiantes los comportamientos que se interpretarán como trampa.  Los expertos alientan a los maestros a hacer que las tareas sean significativas para los estudiantes y a explicar el valor de lo que los estudiantes aprenderán al completarlas.\n",
        "\n",
        "**Entorno de aprendizaje colaborativo**\n",
        "\n",
        " Un entorno de aprendizaje colaborativo ocurre cada vez que un instructor requiere que los estudiantes trabajen juntos en actividades de aprendizaje.  Los entornos de aprendizaje colaborativo pueden implicar actividades tanto formales como informales y pueden incluir o no una evaluación directa.  Por ejemplo, parejas de estudiantes trabajan en asignaciones de programación;  pequeños grupos de estudiantes discuten posibles respuestas a la pregunta de un profesor durante la lección;  y los estudiantes trabajan juntos fuera de clase para aprender nuevos conceptos.  El aprendizaje colaborativo es distinto de los proyectos en los que los estudiantes \"dividen y vencerán\".  Cuando los estudiantes dividen el trabajo, cada uno es responsable de solo una parte de la resolución del problema y hay oportunidades muy limitadas para resolver los problemas con los demás.  En entornos colaborativos, los estudiantes participan en conversaciones intelectuales entre ellos."
      ]
    },
    {
      "cell_type": "markdown",
      "metadata": {},
      "source": [
        "### <FONT COLOR=\"blue\">**Q1** </FONT>"
      ]
    },
    {
      "cell_type": "markdown",
      "metadata": {},
      "source": [
        "Actualicemos el programa para gestionar el inventario de las tiendas de conveniencia que resolvimos en la codificación en papel. En otras palabras, añadir código para aumentar o disminuir el inventario. También, hacer menús simples como la consulta de inventario, el almacenamiento y el envío.\n",
        "\n",
        "items = {\"Cafe\": 7, \"Puma\": 3, \"Vaso de papel\": 2, \"Leche\": 1, \"coca -cola\": 4, \"Libro\": 5,}\n",
        "\n",
        "Ejemplo de salida\n",
        "\n",
        "Seleccione el menú 1)comprobar existencias 2)almacenamiento 3) liberación 4) salir :1\n",
        "\n",
        "[comprobar existencias] Introduzca el artículo: leche\n",
        "- Existencias: 1\n",
        "\n",
        "Seleccione el menú 1)comprobar existencias 2)almacenamiento 3)liberar 4)salir :1\n",
        "\n",
        "[Liberación] Introduzca el artículo y la cantidad: coca-cola 1\n",
        "\n",
        "Seleccione el menú 1)comprobar existencias 2)almacenamiento 3) liberar 4) salir :1\n",
        "\n",
        "[comprobar existencias] Introduzca el artículo: coca-cola\n",
        "- Existencias: 3\n",
        "\n",
        "Seleccione el menú 1)comprobar stock 2)almacenamiento 3) liberar 4) salir :1\n",
        "\n",
        "Se ha salido del programa.\n",
        "\n",
        "\n",
        "<div align=\"center\"><img src=\"https://github.com/Repositorio17092022/RepositorioiImagenes/blob/main/unidad14/Imagen342.png?raw=true\" width = \"650px\"/></div>"
      ]
    }
  ],
  "metadata": {
    "kernelspec": {
      "display_name": "Python 3.9.13 64-bit (microsoft store)",
      "language": "python",
      "name": "python3"
    },
    "language_info": {
      "codemirror_mode": {
        "name": "python",
        "version": 3
      },
      "file_extension": ".py",
      "mimetype": "text/x-python",
      "name": "python",
      "nbconvert_exporter": "python",
      "pygments_lexer": "ipython3",
      "version": "3.9.13"
    },
    "vscode": {
      "interpreter": {
        "hash": "d6ff7cb00638fb92356a42c28981a177178b7e1976aa8ecd498ce1508ea8d5e4"
      }
    }
  },
  "nbformat": 4,
  "nbformat_minor": 4
}
