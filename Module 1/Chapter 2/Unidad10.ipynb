{
  "cells": [
    {
      "cell_type": "markdown",
      "metadata": {},
      "source": [
        "# <FONT COLOR=\"blue\"> **Samsung Innovation Campus**</FONT>  \n",
        "\n",
        "## <FONT COLOR=\"blue\">**Codificación y Programación**</FONT>\n",
        "\n",
        "\n",
        "# **Capítulo 2. Programación básica de Python - Tipo de datos de secuencia en Python**\n",
        "\n",
        "## Objetivos del capítulo\n",
        "- Los alumnos podrán usar tipos de datos de secuencia, como la lista, el diccionario, la tupla y el conjunto de Python. Python se caracteriza al proporcionar estructuras de datos enriquecidas que incluyen tipos de datos de secuencia, y los alumnos utilizarán esas estructuras de datos para adquirir habilidades de codificación avanzadas. \n",
        "\n",
        "## Contenido del capítulo\n",
        "- Unidad 10. Tipos de datos: lista y tupla\n",
        "- Unidad 11. Tipos de datos: diccionario\n",
        "- Unidad 12. Tipos de datos: secuencia\n",
        "- Unidad 13. Listas 2D\n",
        "- Unidad 14. Diccionario: Método 1\n",
        "- Unidad 15. Diccionario: Método 2\n",
        "- Unidad 16. Tipo de datos: Set\n"
      ]
    },
    {
      "cell_type": "markdown",
      "metadata": {},
      "source": [
        "# **Unidad 10. Tipos de datos: listas y tuplas.**"
      ]
    },
    {
      "cell_type": "markdown",
      "metadata": {},
      "source": [
        "## Objetivos de aprendizaje\n",
        "\n",
        "- Comprender la necesidad y el concepto de los tipos de datos de lista\n",
        "- Comprender y utilizar la indexación de listas \n",
        "- Ser capaz de calcular los valores máximos y mínimos de la lista utilizando varios tipos de funciones incorporadas\n",
        "- Ser capaz de entender las diferencias entre lista y tupla y seleccionar los tipos de datos apropiados para diferentes condiciones de desarrollo \n",
        "- Ser capaz de utilizar la tupla para asignar valores a diferentes variables a la vez \n",
        "- Ser capaz de extraer los datos necesarios mediante el corte de listas y tuplas\n",
        "\n",
        "## Resumen de aprendizaje\n",
        "\n",
        "- Aprender las diferencias entre las estructuras de datos avanzadas, incluyendo lista, diccionario, tupla\n",
        "- Aprender las características de los tipos de datos de lista de Python y varios métodos  \n",
        "- Aprender la necesidad y las aplicaciones de los tipos de datos de lista\n",
        "- Aprender las características de los tipos de datos tupla y lista y cómo aplicarlos\n",
        "\n",
        "## Conceptos que deberá conocer de las unidades anteriores\n",
        "\n",
        "- Estar familiarizado con las funciones de varios operadores de Python como los operadores aritméticos, los operadores de comparación, los operadores lógicos y cómo utilizarlos\n",
        "- Cómo utilizar los bucles for() y while() \n",
        "- Cómo utilizar los métodos input() y split de las cadenas\n",
        "\n",
        "## Palabras clave\n",
        "\n",
        "<table>\n",
        "<tr>\n",
        "  <td><strong>Listas</strong></td>\n",
        "  <td><strong>Indexación</strong></td>\n",
        "<tr>\n",
        "  <td><strong>Rebanar</strong></td>\n",
        "  <td><strong>operadores in/not</strong></td>\n",
        "  <td><strong>Tupla</strong></td>\n",
        "<tr>\n",
        "</table>"
      ]
    },
    {
      "cell_type": "markdown",
      "metadata": {},
      "source": [
        "## <FONT COLOR=\"blue\"> Misión</FONT>"
      ]
    },
    {
      "cell_type": "markdown",
      "metadata": {},
      "source": [
        "### <FONT COLOR=\"blue\">1.Problema del mundo real </FONT>"
      ]
    },
    {
      "cell_type": "markdown",
      "metadata": {},
      "source": [
        "#####  **1.1. Los grandes datos son importantes, pero es muy difícil trabajar con ellos**"
      ]
    },
    {
      "cell_type": "markdown",
      "metadata": {},
      "source": [
        "<div align=\"center\"><img src=\"https://github.com/Repositorio17092022/RepositorioiImagenes/blob/main/unidad10/imagen9.png?raw=true\"  width= \"350px\" /></div>\n",
        "\n",
        "\n",
        "- Los datos actuales suelen ser extremadamente masivos y complejos, de manera que es difícil procesarlos con el software de gestión de datos.\n",
        "- Un término para los datos de gran capacidad es \"big data\". Además de su volumen masivo, los big data se crean muy rápidamente y se encuentran muchos datos atípicos.\n",
        "- Por eso, aunque los big data son muy importantes, es difícil trabajar con ellos.\n",
        "- La tecnología de big data utilizada en marketing rastrea el historial de compras de los clientes para analizar cuándo y por qué compraron un determinado producto para reforzar los valores comerciales del producto existente y hacer promociones orientadas al cliente."
      ]
    },
    {
      "cell_type": "markdown",
      "metadata": {},
      "source": [
        "#####  **1.2. Realización de un programa de análisis de datos**"
      ]
    },
    {
      "cell_type": "markdown",
      "metadata": {},
      "source": [
        "\n",
        "<div align=\"center\"><img src=\"https://github.com/Repositorio17092022/RepositorioiImagenes/blob/main/unidad10/Imagen10.png?raw=true\"  width= \"350px\" /></div>\n",
        "\n",
        "- La base de datos de la empresa A tiene mucha información sobre los clientes que han comprado los productos de la empresa. Supongamos que la información de los clientes incluye el nombre, la edad, el sexo, la altura, el peso y muchos otros datos sobre los clientes.\n",
        "- Para la comodidad de guardar, la información de varios clientes estaría en un solo valor de datos.\n",
        "- Al guardar los datos en un solo valor de datos, sería mucho más conveniente al establecer las órdenes de introducir el nombre, la dirección y la edad de los clientes. \n",
        "- A partir de esta misión, usted será capaz de hacer un programa de análisis de datos mediante la introducción de información personal de múltiples clientes."
      ]
    },
    {
      "cell_type": "markdown",
      "metadata": {},
      "source": [
        "#####  **1.3. ¿Hoja de cálculo?**\n"
      ]
    },
    {
      "cell_type": "markdown",
      "metadata": {},
      "source": [
        "\n",
        "<div align=\"center\"><img src=\"https://github.com/Repositorio17092022/RepositorioiImagenes/blob/main/unidad10/Imagen11.png?raw=true\"  width= \"350px\" /></div>\n",
        "\n",
        "La primera hoja de cálculo del mundo\n",
        "\n",
        "- Entre los programas ofimáticos para el tratamiento de datos, la hoja de cálculo es un programa que procesa datos de tipo tabla.\n",
        "- El Excel de Microsoft es el programa de hoja de cálculo más utilizado para trabajos de oficina.\n",
        "- La primera hoja de cálculo del mundo es el programa llamado VisiCalc, desarrollado por VisiCorp en 1979.\n",
        "- Este programa fue diseñado para ser ejecutado por el ordenador llamado Apple 2."
      ]
    },
    {
      "cell_type": "markdown",
      "metadata": {},
      "source": [
        "### <FONT COLOR=\"blue\">2. Solución </FONT> "
      ]
    },
    {
      "cell_type": "markdown",
      "metadata": {},
      "source": [
        "#####  **2.1 Base de datos personal**"
      ]
    },
    {
      "cell_type": "markdown",
      "metadata": {},
      "source": [
        "<div align=\"center\"><img src=\"https://github.com/Repositorio17092022/RepositorioiImagenes/blob/main/unidad10/Imagen12.png?raw=true\"  width= \"350px\" /></div>\n",
        "\n",
        "- Supongamos que se guardan en la lista cinco tipos diferentes de información de una persona, incluyendo el nombre, la edad, el sexo, la altura y el peso.\n",
        "- Por ejemplo, si una persona llamada David Doe es un varón de 20 años, mide 180cm y pesa 100kg, su información se expresará como una lista ['David Doe', 20, 1, 180.0, 100.0].\n",
        "- Si una persona llamada Jane Carter es una mujer de 22 años que mide 169cm y pesa 60kg, se expresará como ['Jane Carter', 22, 0, 169.0, 60.0]. \n",
        "- El tercer elemento es la información sobre el género, que se expresará como 0 para las mujeres y 1 para los hombres.\n",
        "- Al reunir la información de estas dos personas, se expresará como [' David Doe ', 20, 1, 180,0, 100,0, ' Jane Carter ', 22, 0, 169,0, 60,0]. Este método para procesar la información de varias personas es útil en la vida real."
      ]
    },
    {
      "cell_type": "markdown",
      "metadata": {},
      "source": [
        "#####  **2.2 Creación de una base de datos personal**\n"
      ]
    },
    {
      "cell_type": "markdown",
      "metadata": {},
      "source": [
        "Introducir la información de varios clientes y procesarla a la vez sería la tarea más fundamental en la ciencia de los datos. \n",
        "\n",
        "En esta misión, se procesará la información personal de cuatro personas. Se crea la lista \"lista_personas\" para integrar la información de cuatro personas como se muestra a continuación. El programa calcula la edad media de las personas, en la lista_personas se implementará mediante slicing, que es importante en las listas. El slicing se trata en este capítulo. "
      ]
    },
    {
      "cell_type": "code",
      "execution_count": 117,
      "metadata": {},
      "outputs": [],
      "source": [
        "persona1 = ['David Doe', 20, 1, 180.0, 100.0]\n",
        "persona2 = ['Jhon Smith', 25, 1, 170.0, 70.0]\n",
        "persona3 = ['Jane Carter', 22, 0, 169.0, 60.0]\n",
        "persona4 = ['Peter Kelly', 40, 1, 150.0, 50.0]\n",
        "\n",
        "lista_personas = persona1 + persona2 + persona3 + persona4"
      ]
    },
    {
      "cell_type": "markdown",
      "metadata": {},
      "source": [
        "Resultados que deben aplicarse  La edad media es de 26,75 años."
      ]
    },
    {
      "cell_type": "markdown",
      "metadata": {},
      "source": [
        "### <FONT COLOR=\"blue\">3. Misión </FONT>"
      ]
    },
    {
      "cell_type": "markdown",
      "metadata": {},
      "source": [
        "#####  **3.1 Funcionamiento de la base de datos personal**"
      ]
    },
    {
      "cell_type": "code",
      "execution_count": 118,
      "metadata": {},
      "outputs": [
        {
          "name": "stdout",
          "output_type": "stream",
          "text": [
            "La edad media es 26.75\n"
          ]
        }
      ],
      "source": [
        "persona1 = ['David Doe', 20, 1, 180.0, 100.0]\n",
        "persona2 = ['Jhon Smith', 25, 1, 170.0, 70.0]\n",
        "persona3 = ['Jane Carter', 22, 0, 169.0, 60.0]\n",
        "persona4 = ['Peter Kelly', 40, 1, 150.0, 50.0]\n",
        "\n",
        "lista_personas = persona1 + persona2 + persona3 + persona4\n",
        "\n",
        "n_personas = int(len(lista_personas)/5)\n",
        "suma_edad = 0.0\n",
        "for edad in lista_personas[1::5]:\n",
        "    suma_edad += edad\n",
        "edad_media = float(suma_edad) / n_personas\n",
        "print('La edad media es ' + str(edad_media))"
      ]
    },
    {
      "cell_type": "markdown",
      "metadata": {},
      "source": [
        "#####  **3.2 Plan de programación**"
      ]
    },
    {
      "cell_type": "markdown",
      "metadata": {},
      "source": [
        "Pseudocódigo\n",
        "\n",
        "[1] Inicio\n",
        "\n",
        "[2] Crear una lista que incluya el nombre, la edad, el sexo (0,1), la altura y el peso en la base de datos personal.\n",
        "\n",
        "[3] Calcular el número de personas en la base de datos personal\n",
        "\n",
        "[4] Recorrer la lista \"for i in\" y omitir las columnas con edad {\n",
        "\n",
        "[5] Añade la suma de la edad. }\n",
        "\n",
        "[6] Divida la suma de la edad con el número de personas para imprimir el valor medio\n",
        "\n",
        "[7] Fin\n",
        "\n",
        "Diagrama de flujo\n",
        "\n",
        "<div align=\"center\"><img src=\"https://github.com/Repositorio17092022/RepositorioiImagenes/blob/main/unidad10/imagen15..PNG?raw=true\"  width= \"350px\" /></div>"
      ]
    },
    {
      "cell_type": "markdown",
      "metadata": {},
      "source": [
        "#####  **3.3 Código final de la base de datos personal**"
      ]
    },
    {
      "cell_type": "code",
      "execution_count": 119,
      "metadata": {},
      "outputs": [
        {
          "name": "stdout",
          "output_type": "stream",
          "text": [
            "La edad media es 26.75\n"
          ]
        }
      ],
      "source": [
        "persona1 = ['David Doe', 20, 1, 180.0, 100.0]\n",
        "persona2 = ['Jhon Smith', 25, 1, 170.0, 70.0]\n",
        "persona3 = ['Jane Carter', 22, 0, 169.0, 60.0]\n",
        "persona4 = ['Peter Kelly', 40, 1, 150.0, 50.0]\n",
        "\n",
        "lista_personas = persona1 + persona2 + persona3 + persona4\n",
        "\n",
        "n_personas = int(len(lista_personas)/5)\n",
        "suma_edad = 0.0\n",
        "for edad in lista_personas[1::5]:\n",
        "    suma_edad += edad\n",
        "edad_media = float(suma_edad) / n_personas\n",
        "print('La edad media es ' + str(edad_media))"
      ]
    },
    {
      "cell_type": "markdown",
      "metadata": {},
      "source": [
        "## <FONT COLOR=\"blue\"> Concepto clave</FONT>"
      ]
    },
    {
      "cell_type": "markdown",
      "metadata": {},
      "source": [
        "### <FONT COLOR=\"blue\">1. Lista y diccionario </FONT>"
      ]
    },
    {
      "cell_type": "markdown",
      "metadata": {},
      "source": [
        "#####  **1.1. Procesamiento eficaz de los datos**"
      ]
    },
    {
      "cell_type": "markdown",
      "metadata": {},
      "source": [
        "El objetivo de utilizar un ordenador es hacer que el procesamiento de datos sea eficiente. Piensa en un caso en el que debas guardar y procesar los datos de las puntuaciones de los exámenes de muchas personas. Habría muchas variables diferentes para guardar las puntuaciones de los exámenes.\n",
        "\n",
        "En el código de abajo, hay 7 números de datos, por lo que deben declararse 7 variables individuales diferentes para incluir cada valor. Duplicar y operar elementos individuales requerirá muchos códigos. "
      ]
    },
    {
      "cell_type": "code",
      "execution_count": 120,
      "metadata": {},
      "outputs": [
        {
          "name": "stdout",
          "output_type": "stream",
          "text": [
            "87 67\n"
          ]
        }
      ],
      "source": [
        "Puntuacion0 = 87\n",
        "Puntuacion1 = 84\n",
        "Puntuacion2 = 95\n",
        "Puntuacion3 = 67\n",
        "Puntuacion4 = 88\n",
        "Puntuacion5 = 94 \n",
        "Puntuacion6 = 63\n",
        "print(Puntuacion0, Puntuacion3)"
      ]
    },
    {
      "cell_type": "markdown",
      "metadata": {},
      "source": [
        "#####  **1.2. Necesidad de tipos de datos de lista**"
      ]
    },
    {
      "cell_type": "markdown",
      "metadata": {},
      "source": [
        "\n",
        "- La estructura de memoria consiste en la creación de variables individuales y la asignación de valores requeriría muchos nombres de variables diferentes.\n",
        "- Especialmente, añadir y/o promediar muchas variables diferentes podría requerir una codificación complicada y producir errores. \n",
        "- Por lo tanto, es útil combinarlas como un solo tipo de datos.\n",
        "\n",
        "\n",
        "<div align=\"center\"><img src=\"https://github.com/Repositorio17092022/RepositorioiImagenes/blob/main/unidad10/imagen19.PNG?raw=true\"  width= \"650px\" /></div>"
      ]
    },
    {
      "cell_type": "markdown",
      "metadata": {},
      "source": [
        "#####  **1.3. Diccionario y necesidad de tipos de datos de lista**"
      ]
    },
    {
      "cell_type": "markdown",
      "metadata": {},
      "source": [
        "Ya hemos hablado de la necesidad de los tipos de datos de lista.\n",
        "A continuación se describe el significado del tipo de datos diccionario\n",
        "- Al introducir la información proporcionada en la imagen, se debe emparejar la información de abajo.\n",
        "\n",
        "  Apellido: Doe \n",
        "\n",
        "  Nombre: David\n",
        "  \n",
        "  Trabajo: Company A\n",
        "  \n",
        "- A diferencia de la lista, el diccionario es una estructura de datos utilizada para expresar información emparejada (clave:valor).\n",
        "\n",
        "Comparación con la expresión de datos en el diccionario\n",
        "\n",
        "- El diccionario es un tipo de datos que tiene un par de claves y valores.\n",
        "\n",
        "- Se caracteriza por utilizar la clave para referirse al valor.\n",
        "\n",
        "\n",
        "<div align=\"center\"><img src=\"https://github.com/Repositorio17092022/RepositorioiImagenes/blob/main/unidad10/Imagen20.png?raw=true\"  width= \"300px\" /></div>"
      ]
    },
    {
      "cell_type": "markdown",
      "metadata": {},
      "source": [
        "### <FONT COLOR=\"blue\"> 2. Declaración de la lista</FONT>"
      ]
    },
    {
      "cell_type": "markdown",
      "metadata": {},
      "source": [
        "#####  **2.1. ¿Qué es la lista?** "
      ]
    },
    {
      "cell_type": "markdown",
      "metadata": {},
      "source": [
        "La lista es una estructura de datos que puede contener un valor individual en una sola variable o valor de datos.\n",
        "\n",
        "- Es mucho más conveniente y eficiente que escribir y manejar múltiples nombres de variables.\n",
        "- La duplicación y la operación pueden hacerse de una sola vez.\n",
        "\n",
        "elemento o ítem\n",
        "\n",
        "- Los ítems o elementos forman una lista.\n",
        "- Los valores de los datos se distinguen con una coma para guardarlos.\n",
        "- La referencia es la importación de la lista y utiliza el índice.\n",
        "- La declaración de la lista y la referencia de los elementos se puede hacer de la siguiente manera"
      ]
    },
    {
      "cell_type": "code",
      "execution_count": 121,
      "metadata": {},
      "outputs": [
        {
          "data": {
            "text/plain": [
              "[87, 84, 95, 67, 88, 94, 63]"
            ]
          },
          "execution_count": 121,
          "metadata": {},
          "output_type": "execute_result"
        }
      ],
      "source": [
        "lista_de_puntuacion = [87, 84, 95, 67, 88, 94, 63]\n",
        "lista_de_puntuacion"
      ]
    },
    {
      "cell_type": "code",
      "execution_count": 122,
      "metadata": {},
      "outputs": [
        {
          "name": "stdout",
          "output_type": "stream",
          "text": [
            "87 67\n"
          ]
        }
      ],
      "source": [
        "lista_de_puntuacion = [87, 84, 95, 67, 88, 94, 63]\n",
        "print(lista_de_puntuacion[0], lista_de_puntuacion[3])"
      ]
    },
    {
      "cell_type": "markdown",
      "metadata": {},
      "source": [
        "La referencia del elemento utiliza el nombre de la lista y el índice"
      ]
    },
    {
      "cell_type": "markdown",
      "metadata": {},
      "source": [
        "#####  **2.2. Lista e índice**"
      ]
    },
    {
      "cell_type": "markdown",
      "metadata": {},
      "source": [
        "Los valores de datos continuos para guardar las puntuaciones de las pruebas de varias personas pueden referirse utilizando la variable lista_de_puntuacion y el índice como se indica a continuación.\n",
        "\n",
        "En la lista, los valores (o elementos) se distinguen utilizando una coma dentro del [].\n",
        "\n",
        "También es posible importar los valores deseados utilizando un índice para designar la ubicación del primer valor.\n",
        "\n",
        "<div align=\"center\"><img src=\"https://github.com/Repositorio17092022/RepositorioiImagenes/blob/main/unidad10/imagen22.PNG?raw=true\"  width= \"700px\" /></div>\n",
        "\n",
        "No se aplican restricciones a los tipos de datos que se incluyen en la lista\n",
        "\n",
        "- Guarde e importe las cuatro cadenas que incluyen 'plátano', 'manzana', 'naranja', 'kiwi' en la lista de frutas.\n",
        "- Es posible guardar enteros como 100, 200, 400 y el valor de la cadena 'manzana' al mismo tiempo en la lista_mixta."
      ]
    },
    {
      "cell_type": "code",
      "execution_count": 1,
      "metadata": {
        "trusted": true
      },
      "outputs": [
        {
          "name": "stdout",
          "output_type": "stream",
          "text": [
            "['banano', 'manzana', 'naranja', 'kiwi']\n",
            "[100, 200, 'manzana', 400]\n"
          ]
        }
      ],
      "source": [
        "frutas = ['banano', 'manzana', 'naranja', 'kiwi'] #Lista con cadenas de caracteres\n",
        "print(frutas)\n",
        "lista_mixta = [100, 200, 'manzana', 400]\n",
        "print(lista_mixta)"
      ]
    },
    {
      "cell_type": "markdown",
      "metadata": {},
      "source": [
        "Las listas de Python pueden tener diferentes tipos de datos incluyendo enteros, números reales, cadenas, etc."
      ]
    },
    {
      "cell_type": "markdown",
      "metadata": {},
      "source": [
        "#####  **2.3 Función de rango para crear una secuencia**"
      ]
    },
    {
      "cell_type": "markdown",
      "metadata": {},
      "source": [
        "Se puede crear una lista utilizando el rango o las cadenas.\n",
        "\n",
        "Obtenga la secuencia de números del 1 al 9 con la función  range(1, 10) y crear una lista que contenga la matriz de esos elementos utilizando la función list."
      ]
    },
    {
      "cell_type": "code",
      "execution_count": 124,
      "metadata": {},
      "outputs": [
        {
          "data": {
            "text/plain": [
              "[1, 2, 3, 4, 5, 6, 7, 8, 9]"
            ]
          },
          "execution_count": 124,
          "metadata": {},
          "output_type": "execute_result"
        }
      ],
      "source": [
        "lista_4 = list(range(1, 10))\n",
        "lista_4"
      ]
    },
    {
      "cell_type": "markdown",
      "metadata": {},
      "source": [
        "Utilice la función range de Python para crear rápidamente una matriz de números continuos."
      ]
    },
    {
      "cell_type": "markdown",
      "metadata": {},
      "source": [
        "### <FONT COLOR=\"blue\">3. Indexación de listas y cálculo de la longitud </FONT>\n"
      ]
    },
    {
      "cell_type": "markdown",
      "metadata": {},
      "source": [
        "#####  **3.1. Definiciones: Lista, índice, indexación**"
      ]
    },
    {
      "cell_type": "markdown",
      "metadata": {},
      "source": [
        "Lea las siguientes definiciones\n",
        "\n",
        "Lista\n",
        "\n",
        "- Una estructura de datos de Python que puede contener múltiples elementos y reemplazar los valores internos.\n",
        "- Admite la extracción de los valores necesarios de los elementos guardados.\n",
        "\n",
        "índice\n",
        "\n",
        "- Se refiere al número que indica el valor del elemento de la lista.\n",
        "- El índice de una lista con n elementos aumentará de 0 a n-1.\n",
        "- También es posible utilizar un índice negativo.\n",
        "\n",
        "indexación\n",
        "\n",
        "- Aproximación al valor de los datos utilizando el índice del elemento"
      ]
    },
    {
      "cell_type": "markdown",
      "metadata": {},
      "source": [
        "#####  **3.2. Indexación de listas y cálculo de la longitud**"
      ]
    },
    {
      "cell_type": "markdown",
      "metadata": {},
      "source": [
        "En la lista, el índice del primer elemento es 0, y el índice del último elemento es n-1.\n",
        "\n",
        "Utiliza la función len para calcular el número de elementos de la lista, es decir, la longitud de la lista."
      ]
    },
    {
      "cell_type": "markdown",
      "metadata": {},
      "source": [
        "<table>\n",
        "<tr>\n",
        "  <td><strong>indice</strong></td>\n",
        "  <td><strong>[0]</strong></td>\n",
        "  <td><strong>[1]</strong></td>\n",
        "  <td><strong>[2]</strong></td>\n",
        "  <td><strong>[3]</strong></td>\n",
        "  <td><strong>[4]</strong></td>\n",
        "  <td><strong>[5]</strong></td>\n",
        "<tr>\n",
        "  <td><strong>n_lista</strong></td>\n",
        "  <td><strong>11</strong></td>\n",
        "  <td><strong>22</strong></td>\n",
        "  <td><strong>33</strong></td>\n",
        "  <td><strong>44</strong></td>\n",
        "  <td><strong>55</strong></td>\n",
        "  <td><strong>66</strong></td>\n",
        "</table>\n",
        "\n",
        "- n_lista[0] = 11\n",
        "- n_lista[1] = 22\n",
        "- n_lista[2] = 33\n",
        "- n_lista[3] = 44\n",
        "- n_lista[4] = 55\n",
        "- n_lista[5] = 66"
      ]
    },
    {
      "cell_type": "code",
      "execution_count": 125,
      "metadata": {},
      "outputs": [
        {
          "name": "stdout",
          "output_type": "stream",
          "text": [
            "[11, 22, 33, 44, 55, 66]\n",
            "\n",
            "6\n"
          ]
        }
      ],
      "source": [
        "n_lista = [11, 22, 33, 44, 55, 66]\n",
        "print(n_lista)\n",
        "print(len(  n_lista))"
      ]
    },
    {
      "cell_type": "markdown",
      "metadata": {},
      "source": [
        "La longitud de n_lista es 6, y el rango de indexación accesible es 0 ~ 5."
      ]
    },
    {
      "cell_type": "code",
      "execution_count": 126,
      "metadata": {},
      "outputs": [
        {
          "data": {
            "text/plain": [
              "11"
            ]
          },
          "execution_count": 126,
          "metadata": {},
          "output_type": "execute_result"
        }
      ],
      "source": [
        "n_lista[0] # El índice del primer elemento de la lista es 0."
      ]
    },
    {
      "cell_type": "code",
      "execution_count": 127,
      "metadata": {},
      "outputs": [
        {
          "data": {
            "text/plain": [
              "22"
            ]
          },
          "execution_count": 127,
          "metadata": {},
          "output_type": "execute_result"
        }
      ],
      "source": [
        "n_lista[1] # El índice del segundo elemento de la lista es 1."
      ]
    },
    {
      "cell_type": "markdown",
      "metadata": {},
      "source": [
        "#####  **3.3. Precauciones en la indexación de listas**"
      ]
    },
    {
      "cell_type": "markdown",
      "metadata": {},
      "source": [
        "❗❗ No se desvíe del rango del índice"
      ]
    },
    {
      "cell_type": "code",
      "execution_count": 128,
      "metadata": {},
      "outputs": [
        {
          "data": {
            "text/plain": [
              "66"
            ]
          },
          "execution_count": 128,
          "metadata": {},
          "output_type": "execute_result"
        }
      ],
      "source": [
        "n_lista = [11, 22, 33, 44, 55, 66]  # Índice con 6 elementos\n",
        "n_lista[5] # El valor del último elemento de la lista"
      ]
    },
    {
      "cell_type": "code",
      "execution_count": 129,
      "metadata": {},
      "outputs": [
        {
          "ename": "IndexError",
          "evalue": "list index out of range",
          "output_type": "error",
          "traceback": [
            "\u001b[1;31m---------------------------------------------------------------------------\u001b[0m",
            "\u001b[1;31mIndexError\u001b[0m                                Traceback (most recent call last)",
            "Cell \u001b[1;32mIn [129], line 1\u001b[0m\n\u001b[1;32m----> 1\u001b[0m \u001b[43mn_lista\u001b[49m\u001b[43m[\u001b[49m\u001b[38;5;241;43m7\u001b[39;49m\u001b[43m]\u001b[49m\n",
            "\u001b[1;31mIndexError\u001b[0m: list index out of range"
          ]
        }
      ],
      "source": [
        "n_lista[7] # El valor del 7º elemento del índice no existe"
      ]
    },
    {
      "cell_type": "markdown",
      "metadata": {},
      "source": [
        "No inserte un valor de índice que sea mayor que el valor de índice máximo.\n",
        "\n",
        "El índice máximo es len(n_lista)-1.\n",
        "\n",
        "Si se desvía del rango de índice accesible, se produce el siguiente error  IndexError: índice de la lista fuera del rango"
      ]
    },
    {
      "cell_type": "markdown",
      "metadata": {},
      "source": [
        "#####  **3.4. Índice negativo**"
      ]
    },
    {
      "cell_type": "markdown",
      "metadata": {},
      "source": [
        "La aproximación al elemento es posible mediante el uso de índices negativos. "
      ]
    },
    {
      "cell_type": "code",
      "execution_count": null,
      "metadata": {},
      "outputs": [
        {
          "data": {
            "text/plain": [
              "66"
            ]
          },
          "execution_count": 116,
          "metadata": {},
          "output_type": "execute_result"
        }
      ],
      "source": [
        "n_lista = [11, 22, 33, 44, 55, 66]  \n",
        "n_lista[-1] "
      ]
    },
    {
      "cell_type": "code",
      "execution_count": null,
      "metadata": {},
      "outputs": [
        {
          "data": {
            "text/plain": [
              "55"
            ]
          },
          "execution_count": 115,
          "metadata": {},
          "output_type": "execute_result"
        }
      ],
      "source": [
        "n_lista[-2]"
      ]
    },
    {
      "cell_type": "code",
      "execution_count": null,
      "metadata": {},
      "outputs": [
        {
          "data": {
            "text/plain": [
              "44"
            ]
          },
          "execution_count": 114,
          "metadata": {},
          "output_type": "execute_result"
        }
      ],
      "source": [
        "n_lista[-3]"
      ]
    },
    {
      "cell_type": "markdown",
      "metadata": {},
      "source": [
        "El valor del último elemento de la lista puede aproximarse con el índice negativo -"
      ]
    },
    {
      "cell_type": "markdown",
      "metadata": {},
      "source": [
        "- La función len(n_lista) devuelve la longitud de la lista.\n",
        "- El elemento del último elemento de la lista es [-1 + len(n_lista)]. \n",
        "- El primer elemento es [-len(n_lista) + len(n_lista)]=[0]. El len(n_lista) inferior es 6, por lo que [-6 + 6] = [0].\n",
        "- La referencia de elementos es posible mediante el uso de índices negativos en la lista de Python. \n",
        "- Para los índices negativos, procesa la indexación reduciendo -1 del último elemento para que se convierta en -1, -2, -3.\n",
        "\n",
        "<table>\n",
        "<tr>\n",
        "  <td><strong>indice negativo</strong></td>\n",
        "  <td><strong>[-6]</strong></td>\n",
        "  <td><strong>[-5]</strong></td>\n",
        "  <td><strong>[-4]</strong></td>\n",
        "  <td><strong>[-3]</strong></td>\n",
        "  <td><strong>[-2]</strong></td>\n",
        "  <td><strong>[-1]</strong></td>\n",
        "<tr>\n",
        "  <td><strong>n_lista</strong></td>\n",
        "  <td><strong>11</strong></td>\n",
        "  <td><strong>22</strong></td>\n",
        "  <td><strong>33</strong></td>\n",
        "  <td><strong>44</strong></td>\n",
        "  <td><strong>55</strong></td>\n",
        "  <td><strong>66</strong></td>\n",
        "</table>\n",
        "\n",
        "- n_lista[-6] = 11\n",
        "- n_lista[-5] = 22\n",
        "- n_lista[-4] = 33\n",
        "- n_lista[-3] = 44\n",
        "- n_lista[-2] = 55\n",
        "- n_lista[-1] = 66"
      ]
    },
    {
      "cell_type": "markdown",
      "metadata": {},
      "source": [
        "### <FONT COLOR=\"blue\">4. Adición, supresión y ampliación de elementos de la lista </FONT>"
      ]
    },
    {
      "cell_type": "markdown",
      "metadata": {},
      "source": [
        "#####  **4.1. + cálculo para añadir listas**"
      ]
    },
    {
      "cell_type": "markdown",
      "metadata": {},
      "source": [
        "Utilice el cálculo + para añadir dos listas diferentes.\n",
        "\n",
        "En los siguientes casos, todos los elementos de la persona 1 y de la persona 2 se incluirán en una sola lista."
      ]
    },
    {
      "cell_type": "code",
      "execution_count": 130,
      "metadata": {},
      "outputs": [
        {
          "name": "stdout",
          "output_type": "stream",
          "text": [
            "['David Doe', 20, 1, 180.0, 100.0, 'John Smith', 25, 1, 170.0, 70.0]\n"
          ]
        }
      ],
      "source": [
        "persona1 = ['David Doe', 20, 1, 180.0, 100.0]\n",
        "persona2 = ['John Smith', 25, 1, 170.0, 70.0]\n",
        "\n",
        "lista_personas = persona1 + persona2 # Añadir elementos de dos listas para hacer una sola lista\n",
        "print(lista_personas)\n"
      ]
    },
    {
      "cell_type": "markdown",
      "metadata": {},
      "source": [
        "##### **4.2. El método append para la adición de elementos de la lista**"
      ]
    },
    {
      "cell_type": "markdown",
      "metadata": {},
      "source": [
        "\n",
        "- Es posible añadir o eliminar elementos deseados en la lista existente.\n",
        "- Método append: Un método para insertar un nuevo elemento al final de una lista existente.\n",
        "- El método es la función integrada de una lista y se llama mediante el operador .(punto). \n",
        "- El método se discutirá en detalle más adelante."
      ]
    },
    {
      "cell_type": "code",
      "execution_count": 131,
      "metadata": {},
      "outputs": [
        {
          "data": {
            "text/plain": [
              "['a', 'b', 'c', 'd', 'e', 'f']"
            ]
          },
          "execution_count": 131,
          "metadata": {},
          "output_type": "execute_result"
        }
      ],
      "source": [
        "lista_a = ['a', 'b', 'c', 'd', 'e']\n",
        "lista_a.append('f') # Añadir 'f'\n",
        "lista_a"
      ]
    },
    {
      "cell_type": "code",
      "execution_count": 132,
      "metadata": {},
      "outputs": [
        {
          "data": {
            "text/plain": [
              "[10, 20, 30, 40, 50]"
            ]
          },
          "execution_count": 132,
          "metadata": {},
          "output_type": "execute_result"
        }
      ],
      "source": [
        "numero_lista = [10, 20, 30, 40]\n",
        "numero_lista.append(50) # Añadir 50\n",
        "numero_lista"
      ]
    },
    {
      "cell_type": "markdown",
      "metadata": {},
      "source": [
        "#####  **4.3. El método extend para la adición de elementos de la lista**"
      ]
    },
    {
      "cell_type": "markdown",
      "metadata": {},
      "source": [
        "\n",
        "Método de extensión: Añade una lista o elemento detrás de la lista. \n",
        "\n",
        "Como se indica a continuación, se dan los argumentos [1, 2, 3]. Si es así, los elementos de la lista [1, 2, 3] se añaden detrás de la lista ['a', 'b', 'c'], lo que dará como resultado ['a', 'b', 'c', 1, 2, 3].\n",
        "\n",
        "También es posible insertar un elemento individual como 'd'."
      ]
    },
    {
      "cell_type": "code",
      "execution_count": 136,
      "metadata": {},
      "outputs": [
        {
          "data": {
            "text/plain": [
              "['a', 'b', 'c', 1, 2, 3]"
            ]
          },
          "execution_count": 136,
          "metadata": {},
          "output_type": "execute_result"
        }
      ],
      "source": [
        "lista1 = ['a', 'b', 'c']\n",
        "lista2 = [1, 2, 3]\n",
        "lista1.extend(lista2)\n",
        "lista1"
      ]
    },
    {
      "cell_type": "code",
      "execution_count": 135,
      "metadata": {},
      "outputs": [
        {
          "data": {
            "text/plain": [
              "['a', 'b', 'c', 1, 2, 3, 'd', 'd']"
            ]
          },
          "execution_count": 135,
          "metadata": {},
          "output_type": "execute_result"
        }
      ],
      "source": [
        "lista1.extend('d')\n",
        "lista1"
      ]
    },
    {
      "cell_type": "markdown",
      "metadata": {},
      "source": [
        "Cuando se utiliza el método append a la lista1 de abajo, el resultado [11, 22, 33, 44, 55, 66] no se generará.\n",
        "\n",
        "Al llamar al método list1.append([55, 66]), los elementos de la lista [55, 66] se añadirán detrás de [11, 22, 33, 44], por lo que la lista1 será [11, 22, 33, 44, [55, 66]]."
      ]
    },
    {
      "cell_type": "code",
      "execution_count": 138,
      "metadata": {},
      "outputs": [
        {
          "data": {
            "text/plain": [
              "[11, 22, 33, 44, [55, 66]]"
            ]
          },
          "execution_count": 138,
          "metadata": {},
          "output_type": "execute_result"
        }
      ],
      "source": [
        "lista1 = [11, 22, 33, 44]\n",
        "lista1.append([55, 66])\n",
        "lista1"
      ]
    },
    {
      "cell_type": "markdown",
      "metadata": {},
      "source": [
        "Para añadir los elementos de una nueva lista dentro de una lista, se puede utilizar el método extend. \n",
        "\n",
        "Practica con la realización del siguiente programa."
      ]
    },
    {
      "cell_type": "code",
      "execution_count": 139,
      "metadata": {},
      "outputs": [
        {
          "data": {
            "text/plain": [
              "[11, 22, 33, 44, 55, 66]"
            ]
          },
          "execution_count": 139,
          "metadata": {},
          "output_type": "execute_result"
        }
      ],
      "source": [
        "lista1 = [11, 22, 33, 44]\n",
        "lista1.extend([55, 66])\n",
        "lista1"
      ]
    },
    {
      "cell_type": "markdown",
      "metadata": {},
      "source": [
        "#####  **4.4. Métodos para eliminar elementos de la lista**"
      ]
    },
    {
      "cell_type": "markdown",
      "metadata": {},
      "source": [
        "\n",
        "Utilizar la instrucción del de Python\n",
        "\n",
        "Utilizar el método remove de la clase list\n",
        "\n",
        "Utilizar el método pop\n",
        "- Cuando se utiliza el método pop, eliminará el elemento en una determinada posición de la lista y devolverá el elemento al mismo tiempo."
      ]
    },
    {
      "cell_type": "markdown",
      "metadata": {},
      "source": [
        "#####  **4.5. Borrado con la palabra clave del**"
      ]
    },
    {
      "cell_type": "markdown",
      "metadata": {},
      "source": [
        "\n",
        "Borrar el elemento en el índice designado\n",
        "\n",
        "Atención: El borrado no es posible con el método del 44."
      ]
    },
    {
      "cell_type": "code",
      "execution_count": 140,
      "metadata": {},
      "outputs": [
        {
          "name": "stdout",
          "output_type": "stream",
          "text": [
            "[11, 22, 33, 44, 55, 66]\n",
            "\n",
            "[11, 22, 33, 55, 66]\n"
          ]
        }
      ],
      "source": [
        "n_lista = [11, 22, 33, 44, 55, 66]\n",
        "print(n_lista) # Imprime los artículos completos\n",
        "\n",
        "del n_lista[3] # Borrar 44\n",
        "print(n_lista)"
      ]
    },
    {
      "cell_type": "markdown",
      "metadata": {},
      "source": [
        "Utiliza el índice como n_lista[3] para eliminar el cuarto elemento 44."
      ]
    },
    {
      "cell_type": "markdown",
      "metadata": {},
      "source": [
        "#####  **4.6. Eliminación con el método pop**"
      ]
    },
    {
      "cell_type": "markdown",
      "metadata": {},
      "source": [
        "\n",
        "El método pop devuelve y elimina el último elemento de la lista. "
      ]
    },
    {
      "cell_type": "code",
      "execution_count": 151,
      "metadata": {},
      "outputs": [
        {
          "name": "stdout",
          "output_type": "stream",
          "text": [
            "[10, 20, 30]\n"
          ]
        }
      ],
      "source": [
        "n_lista = [10, 20, 30]\n",
        "print(n_lista)  # imprimir los artículos completos\n"
      ]
    },
    {
      "cell_type": "code",
      "execution_count": 150,
      "metadata": {},
      "outputs": [
        {
          "name": "stdout",
          "output_type": "stream",
          "text": [
            "n = 30\n",
            "\n",
            "n_lista = [10, 20]\n"
          ]
        }
      ],
      "source": [
        "n = n_lista.pop()\n",
        "print('n =', n)\n",
        "print('n_lista =', n_lista)"
      ]
    },
    {
      "cell_type": "markdown",
      "metadata": {},
      "source": [
        "n_lista = [10, 20, 30] \n",
        "\n",
        "<table>\n",
        "<tr>\n",
        "  <td><strong>n_lista anteriormente</strong></td>\n",
        "  <td><strong>10</strong></td>\n",
        "  <td><strong>20</strong></td>\n",
        "  <td><strong>30</strong></td>\n"
      ]
    },
    {
      "cell_type": "markdown",
      "metadata": {},
      "source": [
        "despues n = n_lista.pop()\n",
        "\n",
        "<table>\n",
        "<tr>\n",
        "  <td><strong>n_lista despues del pop</strong></td>\n",
        "  <td><strong>10</strong></td>\n",
        "  <td><strong>20</strong></td>\n",
        "<table>\n",
        "\n",
        "<table>\n",
        "<tr>\n",
        "  <td><strong>n despues de pop</strong></td>\n",
        "  <td><strong>30</strong></td>\n",
        "</table>"
      ]
    },
    {
      "cell_type": "markdown",
      "metadata": {},
      "source": [
        "#####  **4.7. Eliminación con el método remove**"
      ]
    },
    {
      "cell_type": "markdown",
      "metadata": {},
      "source": [
        "\n",
        "Elimina un determinado valor de la lista utilizando el método de la misma.\n",
        "\n",
        "Utiliza el mismo método que remove(44). "
      ]
    },
    {
      "cell_type": "code",
      "execution_count": 153,
      "metadata": {},
      "outputs": [
        {
          "name": "stdout",
          "output_type": "stream",
          "text": [
            "[11, 22, 33, 44, 55, 66]\n",
            "\n",
            "[11, 22, 33, 55, 66]\n"
          ]
        }
      ],
      "source": [
        "n_lista = [11, 22, 33, 44, 55, 66]\n",
        "print(n_lista)\n",
        "\n",
        "n_lista.remove(44)\n",
        "print(n_lista)"
      ]
    },
    {
      "cell_type": "markdown",
      "metadata": {},
      "source": [
        "Utilice el método remove de n_list para eliminar el elemento con el valor 44.\n"
      ]
    },
    {
      "cell_type": "markdown",
      "metadata": {},
      "source": [
        "#####  **4.8. Precauciones al borrar con el método de eliminación**"
      ]
    },
    {
      "cell_type": "markdown",
      "metadata": {},
      "source": [
        "\n",
        "❗❗ Problemas del método de eliminación"
      ]
    },
    {
      "cell_type": "code",
      "execution_count": 154,
      "metadata": {},
      "outputs": [
        {
          "name": "stdout",
          "output_type": "stream",
          "text": [
            "[11, 22, 33, 44, 55, 66]\n"
          ]
        },
        {
          "ename": "ValueError",
          "evalue": "list.remove(x): x not in list",
          "output_type": "error",
          "traceback": [
            "\u001b[1;31m---------------------------------------------------------------------------\u001b[0m",
            "\u001b[1;31mValueError\u001b[0m                                Traceback (most recent call last)",
            "Cell \u001b[1;32mIn [154], line 4\u001b[0m\n\u001b[0;32m      1\u001b[0m n_lista \u001b[38;5;241m=\u001b[39m [\u001b[38;5;241m11\u001b[39m, \u001b[38;5;241m22\u001b[39m, \u001b[38;5;241m33\u001b[39m, \u001b[38;5;241m44\u001b[39m, \u001b[38;5;241m55\u001b[39m, \u001b[38;5;241m66\u001b[39m]\n\u001b[0;32m      2\u001b[0m \u001b[38;5;28mprint\u001b[39m(n_lista)\n\u001b[1;32m----> 4\u001b[0m \u001b[43mn_lista\u001b[49m\u001b[38;5;241;43m.\u001b[39;49m\u001b[43mremove\u001b[49m\u001b[43m(\u001b[49m\u001b[38;5;241;43m88\u001b[39;49m\u001b[43m)\u001b[49m\n\u001b[0;32m      5\u001b[0m \u001b[38;5;28mprint\u001b[39m(n_lista)\n",
            "\u001b[1;31mValueError\u001b[0m: list.remove(x): x not in list"
          ]
        }
      ],
      "source": [
        "n_lista = [11, 22, 33, 44, 55, 66]\n",
        "print(n_lista)\n",
        "\n",
        "n_lista.remove(88)\n",
        "print(n_lista)"
      ]
    },
    {
      "cell_type": "markdown",
      "metadata": {},
      "source": [
        "Se produce un error al eliminar un elemento no válido con el método de eliminación.\n",
        "\n",
        "No inserte un valor no válido."
      ]
    },
    {
      "cell_type": "markdown",
      "metadata": {},
      "source": [
        "### <FONT COLOR=\"blue\">5. Corte de lista </FONT>"
      ]
    },
    {
      "cell_type": "markdown",
      "metadata": {},
      "source": [
        "##### **5.1. Corte**"
      ]
    },
    {
      "cell_type": "markdown",
      "metadata": {},
      "source": [
        "Corte: se refiere al corte de secciones específicas de una lista.\n",
        "\n",
        "Utilizar list_name [start : end] sintaxis para indicar la sección. El corte es posible hasta el índice final-1.\n",
        "\n",
        "<div align=\"center\"><img src=\"https://github.com/Repositorio17092022/RepositorioiImagenes/blob/main/unidad10/imagen39.PNG?raw=true\"  width= \"500px\" /></div>\n",
        "\n",
        "*Resultado de a_list[1:5] Corte: rodeado hasta 50, que es el índice 5-1*"
      ]
    },
    {
      "cell_type": "markdown",
      "metadata": {},
      "source": [
        "##### **5.2. Ejemplo de corte**"
      ]
    },
    {
      "cell_type": "markdown",
      "metadata": {},
      "source": [
        "El corte de la lista es posible de la siguiente manera en Python."
      ]
    },
    {
      "cell_type": "code",
      "execution_count": null,
      "metadata": {},
      "outputs": [
        {
          "data": {
            "text/plain": [
              "[20, 30, 40, 50]"
            ]
          },
          "metadata": {},
          "output_type": "display_data"
        }
      ],
      "source": [
        "a_lista = [10, 20, 30, 40, 50, 60, 70, 80]\n",
        "a_lista[1:5]"
      ]
    },
    {
      "cell_type": "markdown",
      "metadata": {},
      "source": [
        "**Linea 2**\n",
        "- Cortado desde el segundo elemento 20 al quinto elemento 50\n",
        "- El resultado es 20, 30, 40, 50"
      ]
    },
    {
      "cell_type": "code",
      "execution_count": null,
      "metadata": {},
      "outputs": [
        {
          "data": {
            "text/plain": [
              "[10, 20, 30, 40, 50]"
            ]
          },
          "metadata": {},
          "output_type": "display_data"
        }
      ],
      "source": [
        "a_lista[0:5]"
      ]
    },
    {
      "cell_type": "markdown",
      "metadata": {},
      "source": [
        "**Linea 1**\n",
        "- Cortado desde el primer elemento 10 al quinto elemento 50 \n",
        "- El resultado es 10, 20, 30, 40, 50.\n",
        "\n"
      ]
    },
    {
      "cell_type": "code",
      "execution_count": null,
      "metadata": {},
      "outputs": [
        {
          "data": {
            "text/plain": [
              "[20, 30, 40, 50, 60, 70, 80]"
            ]
          },
          "metadata": {},
          "output_type": "display_data"
        }
      ],
      "source": [
        "a_lista[1:]"
      ]
    },
    {
      "cell_type": "markdown",
      "metadata": {},
      "source": [
        "**Linea 1**\n",
        "- Cortado desde el segundo elemento 20 al último elemento.\n",
        "- Si corta hasta el último elemento, puede omitir el segundo índiceex"
      ]
    },
    {
      "cell_type": "code",
      "execution_count": null,
      "metadata": {},
      "outputs": [
        {
          "data": {
            "text/plain": [
              "[10, 20, 30, 40, 50]"
            ]
          },
          "metadata": {},
          "output_type": "display_data"
        }
      ],
      "source": [
        "a_lista[:5]"
      ]
    },
    {
      "cell_type": "markdown",
      "metadata": {},
      "source": [
        "**Linea 1**\n",
        "- Cortado desde el primer elemento 10 al quinto elemento 50.\n",
        "- Puedes omitir el índice del primer elemento"
      ]
    },
    {
      "cell_type": "code",
      "execution_count": null,
      "metadata": {},
      "outputs": [
        {
          "data": {
            "text/plain": [
              "[10, 20, 30, 40, 50, 60, 70, 80]"
            ]
          },
          "metadata": {},
          "output_type": "display_data"
        }
      ],
      "source": [
        "a_lista[:]"
      ]
    },
    {
      "cell_type": "markdown",
      "metadata": {},
      "source": [
        "**Linea 1**\n",
        "- Al omitir todos los índices, corte será del primer elemento al último elemento.\n",
        "- También puede cortar la lista completa con [:]."
      ]
    },
    {
      "cell_type": "markdown",
      "metadata": {},
      "source": [
        "##### **5.3. Resumen del corte de listas**"
      ]
    },
    {
      "cell_type": "markdown",
      "metadata": {},
      "source": [
        "La bandeja de Python admite índices negativos y valores de paso de corte negativo\n",
        "\n",
        "<table>\n",
        "<tr>\n",
        "  <td><strong>Sintaxis</strong></td>\n",
        "  <td><strong>Función</strong></td>\n",
        "<tr>\n",
        "  <td>a_lista[inicio:final]</td>\n",
        "  <td>Cortar los elementos desde el principio hasta (end-1) (no incluye los elementos del índice final)</td>\n",
        "<tr>\n",
        "  <td>a_lista[inicio:]</td>\n",
        "  <td>Cortando desde el principio hasta el final de la lista. Cortando la parte final de la lista.</td>\n",
        "<tr>\n",
        "  <td>a_lista[:final]</td>\n",
        "  <td>Cortando desde el inicio hasta el índice final-1</td>\n",
        "<tr>\n",
        "  <td>a_lista[:]</td>\n",
        "  <td>Cortando toda la lista</td>\n",
        "</tr>\n",
        "  <td>a_lista[inicio:final:pasos]</td>\n",
        "  <td>Cortando un paso de principio a fin</td>\n",
        "</tr>\n",
        "  <td>a_lista[-2:]</td>\n",
        "  <td>Cortar dos elementos desde el final</td>\n",
        "</tr>\n",
        "  <td>a_lista[-2:]</td>\n",
        "  <td>Cortar artículos completos desde el principio, excepto los dos últimos elementos</td>\n",
        "</tr>\n",
        "  <td>a_lista[::-1]</td>\n",
        "  <td>Importar todos los artículos pero cortar en orden inverso</td>\n",
        "</tr>\n",
        "  <td>a_lista[1::-1]</td>\n",
        "  <td>Cortar los dos primeros elementos en orden inverso</td>\n",
        "</tr>\n",
        "</table>\n"
      ]
    },
    {
      "cell_type": "markdown",
      "metadata": {},
      "source": [
        "##### **5.4. Lista de corte con los índices de inicio y finalización establecidos**"
      ]
    },
    {
      "cell_type": "markdown",
      "metadata": {},
      "source": [
        "a_lista[1:5]: Importa los elementos desde a_lista[1] hasta a_lista[5-1]."
      ]
    },
    {
      "cell_type": "code",
      "execution_count": null,
      "metadata": {},
      "outputs": [
        {
          "data": {
            "text/plain": [
              "[20, 30, 40, 50]"
            ]
          },
          "metadata": {},
          "output_type": "display_data"
        }
      ],
      "source": [
        "a_lista = [10, 20, 30, 40, 50, 60, 70, 80]\n",
        "a_lista[1:5]"
      ]
    },
    {
      "cell_type": "markdown",
      "metadata": {},
      "source": [
        "<div align=\"center\"><img src=\"https://github.com/Repositorio17092022/RepositorioiImagenes/blob/main/unidad10/imagen46.PNG?raw=true\"  width= \"500px\" /></div>"
      ]
    },
    {
      "cell_type": "markdown",
      "metadata": {},
      "source": [
        "##### **5.5. Omitir el último índice**"
      ]
    },
    {
      "cell_type": "markdown",
      "metadata": {},
      "source": [
        "a_lista[1:]: Importa hasta el último elemento de la lista."
      ]
    },
    {
      "cell_type": "code",
      "execution_count": null,
      "metadata": {},
      "outputs": [
        {
          "data": {
            "text/plain": [
              "[20, 30, 40, 50, 60, 70, 80]"
            ]
          },
          "metadata": {},
          "output_type": "display_data"
        }
      ],
      "source": [
        "a_lista[1:]"
      ]
    },
    {
      "cell_type": "markdown",
      "metadata": {},
      "source": [
        "<div align=\"center\"><img src=\"https://github.com/Repositorio17092022/RepositorioiImagenes/blob/main/unidad10/imagen47.PNG?raw=true\"  width= \"500px\" /></div>"
      ]
    },
    {
      "cell_type": "markdown",
      "metadata": {},
      "source": [
        "##### **5.6. Omitir los índices de inicio y finalización**"
      ]
    },
    {
      "cell_type": "markdown",
      "metadata": {},
      "source": [
        "[:] Corte de métodos: importe todos los elementos de la lista"
      ]
    },
    {
      "cell_type": "code",
      "execution_count": null,
      "metadata": {},
      "outputs": [
        {
          "data": {
            "text/plain": [
              "[10, 20, 30, 40, 50, 60, 70, 80]"
            ]
          },
          "metadata": {},
          "output_type": "display_data"
        }
      ],
      "source": [
        "a_lista[:]"
      ]
    },
    {
      "cell_type": "markdown",
      "metadata": {},
      "source": [
        "<div align=\"center\"><img src=\"https://github.com/Repositorio17092022/RepositorioiImagenes/blob/main/unidad10/imagen48.PNG?raw=true\"  width= \"500px\" /></div>"
      ]
    },
    {
      "cell_type": "markdown",
      "metadata": {},
      "source": [
        "##### **5.7. Lista de corte de índices negativos**"
      ]
    },
    {
      "cell_type": "markdown",
      "metadata": {},
      "source": [
        "El índice del elemento final se convierte en -1, y los elementos frente a él se asignan -2, -3, ...\n",
        "\n",
        "<div align=\"center\"><img src=\"https://github.com/Repositorio17092022/RepositorioiImagenes/blob/main/unidad10/imagen49.PNG?raw=true\"  width= \"550px\" /></div>"
      ]
    },
    {
      "cell_type": "markdown",
      "metadata": {},
      "source": [
        "##### **5.8. Cortar con el uso de índices negativos**"
      ]
    },
    {
      "cell_type": "markdown",
      "metadata": {},
      "source": [
        "a_lista[-7: -2]: importe los elementos de a_lista[-7] a a_lista[-2-1] utilizando el rango de índice negativo.\n",
        "Como resultado, incluirá [20, 30, 40, 50, 60]."
      ]
    },
    {
      "cell_type": "code",
      "execution_count": null,
      "metadata": {},
      "outputs": [
        {
          "data": {
            "text/plain": [
              "[20, 30, 40, 50, 60]"
            ]
          },
          "metadata": {},
          "output_type": "display_data"
        }
      ],
      "source": [
        "a_lista[-7:-2]"
      ]
    },
    {
      "cell_type": "markdown",
      "metadata": {},
      "source": [
        "<div align=\"center\"><img src=\"https://github.com/Repositorio17092022/RepositorioiImagenes/blob/main/unidad10/imagen50.PNG?raw=true\"  width= \"600px\" /></div>"
      ]
    },
    {
      "cell_type": "markdown",
      "metadata": {},
      "source": [
        "##### **5.9. Omitir el último índice de índices negativos**"
      ]
    },
    {
      "cell_type": "markdown",
      "metadata": {},
      "source": [
        "Si omite el último índice al usar índices negativos, importará hasta el último elemento de la lista de la siguiente manera"
      ]
    },
    {
      "cell_type": "code",
      "execution_count": null,
      "metadata": {},
      "outputs": [
        {
          "data": {
            "text/plain": [
              "[20, 30, 40, 50, 60, 70, 80]"
            ]
          },
          "metadata": {},
          "output_type": "display_data"
        }
      ],
      "source": [
        "a_lista[-7:]"
      ]
    },
    {
      "cell_type": "markdown",
      "metadata": {},
      "source": [
        "<div align=\"center\"><img src=\"https://github.com/Repositorio17092022/RepositorioiImagenes/blob/main/unidad10/imagen51.PNG?raw=true\"  width= \"600px\" /></div>"
      ]
    },
    {
      "cell_type": "markdown",
      "metadata": {},
      "source": [
        "##### **5.10. Omitir el primer índice de índices negativos**"
      ]
    },
    {
      "cell_type": "markdown",
      "metadata": {},
      "source": [
        "La omisión del primer índice es posible para el corte con índices negativos.\n",
        "\n",
        "a_lista[:-2]: Importa los índices desde el primer elemento hasta (-2-1) = -3 índice"
      ]
    },
    {
      "cell_type": "markdown",
      "metadata": {},
      "source": [
        "<div align=\"center\"><img src=\"https://github.com/Repositorio17092022/RepositorioiImagenes/blob/main/unidad10/imagen52.PNG?raw=true\"  width= \"600px\" /></div>"
      ]
    },
    {
      "cell_type": "code",
      "execution_count": null,
      "metadata": {},
      "outputs": [
        {
          "data": {
            "text/plain": [
              "[10, 20, 30, 40, 50, 60]"
            ]
          },
          "metadata": {},
          "output_type": "display_data"
        }
      ],
      "source": [
        "a_lista[:-2]"
      ]
    },
    {
      "cell_type": "markdown",
      "metadata": {},
      "source": [
        "### <FONT COLOR=\"blue\"> 6. Examinar de los valores internos de la lista</FONT>"
      ]
    },
    {
      "cell_type": "markdown",
      "metadata": {},
      "source": [
        "##### **6.1 En el operador**"
      ]
    },
    {
      "cell_type": "markdown",
      "metadata": {},
      "source": [
        "El operador \"in\" devuelve True o False. Después de examinar si un elemento está en una secuencia específica, si se encuentra, devuelve True, y False si no. (El operador \"not in\" devuelve lo contrario).\n",
        "\n",
        "\n",
        "Sin embargo, el for() puede listar cada uno de los elementos utilizando el operador \"in\".\n",
        "\n",
        "\n",
        "Se utiliza para examinar si un elemento específico está incluido en las estructuras de datos como cadenas, listas y tuplas."
      ]
    },
    {
      "cell_type": "code",
      "execution_count": null,
      "metadata": {},
      "outputs": [
        {
          "data": {
            "text/plain": [
              "True"
            ]
          },
          "metadata": {},
          "output_type": "display_data"
        }
      ],
      "source": [
        "a_lista = [10, 20, 30, 40]\n",
        "10 in a_list"
      ]
    },
    {
      "cell_type": "markdown",
      "metadata": {},
      "source": [
        "Antes de proceder con el método a_lista.remove(10)\n",
        "\n",
        "comprueba si el elemento 10 existe con la operación \"in\" y si devuelve True, y entonces hacer un borrado no dará lugar a un error."
      ]
    },
    {
      "cell_type": "code",
      "execution_count": null,
      "metadata": {},
      "outputs": [
        {
          "data": {
            "text/plain": [
              "False"
            ]
          },
          "metadata": {},
          "output_type": "display_data"
        }
      ],
      "source": [
        "50 in a_lista"
      ]
    },
    {
      "cell_type": "code",
      "execution_count": null,
      "metadata": {},
      "outputs": [
        {
          "data": {
            "text/plain": [
              "False"
            ]
          },
          "metadata": {},
          "output_type": "display_data"
        }
      ],
      "source": [
        "10 not in a_lista"
      ]
    },
    {
      "cell_type": "code",
      "execution_count": null,
      "metadata": {},
      "outputs": [
        {
          "data": {
            "text/plain": [
              "True"
            ]
          },
          "metadata": {},
          "output_type": "display_data"
        }
      ],
      "source": [
        "50 not in a_lista"
      ]
    },
    {
      "cell_type": "code",
      "execution_count": null,
      "metadata": {},
      "outputs": [
        {
          "name": "stdout",
          "output_type": "stream",
          "text": [
            "10 20 30 40 "
          ]
        }
      ],
      "source": [
        "for n in a_lista:\n",
        "    print(n, end=' ')"
      ]
    },
    {
      "cell_type": "markdown",
      "metadata": {},
      "source": [
        "##### **6.2. Usando el operador 'in'**\n"
      ]
    },
    {
      "cell_type": "markdown",
      "metadata": {},
      "source": [
        "Utiliza el operador in de Python.\n",
        "\n",
        "Si el elemento está incluido en la lista, el operador in devuelve True, y si no, devuelve False"
      ]
    },
    {
      "cell_type": "code",
      "execution_count": null,
      "metadata": {},
      "outputs": [
        {
          "name": "stdout",
          "output_type": "stream",
          "text": [
            "False\n",
            "\n",
            "True\n"
          ]
        }
      ],
      "source": [
        "n_lista = [11, 22, 33, 44, 55]\n",
        "print (88 in n_lista)   #88 no está en n_lista\n",
        "print (55 in n_lista)   #55 está en n_lista"
      ]
    },
    {
      "cell_type": "markdown",
      "metadata": {},
      "source": [
        "Evite un error por adelantado utilizando la operación \"in\".\n",
        "\n",
        "Compruebe si hay un valor que se va a borrar. Borrar con el método remove sólo si hay un valor para borrar."
      ]
    },
    {
      "cell_type": "code",
      "execution_count": null,
      "metadata": {},
      "outputs": [
        {
          "name": "stdout",
          "output_type": "stream",
          "text": [
            "[11, 22, 33, 44, 66]\n"
          ]
        }
      ],
      "source": [
        "n_lista = [11,22, 33, 44, 55, 66]\n",
        "if (55 in n_lista):      #si 55 es un elemento de\n",
        "    n_lista.remove(55)   #borrar 55 de la lista\n",
        "if (88 in n_lista):      #si 88 es un elemento de\n",
        "    n_lista.remove(88)   #borrar 55 de la lista\n",
        "print(n_lista)"
      ]
    },
    {
      "cell_type": "markdown",
      "metadata": {},
      "source": [
        "### <FONT COLOR=\"blue\">7. Tupla </FONT>"
      ]
    },
    {
      "cell_type": "markdown",
      "metadata": {},
      "source": [
        "##### **7.1. Tipos de datos inmutables y mutables**"
      ]
    },
    {
      "cell_type": "markdown",
      "metadata": {},
      "source": [
        "Los tipos de datos de Python se clasifican en tipos de datos inmutables y mutables, como se muestra en la figura siguiente. La tupla es muy similar a la lista. Sin embargo, los datos de la tupla no pueden ser cambiados una vez designados, y es un tipo de datos inmutable representativo.\n",
        "\n",
        "Una vez designados, los datos de la tupla no pueden cambiarse, por lo que su estructura simple y la velocidad de acceso rápido en comparación con la lista son ventajas de la tupla. Elegir un tipo de datos adecuado en función del objetivo.\n",
        "\n",
        "<div align=\"center\"><img src=\"https://github.com/Repositorio17092022/RepositorioiImagenes/blob/main/unidad10/imagen56.PNG?raw=true\"  width= \"600px\" /></div> \n",
        "\n",
        "Mutable --> Existen diferentes tipos de datos en Python, por lo que hay que elegir un tipo de datos apropiado para el propósito"
      ]
    },
    {
      "cell_type": "markdown",
      "metadata": {},
      "source": [
        "##### **7.2. Tipo de datos cuyos valores no pueden modificarse una vez creados: Tupla**\n"
      ]
    },
    {
      "cell_type": "markdown",
      "metadata": {},
      "source": [
        "Crea una tupla simple como la siguiente.\n",
        "\n",
        "Parece similar con la lista, pero hay diferencias entre ellas. "
      ]
    },
    {
      "cell_type": "code",
      "execution_count": null,
      "metadata": {},
      "outputs": [
        {
          "data": {
            "text/plain": [
              "('red', 'green', 'blue')"
            ]
          },
          "metadata": {},
          "output_type": "display_data"
        }
      ],
      "source": [
        "colores = (\"red\", \"green\", \"blue\")\n",
        "colores "
      ]
    },
    {
      "cell_type": "markdown",
      "metadata": {},
      "source": [
        "Tupla para guardar los colores"
      ]
    },
    {
      "cell_type": "code",
      "execution_count": null,
      "metadata": {},
      "outputs": [
        {
          "data": {
            "text/plain": [
              "(1, 2, 3, 4, 5)"
            ]
          },
          "metadata": {},
          "output_type": "display_data"
        }
      ],
      "source": [
        "numeros = (1, 2, 3, 4, 5)\n",
        "numeros"
      ]
    },
    {
      "cell_type": "markdown",
      "metadata": {},
      "source": [
        "Tupla para guardar múltiples enteros\n",
        "\n",
        "❗❗ La tupla es un objeto inmutable.\n"
      ]
    },
    {
      "cell_type": "code",
      "execution_count": null,
      "metadata": {},
      "outputs": [
        {
          "ename": "TypeError",
          "evalue": "'tuple' object does not support item assignment",
          "output_type": "error",
          "traceback": [
            "\u001b[1;31m---------------------------------------------------------------------------\u001b[0m\n",
            "\u001b[1;31mTypeError\u001b[0m                                 Traceback (most recent call last)\n",
            "Cell \u001b[1;32mIn [27], line 2\u001b[0m\n",
            "\u001b[0;32m      1\u001b[0m t1 \u001b[38;5;241m=\u001b[39m (\u001b[38;5;241m1\u001b[39m, \u001b[38;5;241m2\u001b[39m, \u001b[38;5;241m3\u001b[39m, \u001b[38;5;241m4\u001b[39m ,\u001b[38;5;241m5\u001b[39m)\n",
            "\u001b[1;32m----> 2\u001b[0m \u001b[43mt1\u001b[49m\u001b[43m[\u001b[49m\u001b[38;5;241;43m0\u001b[39;49m\u001b[43m]\u001b[49m \u001b[38;5;241m=\u001b[39m \u001b[38;5;241m100\u001b[39m\n",
            "\n",
            "\u001b[1;31mTypeError\u001b[0m: 'tuple' object does not support item assignment"
          ]
        }
      ],
      "source": [
        "t1 = (1, 2, 3, 4 ,5)\n",
        "t1[0] = 100"
      ]
    },
    {
      "cell_type": "markdown",
      "metadata": {},
      "source": [
        "- La característica más importante de la tupla es que los valores no serán cambiados.\n",
        "\n",
        "- Si se intenta cambiar los valores internos de la tupla como se muestra en el código anterior, se produce un TypeError. \n",
        "\n",
        "- También se produce un error al intentar borrar el valor del elemento utilizando del t1[0].\n"
      ]
    },
    {
      "cell_type": "markdown",
      "metadata": {},
      "source": [
        "## <FONT COLOR=\"blue\">Codificación de papel </FONT>\n"
      ]
    },
    {
      "cell_type": "markdown",
      "metadata": {},
      "source": [
        "#### <FONT COLOR=\"blue\">**Q1.** </FONT>"
      ]
    },
    {
      "cell_type": "markdown",
      "metadata": {},
      "source": [
        "Cree una primos_lista que tenga como elementos números primos entre 2~10. \n",
        "\n",
        "A continuación, utilice la indexación de la lista al primer elemento de la lista e imprima como se muestra a continuación\n",
        "\n",
        "\n",
        "<table>\n",
        "<tr>\n",
        "  <td><strong>Condicion para la ejecución</strong></td>\n",
        "  <td>1er elemento de primos_lista <br> 2. <br> 3.</td>\n",
        "<tr>\n",
        "  <td><strong>Tiempo</strong></td>\n",
        "  <td>5 Minutos</td>\n",
        "<tr>\n",
        "</table>\n"
      ]
    },
    {
      "cell_type": "markdown",
      "metadata": {},
      "source": [
        "#### <FONT COLOR=\"blue\">**Q2.** </FONT>"
      ]
    },
    {
      "cell_type": "markdown",
      "metadata": {},
      "source": [
        "Crea primos_lista que tenga como elementos números primos entre 1~10. \n",
        "\n",
        "A continuación, utiliza el método append para añadir 11. Imprime los resultados antes y después de la adición como se muestra a continuación.\n",
        "\n",
        "\n",
        "<table>\n",
        "<tr>\n",
        "  <td><strong>Condicion para la ejecución</strong></td>\n",
        "  <td>Números primos: <br> Números primos despues de la adición: <br>[2, 3, 5, 7, 11]</td>\n",
        "<tr>\n",
        "  <td><strong>Tiempo</strong></td>\n",
        "  <td>5 Minutos</td>\n",
        "<tr>\n",
        "</table>\n"
      ]
    },
    {
      "cell_type": "markdown",
      "metadata": {},
      "source": [
        "#### <FONT COLOR=\"blue\">**Q3.** </FONT>"
      ]
    },
    {
      "cell_type": "markdown",
      "metadata": {},
      "source": [
        "Para la lista1 y la lista2, utilice el bucle for anidado para multiplicar cada elemento de la lista1 y la lista2 y luego imprima el resultado con el resultado de la multiplicación de elementos.\n",
        "\n",
        "\n",
        "<table>\n",
        "<tr>\n",
        "  <td><strong>Condicion para la ejecución</strong></td>\n",
        "  <td>Declare lista1 y lista2 en la primera y segunda fila. <br>Utilizar el bucle for anidado en la tercera y cuarta fila, <br>y utilizar el bucle print en la quinta fila. \n",
        "</td>\n",
        "<tr>\n",
        "  <td><strong>Tiempo</strong></td>\n",
        "  <td>5 Minutos</td>\n",
        "<tr>\n",
        "</table>"
      ]
    },
    {
      "cell_type": "markdown",
      "metadata": {},
      "source": [
        "lista1 == [3, 5, 7]\n",
        "\n",
        "lista2 = [2, 3, 4, 5, 6]\n",
        "\n",
        "**Ejemplo de Salida:**\n",
        "\n",
        "3 * 2 = 6\n",
        "\n",
        "3 * 3 = 9\n",
        "\n",
        "3 * 4 = 12\n",
        "\n",
        "3 * 5 = 15\n",
        "\n",
        "3 * 6 = 18\n",
        "\n",
        "5 * 2 = 10\n",
        "\n",
        "5 * 3 = 15\n",
        "\n",
        "5 * 4 = 20\n",
        "\n",
        "5 * 5 = 25\n",
        "\n",
        "5 * 6 = 30\n",
        "\n",
        "7 * 2 = 14\n",
        "\n",
        "7 * 3 = 21\n",
        "\n",
        "7 * 4 = 28\n",
        "\n",
        "7 * 5 = 35\n",
        "\n",
        "7 * 6 = 42\n"
      ]
    },
    {
      "cell_type": "markdown",
      "metadata": {},
      "source": [
        "## <FONT COLOR=\"blue\">Vamos a codificar </FONT>"
      ]
    },
    {
      "cell_type": "markdown",
      "metadata": {},
      "source": [
        "### <FONT COLOR=\"blue\">1. ¿Qué es la lista y por qué es importante? </FONT>"
      ]
    },
    {
      "cell_type": "markdown",
      "metadata": {},
      "source": [
        "##### **1.1. Importancia de la lista**"
      ]
    },
    {
      "cell_type": "markdown",
      "metadata": {},
      "source": [
        "Intenta guardar la altura de diferentes personas. Al programarlo, será como sigue."
      ]
    },
    {
      "cell_type": "code",
      "execution_count": null,
      "metadata": {},
      "outputs": [],
      "source": [
        "altura1 = 178.9     #Guarda los datos de tipo flotante\n",
        "altura2 = 173.5     #Guarda los datos de tipo flotante\n",
        "altura3 = 166.1     #Guarda los datos de tipo flotante\n",
        "altura4 = 164.3     #Guarda los datos de tipo flotante\n",
        "altura5 = 176.4     #Guarda los datos de tipo flotante"
      ]
    },
    {
      "cell_type": "markdown",
      "metadata": {},
      "source": [
        "<div align=\"center\"><img src=\"https://github.com/Repositorio17092022/RepositorioiImagenes/blob/main/unidad10/imagen64.PNG?raw=true\"  width= \"450px\" /></div>"
      ]
    },
    {
      "cell_type": "markdown",
      "metadata": {},
      "source": [
        "Si es así, crea una lista y guarda los datos de una sola vez. En Python, puedes crear una lista con []. \n",
        "\n",
        "Por ejemplo, escribe lo siguiente para guardar la altura de 5 estudiantes diferentes en una lista"
      ]
    },
    {
      "cell_type": "code",
      "execution_count": null,
      "metadata": {},
      "outputs": [
        {
          "data": {
            "text/plain": [
              "[178.9, 173.5, 166.1, 164.3, 176.4]"
            ]
          },
          "metadata": {},
          "output_type": "display_data"
        }
      ],
      "source": [
        "alturas = [178.9, 173.5, 166.1, 164.3, 176.4]\n",
        "alturas"
      ]
    },
    {
      "cell_type": "markdown",
      "metadata": {},
      "source": [
        "Utilice una lista para contener varios valores en una sola variable.\n",
        "\n",
        ".\n",
        "\n",
        "<div align=\"center\"><img src=\"https://github.com/Repositorio17092022/RepositorioiImagenes/blob/main/unidad10/imagen39.PNG?raw=true\"  width= \"500px\" /></div>"
      ]
    },
    {
      "cell_type": "markdown",
      "metadata": {},
      "source": [
        "##### **1.2. Crear una lista con varios elementos**"
      ]
    },
    {
      "cell_type": "markdown",
      "metadata": {},
      "source": [
        "En Python, la lista se puede crear como otras variables. Escriba los elementos en [] y guárdelos como variables, entonces se creará la variable de la lista. El siguiente es un ejemplo de una lista simple hecha con 3 miembros de BTS"
      ]
    },
    {
      "cell_type": "code",
      "execution_count": null,
      "metadata": {},
      "outputs": [],
      "source": [
        "bts = [\"V\", \"Jungkook\", \"Jimin\"]"
      ]
    },
    {
      "cell_type": "markdown",
      "metadata": {},
      "source": [
        "Si no hay miembros al principio, se puede expresar así. Si es así, se crea una lista vacía"
      ]
    },
    {
      "cell_type": "code",
      "execution_count": null,
      "metadata": {},
      "outputs": [],
      "source": [
        "bts = []"
      ]
    },
    {
      "cell_type": "markdown",
      "metadata": {},
      "source": [
        "¿Cómo se puede utilizar una lista vacía sin ningún elemento? Se pueden añadir elementos a la lista vacía utilizando códigos. La mayoría de las veces, no podemos predecir cuántos elementos se incluirán en la lista, y si es así, usar una lista vacía es útil. Utilice el método append para añadir nuevos elementos a la lista."
      ]
    },
    {
      "cell_type": "code",
      "execution_count": null,
      "metadata": {},
      "outputs": [
        {
          "data": {
            "text/plain": [
              "['V']"
            ]
          },
          "metadata": {},
          "output_type": "display_data"
        }
      ],
      "source": [
        "bts = []\n",
        "bts.append(\"V\")\n",
        "bts"
      ]
    },
    {
      "cell_type": "markdown",
      "metadata": {},
      "source": [
        "La forma más conveniente de añadir un elemento en una lista es utilizar el operador +."
      ]
    },
    {
      "cell_type": "code",
      "execution_count": null,
      "metadata": {},
      "outputs": [
        {
          "data": {
            "text/plain": [
              "['V']"
            ]
          },
          "metadata": {},
          "output_type": "display_data"
        }
      ],
      "source": [
        "bts = []\n",
        "bts = bts + [\"V\"]\n",
        "bts"
      ]
    },
    {
      "cell_type": "markdown",
      "metadata": {},
      "source": [
        "### <FONT COLOR=\"blue\">2. Calcular la longitud, el valor máximo y la suma de la lista </FONT>"
      ]
    },
    {
      "cell_type": "markdown",
      "metadata": {},
      "source": [
        "##### **2.1. Funciones incorporadas utilizadas en la lista**"
      ]
    },
    {
      "cell_type": "markdown",
      "metadata": {},
      "source": [
        "Si los siguientes valores se encuentran en la lista, las funciones incorporadas incluyendo len, max, min, sum, any pueden ser utilizadas por conveniencia\n",
        "\n",
        "- len devuelve la longitud de la lista.\n",
        "\n",
        "- max devuelve el valor máximo de los elementos de la lista, y min devuelve el valor mínimo de los elementos de la lista.\n",
        "\n",
        "- Si la lista tiene elementos numéricos, sumará todos los elementos. \n"
      ]
    },
    {
      "cell_type": "code",
      "execution_count": null,
      "metadata": {},
      "outputs": [
        {
          "data": {
            "text/plain": [
              "5"
            ]
          },
          "metadata": {},
          "output_type": "display_data"
        }
      ],
      "source": [
        "n_lista = [200, 700, 500, 300, 400]\n",
        "len(n_lista)"
      ]
    },
    {
      "cell_type": "code",
      "execution_count": null,
      "metadata": {},
      "outputs": [
        {
          "data": {
            "text/plain": [
              "700"
            ]
          },
          "metadata": {},
          "output_type": "display_data"
        }
      ],
      "source": [
        "max(n_lista)"
      ]
    },
    {
      "cell_type": "code",
      "execution_count": null,
      "metadata": {},
      "outputs": [
        {
          "data": {
            "text/plain": [
              "200"
            ]
          },
          "metadata": {},
          "output_type": "display_data"
        }
      ],
      "source": [
        "min(n_lista)"
      ]
    },
    {
      "cell_type": "code",
      "execution_count": null,
      "metadata": {},
      "outputs": [
        {
          "data": {
            "text/plain": [
              "2100"
            ]
          },
          "metadata": {},
          "output_type": "display_data"
        }
      ],
      "source": [
        "sum(n_lista)"
      ]
    },
    {
      "cell_type": "markdown",
      "metadata": {},
      "source": [
        "##### **2.2. Funciones aplicables a la lista**"
      ]
    },
    {
      "cell_type": "markdown",
      "metadata": {},
      "source": [
        "Es posible añadir el valor creado a partir de la función range a la lista mediante list(range()) como se muestra a continuación.\n",
        "\n",
        "Entre las funciones aplicables a la lista, la función any devuelve True si hay al menos un elemento que no sea 0. any(n_list) devuelve True.\n",
        "\n",
        "En el caso de que a_list esté formada por 0 y '' (espacios en blanco), la función any devuelve False.\n"
      ]
    },
    {
      "cell_type": "code",
      "execution_count": null,
      "metadata": {},
      "outputs": [
        {
          "data": {
            "text/plain": [
              "[1, 2, 3, 4, 5, 6, 7, 8, 9, 10]"
            ]
          },
          "metadata": {},
          "output_type": "display_data"
        }
      ],
      "source": [
        "list(range(1,11))"
      ]
    },
    {
      "cell_type": "code",
      "execution_count": null,
      "metadata": {},
      "outputs": [],
      "source": [
        "n_lista = [200, 700, 500, 300, 400]\n",
        "a_lista = [0, '']"
      ]
    },
    {
      "cell_type": "code",
      "execution_count": null,
      "metadata": {},
      "outputs": [
        {
          "data": {
            "text/plain": [
              "True"
            ]
          },
          "metadata": {},
          "output_type": "display_data"
        }
      ],
      "source": [
        "any(n_lista)"
      ]
    },
    {
      "cell_type": "code",
      "execution_count": null,
      "metadata": {},
      "outputs": [
        {
          "data": {
            "text/plain": [
              "False"
            ]
          },
          "metadata": {},
          "output_type": "display_data"
        }
      ],
      "source": [
        "any(a_lista)"
      ]
    },
    {
      "cell_type": "markdown",
      "metadata": {},
      "source": [
        "##### **2.3. Aproximación al elemento de la lista mediante el índice**"
      ]
    },
    {
      "cell_type": "markdown",
      "metadata": {},
      "source": [
        "¿Cómo hacer para tomar los datos guardados de la lista de Python? Supongamos que hay una lista que guarda alfabetos como los siguientes. "
      ]
    },
    {
      "cell_type": "code",
      "execution_count": null,
      "metadata": {},
      "outputs": [],
      "source": [
        "letras = ['A', 'B', 'C', 'D', 'E', 'F']"
      ]
    },
    {
      "cell_type": "markdown",
      "metadata": {},
      "source": [
        "Para extraer los datos de la lista, utilice un número entero como índice. El primer dato de la lista tendrá el índice 0, y el segundo elemento tendrá el índice 1. Los demás elementos se asignarán con índices de forma similar."
      ]
    },
    {
      "cell_type": "code",
      "execution_count": null,
      "metadata": {},
      "outputs": [
        {
          "data": {
            "text/plain": [
              "'A'"
            ]
          },
          "metadata": {},
          "output_type": "display_data"
        }
      ],
      "source": [
        "letras[0]  # Acercándose al primer elemento de la lista\n"
      ]
    },
    {
      "cell_type": "markdown",
      "metadata": {},
      "source": [
        "<div align=\"center\"><img src=\"https://github.com/Repositorio17092022/RepositorioiImagenes/blob/main/unidad10/imagen70.PNG?raw=true\"  width= \"500px\" /></div>"
      ]
    },
    {
      "cell_type": "code",
      "execution_count": null,
      "metadata": {},
      "outputs": [
        {
          "data": {
            "text/plain": [
              "'B'"
            ]
          },
          "metadata": {},
          "output_type": "display_data"
        }
      ],
      "source": [
        "letras[1]"
      ]
    },
    {
      "cell_type": "code",
      "execution_count": null,
      "metadata": {},
      "outputs": [
        {
          "data": {
            "text/plain": [
              "'C'"
            ]
          },
          "metadata": {},
          "output_type": "display_data"
        }
      ],
      "source": [
        "letras[2]"
      ]
    },
    {
      "cell_type": "code",
      "execution_count": null,
      "metadata": {},
      "outputs": [
        {
          "data": {
            "text/plain": [
              "'F'"
            ]
          },
          "metadata": {},
          "output_type": "display_data"
        }
      ],
      "source": [
        "letras[-1]"
      ]
    },
    {
      "cell_type": "markdown",
      "metadata": {},
      "source": [
        "En Python se pueden utilizar índices negativos. Es útil para obtener los datos que están al final de la lista.\n",
        "\n",
        "<div align=\"center\"><img src=\"https://github.com/Repositorio17092022/RepositorioiImagenes/blob/main/unidad10/imagen71.PNG?raw=true\"  width= \"500px\" /></div>"
      ]
    },
    {
      "cell_type": "markdown",
      "metadata": {},
      "source": [
        "### <FONT COLOR=\"blue\">3. Añadir elementos de la lista </FONT>\n"
      ]
    },
    {
      "cell_type": "markdown",
      "metadata": {},
      "source": [
        "##### **3.1. Operating the list element value**"
      ]
    },
    {
      "cell_type": "markdown",
      "metadata": {},
      "source": [
        "Operar los valores de los elementos de la lista\n",
        "\n",
        "- Para añadir un elemento mediante una función, utilice las funciones append o insert. Mientras que la función append añadirá un elemento al final de la lista, insert(index, item) añade un elemento a un índice designado.\n"
      ]
    },
    {
      "cell_type": "code",
      "execution_count": null,
      "metadata": {},
      "outputs": [
        {
          "name": "stdout",
          "output_type": "stream",
          "text": [
            "['David', 178.9, 'John', 173.5, 'Jane', 176.1]\n",
            "\n",
            "['David', 178.9, 'John', 173.5, 'Petter', 168.1, 'Jane', 176.1]\n"
          ]
        }
      ],
      "source": [
        "ranuras = ['David', 178.9, 'John', 173.5, 'Jane', 176.1]\n",
        "print(ranuras)\n",
        "ranuras.insert(4, 'Petter')\n",
        "ranuras.insert(5, 168.1)\n",
        "print(ranuras)"
      ]
    },
    {
      "cell_type": "markdown",
      "metadata": {},
      "source": [
        "### <FONT COLOR=\"blue\">4. Borrar elementos de la lista </FONT>\n"
      ]
    },
    {
      "cell_type": "markdown",
      "metadata": {},
      "source": [
        "##### **4.1 Cómo eliminar un elemento de la lista**"
      ]
    },
    {
      "cell_type": "markdown",
      "metadata": {},
      "source": [
        "Anteriormente, hemos aprendido los operadores y métodos para añadir o modificar elementos de la lista. También es posible eliminar elementos de la lista. Para la eliminación, utilice los métodos remove y pop y el comando del.\n",
        "\n",
        "Antes de utilizar la función remove, primero hay que investigar si el elemento está incluido en la lista con el operador \"in\". "
      ]
    },
    {
      "cell_type": "code",
      "execution_count": null,
      "metadata": {},
      "outputs": [
        {
          "data": {
            "text/plain": [
              "['V', 'J-Hope', 'Suga']"
            ]
          },
          "metadata": {},
          "output_type": "display_data"
        }
      ],
      "source": [
        "bts = [\"V\", \"J-Hope\", \"Suga\", \"Jungkook\"]\n",
        "bts.remove(\"Jungkook\")\n",
        "bts"
      ]
    },
    {
      "cell_type": "markdown",
      "metadata": {},
      "source": [
        " El método remove elimina un elemento designado de la lista."
      ]
    },
    {
      "cell_type": "code",
      "execution_count": null,
      "metadata": {},
      "outputs": [
        {
          "name": "stdout",
          "output_type": "stream",
          "text": [
            "['V', 'J-Hope']\n"
          ]
        }
      ],
      "source": [
        "if 'Suga' in bts:\n",
        "    bts.remove('Suga')\n",
        "print(bts)"
      ]
    },
    {
      "cell_type": "markdown",
      "metadata": {},
      "source": [
        "- \"in\" investiga si un elemento está incluido en la lista o tupla. Se convierte en un programa seguro al eliminar este elemento de la lista BTS sólo si la condición es True.\n",
        "\n",
        "El método de eliminación borra un elemento designado de la lista tal y como se ha proporcionado. "
      ]
    },
    {
      "cell_type": "markdown",
      "metadata": {},
      "source": [
        "Hay diferentes maneras de eliminar un elemento.\n",
        "\n",
        "- El pop también borra un elemento de la lista. A diferencia del remove, borra el último elemento de la lista y devuelve el valor del elemento."
      ]
    },
    {
      "cell_type": "code",
      "execution_count": null,
      "metadata": {},
      "outputs": [
        {
          "name": "stdout",
          "output_type": "stream",
          "text": [
            "Jungkook\n",
            "\n",
            "['V', 'J-Hope', 'Suga']\n"
          ]
        }
      ],
      "source": [
        "bts = [\"V\", \"J-Hope\", \"Suga\", \"Jungkook\"]\n",
        "ultimo_miembro = bts.pop()      #Eliminar y devolver el último elemento 'Jungkook'\n",
        "print(ultimo_miembro)\n",
        "print(bts)"
      ]
    },
    {
      "cell_type": "markdown",
      "metadata": {},
      "source": [
        "##### **4.2. Precauciones al borrar un elemento de la lista**"
      ]
    },
    {
      "cell_type": "markdown",
      "metadata": {},
      "source": [
        "❗❗ El comando del no es un método list.\n",
        "\n",
        "- El comando del no es un método de lista. Este comando es una palabra clave de Python, y puede borrar un elemento específico de la memoria utilizando el índice como se muestra a continuación.\n",
        "\n",
        "- Cuando se utiliza el comando del como método, se produce un SyntaxError.\n"
      ]
    },
    {
      "cell_type": "code",
      "execution_count": null,
      "metadata": {},
      "outputs": [
        {
          "data": {
            "text/plain": [
              "['J-Hope', 'Suga', 'Jungkook']"
            ]
          },
          "metadata": {},
          "output_type": "display_data"
        }
      ],
      "source": [
        "bts = [\"V\", \"J-Hope\", \"Suga\", \"Jungkook\"]\n",
        "del bts[0]          #Comando para eliminar el primer elemento de la lista\n",
        "bts"
      ]
    },
    {
      "cell_type": "code",
      "execution_count": null,
      "metadata": {},
      "outputs": [
        {
          "ename": "SyntaxError",
          "evalue": "invalid syntax (298302863.py, line 1)",
          "output_type": "error",
          "traceback": [
            "\u001b[1;36m  Cell \u001b[1;32mIn [53], line 1\u001b[1;36m\u001b[0m\n",
            "\u001b[1;33m    bts[0].del\u001b[0m\n",
            "\u001b[1;37m           ^\u001b[0m\n",
            "\u001b[1;31mSyntaxError\u001b[0m\u001b[1;31m:\u001b[0m invalid syntax\n"
          ]
        }
      ],
      "source": [
        "bts[0].del "
      ]
    },
    {
      "cell_type": "markdown",
      "metadata": {},
      "source": [
        "###  <FONT COLOR=\"blue\">5. Corte de la lista </FONT>"
      ]
    },
    {
      "cell_type": "markdown",
      "metadata": {},
      "source": [
        "##### **5.1. Método de corte**"
      ]
    },
    {
      "cell_type": "markdown",
      "metadata": {},
      "source": [
        "El corte de la lista en la forma deseada.\n",
        "\n",
        "- Para crear una nueva lista seleccionando algunos elementos de una lista, utilice el corte. Para cortar una lista, utilice dos puntos como los siguientes para designar un rango."
      ]
    },
    {
      "cell_type": "code",
      "execution_count": null,
      "metadata": {},
      "outputs": [],
      "source": [
        "letras = ['A', 'B', 'C', 'D', 'E', 'F']"
      ]
    },
    {
      "cell_type": "code",
      "execution_count": null,
      "metadata": {},
      "outputs": [
        {
          "data": {
            "text/plain": [
              "['C', 'D', 'E']"
            ]
          },
          "metadata": {},
          "output_type": "display_data"
        }
      ],
      "source": [
        "letras[2:5]         #Corte del 3er elemento al 5º elemento de la lista"
      ]
    },
    {
      "cell_type": "markdown",
      "metadata": {},
      "source": [
        "<div align=\"center\"><img src=\"https://github.com/Repositorio17092022/RepositorioiImagenes/blob/main/unidad10/imagen39.PNG?raw=true\"  width= \"500px\" /></div>"
      ]
    },
    {
      "cell_type": "markdown",
      "metadata": {},
      "source": [
        "Cortar una lista no daña la lista original. Crea y devuelve una nueva lista. En otras palabras, el corte es una copia parcial de la lista original.\n",
        "\n",
        "Si se omite el primer índice, el corte se realiza desde el principio. El siguiente código hará el corte desde el primer elemento hasta el tercero.\n"
      ]
    },
    {
      "cell_type": "code",
      "execution_count": null,
      "metadata": {},
      "outputs": [
        {
          "data": {
            "text/plain": [
              "['A', 'B', 'C']"
            ]
          },
          "metadata": {},
          "output_type": "display_data"
        }
      ],
      "source": [
        "letras[:3]"
      ]
    },
    {
      "cell_type": "markdown",
      "metadata": {},
      "source": [
        "Si se omite el segundo índice, el corte se realiza hasta el final de la lista, lo cual es una función muy conveniente."
      ]
    },
    {
      "cell_type": "code",
      "execution_count": null,
      "metadata": {},
      "outputs": [
        {
          "data": {
            "text/plain": [
              "['D', 'E', 'F']"
            ]
          },
          "metadata": {},
          "output_type": "display_data"
        }
      ],
      "source": [
        "letras[3:]"
      ]
    },
    {
      "cell_type": "markdown",
      "metadata": {},
      "source": [
        "Cortar una lista no daña la lista original. Crea y devuelve una nueva lista. En otras palabras, el corte es una copia parcial de la lista original\n"
      ]
    },
    {
      "cell_type": "code",
      "execution_count": null,
      "metadata": {},
      "outputs": [
        {
          "data": {
            "text/plain": [
              "['A', 'B', 'C', 'D', 'E', 'F']"
            ]
          },
          "metadata": {},
          "output_type": "display_data"
        }
      ],
      "source": [
        "letras[:]"
      ]
    },
    {
      "cell_type": "markdown",
      "metadata": {},
      "source": [
        "Los dos puntos se refieren desde el principio hasta el final"
      ]
    },
    {
      "cell_type": "code",
      "execution_count": null,
      "metadata": {},
      "outputs": [
        {
          "data": {
            "text/plain": [
              "['A', 'C', 'E']"
            ]
          },
          "metadata": {},
          "output_type": "display_data"
        }
      ],
      "source": [
        "letras[::2]"
      ]
    },
    {
      "cell_type": "markdown",
      "metadata": {},
      "source": [
        "Lee la lista desde el principio hasta el final, pero salta con el paso\n"
      ]
    },
    {
      "cell_type": "code",
      "execution_count": null,
      "metadata": {},
      "outputs": [
        {
          "data": {
            "text/plain": [
              "['F', 'E', 'D', 'C', 'B', 'A']"
            ]
          },
          "metadata": {},
          "output_type": "display_data"
        }
      ],
      "source": [
        "letras[::-1]            #Leer de atrás hacia adelante para crear elementos\n"
      ]
    },
    {
      "cell_type": "markdown",
      "metadata": {},
      "source": [
        "### <FONT COLOR=\"blue\">6. Diferentes métodos de la lista </FONT>"
      ]
    },
    {
      "cell_type": "markdown",
      "metadata": {},
      "source": [
        "##### **6.1. Métodos de clasificación**"
      ]
    },
    {
      "cell_type": "markdown",
      "metadata": {},
      "source": [
        "Método de clasificación - sort.\n",
        "- La ordenación ascendente es la predeterminada\n",
        "- Escribe un punto (.) y \"sort\" después de la variable de la lista\n",
        "\n",
        "\n",
        "Ordenación ascendente:\n",
        "- Ordenación con valor creciente\n",
        "\n",
        "Ordenación descendente:\n",
        "- Ordenación con valor decreciente"
      ]
    },
    {
      "cell_type": "markdown",
      "metadata": {},
      "source": [
        "##### **6.2. Métodos de clasificación: sort**"
      ]
    },
    {
      "cell_type": "markdown",
      "metadata": {},
      "source": [
        "Utiliza el método de ordenación de la lista para la ordenación ascendente de los elementos de la lista. Si se añade el argumento de la palabra clave reverse = True, se convierte en una ordenación descendente\n",
        "- La palabra clave \"argumento\" se refiere a un argumento que ordena un método o función, y se discutirá más adelante. "
      ]
    },
    {
      "cell_type": "code",
      "execution_count": null,
      "metadata": {},
      "outputs": [
        {
          "data": {
            "text/plain": [
              "[10, 20, 30, 40, 50]"
            ]
          },
          "metadata": {},
          "output_type": "display_data"
        }
      ],
      "source": [
        "lista1 = [20, 10, 40, 50, 30]\n",
        "lista1.sort()               #Ordenación ascendente de los elementos de la lista1 \n",
        "lista1"
      ]
    },
    {
      "cell_type": "code",
      "execution_count": null,
      "metadata": {},
      "outputs": [
        {
          "data": {
            "text/plain": [
              "[50, 40, 30, 20, 10]"
            ]
          },
          "metadata": {},
          "output_type": "display_data"
        }
      ],
      "source": [
        "lista1.sort(reverse = True)\n",
        "lista1"
      ]
    },
    {
      "cell_type": "markdown",
      "metadata": {},
      "source": [
        "##### **6.3. Métodos proporcionados por la lista**"
      ]
    },
    {
      "cell_type": "markdown",
      "metadata": {},
      "source": [
        "\n",
        "<table>\n",
        "<tr>\n",
        "  <td><strong>Método</strong></td>\n",
        "  <td><strong>Función</strong></td>\n",
        "<tr>\n",
        "  <td>index( x )</td>\n",
        "  <td>Encuentra un lugar utilizando el elemento x.</td>\n",
        "<tr>\n",
        "  <td>append( x )</td>\n",
        "  <td>Añade el elemento x al final de la lista.</td>\n",
        "<tr>\n",
        "  <td>count( x )</td>\n",
        "  <td>Devuelve el número de elementos del objeto dentro de la lista</td>\n",
        "<tr>\n",
        "  <td>extend([x1, x2])</td>\n",
        "  <td>Inserta la lista [x1, x2] en la lista.</td>\n",
        "</tr>\n",
        "  <td>insert(index, x)</td>\n",
        "  <td>Añade la x a la ubicación del índice deseado.</td>\n",
        "</tr>\n",
        "  <td>remove( x )</td>\n",
        "  <td>Elimina el elemento x de la lista.</td>\n",
        "</tr>\n",
        "  <td>pop( index )</td>\n",
        "  <td>Borra el elemento en la posición del índice y lo devuelve. <br>Si es así, se puede omitir el índice, lo que borrará y devolverá el último elemento de la lista.\n",
        "</td>\n",
        "</tr>\n",
        "  <td>sort()</td>\n",
        "  <td>Ordena los valores en orden ascendente.  <br>Si el valor del argumento inverso es True, se realiza una ordenación descendente</td>\n",
        "</tr>\n",
        "  <td>reverse()</td>\n",
        "  <td>Hace un orden inverso de los elementos de la lista.</td>\n",
        "</tr>\n",
        "</table>\n"
      ]
    },
    {
      "cell_type": "markdown",
      "metadata": {},
      "source": [
        "## <FONT COLOR=\"blue\">Programación por parejas </FONT>"
      ]
    },
    {
      "cell_type": "markdown",
      "metadata": {},
      "source": [
        "### <FONT COLOR=\"blue\">**Práctica de programación por parejas** </FONT>\n"
      ]
    },
    {
      "cell_type": "markdown",
      "metadata": {},
      "source": [
        "**Pautas, mecanismos y plan de contingencia.**\n",
        "\n",
        "La preparación de la programación por parejas implica el establecimiento de pautas y mecanismos para ayudar a los alumnos a emparejarse correctamente y mantenerlos emparejados. Por ejemplo, los alumnos deben turnarse para \"manejar el ratón\". Una preparación eficaz requiere planes de contingencia en caso de que uno de los compañeros se ausente o decida no participar por una razón u otra. En estos casos, es importante dejar claro que el alumno activo no será castigado porque el emparejamiento no haya funcionado bien.\n",
        "\n",
        "**Emparejar a compañeros con capacidades similares, no necesariamente iguales.**\n",
        "\n",
        "La programación en parejas puede ser eficaz cuando se empareja a estudiantes con capacidades similares, aunque no necesariamente iguales. El emparejamiento de estudiantes con capacidades no iguales a menudo puede dar lugar a una participación desequilibrada. Los profesores deben hacer hincapié en que la programación en parejas no es una estrategia de \"divide y vencerás\", sino un verdadero esfuerzo de colaboración esfuerzo de colaboración en todo el proyecto. Los profesores deben evitar emparejar a estudiantes muy débiles con estudiantes muy fuertes.\n",
        "\n",
        "**Motivar a los alumnos ofreciéndoles incentivos adicionales.**\n",
        "\n",
        "Ofrecer incentivos adicionales puede ayudar a motivar a los alumnos para que se emparejen, especialmente con los alumnos avanzados. Algunos profesores han descubierto que es útil exigir a los estudiantes que se emparejen para una o dos tareas.\n",
        "\n",
        "**Evitar las trampas de la colaboración.**\n",
        "\n",
        "El reto para el profesor es encontrar formas de evaluar los resultados individuales, al tiempo que se aprovechan las ventajas de la colaboración. ¿Cómo saber si un alumno aprendió o hizo trampa? Los expertos recomiendan revisar el diseño y la evaluación del curso, así como discutir explícita y concretamente con los estudiantes sobre los comportamientos que se interpretarán como trampa. Los expertos animan a los profesores a hacer que las tareas sean significativas para los estudiantes y a explicarles el valor de lo que aprenderán al completarlas.\n",
        "\n",
        "**Entorno de aprendizaje colaborativo.**\n",
        "\n",
        "Un entorno de aprendizaje colaborativo se produce cada vez que un instructor requiere que los estudiantes trabajen juntos en actividades de aprendizaje. Los entornos de aprendizaje colaborativo pueden incluir actividades formales e informales y pueden o no incluir una evaluación directa. Por ejemplo, parejas de estudiantes trabajan en tareas de programación; pequeños grupos de estudiantes discuten las posibles respuestas a una pregunta del profesor durante la clase; y los estudiantes trabajan juntos fuera de clase para aprender nuevos conceptos. El aprendizaje colaborativo es distinto de los proyectos en los que los estudiantes \"dividen y conquistan\". \n",
        "Cuando los estudiantes se dividen el trabajo, cada uno es responsable de una parte de la resolución del problema y las oportunidades de trabajar con otros son muy limitadas. En los entornos colaborativos, los estudiantes participan en conversaciones intelectuales entre ellos."
      ]
    },
    {
      "cell_type": "markdown",
      "metadata": {},
      "source": [
        "### <FONT COLOR=\"blue\">**Q1.** </FONT>"
      ]
    },
    {
      "cell_type": "markdown",
      "metadata": {},
      "source": [
        "Hay una lista con la cadena s_lista = ['abc', 'bcd', 'bcdefg', 'abba', 'cddc', 'opq']. Implementa la siguiente función a esta lista.\n",
        "\n",
        "No utilice la función min o el método sort para imprimir la cadena más corta de las cadenas de s_list.\n",
        "\n",
        "(Si hay varias cadenas más cortas, imprime la cadena que muestra la primera como siguiente).\n",
        "\n",
        "**Ejemplo de salida:**\n",
        "\n",
        "La cadena mas corta es:\n",
        "\n",
        "*abc*"
      ]
    },
    {
      "cell_type": "markdown",
      "metadata": {},
      "source": [
        "### <FONT COLOR=\"blue\">**Q2.** </FONT>"
      ]
    },
    {
      "cell_type": "markdown",
      "metadata": {},
      "source": [
        "Hay una lista con la cadena s_list = ['abc', 'bcd', 'bcdefg', 'abba', 'cddc', 'opq']. Implementa la siguiente función a esta lista.\n",
        "\n",
        "No utilice la función min ni el método sort para imprimir la cadena más corta de las cadenas de s_list.\n",
        "\n",
        "(Si hay varias cadenas más cortas, imprime la cadena que muestra la primera como la siguiente).\n",
        "\n",
        "**Ejemplo de salida:**\n",
        "\n",
        "La cadena más larga es: \n",
        "\n",
        "*bcdefg*\n"
      ]
    },
    {
      "cell_type": "markdown",
      "metadata": {},
      "source": [
        "### <FONT COLOR=\"blue\">**Q3.** </FONT>"
      ]
    },
    {
      "cell_type": "markdown",
      "metadata": {},
      "source": [
        "Hay una lista con la cadena s_list = ['abc', 'bcd', 'bcdefg', 'abba', 'cddc', 'opq']. Implementa la siguiente función a esta lista.\n",
        "\n",
        "Del problema de programación por pares anterior, la longitud de 'abc', 'bcd', 'opq' es igual a 3. \n",
        "\n",
        "Asimismo, si las longitudes de las cadenas son iguales, escribe un programa que imprima las tres cadenas más cortas como sigue.\n",
        "\n",
        "Utiliza la función sort(key=len) para ordenar las cadenas por su longitud y luego escribe un código.\n",
        "\n",
        "***Ejemplo de salida:**\n",
        "\n",
        "Las cadenas más cortas son: \n",
        "\n",
        "*'abc', 'bcd', 'opq'*\n",
        "\n"
      ]
    }
  ],
  "metadata": {
    "kernelspec": {
      "display_name": "Python 3.9.13 64-bit (microsoft store)",
      "language": "python",
      "name": "python3"
    },
    "language_info": {
      "codemirror_mode": {
        "name": "python",
        "version": 3
      },
      "file_extension": ".py",
      "mimetype": "text/x-python",
      "name": "python",
      "nbconvert_exporter": "python",
      "pygments_lexer": "ipython3",
      "version": "3.9.13"
    },
    "vscode": {
      "interpreter": {
        "hash": "d6ff7cb00638fb92356a42c28981a177178b7e1976aa8ecd498ce1508ea8d5e4"
      }
    }
  },
  "nbformat": 4,
  "nbformat_minor": 4
}
