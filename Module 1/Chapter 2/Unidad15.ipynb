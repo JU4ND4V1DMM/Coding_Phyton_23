{
 "cells": [
  {
   "cell_type": "markdown",
   "metadata": {},
   "source": [
    "# <FONT COLOR=\"blue\"> **Samsung Innovation Campus**</FONT>  \n",
    "\n",
    "## <FONT COLOR=\"blue\">**Codificación y Programación**</FONT>\n",
    "\n",
    "\n",
    "# **Capítulo 2. Programación básica de Python - Tipo de datos de secuencia en Python**\n",
    "\n",
    "## Objetivos del capítulo\n",
    "- Los alumnos podrán usar tipos de datos de secuencia, como la lista, el diccionario, la tupla y el conjunto de Python. Python se caracteriza al proporcionar estructuras de datos enriquecidas que incluyen tipos de datos de secuencia, y los alumnos utilizarán esas estructuras de datos para adquirir habilidades de codificación avanzadas. \n",
    "\n",
    "## Contenido del capítulo\n",
    "- Unidad 10. Tipos de datos: lista y tupla\n",
    "- Unidad 11. Tipos de datos: diccionario\n",
    "- Unidad 12. Tipos de datos: secuencia\n",
    "- Unidad 13. Listas 2D\n",
    "- Unidad 14. Diccionario: Método 1\n",
    "- Unidad 15. Diccionario: Método 2\n",
    "- Unidad 16. Tipo de datos: Set"
   ]
  },
  {
   "cell_type": "markdown",
   "metadata": {},
   "source": [
    "# **Unidad 15. Diccionario: Método 2**\n"
   ]
  },
  {
   "cell_type": "markdown",
   "metadata": {},
   "source": [
    "## Objetivos de aprendizaje\n",
    "- Ser capaz de convertir una lista y una tupla en un diccionario utilizando la función dic.\n",
    "- Ser capaz de utilizar el método dict.defaultdict para hacer que la clave tenga un valor por defecto aunque no haya clave. \n",
    "- Ser capaz de imprimir los elementos del diccionario utilizando la sentencia de repetición.\n",
    "- Ser capaz de definir diccionarios dentro de diccionarios y asignar y copiar elementos dentro de ellos a otras variables.\n",
    "\n",
    "## Resumen de aprendizaje\n",
    "- Aprenda a convertir listas y tuplas en diccionarios.\n",
    "- Aprenda a imprimir diccionarios utilizando sentencias de repetición.\n",
    "- Después de crear un diccionario (diccionario doble) dentro del diccionario, aprenda a asignar o copiar elementos de este diccionario superpuesto a otras variables\n",
    "\n",
    "## Conceptos que necesitará conocer de las unidades anteriores\n",
    "- Cómo asignar valores accediendo a la clave del diccionario y hacer operaciones básicas del diccionario.\n",
    "- Cómo añadir o guardar valores utilizando setdefault y get del diccionario.\n",
    "- Entender la referencia de la lista y la copia del objeto.\n",
    "\n",
    "## Palabras clave\n",
    "\n",
    "<table>\n",
    "<tr>\n",
    "  <td><strong>Diccionario por defecto</strong></td>\n",
    "  <td><strong>Diccionario impreso</strong></td>\n",
    "<tr>\n",
    "  <td><strong>Diccionario doble</strong></td>\n",
    "  <td><strong>Copiar el diccionario</strong></td>\n",
    "<tr>\n",
    "</table>"
   ]
  },
  {
   "cell_type": "markdown",
   "metadata": {},
   "source": [
    "##  <FONT COLOR=\"blue\">Misión </FONT>"
   ]
  },
  {
   "cell_type": "markdown",
   "metadata": {},
   "source": [
    "### <FONT COLOR=\"blue\">1. Problema del mundo real </FONT>"
   ]
  },
  {
   "cell_type": "markdown",
   "metadata": {},
   "source": [
    "##### **1.1. El desarrollo de las tecnologías de la información y la comunicación y diccionario telefónico**"
   ]
  },
  {
   "cell_type": "markdown",
   "metadata": {},
   "source": [
    "- Debido al desarrollo de la tecnología de la información y la comunicación, los teléfonos móviles se están utilizando en diversas aplicaciones. \n",
    "- Con la difusión de COVID-19 y el aumento del número de personas vacunadas, la aplicación de los teléfonos móviles se está ampliando gradualmente, con la introducción de los pasaportes COVID-19 como se muestra en la figura.\n",
    "Sin embargo, la función más básica de un teléfono móvil es la función de llamada de voz, y su teléfono contendrá los nombres y números de teléfono de los conocidos.\n",
    "- Ahora vamos a hacer una misión para hacer un simple diccionario telefónico.\n",
    "\n",
    "<div align=\"center\"><img src=\"https://github.com/Repositorio17092022/RepositorioiImagenes/blob/main/unidad15/imagen348.png?raw=true\" width= \"150px\"/></div>"
   ]
  },
  {
   "cell_type": "markdown",
   "metadata": {},
   "source": [
    "##### **1.2. ¿Qué es la guía telefónica?**"
   ]
  },
  {
   "cell_type": "markdown",
   "metadata": {},
   "source": [
    "- Se puede decir que el diccionario telefónico es una libreta en la que aparecen juntos el número de teléfono y el nombre del abonado, o el nombre y la dirección de la empresa.\n",
    "- Hace veinte años, las funciones telefónicas de voz eran el medio de comunicación más común. Por esta razón, los folletos telefónicos se han convertido en la herramienta publicitaria más común y universal.\n",
    "- En la actualidad, la eficacia del diccionario telefónico ha disminuido mucho debido al desarrollo de Internet, pero los servicios de portales de Internet están desempeñando el papel anterior del diccionario telefónico.\n",
    "\n",
    "<div align=\"center\"><img src=\"https://github.com/Repositorio17092022/RepositorioiImagenes/blob/main/unidad15/imagen349.png?raw=true\" width= \"250px\"/></div>"
   ]
  },
  {
   "cell_type": "markdown",
   "metadata": {},
   "source": [
    "##### **1.3. Datos adicionales sobre el diccionario telefónico**\n"
   ]
  },
  {
   "cell_type": "markdown",
   "metadata": {},
   "source": [
    "Para saber más sobre la guía telefónica, consulte Wikipedia, *https://en.wikipedia.org/wiki/Telephone_directory*\n",
    "\n",
    "<div align=\"center\"><img src=\"https://github.com/Repositorio17092022/RepositorioiImagenes/blob/main/unidad15/imagen350.png?raw=true\" width= \"300px\"/></div>"
   ]
  },
  {
   "cell_type": "markdown",
   "metadata": {},
   "source": [
    "### <FONT COLOR=\"blue\">2. Solución </FONT>"
   ]
  },
  {
   "cell_type": "markdown",
   "metadata": {},
   "source": [
    "##### **2.1. Directorio telefónico**"
   ]
  },
  {
   "cell_type": "markdown",
   "metadata": {},
   "source": [
    "En esta misión, realizaremos la tarea de introducir la información de las reseñas de los restaurantes que aparecen al realizar una búsqueda en Internet.\n",
    "\n",
    "Para simplificar el problema, suponga que hay tres restaurantes en la lista de la guía telefónica que va a crear.\n",
    "\n",
    "Hay nombres y números de teléfono de cada restaurante.\n",
    "\n",
    "Escribe un programa que añada una dirección y una reseña a este restaurante.\n",
    "(Restricción: Todavía no hemos aprendido a manejar cadenas complejas, por lo que al escribir direcciones y reseñas, no las espaciamos en cadenas internas).\n",
    "\n",
    "<div align=\"center\"><img src=\"https://github.com/Repositorio17092022/RepositorioiImagenes/blob/main/unidad15/imagen351.png?raw=true\" width= \"300px\"/></div>"
   ]
  },
  {
   "cell_type": "markdown",
   "metadata": {},
   "source": [
    "### <FONT COLOR=\"blue\">3. Misión </FONT>"
   ]
  },
  {
   "cell_type": "markdown",
   "metadata": {},
   "source": [
    "##### **3.1. Funcionamiento de la guía telefónica**\n"
   ]
  },
  {
   "cell_type": "code",
   "execution_count": 9,
   "metadata": {},
   "outputs": [
    {
     "name": "stdout",
     "output_type": "stream",
     "text": [
      "Número anterior\n",
      "Restaurante chino : 010-1234-4500\n",
      "Restaurante japonés : 010-2230-6540\n",
      "Restaurante italiano : 010-3232-7788\n",
      "Número actualizado\n",
      "Restaurante chino : ('010-1234-4500', 'Northern_Busan', 'Estaba_ok')\n",
      "Restaurante japonés : ('010-2230-6540', 'Sasang_Busan', 'Estaba_delicioso')\n",
      "Restaurante italiano : ('010-3232-7788', 'Donglae_Busan', 'Muy_delicioso')\n"
     ]
    }
   ],
   "source": [
    "tel_dic_dir = {'Restaurante chino':('010-1234-4500'),'Restaurante japonés': ('010-2230-6540'),'Restaurante italiano':('010-3232-7788')}\n",
    "print('Número anterior')\n",
    "for clave, valor in tel_dic_dir.items():\n",
    "    print(clave+ ' :', valor)\n",
    "for clave, valor in tel_dic_dir.items():\n",
    "    dir, critica = input(clave+ 'Escriba la dirección y la revisión de: ').split()\n",
    "    actualizacion = (valor, dir, critica)\n",
    "    tel_dic_dir[clave] = actualizacion\n",
    "print('Número actualizado')\n",
    "for clave, valor in tel_dic_dir.items():\n",
    "    print(clave+ ' :', valor)"
   ]
  },
  {
   "cell_type": "markdown",
   "metadata": {},
   "source": [
    "##### **3.2. Plan de programación**"
   ]
  },
  {
   "cell_type": "markdown",
   "metadata": {},
   "source": [
    "**<h3>Pseudocódigo: Plan de programación</h3>**\n",
    "\n",
    "**[1] Inicio**\n",
    "\n",
    "[2] El nombre y el número de teléfono del restaurante se almacenan en el diccionario telefónico.\n",
    "\n",
    "[3] para I en la lista del diccionario telefónico do{\n",
    "\n",
    "    [4] Introduzca la dirección y la reseña.\t Añade la dirección y la reseña al restaurante correspondiente.\n",
    "\n",
    "\t}\n",
    "\n",
    "[5] Imprime la guía telefónica actualizada.\n",
    "\n",
    "**[6] Fin**\n",
    "\n",
    "\n",
    "**<h3>Diagrama de flujo**\n",
    "\n",
    "<div align=\"center\"><img src=\"https://github.com/Repositorio17092022/RepositorioiImagenes/blob/main/unidad15/imagen353.png?raw=true\" width= \"400px\"/></div>\n"
   ]
  },
  {
   "cell_type": "markdown",
   "metadata": {},
   "source": [
    "##### **3.3. Código final de la guía telefónica**\n"
   ]
  },
  {
   "cell_type": "code",
   "execution_count": null,
   "metadata": {},
   "outputs": [],
   "source": [
    "tel_dic_dir = {'Restaurante chino':('010-1234-4500'),'Restaurante japonés': ('010-2230-6540'),'Restaurante italiano':('010-3232-7788')}\n",
    "print('Número anterior')\n",
    "for clave, valor in tel_dic_dir.items():\n",
    "    print(clave+ ' :', valor)\n",
    "for clave, valor in tel_dic_dir.items():\n",
    "    dir, critica = input(clave+ 'Escriba la dirección y la revisión de: ').split()\n",
    "    actualizacion = (valor, dir, critica)\n",
    "    tel_dic_dir[clave] = actualizacion\n",
    "print('Número actualizado')\n",
    "for clave, valor in tel_dic_dir.items():\n",
    "    print(clave+ ' :', valor)"
   ]
  },
  {
   "cell_type": "markdown",
   "metadata": {},
   "source": [
    "## <FONT COLOR=\"blue\">Concepto clave </FONT>"
   ]
  },
  {
   "cell_type": "markdown",
   "metadata": {},
   "source": [
    "### <FONT COLOR=\"blue\">1. Conversión de listas y tuplas en diccionario </FONT>"
   ]
  },
  {
   "cell_type": "markdown",
   "metadata": {},
   "source": [
    "##### **1.1. Varias formas de hacer el diccionario**"
   ]
  },
  {
   "cell_type": "markdown",
   "metadata": {},
   "source": [
    "Vamos a crear un diccionario a partir de una lista y una tupla que ya existen.\n",
    "\n",
    "Puedes crear un diccionario con elementos de una lista y una tupla como claves utilizando el método fromkeys de la clase diccionario dict.\n",
    "\n",
    "En este caso, todos los valores se inicializan a None, y también hay un método para especificar este valor inicial"
   ]
  },
  {
   "cell_type": "markdown",
   "metadata": {},
   "source": [
    "##### **1.2. Hacer un diccionario con el método fromkeys**"
   ]
  },
  {
   "cell_type": "markdown",
   "metadata": {},
   "source": [
    "Descubra cómo utilizar el método dict.fromkeys con el siguiente ejemplo"
   ]
  },
  {
   "cell_type": "code",
   "execution_count": 5,
   "metadata": {},
   "outputs": [
    {
     "data": {
      "text/plain": [
       "{'a': None, 'b': None, 'c': None, 'd': None}"
      ]
     },
     "execution_count": 5,
     "metadata": {},
     "output_type": "execute_result"
    }
   ],
   "source": [
    "claves = ['a', 'b', 'c', 'd']\n",
    "x = dict.fromkeys(claves)\n",
    "x"
   ]
  },
  {
   "cell_type": "markdown",
   "metadata": {},
   "source": [
    "Primero, prepare una lista que contenga claves como keys=['a', 'b', 'c', 'd'].\n",
    "\n",
    "Cuando se pone una lista que contiene claves en el dict.fromkeys, se crea un diccionario.\n",
    "\n",
    "dict.fromkeys crea un diccionario como una lista de claves, y todos los valores se inicializan a None"
   ]
  },
  {
   "cell_type": "code",
   "execution_count": 6,
   "metadata": {},
   "outputs": [
    {
     "data": {
      "text/plain": [
       "{'a': None, 'b': None, 'c': None, 'd': None}"
      ]
     },
     "execution_count": 6,
     "metadata": {},
     "output_type": "execute_result"
    }
   ],
   "source": [
    "claves = ('a', 'b', 'c', 'd')\n",
    "x = dict.fromkeys(claves)\n",
    "x"
   ]
  },
  {
   "cell_type": "markdown",
   "metadata": {},
   "source": [
    "También es posible hacer diccionarios a partir de tuplas"
   ]
  },
  {
   "cell_type": "markdown",
   "metadata": {},
   "source": [
    "**🎯 Enfoque**\n",
    "\n",
    "Si una lista de claves y un valor se añaden como factores como dict.fromkeys(lista de claves, valor), el valor se almacena como el valor por defecto de la clave. Comparemos las diferencias con el diagrama siguiente.\n"
   ]
  },
  {
   "cell_type": "code",
   "execution_count": 7,
   "metadata": {},
   "outputs": [
    {
     "data": {
      "text/plain": [
       "{'a': 100, 'b': 100, 'c': 100, 'd': 100}"
      ]
     },
     "execution_count": 7,
     "metadata": {},
     "output_type": "execute_result"
    }
   ],
   "source": [
    "y = dict.fromkeys(claves, 100)\n",
    "y"
   ]
  },
  {
   "cell_type": "markdown",
   "metadata": {},
   "source": [
    "<div align=\"center\"><img src=\"https://github.com/Repositorio17092022/RepositorioiImagenes/blob/main/unidad15/imagen358.png?raw=true\" width= \"600px\"/></div>"
   ]
  },
  {
   "cell_type": "markdown",
   "metadata": {},
   "source": [
    "##### **1.3. ¿Por qué necesitamos el método defaultdict?**\n"
   ]
  },
  {
   "cell_type": "markdown",
   "metadata": {},
   "source": [
    "<FONT COLOR=\"red\"> **❗ Veamos los casos en los que se produce un KeyError en el diccionario**</FONT>\n",
    "\n",
    "Se produce un error cuando se intenta alcanzar una clave que no existe dentro del diccionario(dic)."
   ]
  },
  {
   "cell_type": "code",
   "execution_count": 8,
   "metadata": {},
   "outputs": [
    {
     "ename": "KeyError",
     "evalue": "'z'",
     "output_type": "error",
     "traceback": [
      "\u001b[1;31m---------------------------------------------------------------------------\u001b[0m",
      "\u001b[1;31mKeyError\u001b[0m                                  Traceback (most recent call last)",
      "Cell \u001b[1;32mIn [8], line 2\u001b[0m\n\u001b[0;32m      1\u001b[0m X \u001b[38;5;241m=\u001b[39m {\u001b[38;5;124m'\u001b[39m\u001b[38;5;124ma\u001b[39m\u001b[38;5;124m'\u001b[39m:\u001b[38;5;241m0\u001b[39m, \u001b[38;5;124m'\u001b[39m\u001b[38;5;124mb\u001b[39m\u001b[38;5;124m'\u001b[39m:\u001b[38;5;241m0\u001b[39m, \u001b[38;5;124m'\u001b[39m\u001b[38;5;124mc\u001b[39m\u001b[38;5;124m'\u001b[39m:\u001b[38;5;241m0\u001b[39m, \u001b[38;5;124m'\u001b[39m\u001b[38;5;124md\u001b[39m\u001b[38;5;124m'\u001b[39m:\u001b[38;5;241m0\u001b[39m}\n\u001b[1;32m----> 2\u001b[0m \u001b[43mX\u001b[49m\u001b[43m[\u001b[49m\u001b[38;5;124;43m'\u001b[39;49m\u001b[38;5;124;43mz\u001b[39;49m\u001b[38;5;124;43m'\u001b[39;49m\u001b[43m]\u001b[49m\n",
      "\u001b[1;31mKeyError\u001b[0m: 'z'"
     ]
    }
   ],
   "source": [
    "X = {'a':0, 'b':0, 'c':0, 'd':0}\n",
    "X['z']"
   ]
  },
  {
   "cell_type": "markdown",
   "metadata": {},
   "source": [
    "- ¿Qué debo hacer para evitar que se produzca este error? En este caso, se utiliza el método defaultdic.\n",
    "\n",
    "- defaultdict no imprime el error aunque intente alcanzar una clave que no existe y devuelve un valor por defecto.\n",
    "\n",
    "- defaultdict está incluido en el módulo de colecciones.\n"
   ]
  },
  {
   "cell_type": "markdown",
   "metadata": {},
   "source": [
    "##### **1.4. Cómo utilizar defaultdict**"
   ]
  },
  {
   "cell_type": "markdown",
   "metadata": {},
   "source": [
    "A continuación se crea un diccionario por defecto con un valor de cero"
   ]
  },
  {
   "cell_type": "code",
   "execution_count": 9,
   "metadata": {},
   "outputs": [],
   "source": [
    "from collections import defaultdict\n",
    "\n",
    "claves = ('a', 'b', 'c', 'd')\n",
    "y = dict.fromkeys(claves, 100)\n",
    "y = defaultdict(int)"
   ]
  },
  {
   "cell_type": "code",
   "execution_count": 11,
   "metadata": {},
   "outputs": [
    {
     "data": {
      "text/plain": [
       "0"
      ]
     },
     "execution_count": 11,
     "metadata": {},
     "output_type": "execute_result"
    }
   ],
   "source": [
    "y['z']"
   ]
  },
  {
   "cell_type": "markdown",
   "metadata": {},
   "source": [
    "No hay ninguna clave 'z' en el diccionario y, pero si busca el valor de la clave, como y['z'], encontrará cero. \n",
    "\n",
    "Esto se debe a que el valor por defecto de la función int() es 0.\n"
   ]
  },
  {
   "cell_type": "code",
   "execution_count": 12,
   "metadata": {},
   "outputs": [
    {
     "data": {
      "text/plain": [
       "defaultdict(int, {'z': 0})"
      ]
     },
     "execution_count": 12,
     "metadata": {},
     "output_type": "execute_result"
    }
   ],
   "source": [
    "y"
   ]
  },
  {
   "cell_type": "code",
   "execution_count": 13,
   "metadata": {},
   "outputs": [
    {
     "data": {
      "text/plain": [
       "0"
      ]
     },
     "execution_count": 13,
     "metadata": {},
     "output_type": "execute_result"
    }
   ],
   "source": [
    "int()"
   ]
  },
  {
   "cell_type": "markdown",
   "metadata": {},
   "source": [
    "A continuación se crea un diccionario por defecto con un valor de cero\n",
    "\n",
    "- Como se muestra en la siguiente figura, la clave no tiene ningún elemento para 'z', por lo que tiene un valor por defecto de 0.\n"
   ]
  },
  {
   "cell_type": "code",
   "execution_count": 14,
   "metadata": {},
   "outputs": [
    {
     "data": {
      "text/plain": [
       "0"
      ]
     },
     "execution_count": 14,
     "metadata": {},
     "output_type": "execute_result"
    }
   ],
   "source": [
    "from collections import defaultdict\n",
    "\n",
    "claves = ('a', 'b', 'c', 'd')\n",
    "y = dict.fromkeys(claves, 100)\n",
    "y = defaultdict(int)\n",
    "y['z']"
   ]
  },
  {
   "cell_type": "markdown",
   "metadata": {},
   "source": [
    "<div align=\"center\"><img src=\"https://github.com/Repositorio17092022/RepositorioiImagenes/blob/main/unidad15/imagen361.png?raw=true\" width= \"250px\"/></div>"
   ]
  },
  {
   "cell_type": "markdown",
   "metadata": {},
   "source": [
    "En la Unidad 14, vimos el método setdefault necesario para procesar cuando no hay valor para la clave.\n",
    "\n",
    "Esta vez, vamos a ver el caso de procesar utilizando la clase defaultdict del built-in de Python \n"
   ]
  },
  {
   "cell_type": "code",
   "execution_count": 16,
   "metadata": {},
   "outputs": [
    {
     "data": {
      "text/plain": [
       "defaultdict(int, {'a': 4, 'b': 3, 'c': 2})"
      ]
     },
     "execution_count": 16,
     "metadata": {},
     "output_type": "execute_result"
    }
   ],
   "source": [
    "from collections import defaultdict\n",
    "\n",
    "palabra = 'abcbaabca'\n",
    "contador = defaultdict(int)\n",
    "for letra in palabra:\n",
    "    contador[letra] += 1\n",
    "\n",
    "contador"
   ]
  },
  {
   "cell_type": "markdown",
   "metadata": {},
   "source": [
    "Este código muestra la frecuencia de aparición de cada alfabeto en la palabra de la cadena como un valor clave.\n",
    "\n",
    "La clase defaultdict llama automáticamente a una función (int) que ha pasado al factor del creador y lo establece como valor de salida si no hay valor para todas las claves"
   ]
  },
  {
   "cell_type": "markdown",
   "metadata": {},
   "source": [
    "##### **1.5. Interpretación del código defaultdict**\n"
   ]
  },
  {
   "cell_type": "code",
   "execution_count": 17,
   "metadata": {},
   "outputs": [
    {
     "data": {
      "text/plain": [
       "defaultdict(int, {'a': 4, 'b': 3, 'c': 2})"
      ]
     },
     "execution_count": 17,
     "metadata": {},
     "output_type": "execute_result"
    }
   ],
   "source": [
    "from collections import defaultdict\n",
    "\n",
    "palabra = 'abcbaabca'\n",
    "contador = defaultdict(int)\n",
    "for letra in palabra:\n",
    "    contador[letra] += 1\n",
    "\n",
    "contador"
   ]
  },
  {
   "cell_type": "markdown",
   "metadata": {},
   "source": [
    "<div align=\"center\"><img src=\"https://github.com/Repositorio17092022/RepositorioiImagenes/blob/main/unidad15/imagen363.png?raw=true\" width= \"550px\"/></div>"
   ]
  },
  {
   "cell_type": "markdown",
   "metadata": {},
   "source": [
    "##### **1.6. Precauciones de defaultdict**\n",
    "\n"
   ]
  },
  {
   "cell_type": "markdown",
   "metadata": {},
   "source": [
    "**🎯 Enfoque**\n",
    "\n",
    "Si se llama sin poner nada en int, devuelve cero.\n",
    "\n",
    "Te preguntarás por qué el valor por defecto es cero cuando pones int como defaultdict(int).\n",
    "\n",
    "int convierte un número real o una cadena en un entero pero devuelve cero si se llama sin poner nada en el int como"
   ]
  },
  {
   "cell_type": "code",
   "execution_count": 18,
   "metadata": {},
   "outputs": [
    {
     "data": {
      "text/plain": [
       "0"
      ]
     },
     "execution_count": 18,
     "metadata": {},
     "output_type": "execute_result"
    }
   ],
   "source": [
    "int()"
   ]
  },
  {
   "cell_type": "markdown",
   "metadata": {},
   "source": [
    "defaultdict puede incluir una función que devuelva un valor específico. \n",
    "defaultdict(int) es una función que genera valores por defecto para especificar int, cuyo resultado es cero.\n",
    "\n",
    "Si desea establecer un valor distinto de cero como valor por defecto, puede crear e insertar una función de generación de valores por defecto como la siguiente.\n",
    "\n",
    "En el siguiente caso, la lista de espacios se convierte en un valor por defecto.\n"
   ]
  },
  {
   "cell_type": "code",
   "execution_count": 19,
   "metadata": {},
   "outputs": [
    {
     "data": {
      "text/plain": [
       "defaultdict(list, {})"
      ]
     },
     "execution_count": 19,
     "metadata": {},
     "output_type": "execute_result"
    }
   ],
   "source": [
    "list_dic = defaultdict(list)\n",
    "list_dic"
   ]
  },
  {
   "cell_type": "code",
   "execution_count": 20,
   "metadata": {},
   "outputs": [
    {
     "data": {
      "text/plain": [
       "[]"
      ]
     },
     "execution_count": 20,
     "metadata": {},
     "output_type": "execute_result"
    }
   ],
   "source": [
    "list_dic['list1']"
   ]
  },
  {
   "cell_type": "markdown",
   "metadata": {},
   "source": [
    "###  <FONT COLOR=\"blue\">2. Diccionario de impresión usando declaraciones de bucle </FONT>\n"
   ]
  },
  {
   "cell_type": "markdown",
   "metadata": {},
   "source": [
    "##### **2.1. Impresión mediante la sentencia de iteración for**\n"
   ]
  },
  {
   "cell_type": "markdown",
   "metadata": {},
   "source": [
    "Imprime la variable i utilizando print después de especificar el diccionario x en la sentencia de iteración for como for i in x:. \n",
    "\n",
    "En este caso, no se imprime el valor, sino sólo la clave.\n",
    "\n",
    "¿Qué debemos hacer para imprimir tanto la clave como el valor?\n"
   ]
  },
  {
   "cell_type": "code",
   "execution_count": 22,
   "metadata": {},
   "outputs": [
    {
     "name": "stdout",
     "output_type": "stream",
     "text": [
      "a b c d "
     ]
    }
   ],
   "source": [
    "x = {'a':10, 'b':20, 'c':30, 'd':40}  \n",
    "for i in x:\n",
    "    print(i, end=' ')"
   ]
  },
  {
   "cell_type": "markdown",
   "metadata": {},
   "source": [
    "Para ello, hay que designar el diccionario después de for in y utilizar el método de los artículos como sigue"
   ]
  },
  {
   "cell_type": "code",
   "execution_count": null,
   "metadata": {},
   "outputs": [],
   "source": [
    "for clave, valor in dictionary.items():\n",
    "        #codigo a repetir"
   ]
  },
  {
   "cell_type": "markdown",
   "metadata": {},
   "source": [
    "##### **2.2. Ejemplo de impresión utilizando la sentencia de iteración for**\n"
   ]
  },
  {
   "cell_type": "markdown",
   "metadata": {},
   "source": [
    "The following is a code that outputs all keys and values in the dictionary using the for loop"
   ]
  },
  {
   "cell_type": "code",
   "execution_count": 25,
   "metadata": {},
   "outputs": [
    {
     "name": "stdout",
     "output_type": "stream",
     "text": [
      "a 10\n",
      "b 20\n",
      "c 30\n",
      "d 40\n"
     ]
    }
   ],
   "source": [
    "x = {'a':10, 'b':20, 'c':30, 'd':40} \n",
    "for clave, valor in x.items():\n",
    "    print(clave, valor)"
   ]
  },
  {
   "cell_type": "markdown",
   "metadata": {},
   "source": [
    "**Linea 1, 2**\n",
    "\n",
    "- for key, value in x.items: takes the key-value pair from dictionary x and store the key in key and value in value, and repeat the code every time you take it out.\n",
    "\n",
    "- Therefore, if a key and a value are printed using print, both key-value pairs may be printed.\n"
   ]
  },
  {
   "cell_type": "markdown",
   "metadata": {},
   "source": [
    "Now print only key of the dictionary as shown below"
   ]
  },
  {
   "cell_type": "code",
   "execution_count": 28,
   "metadata": {},
   "outputs": [
    {
     "name": "stdout",
     "output_type": "stream",
     "text": [
      "a b c d "
     ]
    }
   ],
   "source": [
    "x = {'a':10, 'b':20, 'c':30, 'd':40} \n",
    "for clave in x.keys():\n",
    "    print(clave, end=' ')"
   ]
  },
  {
   "cell_type": "markdown",
   "metadata": {},
   "source": [
    "**Linea 2**\n",
    "\n",
    "- La clave del diccionario x se puede llamar con el método x.keys"
   ]
  },
  {
   "cell_type": "markdown",
   "metadata": {},
   "source": [
    "Imprimir sólo el valor del diccionario"
   ]
  },
  {
   "cell_type": "code",
   "execution_count": 29,
   "metadata": {},
   "outputs": [
    {
     "name": "stdout",
     "output_type": "stream",
     "text": [
      "10 20 30 40 "
     ]
    }
   ],
   "source": [
    "x = {'a':10, 'b':20, 'c':30, 'd':40} \n",
    "for valor in x.values():\n",
    "    print(valor, end=' ')"
   ]
  },
  {
   "cell_type": "markdown",
   "metadata": {},
   "source": [
    "**Linea 2**\n",
    "\n",
    "- El valor del diccionario x puede ser llamado usando el método x.values. "
   ]
  },
  {
   "cell_type": "markdown",
   "metadata": {},
   "source": [
    "###  <FONT COLOR=\"blue\">3. Diccionario en Diccionario </FONT>\n"
   ]
  },
  {
   "cell_type": "markdown",
   "metadata": {},
   "source": [
    "##### **3.1. Ejemplo de código de diccionario doble**"
   ]
  },
  {
   "cell_type": "markdown",
   "metadata": {},
   "source": [
    "Se puede incluir un diccionario dentro del diccionario de la misma manera que diccionario = {clave1: {claveA: claveA}, clave2: {claveB: claveB}}.\n",
    "\n",
    "Escribe el radio, la masa y los ciclos orbitales de un planeta terrestre en el diccionario.\n"
   ]
  },
  {
   "cell_type": "code",
   "execution_count": 30,
   "metadata": {},
   "outputs": [
    {
     "name": "stdout",
     "output_type": "stream",
     "text": [
      "6051.8\n"
     ]
    }
   ],
   "source": [
    "terrestrial_planet = {\n",
    "    \"Mercury\": {\n",
    "    'mean_radius': 2439.7,\n",
    "    'mass': 3.3022E+23,\n",
    "    'orbital_perlod': 87.969\n",
    "    },\n",
    "    \"Venus\": {\n",
    "    'mean_radius': 6051.8,\n",
    "    'orbital_period': 224.70069,\n",
    "    },\n",
    "    \"Earth\": {\n",
    "    'nean_radius': 6371-0,\n",
    "    'mass': 5.97219E+24,\n",
    "    'orbital_perlod': 365.25641,\n",
    "    },\n",
    "    \"Mars\": {\n",
    "    'mean_radius': 3389.5,\n",
    "    'mass': 6.4185E+23,\n",
    "    'orbital_period': 686.960,\n",
    "    }\n",
    "}\n",
    "\n",
    "print(terrestrial_planet['Venus']['mean_radius'])"
   ]
  },
  {
   "cell_type": "markdown",
   "metadata": {},
   "source": [
    "El diccionario planeta_terrestre contiene las claves \"Mercurio\", \"Venus\", \"Tierra\" y \"Marte\".\n",
    "\n",
    "Estas claves tienen de nuevo un diccionario en la parte del valor.\n",
    "\n",
    "Es decir, el doble diccionario es útil cuando se almacenan datos jerárquicos.\n",
    "\n",
    "Para acceder al diccionario contenido en el diccionario, coloque [ ] (cuadrado) después del diccionario por pasos como se muestra a continuación y especifique la clave.\n",
    "\n",
    "**dictionary[key][key]**\n",
    "\n",
    "**dictionary[key][key] = value**\n",
    "\n",
    "Aquí, el diccionario consta de dos pasos, por lo que los corchetes se utilizan dos veces.\n",
    "\n",
    "Para obtener el radio de Venus, encuentre primero Venus como sigue y obtenga el valor del radio medio.\n"
   ]
  },
  {
   "cell_type": "code",
   "execution_count": 31,
   "metadata": {},
   "outputs": [
    {
     "name": "stdout",
     "output_type": "stream",
     "text": [
      "6051.8\n"
     ]
    }
   ],
   "source": [
    "print(terrestrial_planet['Venus']['mean_radius'])"
   ]
  },
  {
   "cell_type": "markdown",
   "metadata": {},
   "source": [
    "### <FONT COLOR=\"blue\">4. Asignación y copia de diccionarios dobles </FONT>\n"
   ]
  },
  {
   "cell_type": "markdown",
   "metadata": {},
   "source": [
    "##### **4.1. Asignación y copia**"
   ]
  },
  {
   "cell_type": "markdown",
   "metadata": {},
   "source": [
    "Aprendamos a asignar y copiar.\n",
    "\n",
    "- Si creas un diccionario y lo asignas a otra variable, como y = x, parece que habrá dos diccionarios, pero en realidad hay un solo diccionario.\n",
    "\n",
    "- La comparación de x e y con los operadores is da como resultado True. Es decir, sólo el nombre de la variable es diferente, pero los diccionarios x e y son el mismo objeto.\n"
   ]
  },
  {
   "cell_type": "code",
   "execution_count": 32,
   "metadata": {},
   "outputs": [],
   "source": [
    "x = {'a':0, 'b':0, 'c':0, 'd':0} \n",
    "y = x"
   ]
  },
  {
   "cell_type": "code",
   "execution_count": 33,
   "metadata": {},
   "outputs": [
    {
     "data": {
      "text/plain": [
       "True"
      ]
     },
     "execution_count": 33,
     "metadata": {},
     "output_type": "execute_result"
    }
   ],
   "source": [
    "x is y"
   ]
  },
  {
   "cell_type": "markdown",
   "metadata": {},
   "source": [
    "<div align=\"center\"><img src=\"https://github.com/Repositorio17092022/RepositorioiImagenes/blob/main/unidad15/imagen371.png?raw=true\" width= \"350px\"/></div>"
   ]
  },
  {
   "cell_type": "markdown",
   "metadata": {},
   "source": [
    "**🎯 Enfoque**\n",
    "\n",
    "Aunque los nombres de las variables son diferentes, apuntan al mismo objeto, por lo que si el valor de una variable cambia, el valor de la otra también cambia.\n",
    "\n",
    "Como x e y se refieren al mismo objeto, el cambio del valor de la clave 'a' como y['a'] = 99 se refleja en ambos diccionarios x e y.\n"
   ]
  },
  {
   "cell_type": "code",
   "execution_count": 34,
   "metadata": {},
   "outputs": [],
   "source": [
    "y['a'] = 99"
   ]
  },
  {
   "cell_type": "code",
   "execution_count": 36,
   "metadata": {},
   "outputs": [
    {
     "data": {
      "text/plain": [
       "{'a': 99, 'b': 0, 'c': 0, 'd': 0}"
      ]
     },
     "execution_count": 36,
     "metadata": {},
     "output_type": "execute_result"
    }
   ],
   "source": [
    "y"
   ]
  },
  {
   "cell_type": "code",
   "execution_count": 37,
   "metadata": {},
   "outputs": [
    {
     "data": {
      "text/plain": [
       "{'a': 99, 'b': 0, 'c': 0, 'd': 0}"
      ]
     },
     "execution_count": 37,
     "metadata": {},
     "output_type": "execute_result"
    }
   ],
   "source": [
    "x"
   ]
  },
  {
   "cell_type": "markdown",
   "metadata": {},
   "source": [
    "<div align=\"center\"><img src=\"https://github.com/Repositorio17092022/RepositorioiImagenes/blob/main/unidad15/imagen372.png?raw=true\" width= \"350px\"/></div>"
   ]
  },
  {
   "cell_type": "markdown",
   "metadata": {},
   "source": [
    "##### **4.2. El resultado de la copia mediante el uso de copy**\n"
   ]
  },
  {
   "cell_type": "markdown",
   "metadata": {},
   "source": [
    "Utilicemos la copia para que los objetos indicados por las dos variables sean objetos diferentes.\n",
    "- Aunque los nombres de las variables son diferentes, apuntan al mismo objeto. \n",
    "- Al igual que en la lista, para que dos variables sean completamente dos, hay que copiar la clave-valor con el método copy."
   ]
  },
  {
   "cell_type": "code",
   "execution_count": 38,
   "metadata": {},
   "outputs": [],
   "source": [
    "x = {'a':0, 'b':0, 'c':0, 'd':0}"
   ]
  },
  {
   "cell_type": "code",
   "execution_count": 39,
   "metadata": {},
   "outputs": [],
   "source": [
    "y = x.copy()"
   ]
  },
  {
   "cell_type": "markdown",
   "metadata": {},
   "source": [
    "Ahora la comparación de x e y con los operadores is devuelve False.\n",
    "\n",
    "En otras palabras, los dos diccionarios son objetos diferentes. Sin embargo, el par clave-valor copiado es el mismo, por lo que si se comparan con ==, se devuelve True"
   ]
  },
  {
   "cell_type": "code",
   "execution_count": 40,
   "metadata": {},
   "outputs": [
    {
     "data": {
      "text/plain": [
       "False"
      ]
     },
     "execution_count": 40,
     "metadata": {},
     "output_type": "execute_result"
    }
   ],
   "source": [
    "x is y"
   ]
  },
  {
   "cell_type": "code",
   "execution_count": 41,
   "metadata": {},
   "outputs": [
    {
     "data": {
      "text/plain": [
       "True"
      ]
     },
     "execution_count": 41,
     "metadata": {},
     "output_type": "execute_result"
    }
   ],
   "source": [
    "x == y"
   ]
  },
  {
   "cell_type": "markdown",
   "metadata": {},
   "source": [
    "<div align=\"center\"><img src=\"https://github.com/Repositorio17092022/RepositorioiImagenes/blob/main/unidad15/imagen373.png?raw=true\" width= \"550px\"/></div>"
   ]
  },
  {
   "cell_type": "code",
   "execution_count": null,
   "metadata": {},
   "outputs": [],
   "source": []
  },
  {
   "cell_type": "markdown",
   "metadata": {},
   "source": [
    "Los diccionarios dobles no pueden copiarse completamente con los métodos de copia.\n",
    "\n",
    "+ ¿Es posible copiar el diccionario doble que contiene el diccionario con el método de copia?\n",
    "+ Cree un diccionario doble como el siguiente y cópielo con el método de copia.\n"
   ]
  },
  {
   "cell_type": "code",
   "execution_count": 43,
   "metadata": {},
   "outputs": [],
   "source": [
    "x = { 'a': {'python': '2.7'}, 'b': {'python': '3.6'}}\n",
    "y = x.copy()"
   ]
  },
  {
   "cell_type": "markdown",
   "metadata": {},
   "source": [
    "Ahora, el cambio del valor de y, como por ejemplo y['a']['python'] = '2.7.15', se refleja tanto en x como en y.\n",
    "\n",
    "Esto demuestra que la copia de diccionarios dobles es imposible con un método de copia.\n"
   ]
  },
  {
   "cell_type": "code",
   "execution_count": 45,
   "metadata": {},
   "outputs": [
    {
     "data": {
      "text/plain": [
       "{'a': {'python': '2.7.25'}, 'b': {'python': '3.6'}}"
      ]
     },
     "execution_count": 45,
     "metadata": {},
     "output_type": "execute_result"
    }
   ],
   "source": [
    "y['a']['python'] = '2.7.25'\n",
    "x"
   ]
  },
  {
   "cell_type": "code",
   "execution_count": 46,
   "metadata": {},
   "outputs": [
    {
     "data": {
      "text/plain": [
       "{'a': {'python': '2.7.25'}, 'b': {'python': '3.6'}}"
      ]
     },
     "execution_count": 46,
     "metadata": {},
     "output_type": "execute_result"
    }
   ],
   "source": [
    "y"
   ]
  },
  {
   "cell_type": "markdown",
   "metadata": {},
   "source": [
    "##### **4.4. Deepcopy**\n"
   ]
  },
  {
   "cell_type": "markdown",
   "metadata": {},
   "source": [
    "**🎯 Enfoque**\n",
    "\n",
    "Para copiar completamente el diccionario doble, hay que utilizar la función deepcopy.\n",
    "\n",
    "Para copiar completamente el diccionario doble, debe utilizarse la función deepcopy del módulo copy en lugar del método copy.\n"
   ]
  },
  {
   "cell_type": "code",
   "execution_count": 48,
   "metadata": {},
   "outputs": [
    {
     "data": {
      "text/plain": [
       "{'a': {'python': '2.7'}, 'b': {'python': '3.6'}}"
      ]
     },
     "execution_count": 48,
     "metadata": {},
     "output_type": "execute_result"
    }
   ],
   "source": [
    "x = { 'a': {'python': '2.7'}, 'b': {'python': '3.6'}}\n",
    "import copy\n",
    "y = copy.deepcopy(x)\n",
    "y['a']['python'] = '2.7.25'\n",
    "x"
   ]
  },
  {
   "cell_type": "code",
   "execution_count": 49,
   "metadata": {},
   "outputs": [
    {
     "data": {
      "text/plain": [
       "{'a': {'python': '2.7.25'}, 'b': {'python': '3.6'}}"
      ]
     },
     "execution_count": 49,
     "metadata": {},
     "output_type": "execute_result"
    }
   ],
   "source": [
    "y"
   ]
  },
  {
   "cell_type": "markdown",
   "metadata": {},
   "source": [
    "Ahora, el cambio del valor del diccionario y no afecta al diccionario x.\n",
    "\n",
    "La función copy.deepcopy proporciona una copia profunda de todos los diccionarios contenidos en el diccionario doble.\n",
    "\n",
    "La copia profunda es una técnica de copia que no sólo comparte la dirección de los datos, sino que también crea y almacena una copia de los datos en una memoria separada.\n"
   ]
  },
  {
   "cell_type": "markdown",
   "metadata": {},
   "source": [
    "## <FONT COLOR=\"blue\">Codificación en papel </FONT>\n"
   ]
  },
  {
   "cell_type": "markdown",
   "metadata": {},
   "source": [
    "### <FONT COLOR=\"blue\">**Q1.** </FONT>"
   ]
  },
  {
   "cell_type": "markdown",
   "metadata": {},
   "source": [
    "Existe una tupla llamada estudiante_tup, que tiene tres pares de elementos: número de identificación del estudiante, nombre y número de teléfono, como se muestra a continuación. \n",
    "\n",
    "Modifique la tupla student_tup a continuación para crear e imprimir un diccionario del par {número de identificación del estudiante : [nombre, número de teléfono]}.\n",
    "\n",
    "<table>\n",
    "<tr>\n",
    "  <td><strong>Condicion para la ejecución</strong></td>\n",
    "  <td>estudiante_tup = (<br>('211101', ‘David Doe', '010-1234-4500'), <br>('211102', ' John Smith', '010-2230-6540'), <br>\n",
    "('211103', ' Jane Carter', '010-3232-7788')<br>).</td>\n",
    "<tr>\n",
    "  <td><strong>Tiempo</strong></td>\n",
    "  <td>7 Minutos</td>\n",
    "<tr>\n",
    "</table>\n",
    "\n",
    "**Ejemplos de salida:**\n",
    "\n",
    "*{ '211101' = ['David Doe', '010-1234-4500'] }*\n",
    "\n",
    "*{ '211102' = ['John Smith', '010-2230-5540'] }*\n",
    "\n",
    "*{ '211103' = ['Jane Carter', '010-3232-7788'] }*\n",
    "\n",
    "*Escriba el código completo y los resultados esperados en la nota*"
   ]
  },
  {
   "cell_type": "markdown",
   "metadata": {},
   "source": [
    "### <FONT COLOR=\"blue\">**Q2.** </FONT>"
   ]
  },
  {
   "cell_type": "markdown",
   "metadata": {},
   "source": [
    "Escriba un programa de información sobre el estudiante utilizando el estudiante_tup anterior para recibir el número de identificación del estudiante como entrada e imprimir el nombre y el número de teléfono del estudiante.\n",
    "\n",
    "<table>\n",
    "<tr>\n",
    "  <td><strong>Condicion para la ejecución</strong></td>\n",
    "  <td>Enter student ID number : 211101 <br>Name : David Doe\n",
    "<br>Phone number : 010-1234-4500\n",
    "</td>\n",
    "<tr>\n",
    "  <td><strong>Tiempo</strong></td>\n",
    "  <td>5 Minutos</td>\n",
    "<tr>\n",
    "</table>\n",
    "\n",
    "*Escriba el código completo y los resultados esperados en la nota*"
   ]
  },
  {
   "cell_type": "markdown",
   "metadata": {},
   "source": [
    "## <FONT COLOR=\"blue\"> Vamos a codificar</FONT>"
   ]
  },
  {
   "cell_type": "markdown",
   "metadata": {},
   "source": [
    "### <FONT COLOR=\"blue\">1. Repetir utilizando los métodos del diccionario </FONT>\n"
   ]
  },
  {
   "cell_type": "markdown",
   "metadata": {},
   "source": [
    "##### **1.1. La forma de devolución de los artículos**\n"
   ]
  },
  {
   "cell_type": "markdown",
   "metadata": {},
   "source": [
    "Los elementos devueltos por el método phone_book.items están separados por comas entre paréntesis como ('Nombre','Hong Gil-dong').\n",
    "\n",
    "El tipo de datos del elemento devuelto por el método items es una tupla.\n"
   ]
  },
  {
   "cell_type": "code",
   "execution_count": 56,
   "metadata": {},
   "outputs": [],
   "source": [
    "libro_telefono = {'David Doe':'010-1234-4500', 'John Smith':'010-2230-5540', 'Jane Carter':'010-3232-7788'}"
   ]
  },
  {
   "cell_type": "code",
   "execution_count": 57,
   "metadata": {},
   "outputs": [
    {
     "data": {
      "text/plain": [
       "dict_items([('David Doe', '010-1234-4500'), ('John Smith', '010-2230-5540'), ('Jane Carter', '010-3232-7788')])"
      ]
     },
     "execution_count": 57,
     "metadata": {},
     "output_type": "execute_result"
    }
   ],
   "source": [
    "libro_telefono.items()"
   ]
  },
  {
   "cell_type": "markdown",
   "metadata": {},
   "source": [
    "<div align=\"center\"><img src=\"https://github.com/Repositorio17092022/RepositorioiImagenes/blob/main/unidad15/imagen381.png?raw=true\" width= \"450px\"/></div>"
   ]
  },
  {
   "cell_type": "markdown",
   "metadata": {},
   "source": [
    "##### **1.2. método de las llaves**\n"
   ]
  },
  {
   "cell_type": "markdown",
   "metadata": {},
   "source": [
    "Keys es un método para obtener todas las claves del diccionario.\n",
    "\n",
    "- Los elementos se pueden encontrar con índices en la lista, pero los valores sólo se pueden encontrar con claves en el diccionario.\n",
    "- Para imprimir todas las claves utilizadas en el diccionario, utilice el método keys como se muestra a continuación.\n",
    "\n"
   ]
  },
  {
   "cell_type": "code",
   "execution_count": 58,
   "metadata": {},
   "outputs": [
    {
     "data": {
      "text/plain": [
       "dict_keys(['David Doe', 'John Smith', 'Jane Carter'])"
      ]
     },
     "execution_count": 58,
     "metadata": {},
     "output_type": "execute_result"
    }
   ],
   "source": [
    "libro_telefono.keys()"
   ]
  },
  {
   "cell_type": "markdown",
   "metadata": {},
   "source": [
    "##### **1.3. método de los valores**\n"
   ]
  },
  {
   "cell_type": "markdown",
   "metadata": {},
   "source": [
    "Values es un método que trae todos los valores del diccionario.\n",
    "- Sin embargo, utilice valores para imprimir todos los valores utilizados en el diccionario."
   ]
  },
  {
   "cell_type": "code",
   "execution_count": 59,
   "metadata": {},
   "outputs": [
    {
     "data": {
      "text/plain": [
       "dict_values(['010-1234-4500', '010-2230-5540', '010-3232-7788'])"
      ]
     },
     "execution_count": 59,
     "metadata": {},
     "output_type": "execute_result"
    }
   ],
   "source": [
    "libro_telefono.values()"
   ]
  },
  {
   "cell_type": "markdown",
   "metadata": {},
   "source": [
    "- Además, se puede utilizar items para imprimir todos los valores dentro del diccionario.\n",
    "- Cuando se llama a una función como phone_book.item en el bucle for, se devuelve la tupla (clave, valor), por lo que se puede utilizar como se muestra a continuación"
   ]
  },
  {
   "cell_type": "code",
   "execution_count": 60,
   "metadata": {},
   "outputs": [
    {
     "data": {
      "text/plain": [
       "dict_items([('David Doe', '010-1234-4500'), ('John Smith', '010-2230-5540'), ('Jane Carter', '010-3232-7788')])"
      ]
     },
     "execution_count": 60,
     "metadata": {},
     "output_type": "execute_result"
    }
   ],
   "source": [
    "libro_telefono.items()"
   ]
  },
  {
   "cell_type": "code",
   "execution_count": 62,
   "metadata": {},
   "outputs": [
    {
     "name": "stdout",
     "output_type": "stream",
     "text": [
      "David Doe : 010-1234-4500\n",
      "John Smith : 010-2230-5540\n",
      "Jane Carter : 010-3232-7788\n"
     ]
    }
   ],
   "source": [
    "for nombre, numero_telefono in libro_telefono.items():\n",
    "    print(nombre, ':', numero_telefono)"
   ]
  },
  {
   "cell_type": "markdown",
   "metadata": {},
   "source": [
    "### <FONT COLOR=\"blue\">2. Definición del módulo y declaración de importación </FONT>\n"
   ]
  },
  {
   "cell_type": "markdown",
   "metadata": {},
   "source": [
    "##### **2.1. ¿Qué es un módulo?**\n"
   ]
  },
  {
   "cell_type": "markdown",
   "metadata": {},
   "source": [
    "**Modulo**\n",
    "\n",
    "- Es un archivo de script de funciones, variables o clases de Python.\n",
    "- Python tiene muchos módulos desarrollados por numerosos desarrolladores.\n",
    "- Al importar el módulo creado, escriba el nombre del módulo con 'import'.\n",
    "- Al utilizarlo, marque un punto (.) en el nombre del módulo como se muestra a continuación y escriba los componentes en el \n",
    "\n",
    "<div align=\"center\"><h4>import [module name].[class name].[method name]</h4></div>\n",
    "\n",
    "**La palabra clave que trae el módulo es importar**\n",
    "\n",
    "<div align=\"center\"><h4>import module name 1[, module name2, …]</h4></div>\n",
    "\n",
    "Veamos los módulos necesarios para aprender Python.\n",
    "\n",
    "- El módulo que se proporciona con la instalación de Python se llama Python Standard Library.\n",
    "- Hay más de 100 bibliotecas estándar, incluyendo módulos para el procesamiento de cadenas y textos, procesamiento de datos binarios, fecha, hora y ordenación, operaciones numéricas y módulos de funciones matemáticas, acceso a archivos y directorios, módulos para el acceso a bases de datos del sistema Unix, compresión de datos y módulos gráficos."
   ]
  },
  {
   "cell_type": "markdown",
   "metadata": {},
   "source": [
    "##### **2.2. Un módulo datetime que puede recibir y manipular el módulo de fecha y hora**"
   ]
  },
  {
   "cell_type": "markdown",
   "metadata": {},
   "source": [
    "módulo datetime.\n",
    "\n",
    "- Un módulo que puede proporcionar y manipular funciones relacionadas con la fecha y la hora.\n",
    "\n",
    "En el método datetime.datetime.now de abajo, el datetime anterior es el nombre del módulo, y el datetime posterior es el nombre de la clase.\n",
    "\n",
    "El método now devuelve la hora actual"
   ]
  },
  {
   "cell_type": "code",
   "execution_count": 2,
   "metadata": {},
   "outputs": [
    {
     "data": {
      "text/plain": [
       "datetime.datetime(2022, 9, 21, 9, 7, 12, 569740)"
      ]
     },
     "execution_count": 2,
     "metadata": {},
     "output_type": "execute_result"
    }
   ],
   "source": [
    "import datetime\n",
    "\n",
    "datetime.datetime.now()"
   ]
  },
  {
   "cell_type": "markdown",
   "metadata": {},
   "source": [
    "**Linea 2**\n",
    "\n",
    "El método datatime.now devuelve el año, mes, día, hora, minuto, segundo y microsegundo actuales"
   ]
  },
  {
   "cell_type": "markdown",
   "metadata": {},
   "source": [
    "##### **2.3. Método today**"
   ]
  },
  {
   "cell_type": "markdown",
   "metadata": {},
   "source": [
    "Imprimamos el valor al que se asigna el método today\n",
    "\n",
    "- El método today de la clase date devuelve la fecha local actual.\n",
    "- El objeto today contiene el año, el mes y el día de la fecha actual, por lo que podríamos imprimir cada uno de los atributos.\n",
    "\n"
   ]
  },
  {
   "cell_type": "code",
   "execution_count": 65,
   "metadata": {},
   "outputs": [
    {
     "name": "stdout",
     "output_type": "stream",
     "text": [
      "2022-09-20 22:05:53.209662\n"
     ]
    }
   ],
   "source": [
    "today = datetime.datetime.today()\n",
    "print(today)"
   ]
  },
  {
   "cell_type": "code",
   "execution_count": 66,
   "metadata": {},
   "outputs": [
    {
     "data": {
      "text/plain": [
       "datetime.datetime(2022, 9, 20, 22, 5, 53, 209662)"
      ]
     },
     "execution_count": 66,
     "metadata": {},
     "output_type": "execute_result"
    }
   ],
   "source": [
    "today"
   ]
  },
  {
   "cell_type": "code",
   "execution_count": 67,
   "metadata": {},
   "outputs": [
    {
     "data": {
      "text/plain": [
       "2022"
      ]
     },
     "execution_count": 67,
     "metadata": {},
     "output_type": "execute_result"
    }
   ],
   "source": [
    "today.year"
   ]
  },
  {
   "cell_type": "code",
   "execution_count": 68,
   "metadata": {},
   "outputs": [
    {
     "data": {
      "text/plain": [
       "9"
      ]
     },
     "execution_count": 68,
     "metadata": {},
     "output_type": "execute_result"
    }
   ],
   "source": [
    "today.month"
   ]
  },
  {
   "cell_type": "code",
   "execution_count": 69,
   "metadata": {},
   "outputs": [
    {
     "data": {
      "text/plain": [
       "20"
      ]
     },
     "execution_count": 69,
     "metadata": {},
     "output_type": "execute_result"
    }
   ],
   "source": [
    "today.day"
   ]
  },
  {
   "cell_type": "markdown",
   "metadata": {},
   "source": [
    "##### **2.4. Función dir**\n"
   ]
  },
  {
   "cell_type": "markdown",
   "metadata": {},
   "source": [
    "Vamos a imprimir las funciones y atributos de la clase que tiene el módulo utilizando una función dir.\n",
    "- La función dir devuelve todas las listas de clases y atributos disponibles en el módulo datetime.\n",
    "- MAXYEAR es el año máximo que puede expresar el objeto datetime y tiene un valor de 9999.\n",
    "- MINYEAR tiene un valor de 1.\n",
    "- Las clases como date, datetime, datetime_CAPI, time, timedelta, timezone y tzinfo tienen la función de utilizar convenientemente la información de fecha, hora, zona horaria y huso horario.\n"
   ]
  },
  {
   "cell_type": "code",
   "execution_count": 70,
   "metadata": {},
   "outputs": [
    {
     "name": "stdout",
     "output_type": "stream",
     "text": [
      "['MAXYEAR', 'MINYEAR', '__all__', '__builtins__', '__cached__', '__doc__', '__file__', '__loader__', '__name__', '__package__', '__spec__', 'date', 'datetime', 'datetime_CAPI', 'sys', 'time', 'timedelta', 'timezone', 'tzinfo']\n"
     ]
    }
   ],
   "source": [
    "print(dir(datetime))"
   ]
  },
  {
   "cell_type": "markdown",
   "metadata": {},
   "source": [
    "##### **2.5. Método replace**"
   ]
  },
  {
   "cell_type": "markdown",
   "metadata": {},
   "source": [
    "El método replace puede cambiar la fecha o la hora.\n",
    "- Se utiliza para cambiar el valor de la fecha o la hora en datetime\n"
   ]
  },
  {
   "cell_type": "code",
   "execution_count": 3,
   "metadata": {},
   "outputs": [
    {
     "data": {
      "text/plain": [
       "datetime.datetime(2022, 12, 25, 9, 7, 16, 832066)"
      ]
     },
     "execution_count": 3,
     "metadata": {},
     "output_type": "execute_result"
    }
   ],
   "source": [
    "tiempo_inicio = datetime.datetime.now()\n",
    "tiempo_inicio.replace(month=12, day=25)"
   ]
  },
  {
   "cell_type": "markdown",
   "metadata": {},
   "source": [
    "**Linea 1,2**\n",
    "\n",
    "- El objeto fecha actual se asigna a start_time.\n",
    "- Utilizando el método replace, el mes y el día de la fecha actual se cambian a 12 y 25, respectivamente"
   ]
  },
  {
   "cell_type": "markdown",
   "metadata": {},
   "source": [
    "##### **2.6. Sintaxis \"as\"**\n"
   ]
  },
  {
   "cell_type": "markdown",
   "metadata": {},
   "source": [
    "Si utiliza la sintaxis as, puede utilizar el nombre del módulo como un alias.\n",
    "\n",
    "- Es engorroso escribir \"[Nombre del módulo].[Nombre de la clase].[Nombre del método]\" dividiéndolo con operadores de punto cada vez. \n",
    "- La sintaxis as se puede utilizar simplemente para acortar los datos del nombre del módulo a alias, dt.\n",
    "\n",
    "<div align=\"center\"><h4>import [module name] as [module alias]</h4></div>\n"
   ]
  },
  {
   "cell_type": "code",
   "execution_count": 4,
   "metadata": {},
   "outputs": [
    {
     "data": {
      "text/plain": [
       "datetime.datetime(2022, 12, 25, 9, 12, 36, 453254)"
      ]
     },
     "execution_count": 4,
     "metadata": {},
     "output_type": "execute_result"
    }
   ],
   "source": [
    "import datetime as dt       # utilizar dt en lugar de datetime a partir de ahora\n",
    "tiempo_inicio = dt.datetime.now()\n",
    "tiempo_inicio.replace(month=12, day=25)"
   ]
  },
  {
   "cell_type": "markdown",
   "metadata": {},
   "source": [
    "**💡 Un paso más**\n",
    "\n",
    "*import ~ as*\n",
    "\n",
    "- Cómo dar un apodo a un nombre de módulo largo.\n",
    "- Cuando se utilizan clases o métodos dentro de un módulo, se conectan con puntos, y si el nombre del módulo es demasiado largo, puede ser engorroso seguir escribiendo el nombre. \n",
    "- En este caso, se puede designar un nuevo nombre del módulo utilizando as. \n",
    "- Los nombres cortos que se utilizan habitualmente son m para math, dt para datetime, rd para random, t para turtle.\n",
    "\n",
    "ej1) *import datetime as dt*\n",
    "\n",
    "ej2) *import random as rd*\n",
    "\n",
    "ej3) *import math as m*\n",
    "\n",
    "ej3) *import turtle as t*\n"
   ]
  },
  {
   "cell_type": "markdown",
   "metadata": {},
   "source": [
    "##### **2.7. from ~ import ~ statement**\n"
   ]
  },
  {
   "cell_type": "markdown",
   "metadata": {},
   "source": [
    "La declaración from~import es un método para escoger lo que necesitas dentro de un módulo y traerlo.\n",
    "\n",
    "Es la forma de \"from [nombre del módulo] import [nombre de la clase].[nombre del método]\".\n",
    "\n",
    "En el módulo datetime, sólo se incluye la clase datetime.\n",
    "\n",
    "Si escribes una sentencia from, puedes omitir el [nombre del módulo] que tuviste que escribir en la sentencia import.\n"
   ]
  },
  {
   "cell_type": "code",
   "execution_count": 5,
   "metadata": {},
   "outputs": [
    {
     "data": {
      "text/plain": [
       "datetime.datetime(2022, 12, 25, 9, 19, 18, 17966)"
      ]
     },
     "execution_count": 5,
     "metadata": {},
     "output_type": "execute_result"
    }
   ],
   "source": [
    "from datetime import datetime\n",
    "tiempo_inicio = datetime.now()\n",
    "tiempo_inicio.replace(month=12, day=25)"
   ]
  },
  {
   "cell_type": "markdown",
   "metadata": {},
   "source": [
    "\"from [nombre del módulo] import *\" significa traer todas las variables, funciones y clases del módulo.\n",
    "\n",
    "*' significa todo.\n",
    "\n",
    "El código de abajo trae todas las clases a un módulo llamado datetime.\n",
    "\n",
    "Entre ellas, la fecha de hoy se imprime usando today de dateclass (método que devuelve la fecha de hoy).\n"
   ]
  },
  {
   "cell_type": "code",
   "execution_count": 7,
   "metadata": {},
   "outputs": [
    {
     "data": {
      "text/plain": [
       "datetime.datetime(2022, 9, 21, 9, 22, 10, 498261)"
      ]
     },
     "execution_count": 7,
     "metadata": {},
     "output_type": "execute_result"
    }
   ],
   "source": [
    "from datetime import *\n",
    "hoy = datetime.now()\n",
    "hoy"
   ]
  },
  {
   "cell_type": "markdown",
   "metadata": {},
   "source": [
    "##### **2.8. Módulo time**\n"
   ]
  },
  {
   "cell_type": "markdown",
   "metadata": {},
   "source": [
    "El módulo de tiempo proporciona información relacionada con el tiempo.\n",
    "\n",
    "- Un módulo que proporciona información relacionada con el tiempo.\n",
    "- El UTC que es la hora de inicio del sistema Unix, 0:0:0 del 1 de enero de 1970, se llama epoxy.\n",
    "- El sistema de tiempo utilizado como estándar en los sistemas operativos Unix también se llama tiempo epoxi o tiempo Unix.\n",
    "- El código de abajo informa el tiempo en segundos basado en el tiempo epoxy (0:0:0 del 1 de enero de 1970).\n"
   ]
  },
  {
   "cell_type": "code",
   "execution_count": 8,
   "metadata": {},
   "outputs": [
    {
     "name": "stdout",
     "output_type": "stream",
     "text": [
      "Tiempo después del epoxi = 1663770325.5844922\n"
     ]
    }
   ],
   "source": [
    "import time \n",
    "segundos = time.time()\n",
    "print('Tiempo después del epoxi =' ,segundos)"
   ]
  },
  {
   "cell_type": "markdown",
   "metadata": {},
   "source": [
    "Prueba con localtime del módulo de tiempo.\n",
    "- El método localtime devuelve el valor de la hora epoxi recibida en forma de fecha y hora."
   ]
  },
  {
   "cell_type": "code",
   "execution_count": 9,
   "metadata": {},
   "outputs": [
    {
     "data": {
      "text/plain": [
       "time.struct_time(tm_year=2022, tm_mon=9, tm_mday=21, tm_hour=9, tm_min=28, tm_sec=8, tm_wday=2, tm_yday=264, tm_isdst=0)"
      ]
     },
     "execution_count": 9,
     "metadata": {},
     "output_type": "execute_result"
    }
   ],
   "source": [
    "import time\n",
    "unix_timestamp = time.time()\n",
    "hora_local = time.localtime(unix_timestamp)\n",
    "hora_local"
   ]
  },
  {
   "cell_type": "markdown",
   "metadata": {},
   "source": [
    "- El método strftime imprime un valor de tiempo obtenido por localtime en un formato de fecha/hora deseado por los usuarios.\n",
    "\n"
   ]
  },
  {
   "cell_type": "code",
   "execution_count": 11,
   "metadata": {},
   "outputs": [
    {
     "name": "stdout",
     "output_type": "stream",
     "text": [
      "2022-09-21- 09:30:55\n"
     ]
    }
   ],
   "source": [
    "import time\n",
    "unix_timestamp = time.time()\n",
    "hora_local = time.localtime(unix_timestamp)\n",
    "print(time.strftime('%Y-%m-%d- %H:%M:%S',hora_local))"
   ]
  },
  {
   "cell_type": "markdown",
   "metadata": {},
   "source": [
    "- %Y es el año, %m es el mes, %d es el día, y '%Y-%m-%d' significa que es el formato 'año-mes-día'\".\n",
    "\n",
    "- %H:%M:%S': Cada uno representa la hora (24 horas), los minutos (00 ~ 59) y los segundos (00 ~ 59).\n"
   ]
  },
  {
   "cell_type": "markdown",
   "metadata": {},
   "source": [
    "##### **2.9. Módulo math**"
   ]
  },
  {
   "cell_type": "markdown",
   "metadata": {},
   "source": [
    "Módulo math que puede utilizar funciones relacionadas con las matemáticas.\n",
    "\n",
    "Módulo math.\n",
    "\n",
    "- Un módulo con funciones relacionadas con las matemáticas.\n",
    "- Se define el valor de Pi, la constante natural e, etc.\n",
    "- Incluye funciones relacionadas con las matemáticas como sin, cos, tan, log, pow, ceil, floor, trunc, fabs, copysign(x,y), etc."
   ]
  },
  {
   "cell_type": "markdown",
   "metadata": {},
   "source": [
    "##### **2.10. Imprime las funciones incorporadas del módulo matemático utilizando dir**\n"
   ]
  },
  {
   "cell_type": "code",
   "execution_count": 12,
   "metadata": {},
   "outputs": [
    {
     "name": "stdout",
     "output_type": "stream",
     "text": [
      "['__doc__', '__loader__', '__name__', '__package__', '__spec__', 'acos', 'acosh', 'asin', 'asinh', 'atan', 'atan2', 'atanh', 'ceil', 'comb', 'copysign', 'cos', 'cosh', 'degrees', 'dist', 'e', 'erf', 'erfc', 'exp', 'expm1', 'fabs', 'factorial', 'floor', 'fmod', 'frexp', 'fsum', 'gamma', 'gcd', 'hypot', 'inf', 'isclose', 'isfinite', 'isinf', 'isnan', 'isqrt', 'lcm', 'ldexp', 'lgamma', 'log', 'log10', 'log1p', 'log2', 'modf', 'nan', 'nextafter', 'perm', 'pi', 'pow', 'prod', 'radians', 'remainder', 'sin', 'sinh', 'sqrt', 'tan', 'tanh', 'tau', 'trunc', 'ulp']\n"
     ]
    }
   ],
   "source": [
    "import math \n",
    "print(dir(math))"
   ]
  },
  {
   "cell_type": "markdown",
   "metadata": {},
   "source": [
    "##### **2.11. Aprender las funciones de los módulos relacionados con las matemáticas matemáticas**\n"
   ]
  },
  {
   "cell_type": "markdown",
   "metadata": {},
   "source": [
    "Averigüemos las funciones que utilizan las funciones del módulo"
   ]
  },
  {
   "cell_type": "code",
   "execution_count": 16,
   "metadata": {},
   "outputs": [
    {
     "data": {
      "text/plain": [
       "27.0"
      ]
     },
     "execution_count": 16,
     "metadata": {},
     "output_type": "execute_result"
    }
   ],
   "source": [
    "import math as m \n",
    "m.pow(3, 3)     #3 elevado a 3"
   ]
  },
  {
   "cell_type": "code",
   "execution_count": 15,
   "metadata": {},
   "outputs": [
    {
     "data": {
      "text/plain": [
       "99.0"
      ]
     },
     "execution_count": 15,
     "metadata": {},
     "output_type": "execute_result"
    }
   ],
   "source": [
    "m.fabs(-99)     #Valor absoluto de -99"
   ]
  },
  {
   "cell_type": "code",
   "execution_count": 17,
   "metadata": {},
   "outputs": [
    {
     "data": {
      "text/plain": [
       "3"
      ]
     },
     "execution_count": 17,
     "metadata": {},
     "output_type": "execute_result"
    }
   ],
   "source": [
    "m.ceil(2.1)     #Redondear arriba"
   ]
  },
  {
   "cell_type": "code",
   "execution_count": 19,
   "metadata": {},
   "outputs": [
    {
     "data": {
      "text/plain": [
       "-2"
      ]
     },
     "execution_count": 19,
     "metadata": {},
     "output_type": "execute_result"
    }
   ],
   "source": [
    "m.ceil(-2.1)     #Redondear arriba"
   ]
  },
  {
   "cell_type": "code",
   "execution_count": 20,
   "metadata": {},
   "outputs": [
    {
     "data": {
      "text/plain": [
       "2"
      ]
     },
     "execution_count": 20,
     "metadata": {},
     "output_type": "execute_result"
    }
   ],
   "source": [
    "m.floor(2.1)     #Redondear debajo"
   ]
  },
  {
   "cell_type": "code",
   "execution_count": 21,
   "metadata": {},
   "outputs": [
    {
     "data": {
      "text/plain": [
       "0.999999327347282"
      ]
     },
     "execution_count": 21,
     "metadata": {},
     "output_type": "execute_result"
    }
   ],
   "source": [
    "m.log(2.71828)"
   ]
  },
  {
   "cell_type": "code",
   "execution_count": 23,
   "metadata": {},
   "outputs": [
    {
     "data": {
      "text/plain": [
       "2.0"
      ]
     },
     "execution_count": 23,
     "metadata": {},
     "output_type": "execute_result"
    }
   ],
   "source": [
    "m.log(100, 10)      #valor de 100 con el logaritmo 10 como base"
   ]
  },
  {
   "cell_type": "markdown",
   "metadata": {},
   "source": [
    "Funciones matemáticas en el módulo de matemáticas, descripción y ejemplos de uso."
   ]
  },
  {
   "cell_type": "markdown",
   "metadata": {},
   "source": [
    "<table>\n",
    "<tr>\n",
    "  <td><strong>Función</strong></td>\n",
    "  <td><strong>Descripción</strong></td>\n",
    "  <td><strong>Ejemplo</strong></td>\n",
    "<tr>\n",
    "  <td>fabs(x)</td>\n",
    "  <td>Devuelve el valor absoluto del número real. x</td>\n",
    "  <td>fabs(-2) → 2.0</td>\n",
    "<tr>\n",
    "  <td>ceil(x)</td>\n",
    "  <td>Eleva x a un entero cercano y lo devuelve.</td>\n",
    "  <td>ceil(2.1) → 3, ceil(-2.1) → -2</td>\n",
    "<tr>\n",
    "  <td>floor(x)</td>\n",
    "  <td>Redondea x a un entero cercano y lo devuelve.</td>\n",
    "  <td>floor(2.1) → 2, ceil(-2.1) → -3</td>\n",
    "<tr>\n",
    "  <td>exp(x)</td>\n",
    "  <td>Devuelve e^x.</td>\n",
    "  <td>exp(1) → 2.71828</td>\n",
    "<tr>\n",
    "  <td>log(x)</td>\n",
    "  <td>Devuelve el logaritmo natural de x.</td>\n",
    "  <td>log(2.71828) → 1.0</td>\n",
    "<tr>\n",
    "  <td>log(x, base)</td>\n",
    "  <td>Devuelve el valor de log x con base como base.</td>\n",
    "  <td>log(100, 10) → 2.0</td>\n",
    "<tr>\n",
    "  <td>sqrt(x)</td>\n",
    "  <td>Devuelve la raíz cuadrada de x.</td>\n",
    "  <td>sqrt(4.0) → 2.0 </td>\n",
    "<tr>\n",
    "  <td>sin(x)</td>\n",
    "  <td>Devuelve el valor sinusoidal de x. x en radianes.</td>\n",
    "  <td>sin(3.14159/2) → 1, sin(3.14159) → 0</td>\n",
    "<tr>\n",
    "  <td>asin(x)</td>\n",
    "  <td>Devuelve asin of x.</td>\n",
    "  <td>asin(1.0) → 1.57, asin(0.5) → 0.523599</td>\n",
    "<tr>\n",
    "  <td>cos(x</td>\n",
    "  <td>Devuelve el valor cos de x. x en radianes.</td>\n",
    "  <td>cos(3.14159/2) → 0, cos(3.14159) → -1</td>\n",
    "<tr>\n",
    "  <td>acos(x)</td>\n",
    "  <td>Devuelve acos of x.</td>\n",
    "  <td>acos(1.0) → 0, acos(0.5) → 1.0472</td>\n",
    "<tr>\n",
    "  <td>tan(x)</td>\n",
    "  <td>Devuelve el valor tan de x. x en radianes.</td>\n",
    "  <td>tan(3.14159/4) → 1, tan(0.0) → 0</td>\n",
    "<tr>\n",
    "  <td>degrees(x)</td>\n",
    "  <td>Cambia el ángulo x de radianes a grados</td>\n",
    "    <td>degrees(1.57) → 90</td>\n",
    "<tr>\n",
    "  <td>radians(x)</td>\n",
    "  <td>Cambia el ángulo normal x a radianes.</td>\n",
    "  <td>radians(90) → 1.57</td>\n",
    "</tr>\n",
    "</table>"
   ]
  },
  {
   "cell_type": "markdown",
   "metadata": {},
   "source": [
    "##### **2.12. Funciones trigonométricas utilizando radianes**\n"
   ]
  },
  {
   "cell_type": "markdown",
   "metadata": {},
   "source": [
    "Averigüemos por qué sin (90) no es 1 en el código siguiente.\n",
    "\n",
    "- Esto se debe a que la función trigonométrica del módulo matemático de Python utiliza el ángulo del radián como valor del factor.\n",
    "- Para utilizar el ángulo general de 90 grados en el módulo matemático, es necesario convertirlo a una notación de radianes como math.pi/2.0."
   ]
  },
  {
   "cell_type": "code",
   "execution_count": 25,
   "metadata": {},
   "outputs": [
    {
     "data": {
      "text/plain": [
       "0.0"
      ]
     },
     "execution_count": 25,
     "metadata": {},
     "output_type": "execute_result"
    }
   ],
   "source": [
    "import math as m\n",
    "\n",
    "m.sin(0.0)      #Valor de sin 0"
   ]
  },
  {
   "cell_type": "code",
   "execution_count": 27,
   "metadata": {},
   "outputs": [
    {
     "data": {
      "text/plain": [
       "0.8939966636005579"
      ]
     },
     "execution_count": 27,
     "metadata": {},
     "output_type": "execute_result"
    }
   ],
   "source": [
    "m.sin(90.0)     #no utilizar el ángulo general de 90,0"
   ]
  },
  {
   "cell_type": "code",
   "execution_count": 29,
   "metadata": {},
   "outputs": [
    {
     "data": {
      "text/plain": [
       "1.0"
      ]
     },
     "execution_count": 29,
     "metadata": {},
     "output_type": "execute_result"
    }
   ],
   "source": [
    "m.sin(m.pi/2)       # notación de radianes"
   ]
  },
  {
   "cell_type": "markdown",
   "metadata": {},
   "source": [
    "## <FONT COLOR=\"blue\">Programación por parejas </FONT>\n"
   ]
  },
  {
   "cell_type": "markdown",
   "metadata": {},
   "source": [
    "### <FONT COLOR=\"blue\">**Práctica de programación por parejas** </FONT>"
   ]
  },
  {
   "cell_type": "markdown",
   "metadata": {},
   "source": [
    "**Pautas, mecanismos y plan de contingencia**\n",
    "\n",
    "Preparar la programación por parejas implica establecer pautas y mecanismos para ayudar a los alumnos a emparejarse correctamente y mantenerlos emparejados. Por ejemplo, los alumnos\n",
    "deben turnarse para \"manejar el ratón\". Una preparación eficaz requiere planes de contingencia en caso de que uno de los compañeros se ausente o decida no participar por una\n",
    "razón u otra. En estos casos, es importante dejar claro que el alumno activo no será castigado porque el emparejamiento no haya funcionado bien.\n",
    "\n",
    "**Emparejar a compañeros con capacidades similares, no necesariamente iguales**\n",
    "\n",
    "La programación en parejas puede ser eficaz cuando se empareja a estudiantes con capacidades similares, aunque no necesariamente iguales. El emparejamiento de estudiantes con capacidades diferentes a menudo\n",
    "puede conducir a una participación desequilibrada. Los profesores deben hacer hincapié en que la programación en parejas no es una estrategia de \"divide y vencerás\", sino un verdadero esfuerzo de colaboración\n",
    "en todos los esfuerzos de todo el proyecto. Los profesores deben evitar emparejar a estudiantes muy débiles con estudiantes muy fuertes.\n",
    "\n",
    "**Motivar a los alumnos ofreciéndoles incentivos adicionales**\n",
    "\n",
    "Ofrecer incentivos adicionales puede ayudar a motivar a los estudiantes a emparejarse, especialmente con los estudiantes avanzados. A algunos profesores les ha resultado útil exigir a los alumnos que se emparejen\n",
    "para una o dos tareas.\n",
    "\n",
    "**Evitar las trampas de la colaboración**\n",
    "\n",
    "El reto para el profesor es encontrar formas de evaluar los resultados individuales, al tiempo que se aprovechan las ventajas de la colaboración. ¿Cómo saber si un alumno\n",
    "aprendió o hizo trampa? Los expertos recomiendan revisar el diseño y la evaluación del curso, así como discutir explícita y concretamente con los estudiantes sobre los comportamientos\n",
    "que se interpretarán como trampa. Los expertos animan a los profesores a hacer que las tareas sean significativas para los estudiantes y a explicarles el valor de lo que aprenderán\n",
    "al realizarlas.\n",
    "\n",
    "**Entorno de aprendizaje colaborativo**\n",
    "\n",
    "Un entorno de aprendizaje colaborativo se produce cada vez que un instructor requiere que los estudiantes trabajen juntos en actividades de aprendizaje. Los entornos de aprendizaje colaborativo\n",
    "pueden incluir actividades formales e informales y pueden o no incluir una evaluación directa. Por ejemplo, parejas de estudiantes trabajan en tareas de programación;\n",
    "pequeños grupos de estudiantes discuten las posibles respuestas a una pregunta del profesor durante la clase; y los estudiantes trabajan juntos fuera de clase para aprender nuevos conceptos.\n",
    "El aprendizaje colaborativo es distinto de los proyectos en los que los estudiantes \"dividen y conquistan\".\n",
    "Cuando los estudiantes se dividen el trabajo, cada uno es responsable de una parte de la resolución del problema y las oportunidades de trabajar con otros son muy limitadas. En los entornos de colaboración, los alumnos participan en\n",
    "conversación intelectual entre ellos."
   ]
  },
  {
   "cell_type": "markdown",
   "metadata": {},
   "source": [
    "### <FONT COLOR=\"blue\">**Q1.**</FONT>"
   ]
  },
  {
   "cell_type": "markdown",
   "metadata": {},
   "source": [
    "La lista estudiante_tupla con tuplas como elementos es la que se muestra a continuación. La tupla, que es el elemento de esta tupla consiste en un (número de identificación del estudiante, nombre, número de teléfono). Usando esto, haga un diccionario para (número de identificación del estudiante: nombre) e imprímalo. \n",
    "\n",
    "Cuando pregunte por el número de identificación del estudiante, asegúrese de que el número de identificación del estudiante, el nombre y el número de teléfono se impriman como se muestra a continuación.\n",
    "\n",
    "*estudiante_tupla = [('211101', 'David Doe', '010-123-1111'), ('211102', 'John Smith', '010-123-2222’),('211103', 'Jane Carter', '010-123-3333')]*\n",
    "\n",
    "**Ejemplo de salida:**\n",
    "\n",
    "*211101 : David Doe*\n",
    "\n",
    "*211102 : John Smith*\n",
    "\n",
    "*211103 : Jane Carter*\n",
    "\n",
    "*Ingrese el numero de identificación del estudiante:* 211103\n",
    "\n",
    "<h5>211103 es el estudiante Jane Carter y su numero de telefono es 010-123-3333</h5>\n",
    "\n",
    "*Escriba el código completo y los resultados esperados en la nota*"
   ]
  }
 ],
 "metadata": {
  "kernelspec": {
   "display_name": "Python 3.9.13 64-bit (microsoft store)",
   "language": "python",
   "name": "python3"
  },
  "language_info": {
   "codemirror_mode": {
    "name": "ipython",
    "version": 3
   },
   "file_extension": ".py",
   "mimetype": "text/x-python",
   "name": "python",
   "nbconvert_exporter": "python",
   "pygments_lexer": "ipython3",
   "version": "3.9.13"
  },
  "orig_nbformat": 4,
  "vscode": {
   "interpreter": {
    "hash": "d6ff7cb00638fb92356a42c28981a177178b7e1976aa8ecd498ce1508ea8d5e4"
   }
  }
 },
 "nbformat": 4,
 "nbformat_minor": 2
}
