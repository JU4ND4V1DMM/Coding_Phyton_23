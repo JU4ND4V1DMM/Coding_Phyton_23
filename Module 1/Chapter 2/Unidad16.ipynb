{
  "cells": [
    {
      "cell_type": "markdown",
      "metadata": {},
      "source": [
        "# <FONT COLOR=\"blue\"> **Samsung Innovation Campus**</FONT>  \n",
        "\n",
        "## <FONT COLOR=\"blue\">**Codificación y Programación**</FONT>\n",
        "\n",
        "\n",
        "# **Capítulo 2. Programación básica de Python - Tipo de datos de secuencia en Python**\n",
        "\n",
        "## Objetivos del capítulo\n",
        "- Los alumnos podrán usar tipos de datos de secuencia, como la lista, el diccionario, la tupla y el conjunto de Python. Python se caracteriza al proporcionar estructuras de datos enriquecidas que incluyen tipos de datos de secuencia, y los alumnos utilizarán esas estructuras de datos para adquirir habilidades de codificación avanzadas. \n",
        "\n",
        "## Contenido del capítulo\n",
        "- Unidad 10. Tipos de datos: lista y tupla\n",
        "- Unidad 11. Tipos de datos: diccionario\n",
        "- Unidad 12. Tipos de datos: secuencia\n",
        "- Unidad 13. Listas 2D\n",
        "- Unidad 14. Diccionario: Método 1\n",
        "- Unidad 15. Diccionario: Método 2\n",
        "- Unidad 16. Tipo de datos: Set"
      ]
    },
    {
      "cell_type": "markdown",
      "metadata": {},
      "source": [
        "# **Unidad 16. Tipo de datos: Set**"
      ]
    },
    {
      "cell_type": "markdown",
      "metadata": {},
      "source": [
        "## Objetivos de aprendizaje\n",
        "\n",
        "- Ser capaz de crear tipos de datos de conjuntos que no permitan la duplicación de valores de datos.\n",
        "- Ser capaz de comprobar un valor específico en el conjunto a través del operador in.\n",
        "- Ser capaz de utilizar el conjunto para crear un conjunto vacío o cambiar el valor de otros datos a un tipo de datos de conjunto.\n",
        "- Ser capaz de averiguar la relación entre los elementos de los dos conjuntos tras ver las operaciones que se pueden aplicar al conjunto, como la unión y la intersección.\n",
        "- Ser capaz de comprobar si los dos conjuntos son iguales mediante operaciones de comparación. También es posible comprobar si se trata de un subconjunto verdadero o de un subconjunto.\n",
        "- Ser capaz de imprimir fácilmente conjuntos mediante sentencias de iteración y poner valores específicos mediante sentencias condicionales en expresiones de conjuntos.\n",
        "\n",
        "## Resumen de aprendizaje\n",
        "\n",
        "- Aprender a crear un conjunto de tipos de datos sin un orden que no permita la duplicación de valores de datos.\n",
        "Mediante el operador in, aprenderemos a comprobar si un valor concreto existe en el conjunto.\n",
        "- Aprender a eliminar convenientemente los datos duplicados utilizando el conjunto.\n",
        "- Aprender las operaciones convenientes que se pueden aplicar al conjunto, como la unión y la intersección.\n",
        "- Aprender a obtener subconjuntos y subconjuntos verdaderos mediante operadores comparativos.\n",
        "\n",
        "## Conceptos que deberá conocer de las unidades anteriores\n",
        "\n",
        "- Cómo imprimir todos los elementos utilizando la longitud de cada array mediante el uso adicional de len, range, in, etc. de los objetos de la secuencia.\n",
        "- Cómo utilizar los objetos de secuencia y los métodos del diccionario. (del, index, pop... Etc)\n",
        "- Conocer las diferencias de cada tipo de datos, como listas, tuplas, diccionarios y cadenas, y ser capaz de utilizar los tipos de datos adecuados a la situación.\n",
        "\n",
        "## Palabras clave\n",
        "\n",
        "<table>\n",
        "<tr>\n",
        "  <td><strong>set </strong></td>\n",
        "  <td><strong>Cálculo de conjuntos</strong></td>\n",
        "<tr>\n",
        "  <td><strong>Comparación de conjuntos</strong></td>\n",
        "  <td><strong>Declaración condicional</strong></td>\n",
        "<tr>\n",
        "</table>\n"
      ]
    },
    {
      "cell_type": "markdown",
      "metadata": {},
      "source": [
        "## <FONT COLOR=\"blue\">Misión </FONT>"
      ]
    },
    {
      "cell_type": "markdown",
      "metadata": {},
      "source": [
        "### <FONT COLOR=\"blue\">1. Problema del mundo real </FONT>"
      ]
    },
    {
      "cell_type": "markdown",
      "metadata": {},
      "source": [
        "#####  **1.1. Hallar la probabilidad de obtener más de un determinado número de valores al lanzar un dado**\n"
      ]
    },
    {
      "cell_type": "markdown",
      "metadata": {},
      "source": [
        "<div align=\"center\"><img src=\"https://github.com/Repositorio17092022/RepositorioiImagenes/blob/main/unidad16/imagen409.png?raw=true\" width= \"300px\"/></div>\n",
        "\n",
        "En esta misión, supondremos que varias personas están jugando al Monopoly.\n",
        "\n",
        "El juego de mesa se juega a través de los dados y se gana si se tiran dos dados y se mueve en el tablero tanto como la suma de los dos números que aparecieron en ese momento, se compran bienes inmuebles, se alquilan a otros jugadores y se hace que todos los demás jugadores se arruinen.\n",
        "\n",
        "Para ganar una partida, encontremos la probabilidad de obtener más de un determinado número de valores.\n",
        "\n",
        "Usando esa probabilidad, sería ventajoso en el juego encontrar y comprar los lugares que más se puedan llevar dependiendo de la ubicación de la otra persona.\n"
      ]
    },
    {
      "cell_type": "markdown",
      "metadata": {},
      "source": [
        "#####  **1.2. ¿Qué es el Monopolio?**"
      ]
    },
    {
      "cell_type": "markdown",
      "metadata": {},
      "source": [
        "<div align=\"center\"><img src=\"https://github.com/Repositorio17092022/RepositorioiImagenes/blob/main/unidad16/imagen410.png?raw=true\" width= \"300px\"/></div>\n",
        "\n",
        "El Monopoly es un juego de mesa que comenzó en Estados Unidos en 1903.\n",
        "\n",
        "En el juego, el jugador tira los dados, se mueve en el tablero, compra bienes inmuebles, recibe el alquiler de otro jugador que llega a la propiedad, acapara bienes inmuebles del mismo color, construye, desarrolla y controla edificios. También puede comerciar con otros jugadores para lograr el objetivo del monopolio.\n",
        "\n",
        "Si uno consigue que todos los demás jugadores quiebren mientras reciben la renta, se convierte en ganador. Actualmente es producido con derechos de autor por Hasbro, la mayor empresa de juguetes de Estados Unidos. Este juego sigue siendo muy popular en la actualidad.\n"
      ]
    },
    {
      "cell_type": "markdown",
      "metadata": {},
      "source": [
        "#####  **1.3. Más información sobre el Monopoly**"
      ]
    },
    {
      "cell_type": "markdown",
      "metadata": {},
      "source": [
        "Para saber más sobre el Monopoly, echa un vistazo a https://boardgamegeek.com/boardgame/1406/monopoly.\n",
        "\n",
        "<div align=\"center\"><img src=\"https://github.com/Repositorio17092022/RepositorioiImagenes/blob/main/unidad16/imagen411.png?raw=true\" width= \"450px\"/></div>"
      ]
    },
    {
      "cell_type": "markdown",
      "metadata": {},
      "source": [
        "#####  **1.4. Reglas del Monopolio**"
      ]
    },
    {
      "cell_type": "markdown",
      "metadata": {},
      "source": [
        "<div align=\"center\"><img src=\"https://github.com/Repositorio17092022/RepositorioiImagenes/blob/main/unidad16/imagen412.png?raw=true\" width= \"300px\"/></div>\n",
        "\n",
        "En un juego típico de Monopoly se utilizan dos dados, pero aquí supondremos que se utilizan tres.\n",
        "\n",
        "Supongamos que se dan tres dados con seis caras.\n",
        "\n",
        "Vamos a lanzar estos dados y a imprimir el número total de casos que pueden darse.\n",
        "\n",
        "A continuación, se calculará e imprimirá la probabilidad de que la suma de los ojos sea mayor o igual a un determinado valor x.\n",
        "\n",
        "Este problema es el caso en el que (1, 2, 1) y (1, 1, 2) y (2, 1, 1) se consideran iguales. Por lo tanto, es un problema que no se puede expresar con una estructura de datos de lista, tupla o diccionario.\n",
        "\n",
        "Es conveniente utilizar el tipo de datos conjunto para resolver esta misión.\n"
      ]
    },
    {
      "cell_type": "markdown",
      "metadata": {},
      "source": [
        "###  <FONT COLOR=\"blue\">2. Misión </FONT>"
      ]
    },
    {
      "cell_type": "markdown",
      "metadata": {},
      "source": [
        "#####  **2.1. Cómo funciona el Monopoly**"
      ]
    },
    {
      "cell_type": "code",
      "execution_count": 2,
      "metadata": {},
      "outputs": [
        {
          "name": "stdout",
          "output_type": "stream",
          "text": [
            "El evento que puede suceder lanzando los dados 3 veces son 216 casos.\n"
          ]
        }
      ],
      "source": [
        "lanzadas_3_veces = set()\n",
        "for i in range(1, 7):\n",
        "    for j in range(1, 7):\n",
        "        for k in range(1, 7):\n",
        "            lanzadas_3_veces.add((i, j, k))\n",
        "\n",
        "total_de_casos = len(lanzadas_3_veces)\n",
        "print('El evento que puede suceder lanzando los dados 3 veces son', total_de_casos, 'casos.')"
      ]
    },
    {
      "cell_type": "code",
      "execution_count": 3,
      "metadata": {},
      "outputs": [
        {
          "name": "stdout",
          "output_type": "stream",
          "text": [
            "probabilidad de obtener más de 3 es 100.00%\n",
            "\n",
            "probabilidad de obtener más de 4 es  99.54%\n",
            "\n",
            "probabilidad de obtener más de 5 es  98.15%\n",
            "\n",
            "probabilidad de obtener más de 6 es  95.37%\n",
            "\n",
            "probabilidad de obtener más de 7 es  90.74%\n",
            "\n",
            "probabilidad de obtener más de 8 es  83.80%\n",
            "\n",
            "probabilidad de obtener más de 9 es  74.07%\n",
            "\n",
            "probabilidad de obtener más de10 es  62.50%\n",
            "\n",
            "probabilidad de obtener más de11 es  50.00%\n",
            "\n",
            "probabilidad de obtener más de12 es  37.50%\n",
            "\n",
            "probabilidad de obtener más de13 es  25.93%\n",
            "\n",
            "probabilidad de obtener más de14 es  16.20%\n",
            "\n",
            "probabilidad de obtener más de15 es   9.26%\n",
            "\n",
            "probabilidad de obtener más de16 es   4.63%\n",
            "\n",
            "probabilidad de obtener más de17 es   1.85%\n",
            "\n",
            "probabilidad de obtener más de18 es   0.46%\n"
          ]
        }
      ],
      "source": [
        "for i in range(3, 19):  # Encuentra la probabilidad de obtener más de 3 a más de 18\n",
        "    total_de_casos = len(lanzadas_3_veces)\n",
        "    n_casos = 0\n",
        "    for c in lanzadas_3_veces:\n",
        "        if sum(c) >= i:\n",
        "            n_casos += 1\n",
        "    probabilidad = n_casos * 100 / total_de_casos\n",
        "    print('probabilidad de obtener más de{:2d} es {:6.2f}%'.format(i,probabilidad))"
      ]
    },
    {
      "cell_type": "markdown",
      "metadata": {},
      "source": [
        "#####  **2.2. Plan de programación**"
      ]
    },
    {
      "cell_type": "markdown",
      "metadata": {},
      "source": [
        "**Pseudocódigo**\n",
        "\n",
        "[1] Comienza\n",
        "\n",
        "[2] Declarar las variables que contienen todos los dados..\n",
        "\n",
        "[3] para I a de 1 a 7 hacer{\n",
        "\n",
        "[4] para J hasta de1  a 7 hacer{\n",
        "\n",
        "[5] para K hasta de 1 a 7 hacer{\n",
        "\n",
        "[6] En el caso de los dados, todo va en forma de tupla.\n",
        "\n",
        "[7] número en lanzada_3_veces guardado en total_de_casos.\n",
        "\n",
        "[8] Se imprime el número de casos.\n",
        "\n",
        "}\n",
        "\t\n",
        "[9] Fin\n",
        "\n",
        "**Diagrama de flujo**\n",
        "\n",
        "<div align=\"center\"><img src=\"https://github.com/Repositorio17092022/RepositorioiImagenes/blob/main/unidad16/imagen415.PNG?raw=true\" width= \"400px\"/></div>\n",
        "\n",
        "**Pseudocódigo**\n",
        "\n",
        "[1] Inicio\n",
        "\n",
        "[2] Todos los casos de los dados se almacenan en lanzada_3_veces y el número de casos se almacena en total_de_casos.\n",
        "\n",
        "[3] para I de 3 a 18 hacer{\n",
        "\n",
        "[4] Inicializar n_casos, que se acumulan y suman más de un cierto número de ojos, a cero.\n",
        "\n",
        "[5] para j a todo el número de casos hacer{\n",
        "\n",
        "[6]                         Si la suma de los dados es mayor o igual que I, \n",
        "\n",
        "entonces{\n",
        "\n",
        "[7]                        añadir el número de casos.  } }\n",
        "\n",
        "[8] (número de casos acumulados y sumados arriba) * 100/total_casos se dan para obtener la probabilidad.\n",
        "\n",
        "[9] imprimir la probabilidad.\t}\n",
        "\n",
        "[10] Fin\n",
        "\n",
        "**Diagrama de flujo**\n",
        "\n",
        "<div align=\"center\"><img src=\"https://github.com/Repositorio17092022/RepositorioiImagenes/blob/main/unidad16/imagen416.PNG?raw=true\" width= \"400px\"/></div>"
      ]
    },
    {
      "cell_type": "markdown",
      "metadata": {},
      "source": [
        "Código final del Monopoly #1"
      ]
    },
    {
      "cell_type": "code",
      "execution_count": null,
      "metadata": {},
      "outputs": [],
      "source": [
        "lanzadas_3_veces = set()\n",
        "for i in range(1, 7):\n",
        "    for j in range(1, 7):\n",
        "        for k in range(1, 7):\n",
        "            lanzadas_3_veces.add((i, j, k))\n",
        "\n",
        "total_de_casos = len(lanzadas_3_veces)\n",
        "print('El evento que puede suceder lanzando los dados 3 veces son', total_de_casos, 'casos.')"
      ]
    },
    {
      "cell_type": "markdown",
      "metadata": {},
      "source": [
        "Código final del Monopoly #2"
      ]
    },
    {
      "cell_type": "code",
      "execution_count": null,
      "metadata": {},
      "outputs": [],
      "source": [
        "for i in range(3, 19):  # Encuentra la probabilidad de obtener más de 3 a más de 18\n",
        "    total_de_casos = len(lanzadas_3_veces)\n",
        "    n_casos = 0\n",
        "    for c in lanzadas_3_veces:\n",
        "        if sum(c) >= i:\n",
        "            n_casos += 1\n",
        "    probabilidad = n_casos * 100 / total_de_casos\n",
        "    print('probabilidad de obtener más de{:2d} es {:6.2f}%'.format(i,probabilidad))"
      ]
    },
    {
      "cell_type": "markdown",
      "metadata": {},
      "source": [
        "## <FONT COLOR=\"blue\">Concepto Clave </FONT>"
      ]
    },
    {
      "cell_type": "markdown",
      "metadata": {},
      "source": [
        "### <FONT COLOR=\"blue\">1. Creación de un conjunto </FONT>"
      ]
    },
    {
      "cell_type": "markdown",
      "metadata": {},
      "source": [
        "#####  **1.1. La definición del conjunto y el método de declaración**"
      ]
    },
    {
      "cell_type": "markdown",
      "metadata": {},
      "source": [
        "El tipo de datos set es un tipo de datos básico proporcionado por Python pero no se proporciona como tipo básico en los lenguajes C o Java.\n",
        "\n",
        "- El conjunto al que se refieren las matemáticas es una colección de objetos que satisfacen un criterio claro o una propiedad determinada. \n",
        "- El conjunto de Python es un tipo de datos no ordenado y, de forma similar al diccionario, utiliza paréntesis {}.\n",
        "- No se permite la duplicación de elementos con el mismo valor.\n",
        "- Es posible realizar una operación de conjunto como una intersección, unión y una diferencia de conjunto.\n",
        "\n",
        "Diferentes formas de declarar el conjunto.\n",
        "\n",
        "<table>\n",
        "<tr>\n",
        "  <td><strong>Hacer un conjunto vacío</strong></td>\n",
        "  <td><strong>set0 = set() </strong></td>\n",
        "<tr>\n",
        "  <td><strong>Hacer un conjunto básico</strong></td>\n",
        "  <td><strong>set1 = {1, 2, 3, 4}</strong></td>\n",
        "<tr>\n",
        "<tr>\n",
        "  <td><strong>Hacer un conjunto a partir de una tupla</strong></td>\n",
        "  <td><strong>n_tupla = (1, 2, 3, 4)\n",
        "\n",
        "set2 = set(n_tupla)</strong></td>\n",
        "<tr>\n",
        "<tr>\n",
        "  <td><strong>Hacer un conjunto a partir de una lista</strong></td>\n",
        "  <td><strong>n_lista = [1, 2, 3, 4]\n",
        "\n",
        "set3 = set(n_lista)\n",
        "</strong></td>\n",
        "<tr>\n",
        "</table>"
      ]
    },
    {
      "cell_type": "markdown",
      "metadata": {},
      "source": [
        "##### **1.2. Cómo hacer conjuntos**"
      ]
    },
    {
      "cell_type": "markdown",
      "metadata": {},
      "source": [
        "Al crear un conjunto, también se puede utilizar la función set para una lista o tupla ya creada, como se muestra a continuación.\n",
        "\n",
        "Como un conjunto es una colección de elementos que no están en un orden, no se puede utilizar el índice. Por lo tanto, el corte es imposible."
      ]
    },
    {
      "cell_type": "code",
      "execution_count": 5,
      "metadata": {},
      "outputs": [
        {
          "data": {
            "text/plain": [
              "{'Domingo', 'Jueves', 'Lunes', 'Martes', 'Miercoles', 'Sabado', 'Viernes'}"
            ]
          },
          "execution_count": 5,
          "metadata": {},
          "output_type": "execute_result"
        }
      ],
      "source": [
        "lista_de_dias = ['Lunes', 'Martes', 'Miercoles', 'Jueves', 'Viernes', 'Sabado', 'Domingo'] #Lista\n",
        "conjunto_de_dias = set(lista_de_dias)  # Hacer conjuntos de la lista\n",
        "conjunto_de_dias"
      ]
    },
    {
      "cell_type": "code",
      "execution_count": 6,
      "metadata": {},
      "outputs": [
        {
          "data": {
            "text/plain": [
              "{'manzana', 'naranja', 'sandía'}"
            ]
          },
          "execution_count": 6,
          "metadata": {},
          "output_type": "execute_result"
        }
      ],
      "source": [
        "tupla_de_frutas = ('manzana', 'naranja', 'sandía') # Tupla\n",
        "conjunto_de_frutas = set(tupla_de_frutas)\n",
        "conjunto_de_frutas"
      ]
    },
    {
      "cell_type": "markdown",
      "metadata": {},
      "source": [
        "💡💡 **Un paso más**\n",
        "\n",
        "El conjunto de la cadena 'hola' se puede hacer usando la función set(). Pero los elementos finales del conjunto son {'h', 'o', 'l', y 'a'}. El resultado es el mismo que {'a', 'h', 'l' y 'o}}."
      ]
    },
    {
      "cell_type": "code",
      "execution_count": 9,
      "metadata": {},
      "outputs": [
        {
          "data": {
            "text/plain": [
              "{'a', 'h', 'l', 'o'}"
            ]
          },
          "execution_count": 9,
          "metadata": {},
          "output_type": "execute_result"
        }
      ],
      "source": [
        "hola_en_string = 'hola'  # String\n",
        "conjunto_hola = set(hola_en_string)  # Hacer conjuntos de cadena\n",
        "conjunto_hola"
      ]
    },
    {
      "cell_type": "markdown",
      "metadata": {},
      "source": [
        "### <FONT COLOR=\"blue\">2. Compruebe el valor específico en el conjunto </FONT>"
      ]
    },
    {
      "cell_type": "markdown",
      "metadata": {},
      "source": [
        "#####  **2.1. En el operador**"
      ]
    },
    {
      "cell_type": "markdown",
      "metadata": {},
      "source": [
        "Para comprobar qué elementos están en el conjunto, puede utilizar el operador in, al igual que con la lista."
      ]
    },
    {
      "cell_type": "code",
      "execution_count": 11,
      "metadata": {},
      "outputs": [
        {
          "name": "stdout",
          "output_type": "stream",
          "text": [
            "1 está en el conjunto.\n"
          ]
        }
      ],
      "source": [
        "numeros = {2, 1, 3}\n",
        "if 1 in numeros:  # Compruebe si 1 está en el conjunto de números\n",
        "    print('1 está en el conjunto.')"
      ]
    },
    {
      "cell_type": "markdown",
      "metadata": {},
      "source": [
        "💡💡 **Un paso más**\n",
        "\n",
        "El operador in no sólo se utiliza para los conjuntos.\n",
        "\n",
        "El operador in utilizado en esta sección no es un operador que sólo pueda utilizarse para conjuntos, sino que puede aplicarse a diversos datos con múltiples elementos. Como ejemplo representativo, es posible comprobar si hay elementos específicos en la lista como se muestra a continuación.\n"
      ]
    },
    {
      "cell_type": "code",
      "execution_count": 13,
      "metadata": {},
      "outputs": [
        {
          "data": {
            "text/plain": [
              "True"
            ]
          },
          "execution_count": 13,
          "metadata": {},
          "output_type": "execute_result"
        }
      ],
      "source": [
        "lista_a = ['hola', 'mundo', 'bienvenido', 'a', 'python']\n",
        "'python' in lista_a # Compruebe si la cadena 'Python' está en la lista_a"
      ]
    },
    {
      "cell_type": "markdown",
      "metadata": {},
      "source": [
        "#####  **2.2. Indexación en conjuntos**"
      ]
    },
    {
      "cell_type": "markdown",
      "metadata": {},
      "source": [
        "🎯 **Enfocate**\n",
        "\n",
        "Dado que no hay ningún índice en los elementos del conjunto, las operaciones de indexación o troceado no tienen sentido.\n",
        "\n",
        "Podemos añadir un elemento utilizando el método add."
      ]
    },
    {
      "cell_type": "code",
      "execution_count": 14,
      "metadata": {},
      "outputs": [
        {
          "data": {
            "text/plain": [
              "{1, 2, 3, 4}"
            ]
          },
          "execution_count": 14,
          "metadata": {},
          "output_type": "execute_result"
        }
      ],
      "source": [
        "numeros = {1, 2, 3}\n",
        "numeros.add(4)\n",
        "numeros"
      ]
    },
    {
      "cell_type": "markdown",
      "metadata": {},
      "source": [
        "También podemos utilizar el método remove para eliminar elementos del conjunto."
      ]
    },
    {
      "cell_type": "code",
      "execution_count": 15,
      "metadata": {},
      "outputs": [
        {
          "data": {
            "text/plain": [
              "{1, 2, 3}"
            ]
          },
          "execution_count": 15,
          "metadata": {},
          "output_type": "execute_result"
        }
      ],
      "source": [
        "numeros.remove(4)\n",
        "numeros"
      ]
    },
    {
      "cell_type": "markdown",
      "metadata": {},
      "source": [
        "#### <FONT COLOR=\"blue\">3. Utilizar Set </FONT>"
      ]
    },
    {
      "cell_type": "markdown",
      "metadata": {},
      "source": [
        "##### **3.1. Creación de conjuntos**"
      ]
    },
    {
      "cell_type": "markdown",
      "metadata": {},
      "source": [
        "También es posible crear un conjunto a partir de la lista como se indica a continuación.\n",
        "\n",
        "Sin embargo, en el tipo de datos conjunto, cuando los elementos se superponen, se eliminan automáticamente.\n"
      ]
    },
    {
      "cell_type": "code",
      "execution_count": 16,
      "metadata": {},
      "outputs": [
        {
          "data": {
            "text/plain": [
              "{1, 2, 3}"
            ]
          },
          "execution_count": 16,
          "metadata": {},
          "output_type": "execute_result"
        }
      ],
      "source": [
        "set([1, 2, 3, 1, 2]) # Crear un conjunto a partir de una lista"
      ]
    },
    {
      "cell_type": "markdown",
      "metadata": {},
      "source": [
        "Y es posible crear un conjunto a partir de una cadena.\n",
        "\n",
        "En este caso, cada carácter se convierte en un elemento.\n"
      ]
    },
    {
      "cell_type": "code",
      "execution_count": 17,
      "metadata": {},
      "outputs": [
        {
          "data": {
            "text/plain": [
              "{'a', 'b', 'c', 'd', 'e', 'f'}"
            ]
          },
          "execution_count": 17,
          "metadata": {},
          "output_type": "execute_result"
        }
      ],
      "source": [
        "set('abcdefa')  # Como la picadura también es de tipo secuencia es posible convertirla en conjuntos"
      ]
    },
    {
      "cell_type": "markdown",
      "metadata": {},
      "source": [
        "#####  **3.2 Cómo declarar un conjunto vacío**"
      ]
    },
    {
      "cell_type": "markdown",
      "metadata": {},
      "source": [
        "Para crear un conjunto vacío, utilice la función de conjunto como se muestra a continuación.\n"
      ]
    },
    {
      "cell_type": "code",
      "execution_count": 18,
      "metadata": {},
      "outputs": [
        {
          "data": {
            "text/plain": [
              "set()"
            ]
          },
          "execution_count": 18,
          "metadata": {},
          "output_type": "execute_result"
        }
      ],
      "source": [
        "numeros = set() # Crea un conjunto vacío\n",
        "numeros"
      ]
    },
    {
      "cell_type": "markdown",
      "metadata": {},
      "source": [
        "### <FONT COLOR=\"blue\">4. Cálculo de conjuntos </FONT>"
      ]
    },
    {
      "cell_type": "markdown",
      "metadata": {},
      "source": [
        "#####  **4.1. Operador y método de fijación**"
      ]
    },
    {
      "cell_type": "markdown",
      "metadata": {},
      "source": [
        "Utilice & para la intersección, | para la unión, - para una diferencia de conjunto, ^ para una diferencia simétrica de conjunto.\n",
        "\n",
        "Si hay conjuntos s1 y s2, para aplicar las operaciones de estos conjuntos, necesitamos expresar la relación de inclusión con los elementos de los conjuntos en un diagrama.\n",
        "\n",
        "<div align=\"center\"><img src=\"https://github.com/Repositorio17092022/RepositorioiImagenes/blob/main/unidad16/imagen428.PNG?raw=true\" width= \"400px\"/></div>"
      ]
    },
    {
      "cell_type": "markdown",
      "metadata": {},
      "source": [
        "##### **4.2 Cálculo de la Unión**"
      ]
    },
    {
      "cell_type": "markdown",
      "metadata": {},
      "source": [
        "Utilice el operador | o el método de unión para el cálculo de la unión.\n",
        "\n",
        "<table>\n",
        "<tr>\n",
        "  <td><strong>cálculo</strong></td>\n",
        "  <td><strong>Diagrama de resultados de cálculo</strong></td>\n",
        "<tr>\n",
        "  <td><strong>Union</strong></td>\n",
        "  <td><strong><div align=\"center\"><img src=\"https://github.com/Repositorio17092022/RepositorioiImagenes/blob/main/unidad16/imagen429.PNG?raw=true\" width= \"400px\"/></div></strong></td>\n",
        "<tr>\n",
        "<tr>\n",
        "  <td> </strong></td>\n",
        "  <td><strong>s1 | s2 = {1, 2, 3, 4, 5, 6, 7, 8, 9} ó s1.union(s2)</strong></td>\n",
        "<tr>\n",
        "</table>"
      ]
    },
    {
      "cell_type": "markdown",
      "metadata": {},
      "source": [
        "##### **4.3 Cálculo de la intersección**"
      ]
    },
    {
      "cell_type": "markdown",
      "metadata": {},
      "source": [
        "Utilice el operador & o el método de intersección para el cálculo de la intersección.\n",
        "\n",
        "<table>\n",
        "<tr>\n",
        "  <td><strong>cálculo</strong></td>\n",
        "  <td><strong>Diagrama de resultados de cálculo</strong></td>\n",
        "<tr>\n",
        "  <td><strong>Intersección</strong></td>\n",
        "  <td><strong><div align=\"center\"><img src=\"https://github.com/Repositorio17092022/RepositorioiImagenes/blob/main/unidad16/imagen430.PNG?raw=true\" width= \"400px\"/></div></strong></td>\n",
        "<tr>\n",
        "<tr>\n",
        "  <td> </strong></td>\n",
        "  <td><strong>s1 & s2 = {4, 5, 6} ó s1.intersection(s2)</strong></td>\n",
        "<tr>\n",
        "</table>\n"
      ]
    },
    {
      "cell_type": "markdown",
      "metadata": {},
      "source": [
        "##### **4.4. Cálculo de la diferencia de conjuntos**"
      ]
    },
    {
      "cell_type": "markdown",
      "metadata": {},
      "source": [
        "Utilizar el operador - o el método de la diferencia para la diferencia de conjuntos.\n",
        "\n",
        "<table>\n",
        "<tr>\n",
        "  <td><strong>cálculo</strong></td>\n",
        "  <td><strong>Diagrama de resultados de cálculo</strong></td>\n",
        "<tr>\n",
        "  <td><strong>Diferencia de conjuntos</strong></td>\n",
        "  <td><strong><div align=\"center\"><img src=\"https://github.com/Repositorio17092022/RepositorioiImagenes/blob/main/unidad16/imagen431.PNG?raw=true\" width= \"400px\"/></div></strong></td>\n",
        "<tr>\n",
        "<tr>\n",
        "  <td> </strong></td>\n",
        "  <td><strong>s1 - s2 = {1, 2, 3} ó s1.difference(s2)</strong></td>\n",
        "<tr>\n",
        "</table>\n"
      ]
    },
    {
      "cell_type": "markdown",
      "metadata": {},
      "source": [
        "##### **4.5. Cálculo de la diferencia simétrica de conjuntos**"
      ]
    },
    {
      "cell_type": "markdown",
      "metadata": {},
      "source": [
        "La diferencia simétrica de conjuntos es la resta de la intersección de la unión, (s1 ∪ s2) - (s1 ∩ s2). Utiliza el operador ^ o el método de diferencia_simétrica para calcularlo.\n",
        "\n",
        "<table>\n",
        "<tr>\n",
        "  <td><strong>cálculo</strong></td>\n",
        "  <td><strong>Diagrama de resultados de cálculo</strong></td>\n",
        "<tr>\n",
        "  <td><strong>Diferencia simétrica de conjuntos</strong></td>\n",
        "  <td><strong><div align=\"center\"><img src=\"https://github.com/Repositorio17092022/RepositorioiImagenes/blob/main/unidad16/imagen432.PNG?raw=true\" width= \"400px\"/></div></strong></td>\n",
        "<tr>\n",
        "<tr>\n",
        "  <td> </strong></td>\n",
        "  <td><strong>s1 ^ s2 = {1, 2, 3, 7, 8, 9} ó s1.symmetric_difference(s2)</strong></td>\n",
        "<tr>\n",
        "</table>\n"
      ]
    },
    {
      "cell_type": "code",
      "execution_count": 22,
      "metadata": {},
      "outputs": [],
      "source": [
        "s1 = {1, 2, 3, 4, 5, 6}"
      ]
    },
    {
      "cell_type": "code",
      "execution_count": 23,
      "metadata": {},
      "outputs": [],
      "source": [
        "s2 = {4, 5, 6, 7, 8, 9}"
      ]
    },
    {
      "cell_type": "code",
      "execution_count": 24,
      "metadata": {},
      "outputs": [
        {
          "data": {
            "text/plain": [
              "{1, 2, 3, 4, 5, 6, 7, 8, 9}"
            ]
          },
          "execution_count": 24,
          "metadata": {},
          "output_type": "execute_result"
        }
      ],
      "source": [
        "s1 | s2  # Encuentra unión"
      ]
    },
    {
      "cell_type": "code",
      "execution_count": 25,
      "metadata": {},
      "outputs": [
        {
          "data": {
            "text/plain": [
              "{4, 5, 6}"
            ]
          },
          "execution_count": 25,
          "metadata": {},
          "output_type": "execute_result"
        }
      ],
      "source": [
        "s1 & s2 # Encuentra la intersección"
      ]
    },
    {
      "cell_type": "code",
      "execution_count": 26,
      "metadata": {},
      "outputs": [
        {
          "data": {
            "text/plain": [
              "{1, 2, 3}"
            ]
          },
          "execution_count": 26,
          "metadata": {},
          "output_type": "execute_result"
        }
      ],
      "source": [
        "s1 - s2  # Encuentra la diferencia del conjunto"
      ]
    },
    {
      "cell_type": "code",
      "execution_count": 27,
      "metadata": {},
      "outputs": [
        {
          "data": {
            "text/plain": [
              "{1, 2, 3, 7, 8, 9}"
            ]
          },
          "execution_count": 27,
          "metadata": {},
          "output_type": "execute_result"
        }
      ],
      "source": [
        "s1 ^ s2  # Encuentra la diferencia simétrica del conjunto"
      ]
    },
    {
      "cell_type": "markdown",
      "metadata": {},
      "source": [
        "##### **4.6. Varios métodos de ajuste**"
      ]
    },
    {
      "cell_type": "markdown",
      "metadata": {},
      "source": [
        "🎯 **Enfocate**\n",
        "\n",
        "Los operadores de conjuntos |, &, -, ^ darán los mismos resultados que la unión, la intersección, la diferencia, la diferencia_simétrica como los siguientes."
      ]
    },
    {
      "cell_type": "code",
      "execution_count": 28,
      "metadata": {},
      "outputs": [],
      "source": [
        "s1 = {1, 2, 3, 4, 5, 6}"
      ]
    },
    {
      "cell_type": "code",
      "execution_count": 29,
      "metadata": {},
      "outputs": [],
      "source": [
        "s2 = {4, 5, 6, 7, 8, 9}"
      ]
    },
    {
      "cell_type": "code",
      "execution_count": 30,
      "metadata": {},
      "outputs": [
        {
          "data": {
            "text/plain": [
              "{1, 2, 3, 4, 5, 6, 7, 8, 9}"
            ]
          },
          "execution_count": 30,
          "metadata": {},
          "output_type": "execute_result"
        }
      ],
      "source": [
        "s1.union(s2)  # Encuentra unión"
      ]
    },
    {
      "cell_type": "code",
      "execution_count": 31,
      "metadata": {},
      "outputs": [
        {
          "data": {
            "text/plain": [
              "{4, 5, 6}"
            ]
          },
          "execution_count": 31,
          "metadata": {},
          "output_type": "execute_result"
        }
      ],
      "source": [
        "s1.intersection(s2)  # Encuentra la intersección"
      ]
    },
    {
      "cell_type": "code",
      "execution_count": 32,
      "metadata": {},
      "outputs": [
        {
          "data": {
            "text/plain": [
              "{1, 2, 3}"
            ]
          },
          "execution_count": 32,
          "metadata": {},
          "output_type": "execute_result"
        }
      ],
      "source": [
        "s1.difference(s2)  # Encuentra la diferencia del conjunto"
      ]
    },
    {
      "cell_type": "code",
      "execution_count": 33,
      "metadata": {},
      "outputs": [
        {
          "data": {
            "text/plain": [
              "{1, 2, 3, 7, 8, 9}"
            ]
          },
          "execution_count": 33,
          "metadata": {},
          "output_type": "execute_result"
        }
      ],
      "source": [
        "s1.symmetric_difference(s2)  # Encuentra la diferencia simétrica del conjunto"
      ]
    },
    {
      "cell_type": "markdown",
      "metadata": {},
      "source": [
        "##### **4.7 También son posibles los cálculos continuos**"
      ]
    },
    {
      "cell_type": "markdown",
      "metadata": {},
      "source": [
        "<div align=\"center\"><img src=\"https://github.com/Repositorio17092022/RepositorioiImagenes/blob/main/unidad16/imagen435.PNG?raw=true\" width= \"350px\"/>"
      ]
    },
    {
      "cell_type": "code",
      "execution_count": 34,
      "metadata": {},
      "outputs": [],
      "source": [
        "s1 = {1, 2, 3, 4, 5, 6}"
      ]
    },
    {
      "cell_type": "code",
      "execution_count": 35,
      "metadata": {},
      "outputs": [],
      "source": [
        "s2 = {4, 5, 6, 7, 8, 9}"
      ]
    },
    {
      "cell_type": "code",
      "execution_count": 36,
      "metadata": {},
      "outputs": [],
      "source": [
        "s3 = {5, 6, 9, 10, 11}"
      ]
    },
    {
      "cell_type": "code",
      "execution_count": 37,
      "metadata": {},
      "outputs": [
        {
          "data": {
            "text/plain": [
              "{5, 6}"
            ]
          },
          "execution_count": 37,
          "metadata": {},
          "output_type": "execute_result"
        }
      ],
      "source": [
        "s1 & s2 & s3  # Encuentra la unión de s1, s2, s3"
      ]
    },
    {
      "cell_type": "code",
      "execution_count": 38,
      "metadata": {},
      "outputs": [
        {
          "data": {
            "text/plain": [
              "{1, 2, 3}"
            ]
          },
          "execution_count": 38,
          "metadata": {},
          "output_type": "execute_result"
        }
      ],
      "source": [
        "s1 - s2 - s3 # resta los elementos de s2 y s3 de s1"
      ]
    },
    {
      "cell_type": "markdown",
      "metadata": {},
      "source": [
        "##### **4.8. Los métodos relacionados con el conjunto y lo que hacen**"
      ]
    },
    {
      "cell_type": "markdown",
      "metadata": {},
      "source": [
        "<table>\n",
        "<tr>\n",
        "  <td><div align=\"center\"><strong>Métodos</strong></div></td>\n",
        "  <td><div align=\"center\"><strong>Rol</strong></div></td>\n",
        "<tr>\n",
        "  <td>add(x)</td>\n",
        "  <td>Agregar el element x al conjunto.\n",
        "</td>\n",
        "<tr>\n",
        "  <td>discard(x)</td>\n",
        "  <td>Eliminar el elemento x del conjunto.\n",
        "</td>\n",
        "<tr>\n",
        "  <td>clear</td>\n",
        "  <td>Eliminar todos los elementos del conjunto.\n",
        "</td>\n",
        "<tr>\n",
        "  <td>union(s)</td>\n",
        "  <td>Encuentra la unión con el conjunto s. Igual que el operador |. \n",
        "</td>\n",
        "<tr>\n",
        "  <td>difference(s)</td>\n",
        "  <td>Encuentra la diferencia de conjunto con conjunto s. Igual que – operador.\n",
        "</td>\n",
        "<tr>\n",
        "  <td>intersection(s)</td>\n",
        "  <td>Encuentra la intersección del conjunto con el conjunto s. Igual que & operador.\n",
        "</td>\n",
        "<tr>\n",
        "  <td>symmetric_difference(s)</td>\n",
        "  <td>Encuentra la diferencia simétrica del conjunto con el conjunto s. Igual que ^ operador.\n",
        "</td>\n",
        "<tr>\n",
        "  <td>issubset(s)</td>\n",
        "  <td>Busca si el conjunto id s es un subconjunto. Devuelve Verdadero/Falso..\n",
        "</td>\n",
        "<tr>\n",
        "  <td>issuperset(s)</td>\n",
        "  <td>Busca si el conjunto de identificadores s es un superconjunto. Devuelve Verdadero/Falso.\n",
        "</td>\n",
        "<tr>\n",
        "  <td>isdisjoint(s)</td>\n",
        "  <td>Busca si que el conjunto s es un coprimo. Devuelve Verdadero/Falso</td>\n",
        "</tr>\n",
        "</table>"
      ]
    },
    {
      "cell_type": "markdown",
      "metadata": {},
      "source": [
        "##### **4.9. Cálculo de subconjuntos y superconjuntos**"
      ]
    },
    {
      "cell_type": "markdown",
      "metadata": {},
      "source": [
        "Subconjunto: Si todos los elementos de un conjunto A pertenecen a otro conjunto B, entonces A es un subconjunto de B. ej: A = {1, 2}, B = {1, 2, 3} A es un subconjunto de B.\n",
        "\n",
        "Aquí, B es un superconjunto de A porque B contiene todo lo que tiene A.\n"
      ]
    },
    {
      "cell_type": "code",
      "execution_count": 3,
      "metadata": {},
      "outputs": [],
      "source": [
        "s1 = {1, 2, 3, 4, 5}\n",
        "s2 = {1, 2, 3}          # es el subconjunto de s1\n",
        "s3 = {1, 2, 6}          # no el subconjunto de s1"
      ]
    },
    {
      "cell_type": "code",
      "execution_count": 4,
      "metadata": {},
      "outputs": [
        {
          "data": {
            "text/plain": [
              "True"
            ]
          },
          "execution_count": 4,
          "metadata": {},
          "output_type": "execute_result"
        }
      ],
      "source": [
        "s2.issubset(s1)         # método que pregunta si s2 es subconjunto de s1"
      ]
    },
    {
      "cell_type": "code",
      "execution_count": 5,
      "metadata": {},
      "outputs": [
        {
          "data": {
            "text/plain": [
              "False"
            ]
          },
          "execution_count": 5,
          "metadata": {},
          "output_type": "execute_result"
        }
      ],
      "source": [
        "s3.issubset(s1)         # método que pregunta si s3 es subconjunto de s1"
      ]
    },
    {
      "cell_type": "code",
      "execution_count": 7,
      "metadata": {},
      "outputs": [
        {
          "data": {
            "text/plain": [
              "True"
            ]
          },
          "execution_count": 7,
          "metadata": {},
          "output_type": "execute_result"
        }
      ],
      "source": [
        "s1.issuperset(s2)       # método que pregunta si s1 es superconjunto de s2"
      ]
    },
    {
      "cell_type": "code",
      "execution_count": 8,
      "metadata": {},
      "outputs": [
        {
          "data": {
            "text/plain": [
              "False"
            ]
          },
          "execution_count": 8,
          "metadata": {},
          "output_type": "execute_result"
        }
      ],
      "source": [
        "s1.issuperset(s3)       # método que pregunta si s1 es superconjunto de s3"
      ]
    },
    {
      "cell_type": "markdown",
      "metadata": {},
      "source": [
        "<div align=\"center\"><img src=\"https://github.com/Repositorio17092022/RepositorioiImagenes/blob/main/unidad16/imagen437.png?raw=true\"  width= \"250px\" /></div>"
      ]
    },
    {
      "cell_type": "markdown",
      "metadata": {},
      "source": [
        "##### **4.10. Ejemplo de cálculo del coprimo**\n"
      ]
    },
    {
      "cell_type": "markdown",
      "metadata": {},
      "source": [
        "Cálculo coprimo de dos conjuntos."
      ]
    },
    {
      "cell_type": "code",
      "execution_count": 12,
      "metadata": {},
      "outputs": [
        {
          "data": {
            "text/plain": [
              "True"
            ]
          },
          "execution_count": 12,
          "metadata": {},
          "output_type": "execute_result"
        }
      ],
      "source": [
        "s1 = {1, 2, 3}\n",
        "s2 = {10, 20, 30}\n",
        "s1.isdisjoint(s2)       #método que pregunta si s1 es coprimo de s2"
      ]
    },
    {
      "cell_type": "markdown",
      "metadata": {},
      "source": [
        "**Linea 3**\n",
        "\n",
        "- Devuelve True ya que los dos conjuntos son coprimos.\n"
      ]
    },
    {
      "cell_type": "markdown",
      "metadata": {},
      "source": [
        "**💡 Un paso más**\n",
        "\n",
        "Conjunto de productos o producto cartesiano.\n",
        "\n",
        "- Existen conceptos denominados conjunto de productos o producto cartesiano.\n",
        "\n",
        "- El conjunto producto se puede escribir en producto cartesiano 𝐴×𝐵\n",
        "Se convierte en un conjunto de tuplas (a,b) que se pueden hacer utilizando todos los elementos a del conjunto A y todos los elementos b del conjunto B, al igual que {(𝑎,𝑏)|𝑎∈ 𝐴, 𝑏∈𝐵} \n",
        "\n",
        "<div align=\"center\"><img src=\"https://github.com/Repositorio17092022/RepositorioiImagenes/blob/main/unidad16/imagen439.png?raw=true\"  width= \"650px\" /></div>\n",
        "\n",
        "Conjunto de conjuntos de productos A, B"
      ]
    },
    {
      "cell_type": "code",
      "execution_count": 14,
      "metadata": {},
      "outputs": [
        {
          "name": "stdout",
          "output_type": "stream",
          "text": [
            "A = {1, 3}\n",
            "\n",
            "B = {2, 4}\n",
            "\n",
            "AXB = {1, 2, 3, 4}\n"
          ]
        }
      ],
      "source": [
        "A = {1, 3}              #Elementos del conjunto A\n",
        "B = {2, 4}              #Elementos del conjunto B\n",
        "\n",
        "res = set()\n",
        "for i in A:\n",
        "    for j in B:\n",
        "        res = res|{i,j} # conjunto de productos con doble bucle for\n",
        "AXB = res               # conjunto de productos AxB de A y B(no A*B)\n",
        "print('A =', A)\n",
        "print('B =', B)\n",
        "print('AXB =', AXB)     # imprimir el conjunto de productos de A y B"
      ]
    },
    {
      "cell_type": "markdown",
      "metadata": {},
      "source": [
        "**Lineas 4-7**\n",
        "\n",
        "- El código anterior realiza una unión de elementos de (i, j) con res utilizando un doble bucle for.\n",
        "- Como el conjunto no permite la duplicación, los elementos duplicados se eliminan de la unión.\n",
        "- A continuación se completan las tuplas que contienen cada elemento como componente, y no se duplican.\n",
        "- En la variable AxB, x no es un operador de multiplicación *.\n"
      ]
    },
    {
      "cell_type": "markdown",
      "metadata": {},
      "source": [
        "### <FONT COLOR=\"blue\">5. Comparación de conjuntos </FONT>\n"
      ]
    },
    {
      "cell_type": "markdown",
      "metadata": {},
      "source": [
        "##### **5.1. Cálculo de la comparación de conjuntos**"
      ]
    },
    {
      "cell_type": "markdown",
      "metadata": {},
      "source": [
        "También puedes comprobar si los dos conjuntos son iguales.\n",
        "\n",
        "¡La forma más sencilla es utilizar los operadores == y =!"
      ]
    },
    {
      "cell_type": "code",
      "execution_count": 15,
      "metadata": {},
      "outputs": [
        {
          "data": {
            "text/plain": [
              "True"
            ]
          },
          "execution_count": 15,
          "metadata": {},
          "output_type": "execute_result"
        }
      ],
      "source": [
        "A = {1, 2, 3}\n",
        "B = {1, 2, 3}\n",
        "A == B"
      ]
    },
    {
      "cell_type": "markdown",
      "metadata": {},
      "source": [
        "Mediante el operador < y el operador <= se puede comprobar si el conjunto es un subconjunto verdadero o un subconjunto.\n",
        "\n",
        "Un subconjunto verdadero se refiere a un subconjunto de todo el subconjunto excluyendo el propio.\n",
        "\n",
        "Como se muestra en el código siguiente, B es un subconjunto de A, y B no es igual a A. En este momento, B se llama el verdadero subconjunto."
      ]
    },
    {
      "cell_type": "code",
      "execution_count": 17,
      "metadata": {},
      "outputs": [
        {
          "data": {
            "text/plain": [
              "True"
            ]
          },
          "execution_count": 17,
          "metadata": {},
          "output_type": "execute_result"
        }
      ],
      "source": [
        "A = {1, 2, 3, 4, 5}\n",
        "B = {1, 2, 3}\n",
        "B < A"
      ]
    },
    {
      "cell_type": "markdown",
      "metadata": {},
      "source": [
        "### <FONT COLOR=\"blue\">6. Declaración de iteración y conjuntos </FONT>\n",
        " "
      ]
    },
    {
      "cell_type": "markdown",
      "metadata": {},
      "source": [
        "##### **6.1. Enfoque mediante la declaración de iteración**\n"
      ]
    },
    {
      "cell_type": "markdown",
      "metadata": {},
      "source": [
        "Como el conjunto es un objeto repetible, se puede utilizar una sentencia de iteración.\n",
        "\n",
        "Se puede acceder a cada elemento del conjunto e imprimirlo utilizando la sentencia de iteración for de la siguiente manera"
      ]
    },
    {
      "cell_type": "code",
      "execution_count": 21,
      "metadata": {},
      "outputs": [
        {
          "name": "stdout",
          "output_type": "stream",
          "text": [
            "1 2 3 "
          ]
        }
      ],
      "source": [
        "numeros = {1, 2, 3}\n",
        "for x in numeros:\n",
        "    print(x, end=' ')"
      ]
    },
    {
      "cell_type": "markdown",
      "metadata": {},
      "source": [
        "##### **6.2. Orden de los conjuntos**\n"
      ]
    },
    {
      "cell_type": "markdown",
      "metadata": {},
      "source": [
        "**🎯 Enfocate**\n",
        "\n",
        "El conjunto puede ser diferente del orden de entrada porque no tiene orden.\n",
        "\n",
        "Si desea imprimir los elementos en orden, puede utilizar la función sorted como se muestra a continuación.\n"
      ]
    },
    {
      "cell_type": "code",
      "execution_count": 19,
      "metadata": {},
      "outputs": [
        {
          "name": "stdout",
          "output_type": "stream",
          "text": [
            "1 2 3 "
          ]
        }
      ],
      "source": [
        "for x in sorted(numeros):\n",
        "    print(x, end=' ')"
      ]
    },
    {
      "cell_type": "markdown",
      "metadata": {},
      "source": [
        "### <FONT COLOR=\"blue\">7. Uso de la sentencia condicional en la sentencia Set </FONT>\n"
      ]
    },
    {
      "cell_type": "markdown",
      "metadata": {},
      "source": [
        "##### **7.1. Utilizar la sentencia for en el Shorthand**"
      ]
    },
    {
      "cell_type": "markdown",
      "metadata": {},
      "source": [
        "Se puede crear un conjunto utilizando las sentencias del bucle for y la taquigrafía siguiente."
      ]
    },
    {
      "cell_type": "code",
      "execution_count": 22,
      "metadata": {},
      "outputs": [],
      "source": [
        "a = {i for i in 'manzana'}"
      ]
    },
    {
      "cell_type": "code",
      "execution_count": 23,
      "metadata": {},
      "outputs": [
        {
          "data": {
            "text/plain": [
              "{'a', 'm', 'n', 'z'}"
            ]
          },
          "execution_count": 23,
          "metadata": {},
          "output_type": "execute_result"
        }
      ],
      "source": [
        "a"
      ]
    },
    {
      "cell_type": "markdown",
      "metadata": {},
      "source": [
        "Compare los resultados con la siguiente lista abreviada.\n",
        "\n",
        "<div align=\"center\"><img src=\"https://github.com/Repositorio17092022/RepositorioiImagenes/blob/main/unidad16/imagen444.png?raw=true\"  width= \"650px\" /></div>"
      ]
    },
    {
      "cell_type": "markdown",
      "metadata": {},
      "source": [
        "##### **7.2. Ejemplo de taquigrafía del conjunto**\n"
      ]
    },
    {
      "cell_type": "markdown",
      "metadata": {},
      "source": [
        "Utilizando la taquigrafía, puede obtener el resultado deseado con una codificación concisa.\n",
        "\n",
        "Como se muestra en la siguiente declaración, la expresión condicional if en la taquigrafía se especifica después de la declaración del bucle for. \n",
        "\n",
        "{Ecuación para la variable en la expresión condicional set if}"
      ]
    },
    {
      "cell_type": "code",
      "execution_count": 27,
      "metadata": {},
      "outputs": [
        {
          "data": {
            "text/plain": [
              "{'e', 'i', 'n'}"
            ]
          },
          "execution_count": 27,
          "metadata": {},
          "output_type": "execute_result"
        }
      ],
      "source": [
        "a = {i for i in 'pineapple' if i not in 'apl'}\n",
        "a"
      ]
    },
    {
      "cell_type": "markdown",
      "metadata": {},
      "source": [
        "**Linea 1**\n",
        "\n",
        "- Usando for, cada valor del alfabeto 'piña' se asigna a i, que se filtra por la condición de la sentencia if.\n",
        "\n",
        "- En el código anterior, si i no corresponde a los alfabetos 'a', 'p', y 'l', entonces 'e', 'I', y 'n' se almacenan en a.\n",
        "\n",
        "- Este código es un método para extraer las cadenas que excluyen los alfabetos 'a', 'p' y 'l' de la cadena 'piña'.\n"
      ]
    },
    {
      "cell_type": "markdown",
      "metadata": {},
      "source": [
        "## <FONT COLOR=\"blue\">Codificación en papel </FONT>"
      ]
    },
    {
      "cell_type": "markdown",
      "metadata": {},
      "source": [
        "<h5>Intente comprender completamente el concepto básico antes de pasar al siguiente paso.\n",
        "La falta de comprensión de los conceptos básicos aumentará su carga en el aprendizaje de este curso, lo que puede hacer que no apruebe el curso.\n",
        "Puede ser difícil ahora, pero para completar con éxito este curso le sugerimos que entienda completamente el concepto y pase al siguiente paso.</h5>"
      ]
    },
    {
      "cell_type": "markdown",
      "metadata": {},
      "source": [
        "### <FONT COLOR=\"blue\"> **Q1.**</FONT>"
      ]
    },
    {
      "cell_type": "markdown",
      "metadata": {},
      "source": [
        "Utilice la función set para generar e imprimir el conjunto s1 de la siguiente lista lst\n",
        "\n",
        "<table>\n",
        "<tr>\n",
        "  <td><strong>Condiciones variables del programa</strong></td>\n",
        "  <td>lst = ['apple', 'mango', 'banana']    # A list of 3 fruit information<br>\n",
        "s1 = {'apple', 'mango', 'banana'}    # Set s1 generated from lst</td>\n",
        "<tr>\n",
        "  <td><strong>Tiempo</strong></td>\n",
        "  <td>7 Minutos</td>\n",
        "<tr>\n",
        "</table>\n",
        "\n",
        "**Ejemplo de salida:**\n",
        "\n",
        "s1 = {'banana', 'Manzana', 'Mango'}"
      ]
    },
    {
      "cell_type": "markdown",
      "metadata": {},
      "source": [
        "### <FONT COLOR=\"blue\">**Q2.** </FONT>"
      ]
    },
    {
      "cell_type": "markdown",
      "metadata": {},
      "source": [
        "Escriba los resultados computacionales de los dos conjuntos siguientes. Encuentra los resultados de 1) a 7).\n",
        "\n",
        "<table>\n",
        "<tr>\n",
        "  <td><strong>Condición para la operación</strong></td>\n",
        "  <td>  s1 = {10, 20, 30, 40}<br>\n",
        "        s2 = {30, 40, 50, 60, 70}<br>\n",
        "        1) s1 | s2<br>\n",
        "        2) s1 & s2<br>\n",
        "        3) s1 – s2<br>\n",
        "        4) s1 ^ s2<br>\n",
        "        5) s1.issubset(s2)<br>\n",
        "        6) s1.issuperset(s2)<br>\n",
        "        7) s1.isdisjoint(s2)</td>\n",
        "<tr>\n",
        "  <td><strong>Tiempo</strong></td>\n",
        "  <td>5 Minutos</td>\n",
        "<tr>\n",
        "</table>"
      ]
    },
    {
      "cell_type": "markdown",
      "metadata": {},
      "source": [
        "## <FONT COLOR=\"blue\">Vamos a codificar </FONT>\n"
      ]
    },
    {
      "cell_type": "markdown",
      "metadata": {},
      "source": [
        "### <FONT COLOR=\"blue\">1. Si el orden no es importante : Establecer </FONT>\n"
      ]
    },
    {
      "cell_type": "markdown",
      "metadata": {},
      "source": [
        "##### **1.1. Definición de conjunto**"
      ]
    },
    {
      "cell_type": "markdown",
      "metadata": {},
      "source": [
        "El conjunto utilizado en Python también es similar al conjunto de las matemáticas, y a diferencia de las tuplas, es un tipo de datos sin orden.\n",
        "\n",
        "En particular, no se permite la duplicación de elementos con el mismo valor, y se pueden realizar varias operaciones de conjunto como la intersección, la unión, la diferencia de conjunto y la diferencia simétrica de conjunto.\n"
      ]
    },
    {
      "cell_type": "code",
      "execution_count": 28,
      "metadata": {},
      "outputs": [
        {
          "data": {
            "text/plain": [
              "{1, 2, 3}"
            ]
          },
          "execution_count": 28,
          "metadata": {},
          "output_type": "execute_result"
        }
      ],
      "source": [
        "numeros = {1, 2, 3}\n",
        "numeros"
      ]
    },
    {
      "cell_type": "markdown",
      "metadata": {},
      "source": [
        "<div align=\"center\"><img src=\"https://github.com/Repositorio17092022/RepositorioiImagenes/blob/main/unidad16/imagen450.png?raw=true\"  width= \"550px\" /></div>"
      ]
    },
    {
      "cell_type": "markdown",
      "metadata": {},
      "source": [
        "##### **1.2. Diversas funciones que pueden aplicarse a un conjunto**\n"
      ]
    },
    {
      "cell_type": "markdown",
      "metadata": {},
      "source": [
        "Se pueden utilizar muchas funciones para procesar la información sobre los elementos de un conjunto.\n",
        "\n",
        "Funciones como len, max, min, stored, sum, etc. también pueden ser utilizadas para el conjunto.\n",
        "\n",
        "Hagamos un conjunto de seis elementos como se muestra a continuación. Aplique varias funciones.\n"
      ]
    },
    {
      "cell_type": "code",
      "execution_count": 30,
      "metadata": {},
      "outputs": [
        {
          "data": {
            "text/plain": [
              "5"
            ]
          },
          "execution_count": 30,
          "metadata": {},
          "output_type": "execute_result"
        }
      ],
      "source": [
        "a_conjunto = {1, 5, 4, 3, 7, 4}     # hacer un conjunto de seis artículos\n",
        "len(a_conjunto)                     # El número de elementos es de 5, excluyendo la duplicación"
      ]
    },
    {
      "cell_type": "code",
      "execution_count": 31,
      "metadata": {},
      "outputs": [
        {
          "data": {
            "text/plain": [
              "7"
            ]
          },
          "execution_count": 31,
          "metadata": {},
          "output_type": "execute_result"
        }
      ],
      "source": [
        "max(a_conjunto)"
      ]
    },
    {
      "cell_type": "code",
      "execution_count": 32,
      "metadata": {},
      "outputs": [
        {
          "data": {
            "text/plain": [
              "1"
            ]
          },
          "execution_count": 32,
          "metadata": {},
          "output_type": "execute_result"
        }
      ],
      "source": [
        "min(a_conjunto)"
      ]
    },
    {
      "cell_type": "code",
      "execution_count": 33,
      "metadata": {},
      "outputs": [
        {
          "data": {
            "text/plain": [
              "[1, 3, 4, 5, 7]"
            ]
          },
          "execution_count": 33,
          "metadata": {},
          "output_type": "execute_result"
        }
      ],
      "source": [
        "sorted(a_conjunto)"
      ]
    },
    {
      "cell_type": "code",
      "execution_count": 34,
      "metadata": {},
      "outputs": [
        {
          "data": {
            "text/plain": [
              "20"
            ]
          },
          "execution_count": 34,
          "metadata": {},
          "output_type": "execute_result"
        }
      ],
      "source": [
        "sum(a_conjunto)"
      ]
    },
    {
      "cell_type": "markdown",
      "metadata": {},
      "source": [
        "##### **1.3. Funciones lógicas de cálculo aplicables a un conjunto**"
      ]
    },
    {
      "cell_type": "markdown",
      "metadata": {},
      "source": [
        "Las operaciones lógicas que pueden aplicarse a datos con múltiples elementos incluyen las funciones all y any.\n",
        "\n",
        "Esta función devuelve de forma exhaustiva el resultado de la evaluación booleana para cada elemento de datos dado como factor.\n",
        "\n",
        "Hagamos un conjunto de seis elementos como se muestra a continuación. Aplique varias funciones.\n"
      ]
    },
    {
      "cell_type": "code",
      "execution_count": 35,
      "metadata": {},
      "outputs": [],
      "source": [
        "a_conjunto = {1, 0, 2, 3, 3}"
      ]
    },
    {
      "cell_type": "code",
      "execution_count": 37,
      "metadata": {},
      "outputs": [
        {
          "data": {
            "text/plain": [
              "(False, True)"
            ]
          },
          "execution_count": 37,
          "metadata": {},
          "output_type": "execute_result"
        }
      ],
      "source": [
        "all(a_conjunto), any(a_conjunto)        #¿Es a_set todo verdadero? ¿Hay - en a_set? comprobar"
      ]
    },
    {
      "cell_type": "markdown",
      "metadata": {},
      "source": [
        "all evalúa cada uno de los datos repetibles en su interior de tipo booleano y devuelve true si todo es verdadero\n",
        "\n",
        "- Si uno es falso, devuelve false\n",
        "\n",
        "any evalúa cada uno de los elementos de datos repetibles en forma de booleano y devuelve true independientemente del otro valor si alguno es true\n",
        "\n",
        "- Si todo es falso, devuelve false.\n"
      ]
    },
    {
      "cell_type": "markdown",
      "metadata": {},
      "source": [
        "##### **1.4. Alícuota y mayor factor común y pensamiento de programación**"
      ]
    },
    {
      "cell_type": "markdown",
      "metadata": {},
      "source": [
        "Pensemos en cómo obtener la alícuota de dos enteros.\n",
        "La alícuota de 10 puede ser 1, 2, 5 y 10, de los cuales 1 y 2 y 5 excluyendo su propio 10 se llaman alícuota verdadera. \n",
        "\n",
        "Haz una lista como la siguiente, y divide diez con dos, tres, cuatro, cinco... Divide todos los números hasta 9 y comprueba si los valores restantes son cero, y si es así, ponlos en la lista"
      ]
    },
    {
      "cell_type": "code",
      "execution_count": 40,
      "metadata": {},
      "outputs": [
        {
          "name": "stdout",
          "output_type": "stream",
          "text": [
            "Para 10 son alicuotas verdaderas:  [2, 5]\n"
          ]
        }
      ],
      "source": [
        "num = 10\n",
        "div = []\n",
        "\n",
        "for i in range(2, num):\n",
        "    if num % i == 0:\n",
        "        div.append(i)\n",
        "print('Para',num, 'son alicuotas verdaderas: ', div)"
      ]
    },
    {
      "cell_type": "markdown",
      "metadata": {},
      "source": [
        "**Lineas 4, 5, 6**\n",
        "\n",
        "- i se incrementa en 1 a partir de 2 y hace un bucle hasta 9. La razón de empezar por 2 es para obtener la alícuota verdadera.\n",
        "- Divide num por i y añádelo a la lista porque es un divisor verdadero si el resto es cero.\n",
        "- Puedes ver los números alícuotas 2 y 5 de 10."
      ]
    },
    {
      "cell_type": "markdown",
      "metadata": {},
      "source": [
        "Para utilizar este código para encontrar el máximo común divisor de 48 y 60, encontremos el verdadero divisor de 48 y 60, y luego encontremos el mayor de ellos.\n",
        "\n",
        "Para ello, vamos a declarar un conjunto vacío de tipos de datos de get_divisores1 y divisores2 y añadir un valor a este conjunto donde num % i se convierte en cero."
      ]
    },
    {
      "cell_type": "code",
      "execution_count": 45,
      "metadata": {},
      "outputs": [
        {
          "name": "stdout",
          "output_type": "stream",
          "text": [
            "Para 48 son alicuotas verdaderas {2, 3, 4, 6, 8, 12, 16, 24}\n",
            "\n",
            "Para 60 son alicuotas verdaderas {2, 3, 4, 5, 6, 10, 12, 15, 20, 30}\n"
          ]
        }
      ],
      "source": [
        "num1 = 48\n",
        "divisores1 = set()\n",
        "\n",
        "for i in range(2, num1):\n",
        "    if num1 %i ==0:\n",
        "        divisores1.add(i)\n",
        "print('Para', num1,'son alicuotas verdaderas', divisores1)\n",
        "\n",
        "num2 = 60\n",
        "divisores2 = set()\n",
        "\n",
        "for i in range(2, num2):\n",
        "    if num2 % i == 0:\n",
        "        divisores2.add(i)\n",
        "print('Para',num2,'son alicuotas verdaderas', divisores2)"
      ]
    },
    {
      "cell_type": "markdown",
      "metadata": {},
      "source": [
        "Ahora vamos a encontrar un divisor común entre estos divisores.\n",
        "\n",
        "Y usemos la función max para encontrar el mayor de estos valores. \n",
        "\n",
        "Por supuesto, existe el método de Euclides para obtener dos divisores máximos más rápido que este método, pero sería una forma programática de pensar para encontrar soluciones a través de un proceso paso a paso de resolución de problemas como este.\n"
      ]
    },
    {
      "cell_type": "code",
      "execution_count": 47,
      "metadata": {},
      "outputs": [
        {
          "name": "stdout",
          "output_type": "stream",
          "text": [
            "{2, 3, 4, 6, 12}\n",
            "\n",
            "48 60 son maximos divisores: 12\n"
          ]
        }
      ],
      "source": [
        "print(divisores1.intersection(divisores2))\n",
        "print(num1, num2, 'son maximos divisores:' ,max(divisores1.intersection(divisores2)))"
      ]
    },
    {
      "cell_type": "markdown",
      "metadata": {},
      "source": [
        "**Linea 2**\n",
        "\n",
        "- Encuentra la intersección de los elementos A y B y luego imprime el mayor valor utilizando la función max.\n",
        "\n",
        "- Se imprime el máximo común divisor 12 de 40 y 60.\n"
      ]
    },
    {
      "cell_type": "markdown",
      "metadata": {},
      "source": [
        "### <FONT COLOR=\"blue\">2. Agregación utilizando la función zip </FONT>\n"
      ]
    },
    {
      "cell_type": "markdown",
      "metadata": {},
      "source": [
        "##### **2.1. Las características de la función zip y los tipos de datos repetibles**\n"
      ]
    },
    {
      "cell_type": "markdown",
      "metadata": {},
      "source": [
        "Los tipos de datos como listas, diccionarios, conjuntos y tuplas se denominan tipos de datos repetibles.\n",
        "\n",
        "Cuando se introducen varios tipos de datos repetibles, la función que devuelve el iterador de tuplas combinándolas es la función zip.\n",
        "\n",
        "La función zip puede recibir varios tipos de datos repetibles como se muestra a continuación. Esto se llama agregación.\n",
        "\n",
        "*<div align=\"center\"><h4> zip(*iterables) </h4></div>*"
      ]
    },
    {
      "cell_type": "markdown",
      "metadata": {},
      "source": [
        "##### **2.2. Ejemplo de código con la función zip**"
      ]
    },
    {
      "cell_type": "code",
      "execution_count": 48,
      "metadata": {},
      "outputs": [
        {
          "data": {
            "text/plain": [
              "set()"
            ]
          },
          "execution_count": 48,
          "metadata": {},
          "output_type": "execute_result"
        }
      ],
      "source": [
        "iterador_vacio = zip()\n",
        "resultado = set(iterador_vacio)\n",
        "resultado"
      ]
    },
    {
      "cell_type": "markdown",
      "metadata": {},
      "source": [
        "Si el factor no se transfiere, la función zip devuelve un iterador de espacio.\n",
        "\n",
        "Cuando entra un factor de tipo de datos repetible, la función zip devuelve un repetidor para una tupla.\n",
        "A cada elemento de esta tupla se le transfiere un valor obtenido de los datos transferidos al factor.\n",
        "\n",
        "Cuando entran n factores de tipo de datos repetibles, el iterador de tuplas se convierte en un iterador de tuplas con tantas tuplas como el número de factores.\n",
        "\n",
        "Aquí, el elemento i-ésimo, la tupla, se compone de los elementos i-ésimo de cada factor de tipo de datos repetible que ha pasado al factor."
      ]
    },
    {
      "cell_type": "markdown",
      "metadata": {},
      "source": [
        "##### **2.3. Ejemplo de agregación mediante la función zip**"
      ]
    },
    {
      "cell_type": "code",
      "execution_count": 49,
      "metadata": {},
      "outputs": [
        {
          "name": "stdout",
          "output_type": "stream",
          "text": [
            "(10, 'diez')\n",
            "\n",
            "(20, 'veinte')\n",
            "\n",
            "(30, 'treinta')\n"
          ]
        }
      ],
      "source": [
        "a = [10, 20, 30]                    #lista a\n",
        "b = ('diez', 'veinte', 'treinta')   #tupla b\n",
        "for valor in zip(a, b):             #imprime la tupla creada al agregar la lista a y la tupla b\n",
        "    print(valor)"
      ]
    },
    {
      "cell_type": "markdown",
      "metadata": {},
      "source": [
        "<div align=\"center\"><img src=\"https://github.com/Repositorio17092022/RepositorioiImagenes/blob/main/unidad16/imagen458.png?raw=true\"  width= \"650px\" /></div>"
      ]
    },
    {
      "cell_type": "markdown",
      "metadata": {},
      "source": [
        "##### **2.4. Precauciones de uso de la función zip**\n"
      ]
    },
    {
      "cell_type": "markdown",
      "metadata": {},
      "source": [
        "**🎯 Enfoque**\n",
        "\n",
        "Cuando un factor de tipo de datos repetible se transfiere a la función zip, aparece como un objeto tupla ('a',), no 'a'.\n",
        "\n",
        "Si la lista con una cadena como elemento se introduce en la función zip como dato repetible.\n",
        "\n",
        "Nótese que el elemento resultante es una tupla, por lo que aparece como una tupla ('a',) con un elemento llamado 'a', y no sólo 'a' porque es una tupla\n"
      ]
    },
    {
      "cell_type": "code",
      "execution_count": 50,
      "metadata": {},
      "outputs": [
        {
          "data": {
            "text/plain": [
              "{('a',), ('b',), ('hello',), ('this',)}"
            ]
          },
          "execution_count": 50,
          "metadata": {},
          "output_type": "execute_result"
        }
      ],
      "source": [
        "lst = ['a', 'b', 'hello', 'this']\n",
        "iterador = zip(lst)\n",
        "resultado =set(iterador)\n",
        "resultado"
      ]
    },
    {
      "cell_type": "markdown",
      "metadata": {},
      "source": [
        "##### **2.5. Ejemplo de agregación de zip**\n"
      ]
    },
    {
      "cell_type": "markdown",
      "metadata": {},
      "source": [
        "Agregue en caso de entregar múltiples factores de tipo de datos repetibles. ¿Qué cosas se tiran aquí?"
      ]
    },
    {
      "cell_type": "code",
      "execution_count": 51,
      "metadata": {},
      "outputs": [
        {
          "data": {
            "text/plain": [
              "[('hola', 1, 400), ('mundo', 2, 500), ('python', 3, 600)]"
            ]
          },
          "execution_count": 51,
          "metadata": {},
          "output_type": "execute_result"
        }
      ],
      "source": [
        "str_lista = ['hola', 'mundo', 'python', 'rocas']\n",
        "int_tupla = (1, 2, 3)\n",
        "int_lista = [400, 500, 600, 700, 800]\n",
        "iterador = zip(str_lista, int_tupla, int_lista)\n",
        "list(iterador)"
      ]
    },
    {
      "cell_type": "markdown",
      "metadata": {},
      "source": [
        "<div align=\"center\"><img src=\"https://github.com/Repositorio17092022/RepositorioiImagenes/blob/main/unidad16/imagen460.png?raw=true\"  width= \"650px\" /></div>"
      ]
    },
    {
      "cell_type": "markdown",
      "metadata": {},
      "source": [
        "##### **2.6. Descompresión de zip y tuplas**\n"
      ]
    },
    {
      "cell_type": "markdown",
      "metadata": {},
      "source": [
        "El desempaquetado es la operación de devolver las tuplas ligadas a través de una función zip a sus datos originales repetibles.\n",
        "\n",
        "En lugar de escribir cualquier otra función, hay que introducir los datos ligados a la función zip como un factor y poner el operador * delante del factor.\n"
      ]
    },
    {
      "cell_type": "code",
      "execution_count": 54,
      "metadata": {},
      "outputs": [
        {
          "name": "stdout",
          "output_type": "stream",
          "text": [
            "('hola', 'mundo', 'python') (1, 2, 3) (400, 500, 600)\n"
          ]
        }
      ],
      "source": [
        "lista_zip = zip(str_lista, int_tupla, int_lista)\n",
        "a, b, c = zip(*lista_zip)\n",
        "print(a, b, c)"
      ]
    },
    {
      "cell_type": "markdown",
      "metadata": {},
      "source": [
        "<div align=\"center\"><img src=\"https://github.com/Repositorio17092022/RepositorioiImagenes/blob/main/unidad16/imagen461.png?raw=true\"  width= \"450px\" /></div>"
      ]
    },
    {
      "cell_type": "markdown",
      "metadata": {},
      "source": [
        "## <FONT COLOR=\"blue\">Programación por parejas </FONT>\n"
      ]
    },
    {
      "cell_type": "markdown",
      "metadata": {},
      "source": [
        "### <FONT COLOR=\"blue\">**Práctica de programación por parejas** </FONT>"
      ]
    },
    {
      "cell_type": "markdown",
      "metadata": {},
      "source": [
        "**Pautas, mecanismos y plan de contingencia** \n",
        "\n",
        "Preparar la programación por parejas implica establecer pautas y mecanismos para ayudar a los alumnos a emparejarse correctamente y mantenerlos emparejados. Por ejemplo, los alumnos\n",
        "deben turnarse para \"manejar el ratón\". Una preparación eficaz requiere planes de contingencia en caso de que uno de los compañeros se ausente o decida no participar por una\n",
        "razón u otra. En estos casos, es importante dejar claro que el alumno activo no será castigado porque el emparejamiento no haya funcionado bien.\n",
        "\n",
        "**Emparejar a compañeros con capacidades similares, no necesariamente iguales**\n",
        "\n",
        "La programación en parejas puede ser eficaz cuando se empareja a estudiantes con capacidades similares, aunque no necesariamente iguales. El emparejamiento de estudiantes con capacidades diferentes a menudo\n",
        "puede conducir a una participación desequilibrada. Los profesores deben hacer hincapié en que la programación en parejas no es una estrategia de \"divide y vencerás\", sino un verdadero esfuerzo de colaboración\n",
        "en todos los esfuerzos de todo el proyecto. Los profesores deben evitar emparejar a estudiantes muy débiles con estudiantes muy fuertes.\n",
        "\n",
        "**Motivar a los alumnos ofreciéndoles incentivos adicionales**\n",
        "\n",
        "Ofrecer incentivos adicionales puede ayudar a motivar a los estudiantes a emparejarse, especialmente con los estudiantes avanzados. A algunos profesores les ha resultado útil exigir a los alumnos que se emparejen\n",
        "para una o dos tareas.\n",
        "\n",
        "**Evitar las trampas de la colaboración**\n",
        "\n",
        "El reto para el profesor es encontrar formas de evaluar los resultados individuales, al tiempo que se aprovechan las ventajas de la colaboración. ¿Cómo saber si un alumno\n",
        "aprendió o hizo trampa? Los expertos recomiendan revisar el diseño y la evaluación del curso, así como discutir explícita y concretamente con los estudiantes sobre los comportamientos\n",
        "que se interpretarán como trampa. Los expertos animan a los profesores a hacer que las tareas sean significativas para los estudiantes y a explicarles el valor de lo que aprenderán\n",
        "al realizarlas.\n",
        "\n",
        "**Entorno de aprendizaje colaborativo**\n",
        "\n",
        "Un entorno de aprendizaje colaborativo se produce cada vez que un instructor requiere que los estudiantes trabajen juntos en actividades de aprendizaje. Los entornos de aprendizaje colaborativo\n",
        "pueden incluir actividades formales e informales y pueden o no incluir una evaluación directa. Por ejemplo, parejas de estudiantes trabajan en tareas de programación;\n",
        "pequeños grupos de estudiantes discuten las posibles respuestas a una pregunta del profesor durante la clase; y los estudiantes trabajan juntos fuera de clase para aprender nuevos conceptos.\n",
        "El aprendizaje colaborativo es distinto de los proyectos en los que los estudiantes \"dividen y conquistan\".\n",
        "Cuando los estudiantes se dividen el trabajo, cada uno es responsable de una parte de la resolución del problema y las oportunidades de trabajar con otros son muy limitadas. En los entornos de colaboración, los alumnos participan en\n",
        "conversación intelectual entre ellos."
      ]
    },
    {
      "cell_type": "markdown",
      "metadata": {},
      "source": [
        "### <FONT COLOR=\"blue\">**Q1.** </FONT>"
      ]
    },
    {
      "cell_type": "markdown",
      "metadata": {},
      "source": [
        "Hay una lista mylist con tupla(m, n) como elementos como se muestra a continuación. Si hay una tupla con valor (a,b) y los valores a, b introducidos por el usuario, imprime 'Hay un elemento (a, b) en xth'. Si no hay (a, b) pero sí (b, a), imprime 'No hay (a, b) pero sí (b, a) en yth'. Si no hay (a, b) ni (b, a), imprime 'no hay tal elemento'.\n",
        "\n",
        "*<div align=\"center\"> mylist = [(1, 2), (4, 5), (4, 2), (3, 1), (9, 4)] </div>*\n",
        "\n",
        "**Ejemplo de salida:**\n",
        "\n",
        "<table>\n",
        "<tr>\n",
        "  <td>Introduce dos enteros: 1 2 <br><br>Hay (1,2) en el primero.</td>\n",
        "<tr>\n",
        "  <td>Introduce dos enteros: 5 4 <br><br>No hay (5,4) pero hay (4,5) en el segundo.</td>\n",
        "<tr>\n",
        "  <td>Introduce dos enteros: 3 9 <br><br>No hay (3,9) ni (9,3)</td>\n",
        "<tr>\n",
        "</table>"
      ]
    }
  ],
  "metadata": {
    "kernelspec": {
      "display_name": "Python 3.9.13 64-bit (microsoft store)",
      "language": "python",
      "name": "python3"
    },
    "language_info": {
      "codemirror_mode": {
        "name": "python",
        "version": 3
      },
      "file_extension": ".py",
      "mimetype": "text/x-python",
      "name": "python",
      "nbconvert_exporter": "python",
      "pygments_lexer": "ipython3",
      "version": "3.9.13"
    },
    "vscode": {
      "interpreter": {
        "hash": "d6ff7cb00638fb92356a42c28981a177178b7e1976aa8ecd498ce1508ea8d5e4"
      }
    }
  },
  "nbformat": 4,
  "nbformat_minor": 4
}
