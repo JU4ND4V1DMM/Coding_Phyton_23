{
 "cells": [
  {
   "cell_type": "markdown",
   "metadata": {},
   "source": [
    "# <FONT COLOR=\"blue\"> **Samsung Innovation Campus**</FONT>  \n",
    "\n",
    "## <FONT COLOR=\"blue\">**Codificación y Programación**</FONT>\n",
    "\n",
    "\n",
    "# **Capítulo 2. Programación básica de Python - Tipo de datos de secuencia en Python**\n",
    "\n",
    "## Objetivos del capítulo\n",
    "- Los alumnos podrán usar tipos de datos de secuencia, como la lista, el diccionario, la tupla y el conjunto de Python. Python se caracteriza al proporcionar estructuras de datos enriquecidas que incluyen tipos de datos de secuencia, y los alumnos utilizarán esas estructuras de datos para adquirir habilidades de codificación avanzadas. \n",
    "\n",
    "## Contenido del capítulo\n",
    "- Unidad 10. Tipos de datos: lista y tupla\n",
    "- Unidad 11. Tipos de datos: diccionario\n",
    "- Unidad 12. Tipos de datos: secuencia\n",
    "- Unidad 13. Listas 2D\n",
    "- Unidad 14. Diccionario: Método 1\n",
    "- Unidad 15. Diccionario: Método 2\n",
    "- Unidad 16. Tipo de datos: Set"
   ]
  },
  {
   "cell_type": "markdown",
   "metadata": {},
   "source": [
    "# **Unidad 13. Listas 2D**"
   ]
  },
  {
   "cell_type": "markdown",
   "metadata": {},
   "source": [
    "## Objetivos de aprendizaje\n",
    "\n",
    "- Ser capaz de crear listas bidimensionales y acceder a los elementos de las listas utilizando el índice.\n",
    "- Ser capaz de asignar valores en los elementos de la lista e imprimirlos.\n",
    "- Comprender la matriz bidimensional mientras se crea, asigna y duplica la lista bidimensional utilizando la sentencia de bucle.\n",
    "- Comprender las características de la lista bidimensional de Python y ser capaz de crear listas dentadas.\n",
    "\n",
    "\n",
    "## Resumen de aprendizaje\n",
    "\n",
    "- Crear listas bidimensionales y acceder a cada elemento utilizando el índice.\n",
    "- Imprimir valores en la lista bidimensional utilizando la sentencia loop.\n",
    "- Crear listas dentadas utilizando la sentencia loop.\n",
    "- Utilizar expresiones de contracción para abordar eficientemente listas bidimensionales.\n",
    "\n",
    "## Conceptos que necesitará conocer de las unidades anteriores\n",
    "\n",
    "- Creación y conexión de objetos de secuencia \n",
    "- Acceso a un elemento concreto mediante la indexación de objetos de secuencia\n",
    "- Uso de la sentencia de doble bucle y de los métodos clave de los objetos de secuencia\n",
    "\n",
    "## Palabras clave\n",
    "\n",
    "<table>\n",
    "<tr>\n",
    "  <td><strong>Listas bidimensionales</strong></td>\n",
    "  <td><strong>Indexación bidimensional</strong></td>\n",
    "<tr>\n",
    "  <td><strong>Listas irregulares</strong></td>\n",
    "  <td><strong>Declaración de doble bucle</strong></td>\n",
    "<tr>\n",
    "</table>\n"
   ]
  },
  {
   "cell_type": "markdown",
   "metadata": {},
   "source": [
    "## <FONT COLOR=\"blue\"> Misión </FONT>"
   ]
  },
  {
   "cell_type": "markdown",
   "metadata": {},
   "source": [
    "### <FONT COLOR=\"blue\"> 1. Problema del mundo real </FONT>"
   ]
  },
  {
   "cell_type": "markdown",
   "metadata": {},
   "source": [
    "##### **1.1. Descenso de la industria teatral debido al desarrollo de las OTT** "
   ]
  },
  {
   "cell_type": "markdown",
   "metadata": {},
   "source": [
    "Hoy en día, debido al desarrollo de la tecnología de los servicios multimedia over-the-top (OTT), como Netflix y YouTube, la industria del teatro se enfrenta a una gran crisis.\n",
    "\n",
    "La industria teatral contribuye de forma significativa a la economía local, por lo que si se cierran los cines locales, la tasa de desempleo aumentaría. \n",
    "\n",
    "Actualmente, la industria teatral está superando la crisis mediante el desarrollo continuo de servicios diferenciados para los clientes y servicios adicionales.\n",
    "\n",
    "Como parte de los servicios, algunos operan pequeños teatros con servicios de primera calidad, como sillones reclinables de alta gama.\n",
    "\n",
    "\n",
    "<div align=\"center\"><img src=\" https://github.com/Repositorio17092022/RepositorioiImagenes/blob/main/unidad13/imagen214.PNG?raw=true\" width= \"300px\"/></div>\n"
   ]
  },
  {
   "cell_type": "markdown",
   "metadata": {},
   "source": [
    "##### **1.2. El sistema de reserva de plazas de cine**"
   ]
  },
  {
   "cell_type": "markdown",
   "metadata": {},
   "source": [
    "En esta misión, crearemos un sistema de reserva de asientos para el cine.\n",
    "\n",
    "Recientemente, el cine tiene un sistema de reserva bien establecido, por lo que puede comprobar qué asientos están disponibles en su teléfono inteligente o en el mostrador del lugar.\n",
    "\n",
    "Ahora crearás un sistema de notificación de asientos disponibles en un pequeño cine con 18 asientos en 3 filas y 6 columnas como se muestra en la figura.\n",
    "\n",
    "El sistema debe tener la función de crear asientos vacíos y asientos reservados de forma aleatoria y decir el número de asientos vacíos.\n",
    "\n",
    "<div align=\"center\"><img src=\"https://github.com/Repositorio17092022/RepositorioiImagenes/blob/main/unidad13/imagen215.PNG?raw=true \" width= \"300px\"/></div>"
   ]
  },
  {
   "cell_type": "markdown",
   "metadata": {},
   "source": [
    "##### **1.3. Ejemplo de sistema de reserva de asientos en cines**\n"
   ]
  },
  {
   "cell_type": "markdown",
   "metadata": {},
   "source": [
    "Para la simulación, hay que crear una lista bidimensional y marcarla como 0 si el asiento está vacío y 1 si no lo está.\n",
    "\n",
    "Los asientos de esta sala de cine consisten en una lista bidimensional. Se trata de una sala de cine pequeña y se supone que consta de un total de 18 asientos en 3 filas y 6 filas.\n",
    "Las butacas vacías y reservadas se determinan aleatoriamente mediante el módulo aleatorio. A los asientos se les da un valor de 1 o 0.\n",
    "\n",
    "Vamos a crear un programa que imprima la ubicación y el número de asientos vacíos.\n",
    "\n",
    "<div align=\"center\"><img src=\"https://github.com/Repositorio17092022/RepositorioiImagenes/blob/main/unidad13/imagen216.PNG?raw=true \" width= \"300px\"/></div>\n"
   ]
  },
  {
   "cell_type": "markdown",
   "metadata": {},
   "source": [
    "##### **1.4. Referencia adicional para la reserva de asientos en el cine**"
   ]
  },
  {
   "cell_type": "markdown",
   "metadata": {},
   "source": [
    "Si desea conocer un ejemplo de reserva de asientos de cine, visite *https://www.amctheatres.com/*\n",
    "\n",
    "AMC Theater es la mayor cadena de cines del mundo y cuenta con decenas de miles de cines en más de 15 países.\n",
    "\n",
    "<div align=\"center\"><img src=\"https://github.com/Repositorio17092022/RepositorioiImagenes/blob/main/unidad13/imagen217.PNG?raw=true \" width= \"300px\"/></div>"
   ]
  },
  {
   "cell_type": "markdown",
   "metadata": {},
   "source": [
    "### <FONT COLOR=\"blue\"> 2. Misión </FONT>\n"
   ]
  },
  {
   "cell_type": "markdown",
   "metadata": {},
   "source": [
    "##### **2.1. Cómo funciona un sistema de reserva de asientos en el cine**"
   ]
  },
  {
   "cell_type": "code",
   "execution_count": 27,
   "metadata": {},
   "outputs": [
    {
     "name": "stdout",
     "output_type": "stream",
     "text": [
      "1 1 0 0 1 0 \n",
      "1 1 0 0 1 1 \n",
      "1 1 0 1 1 1 \n",
      "El numero de asientos restantes en el teatro es:  6\n"
     ]
    }
   ],
   "source": [
    "import random\n",
    "\n",
    "asientos = []\n",
    "\n",
    "for i in range(3):              # Introduce aleatoriamente los asientos ocupados/desocupados\n",
    "    linea = []\n",
    "    for j in range(6):\n",
    "        rand = random.randrange(0, 2)   # Usa números aleatorios de 0 y 1\n",
    "        linea.append(rand)\n",
    "    asientos.append(linea)\n",
    "\n",
    "disponible = 0\n",
    "\n",
    "for i in range(3):              # Imprime los escaños y calcula el número de escaños restantes \n",
    "    for j in range(6):\n",
    "        print(asientos[i][j], '', end='')\n",
    "        if asientos[i][j] == 0:\n",
    "            disponible += 1\n",
    "    print()\n",
    "print('El numero de asientos restantes en el teatro es: ',disponible)"
   ]
  },
  {
   "cell_type": "markdown",
   "metadata": {},
   "source": [
    "Como este código es algo largo, se divide en dos diagramas de flujo, como se indica a continuación.\n",
    "\n",
    "- Diagrama de flujo 1: Algoritmo que genera aleatoriamente asientos vacíos en una sala de cine\n",
    "- Diagrama de flujo 2: Algoritmo para encontrar el número de asientos vacíos de todos los asientos\n"
   ]
  },
  {
   "cell_type": "markdown",
   "metadata": {},
   "source": [
    "##### **2.2. Plan de programación**"
   ]
  },
  {
   "cell_type": "markdown",
   "metadata": {},
   "source": [
    "**<h3>Pseudocódigo 1: Generación de asientos aleatorios</h3>**\n",
    "\n",
    "**[1] Inicio**\n",
    "\n",
    "[2] Restablecer la lista de asientos.\n",
    "\n",
    "[3] para i = 0 durante tres veces hacer{\n",
    "\n",
    "\t[4] Reiniciar la lista de líneas.\n",
    "\n",
    "\t[5] para j = 0 durante seis veces hacer{\n",
    "\n",
    "\t    [6] Generar números aleatorios entre 0 y 1. \n",
    "\t\t\n",
    "\t\tAñadir esos números aleatorios a la lista de líneas.\n",
    "\t\n",
    "    [7] Añadir la línea a la lista de asientos. }\n",
    "}\n",
    "\n",
    "**[8] Fin** \n",
    "\n",
    "**<h3>Diagrama de flujo 1: Generación de asientos aleatorios</h3>**\n",
    "\n",
    "<div align=\"center\"><img src=\"https://github.com/Repositorio17092022/RepositorioiImagenes/blob/main/unidad13/imagen220.PNG?raw=true \" width= \"400px\"/></div>\n",
    "\n",
    "\n",
    "**<h3>Pseudocódigo 2: Impresión de la información del asiento</h3>**\n",
    "\n",
    "**[1] Inicio** \n",
    "\n",
    "[2] Poner a cero el número de asientos vacíos.\n",
    "\n",
    "[3] para i = 0 a para tres veces do{\n",
    "\n",
    "\t  [4] para j = 0 hasta para seis veces hacer{\n",
    "\n",
    "\t            [5] Imprimir asiento[i, j].\n",
    "\n",
    "\t            [6] si asiento[i, j] == 0 {\n",
    "\n",
    "\t                   [7] Aumentar el número de asientos vacíos en 1.\n",
    "\n",
    "                   }\n",
    "\n",
    " }\n",
    "\n",
    "[8] Imprime el número de asientos vacíos.\n",
    "\n",
    "**[9] Fin**\n",
    "\n",
    "**<h3>Diagrama de flujo 2 : Impresión de la información del asiento</h3>**\n",
    "\n",
    "<div align=\"center\"><img src=\"https://github.com/Repositorio17092022/RepositorioiImagenes/blob/main/unidad13/imagen221.PNG?raw=true \" width= \"400px\"/></div>\n"
   ]
  },
  {
   "cell_type": "markdown",
   "metadata": {},
   "source": [
    "##### **2.3. Código final del sistema de reserva de asientos del cine en movimiento**"
   ]
  },
  {
   "cell_type": "code",
   "execution_count": null,
   "metadata": {},
   "outputs": [
    {
     "name": "stdout",
     "output_type": "stream",
     "text": [
      "1 1 0 0 1 0 \n",
      "1 1 0 0 1 1 \n",
      "1 1 0 1 1 1 \n",
      "El numero de asientos restantes en el teatro es:  6\n"
     ]
    }
   ],
   "source": [
    "import random\n",
    "\n",
    "asientos = []\n",
    "\n",
    "for i in range(3):              # Introduce aleatoriamente los asientos ocupados/desocupados\n",
    "    linea = []\n",
    "    for j in range(6):\n",
    "        rand = random.randrange(0, 2)   # Usa números aleatorios de 0 y 1\n",
    "        linea.append(rand)\n",
    "    asientos.append(linea)\n",
    "\n",
    "disponible = 0\n",
    "\n",
    "for i in range(3):              # Imprime los escaños y calcula el número de escaños restantes \n",
    "    for j in range(6):\n",
    "        print(asientos[i][j], '', end='')\n",
    "        if asientos[i][j] == 0:\n",
    "            disponible += 1\n",
    "    print()\n",
    "print('El numero de asientos restantes en el teatro es: ',disponible)"
   ]
  },
  {
   "cell_type": "markdown",
   "metadata": {},
   "source": [
    "## <FONT COLOR=\"blue\"> Concepto Clave </FONT>"
   ]
  },
  {
   "cell_type": "markdown",
   "metadata": {},
   "source": [
    "### <FONT COLOR=\"blue\"> 1. Creación de una lista bidimensional </FONT>\n"
   ]
  },
  {
   "cell_type": "markdown",
   "metadata": {},
   "source": [
    "##### **1.1. Ejemplo de una lista bidimensional con 3 filas y 3 columnas**"
   ]
  },
  {
   "cell_type": "markdown",
   "metadata": {},
   "source": [
    "Una lista bidimensional es una estructura de datos en la que se agrupan listas unidimensionales, y es muy utilizada. \n",
    "\n",
    "Para crear una lista bidimensional, hay que crear una lista en la lista.\n",
    "\n",
    "La figura siguiente es una lista bidimensional con 3 filas y 3 columnas.\n",
    "\n",
    "<div align=\"center\"><img src=\"https://github.com/Repositorio17092022/RepositorioiImagenes/blob/main/unidad13/imagen224.PNG?raw=true \" width= \"250px\"/></div>\n",
    "\n",
    "Crear una lista bidimensional que contenga listas como elementos de la lista."
   ]
  },
  {
   "cell_type": "code",
   "execution_count": 28,
   "metadata": {},
   "outputs": [],
   "source": [
    "lista_arreglo = [[1, 2,3], [4, 5, 6], [7, 8, 9]]"
   ]
  },
  {
   "cell_type": "markdown",
   "metadata": {},
   "source": [
    "Se trata de una lista 2D de tamaño 3 x 3 que es un conjunto de tres listas con tres números"
   ]
  },
  {
   "cell_type": "code",
   "execution_count": 29,
   "metadata": {},
   "outputs": [],
   "source": [
    "lista_arreglo = [[1, 2,3], \n",
    "                [4, 5, 6], \n",
    "                [7, 8, 9]]"
   ]
  },
  {
   "cell_type": "markdown",
   "metadata": {},
   "source": [
    "Para facilitar el reconocimiento de una lista bidimensional, puede introducir tres líneas horizontales y tres verticales.\n",
    "\n",
    "Estos dos métodos son iguales, pero el segundo puede ser más fácil de entender\n",
    "\n",
    "<div align=\"center\"><img src=\"https://github.com/Repositorio17092022/RepositorioiImagenes/blob/main/unidad13/imagen224.PNG?raw=true \" width= \"250px\"/></div>"
   ]
  },
  {
   "cell_type": "markdown",
   "metadata": {},
   "source": [
    "Cree una lista bidimensional que contenga elementos dentro de la lista como se muestra en la figura. lista_arreglo[0] se refiere al primer elemento, [1, 2, 3].\n",
    "\n",
    "\n",
    "<div align=\"center\"><img src=\"https://github.com/Repositorio17092022/RepositorioiImagenes/blob/main/unidad13/imagen226.PNG?raw=true \" width= \"250px\"/></div>"
   ]
  },
  {
   "cell_type": "code",
   "execution_count": 30,
   "metadata": {},
   "outputs": [
    {
     "data": {
      "text/plain": [
       "[1, 2, 3]"
      ]
     },
     "execution_count": 30,
     "metadata": {},
     "output_type": "execute_result"
    }
   ],
   "source": [
    "lista_arreglo = [[1, 2,3], [4, 5, 6], [7, 8, 9]]\n",
    "lista_arreglo[0]"
   ]
  },
  {
   "cell_type": "markdown",
   "metadata": {},
   "source": [
    "### <FONT COLOR=\"blue\"> 2. Acceso a los elementos de la lista bidimensional </FONT>\n"
   ]
  },
  {
   "cell_type": "markdown",
   "metadata": {},
   "source": [
    "##### **2.1. Indización de los elementos de la lista de acceso**"
   ]
  },
  {
   "cell_type": "markdown",
   "metadata": {},
   "source": [
    "Acceder a los elementos de una lista bidimensional mediante índices"
   ]
  },
  {
   "cell_type": "code",
   "execution_count": 31,
   "metadata": {},
   "outputs": [
    {
     "data": {
      "text/plain": [
       "[1, 2, 3]"
      ]
     },
     "execution_count": 31,
     "metadata": {},
     "output_type": "execute_result"
    }
   ],
   "source": [
    "lista_arreglo = [[1, 2,3], [4, 5, 6], [7, 8, 9]]\n",
    "lista_arreglo[0]"
   ]
  },
  {
   "cell_type": "code",
   "execution_count": 33,
   "metadata": {},
   "outputs": [
    {
     "data": {
      "text/plain": [
       "3"
      ]
     },
     "execution_count": 33,
     "metadata": {},
     "output_type": "execute_result"
    }
   ],
   "source": [
    "lista_arreglo[0][2]"
   ]
  },
  {
   "cell_type": "markdown",
   "metadata": {},
   "source": [
    "Para acceder a los elementos de una lista bidimensional o asignar valores a los elementos, utilice [ ] (corchetes) dos veces después de la lista y especifique un índice de fila y un índice de columna dentro de [ ].\n",
    "\n",
    "<div align=\"center\"><img src=\"https://github.com/Repositorio17092022/RepositorioiImagenes/blob/main/unidad13/imagen227.PNG?raw=true \" width= \"750px\"/></div>"
   ]
  },
  {
   "cell_type": "markdown",
   "metadata": {},
   "source": [
    "##### **2.2. Uso de índices para acceder a la lista 2D, y leer y asignar valores**"
   ]
  },
  {
   "cell_type": "code",
   "execution_count": 34,
   "metadata": {},
   "outputs": [],
   "source": [
    "lista_arreglo = [[1, 2,3], [4, 5, 6], [7, 8, 9]]"
   ]
  },
  {
   "cell_type": "markdown",
   "metadata": {},
   "source": [
    "Los índices de una lista 2D de tamaño 3x3 comienzan en 0. Así, el primer elemento horizontal y el primer elemento vertical de la lista se convierten en list_array[0][0]. El último elemento se convierte en [2][2]\n"
   ]
  },
  {
   "cell_type": "code",
   "execution_count": 36,
   "metadata": {},
   "outputs": [
    {
     "data": {
      "text/plain": [
       "1"
      ]
     },
     "execution_count": 36,
     "metadata": {},
     "output_type": "execute_result"
    }
   ],
   "source": [
    "lista_arreglo[0][0]"
   ]
  },
  {
   "cell_type": "code",
   "execution_count": null,
   "metadata": {},
   "outputs": [
    {
     "data": {
      "text/plain": [
       "1"
      ]
     },
     "metadata": {},
     "output_type": "display_data"
    }
   ],
   "source": [
    "lista_arreglo[2][2]"
   ]
  },
  {
   "cell_type": "markdown",
   "metadata": {},
   "source": [
    "Asignar 300 al índice vertical (fila) 1 y al índice horizontal (columna) 1"
   ]
  },
  {
   "cell_type": "code",
   "execution_count": 37,
   "metadata": {},
   "outputs": [],
   "source": [
    "lista_arreglo[1][1] = 300"
   ]
  },
  {
   "cell_type": "code",
   "execution_count": 38,
   "metadata": {},
   "outputs": [
    {
     "name": "stdout",
     "output_type": "stream",
     "text": [
      "300\n"
     ]
    }
   ],
   "source": [
    "print(lista_arreglo[1][1])"
   ]
  },
  {
   "cell_type": "markdown",
   "metadata": {},
   "source": [
    "<div align=\"center\"><img src=\"https://github.com/Repositorio17092022/RepositorioiImagenes/blob/main/unidad13/imagen228.PNG?raw=true \" width= \"250px\"/></div>"
   ]
  },
  {
   "cell_type": "markdown",
   "metadata": {},
   "source": [
    "### <FONT COLOR=\"blue\"> 3. Impresión de elementos de lista bidimensionales </FONT>"
   ]
  },
  {
   "cell_type": "markdown",
   "metadata": {},
   "source": [
    "##### **3.1. Impresión de una lista bidimensional**"
   ]
  },
  {
   "cell_type": "markdown",
   "metadata": {},
   "source": [
    "Imprime una lista bidimensional que es algo complicada. \n",
    "- Si se utiliza la sentencia for con una lista bidimensional, ésta traerá los elementos secuencialmente desde el primero.\n",
    "- Por esta razón, es difícil acceder a elementos individuales como 1, 2 y 3 de la siguiente manera.\n",
    "\n"
   ]
  },
  {
   "cell_type": "code",
   "execution_count": 2,
   "metadata": {},
   "outputs": [
    {
     "name": "stdout",
     "output_type": "stream",
     "text": [
      "Item = [1, 2, 3]\n",
      "Item = [4, 5, 6]\n",
      "Item = [7, 8, 9]\n"
     ]
    }
   ],
   "source": [
    "lista_arreglo = [[1, 2,3], [4, 5, 6], [7, 8, 9]]\n",
    "for item in lista_arreglo:\n",
    "    print('Item =',item)"
   ]
  },
  {
   "cell_type": "markdown",
   "metadata": {},
   "source": [
    "##### **3.2. Impresión de una lista bidimensional utilizando el bucle for**"
   ]
  },
  {
   "cell_type": "markdown",
   "metadata": {},
   "source": [
    "Utilizando for con una lista bidimensional, devuelve las listas de elementos del primero al último.\n",
    "Si se especifican tres variables antes de 'in', como por ejemplo for i, j, k in lista_arreglo:, se llaman los elementos 1, 2 y 3 de la primera lista.\n",
    "\n",
    "Es decir, como la lista [1, 2, 3] aparece al ejecutar el bucle for, se asignan 1, 2 y 3 a i, j y j, respectivamente.\n",
    "\n",
    "Repite el proceso anterior para traer todos los elementos.\n"
   ]
  },
  {
   "cell_type": "code",
   "execution_count": 3,
   "metadata": {},
   "outputs": [
    {
     "name": "stdout",
     "output_type": "stream",
     "text": [
      "1 2 3\n",
      "4 5 6\n",
      "7 8 9\n"
     ]
    }
   ],
   "source": [
    "lista_arreglo = [[1, 2,3], [4, 5, 6], [7, 8, 9]]\n",
    "for i, j, k in lista_arreglo:\n",
    "    print(i, j, k)"
   ]
  },
  {
   "cell_type": "markdown",
   "metadata": {},
   "source": [
    "<div align=\"center\"><img src=\"https://github.com/Repositorio17092022/RepositorioiImagenes/blob/main/unidad13/imagen230.PNG?raw=true \" width= \"750px\"/></div>"
   ]
  },
  {
   "cell_type": "markdown",
   "metadata": {},
   "source": [
    "##### **3.3. Lista bidimensional y ValueError**"
   ]
  },
  {
   "cell_type": "markdown",
   "metadata": {},
   "source": [
    "El método de la página anterior sólo funciona correctamente cuando hay exactamente tres elementos en la lista.\n",
    "\n",
    "En consecuencia, se produce un error cuando no hay tres elementos en la lista, como se indica a continuación.\n",
    "\n",
    "**❗ ValueError**"
   ]
  },
  {
   "cell_type": "code",
   "execution_count": 4,
   "metadata": {},
   "outputs": [
    {
     "name": "stdout",
     "output_type": "stream",
     "text": [
      "1 2 3\n"
     ]
    },
    {
     "ename": "ValueError",
     "evalue": "not enough values to unpack (expected 3, got 2)",
     "output_type": "error",
     "traceback": [
      "\u001b[1;31m---------------------------------------------------------------------------\u001b[0m",
      "\u001b[1;31mValueError\u001b[0m                                Traceback (most recent call last)",
      "Cell \u001b[1;32mIn [4], line 2\u001b[0m\n\u001b[0;32m      1\u001b[0m lista_arreglo \u001b[38;5;241m=\u001b[39m [[\u001b[38;5;241m1\u001b[39m, \u001b[38;5;241m2\u001b[39m,\u001b[38;5;241m3\u001b[39m], [\u001b[38;5;241m4\u001b[39m, \u001b[38;5;241m5\u001b[39m], [\u001b[38;5;241m7\u001b[39m]]\n\u001b[1;32m----> 2\u001b[0m \u001b[38;5;28;01mfor\u001b[39;00m i, j, k \u001b[38;5;129;01min\u001b[39;00m lista_arreglo:\n\u001b[0;32m      3\u001b[0m     \u001b[38;5;28mprint\u001b[39m(i, j, k)\n",
      "\u001b[1;31mValueError\u001b[0m: not enough values to unpack (expected 3, got 2)"
     ]
    }
   ],
   "source": [
    "lista_arreglo = [[1, 2,3], [4, 5], [7]]\n",
    "for i, j, k in lista_arreglo:\n",
    "    print(i, j, k)"
   ]
  },
  {
   "cell_type": "markdown",
   "metadata": {},
   "source": [
    "<div align=\"center\"><img src=\"https://github.com/Repositorio17092022/RepositorioiImagenes/blob/main/unidad13/imagen231.PNG?raw=true \" width= \"450px\"/></div>"
   ]
  },
  {
   "cell_type": "markdown",
   "metadata": {},
   "source": [
    "##### **3.4. Doble bucle for y lista bidimensional**"
   ]
  },
  {
   "cell_type": "markdown",
   "metadata": {},
   "source": [
    "Pruebe a imprimir utilizando un doble bucle for como el siguiente.\n",
    "\n",
    "El bucle for externo for i in lista_arreglo: asigna columna por columna de toda la lista a i.\n",
    "\n",
    "Usando el for interno para j en i :, imprime cada elemento de i."
   ]
  },
  {
   "cell_type": "code",
   "execution_count": 7,
   "metadata": {},
   "outputs": [
    {
     "name": "stdout",
     "output_type": "stream",
     "text": [
      "1 2 3 \n",
      "4 5 6 \n",
      "7 8 9 \n"
     ]
    }
   ],
   "source": [
    "lista_arreglo = [[1, 2,3], [4, 5, 6], [7, 8, 9]]\n",
    "for i in lista_arreglo:\n",
    "    for j in i:\n",
    "        print(j, end=' ')\n",
    "    print()"
   ]
  },
  {
   "cell_type": "markdown",
   "metadata": {},
   "source": [
    "<div align=\"center\"><img src=\"https://github.com/Repositorio17092022/RepositorioiImagenes/blob/main/unidad13/imagen232.PNG?raw=true \" width= \"750px\"/></div>\n"
   ]
  },
  {
   "cell_type": "markdown",
   "metadata": {},
   "source": [
    "##### **3.5. Ejemplo de bucle for doble bidimensional**"
   ]
  },
  {
   "cell_type": "markdown",
   "metadata": {},
   "source": [
    "Pruebe a utilizar un doble bucle for como el siguiente. \n",
    "\n",
    "Este método es un código que funciona bien incluso si el número de elementos de la lista es diferente."
   ]
  },
  {
   "cell_type": "code",
   "execution_count": 8,
   "metadata": {},
   "outputs": [
    {
     "name": "stdout",
     "output_type": "stream",
     "text": [
      "1 2 3 \n",
      "4 5 \n",
      "7 \n"
     ]
    }
   ],
   "source": [
    "lista_arreglo = [[1, 2,3], [4, 5], [7]]\n",
    "for i in lista_arreglo:\n",
    "    for j in i:\n",
    "        print(j, end=' ')\n",
    "    print()"
   ]
  },
  {
   "cell_type": "markdown",
   "metadata": {},
   "source": [
    "<div align=\"center\"><img src=\"https://github.com/Repositorio17092022/RepositorioiImagenes/blob/main/unidad13/imagen233.PNG?raw=true \" width= \"550px\"/></div>"
   ]
  },
  {
   "cell_type": "markdown",
   "metadata": {},
   "source": [
    "**Linea 2, 3, 4**\n",
    "\n",
    "- Poner un elemento de la lista_arreglo en i. El primer elemento es [1, 2, 3].\n",
    "\n",
    "- Vuelve a poner el elemento de i en j.\n",
    "\n",
    "- En este caso, la j inicial se convierte en 1, y se asignan 2 y 3 mientras se recorre el bucle for, respectivamente.\n",
    "\n",
    "- Cuando se utiliza end = '', se utiliza el espaciado en lugar del salto de línea.\n"
   ]
  },
  {
   "cell_type": "markdown",
   "metadata": {},
   "source": [
    "##### **3.6. Impresión mediante índice**"
   ]
  },
  {
   "cell_type": "markdown",
   "metadata": {},
   "source": [
    "Impresión mediante el índice : cálculo e impresión del tamaño de la lista 2D con len.\n",
    "\n",
    "Poner el tamaño de la fila y la columna en for in range e indexarlos para imprimir los elementos de la lista.\n",
    "\n",
    "Observa aquí que len(lista_arreglo) es 3, no 9.\n",
    "\n",
    "Y tienes que encontrar el tamaño de la lista interna, lista_arreglo[i], con len para obtener el tamaño (número de columnas) de los elementos de la lista interna.\n",
    " \n",
    "Así, len(lista_arreglo[i])es 3 en este código.\n",
    "\n"
   ]
  },
  {
   "cell_type": "code",
   "execution_count": 9,
   "metadata": {},
   "outputs": [
    {
     "name": "stdout",
     "output_type": "stream",
     "text": [
      "1 2 3 \n",
      "4 5 6 \n",
      "7 8 9 \n"
     ]
    }
   ],
   "source": [
    "lista_arreglo = [[1, 2,3], [4, 5, 6], [7, 8, 9]]\n",
    "for i in range(len(lista_arreglo)):\n",
    "    for j in range(len(lista_arreglo[i])):\n",
    "        print(lista_arreglo[i][j], end=' ')\n",
    "    print()"
   ]
  },
  {
   "cell_type": "markdown",
   "metadata": {},
   "source": [
    "**Linea 2, 3**\n",
    "\n",
    "- len(lista_arreglo) : Devuelve el tamaño de la fila, 3.\n",
    "\n",
    "- len(lista_arreglo[i]) : Devuelve el tamaño del elemento en la fila "
   ]
  },
  {
   "cell_type": "markdown",
   "metadata": {},
   "source": [
    "##### **3.7. Doble bucle for en el caso de una lista bidimensional con diferente número de elementos**"
   ]
  },
  {
   "cell_type": "markdown",
   "metadata": {},
   "source": [
    "Este método también es un código que funciona bien aunque el número de elementos de la lista sea diferente."
   ]
  },
  {
   "cell_type": "code",
   "execution_count": 10,
   "metadata": {},
   "outputs": [
    {
     "name": "stdout",
     "output_type": "stream",
     "text": [
      "1 2 3 \n",
      "4 5 \n",
      "7 \n"
     ]
    }
   ],
   "source": [
    "lista_arreglo = [[1, 2,3], [4, 5], [7]]\n",
    "for i in range(len(lista_arreglo)):\n",
    "    for j in range(len(lista_arreglo[i])):\n",
    "        print(lista_arreglo[i][j], end=' ')\n",
    "    print()"
   ]
  },
  {
   "cell_type": "markdown",
   "metadata": {},
   "source": [
    "**Linea 2, 3, 4**\n",
    "- Repite el bucle for tres veces usando range(len(lista_arreglo)).\n",
    "- j repite un código en el bucle para el número de elementos de la lista_arreglo[i].\n",
    "- Imprime los elementos de lista_arreglo usando el índice [i][j].\n",
    "\n"
   ]
  },
  {
   "cell_type": "markdown",
   "metadata": {},
   "source": [
    "### <FONT COLOR=\"blue\"> 4. Declaración de bucle y lista bidimensional </FONT>\n"
   ]
  },
  {
   "cell_type": "markdown",
   "metadata": {},
   "source": [
    "##### **4.1. Asignación y referencia de listas bidimensionales**"
   ]
  },
  {
   "cell_type": "markdown",
   "metadata": {},
   "source": [
    "Si se asigna lista_arreglo a lista1 y luego se cambia el valor de lista1, también se cambiará el valor de lista_arreglo."
   ]
  },
  {
   "cell_type": "code",
   "execution_count": 11,
   "metadata": {},
   "outputs": [
    {
     "name": "stdout",
     "output_type": "stream",
     "text": [
      "[[1, 2, 3], [4, 5, 6], [7, 8, 9]]\n"
     ]
    }
   ],
   "source": [
    "lista_arreglo = [[1, 2,3], [4, 5, 6], [7, 8, 9]]\n",
    "lista1 = lista_arreglo\n",
    "print(lista1)"
   ]
  },
  {
   "cell_type": "code",
   "execution_count": 12,
   "metadata": {},
   "outputs": [
    {
     "name": "stdout",
     "output_type": "stream",
     "text": [
      "[[90, 2, 3], [4, 5, 6], [7, 8, 9]]\n",
      "[[90, 2, 3], [4, 5, 6], [7, 8, 9]]\n"
     ]
    }
   ],
   "source": [
    "lista1[0][0] = 90\n",
    "print(lista_arreglo)\n",
    "print(lista1)"
   ]
  },
  {
   "cell_type": "markdown",
   "metadata": {},
   "source": [
    "- La operación de asignación en una lista no es una forma de copiar y pasar valores. \n",
    "\n",
    "- Por lo tanto, list_array y list1 se refieren al mismo objeto (esto se llama una referencia).\n",
    "\n",
    "- Como se refieren al mismo objeto, cuando el valor del objeto se cambia, ambas listas exportan el valor cambiado"
   ]
  },
  {
   "cell_type": "markdown",
   "metadata": {},
   "source": [
    "<div align=\"center\"><img src=\"https://github.com/Repositorio17092022/RepositorioiImagenes/blob/main/unidad13/imagen236.PNG?raw=true \" width= \"350px\"/></div>"
   ]
  },
  {
   "cell_type": "markdown",
   "metadata": {},
   "source": [
    "**💡 Un paso más** \n"
   ]
  },
  {
   "cell_type": "markdown",
   "metadata": {},
   "source": [
    "Para crear los dos en memorias completamente diferentes, hay que utilizar la función copy.deepcopy del módulo copy"
   ]
  },
  {
   "cell_type": "code",
   "execution_count": 13,
   "metadata": {},
   "outputs": [
    {
     "name": "stdout",
     "output_type": "stream",
     "text": [
      "[[1, 2, 3], [4, 5, 6], [7, 8, 9]]\n",
      "False\n"
     ]
    }
   ],
   "source": [
    "import copy\n",
    "lista_arreglo = [[1, 2,3], [4, 5, 6], [7, 8, 9]]\n",
    "lista1 = copy.deepcopy(lista_arreglo)\n",
    "lista1[0][0] = 90\n",
    "print(lista_arreglo)\n",
    "print(lista_arreglo is lista1)\n"
   ]
  },
  {
   "cell_type": "markdown",
   "metadata": {},
   "source": [
    "<div align=\"center\"><img src=\"https://github.com/Repositorio17092022/RepositorioiImagenes/blob/main/unidad13/imagen237.PNG?raw=true \" width= \"650px\"/></div>"
   ]
  },
  {
   "cell_type": "markdown",
   "metadata": {},
   "source": [
    "##### **4.2.  Utilice el bucle for para crear una lista bidimensional de 3 filas y 2 columnas**"
   ]
  },
  {
   "cell_type": "code",
   "execution_count": 14,
   "metadata": {},
   "outputs": [
    {
     "name": "stdout",
     "output_type": "stream",
     "text": [
      "[[0, 0], [0, 0], [0, 0]]\n"
     ]
    }
   ],
   "source": [
    "lista1 = []\n",
    "for i in range(3):\n",
    "    linea = []\n",
    "    for j in range(2):\n",
    "        linea.append(0)\n",
    "    lista1.append(linea)\n",
    "    \n",
    "print(lista1)"
   ]
  },
  {
   "cell_type": "markdown",
   "metadata": {},
   "source": [
    "**Linea 2, 3**\n",
    "\n",
    "- En primer lugar, cree una línea de lista vacía que se utilizará como lista interior repitiendo para el tamaño de la fila, 3.\n",
    "\n",
    "**Linea 4, 5, 6**\n",
    "\n",
    "- Luego se añade 0 como apéndice a la línea, repitiendo para el tamaño de la columna, 2.\n",
    "- En el bucle externo, se vuelve a utilizar append. De esta manera, una línea de la lista interna se añade a la lista completa, la lista 1.\n"
   ]
  },
  {
   "cell_type": "markdown",
   "metadata": {},
   "source": [
    "###  <FONT COLOR=\"blue\"> 5. Creación de la lista irregular </FONT>"
   ]
  },
  {
   "cell_type": "markdown",
   "metadata": {},
   "source": [
    "##### **5.1.  Ejemplo de lista irregular**"
   ]
  },
  {
   "cell_type": "markdown",
   "metadata": {},
   "source": [
    "El número de elementos de la lista dentro de la lista bidimensional puede ser diferente. Cree una lista bidimensional dentada como la siguiente."
   ]
  },
  {
   "cell_type": "code",
   "execution_count": 16,
   "metadata": {},
   "outputs": [
    {
     "name": "stdout",
     "output_type": "stream",
     "text": [
      "[[0], [0, 1], [0, 1, 2], [0, 1, 2, 3], [0, 1, 2, 3, 4]]\n"
     ]
    }
   ],
   "source": [
    "lista1 = [1, 2, 3, 4, 5]\n",
    "lista2 = []\n",
    "\n",
    "for i in lista1:\n",
    "    linea = []\n",
    "    for j in range(i):\n",
    "        linea.append(j)\n",
    "    lista2.append(linea)\n",
    "    \n",
    "print(lista2)"
   ]
  },
  {
   "cell_type": "markdown",
   "metadata": {},
   "source": [
    "**Linea 4, 5 ,6**\n",
    "\n",
    "- En la lista 1, el tamaño horizontal de la lista dentada se almacenó por adelantado.\n",
    "- La lista dentada que se va a generar es la lista1. Esta lista está inicialmente vacía.\n",
    "- Repite la lista 1 usando for, toma los valores de 1 a 5, y los almacena en i.\n",
    "- Dentro del bucle for, repite como el tamaño horizontal i sacado del for y añade los elementos usando append. A continuación, añadir una lista interior, línea, a la lista b en el bucle exterior.\n"
   ]
  },
  {
   "cell_type": "markdown",
   "metadata": {},
   "source": [
    "Un ejemplo de lista dentada es el siguiente.  Una lista dentada es una lista bidimensional, y el número de elementos de la lista dentro de la lista es diferente.\n",
    "\n",
    "<div align=\"center\"><img src=\"https://github.com/Repositorio17092022/RepositorioiImagenes/blob/main/unidad13/imagen240.PNG?raw=true \" width= \"350px\"/></div>\n",
    "\n",
    "Podemos hacer fácilmente una lista de los siguientes tipos."
   ]
  },
  {
   "cell_type": "code",
   "execution_count": 17,
   "metadata": {},
   "outputs": [
    {
     "name": "stdout",
     "output_type": "stream",
     "text": [
      "[[0], [0, 1], [0, 1, 2], [0, 1, 2, 3], [0, 1, 2, 3, 4]]\n"
     ]
    }
   ],
   "source": [
    "lista2= [[0],\n",
    "        [0, 1],\n",
    "        [0, 1, 2],\n",
    "        [0, 1, 2, 3],\n",
    "        [0, 1, 2, 3, 4]]\n",
    "print(lista2)"
   ]
  },
  {
   "cell_type": "markdown",
   "metadata": {},
   "source": [
    "Así, cuando el tamaño de la lista dentro de la lista es diferente, se llama lista dentada.\n",
    "\n",
    "<div align=\"center\"><img src=\"https://github.com/Repositorio17092022/RepositorioiImagenes/blob/main/unidad13/imagen240-2.PNG?raw=true \" width= \"400px\"/></div>"
   ]
  },
  {
   "cell_type": "markdown",
   "metadata": {},
   "source": [
    "##### **5.2.  Lista irregular utilizando un doble bucle for**"
   ]
  },
  {
   "cell_type": "markdown",
   "metadata": {},
   "source": [
    "Es posible crear una lista dentada utilizando un doble bucle for."
   ]
  },
  {
   "cell_type": "code",
   "execution_count": 18,
   "metadata": {},
   "outputs": [
    {
     "name": "stdout",
     "output_type": "stream",
     "text": [
      "0 \n",
      "0 1 \n",
      "0 1 2 \n",
      "0 1 2 3 \n",
      "0 1 2 3 4 \n"
     ]
    }
   ],
   "source": [
    "lista1 = [1, 2, 3, 4, 5]\n",
    "lista2 = []\n",
    "\n",
    "for i in lista1:\n",
    "    linea = []\n",
    "    for j in range(i):\n",
    "        linea.append(j)\n",
    "        print(j, end=' ')\n",
    "    lista2.append(linea)\n",
    "    print()"
   ]
  },
  {
   "cell_type": "markdown",
   "metadata": {},
   "source": [
    "<div align=\"center\"><img src=\"https://github.com/Repositorio17092022/RepositorioiImagenes/blob/main/unidad13/imagen240.PNG?raw=true \" width= \"350px\"/></div>"
   ]
  },
  {
   "cell_type": "markdown",
   "metadata": {},
   "source": [
    "##### **5.3.  Ejemplo de lista dentada utilizando el bucle for doble y el método randint**"
   ]
  },
  {
   "cell_type": "markdown",
   "metadata": {},
   "source": [
    "Los valores internos se pueden convertir en enteros aleatorios utilizando randint(1,100) del módulo random."
   ]
  },
  {
   "cell_type": "code",
   "execution_count": 23,
   "metadata": {},
   "outputs": [
    {
     "name": "stdout",
     "output_type": "stream",
     "text": [
      "34 \n",
      "22 36 \n",
      "28 54 12 \n",
      "45 49 49 45 \n",
      "3 13 2 99 90 \n"
     ]
    }
   ],
   "source": [
    "import random\n",
    "\n",
    "lista1 = [1, 2, 3, 4, 5]\n",
    "lista2 = []\n",
    "for i in lista1:\n",
    "    linea = []\n",
    "    for j in range(i):\n",
    "        linea.append(random.randint(1,100))     #Toma valores aleatorios\n",
    "    lista2.append(linea)\n",
    "for i in lista2:\n",
    "    for j in i:\n",
    "        print(j, end=' ' )\n",
    "    print()"
   ]
  },
  {
   "cell_type": "markdown",
   "metadata": {},
   "source": [
    "## <FONT COLOR=\"blue\"> Codificación en papel </FONT>"
   ]
  },
  {
   "cell_type": "markdown",
   "metadata": {},
   "source": [
    "Intente comprender completamente el concepto básico antes de pasar al siguiente paso.\n",
    "La falta de comprensión de los conceptos básicos aumentará su carga en el aprendizaje de este curso, lo que puede hacer que no apruebe el curso.\n",
    "\n",
    "Puede ser difícil ahora, pero para completar con éxito este curso le sugerimos que entienda completamente el concepto y pase al siguiente paso."
   ]
  },
  {
   "cell_type": "markdown",
   "metadata": {},
   "source": [
    "#### <FONT COLOR=\"blue\"> **Q1.** </FONT>"
   ]
  },
  {
   "cell_type": "markdown",
   "metadata": {},
   "source": [
    "Poner las matrices bidimensionales [[10, 20], [30, 40], [50, 60] en la variable lista_matriz y salida 30. \n",
    "Haz la indexación correcta. \n",
    "\n",
    "<table>\n",
    "<tr>\n",
    "  <td><strong>Condicion para la ejecución</strong></td>\n",
    "  <td>30</td>\n",
    "<tr>\n",
    "  <td><strong>Tiempo</strong></td>\n",
    "  <td>5 Minutos</td>\n",
    "<tr>\n",
    "</table>\n",
    "\n",
    "\n",
    "*Escriba el código completo y los resultados esperados en la nota*"
   ]
  },
  {
   "cell_type": "markdown",
   "metadata": {},
   "source": [
    "#### <FONT COLOR=\"blue\"> **Q2.** </FONT>"
   ]
  },
  {
   "cell_type": "markdown",
   "metadata": {},
   "source": [
    "Crea una lista 2D de tamaño 4 x 4 con valores que van de 1 a 16 e imprime todos los elementos utilizando el bucle for. \n",
    "\n",
    "<table>\n",
    "<tr>\n",
    "  <td><strong>Condicion para la ejecución</strong></td>\n",
    "  <td>1  2  3  4<br>5  6  7  8<br>9  10 11 12<br>13 14 15 16<br></td>\n",
    "<tr>\n",
    "  <td><strong>Tiempo</strong></td>\n",
    "  <td>5 Minutos</td>\n",
    "<tr>\n",
    "</table>\n",
    "\n",
    "\n",
    "*Escriba el código completo y los resultados esperados en la nota*"
   ]
  },
  {
   "cell_type": "markdown",
   "metadata": {},
   "source": [
    "## <FONT COLOR=\"blue\"> Vamos a codificar </FONT>"
   ]
  },
  {
   "cell_type": "markdown",
   "metadata": {},
   "source": [
    "### <FONT COLOR=\"blue\"> 1. Generación de una lista bidimensional </FONT>\n"
   ]
  },
  {
   "cell_type": "markdown",
   "metadata": {},
   "source": [
    "##### **1.1. Crear una lista bidimensional de tamaño 3x2 utilizando la sentencia de bucle**\n"
   ]
  },
  {
   "cell_type": "markdown",
   "metadata": {},
   "source": [
    "Repite para el tamaño de la fila, 3 para crear una lista vacía para usarla como lista interna y coloca el valor en la lista usando append.\n",
    "\n",
    "Añade toda la lista de filas a lista_arrglo usando append. \n",
    "\n",
    "Hacer una lista de elementos en 3 filas y 2 columnas utilizando una sentencia de bucle.\n"
   ]
  },
  {
   "cell_type": "code",
   "execution_count": 24,
   "metadata": {},
   "outputs": [
    {
     "name": "stdout",
     "output_type": "stream",
     "text": [
      "[[0, 0], [0, 0], [0, 0]]\n"
     ]
    }
   ],
   "source": [
    "lista1 = []\n",
    "for i in range(3):\n",
    "    linea = []\n",
    "    for j in range(2):\n",
    "        linea.append(0)\n",
    "    lista1.append(linea)\n",
    "    \n",
    "print(lista1)"
   ]
  },
  {
   "cell_type": "markdown",
   "metadata": {},
   "source": [
    "##### **1.2. Creación de una lista bidimensional mediante expresiones de comprensión de listas**"
   ]
  },
  {
   "cell_type": "markdown",
   "metadata": {},
   "source": [
    "El código se alarga un poco al utilizar el bucle for dos veces.\n",
    "\n",
    "Utilizando una expresión de compresión de listas, se puede crear una lista bidimensional con una sola línea de código"
   ]
  },
  {
   "cell_type": "code",
   "execution_count": 26,
   "metadata": {},
   "outputs": [
    {
     "name": "stdout",
     "output_type": "stream",
     "text": [
      "[[0, 0], [0, 0], [0, 0]]\n"
     ]
    }
   ],
   "source": [
    "lista_arreglo = [[0] * 2 for i in range(3)]\n",
    "print(lista_arreglo)"
   ]
  },
  {
   "cell_type": "markdown",
   "metadata": {},
   "source": [
    "Python ofrece una función llamada comprensión de la lista. La palabra comprensión en inglés significa implicación, inclusión e intensión, es similar a lo que los matemáticos definen como conjuntos.\n",
    "\n",
    "Usando la expresión de comprensión de listas, puedes visitar cada elemento de la lista de entrada, realizar una operación designada y generar una lista con un valor de elemento generado por la operación\n",
    "\n",
    "<div align=\"center\"><img src=\"https://github.com/Repositorio17092022/RepositorioiImagenes/blob/main/unidad13/imagen250.PNG?raw=true \" width= \"650px\"/></div>\n",
    "\n",
    "Se pueden añadir condiciones a la implicación de la lista mediante el uso de if. Por ejemplo, si un conjunto de números pares entre los enteros entre 0 y 9 se expresa como una connotación de lista, es como sigue.\n",
    "\n",
    "<div align=\"center\"><img src=\"https://github.com/Repositorio17092022/RepositorioiImagenes/blob/main/unidad13/imagen250.PNG?raw=true \" width= \"650px\"/></div>"
   ]
  },
  {
   "cell_type": "markdown",
   "metadata": {},
   "source": [
    "##### **1.3. Código de ejemplo para crear una lista bidimensional usando la comprensión de listas expresión** "
   ]
  },
  {
   "cell_type": "code",
   "execution_count": null,
   "metadata": {},
   "outputs": [
    {
     "name": "stdout",
     "output_type": "stream",
     "text": [
      "[[0, 0], [0, 0], [0, 0]]\n"
     ]
    }
   ],
   "source": [
    "lista_arreglo = [[0 for j in range(2)] for i in  range(3)]\n",
    "print(lista_arreglo)"
   ]
  },
  {
   "cell_type": "markdown",
   "metadata": {},
   "source": [
    "**Linea 1**\n",
    "\n",
    "- Repite 0 dos veces usando [0 para j rango (2)] para convertirlo en [0, 0], y repite [0, 0] tres veces usando para i en rango (3) para hacer [[0, 0], [0, 0],[0, 0]]."
   ]
  },
  {
   "cell_type": "markdown",
   "metadata": {},
   "source": [
    "### <FONT COLOR=\"blue\">2. Impresión de un elemento de lista bidimensional </FONT>"
   ]
  },
  {
   "cell_type": "markdown",
   "metadata": {},
   "source": [
    "##### **2.1. Impresión de un elemento de una lista bidimensional mediante la sentencia while**"
   ]
  },
  {
   "cell_type": "markdown",
   "metadata": {},
   "source": [
    "También es conveniente utilizar una función len para encontrar el tamaño de la lista cuando se utilizan sentencias de bucle while.\n",
    "\n",
    "Aquí, al igual que en len(list_array), se obtiene el tamaño de la fila de la lista 2D, y luego se asignan e imprimen los valores de la lista interior (tamaño de la columna)."
   ]
  },
  {
   "cell_type": "code",
   "execution_count": null,
   "metadata": {},
   "outputs": [
    {
     "name": "stdout",
     "output_type": "stream",
     "text": [
      "1 2 3\n",
      "4 5 6\n",
      "7 8 9\n"
     ]
    }
   ],
   "source": [
    "lista_arreglo = [[1, 2, 3], [4, 5, 6], [7, 8, 9]]\n",
    "i = 0\n",
    "while i < len(lista_arreglo):\n",
    "    a, b, c, = lista_arreglo[i]\n",
    "    print(a, b, c)\n",
    "\n",
    "    i += 1"
   ]
  },
  {
   "cell_type": "markdown",
   "metadata": {},
   "source": [
    "**Linea 2 y 3**\n",
    "\n",
    "- La sentencia while se repite para el número de elementos de list_array.\n",
    "\n",
    "- Si el elemento de list_array[i] de a, b, y c, es decir i , es 0, 1, 2, y 3 se asignará respectivamente"
   ]
  },
  {
   "cell_type": "markdown",
   "metadata": {},
   "source": [
    "### <FONT COLOR=\"blue\"> 3. Creación de listas irregulares</FONT>"
   ]
  },
  {
   "cell_type": "markdown",
   "metadata": {},
   "source": [
    "##### **3.1 Creación e impresión de listas irregulares**"
   ]
  },
  {
   "cell_type": "markdown",
   "metadata": {},
   "source": [
    "La lista irregular también puede crearse de forma sencilla mediante una expresión de comprensión.\n"
   ]
  },
  {
   "cell_type": "code",
   "execution_count": null,
   "metadata": {},
   "outputs": [
    {
     "name": "stdout",
     "output_type": "stream",
     "text": [
      "[[0], [0, 0], [0, 0, 0], [0, 0, 0, 0], [0, 0, 0, 0, 0]]\n"
     ]
    }
   ],
   "source": [
    "lista1 = [[0] * i for i in [1, 2, 3, 4, 5]]\n",
    "print(lista1)"
   ]
  },
  {
   "cell_type": "markdown",
   "metadata": {},
   "source": [
    "El código que utiliza el doble bucle for para imprimir la lista dentada, la lista 1 creada en el código anterior es el siguiente.\n"
   ]
  },
  {
   "cell_type": "code",
   "execution_count": null,
   "metadata": {},
   "outputs": [
    {
     "name": "stdout",
     "output_type": "stream",
     "text": [
      "0 \n",
      "0 0 \n",
      "0 0 0 \n",
      "0 0 0 0 \n",
      "0 0 0 0 0 \n"
     ]
    }
   ],
   "source": [
    "for i in lista1:\n",
    "    for j in i:\n",
    "        print(j, end = ' ')\n",
    "    print()"
   ]
  },
  {
   "cell_type": "markdown",
   "metadata": {},
   "source": [
    "##### **3.2. Método Append**"
   ]
  },
  {
   "cell_type": "markdown",
   "metadata": {},
   "source": [
    "Añadir un nuevo elemento a la lista dentada. Como list1[0] y list1[1] son también listas, se pueden añadir 99 y 77 elementos mediante el método append."
   ]
  },
  {
   "cell_type": "code",
   "execution_count": null,
   "metadata": {},
   "outputs": [
    {
     "name": "stdout",
     "output_type": "stream",
     "text": [
      "[[10], [20, 20], [30, 30, 30], [40, 40, 40, 40], [50, 50, 50, 50, 50]]\n"
     ]
    }
   ],
   "source": [
    "lista1 = [[10 * i] * i for i in [1, 2, 3, 4, 5]]\n",
    "print(lista1)"
   ]
  },
  {
   "cell_type": "code",
   "execution_count": null,
   "metadata": {},
   "outputs": [
    {
     "name": "stdout",
     "output_type": "stream",
     "text": [
      "[[10, 99], [20, 20, 77], [30, 30, 30], [40, 40, 40, 40], [50, 50, 50, 50, 50]]\n"
     ]
    }
   ],
   "source": [
    "lista1[0].append(99)\n",
    "lista1[1].append(77)\n",
    "print(lista1)"
   ]
  },
  {
   "cell_type": "markdown",
   "metadata": {},
   "source": [
    "\n",
    "<div align=\"center\"><img src=\"https://github.com/Repositorio17092022/RepositorioiImagenes/blob/main/unidad13/imagen254.PNG?raw=true \" width= \"600px\"/></div>"
   ]
  },
  {
   "cell_type": "markdown",
   "metadata": {},
   "source": [
    "### <FONT COLOR=\"blue\"> 4. Leer y guardar datos de un archivo</FONT>\n"
   ]
  },
  {
   "cell_type": "markdown",
   "metadata": {},
   "source": [
    "##### **4.1. ¿Qué es un archivo?**"
   ]
  },
  {
   "cell_type": "markdown",
   "metadata": {},
   "source": [
    "Una unidad lógica utilizada para almacenar datos en el dispositivo de almacenamiento de un ordenador se denomina archivo.\n",
    "\n",
    "Es posible guardarlo en un dispositivo de almacenamiento como un disco duro o un disco externo y volver a llamarlo cuando sea necesario.\n",
    "\n",
    "<div align=\"center\"><img src=\"https://github.com/Repositorio17092022/RepositorioiImagenes/blob/main/unidad13/imagen255.PNG?raw=true \" width= \"550px\"/></div>"
   ]
  },
  {
   "cell_type": "markdown",
   "metadata": {},
   "source": [
    "##### **4.2. Pasos para utilizar archivos en Python**"
   ]
  },
  {
   "cell_type": "markdown",
   "metadata": {},
   "source": [
    "<div align=\"center\"><img src=\"https://github.com/Repositorio17092022/RepositorioiImagenes/blob/main/unidad13/imagen256.PNG?raw=true \" width= \"600px\"/></div>\n",
    "\n",
    "1. Abrir archivo\n",
    "- Importe archivos especificando la ubicación y el nombre del archivo en el dispositivo de almacenamiento.\n",
    "- La ubicación del archivo en el dispositivo de almacenamiento del ordenador se denomina ruta.\n",
    "\n",
    "2. Utilizarlo en función de la finalidad de uso\n",
    "- Es posible leer, escribir, comprobar el contenido y añadir nuevo contenido al archivo, así como eliminar el contenido existente.\n",
    "\n",
    "3. ¿Qué significa cerrar el archivo?\n",
    "- Una vez agotado el archivo, es necesario devolver la memoria asignada para su uso en el sistema para poder utilizar el archivo.\n",
    "- Dicho proceso de devolución se expresa en el término \"cierre\" del fichero."
   ]
  },
  {
   "cell_type": "markdown",
   "metadata": {},
   "source": [
    "##### **4.3. Escritura de archivos y modos**"
   ]
  },
  {
   "cell_type": "markdown",
   "metadata": {},
   "source": [
    "La función open abre y trae el archivo 'hola.txt'.\n",
    "- Importación especificando el modo de apertura de archivos 'w' (sólo escritura)\n",
    "\n",
    "La función Open devuelve un objeto archivo.\n",
    "\n",
    "El objeto archivo f utiliza el método write para escribir el texto especificado en un archivo.\n",
    "\n",
    "El método f.close cierra el archivo"
   ]
  },
  {
   "cell_type": "code",
   "execution_count": null,
   "metadata": {},
   "outputs": [],
   "source": [
    "f = open('hola.txt', 'w')\n",
    "f.write('hola mundo!')\n",
    "f.close()"
   ]
  },
  {
   "cell_type": "markdown",
   "metadata": {},
   "source": [
    "\n",
    "<div align=\"center\"><img src=\"https://github.com/Repositorio17092022/RepositorioiImagenes/blob/main/unidad13/imagen257.PNG?raw=true \" width= \"600px\"/></div>"
   ]
  },
  {
   "cell_type": "markdown",
   "metadata": {},
   "source": [
    "##### **4.4. Función abierta**"
   ]
  },
  {
   "cell_type": "markdown",
   "metadata": {},
   "source": [
    "Es una función clave que se ocupa de los archivos en Python.\n",
    "\n",
    "Puede tener un nombre de archivo y un factor del modo de apertura del archivo.\n",
    "\n",
    "Es posible designar el formato de codificación de un archivo a través del factor de codificación.\n",
    "\n",
    "Si no hay una ruta designada, la ruta por defecto es donde se encuentra el archivo de script de Python\n",
    "\n",
    "<div align=\"center\"><img src=\"https://github.com/Repositorio17092022/RepositorioiImagenes/blob/main/unidad13/imagen258.PNG?raw=true \" width= \"600px\"/></div>"
   ]
  },
  {
   "cell_type": "markdown",
   "metadata": {},
   "source": [
    "##### **4.5 Varios modos de entrada/salida de archivos de la función open**"
   ]
  },
  {
   "cell_type": "markdown",
   "metadata": {},
   "source": [
    "<table>\n",
    "<tr>\n",
    "  <td><strong>Modo</strong></td>\n",
    "  <td>Significado</td>\n",
    "<tr>\n",
    "  <td><strong>r</strong></td>\n",
    "  <td>Abreviatura de Lectura, abre el archivo en modo de sólo lectura. Este modo es el modo por defecto para la apertura de archivos.\n",
    "\n",
    "- Si no hay ningún archivo, se produce un error.\n",
    "- Al estar en modo de sólo lectura, se produce un error al intentar escribir un archivo.</td>\n",
    "<tr>\n",
    "<tr>\n",
    "  <td><strong>w</strong></td>\n",
    "  <td>Abreviatura de Write, abre el archivo en modo de sólo escritura.\n",
    "\n",
    "- Si no hay archivo, se crea uno, y si hay uno, se sobrescribe (precaución).</td>\n",
    "<tr>\n",
    "<tr>\n",
    "  <td><strong>a</strong></td>\n",
    "  <td>Abre el archivo en modo de escritura y añade el contenido recién creado después del archivo existente.\n",
    "\n",
    "- Si no hay un archivo existente, crea un nuevo archivo y añade el contenido.</td>\n",
    "<tr>\n",
    "<tr>\n",
    "  <td><strong>x</strong></td>\n",
    "  <td>Este modo abre archivos exclusivamente para escribir y se utiliza para crear nuevos archivos.\n",
    "\n",
    "- A diferencia de a o w, en este modo se produce un error cuando hay un archivo. (Modo de seguridad del modo w)</td>\n",
    "<tr>\n",
    "<tr>\n",
    "  <td><strong>+</strong></td>\n",
    "  <td>El símbolo + es el modo de lectura/escritura y puede utilizarse como una combinación de 'r+', 'w+' y 'r+t'. Con 'r+', se puede abrir y escribir en modo lectura. Por otro lado, con 'w+', se puede abrir en modo de escritura y leer.\n",
    "</td>\n",
    "<tr>\n",
    "</table>"
   ]
  },
  {
   "cell_type": "markdown",
   "metadata": {},
   "source": [
    "##### **4.6. Un modo que especifica si se trata de archivos binarios o de texto**"
   ]
  },
  {
   "cell_type": "markdown",
   "metadata": {},
   "source": [
    "<table>\n",
    "<tr>\n",
    "  <td><strong>Modo de archivo</strong></td>\n",
    "  <td>Significado</td>\n",
    "<tr>\n",
    "  <td><strong>t</strong></td>\n",
    "  <td>Abreviatura de texto, abre o crea archivos en forma de archivos de texto. \n",
    "Este modo es el modo por defecto para la apertura de archivos.</td>\n",
    "<tr>\n",
    "<tr>\n",
    "  <td><strong>b</strong></td>\n",
    "  <td>Abreviatura de binario, abre o crea archivos en formato binario\n",
    "</td>\n",
    "<tr>\n",
    "\n",
    "<table>"
   ]
  },
  {
   "cell_type": "markdown",
   "metadata": {},
   "source": [
    "##### **4.7. Código de ejemplo de función abierta**"
   ]
  },
  {
   "cell_type": "code",
   "execution_count": null,
   "metadata": {},
   "outputs": [],
   "source": [
    "f = open('hola.txt', 'w') #Abrir archivo"
   ]
  },
  {
   "cell_type": "code",
   "execution_count": null,
   "metadata": {},
   "outputs": [],
   "source": [
    "f = open('hola.txt', 'wt') #Abrir archivo en texto\n"
   ]
  },
  {
   "cell_type": "code",
   "execution_count": null,
   "metadata": {},
   "outputs": [],
   "source": [
    "f = open('hola.txt', 'wB') #Archivo Open en binario"
   ]
  },
  {
   "cell_type": "code",
   "execution_count": null,
   "metadata": {},
   "outputs": [],
   "source": [
    "f = open('hola.txt', 'r+t') #Modo de lectura/escritura de texto"
   ]
  },
  {
   "cell_type": "markdown",
   "metadata": {},
   "source": [
    "**Linea 1**\n",
    "\n",
    "- 'w' : devuelve un objeto archivo leyendo el archivo en modo de escritura (w). Este objeto archivo f puede escribir texto en un archivo especificado llamando al método write.\n",
    "\n",
    "- 'wt': devuelve un objeto de archivo mediante la lectura del archivo en modo de escritura (w). Este archivo puede llamar al método de escritura para escribir texto en un archivo especificado. Aquí se puede abrir y escribir un archivo en modo texto (t). \n",
    "\n",
    "Como el modo de texto es un modo por defecto, se puede omitir.\n",
    "\n",
    "- 'wb': el modo wb es un modo binario y puede escribir archivos.\n",
    "\n",
    "- 'r+t': El modo por defecto es un modo de lectura, pero también se pueden escribir archivos. En este modo, se produce un error si no hay ningún archivo."
   ]
  },
  {
   "cell_type": "markdown",
   "metadata": {},
   "source": [
    "##### **4.8. Abrir, escribir función**"
   ]
  },
  {
   "cell_type": "code",
   "execution_count": null,
   "metadata": {},
   "outputs": [],
   "source": [
    "f = open('hola.txt', 'w+t') # Modo de escritura/lectura de texto"
   ]
  },
  {
   "cell_type": "code",
   "execution_count": null,
   "metadata": {},
   "outputs": [],
   "source": [
    "f = open('hola.txt', 'a+t') # Añadir texto"
   ]
  },
  {
   "cell_type": "code",
   "execution_count": null,
   "metadata": {},
   "outputs": [
    {
     "data": {
      "text/plain": [
       "12"
      ]
     },
     "metadata": {},
     "output_type": "display_data"
    }
   ],
   "source": [
    "f.write('Hola mundo! ') # Escribir en el archivo hello.txt"
   ]
  },
  {
   "cell_type": "code",
   "execution_count": null,
   "metadata": {},
   "outputs": [
    {
     "data": {
      "text/plain": [
       "34"
      ]
     },
     "metadata": {},
     "output_type": "display_data"
    }
   ],
   "source": [
    "f.write('Amor de mi vida, me has hecho daño. \\n')\n",
    "f.write('Has roto mi corazón y ahora me dejas. \\n')\n",
    "f.write('Amor de mi vida, ¿no puedes ver? \\n')\n"
   ]
  },
  {
   "cell_type": "markdown",
   "metadata": {},
   "source": [
    "Linea 1\n",
    "\n",
    "w+t': El modo por defecto es de escritura, pero también se pueden leer archivos.\n",
    "\n",
    "'a+t': Añade contenido al final del archivo existente, dejando todo el contenido del archivo existente. \n",
    "\n",
    "Se puede leer y crear si no hay ningún archivo."
   ]
  },
  {
   "cell_type": "markdown",
   "metadata": {},
   "source": [
    "Linea 1 - 3\n",
    "\n",
    "Escribe un archivo de texto utilizando la función f.write. La entrada de cadenas es posible.\n",
    "\n",
    "Aquí es necesario escribir la cadena de escape \\n para romper la línea en el archivo. \n",
    "\n",
    "Las comillas no pueden usarse dentro de '...' indicando el comienzo y el final de una cadena. Por lo tanto, se puede utilizar '\\' para imprimir las comillas.\n"
   ]
  },
  {
   "cell_type": "markdown",
   "metadata": {},
   "source": [
    "##### **4.9 . Método cerrado**"
   ]
  },
  {
   "cell_type": "markdown",
   "metadata": {},
   "source": [
    "Razones para utilizar el método cerrado\n",
    "\n",
    "Por lo general, los datos se almacenan en un búfer y luego se procesan en el procesador responsable de la entrada/salida del ordenador.\n",
    "\n",
    "El buffer utilizado aquí es un espacio de memoria temporal.\n",
    "\n",
    "Si se carga un archivo en el buffer, que es un espacio de memoria temporal, se seguirá utilizando la memoria del sistema.\n",
    "\n",
    "Para escribir archivos de forma eficiente, se utiliza para recoger datos hasta un cierto tamaño y leerlos o escribirlos todos a la vez.\n",
    "\n",
    "Si el contenido del buffer se envía al disco a través del método de cierre, la memoria tanto como el tamaño del buffer se vacía.\n",
    "\n",
    "Por lo tanto, la eficiencia de la memoria aumenta sólo cuando el archivo se cierra mediante el método de cierre.\n"
   ]
  },
  {
   "cell_type": "code",
   "execution_count": null,
   "metadata": {},
   "outputs": [],
   "source": [
    "f.close()"
   ]
  },
  {
   "cell_type": "markdown",
   "metadata": {},
   "source": [
    "<table>\n",
    "<tr>\n",
    "  <td><strong>💡 Un paso más</strong></td>\n",
    "<tr>\n",
    "<tr>\n",
    "  <td>Veamos la necesidad de los buffers y el método de cierre.\n",
    "\n",
    "   - La lectura y escritura de datos a través del disco duro de un ordenador es de decenas a cientos de veces más lenta que la lectura y escritura de datos en una unidad central de procesamiento o en la memoria. Por lo tanto, es más rápido recoger y procesar la lectura y escritura de datos en el disco de una sola vez en la medida de lo posible. Por esta razón, es más rápido almacenar 1000 bytes de datos en la memoria del ordenador 10 veces en unidades de 100 bytes que almacenar 1 byte cada uno en el disco 1000 veces.\n",
    "\n",
    "   - Por lo tanto, generalmente es más efectivo usar un buffer para recoger los datos del comando de escritura en unidades de 100 bytes y escribirlos de una vez cuando se convierten en 100 bytes. Lo que hace el método de cierre es almacenar la información en el buffer en el disco dando información de que no se van a enviar más comandos de escritura a este archivo.\n",
    "</td>\n",
    "<tr>\n",
    "<table>"
   ]
  },
  {
   "cell_type": "markdown",
   "metadata": {},
   "source": [
    "##### **4.10. Leer archivo**"
   ]
  },
  {
   "cell_type": "markdown",
   "metadata": {},
   "source": [
    "Lee el archivo utilizando el método read.\n",
    "\n",
    "Todas las cadenas (contenido completo) del archivo se devuelven como una sola cadena, independientemente de los saltos de línea"
   ]
  },
  {
   "cell_type": "code",
   "execution_count": null,
   "metadata": {},
   "outputs": [
    {
     "name": "stdout",
     "output_type": "stream",
     "text": [
      "Hola mundo! Amor de mi vida, me has hecho daño. \n",
      "Has roto mi corazón y ahora me dejas. \n",
      "Amor de mi vida, ¿no puedes ver? \n",
      "\n"
     ]
    }
   ],
   "source": [
    "f = open('hola.txt', 'r') # Abrir archivo\n",
    "s = f.read() # Leer el archivo hello.txt\n",
    "print(s)  # imprimir el contenido del archivo\n",
    "f.close() # cerrar el archivo"
   ]
  },
  {
   "cell_type": "markdown",
   "metadata": {},
   "source": [
    "<div align=\"center\"><img src=\"https://github.com/Repositorio17092022/RepositorioiImagenes/blob/main/unidad13/imagen266.PNG?raw=true \" width= \"500px\"/></div>"
   ]
  },
  {
   "cell_type": "markdown",
   "metadata": {},
   "source": [
    "Si se da 5 como factor del método f.read, éste lee 5 caracteres del fichero y los devuelve en forma de cadena.\n",
    "\n",
    "Sólo se imprimen cinco caracteres de 'Hola'."
   ]
  },
  {
   "cell_type": "code",
   "execution_count": null,
   "metadata": {},
   "outputs": [
    {
     "name": "stdout",
     "output_type": "stream",
     "text": [
      "Hola \n"
     ]
    }
   ],
   "source": [
    "f = open('hola.txt', 'r') # Abrir archivo\n",
    "s = f.read(5) # Leer cinco letras en el archivo hello.txt\n",
    "print(s) # imprimir el contenido del archivo\n",
    "f.close() # cerrar el archivo"
   ]
  },
  {
   "cell_type": "markdown",
   "metadata": {},
   "source": [
    "**Linea 1, 2**\n",
    "\n",
    "- Abra el archivo en modo de lectura.\n",
    "\n",
    "- Si añades 5 utilizando el método de lectura, sólo se leen cinco caracteres del archivo."
   ]
  },
  {
   "cell_type": "markdown",
   "metadata": {},
   "source": [
    "##### **4.11. Método Readline**"
   ]
  },
  {
   "cell_type": "markdown",
   "metadata": {},
   "source": [
    "Lee dos líneas del archivo hello.txt utilizando el método readline e imprímelas.\n"
   ]
  },
  {
   "cell_type": "code",
   "execution_count": null,
   "metadata": {},
   "outputs": [
    {
     "name": "stdout",
     "output_type": "stream",
     "text": [
      "Hola mundo! Amor de mi vida, me has hecho daño. \n",
      "Has roto mi corazón y ahora me dejas. \n"
     ]
    }
   ],
   "source": [
    "f = open('hola.txt', 'r') # Abrir archivo\n",
    "s = f.readline() # Leer la primera línea del archivo 'AAA'\n",
    "print(s,  end = '') # imprimir la línea\n",
    "s = f.readline() # Leer la segunda línea del archivo 'BBB'\n",
    "print(s, end = '') # imprimir la línea\n",
    "f.close() # Cerrar el fichero"
   ]
  },
  {
   "cell_type": "markdown",
   "metadata": {},
   "source": [
    "**Linea 2, 4**\n",
    "\n",
    "- El método readline lee la primera línea del archivo.\n",
    "\n",
    "- Si se escribe una vez más, se lee la siguiente línea."
   ]
  },
  {
   "cell_type": "markdown",
   "metadata": {},
   "source": [
    "##### **4.12 Añadir archivos**"
   ]
  },
  {
   "cell_type": "markdown",
   "metadata": {},
   "source": [
    "Usar el modo 'a+‘\n",
    " - Agregue nuevos contenidos al reverso de un archivo que ya se ha creado.\n",
    "\n",
    "a es el modo de anexión\n",
    "\n",
    "(+) es un modo para crear un nuevo archivo si no hay un archivo existente\n"
   ]
  },
  {
   "cell_type": "code",
   "execution_count": null,
   "metadata": {},
   "outputs": [],
   "source": [
    "f  = open('hola.txt', 'a+') #Abrir archivo\n",
    "f.write('Esto se agregará. \\n')\n",
    "f.write('Esto también. \\n')\n",
    "f.close()"
   ]
  },
  {
   "cell_type": "code",
   "execution_count": null,
   "metadata": {},
   "outputs": [
    {
     "name": "stdout",
     "output_type": "stream",
     "text": [
      "Hola mundo! Amor de mi vida, me has hecho daño. \n",
      "Has roto mi corazón y ahora me dejas. \n",
      "Amor de mi vida, ¿no puedes ver? \n",
      "Esto se agregará. \n",
      "Esto también. \n",
      "\n"
     ]
    }
   ],
   "source": [
    "f = open('hola.txt', 'r') #Abrir archivo\n",
    "s = f.read() # Lea el archivo Hola.txt\n",
    "print(s)  # Imprima el contenido del archivo\n",
    "f.close()"
   ]
  },
  {
   "cell_type": "markdown",
   "metadata": {},
   "source": [
    "**Linea 2, 3**\n",
    "\n",
    "- Agregue el carácter de ruptura de línea (\\ n) y las cadenas utilizando el método de escritura."
   ]
  },
  {
   "cell_type": "markdown",
   "metadata": {},
   "source": [
    "##### **4.13 Ejemplo de lectura y escritura de archivos**"
   ]
  },
  {
   "cell_type": "markdown",
   "metadata": {},
   "source": [
    "Busquemos las aplicaciones disponibles.\n",
    "\n",
    "Recibir cinco enteros de los usuarios y almacenarlos en datos5.txt.\n",
    "\n",
    "Leer datos5.txt e imprimir la suma y la media de los enteros."
   ]
  },
  {
   "cell_type": "code",
   "execution_count": null,
   "metadata": {},
   "outputs": [],
   "source": [
    "f = open('datos5.txt', 'w')  # Abrir archivo en modo de escritura\n",
    "for _ in range(5):\n",
    "    n = input('Introduzca un numero entero: ')\n",
    "    f.write(n)  # Escribe la entrada en la cadena\n",
    "    f.write('\\n')  # Escribe el valor y la línea de cambio\n",
    "f.close() # cerrar el archivo"
   ]
  },
  {
   "cell_type": "markdown",
   "metadata": {},
   "source": [
    "- Introduzca un numero entero: 10\n",
    "- Introduzca un numero entero: 20 \n",
    "- Introduzca un numero entero: 30\n",
    "- Introduzca un numero entero: 40 \n",
    "- Introduzca un numero entero: 50\n",
    "\n",
    "Cuando se introducen 10, 20, 30, 40 y 50, y luego se mira la página de inicio de Jupiter con el archivo ejecutado por Jupiter, el archivo data5.txt se crea como sigue.\n",
    "\n",
    "<div align=\"center\"><img src=\"https://github.com/Repositorio17092022/RepositorioiImagenes/blob/main/unidad13/imagen272.png?raw=true\" width= \"700px\"/></div>\n",
    "\n",
    "Lee los enteros del fichero e imprime la suma y la media de esos enteros.\n",
    "\n",
    "Como el 10 almacenado en el fichero es una cadena \"10\", las operaciones de suma sólo son posibles cuando se sustituye por un entero utilizando int.\n"
   ]
  },
  {
   "cell_type": "code",
   "execution_count": null,
   "metadata": {},
   "outputs": [
    {
     "name": "stdout",
     "output_type": "stream",
     "text": [
      "Suma de los números = 150, promedio = 30.0\n"
     ]
    }
   ],
   "source": [
    "f = open('datos5.txt', 'r')  # Abrir archivo en modo de lectura\n",
    "suma = 0\n",
    "for _ in range(5):\n",
    "    n = int(f.readline())  # Lea un número dentro de una línea de datos5.txt archivo\n",
    "    suma += n   # acumular y agregar a suma\n",
    "\n",
    "print('Suma de los números = {}, promedio = {}'.format(suma,suma/5))  # suma de impresión y promedio\n",
    "f.close() # cerrar el archivo\n"
   ]
  },
  {
   "cell_type": "markdown",
   "metadata": {},
   "source": [
    "Linea 4, 5\n",
    "\n",
    "n convierte las letras leídas a través de la línea de lectura en tipo int.\n",
    "\n",
    "Añade el valor n a la variable su acumulándolo.\n"
   ]
  },
  {
   "cell_type": "markdown",
   "metadata": {},
   "source": [
    "##### **4.14. Declaración With**"
   ]
  },
  {
   "cell_type": "markdown",
   "metadata": {},
   "source": [
    "With ~ como declaración : se puede utilizar para escribir y cerrar simplemente el texto en un archivo."
   ]
  },
  {
   "cell_type": "code",
   "execution_count": null,
   "metadata": {},
   "outputs": [],
   "source": [
    "with open('hola.txt', 'w') as f:  # Abrir y cerrar automáticamente archivo\n",
    "    f.write('Hola mundo! ')  # escribir en el archivo hello.txt"
   ]
  },
  {
   "cell_type": "markdown",
   "metadata": {},
   "source": [
    "No es necesario utilizar la cláusula finally porque f.close se realiza automáticamente después de que la escritura del archivo haya finalizado."
   ]
  },
  {
   "cell_type": "markdown",
   "metadata": {},
   "source": [
    "<table>\n",
    "<tr>\n",
    "  <td><strong>💡 Un paso más</strong></td>\n",
    "<tr>\n",
    "<tr>\n",
    "  <td>With declaración en Python.\n",
    "\n",
    "- La sentencia with es una forma de clarificar la gramática y manejar las excepciones fácilmente.\n",
    "- Define las funciones __enter__ y __exit_ ejecutadas por el gestor de contexto, reemplazando el código ejecutado en la parte delantera y trasera del cuerpo de la sintaxis with. \n",
    "- Usando la sentencia with, es posible un código conciso en nombre de try-except-finally.\n",
    "- Dado que la operación f.write siempre contiene la posibilidad de errores, debe codificarse como sigue utilizando la cláusula try.\n",
    "- También es importante cerrar el archivo, por lo que debe poner este código después de la cláusula final.\n",
    "- Este trabajo tan engorroso se puede hacer simplemente usando la sentencia with.\n",
    "</td>\n",
    "<tr>\n",
    "<table>"
   ]
  },
  {
   "cell_type": "code",
   "execution_count": null,
   "metadata": {},
   "outputs": [],
   "source": [
    "f = open('hola.txt', 'w')  # abrir documento\n",
    "try:\n",
    "    f.write('Hola mundo!')  # escribir en el archivo hola.txt\n",
    "finally: \n",
    "    f.close()  # cerrar el archivo"
   ]
  },
  {
   "cell_type": "markdown",
   "metadata": {},
   "source": [
    "<table>\n",
    "<tr>\n",
    "  <td><strong>💡 Un paso más</strong></td>\n",
    "<tr>\n",
    "<tr>\n",
    "  <td> ¿Qué es el gestor de contexto?\n",
    "\n",
    "- El gestor de contexto es una clase de Python que desempeña el papel de asignar y proporcionar recursos de forma precisa en el momento deseado.\n",
    "- El ordenador funciona utilizando la memoria y la CPU, y estos elementos informáticos se denominan recursos.\n",
    "- Si estos recursos no se gestionan adecuadamente, el ordenador no funcionará.\n",
    "- La clase principal que gestiona estos recursos es el gestor de contexto de Python.\n",
    "- Cerrar después de abrir un archivo es el papel principal del programa de gestión de recursos, por lo que el gestor de contexto desempeña este papel en Python.\n",
    "- El try-except-finally de la página anterior se describe en la Unidad 19 como una sentencia de manejo de excepciones.\n",
    "- Los detalles sobre esto están más allá del alcance de este curso.\n",
    "\n",
    "La sentencia With también es útil para simplificar la sintaxis que accede a la página abriendo una página web de la siguiente manera.\n",
    "\n",
    "Para abrir una página web, utilice un paquete llamado urlopen. Puedes importar el contenido de una página web a través de este paquete. En este caso, la sentencia with también es útil.\n",
    "\n",
    "El siguiente código es un código que trae el contenido de una página web llamada python.org.\n",
    "</td>\n",
    "<tr>\n",
    "<table>"
   ]
  },
  {
   "cell_type": "code",
   "execution_count": null,
   "metadata": {},
   "outputs": [
    {
     "name": "stdout",
     "output_type": "stream",
     "text": [
      "b'<!doctype html>\\n<!--[if lt IE 7]>   <html class=\"no-js ie6 lt-ie7 lt-ie8 lt-ie9\">   <![endif]-->\\n<!--[if IE 7]>      <html class=\"no-js ie7 lt-ie8 lt-ie9\">          <![endif]-->\\n<!--[if IE 8]>      <html class=\"no-js ie8 lt-ie9\">                 <![endif]-->\\n<!--[if gt IE 8]><!--><html class=\"no-js\" lang=\"en\" dir=\"ltr\">  <!--<![endif]-->\\n\\n<head>\\n    <meta charset=\"utf-8\">\\n    <meta http-equiv=\"X-UA-Compatible\" content=\"IE=edge\">\\n\\n    <link rel=\"prefetch\" href=\"//ajax.googleapis.com/ajax/libs/jquery/1.8.2/jquery.min.js\">\\n    <link rel=\"prefetch\" href=\"//ajax.googleapis.com/ajax/libs/jqueryui/1.12.1/jquery-ui.min.js\">\\n\\n    <meta name=\"application-name\" content=\"Python.org\">\\n    <meta name=\"msapplication-tooltip\" content=\"The official home of the Python Programming Language\">\\n    <meta name=\"apple-mobile-web-app-title\" content=\"Python.org\">\\n    <meta name=\"apple-mobile-web-app-capable\" content=\"yes\">\\n    <meta name=\"apple-mobile-web-app-status-bar-style\" content=\"black\">\\n\\n    <meta name=\"viewport\" content=\"width=device-width, initial-scale=1.0\">\\n    <meta name=\"HandheldFriendly\" content=\"True\">\\n    <meta name=\"format-detection\" content=\"telephone=no\">\\n    <meta http-equiv=\"cleartype\" content=\"on\">\\n    <meta http-equiv=\"imagetoolbar\" content=\"false\">\\n\\n    <script async\\n            src=\"https://media.ethicalads.io/media/client/v1.4.0/ethicalads.min.js\"\\n            integrity=\"sha256-U3hKDidudIaxBDEzwGJApJgPEf2mWk6cfMWghrAa6i0= sha384-UcmsCqcNRSLW/dV3Lo1oCi2/VaurXbib6p4HyUEOeIa/4OpsrnucrugAefzVZJfI sha512-q4t1L4xEjGV2R4hzqCa41P8jrgFUS8xTb8rdNv4FGvw7FpydVj/kkxBJHOiaoxHa8olCcx1Slk9K+3sNbsM4ug==\"\\n            crossorigin=\"anonymous\"\\n    ></script>\\n    <script src=\"/static/js/libs/modernizr.js\"></script>\\n\\n    <link href=\"/static/stylesheets/style.2135bffe4dde.css\" rel=\"stylesheet\" type=\"text/css\" media=\"all\" title=\"default\" />\\n    <link href=\"/static/stylesheets/mq.f9187444a4a1.css\" rel=\"stylesheet\" type=\"text/css\" media=\"not print, braille, embossed, speech, tty\" />\\n    \\n\\n    <!--[if (lte IE 8)&(!IEMobile)]>\\n    <link href=\"/static/stylesheets/no-mq.bf0c425cdb73.css\" rel=\"stylesheet\" type=\"text/css\" media=\"screen\" />\\n    \\n    \\n    <![endif]-->\\n    <link rel=\"stylesheet\" href=\"//ajax.googleapis.com/ajax/libs/jqueryui/1.12.1/themes/smoothness/jquery-ui.css\">\\n\\n    \\n    <link rel=\"icon\" type=\"image/x-icon\" href=\"/static/favicon.ico\">\\n    <link rel=\"apple-touch-icon-precomposed\" sizes=\"144x144\" href=\"/static/apple-touch-icon-144x144-precomposed.png\">\\n    <link rel=\"apple-touch-icon-precomposed\" sizes=\"114x114\" href=\"/static/apple-touch-icon-114x114-precomposed.png\">\\n    <link rel=\"apple-touch-icon-precomposed\" sizes=\"72x72\" href=\"/static/apple-touch-icon-72x72-precomposed.png\">\\n    <link rel=\"apple-touch-icon-precomposed\" href=\"/static/apple-touch-icon-precomposed.png\">\\n    <link rel=\"apple-touch-icon\" href=\"/static/apple-touch-icon-precomposed.png\">\\n\\n    \\n    <meta name=\"msapplication-TileImage\" content=\"/static/metro-icon-144x144-precomposed.png\"><!-- white shape -->\\n    <meta name=\"msapplication-TileColor\" content=\"#3673a5\"><!-- python blue -->\\n    <meta name=\"msapplication-navbutton-color\" content=\"#3673a5\">\\n\\n    <title>Welcome to Python.org</title>\\n\\n    <meta name=\"description\" content=\"The official home of the Python Programming Language\">\\n    <meta name=\"keywords\" content=\"Python programming language object oriented web free open source software license documentation download community\">\\n\\n    \\n    <meta property=\"og:type\" content=\"website\">\\n    <meta property=\"og:site_name\" content=\"Python.org\">\\n    <meta property=\"og:title\" content=\"Welcome to Python.org\">\\n    <meta property=\"og:description\" content=\"The official home of the Python Programming Language\">\\n    \\n    <meta property=\"og:image\" content=\"https://www.python.org/static/opengraph-icon-200x200.png\">\\n    <meta property=\"og:image:secure_url\" content=\"https://www.python.org/static/opengraph-icon-200x200.png\">\\n    \\n    <meta property=\"og:url\" content=\"https://www.python.org/\">\\n\\n    <link rel=\"author\" href=\"/static/humans.txt\">\\n\\n    <link rel=\"alternate\" type=\"application/rss+xml\" title=\"Python Enhancement Proposals\"\\n          href=\"https://www.python.org/dev/peps/peps.rss/\">\\n    <link rel=\"alternate\" type=\"application/rss+xml\" title=\"Python Job Opportunities\"\\n          href=\"https://www.python.org/jobs/feed/rss/\">\\n    <link rel=\"alternate\" type=\"application/rss+xml\" title=\"Python Software Foundation News\"\\n          href=\"https://feeds.feedburner.com/PythonSoftwareFoundationNews\">\\n    <link rel=\"alternate\" type=\"application/rss+xml\" title=\"Python Insider\"\\n          href=\"https://feeds.feedburner.com/PythonInsider\">\\n\\n    \\n\\n    \\n    <script type=\"application/ld+json\">\\n     {\\n       \"@context\": \"https://schema.org\",\\n       \"@type\": \"WebSite\",\\n       \"url\": \"https://www.python.org/\",\\n       \"potentialAction\": {\\n         \"@type\": \"SearchAction\",\\n         \"target\": \"https://www.python.org/search/?q={search_term_string}\",\\n         \"query-input\": \"required name=search_term_string\"\\n       }\\n     }\\n    </script>\\n\\n    \\n    <script type=\"text/javascript\">\\n    var _gaq = _gaq || [];\\n    _gaq.push([\\'_setAccount\\', \\'UA-39055973-1\\']);\\n    _gaq.push([\\'_trackPageview\\']);\\n\\n    (function() {\\n        var ga = document.createElement(\\'script\\'); ga.type = \\'text/javascript\\'; ga.async = true;\\n        ga.src = (\\'https:\\' == document.location.protocol ? \\'https://ssl\\' : \\'http://www\\') + \\'.google-analytics.com/ga.js\\';\\n        var s = document.getElementsByTagName(\\'script\\')[0]; s.parentNode.insertBefore(ga, s);\\n    })();\\n    </script>\\n    \\n</head>\\n\\n<body class=\"python home\" id=\"homepage\">\\n\\n    <div id=\"touchnav-wrapper\">\\n\\n        <div id=\"nojs\" class=\"do-not-print\">\\n            <p><strong>Notice:</strong> While JavaScript is not essential for this website, your interaction with the content will be limited. Please turn JavaScript on for the full experience. </p>\\n        </div>\\n\\n        <!--[if lte IE 8]>\\n        <div id=\"oldie-warning\" class=\"do-not-print\">\\n            <p>\\n                <strong>Notice:</strong> Your browser is <em>ancient</em>. Please\\n                <a href=\"http://browsehappy.com/\">upgrade to a different browser</a> to experience a better web.\\n            </p>\\n        </div>\\n        <![endif]-->\\n\\n        <!-- Sister Site Links -->\\n        <div id=\"top\" class=\"top-bar do-not-print\">\\n\\n            <nav class=\"meta-navigation container\" role=\"navigation\">\\n\\n                \\n                <div class=\"skip-link screen-reader-text\">\\n                    <a href=\"#content\" title=\"Skip to content\">Skip to content</a>\\n                </div>\\n\\n                \\n                <a id=\"close-python-network\" class=\"jump-link\" href=\"#python-network\" aria-hidden=\"true\">\\n                    <span aria-hidden=\"true\" class=\"icon-arrow-down\"><span>&#9660;</span></span> Close\\n                </a>\\n\\n                \\n\\n<ul class=\"menu\" role=\"tree\">\\n    \\n    <li class=\"python-meta current_item selectedcurrent_branch selected\">\\n        <a href=\"/\" title=\"The Python Programming Language\" class=\"current_item selectedcurrent_branch selected\">Python</a>\\n    </li>\\n    \\n    <li class=\"psf-meta \">\\n        <a href=\"/psf-landing/\" title=\"The Python Software Foundation\" >PSF</a>\\n    </li>\\n    \\n    <li class=\"docs-meta \">\\n        <a href=\"https://docs.python.org\" title=\"Python Documentation\" >Docs</a>\\n    </li>\\n    \\n    <li class=\"pypi-meta \">\\n        <a href=\"https://pypi.org/\" title=\"Python Package Index\" >PyPI</a>\\n    </li>\\n    \\n    <li class=\"jobs-meta \">\\n        <a href=\"/jobs/\" title=\"Python Job Board\" >Jobs</a>\\n    </li>\\n    \\n    <li class=\"shop-meta \">\\n        <a href=\"/community-landing/\"  >Community</a>\\n    </li>\\n    \\n</ul>\\n\\n\\n                <a id=\"python-network\" class=\"jump-link\" href=\"#top\" aria-hidden=\"true\">\\n                    <span aria-hidden=\"true\" class=\"icon-arrow-up\"><span>&#9650;</span></span> The Python Network\\n                </a>\\n\\n            </nav>\\n\\n        </div>\\n\\n        <!-- Header elements -->\\n        <header class=\"main-header\" role=\"banner\">\\n            <div class=\"container\">\\n\\n                <h1 class=\"site-headline\">\\n                    <a href=\"/\"><img class=\"python-logo\" src=\"/static/img/python-logo.png\" alt=\"python&trade;\"></a>\\n                </h1>\\n\\n                <div class=\"options-bar-container do-not-print\">\\n                    <a href=\"https://psfmember.org/civicrm/contribute/transact?reset=1&id=2\" class=\"donate-button\">Donate</a>\\n                    <div class=\"options-bar\">\\n                        \\n                        <a id=\"site-map-link\" class=\"jump-to-menu\" href=\"#site-map\"><span class=\"menu-icon\">&equiv;</span> Menu</a><form class=\"search-the-site\" action=\"/search/\" method=\"get\">\\n                            <fieldset title=\"Search Python.org\">\\n\\n                                <span aria-hidden=\"true\" class=\"icon-search\"></span>\\n\\n                                <label class=\"screen-reader-text\" for=\"id-search-field\">Search This Site</label>\\n                                <input id=\"id-search-field\" name=\"q\" type=\"search\" role=\"textbox\" class=\"search-field\" placeholder=\"Search\" value=\"\" tabindex=\"1\">\\n\\n                                <button type=\"submit\" name=\"submit\" id=\"submit\" class=\"search-button\" title=\"Submit this Search\" tabindex=\"3\">\\n                                    GO\\n                                </button>\\n\\n                                \\n                                <!--[if IE]><input type=\"text\" style=\"display: none;\" disabled=\"disabled\" size=\"1\" tabindex=\"4\"><![endif]-->\\n\\n                            </fieldset>\\n                        </form><span class=\"breaker\"></span><div class=\"adjust-font-size\" aria-hidden=\"true\">\\n                            <ul class=\"navigation menu\" aria-label=\"Adjust Text Size on Page\">\\n                                <li class=\"tier-1 last\" aria-haspopup=\"true\">\\n                                    <a href=\"#\" class=\"action-trigger\"><strong><small>A</small> A</strong></a>\\n                                    <ul class=\"subnav menu\">\\n                                        <li class=\"tier-2 element-1\" role=\"treeitem\"><a class=\"text-shrink\" title=\"Make Text Smaller\" href=\"javascript:;\">Smaller</a></li>\\n                                        <li class=\"tier-2 element-2\" role=\"treeitem\"><a class=\"text-grow\" title=\"Make Text Larger\" href=\"javascript:;\">Larger</a></li>\\n                                        <li class=\"tier-2 element-3\" role=\"treeitem\"><a class=\"text-reset\" title=\"Reset any font size changes I have made\" href=\"javascript:;\">Reset</a></li>\\n                                    </ul>\\n                                </li>\\n                            </ul>\\n                        </div><div class=\"winkwink-nudgenudge\">\\n                            <ul class=\"navigation menu\" aria-label=\"Social Media Navigation\">\\n                                <li class=\"tier-1 last\" aria-haspopup=\"true\">\\n                                    <a href=\"#\" class=\"action-trigger\">Socialize</a>\\n                                    <ul class=\"subnav menu\">\\n                                        <li class=\"tier-2 element-1\" role=\"treeitem\"><a href=\"https://www.facebook.com/pythonlang?fref=ts\"><span aria-hidden=\"true\" class=\"icon-facebook\"></span>Facebook</a></li>\\n                                        <li class=\"tier-2 element-2\" role=\"treeitem\"><a href=\"https://twitter.com/ThePSF\"><span aria-hidden=\"true\" class=\"icon-twitter\"></span>Twitter</a></li>\\n                                        <li class=\"tier-2 element-3\" role=\"treeitem\"><a href=\"/community/irc/\"><span aria-hidden=\"true\" class=\"icon-freenode\"></span>Chat on IRC</a></li>\\n                                    </ul>\\n                                </li>\\n                            </ul>\\n                        </div>\\n                        <span data-html-include=\"/authenticated\"></span>\\n                    </div><!-- end options-bar -->\\n                </div>\\n\\n                <nav id=\"mainnav\" class=\"python-navigation main-navigation do-not-print\" role=\"navigation\">\\n                    \\n                        \\n<ul class=\"navigation menu\" role=\"menubar\" aria-label=\"Main Navigation\">\\n  \\n    \\n    \\n    <li id=\"about\" class=\"tier-1 element-1  \" aria-haspopup=\"true\">\\n        <a href=\"/about/\" title=\"\" class=\"\">About</a>\\n        \\n            \\n\\n<ul class=\"subnav menu\" role=\"menu\" aria-hidden=\"true\">\\n    \\n        <li class=\"tier-2 element-1\" role=\"treeitem\"><a href=\"/about/apps/\" title=\"\">Applications</a></li>\\n    \\n        <li class=\"tier-2 element-2\" role=\"treeitem\"><a href=\"/about/quotes/\" title=\"\">Quotes</a></li>\\n    \\n        <li class=\"tier-2 element-3\" role=\"treeitem\"><a href=\"/about/gettingstarted/\" title=\"\">Getting Started</a></li>\\n    \\n        <li class=\"tier-2 element-4\" role=\"treeitem\"><a href=\"/about/help/\" title=\"\">Help</a></li>\\n    \\n        <li class=\"tier-2 element-5\" role=\"treeitem\"><a href=\"http://brochure.getpython.info/\" title=\"\">Python Brochure</a></li>\\n    \\n</ul>\\n\\n        \\n    </li>\\n    \\n    \\n    \\n    <li id=\"downloads\" class=\"tier-1 element-2  \" aria-haspopup=\"true\">\\n        <a href=\"/downloads/\" title=\"\" class=\"\">Downloads</a>\\n        \\n            \\n\\n<ul class=\"subnav menu\" role=\"menu\" aria-hidden=\"true\">\\n    \\n        <li class=\"tier-2 element-1\" role=\"treeitem\"><a href=\"/downloads/\" title=\"\">All releases</a></li>\\n    \\n        <li class=\"tier-2 element-2\" role=\"treeitem\"><a href=\"/downloads/source/\" title=\"\">Source code</a></li>\\n    \\n        <li class=\"tier-2 element-3\" role=\"treeitem\"><a href=\"/downloads/windows/\" title=\"\">Windows</a></li>\\n    \\n        <li class=\"tier-2 element-4\" role=\"treeitem\"><a href=\"/downloads/macos/\" title=\"\">macOS</a></li>\\n    \\n        <li class=\"tier-2 element-5\" role=\"treeitem\"><a href=\"/download/other/\" title=\"\">Other Platforms</a></li>\\n    \\n        <li class=\"tier-2 element-6\" role=\"treeitem\"><a href=\"https://docs.python.org/3/license.html\" title=\"\">License</a></li>\\n    \\n        <li class=\"tier-2 element-7\" role=\"treeitem\"><a href=\"/download/alternatives\" title=\"\">Alternative Implementations</a></li>\\n    \\n</ul>\\n\\n        \\n    </li>\\n    \\n    \\n    \\n    <li id=\"documentation\" class=\"tier-1 element-3  \" aria-haspopup=\"true\">\\n        <a href=\"/doc/\" title=\"\" class=\"\">Documentation</a>\\n        \\n            \\n\\n<ul class=\"subnav menu\" role=\"menu\" aria-hidden=\"true\">\\n    \\n        <li class=\"tier-2 element-1\" role=\"treeitem\"><a href=\"/doc/\" title=\"\">Docs</a></li>\\n    \\n        <li class=\"tier-2 element-2\" role=\"treeitem\"><a href=\"/doc/av\" title=\"\">Audio/Visual Talks</a></li>\\n    \\n        <li class=\"tier-2 element-3\" role=\"treeitem\"><a href=\"https://wiki.python.org/moin/BeginnersGuide\" title=\"\">Beginner&#39;s Guide</a></li>\\n    \\n        <li class=\"tier-2 element-4\" role=\"treeitem\"><a href=\"https://devguide.python.org/\" title=\"\">Developer&#39;s Guide</a></li>\\n    \\n        <li class=\"tier-2 element-5\" role=\"treeitem\"><a href=\"https://docs.python.org/faq/\" title=\"\">FAQ</a></li>\\n    \\n        <li class=\"tier-2 element-6\" role=\"treeitem\"><a href=\"http://wiki.python.org/moin/Languages\" title=\"\">Non-English Docs</a></li>\\n    \\n        <li class=\"tier-2 element-7\" role=\"treeitem\"><a href=\"http://python.org/dev/peps/\" title=\"\">PEP Index</a></li>\\n    \\n        <li class=\"tier-2 element-8\" role=\"treeitem\"><a href=\"https://wiki.python.org/moin/PythonBooks\" title=\"\">Python Books</a></li>\\n    \\n        <li class=\"tier-2 element-9\" role=\"treeitem\"><a href=\"/doc/essays/\" title=\"\">Python Essays</a></li>\\n    \\n</ul>\\n\\n        \\n    </li>\\n    \\n    \\n    \\n    <li id=\"community\" class=\"tier-1 element-4  \" aria-haspopup=\"true\">\\n        <a href=\"/community/\" title=\"\" class=\"\">Community</a>\\n        \\n            \\n\\n<ul class=\"subnav menu\" role=\"menu\" aria-hidden=\"true\">\\n    \\n        <li class=\"tier-2 element-1\" role=\"treeitem\"><a href=\"/community/diversity/\" title=\"\">Diversity</a></li>\\n    \\n        <li class=\"tier-2 element-2\" role=\"treeitem\"><a href=\"/community/lists/\" title=\"\">Mailing Lists</a></li>\\n    \\n        <li class=\"tier-2 element-3\" role=\"treeitem\"><a href=\"/community/irc/\" title=\"\">IRC</a></li>\\n    \\n        <li class=\"tier-2 element-4\" role=\"treeitem\"><a href=\"/community/forums/\" title=\"\">Forums</a></li>\\n    \\n        <li class=\"tier-2 element-5\" role=\"treeitem\"><a href=\"/psf/annual-report/2021/\" title=\"\">PSF Annual Impact Report</a></li>\\n    \\n        <li class=\"tier-2 element-6\" role=\"treeitem\"><a href=\"/community/workshops/\" title=\"\">Python Conferences</a></li>\\n    \\n        <li class=\"tier-2 element-7\" role=\"treeitem\"><a href=\"/community/sigs/\" title=\"\">Special Interest Groups</a></li>\\n    \\n        <li class=\"tier-2 element-8\" role=\"treeitem\"><a href=\"/community/logos/\" title=\"\">Python Logo</a></li>\\n    \\n        <li class=\"tier-2 element-9\" role=\"treeitem\"><a href=\"https://wiki.python.org/moin/\" title=\"\">Python Wiki</a></li>\\n    \\n        <li class=\"tier-2 element-10\" role=\"treeitem\"><a href=\"/community/merchandise/\" title=\"\">Merchandise</a></li>\\n    \\n        <li class=\"tier-2 element-11\" role=\"treeitem\"><a href=\"/community/awards\" title=\"\">Community Awards</a></li>\\n    \\n        <li class=\"tier-2 element-12\" role=\"treeitem\"><a href=\"/psf/conduct/\" title=\"\">Code of Conduct</a></li>\\n    \\n        <li class=\"tier-2 element-13\" role=\"treeitem\"><a href=\"/psf/get-involved/\" title=\"\">Get Involved</a></li>\\n    \\n        <li class=\"tier-2 element-14\" role=\"treeitem\"><a href=\"/psf/community-stories/\" title=\"\">Shared Stories</a></li>\\n    \\n</ul>\\n\\n        \\n    </li>\\n    \\n    \\n    \\n    <li id=\"success-stories\" class=\"tier-1 element-5  \" aria-haspopup=\"true\">\\n        <a href=\"/success-stories/\" title=\"success-stories\" class=\"\">Success Stories</a>\\n        \\n            \\n\\n<ul class=\"subnav menu\" role=\"menu\" aria-hidden=\"true\">\\n    \\n        <li class=\"tier-2 element-1\" role=\"treeitem\"><a href=\"/success-stories/category/arts/\" title=\"\">Arts</a></li>\\n    \\n        <li class=\"tier-2 element-2\" role=\"treeitem\"><a href=\"/success-stories/category/business/\" title=\"\">Business</a></li>\\n    \\n        <li class=\"tier-2 element-3\" role=\"treeitem\"><a href=\"/success-stories/category/education/\" title=\"\">Education</a></li>\\n    \\n        <li class=\"tier-2 element-4\" role=\"treeitem\"><a href=\"/success-stories/category/engineering/\" title=\"\">Engineering</a></li>\\n    \\n        <li class=\"tier-2 element-5\" role=\"treeitem\"><a href=\"/success-stories/category/government/\" title=\"\">Government</a></li>\\n    \\n        <li class=\"tier-2 element-6\" role=\"treeitem\"><a href=\"/success-stories/category/scientific/\" title=\"\">Scientific</a></li>\\n    \\n        <li class=\"tier-2 element-7\" role=\"treeitem\"><a href=\"/success-stories/category/software-development/\" title=\"\">Software Development</a></li>\\n    \\n</ul>\\n\\n        \\n    </li>\\n    \\n    \\n    \\n    <li id=\"news\" class=\"tier-1 element-6  \" aria-haspopup=\"true\">\\n        <a href=\"/blogs/\" title=\"News from around the Python world\" class=\"\">News</a>\\n        \\n            \\n\\n<ul class=\"subnav menu\" role=\"menu\" aria-hidden=\"true\">\\n    \\n        <li class=\"tier-2 element-1\" role=\"treeitem\"><a href=\"/blogs/\" title=\"Python Insider Blog Posts\">Python News</a></li>\\n    \\n        <li class=\"tier-2 element-2\" role=\"treeitem\"><a href=\"/psf/newsletter/\" title=\"Python Software Foundation Newsletter\">PSF Newsletter</a></li>\\n    \\n        <li class=\"tier-2 element-3\" role=\"treeitem\"><a href=\"http://planetpython.org/\" title=\"Planet Python\">Community News</a></li>\\n    \\n        <li class=\"tier-2 element-4\" role=\"treeitem\"><a href=\"http://pyfound.blogspot.com/\" title=\"PSF Blog\">PSF News</a></li>\\n    \\n        <li class=\"tier-2 element-5\" role=\"treeitem\"><a href=\"http://pycon.blogspot.com/\" title=\"PyCon Blog\">PyCon News</a></li>\\n    \\n</ul>\\n\\n        \\n    </li>\\n    \\n    \\n    \\n    <li id=\"events\" class=\"tier-1 element-7  \" aria-haspopup=\"true\">\\n        <a href=\"/events/\" title=\"\" class=\"\">Events</a>\\n        \\n            \\n\\n<ul class=\"subnav menu\" role=\"menu\" aria-hidden=\"true\">\\n    \\n        <li class=\"tier-2 element-1\" role=\"treeitem\"><a href=\"/events/python-events/\" title=\"\">Python Events</a></li>\\n    \\n        <li class=\"tier-2 element-2\" role=\"treeitem\"><a href=\"/events/python-user-group/\" title=\"\">User Group Events</a></li>\\n    \\n        <li class=\"tier-2 element-3\" role=\"treeitem\"><a href=\"/events/python-events/past/\" title=\"\">Python Events Archive</a></li>\\n    \\n        <li class=\"tier-2 element-4\" role=\"treeitem\"><a href=\"/events/python-user-group/past/\" title=\"\">User Group Events Archive</a></li>\\n    \\n        <li class=\"tier-2 element-5\" role=\"treeitem\"><a href=\"https://wiki.python.org/moin/PythonEventsCalendar#Submitting_an_Event\" title=\"\">Submit an Event</a></li>\\n    \\n</ul>\\n\\n        \\n    </li>\\n    \\n    \\n    \\n    \\n  \\n</ul>\\n\\n                    \\n                </nav>\\n\\n                <div class=\"header-banner \"> <!-- for optional \"do-not-print\" class -->\\n                    \\n        <div id=\"dive-into-python\" class=\"flex-slideshow slideshow\">\\n\\n            <ul class=\"launch-shell menu\" id=\"launch-shell\">\\n                <li>\\n                    <a class=\"button prompt\" id=\"start-shell\" data-shell-container=\"#dive-into-python\" href=\"/shell/\">&gt;_\\n                        <span class=\"message\">Launch Interactive Shell</span>\\n                    </a>\\n                </li>\\n            </ul>\\n\\n            <ul class=\"slides menu\">\\n                \\n                <li>\\n                    <div class=\"slide-code\"><pre><code><span class=\"comment\"># Python 3: Fibonacci series up to n</span>\\r\\n>>> def fib(n):\\r\\n>>>     a, b = 0, 1\\r\\n>>>     while a &lt; n:\\r\\n>>>         print(a, end=\\' \\')\\r\\n>>>         a, b = b, a+b\\r\\n>>>     print()\\r\\n>>> fib(1000)\\r\\n<span class=\"output\">0 1 1 2 3 5 8 13 21 34 55 89 144 233 377 610 987</span></code></pre></div>\\n                    <div class=\"slide-copy\"><h1>Functions Defined</h1>\\r\\n<p>The core of extensible programming is defining functions. Python allows mandatory and optional arguments, keyword arguments, and even arbitrary argument lists. <a href=\"//docs.python.org/3/tutorial/controlflow.html#defining-functions\">More about defining functions in Python&nbsp;3</a></p></div>\\n                </li>\\n                \\n                <li>\\n                    <div class=\"slide-code\"><pre><code><span class=\"comment\"># Python 3: List comprehensions</span>\\r\\n>>> fruits = [\\'Banana\\', \\'Apple\\', \\'Lime\\']\\r\\n>>> loud_fruits = [fruit.upper() for fruit in fruits]\\r\\n>>> print(loud_fruits)\\r\\n<span class=\"output\">[\\'BANANA\\', \\'APPLE\\', \\'LIME\\']</span>\\r\\n\\r\\n<span class=\"comment\"># List and the enumerate function</span>\\r\\n>>> list(enumerate(fruits))\\r\\n<span class=\"output\">[(0, \\'Banana\\'), (1, \\'Apple\\'), (2, \\'Lime\\')]</span></code></pre></div>\\n                    <div class=\"slide-copy\"><h1>Compound Data Types</h1>\\r\\n<p>Lists (known as arrays in other languages) are one of the compound data types that Python understands. Lists can be indexed, sliced and manipulated with other built-in functions. <a href=\"//docs.python.org/3/tutorial/introduction.html#lists\">More about lists in Python&nbsp;3</a></p></div>\\n                </li>\\n                \\n                <li>\\n                    <div class=\"slide-code\"><pre><code><span class=\"comment\"># Python 3: Simple arithmetic</span>\\r\\n>>> 1 / 2\\r\\n<span class=\"output\">0.5</span>\\r\\n>>> 2 ** 3\\r\\n<span class=\"output\">8</span>\\r\\n>>> 17 / 3  <span class=\"comment\"># classic division returns a float</span>\\r\\n<span class=\"output\">5.666666666666667</span>\\r\\n>>> 17 // 3  <span class=\"comment\"># floor division</span>\\r\\n<span class=\"output\">5</span></code></pre></div>\\n                    <div class=\"slide-copy\"><h1>Intuitive Interpretation</h1>\\r\\n<p>Calculations are simple with Python, and expression syntax is straightforward: the operators <code>+</code>, <code>-</code>, <code>*</code> and <code>/</code> work as expected; parentheses <code>()</code> can be used for grouping. <a href=\"http://docs.python.org/3/tutorial/introduction.html#using-python-as-a-calculator\">More about simple math functions in Python&nbsp;3</a>.</p></div>\\n                </li>\\n                \\n                <li>\\n                    <div class=\"slide-code\"><pre><code><span class=\"comment\"># Python 3: Simple output (with Unicode)</span>\\r\\n>>> print(\"Hello, I\\'m Python!\")\\r\\n<span class=\"output\">Hello, I\\'m Python!</span>\\r\\n\\r\\n<span class=\"comment\"># Input, assignment</span>\\r\\n>>> name = input(\\'What is your name?\\\\n\\')\\r\\n>>> print(\\'Hi, %s.\\' % name)\\r\\n<span class=\"output\">What is your name?\\r\\nPython\\r\\nHi, Python.</span></code></pre></div>\\n                    <div class=\"slide-copy\"><h1>Quick &amp; Easy to Learn</h1>\\r\\n<p>Experienced programmers in any other language can pick up Python very quickly, and beginners find the clean syntax and indentation structure easy to learn. <a href=\"//docs.python.org/3/tutorial/\">Whet your appetite</a> with our Python&nbsp;3 overview.</p>\\r\\n                   </div>\\n                </li>\\n                \\n                <li>\\n                    <div class=\"slide-code\"><pre><code><span class=\"comment\"># For loop on a list</span>\\r\\n>>> numbers = [2, 4, 6, 8]\\r\\n>>> product = 1\\r\\n>>> for number in numbers:\\r\\n...    product = product * number\\r\\n... \\r\\n>>> print(\\'The product is:\\', product)\\r\\n<span class=\"output\">The product is: 384</span></code></pre></div>\\n                    <div class=\"slide-copy\"><h1>All the Flow You&rsquo;d Expect</h1>\\r\\n<p>Python knows the usual control flow statements that other languages speak &mdash; <code>if</code>, <code>for</code>, <code>while</code> and <code>range</code> &mdash; with some of its own twists, of course. <a href=\"//docs.python.org/3/tutorial/controlflow.html\">More control flow tools in Python&nbsp;3</a></p></div>\\n                </li>\\n                \\n            </ul>\\n        </div>\\n\\n\\n                </div>\\n\\n                \\n        <div class=\"introduction\">\\n            <p>Python is a programming language that lets you work quickly <span class=\"breaker\"></span>and integrate systems more effectively. <a class=\"readmore\" href=\"/doc/\">Learn More</a></p>\\n        </div>\\n\\n\\n             </div><!-- end .container -->\\n        </header>\\n\\n        <div id=\"content\" class=\"content-wrapper\">\\n            <!-- Main Content Column -->\\n            <div class=\"container\">\\n\\n                <section class=\"main-content \" role=\"main\">\\n\\n                    \\n                    \\n\\n                    \\n\\n                    \\n\\n                \\n\\n                <div class=\"row\">\\n\\n                    <div class=\"small-widget get-started-widget\">\\n                        <h2 class=\"widget-title\"><span aria-hidden=\"true\" class=\"icon-get-started\"></span>Get Started</h2>\\r\\n<p>Whether you\\'re new to programming or an experienced developer, it\\'s easy to learn and use Python.</p>\\r\\n<p><a href=\"/about/gettingstarted/\">Start with our Beginner&rsquo;s Guide</a></p>\\n                    </div>\\n\\n                    <div class=\"small-widget download-widget\">\\n                        <h2 class=\"widget-title\"><span aria-hidden=\"true\" class=\"icon-download\"></span>Download</h2>\\n<p>Python source code and installers are available for download for all versions!</p>\\n<p>Latest: <a href=\"/downloads/release/python-3107/\">Python 3.10.7</a></p>\\n                    </div>\\n\\n                    <div class=\"small-widget documentation-widget\">\\n                        <h2 class=\"widget-title\"><span aria-hidden=\"true\" class=\"icon-documentation\"></span>Docs</h2>\\r\\n<p>Documentation for Python\\'s standard library, along with tutorials and guides, are available online.</p>\\r\\n<p><a href=\"https://docs.python.org\">docs.python.org</a></p>\\n                    </div>\\n\\n                    <div class=\"small-widget jobs-widget last\">\\n                        <h2 class=\"widget-title\"><span aria-hidden=\"true\" class=\"icon-jobs\"></span>Jobs</h2>\\r\\n<p>Looking for work or have a Python related position that you\\'re trying to hire for? Our <strong>relaunched community-run job board</strong> is the place to go.</p>\\r\\n<p><a href=\"//jobs.python.org\">jobs.python.org</a></p>\\n                    </div>\\n\\n                </div>\\n\\n                <div class=\"list-widgets row\">\\n\\n                    <div class=\"medium-widget blog-widget\">\\n                        \\n                        <div class=\"shrubbery\">\\n                        \\n                            <h2 class=\"widget-title\"><span aria-hidden=\"true\" class=\"icon-news\"></span>Latest News</h2>\\n                            <p class=\"give-me-more\"><a href=\"https://blog.python.org\" title=\"More News\">More</a></p>\\n                            \\n                            <ul class=\"menu\">\\n                                \\n                                \\n                                <li>\\n<time datetime=\"2022-09-12T11:26:00+00:00\"><span class=\"say-no-more\">2022-</span>09-12</time>\\n <a href=\"https://pythoninsider.blogspot.com/2022/09/python-3110rc2-is-now-available.html\">Python 3.11.0rc2 is now available</a></li>\\n                                \\n                                <li>\\n<time datetime=\"2022-09-07T13:03:00.000002+00:00\"><span class=\"say-no-more\">2022-</span>09-07</time>\\n <a href=\"https://pythoninsider.blogspot.com/2022/09/python-releases-3107-3914-3814-and-3714.html\">Python releases 3.10.7, 3.9.14, 3.8.14, and 3.7.14 are now available</a></li>\\n                                \\n                                <li>\\n<time datetime=\"2022-08-08T17:17:00+00:00\"><span class=\"say-no-more\">2022-</span>08-08</time>\\n <a href=\"https://pythoninsider.blogspot.com/2022/08/python-3110rc1-is-now-available.html\">Python 3.11.0rc1 is now available</a></li>\\n                                \\n                                <li>\\n<time datetime=\"2022-08-02T10:14:00.000001+00:00\"><span class=\"say-no-more\">2022-</span>08-02</time>\\n <a href=\"https://pythoninsider.blogspot.com/2022/08/python-3106-is-available.html\">Python 3.10.6 is available</a></li>\\n                                \\n                                <li>\\n<time datetime=\"2022-07-26T10:29:00.000001+00:00\"><span class=\"say-no-more\">2022-</span>07-26</time>\\n <a href=\"https://pythoninsider.blogspot.com/2022/07/python-3110b5-is-now-available.html\">Python 3.11.0b5 is now available</a></li>\\n                                \\n                            </ul>\\n                        </div><!-- end .shrubbery -->\\n\\n                    </div>\\n\\n                    <div class=\"medium-widget event-widget last\">\\n                        \\n                        <div class=\"shrubbery\">\\n                        \\n                            <h2 class=\"widget-title\"><span aria-hidden=\"true\" class=\"icon-calendar\"></span>Upcoming Events</h2>\\n                            <p class=\"give-me-more\"><a href=\"/events/calendars/\" title=\"More Events\">More</a></p>\\n                            \\n                            <ul class=\"menu\">\\n                                \\n                                \\n                                \\n                                <li>\\n<time datetime=\"2022-09-21T00:00:00+00:00\"><span class=\"say-no-more\">2022-</span>09-21</time>\\n <a href=\"/events/python-events/1209/\">DjangoCon Europe 2022</a></li>\\n                                \\n                                \\n                                \\n                                <li>\\n<time datetime=\"2022-09-21T06:30:00+00:00\"><span class=\"say-no-more\">2022-</span>09-21</time>\\n <a href=\"/events/python-user-group/1337/\">An applied introduction to Finite State Machines</a></li>\\n                                \\n                                \\n                                \\n                                <li>\\n<time datetime=\"2022-09-24T00:00:00+00:00\"><span class=\"say-no-more\">2022-</span>09-24</time>\\n <a href=\"/events/python-events/1208/\">PyCon Portugal 2022</a></li>\\n                                \\n                                \\n                                \\n                                <li>\\n<time datetime=\"2022-09-26T00:00:00+00:00\"><span class=\"say-no-more\">2022-</span>09-26</time>\\n <a href=\"/events/python-user-group/1334/\">Scikit-learn Sprint Salta AR 2022</a></li>\\n                                \\n                                \\n                                \\n                                <li>\\n<time datetime=\"2022-09-26T00:00:00+00:00\"><span class=\"say-no-more\">2022-</span>09-26</time>\\n <a href=\"/events/python-user-group/1333/\">Jupyter Sprint</a></li>\\n                                \\n                                \\n                            </ul>\\n                        </div>\\n\\n                    </div>\\n\\n                </div>\\n\\n                <div class=\"row\">\\n\\n                    <div class=\"medium-widget success-stories-widget\">\\n                        \\n\\n\\n\\n                        <div class=\"shrubbery\">\\n                            \\n\\n                            <h2 class=\"widget-title\"><span aria-hidden=\"true\" class=\"icon-success-stories\"></span>Success Stories</h2>\\n                            <p class=\"give-me-more\"><a href=\"/success-stories/\" title=\"More Success Stories\">More</a></p>\\n\\n                            \\n                            <div class=\"success-story-item\" id=\"success-story-1102\">\\n\\n                            <blockquote>\\n                                <a href=\"/success-stories/deliver-clean-and-safe-code-for-your-python-applications/\">&quot;Some of the things [SonarCloud] spots are impressive (probably driven by some introspection and/or type inference), not just the simple pattern matching that I am used to in most of the flake8 ecosystem.&quot;\\r\\n- Peter J. A. Cock - maintainer of BioPython</a>\\n                            </blockquote>\\n\\n                            <table cellpadding=\"0\" cellspacing=\"0\" border=\"0\" width=\"100%\" class=\"quote-from\">\\n                                <tbody>\\n                                    <tr>\\n                                        \\n                                        <td><p><a href=\"/success-stories/deliver-clean-and-safe-code-for-your-python-applications/\">Deliver Clean and Safe Code for Your Python Applications</a> <em>by Kirti Joshi, Nicolas Bontoux</em></p></td>\\n                                    </tr>\\n                                </tbody>\\n                            </table>\\n                            </div>\\n                            \\n\\n                        </div><!-- end .shrubbery -->\\n\\n                    </div>\\n\\n                    <div class=\"medium-widget applications-widget last\">\\n                        <div class=\"shrubbery\">\\n                            <h2 class=\"widget-title\"><span aria-hidden=\"true\" class=\"icon-python\"></span>Use Python for&hellip;</h2>\\r\\n<p class=\"give-me-more\"><a href=\"/about/apps\" title=\"More Applications\">More</a></p>\\r\\n\\r\\n<ul class=\"menu\">\\r\\n    <li><b>Web Development</b>:\\r\\n        <span class=\"tag-wrapper\"><a class=\"tag\" href=\"http://www.djangoproject.com/\">Django</a>, <a class=\"tag\" href=\"http://www.pylonsproject.org/\">Pyramid</a>, <a class=\"tag\" href=\"http://bottlepy.org\">Bottle</a>, <a class=\"tag\" href=\"http://tornadoweb.org\">Tornado</a>, <a href=\"http://flask.pocoo.org/\" class=\"tag\">Flask</a>, <a class=\"tag\" href=\"http://www.web2py.com/\">web2py</a></span></li>\\r\\n    <li><b>GUI Development</b>:\\r\\n        <span class=\"tag-wrapper\"><a class=\"tag\" href=\"http://wiki.python.org/moin/TkInter\">tkInter</a>, <a class=\"tag\" href=\"https://wiki.gnome.org/Projects/PyGObject\">PyGObject</a>, <a class=\"tag\" href=\"http://www.riverbankcomputing.co.uk/software/pyqt/intro\">PyQt</a>, <a class=\"tag\" href=\"https://wiki.qt.io/PySide\">PySide</a>, <a class=\"tag\" href=\"https://kivy.org/\">Kivy</a>, <a class=\"tag\" href=\"http://www.wxpython.org/\">wxPython</a></span></li>\\r\\n    <li><b>Scientific and Numeric</b>:\\r\\n        <span class=\"tag-wrapper\">\\r\\n<a class=\"tag\" href=\"http://www.scipy.org\">SciPy</a>, <a class=\"tag\" href=\"http://pandas.pydata.org/\">Pandas</a>, <a href=\"http://ipython.org\" class=\"tag\">IPython</a></span></li>\\r\\n    <li><b>Software Development</b>:\\r\\n        <span class=\"tag-wrapper\"><a class=\"tag\" href=\"http://buildbot.net/\">Buildbot</a>, <a class=\"tag\" href=\"http://trac.edgewall.org/\">Trac</a>, <a class=\"tag\" href=\"http://roundup.sourceforge.net/\">Roundup</a></span></li>\\r\\n    <li><b>System Administration</b>:\\r\\n        <span class=\"tag-wrapper\"><a class=\"tag\" href=\"http://www.ansible.com\">Ansible</a>, <a class=\"tag\" href=\"https://saltproject.io\">Salt</a>, <a class=\"tag\" href=\"https://www.openstack.org\">OpenStack</a>, <a class=\"tag\" href=\"https://xon.sh\">xonsh</a></span></li>\\r\\n</ul>\\n                        </div><!-- end .shrubbery -->\\n                    </div>\\n\\n                </div>\\n\\n                \\n                <div class=\"pep-widget\">\\n\\n                    <h2 class=\"widget-title\">\\n                        <span class=\"prompt\">&gt;&gt;&gt;</span> <a href=\"/dev/peps/\">Python Enhancement Proposals<span class=\"say-no-more\"> (PEPs)</span></a>: The future of Python<span class=\"say-no-more\"> is discussed here.</span>\\n                        <a aria-hidden=\"true\" class=\"rss-link\" href=\"/dev/peps/peps.rss\"><span class=\"icon-feed\"></span> RSS</a>\\n                    </h2>\\n\\n\\n                    \\n                    \\n                </div>\\n\\n                                <div class=\"psf-widget\">\\n\\n                    <div class=\"python-logo\"></div>\\n                    \\n                    <h2 class=\"widget-title\">\\r\\n    <span class=\"prompt\">&gt;&gt;&gt;</span> <a href=\"/psf/\">Python Software Foundation</a>\\r\\n</h2>\\r\\n<p>The mission of the Python Software Foundation is to promote, protect, and advance the Python programming language, and to support and facilitate the growth of a diverse and international community of Python programmers. <a class=\"readmore\" href=\"/psf/\">Learn more</a> </p>\\r\\n<p class=\"click-these\">\\r\\n    <a class=\"button\" href=\"/users/membership/\">Become a Member</a>\\r\\n    <a class=\"button\" href=\"/psf/donations/\">Donate to the PSF</a>\\r\\n</p>\\n                </div>\\n\\n\\n\\n\\n                </section>\\n\\n                \\n                \\n\\n                \\n                \\n\\n\\n            </div><!-- end .container -->\\n        </div><!-- end #content .content-wrapper -->\\n\\n        <!-- Footer and social media list -->\\n        \\n        <footer id=\"site-map\" class=\"main-footer\" role=\"contentinfo\">\\n            <div class=\"main-footer-links\">\\n                <div class=\"container\">\\n\\n                    \\n                    <a id=\"back-to-top-1\" class=\"jump-link\" href=\"#python-network\"><span aria-hidden=\"true\" class=\"icon-arrow-up\"><span>&#9650;</span></span> Back to Top</a>\\n\\n                    \\n\\n<ul class=\"sitemap navigation menu do-not-print\" role=\"tree\" id=\"container\">\\n    \\n    <li class=\"tier-1 element-1\">\\n        <a href=\"/about/\" >About</a>\\n        \\n            \\n\\n<ul class=\"subnav menu\">\\n    \\n        <li class=\"tier-2 element-1\" role=\"treeitem\"><a href=\"/about/apps/\" title=\"\">Applications</a></li>\\n    \\n        <li class=\"tier-2 element-2\" role=\"treeitem\"><a href=\"/about/quotes/\" title=\"\">Quotes</a></li>\\n    \\n        <li class=\"tier-2 element-3\" role=\"treeitem\"><a href=\"/about/gettingstarted/\" title=\"\">Getting Started</a></li>\\n    \\n        <li class=\"tier-2 element-4\" role=\"treeitem\"><a href=\"/about/help/\" title=\"\">Help</a></li>\\n    \\n        <li class=\"tier-2 element-5\" role=\"treeitem\"><a href=\"http://brochure.getpython.info/\" title=\"\">Python Brochure</a></li>\\n    \\n</ul>\\n\\n        \\n    </li>\\n    \\n    <li class=\"tier-1 element-2\">\\n        <a href=\"/downloads/\" >Downloads</a>\\n        \\n            \\n\\n<ul class=\"subnav menu\">\\n    \\n        <li class=\"tier-2 element-1\" role=\"treeitem\"><a href=\"/downloads/\" title=\"\">All releases</a></li>\\n    \\n        <li class=\"tier-2 element-2\" role=\"treeitem\"><a href=\"/downloads/source/\" title=\"\">Source code</a></li>\\n    \\n        <li class=\"tier-2 element-3\" role=\"treeitem\"><a href=\"/downloads/windows/\" title=\"\">Windows</a></li>\\n    \\n        <li class=\"tier-2 element-4\" role=\"treeitem\"><a href=\"/downloads/macos/\" title=\"\">macOS</a></li>\\n    \\n        <li class=\"tier-2 element-5\" role=\"treeitem\"><a href=\"/download/other/\" title=\"\">Other Platforms</a></li>\\n    \\n        <li class=\"tier-2 element-6\" role=\"treeitem\"><a href=\"https://docs.python.org/3/license.html\" title=\"\">License</a></li>\\n    \\n        <li class=\"tier-2 element-7\" role=\"treeitem\"><a href=\"/download/alternatives\" title=\"\">Alternative Implementations</a></li>\\n    \\n</ul>\\n\\n        \\n    </li>\\n    \\n    <li class=\"tier-1 element-3\">\\n        <a href=\"/doc/\" >Documentation</a>\\n        \\n            \\n\\n<ul class=\"subnav menu\">\\n    \\n        <li class=\"tier-2 element-1\" role=\"treeitem\"><a href=\"/doc/\" title=\"\">Docs</a></li>\\n    \\n        <li class=\"tier-2 element-2\" role=\"treeitem\"><a href=\"/doc/av\" title=\"\">Audio/Visual Talks</a></li>\\n    \\n        <li class=\"tier-2 element-3\" role=\"treeitem\"><a href=\"https://wiki.python.org/moin/BeginnersGuide\" title=\"\">Beginner&#39;s Guide</a></li>\\n    \\n        <li class=\"tier-2 element-4\" role=\"treeitem\"><a href=\"https://devguide.python.org/\" title=\"\">Developer&#39;s Guide</a></li>\\n    \\n        <li class=\"tier-2 element-5\" role=\"treeitem\"><a href=\"https://docs.python.org/faq/\" title=\"\">FAQ</a></li>\\n    \\n        <li class=\"tier-2 element-6\" role=\"treeitem\"><a href=\"http://wiki.python.org/moin/Languages\" title=\"\">Non-English Docs</a></li>\\n    \\n        <li class=\"tier-2 element-7\" role=\"treeitem\"><a href=\"http://python.org/dev/peps/\" title=\"\">PEP Index</a></li>\\n    \\n        <li class=\"tier-2 element-8\" role=\"treeitem\"><a href=\"https://wiki.python.org/moin/PythonBooks\" title=\"\">Python Books</a></li>\\n    \\n        <li class=\"tier-2 element-9\" role=\"treeitem\"><a href=\"/doc/essays/\" title=\"\">Python Essays</a></li>\\n    \\n</ul>\\n\\n        \\n    </li>\\n    \\n    <li class=\"tier-1 element-4\">\\n        <a href=\"/community/\" >Community</a>\\n        \\n            \\n\\n<ul class=\"subnav menu\">\\n    \\n        <li class=\"tier-2 element-1\" role=\"treeitem\"><a href=\"/community/diversity/\" title=\"\">Diversity</a></li>\\n    \\n        <li class=\"tier-2 element-2\" role=\"treeitem\"><a href=\"/community/lists/\" title=\"\">Mailing Lists</a></li>\\n    \\n        <li class=\"tier-2 element-3\" role=\"treeitem\"><a href=\"/community/irc/\" title=\"\">IRC</a></li>\\n    \\n        <li class=\"tier-2 element-4\" role=\"treeitem\"><a href=\"/community/forums/\" title=\"\">Forums</a></li>\\n    \\n        <li class=\"tier-2 element-5\" role=\"treeitem\"><a href=\"/psf/annual-report/2021/\" title=\"\">PSF Annual Impact Report</a></li>\\n    \\n        <li class=\"tier-2 element-6\" role=\"treeitem\"><a href=\"/community/workshops/\" title=\"\">Python Conferences</a></li>\\n    \\n        <li class=\"tier-2 element-7\" role=\"treeitem\"><a href=\"/community/sigs/\" title=\"\">Special Interest Groups</a></li>\\n    \\n        <li class=\"tier-2 element-8\" role=\"treeitem\"><a href=\"/community/logos/\" title=\"\">Python Logo</a></li>\\n    \\n        <li class=\"tier-2 element-9\" role=\"treeitem\"><a href=\"https://wiki.python.org/moin/\" title=\"\">Python Wiki</a></li>\\n    \\n        <li class=\"tier-2 element-10\" role=\"treeitem\"><a href=\"/community/merchandise/\" title=\"\">Merchandise</a></li>\\n    \\n        <li class=\"tier-2 element-11\" role=\"treeitem\"><a href=\"/community/awards\" title=\"\">Community Awards</a></li>\\n    \\n        <li class=\"tier-2 element-12\" role=\"treeitem\"><a href=\"/psf/conduct/\" title=\"\">Code of Conduct</a></li>\\n    \\n        <li class=\"tier-2 element-13\" role=\"treeitem\"><a href=\"/psf/get-involved/\" title=\"\">Get Involved</a></li>\\n    \\n        <li class=\"tier-2 element-14\" role=\"treeitem\"><a href=\"/psf/community-stories/\" title=\"\">Shared Stories</a></li>\\n    \\n</ul>\\n\\n        \\n    </li>\\n    \\n    <li class=\"tier-1 element-5\">\\n        <a href=\"/success-stories/\" title=\"success-stories\">Success Stories</a>\\n        \\n            \\n\\n<ul class=\"subnav menu\">\\n    \\n        <li class=\"tier-2 element-1\" role=\"treeitem\"><a href=\"/success-stories/category/arts/\" title=\"\">Arts</a></li>\\n    \\n        <li class=\"tier-2 element-2\" role=\"treeitem\"><a href=\"/success-stories/category/business/\" title=\"\">Business</a></li>\\n    \\n        <li class=\"tier-2 element-3\" role=\"treeitem\"><a href=\"/success-stories/category/education/\" title=\"\">Education</a></li>\\n    \\n        <li class=\"tier-2 element-4\" role=\"treeitem\"><a href=\"/success-stories/category/engineering/\" title=\"\">Engineering</a></li>\\n    \\n        <li class=\"tier-2 element-5\" role=\"treeitem\"><a href=\"/success-stories/category/government/\" title=\"\">Government</a></li>\\n    \\n        <li class=\"tier-2 element-6\" role=\"treeitem\"><a href=\"/success-stories/category/scientific/\" title=\"\">Scientific</a></li>\\n    \\n        <li class=\"tier-2 element-7\" role=\"treeitem\"><a href=\"/success-stories/category/software-development/\" title=\"\">Software Development</a></li>\\n    \\n</ul>\\n\\n        \\n    </li>\\n    \\n    <li class=\"tier-1 element-6\">\\n        <a href=\"/blogs/\" title=\"News from around the Python world\">News</a>\\n        \\n            \\n\\n<ul class=\"subnav menu\">\\n    \\n        <li class=\"tier-2 element-1\" role=\"treeitem\"><a href=\"/blogs/\" title=\"Python Insider Blog Posts\">Python News</a></li>\\n    \\n        <li class=\"tier-2 element-2\" role=\"treeitem\"><a href=\"/psf/newsletter/\" title=\"Python Software Foundation Newsletter\">PSF Newsletter</a></li>\\n    \\n        <li class=\"tier-2 element-3\" role=\"treeitem\"><a href=\"http://planetpython.org/\" title=\"Planet Python\">Community News</a></li>\\n    \\n        <li class=\"tier-2 element-4\" role=\"treeitem\"><a href=\"http://pyfound.blogspot.com/\" title=\"PSF Blog\">PSF News</a></li>\\n    \\n        <li class=\"tier-2 element-5\" role=\"treeitem\"><a href=\"http://pycon.blogspot.com/\" title=\"PyCon Blog\">PyCon News</a></li>\\n    \\n</ul>\\n\\n        \\n    </li>\\n    \\n    <li class=\"tier-1 element-7\">\\n        <a href=\"/events/\" >Events</a>\\n        \\n            \\n\\n<ul class=\"subnav menu\">\\n    \\n        <li class=\"tier-2 element-1\" role=\"treeitem\"><a href=\"/events/python-events/\" title=\"\">Python Events</a></li>\\n    \\n        <li class=\"tier-2 element-2\" role=\"treeitem\"><a href=\"/events/python-user-group/\" title=\"\">User Group Events</a></li>\\n    \\n        <li class=\"tier-2 element-3\" role=\"treeitem\"><a href=\"/events/python-events/past/\" title=\"\">Python Events Archive</a></li>\\n    \\n        <li class=\"tier-2 element-4\" role=\"treeitem\"><a href=\"/events/python-user-group/past/\" title=\"\">User Group Events Archive</a></li>\\n    \\n        <li class=\"tier-2 element-5\" role=\"treeitem\"><a href=\"https://wiki.python.org/moin/PythonEventsCalendar#Submitting_an_Event\" title=\"\">Submit an Event</a></li>\\n    \\n</ul>\\n\\n        \\n    </li>\\n    \\n    <li class=\"tier-1 element-8\">\\n        <a href=\"/dev/\" >Contributing</a>\\n        \\n            \\n\\n<ul class=\"subnav menu\">\\n    \\n        <li class=\"tier-2 element-1\" role=\"treeitem\"><a href=\"https://devguide.python.org/\" title=\"\">Developer&#39;s Guide</a></li>\\n    \\n        <li class=\"tier-2 element-2\" role=\"treeitem\"><a href=\"https://bugs.python.org/\" title=\"\">Issue Tracker</a></li>\\n    \\n        <li class=\"tier-2 element-3\" role=\"treeitem\"><a href=\"https://mail.python.org/mailman/listinfo/python-dev\" title=\"\">python-dev list</a></li>\\n    \\n        <li class=\"tier-2 element-4\" role=\"treeitem\"><a href=\"/dev/core-mentorship/\" title=\"\">Core Mentorship</a></li>\\n    \\n        <li class=\"tier-2 element-5\" role=\"treeitem\"><a href=\"/dev/security/\" title=\"\">Report a Security Issue</a></li>\\n    \\n</ul>\\n\\n        \\n    </li>\\n    \\n</ul>\\n\\n\\n                    <a id=\"back-to-top-2\" class=\"jump-link\" href=\"#python-network\"><span aria-hidden=\"true\" class=\"icon-arrow-up\"><span>&#9650;</span></span> Back to Top</a>\\n                    \\n\\n                </div><!-- end .container -->\\n            </div> <!-- end .main-footer-links -->\\n\\n            <div class=\"site-base\">\\n                <div class=\"container\">\\n                    \\n                    <ul class=\"footer-links navigation menu do-not-print\" role=\"tree\">\\n                        <li class=\"tier-1 element-1\"><a href=\"/about/help/\">Help &amp; <span class=\"say-no-more\">General</span> Contact</a></li>\\n                        <li class=\"tier-1 element-2\"><a href=\"/community/diversity/\">Diversity <span class=\"say-no-more\">Initiatives</span></a></li>\\n                        <li class=\"tier-1 element-3\"><a href=\"https://github.com/python/pythondotorg/issues\">Submit Website Bug</a></li>\\n                        <li class=\"tier-1 element-4\">\\n                            <a href=\"https://status.python.org/\">Status <span class=\"python-status-indicator-default\" id=\"python-status-indicator\"></span></a>\\n                        </li>\\n                    </ul>\\n\\n                    <div class=\"copyright\">\\n                        <p><small>\\n                            <span class=\"pre\">Copyright &copy;2001-2022.</span>\\n                            &nbsp;<span class=\"pre\"><a href=\"/psf-landing/\">Python Software Foundation</a></span>\\n                            &nbsp;<span class=\"pre\"><a href=\"/about/legal/\">Legal Statements</a></span>\\n                            &nbsp;<span class=\"pre\"><a href=\"/privacy/\">Privacy Policy</a></span>\\n                            &nbsp;<span class=\"pre\"><a href=\"/psf/sponsorship/sponsors/#heroku\">Powered by Heroku</a></span>\\n                        </small></p>\\n                    </div>\\n\\n                </div><!-- end .container -->\\n            </div><!-- end .site-base -->\\n\\n        </footer>\\n        \\n\\n    </div><!-- end #touchnav-wrapper -->\\n\\n    \\n    <script src=\"//ajax.googleapis.com/ajax/libs/jquery/1.8.2/jquery.min.js\"></script>\\n    <script>window.jQuery || document.write(\\'<script src=\"/static/js/libs/jquery-1.8.2.min.js\"><\\\\/script>\\')</script>\\n    <script src=\"//ajax.googleapis.com/ajax/libs/jqueryui/1.12.1/jquery-ui.min.js\"></script>\\n    <script>window.jQuery || document.write(\\'<script src=\"/static/js/libs/jquery-ui-1.12.1.min.js\"><\\\\/script>\\')</script>\\n\\n    <script src=\"/static/js/libs/masonry.pkgd.min.js\"></script>\\n    <script src=\"/static/js/libs/html-includes.js\"></script>\\n\\n    <script type=\"text/javascript\" src=\"/static/js/main-min.dd72c1659644.js\" charset=\"utf-8\"></script>\\n    \\n\\n    <!--[if lte IE 7]>\\n    <script type=\"text/javascript\" src=\"/static/js/plugins/IE8-min.8af6e26c7a3b.js\" charset=\"utf-8\"></script>\\n    \\n    \\n    <![endif]-->\\n\\n    <!--[if lte IE 8]>\\n    <script type=\"text/javascript\" src=\"/static/js/plugins/getComputedStyle-min.d41d8cd98f00.js\" charset=\"utf-8\"></script>\\n    \\n    \\n    <![endif]-->\\n\\n    \\n\\n    \\n    \\n\\n</body>\\n</html>\\n'\n"
     ]
    }
   ],
   "source": [
    "import urllib.request\n",
    "\n",
    "with urllib.request.urlopen('http://python.org/') as response:\n",
    "    html = response.read()\n",
    "    print(html)"
   ]
  },
  {
   "cell_type": "markdown",
   "metadata": {},
   "source": [
    "El Administrador de Contexto de Python devuelve el objeto HTTPResponse y llama a un método de cierre que termina automáticamente el acceso a Internet después de esta sección.\n",
    "(De lo contrario, este programa de Python sigue accediendo a Internet y desperdicia memoria)."
   ]
  },
  {
   "cell_type": "markdown",
   "metadata": {},
   "source": [
    "## <FONT COLOR=\"blue\">Programación por parejas </FONT>\n"
   ]
  },
  {
   "cell_type": "markdown",
   "metadata": {},
   "source": [
    "### <FONT COLOR=\"blue\">Práctica de la programación en parejas </FONT>"
   ]
  },
  {
   "cell_type": "markdown",
   "metadata": {},
   "source": [
    "**Directriz, mecanismos y plan de contingencia**\n",
    "\n",
    " Preparar la programación por parejas implica establecer pautas y mecanismos para ayudar a los alumnos a emparejarse correctamente y mantenerlos emparejados.  Por ejemplo, los estudiantes deben turnarse para \"conducir el mouse\".  La preparación efectiva requiere planes de contingencia en caso de que uno de los socios se ausente o decida no participar por una u otra razón.  En estos casos, es importante dejar claro que el alumno activo no será sancionado porque el emparejamiento no funcionó bien.\n",
    " \n",
    "**Emparejar habilidades similares, no necesariamente iguales, como socios**\n",
    "\n",
    " La programación en parejas puede ser efectiva cuando los estudiantes con habilidades similares, aunque no necesariamente iguales, se emparejan como compañeros.  El emparejamiento de estudiantes que no coinciden a menudo puede conducir a una participación desequilibrada.  Los maestros deben enfatizar que la programación en parejas no es una estrategia de \"divide y vencerás\", sino más bien un verdadero esfuerzo de colaboración en cada esfuerzo por todo el proyecto.  Los maestros deben evitar emparejar a estudiantes muy débiles con estudiantes muy fuertes.\n",
    "\n",
    "**Motivar a los estudiantes ofreciendo incentivos adicionales**\n",
    "\n",
    " Ofrecer incentivos adicionales puede ayudar a motivar a los estudiantes a emparejarse, especialmente con estudiantes avanzados.  A algunos maestros les ha resultado útil pedirles a los estudiantes que se emparejen solo para una o dos tareas.\n",
    "\n",
    "**Evitar trampas en la colaboración**\n",
    "\n",
    " El desafío para el maestro es encontrar formas de evaluar los resultados individuales, mientras aprovecha los beneficios de la colaboración.  ¿Cómo saber si un estudiante aprendió o hizo trampa?  Los expertos recomiendan revisar el diseño y la evaluación del curso, así como discutir explícita y concretamente con los estudiantes los comportamientos que se interpretarán como trampa.  Los expertos alientan a los maestros a hacer que las tareas sean significativas para los estudiantes y a explicar el valor de lo que los estudiantes aprenderán al completarlas.\n",
    "\n",
    "**Entorno de aprendizaje colaborativo**\n",
    "\n",
    " Un entorno de aprendizaje colaborativo ocurre cada vez que un instructor requiere que los estudiantes trabajen juntos en actividades de aprendizaje.  Los entornos de aprendizaje colaborativo pueden implicar actividades tanto formales como informales y pueden incluir o no una evaluación directa.  Por ejemplo, parejas de estudiantes trabajan en asignaciones de programación;  pequeños grupos de estudiantes discuten posibles respuestas a la pregunta de un profesor durante la lección;  y los estudiantes trabajan juntos fuera de clase para aprender nuevos conceptos.  El aprendizaje colaborativo es distinto de los proyectos en los que los estudiantes \"dividen y vencerán\".  Cuando los estudiantes dividen el trabajo, cada uno es responsable de solo una parte de la resolución del problema y hay oportunidades muy limitadas para resolver los problemas con los demás.  En entornos colaborativos, los estudiantes participan en conversaciones intelectuales entre ellos."
   ]
  },
  {
   "cell_type": "markdown",
   "metadata": {},
   "source": [
    "### <FONT COLOR=\"blue\">**Q1.** </FONT>"
   ]
  },
  {
   "cell_type": "markdown",
   "metadata": {},
   "source": [
    "Escriba un programa que genere un arreglo multidimensional de tamaño n×n, basado en el número de entradas, al recibir dos o más n como entradas de los usuarios. En este caso, el contenido del arreglo debe mostrarse de manera que los valores de 0 y 1 se crucen en un patrón de cuadros.\n",
    "\n",
    "Ejemplo de salida\n",
    "\n",
    "10101 \n",
    "\n",
    "01010\n",
    "\n",
    "10101 \n",
    "\n",
    "01010\n",
    "\n",
    "10101 \n",
    "\n",
    "\n"
   ]
  }
 ],
 "metadata": {
  "kernelspec": {
   "display_name": "Python 3.9.13 64-bit (microsoft store)",
   "language": "python",
   "name": "python3"
  },
  "language_info": {
   "codemirror_mode": {
    "name": "ipython",
    "version": 3
   },
   "file_extension": ".py",
   "mimetype": "text/x-python",
   "name": "python",
   "nbconvert_exporter": "python",
   "pygments_lexer": "ipython3",
   "version": "3.9.13"
  },
  "orig_nbformat": 4,
  "vscode": {
   "interpreter": {
    "hash": "d6ff7cb00638fb92356a42c28981a177178b7e1976aa8ecd498ce1508ea8d5e4"
   }
  }
 },
 "nbformat": 4,
 "nbformat_minor": 2
}
