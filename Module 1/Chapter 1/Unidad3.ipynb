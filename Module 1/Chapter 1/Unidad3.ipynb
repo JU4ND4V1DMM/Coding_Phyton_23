{
 "cells": [
  {
   "cell_type": "markdown",
   "id": "994a5196",
   "metadata": {},
   "source": [
    "# <FONT COLOR=\"blue\"> **Samsung Innovation Campus**</FONT>  \n",
    "\n",
    "## <FONT COLOR=\"blue\">**Codificación y programación**</FONT>\n",
    "\n",
    "# **Capítulo 1. Conceptos básicos de programación e iniciando Python**\n",
    "\n",
    "Descripción del capítulo\n",
    "\n",
    "## Objetivos del capítulo\n",
    "\n",
    "Los estudiantes podrán configurar un ambiente de práctica para Python y aprender los fundamentos de programación. Los estudiantes se familiarizarán con los fundamentos de Python como entradas/salidas, tipos de datos, y variables. Adicionalmente, adquirirán habilidades para la resolución de problemas de codificación a través de varios operadores, condicionales y ciclos.\n",
    "\n",
    "## Contenido del capítulo\n",
    "\n",
    "* Unidad 1. Programación secuencial\n",
    "* Unidad 2. Planeación para la programación\n",
    "* Unidad 3. Fundamentos de tipos de datos numéricos y operaciones aritméticas\n",
    "* Unidad 4. Variables y entradas\n",
    "* Unidad 5. Operaciones lógicas y de comparación\n",
    "* Unidad 6. Sentencias condicionales-1: Condiciones y toma de decisiones\n",
    "* Unidad 7. Sentencias condicionales-2: Toma de decisiones en dos direcciones y aplicación de sentencias condicionales\n",
    "* Unidad 8. Bucle-1\n",
    "* Unidad 9. Bucle-2"
   ]
  },
  {
   "cell_type": "markdown",
   "id": "83acd096-5b74-418d-8b77-bf26df69bc96",
   "metadata": {},
   "source": [
    "# **Unidad 3. Tipos de Datos numéricos básicos y operaciones aritméticas**"
   ]
  },
  {
   "cell_type": "markdown",
   "id": "f55e3dd7-a2ff-446b-ad54-6e62f35a4146",
   "metadata": {},
   "source": [
    "## Objetivos de aprendizaje\n",
    "\n",
    "* Ser capaz de realizar sumas, restas, multiplicaciones divisiones, y potenciaciones usando Python. De igual forma entender y estar en capacidad de usar funciones avanzadas de Python para encontrar el cociente y el residuo de una división.\n",
    "* Entender que hay diferentes tipos de datos en el procesamiento de los mismos y estar en capacidad de ejecutar cálculos numéricos usando relaciones entre tipos de datos y operadores.\n",
    "* Aprender cómo tratar con cadenas de caracteres (strings) y estar en capacidad de imprimir valores de datos de un código.\n",
    "* Ser capaz de escribir ecuaciones usando la precedencia de operadores."
   ]
  },
  {
   "cell_type": "markdown",
   "id": "4986c9fd-309b-4839-8e3f-77dd016d617c",
   "metadata": {},
   "source": [
    "## Resumen del Aprendizaje\n",
    "\n",
    "* Ejecutar operaciones mateméticas incluyendo operaciones aritméticas, potenciación, etc., usando tipos de datos numéricos.\n",
    "* Determinar el tipo de datos de objetos y aprender cómo funcionan los operadores dependiendo del tipo de datos.\n",
    "* Generar una salida o resultado usando tipos de datos string (cadena de caracteres).\n",
    "\n",
    "## Conceptos que necesitará saber de unidades anteriores\n",
    "\n",
    "* Imprimir una salida o resultado en la pantalla usando la función print y obtener valores ingresados por el usuario usando input.\n",
    "* Cómo correr Python usando Jupyter Notebook. Python es una interfaz de Python para codificación interactiva en Python y debería poder escribir un código en Python in la condición."
   ]
  },
  {
   "cell_type": "markdown",
   "id": "065d8074-b27f-4152-b23d-07954a91674e",
   "metadata": {},
   "source": [
    "## Palabras Clave\n",
    "\n",
    "![Image](https://ambg0231.github.io/unidad3_/Keywords.png)"
   ]
  },
  {
   "cell_type": "markdown",
   "id": "def92e9f-234d-4a3f-81ba-6f836ade01f4",
   "metadata": {},
   "source": [
    "## <FONT COLOR=\"blue\"> Misión </FONT>\n",
    "\n",
    "### <FONT COLOR=\"blue\">1. Problema del mundo real </FONT>\n",
    "\n",
    "#### **1.1. Observar la sombra de un agujero negro**"
   ]
  },
  {
   "cell_type": "markdown",
   "id": "243a5a29-1817-46d3-88ff-ede57b7452fc",
   "metadata": {},
   "source": [
    "\n",
    "<table style='font-size:175%; width:100%'>\n",
    "  <tr>\n",
    "      <td>\n",
    "        <img style=\"float: left;\"<img src=\"https://ambg0231.github.io/unidad3_/BlackHole.png\"  width= \"800px\" />\n",
    "      </td>\n",
    "      <td>\n",
    "        <ul>\n",
    "            <li>La figura de abajo es la primera fotografía de un agujero negro observado por la humanidad.</li>\n",
    "            <li>El proyecto fue llamado EHT (Event Horizon Telescope) y científicos de 32 países diferentes participaron.</li>\n",
    "            <li>Observar un agujero negro que está muy lejos es difícil.</li>\n",
    "            <li>Para resolver este problema, los miembros del proyecto EHT decidieron usar el planeta tierra entero como un gran telescopio, observar un punto en el universo usando radiotelescopios en diferentes regiones al mismo tiempo, y analizar dichas imágenes observadas.</li>\n",
    "        </ul>\n",
    "      </td>\n",
    "  </tr>\n",
    "</table>"
   ]
  },
  {
   "cell_type": "markdown",
   "id": "7547d523-2675-46c9-9006-655ce03fb4b5",
   "metadata": {},
   "source": [
    "#### **1.2. Fórmulas del área y la circunferencia de un círculo**\n",
    "\n",
    "\n",
    "<table style='font-size:150%; width:100%'>\n",
    "  <tr>\n",
    "      <td>\n",
    "          <img style=\"float: left;\"<img src=\"https://ambg0231.github.io/unidad3_/Circumf.png\"  width= \"800px\" />\n",
    "      </td>\n",
    "      <td>\n",
    "        <ul>\n",
    "            <li>Trataremos de resolver problemas matemáticos básicos de entre las varias técnicas usadas por los ingenieros y científicos en el proyecto EHT para resolver problemas.</li>\n",
    "            <li>Es decir, si hay un círculo como se muestra en la figura, la circunferencia y el área del círculo se calcularía usando una herramienta llamada programa.</li>\n",
    "            <li>En este caso, la fórmula de la izquierda puede ser utilizada.</li>\n",
    "            <li>La fórmula muestra que la circunferencia y el área del círculo depende del radio.</li>\n",
    "            <li>A partir de esta misión, usted aprenderá cómo usar variables y cómo resolver problemas usando operadores.</li>\n",
    "        </ul>\n",
    "      </td>\n",
    "  </tr>\n",
    "</table>"
   ]
  },
  {
   "cell_type": "markdown",
   "id": "46a5d533-ea0d-40c9-a35b-50ab3e5e1e0d",
   "metadata": {},
   "source": [
    "### <FONT COLOR=\"blue\"> 2. Solución </FONT>\n",
    "\n",
    "#### **2.1. Python contribuyó en gran manera a la observación de la sombra de agujeros negros**\n",
    "\n",
    "<table style=\"width:100%; font-size:150%\">\n",
    "  <tr>\n",
    "    <td rowspan=\"2\"><img style=\"float: left;\" src=\"https://static.projects.iq.harvard.edu/files/styles/os_files_xlarge/public/eht/files/20190410-78m-800x466.png?m=1554877319&itok=p3yfzMuz\" width=500></td>\n",
    "    <td>\n",
    "        <ul>\n",
    "        <li>En abril 10 de 2019, la primera observación de un agujero negro de la humanidad fue exitosa. El agujero negro en sí mismo es invisible y de su sombra se generó una imagen. </li>\n",
    "        <li>Para esto, los científicos usaron tecnología para obtener imágenes del agujero negro combinando imágenes obtenidas de radiotelescopios en varios lugares en el planeta tierra.</li>\n",
    "        <li>En otras palabras, la tierra misma fue usada como un gran telescopio, para lo cual 5 Petabytes de información fueron recolectados, muchas herramientas fueron usadas, y la librería Numpy de Python jugó un rol importante.</li>\n",
    "        </ul>\n",
    "    </td>\n",
    "  </tr>\n",
    "  <tr>\n",
    "      <td>\n",
    "          <img style=\"float: left;\"<img src=\"https://ambg0231.github.io/unidad3_/WorldTeles.png\"  width= \"800px\" />\n",
    "      </td>\n",
    "  </tr>\n",
    "</table>"
   ]
  },
  {
   "cell_type": "markdown",
   "id": "c604016f-c9c5-4cc0-be17-5b538f678913",
   "metadata": {},
   "source": [
    "#### **2.2. Python para resolver la crisis climática global**\n",
    "\n",
    "\n",
    "<table style='font-size:150%; width:100%'>\n",
    "  <tr>\n",
    "      <td>\n",
    "          <img style=\"float: left;\"<img src=\"https://ambg0231.github.io/unidad3_/Forecast.png\"  width= \"800px\" />\n",
    "      </td>\n",
    "      <td>\n",
    "        <ul>\n",
    "            <li>Python se ha convertido en una herramienta esencial en muchos campos, incluyendo la biología, física, y astronomía, así como en las ciencias computacionales y de datos.</li>\n",
    "            <li>Forecastwatch.com, un servicio que predice el clima mundial, usa Python para procesar la información recolectada de satélites y sensores del clima para hacer pronósticos del clima.</li>\n",
    "        </ul>\n",
    "      </td>\n",
    "  </tr>\n",
    "</table>\n",
    "\n",
    "https://forecastwatch.com"
   ]
  },
  {
   "cell_type": "markdown",
   "id": "6ec794fd-5277-4261-9f6e-f914b0cee738",
   "metadata": {},
   "source": [
    "### <FONT COLOR=\"blue\"> 3. Misión </FONT>\n",
    "#### **3.1. Imprimir la circunferencia y el área de un círculo**\n",
    "\n",
    "| En esta misión, obtenga una entrada de usuario del radio de un círculo.\n",
    "\n",
    "| Calcule la circunferencia y el área del círculo usando los operadores que aprenderemos en esta unidad.\n",
    "\n",
    "| Imprima en la pantalla la circunferencia y el área del círculo calculada.\n",
    "\n",
    "| Ingrese para el radio varios números como 4, 5, 6, 10, 20, 33."
   ]
  },
  {
   "cell_type": "markdown",
   "id": "ecc9b64f-eb07-4b60-9cd2-2880547d493b",
   "metadata": {},
   "source": [
    "#### **3.2. ¿Cómo se imprime el área y la circunferencia del círculo?**"
   ]
  },
  {
   "cell_type": "code",
   "execution_count": 8,
   "id": "8756318c-728f-4c74-aae1-55f54371be41",
   "metadata": {},
   "outputs": [
    {
     "name": "stdout",
     "output_type": "stream",
     "text": [
      "Enter the radius : 6\n"
     ]
    },
    {
     "name": "stdout",
     "output_type": "stream",
     "text": [
      "Radius of the circle 6.0\n",
      "Area of the circle 113.03999999999999\n",
      "Circumference of the circle 37.68\n"
     ]
    }
   ],
   "source": [
    "PI = 3.14\n",
    "radius = float(input ('Enter the radius :'))\n",
    "circum = PI * radius * radius\n",
    "area = 2.0 * PI * radius\n",
    "print ('Radius of the circle', radius)\n",
    "print('Area of the circle', circum)\n",
    "print ('Circumference of the circle', area)"
   ]
  },
  {
   "cell_type": "markdown",
   "id": "72ad16c1-5174-4df7-9919-1021ded2e4aa",
   "metadata": {},
   "source": [
    "### **3.3. Plan de programación**\n",
    "\n",
    "![Images.png](https://ambg0231.github.io/unidad3_/Charts.png)"
   ]
  },
  {
   "cell_type": "markdown",
   "id": "5af54c4b-1da5-4240-92a1-b96329c4c226",
   "metadata": {},
   "source": [
    "#### **3.4. Imprimir el área y la circunferencia del círculo: código final**"
   ]
  },
  {
   "cell_type": "code",
   "execution_count": 9,
   "id": "f4825f57-f8c7-4b68-ab55-d3a42df1a35d",
   "metadata": {},
   "outputs": [
    {
     "name": "stdout",
     "output_type": "stream",
     "text": [
      "Enter the radius : 11\n"
     ]
    },
    {
     "name": "stdout",
     "output_type": "stream",
     "text": [
      "Radius of the circle 11.0\n",
      "Area of the circle 379.94\n",
      "Circumference of the circle 69.08\n"
     ]
    }
   ],
   "source": [
    "PI = 3.14\n",
    "radius = float(input ('Enter the radius :'))\n",
    "circum = PI * radius * radius\n",
    "area = 2.0 * PI * radius\n",
    "print ('Radius of the circle', radius)\n",
    "print('Area of the circle', circum)\n",
    "print ('Circumference of the circle', area)"
   ]
  },
  {
   "cell_type": "markdown",
   "id": "5f5fda03-16f7-468e-926e-c3d9c5445698",
   "metadata": {
    "tags": []
   },
   "source": [
    "## <FONT COLOR=\"blue\"> Concepto Clave </FONT>\n",
    "### <FONT COLOR=\"blue\"> Tipos de datos numéricos, aritmética y división </FONT>\n",
    "#### **1.1. Computación usando información numérica**"
   ]
  },
  {
   "cell_type": "markdown",
   "id": "e7da516a-13b8-447e-ae4d-9453d6a1fe22",
   "metadata": {},
   "source": [
    "<table style='font-size:150%; width:100%'>\n",
    "  <tr>\n",
    "      <td>\n",
    "          <img style=\"float: left;\"<img src=\"https://ambg0231.github.io/unidad3_/Numbers.jpg\"  width= \"500px\" />\n",
    "      </td>\n",
    "      <td>\n",
    "        <ul>\n",
    "            <li>Python expresa datos numéricos a través de números.</li>\n",
    "            <li>Se proveen varios operadores matemáticos para estos datos numéricos.</li>\n",
    "            <li>Se proveen varios operadores matemáticos para estos datos numéricos.</li>\n",
    "        </ul>\n",
    "        <img style=\"float: left;\"<img src=\"https://ambg0231.github.io/unidad3_/Ex.png\"  width= \"1000px\" />\n",
    "      </td>\n",
    "  </tr>\n",
    "</table>"
   ]
  },
  {
   "cell_type": "markdown",
   "id": "d4f99dd2-67ec-4d94-9337-cf84722185cf",
   "metadata": {},
   "source": [
    "Aprendamos los términos para una operación aritmética. Los valores de datos o variables sujetos a la operación son llamados operandos. El sujeto de la operación es llamado el operador. Tome como ejemplo de una operación de 100 + 200\n",
    "\n",
    "<img src=\"https://ambg0231.github.io/unidad3_/Calculator.png\"  width= \"1000px\" />\n"
   ]
  },
  {
   "cell_type": "markdown",
   "id": "bd6a00c7-3a08-41a5-b308-b62e3935e81a",
   "metadata": {},
   "source": [
    "#### **1.2. Operadores**\n",
    "\n",
    "La tabla de abajo explica los operadores de Python y el funcionamiento del operador.\n",
    "\n",
    "<img src=\"https://ambg0231.github.io/unidad3_/OpTable.png\"  width= \"1000px\" />"
   ]
  },
  {
   "cell_type": "markdown",
   "id": "2557767d-b371-4734-85e0-23262eb12e5e",
   "metadata": {},
   "source": [
    "#### **1.3. Código de ejemplo usando operadores**\n",
    "\n",
    "Ejecute una operación usando tipos de datos numéricos. La operación puede ser ejecutada usando datos numéricos y operadores +, -, *, /, //, %"
   ]
  },
  {
   "cell_type": "code",
   "execution_count": 10,
   "id": "b3230728-5613-4776-a44c-69082c8f2773",
   "metadata": {},
   "outputs": [
    {
     "data": {
      "text/plain": [
       "120"
      ]
     },
     "execution_count": 10,
     "metadata": {},
     "output_type": "execute_result"
    }
   ],
   "source": [
    "100 + 20 # Find addition of numerical value of 100 and 20"
   ]
  },
  {
   "cell_type": "code",
   "execution_count": 11,
   "id": "2ab4829b-170a-48be-9d68-ab9d24f097de",
   "metadata": {},
   "outputs": [
    {
     "data": {
      "text/plain": [
       "2000"
      ]
     },
     "execution_count": 11,
     "metadata": {},
     "output_type": "execute_result"
    }
   ],
   "source": [
    "100 * 20 # Find multiplication of numerical value of 100 and 20"
   ]
  },
  {
   "cell_type": "code",
   "execution_count": 12,
   "id": "75c57380-04b0-4c9e-aca5-25c9ba19b4c0",
   "metadata": {},
   "outputs": [
    {
     "data": {
      "text/plain": [
       "80"
      ]
     },
     "execution_count": 12,
     "metadata": {},
     "output_type": "execute_result"
    }
   ],
   "source": [
    "100 - 20 # Find subtraction of numerical value of 100 and 20"
   ]
  },
  {
   "cell_type": "code",
   "execution_count": 13,
   "id": "0ab12573-cbfe-4f15-8f4b-eb2b065e4972",
   "metadata": {},
   "outputs": [
    {
     "data": {
      "text/plain": [
       "5.0"
      ]
     },
     "execution_count": 13,
     "metadata": {},
     "output_type": "execute_result"
    }
   ],
   "source": [
    "100 / 20 # Divide numerical value of 100 with 20"
   ]
  },
  {
   "cell_type": "code",
   "execution_count": 14,
   "id": "5bed2da3-2340-4572-bf4f-69216c0cbbb6",
   "metadata": {},
   "outputs": [
    {
     "data": {
      "text/plain": [
       "5"
      ]
     },
     "execution_count": 14,
     "metadata": {},
     "output_type": "execute_result"
    }
   ],
   "source": [
    "100 // 20 # Divide numerical value of 100 with 20 and find quotient"
   ]
  },
  {
   "cell_type": "code",
   "execution_count": 15,
   "id": "e7d43976-d452-4723-befb-60b040cc41e0",
   "metadata": {},
   "outputs": [
    {
     "data": {
      "text/plain": [
       "0"
      ]
     },
     "execution_count": 15,
     "metadata": {},
     "output_type": "execute_result"
    }
   ],
   "source": [
    "100 % 20 # Divide numerical value of 100 with 20 and find quotient"
   ]
  },
  {
   "cell_type": "markdown",
   "id": "7d9fc886-68ad-4e34-9f62-f09849b8f377",
   "metadata": {},
   "source": [
    "### <FONT COLOR=\"blue\"> 2. Datos del tipo Objeto, prioridad de operadores, y conversión de tipos de datos </FONT>\n",
    "\n",
    "#### **2.1. Clasificación de tipos de datos**\n",
    "\n",
    "En Python, la discriminación de tipos de datos es muy importante.\n",
    "\n",
    "Los caracteres y los números tiene la misma forma, pero sus propiedades pueden ser muy diferentes.\n",
    "\n",
    "<span style=\"color:blue; font-size:200%\">**Ex**</span> El número 10 Puede ser calculado. Sin embargo, la letra \"10\" son imposibles de calcular\n",
    "\n",
    "Dependiendo del tipo de dato, los operadores disponibles son diferentes. En el siguiente caso, un error gramatical ocurre porque se divide los caracteres \"10\" entre 2.\n",
    "\n",
    "<img src=\"https://ambg0231.github.io/unidad3_/Error1.png\"  width= \"1000px\" />"
   ]
  },
  {
   "cell_type": "markdown",
   "id": "78c15893-5ce5-42c6-b327-4b11b5f6998a",
   "metadata": {},
   "source": [
    "En Python, el operador tiene diferentes aplicaciones dependiendo del tipo de datos.\n",
    "\n",
    "El resultado de la operación de multiplicación (*) de los números 100 por 2 is 200.\n",
    "\n",
    "Sin embargo, el resultado de la operación de multiplicación (*) de las letras '100' por 2 is '100100'. En otras palabras el resultado de la operación de multiplicación (*) de las letras 'Hello' por 2 es 'HelloHello', pero la operación de multiplicación en las letras es diferente a la multiplicación de valores numéricos."
   ]
  },
  {
   "cell_type": "code",
   "execution_count": 16,
   "id": "da1658a8-50c4-4ca0-9599-ee199af91b62",
   "metadata": {},
   "outputs": [
    {
     "data": {
      "text/plain": [
       "200"
      ]
     },
     "execution_count": 16,
     "metadata": {},
     "output_type": "execute_result"
    }
   ],
   "source": [
    "100 * 2 # Find multiplication of numerical value 100 and 2"
   ]
  },
  {
   "cell_type": "code",
   "execution_count": 17,
   "id": "d2c9c4aa-3128-497b-a7b9-52ea7a6bdebc",
   "metadata": {},
   "outputs": [
    {
     "data": {
      "text/plain": [
       "'HelloHello'"
      ]
     },
     "execution_count": 17,
     "metadata": {},
     "output_type": "execute_result"
    }
   ],
   "source": [
    "'Hello' * 2 # Find multiplication of string ‘Hello’ and 2"
   ]
  },
  {
   "cell_type": "code",
   "execution_count": 18,
   "id": "bc664909-2dcb-4538-992a-bc0e6ba487b8",
   "metadata": {},
   "outputs": [
    {
     "data": {
      "text/plain": [
       "'100100'"
      ]
     },
     "execution_count": 18,
     "metadata": {},
     "output_type": "execute_result"
    }
   ],
   "source": [
    "'100' * 2 # Find multiplication of string ‘100’ and 2"
   ]
  },
  {
   "cell_type": "markdown",
   "id": "2aa17674-1f8c-4d15-b418-537b0f21221d",
   "metadata": {},
   "source": [
    "#### **2.2. Tipos de datos básicos en Python**\n",
    "\n",
    "Los tipos de datos básicos y ejemplos en Python que son ampliamente usados, son los siguientes.\n",
    "\n",
    "<img src=\"https://ambg0231.github.io/unidad3_/TiposDatos.png\"  width= \"1000px\" />"
   ]
  },
  {
   "cell_type": "markdown",
   "id": "11de96aa-0b0a-488c-bc18-11107c14a241",
   "metadata": {},
   "source": [
    "Aquí están las estructuras de datos importantes de Python y los tipos de variables. Estos serán usados para codificar.\n",
    "\n",
    "<img src=\"https://ambg0231.github.io/unidad3_/DatStruct.png\"  width= \"1000px\" />"
   ]
  },
  {
   "cell_type": "markdown",
   "id": "b5216566-f5d9-4663-b9c5-50a3da665fb7",
   "metadata": {},
   "source": [
    "#### **2.3. ¿Cómo distinguir el tipo de datos?**\n",
    "\n",
    "Los términos refiriéndose a valores numéricos, funciones y clases, los cuales son componentes del programa Python, son objetos.\n",
    "\n",
    "El rol del operador difiere dependiendo si el tipo de datos del objeto es entero o string (caracteres)\n",
    "\n",
    "La función Type devuelve el tipo de un objeto. Verifiquemos el tipo de datos usando el código de abajo.\n",
    "\n",
    "<img src=\"https://ambg0231.github.io/unidad3_/TypeFunc.png\"  width= \"1000px\" />"
   ]
  },
  {
   "cell_type": "code",
   "execution_count": 20,
   "id": "9e612fa7-1a9e-4bfc-89ab-711b20eb9d6b",
   "metadata": {},
   "outputs": [
    {
     "data": {
      "text/plain": [
       "int"
      ]
     },
     "execution_count": 20,
     "metadata": {},
     "output_type": "execute_result"
    }
   ],
   "source": [
    "type(100) # Le muestra el tipo de datos de 100"
   ]
  },
  {
   "cell_type": "code",
   "execution_count": 21,
   "id": "2bb53a48-b1a3-4056-9a5f-199a0f4af329",
   "metadata": {},
   "outputs": [
    {
     "data": {
      "text/plain": [
       "float"
      ]
     },
     "execution_count": 21,
     "metadata": {},
     "output_type": "execute_result"
    }
   ],
   "source": [
    "type(100.0) # Le muestra el tipo de datos de 100"
   ]
  },
  {
   "cell_type": "code",
   "execution_count": 22,
   "id": "3978e68d-a496-42c1-bc40-4066d673b07b",
   "metadata": {},
   "outputs": [
    {
     "data": {
      "text/plain": [
       "str"
      ]
     },
     "execution_count": 22,
     "metadata": {},
     "output_type": "execute_result"
    }
   ],
   "source": [
    "type('100') # Le muestra el tipo de datos de 100"
   ]
  },
  {
   "cell_type": "code",
   "execution_count": 23,
   "id": "9c289b38-292d-42eb-9134-a5425f669eec",
   "metadata": {},
   "outputs": [
    {
     "data": {
      "text/plain": [
       "complex"
      ]
     },
     "execution_count": 23,
     "metadata": {},
     "output_type": "execute_result"
    }
   ],
   "source": [
    "type(10 + 3j) # Los tipos de datos complejos en la forma de un número real + un número imaginario como 10 + 3j"
   ]
  },
  {
   "cell_type": "markdown",
   "id": "e715af0d-1572-4ed7-9320-5b8e103cc98c",
   "metadata": {},
   "source": [
    "#### **2.4. Precedencia de los operadores**\n",
    "\n",
    "Si los operadores de adición y multiplicación aparecen en una sentencia, la operación de multiplicación se ejecuta primero.\n",
    "\n",
    "Cuando aparece un paréntesis en una sentencia, los operadores en paréntesis se tratan primero.\n",
    "\n",
    "Los cálculos en la sentencia varían de acuerdo al orden de procesamiento de los operadores."
   ]
  },
  {
   "cell_type": "code",
   "execution_count": 24,
   "id": "40b98c08-fec3-49af-8bac-54a728cb5a41",
   "metadata": {},
   "outputs": [
    {
     "data": {
      "text/plain": [
       "610"
      ]
     },
     "execution_count": 24,
     "metadata": {},
     "output_type": "execute_result"
    }
   ],
   "source": [
    "10 + 20 * 30 # La multiplicación se calcula primero"
   ]
  },
  {
   "cell_type": "code",
   "execution_count": 26,
   "id": "86fbe5df-f88c-44d9-b752-ad519f748444",
   "metadata": {},
   "outputs": [
    {
     "data": {
      "text/plain": [
       "900"
      ]
     },
     "execution_count": 26,
     "metadata": {},
     "output_type": "execute_result"
    }
   ],
   "source": [
    "(10 + 20) * 30 # El operador entre paréntesis se calcula primero"
   ]
  },
  {
   "cell_type": "markdown",
   "id": "a848dee0-5d6d-4e80-bf0f-bf599fee30df",
   "metadata": {},
   "source": [
    "#### **2.5. Diagrama de precedencia de operadores**\n",
    "\n",
    "Veamos las precedencias de los operadores de Python. Estos son los contenidos a aprender en esta lección.\n",
    "\n",
    "<img src=\"https://ambg0231.github.io/unidad3_/OperTable.png\"  width= \"1000px\" />"
   ]
  },
  {
   "cell_type": "markdown",
   "id": "2225c38b-a69d-4e2e-8045-26f48856085e",
   "metadata": {},
   "source": [
    "#### **2.6. Conversión del tipo de dato**\n",
    "\n",
    "Los datos en Python se pueden calcular convirtiendo su tipo. Los caracteres '10' se pueden convertir en tipo entero con int('10'). Por lo tanto int('10')/2 se ejecuta sin errores.\n",
    "\n",
    "Para cambiar el número 10 de dato en Python al carácter '10', se usa str(10). Este carácter convertido se puede escribir con otra cadena de caracteres como una operación de adición."
   ]
  },
  {
   "cell_type": "code",
   "execution_count": 28,
   "id": "74a6edfe-0266-43e2-991e-5d392e0bc0a3",
   "metadata": {},
   "outputs": [
    {
     "data": {
      "text/plain": [
       "5.0"
      ]
     },
     "execution_count": 28,
     "metadata": {},
     "output_type": "execute_result"
    }
   ],
   "source": [
    "int('10') / 2 # Convertir el carácter '10' en un entero y dividirlo entre 2"
   ]
  },
  {
   "cell_type": "code",
   "execution_count": 29,
   "id": "9e494298-a587-43e8-9d07-152dda373353",
   "metadata": {},
   "outputs": [
    {
     "data": {
      "text/plain": [
       "'I like number 10'"
      ]
     },
     "execution_count": 29,
     "metadata": {},
     "output_type": "execute_result"
    }
   ],
   "source": [
    "'I like number ' + str(10) # COnvertir el número 10 en carácter y usar el operador +"
   ]
  },
  {
   "cell_type": "code",
   "execution_count": 30,
   "id": "51ca920c-49fd-4617-9976-7775c0344e7e",
   "metadata": {},
   "outputs": [
    {
     "data": {
      "text/plain": [
       "NoneType"
      ]
     },
     "execution_count": 30,
     "metadata": {},
     "output_type": "execute_result"
    }
   ],
   "source": [
    "a = None\n",
    "type(a)"
   ]
  },
  {
   "cell_type": "markdown",
   "id": "7b1b5847-9686-4381-a3f1-cdfae7e755e1",
   "metadata": {},
   "source": [
    "<img src=\"https://ambg0231.github.io/unidad3_/OMS1.png\"  width= \"1000px\" />"
   ]
  },
  {
   "cell_type": "markdown",
   "id": "b1b0be15-0676-4d61-b588-aeaa75fa5a14",
   "metadata": {},
   "source": [
    "### <FONT COLOR=\"blue\">3. Aplicación de String </FONT>\n",
    "\n",
    "#### **3.1. Veamos el *string***\n",
    "\n",
    "EN Python, el string str es muy apropiado para mostrar información en un software.\n",
    "\n",
    "Todos los archivos str pueden ser convertidos a texto. Sin embargo, dado que es un texto, es imposible aplicarle operaciones aritméticas.\n",
    "\n",
    "<span style=\"color:blue; font-size:200%\">**Ex**</span> El nombre del usuario, ID, contraseña, etc., se puede expresar como un string.\n",
    "\n",
    "Los strings de Python son formas en las cuales cada letra está conectada.\n",
    "\n",
    "Las operaciones de adición y multiplicación son posibles en los strings de Python.\n",
    "\n",
    "<img src=\"https://ambg0231.github.io/unidad3_/String.png\"  width= \"1000px\" />"
   ]
  },
  {
   "cell_type": "markdown",
   "id": "51184562-befc-4c18-a129-90f643cd58fe",
   "metadata": {},
   "source": [
    "#### **3.2. El operador string (+),(*)**\n",
    "\n",
    "Veamos las operaciones + y * disponibles en string. La operación + del string conecta dos strings. La operación * del string debe ser un entero. Es decir, el string se genera repitiendo el entero n."
   ]
  },
  {
   "cell_type": "code",
   "execution_count": 35,
   "id": "163a9b0d-2c5a-4b63-b458-feef81b4baea",
   "metadata": {},
   "outputs": [
    {
     "data": {
      "text/plain": [
       "'I Love Python!'"
      ]
     },
     "execution_count": 35,
     "metadata": {},
     "output_type": "execute_result"
    }
   ],
   "source": [
    "'I'+ ' Love' + ' Python!' # Un string se puede sumar a un string."
   ]
  },
  {
   "cell_type": "code",
   "execution_count": 36,
   "id": "68dd9f84-c9d3-44ae-9f95-384ebc3d65d9",
   "metadata": {},
   "outputs": [
    {
     "data": {
      "text/plain": [
       "'Python Python Python Python Python Python Python Python Python Python '"
      ]
     },
     "execution_count": 36,
     "metadata": {},
     "output_type": "execute_result"
    }
   ],
   "source": [
    "'Python ' * 10 # Genera un string de \"Python repetido 10 veces\""
   ]
  },
  {
   "cell_type": "code",
   "execution_count": 37,
   "id": "ee6ad09a-6b3a-4869-9f26-bd71bc620ae5",
   "metadata": {},
   "outputs": [
    {
     "data": {
      "text/plain": [
       "'**************************************************'"
      ]
     },
     "execution_count": 37,
     "metadata": {},
     "output_type": "execute_result"
    }
   ],
   "source": [
    "'*' * 50 # Genera un string de '*' repetido 50 veces"
   ]
  },
  {
   "cell_type": "code",
   "execution_count": 38,
   "id": "37de61db-d091-4c51-95a7-deeb8553c352",
   "metadata": {},
   "outputs": [
    {
     "data": {
      "text/plain": [
       "'100100100100100100100100100100'"
      ]
     },
     "execution_count": 38,
     "metadata": {},
     "output_type": "execute_result"
    }
   ],
   "source": [
    "str(100) * 10 # El string '100' repetido 10 veces"
   ]
  },
  {
   "cell_type": "markdown",
   "id": "49bc88f2-ad41-4f43-be16-5da2b5163f88",
   "metadata": {},
   "source": [
    "||| La operación * del string debe ser un entero. De lo contrario ocurrirá un error|||"
   ]
  },
  {
   "cell_type": "code",
   "execution_count": 39,
   "id": "773dd66a-142f-4049-9790-03fa50486203",
   "metadata": {},
   "outputs": [
    {
     "ename": "TypeError",
     "evalue": "can't multiply sequence by non-int of type 'float'",
     "output_type": "error",
     "traceback": [
      "\u001b[0;31m---------------------------------------------------------------------------\u001b[0m",
      "\u001b[0;31mTypeError\u001b[0m                                 Traceback (most recent call last)",
      "Input \u001b[0;32mIn [39]\u001b[0m, in \u001b[0;36m<cell line: 1>\u001b[0;34m()\u001b[0m\n\u001b[0;32m----> 1\u001b[0m \u001b[38;5;124;43m'\u001b[39;49m\u001b[38;5;124;43m*\u001b[39;49m\u001b[38;5;124;43m'\u001b[39;49m\u001b[43m \u001b[49m\u001b[38;5;241;43m*\u001b[39;49m\u001b[43m \u001b[49m\u001b[38;5;241;43m3.1\u001b[39;49m\n",
      "\u001b[0;31mTypeError\u001b[0m: can't multiply sequence by non-int of type 'float'"
     ]
    }
   ],
   "source": [
    "'*' * 3.1"
   ]
  },
  {
   "cell_type": "markdown",
   "id": "7cfc7dcb-9bec-414e-9614-509aff30b26e",
   "metadata": {},
   "source": [
    "<img src=\"https://ambg0231.github.io/unidad3_/OMS2.png\"  width= \"1000px\" />"
   ]
  },
  {
   "cell_type": "markdown",
   "id": "70150e7b-602d-490e-a726-93eeb3958a66",
   "metadata": {},
   "source": [
    "## <FONT COLOR=\"blue\"> Codificación en papel </FONT>\n",
    "\n",
    "<table style=\"font-size:24px\">\n",
    "  <tr>\n",
    "    <td>\n",
    "        Trate de entender completamente los conceptos básicos antes de moverse al siguiente paso.\n",
    "    </td>\n",
    "  </tr>\n",
    "  <tr>\n",
    "    <td>\n",
    "        La falta de entendimiento de los conceptos básicos incrementará su carga en el aprendizaje de este curso, lo que puede hacer que lo repruebe.\n",
    "    </td>\n",
    "  </tr>\n",
    "  <tr>\n",
    "    <td>\n",
    "        Puede que sea difícil ahora, pero para completar con éxito este curso le sugerimos entender completamente los conceptos y luego pasar a el siguiente paso.\n",
    "    </td>\n",
    "  </tr>\n",
    "</table>"
   ]
  },
  {
   "cell_type": "markdown",
   "id": "3526c30e-239d-415f-95b8-c99969acba81",
   "metadata": {},
   "source": [
    "### <FONT COLOR=\"blue\">**Q1.** </FONT>\n",
    "\n",
    "Use la función int para retornar el número 100 sumando el carácter \"50\" al número 50. Adicionalmente, use la función str para retornar el resultado de la adición \"5050\".\n",
    "\n",
    "<table style='font-size:150%; width:100%'>\n",
    "  <tr>\n",
    "      <td>\n",
    "          <b>Condición para la ejecución</b>\n",
    "      </td>\n",
    "      <td>\n",
    "          La primera línea retorna el número 100, y la segunda línea retorna los caracteres \"5050\"\n",
    "      </td>\n",
    "  </tr>\n",
    "  <tr>\n",
    "      <td>\n",
    "          <b>Tiempo</b>\n",
    "      </td>\n",
    "      <td>\n",
    "          5 Minutos\n",
    "      </td>\n",
    "  </tr>\n",
    "</table>\n",
    "\n",
    "| Escriba el código y el resultado de salida esperado en una hoja"
   ]
  },
  {
   "cell_type": "markdown",
   "id": "ece3d38b-b1a5-45f1-af1f-0e283e08e267",
   "metadata": {},
   "source": [
    "### <FONT COLOR=\"blue\">**Q2.** </FONT>\n",
    "\n",
    "Se proveen una letra '1' y tres '0'. Use estas para construir el número 1000. Aquí solo se permiten operaciones de adición entre strings, y la función int() puede ser usada sólo una vez.\n",
    "\n",
    "<table style='font-size:150%; width:100%'>\n",
    "  <tr>\n",
    "      <td>\n",
    "          <b>Condición para la ejecución</b>\n",
    "      </td>\n",
    "      <td>\n",
    "          Retorne el número '1000'\n",
    "      </td>\n",
    "  </tr>\n",
    "  <tr>\n",
    "      <td>\n",
    "          <b>Tiempo</b>\n",
    "      </td>\n",
    "      <td>\n",
    "          5 Minutos\n",
    "      </td>\n",
    "  </tr>\n",
    "</table>\n",
    "\n",
    "| Escriba el código y el resultado de salida esperado en una hoja"
   ]
  },
  {
   "cell_type": "markdown",
   "id": "fd1a0d99-c935-4e14-9318-086de1ad9613",
   "metadata": {},
   "source": [
    "## <FONT COLOR=\"blue\"> Vamos a codificar </FONT>\n",
    "\n",
    "### <FONT COLOR=\"blue\"> 1. Tipos de datos numéricos, aritmética y división</FONT>\n",
    "\n",
    "#### **1.1. Operaciones aritméticas**"
   ]
  },
  {
   "cell_type": "markdown",
   "id": "03a32de4-932f-4d48-9e57-b93b46831e8e",
   "metadata": {},
   "source": [
    "\n",
    "\n",
    "<table style='font-size:150%; width:100%'>\n",
    "  <tr>\n",
    "      <td>\n",
    "          <img src=\"https://ambg0231.github.io/unidad3_/WoodenCube.png\" controls=\"controls\" style=\"width: 500px;\">\n",
    "      </td>\n",
    "      <td>\n",
    "        <ul>\n",
    "            <li>Implemente varias operaciones matemáticas en Python, incluyendo adición, sustracción, multiplicación, división y raíz cuadrada.</li>\n",
    "        </ul>\n",
    "      </td>\n",
    "  </tr>\n",
    "</table>"
   ]
  },
  {
   "cell_type": "markdown",
   "id": "4528380f-8984-44ec-a238-2de08e1ccafd",
   "metadata": {},
   "source": [
    "Realice cálculos aritméticos codificando"
   ]
  },
  {
   "cell_type": "code",
   "execution_count": 40,
   "id": "c3cebd70-6eac-437a-a16c-45f26dfcecb8",
   "metadata": {},
   "outputs": [
    {
     "data": {
      "text/plain": [
       "6"
      ]
     },
     "execution_count": 40,
     "metadata": {},
     "output_type": "execute_result"
    }
   ],
   "source": [
    "1 + 5"
   ]
  },
  {
   "cell_type": "code",
   "execution_count": 41,
   "id": "d9a59dd4-66e9-4b8c-9145-e80dd3c111d9",
   "metadata": {},
   "outputs": [
    {
     "data": {
      "text/plain": [
       "-7"
      ]
     },
     "execution_count": 41,
     "metadata": {},
     "output_type": "execute_result"
    }
   ],
   "source": [
    "1 - 8"
   ]
  },
  {
   "cell_type": "code",
   "execution_count": 42,
   "id": "efd3c586-d3ca-490f-881c-7adb2ebe8366",
   "metadata": {},
   "outputs": [
    {
     "data": {
      "text/plain": [
       "20"
      ]
     },
     "execution_count": 42,
     "metadata": {},
     "output_type": "execute_result"
    }
   ],
   "source": [
    "4 * 5"
   ]
  },
  {
   "cell_type": "code",
   "execution_count": 43,
   "id": "16b5bb38-36bc-47d5-b2cb-8c309cf8b6fd",
   "metadata": {},
   "outputs": [
    {
     "data": {
      "text/plain": [
       "1"
      ]
     },
     "execution_count": 43,
     "metadata": {},
     "output_type": "execute_result"
    }
   ],
   "source": [
    "5 // 3"
   ]
  },
  {
   "cell_type": "markdown",
   "id": "c1df0bbe-8bc4-4b14-8436-63dfe6ee9de9",
   "metadata": {},
   "source": [
    "**Línea 1**\n",
    "\n",
    "* Calcule la adición\n",
    "\n",
    "**Línea 2**\n",
    "\n",
    "* Calcule la sustracción"
   ]
  },
  {
   "cell_type": "markdown",
   "id": "24ade5de-521a-44e7-ad5a-1c1ff53879c6",
   "metadata": {},
   "source": [
    "**Línea 3**\n",
    "\n",
    "* Calcule la multiplicación\n",
    "\n",
    "**Línea 2**\n",
    "\n",
    "* División piso (cociente): retorna 1, que es el cociente de dividir 5 entre 3."
   ]
  },
  {
   "cell_type": "code",
   "execution_count": 44,
   "id": "1305bfcb-9418-49a7-bf25-9042670307bb",
   "metadata": {},
   "outputs": [
    {
     "data": {
      "text/plain": [
       "1024"
      ]
     },
     "execution_count": 44,
     "metadata": {},
     "output_type": "execute_result"
    }
   ],
   "source": [
    "2 ** 10"
   ]
  },
  {
   "cell_type": "code",
   "execution_count": 45,
   "id": "91f13ef6-9ed7-4a71-b3e6-2f9b3fe5d731",
   "metadata": {},
   "outputs": [
    {
     "data": {
      "text/plain": [
       "4"
      ]
     },
     "execution_count": 45,
     "metadata": {},
     "output_type": "execute_result"
    }
   ],
   "source": [
    "9 % 5"
   ]
  },
  {
   "cell_type": "markdown",
   "id": "a252f78c-c7f3-4a1b-839a-a449d7f44214",
   "metadata": {},
   "source": [
    "**Línea 1 ~ 2**\n",
    "\n",
    "* 1: Se ejecuta la potencia 2<sup>10</sup> para devolver 1024\n",
    "\n",
    "* 2: Se llama módulo. Devuelve el residuo de 9 dividido entre 5 el cual es 4."
   ]
  },
  {
   "cell_type": "code",
   "execution_count": 47,
   "id": "c2f8ee8a-0f5c-4ede-be3f-569e8e6b9a59",
   "metadata": {},
   "outputs": [
    {
     "data": {
      "text/plain": [
       "11"
      ]
     },
     "execution_count": 47,
     "metadata": {},
     "output_type": "execute_result"
    }
   ],
   "source": [
    "1 + 2 * 5"
   ]
  },
  {
   "cell_type": "code",
   "execution_count": 49,
   "id": "e36a6321-6259-4d0c-a68a-f70fa1554da7",
   "metadata": {},
   "outputs": [
    {
     "data": {
      "text/plain": [
       "15"
      ]
     },
     "execution_count": 49,
     "metadata": {},
     "output_type": "execute_result"
    }
   ],
   "source": [
    "(1 + 2) * 5"
   ]
  },
  {
   "cell_type": "markdown",
   "id": "04e38b28-46a7-4723-b6d8-5b239590ba05",
   "metadata": {},
   "source": [
    "**Línea 1 ~ 2**\n",
    "\n",
    "* 1: Las operaciones numéricas tiene la misma precedencia que las operaciones aritméticas generales. En otras palabras, la multiplicación y la división se ejecutan antes que la adición.\n",
    "\n",
    "* 2: Si hay un paréntesis, se calcula este primero."
   ]
  },
  {
   "cell_type": "code",
   "execution_count": 50,
   "id": "3d0ab846-8c06-4d4d-aa70-ed4e45ffefc5",
   "metadata": {},
   "outputs": [
    {
     "data": {
      "text/plain": [
       "(8+6j)"
      ]
     },
     "execution_count": 50,
     "metadata": {},
     "output_type": "execute_result"
    }
   ],
   "source": [
    "(3 + 4j) + (5 + 2j) # Adición de números complejos"
   ]
  },
  {
   "cell_type": "code",
   "execution_count": 51,
   "id": "6973bb87-e2e9-43b6-844e-bd85408ff128",
   "metadata": {},
   "outputs": [
    {
     "data": {
      "text/plain": [
       "(-2+2j)"
      ]
     },
     "execution_count": 51,
     "metadata": {},
     "output_type": "execute_result"
    }
   ],
   "source": [
    "(3 + 4j) - (5 + 2j) # Sustracción de números complejos"
   ]
  },
  {
   "cell_type": "code",
   "execution_count": 52,
   "id": "8bd70c4d-c083-473b-9e7c-75020920aa41",
   "metadata": {},
   "outputs": [
    {
     "data": {
      "text/plain": [
       "(7+26j)"
      ]
     },
     "execution_count": 52,
     "metadata": {},
     "output_type": "execute_result"
    }
   ],
   "source": [
    "(3 + 4j) * (5 + 2j) # Multiplicación de números complejos"
   ]
  },
  {
   "cell_type": "code",
   "execution_count": 53,
   "id": "601e6294-5d8a-415b-bb49-91e12d82cc18",
   "metadata": {},
   "outputs": [
    {
     "data": {
      "text/plain": [
       "(0.793103448275862+0.48275862068965514j)"
      ]
     },
     "execution_count": 53,
     "metadata": {},
     "output_type": "execute_result"
    }
   ],
   "source": [
    "(3 + 4j) / (5 + 2j) # División de números complejos"
   ]
  },
  {
   "cell_type": "markdown",
   "id": "28e24154-14e6-4bb2-b6e7-81ed037fd692",
   "metadata": {},
   "source": [
    "**Línea 1 ~ 4**\n",
    "\n",
    "* Adición, sustracción, multiplicación y división de números complejos."
   ]
  },
  {
   "cell_type": "markdown",
   "id": "53504432-c626-42d8-884f-123554cdda92",
   "metadata": {},
   "source": [
    "\n",
    "### <FONT COLOR=\"blue\"> 2. Tipos de datos de objetos, prioridades de operadores y conversión de tipos de datos </FONT>\n",
    "#### **2.1. Identificar y convertir tipos de datos**\n",
    "\n",
    "La identificación y conversión de un cierto valor de un tipo de dato es un tema importante.\n",
    "\n",
    "\n",
    "_______________ int(\"10\")  <span style=\"color:blue\"># Convierte el string \"10\" en el entero 10</span> __________________\n",
    "\n",
    "\n",
    "El tipo de dato es crítico porque el operador a ser usado varía dependiendo el tipo de dato."
   ]
  },
  {
   "cell_type": "code",
   "execution_count": 54,
   "id": "a20ba82c-9ef9-44f1-9d8d-4f80b38fc14d",
   "metadata": {},
   "outputs": [
    {
     "data": {
      "text/plain": [
       "int"
      ]
     },
     "execution_count": 54,
     "metadata": {},
     "output_type": "execute_result"
    }
   ],
   "source": [
    "type(10)"
   ]
  },
  {
   "cell_type": "code",
   "execution_count": 55,
   "id": "852fa8d9-58fc-4525-b41c-68d63b73f94b",
   "metadata": {},
   "outputs": [
    {
     "data": {
      "text/plain": [
       "str"
      ]
     },
     "execution_count": 55,
     "metadata": {},
     "output_type": "execute_result"
    }
   ],
   "source": [
    "type(\"10\")"
   ]
  },
  {
   "cell_type": "code",
   "execution_count": 56,
   "id": "3b90140d-9b3e-4dac-9541-f2101e0262e2",
   "metadata": {},
   "outputs": [
    {
     "data": {
      "text/plain": [
       "float"
      ]
     },
     "execution_count": 56,
     "metadata": {},
     "output_type": "execute_result"
    }
   ],
   "source": [
    "type(10.5)"
   ]
  },
  {
   "cell_type": "markdown",
   "id": "5a2e71ec-06c3-4d62-a847-74629a0e5ac2",
   "metadata": {},
   "source": [
    "**Línea 1**\n",
    "\n",
    "* Cuando un número (entero) es una entrada, se marca como un int.\n",
    "\n",
    "**Línea 2**\n",
    "\n",
    "* Cuando un string es una entrada, se marca como str(string)"
   ]
  },
  {
   "cell_type": "markdown",
   "id": "b031a03b-4281-44d1-91f7-83ff5d8b30ed",
   "metadata": {},
   "source": [
    "**Línea 3**\n",
    "\n",
    "* Cuando un número (número real) con puntos decimales es una entrada, se marca como float."
   ]
  },
  {
   "cell_type": "markdown",
   "id": "c9b33b35-dd77-4e70-a652-8d329b28ae70",
   "metadata": {},
   "source": [
    "<img src=\"https://ambg0231.github.io/unidad3_/OMS3.png\"  width= \"1000px\" />"
   ]
  },
  {
   "cell_type": "markdown",
   "id": "8e9a390b-0226-45d4-8c1f-5c6b1b3a5a15",
   "metadata": {},
   "source": [
    "#### **2.2. ¿Cómo convertir un tipo de dato?**"
   ]
  },
  {
   "cell_type": "code",
   "execution_count": 58,
   "id": "d38e7fc9-8b9b-4d10-9367-9bee8bcbdadc",
   "metadata": {},
   "outputs": [
    {
     "data": {
      "text/plain": [
       "50"
      ]
     },
     "execution_count": 58,
     "metadata": {},
     "output_type": "execute_result"
    }
   ],
   "source": [
    "int(\"50\")"
   ]
  },
  {
   "cell_type": "code",
   "execution_count": 59,
   "id": "be8cb1cf-f947-425c-90be-722b27059062",
   "metadata": {},
   "outputs": [
    {
     "data": {
      "text/plain": [
       "70"
      ]
     },
     "execution_count": 59,
     "metadata": {},
     "output_type": "execute_result"
    }
   ],
   "source": [
    "int(\"50\") + 20"
   ]
  },
  {
   "cell_type": "code",
   "execution_count": 60,
   "id": "8db7a6e7-f285-4577-a3e4-f555089a2d08",
   "metadata": {},
   "outputs": [
    {
     "data": {
      "text/plain": [
       "'1010'"
      ]
     },
     "execution_count": 60,
     "metadata": {},
     "output_type": "execute_result"
    }
   ],
   "source": [
    "\"10\" + str(10)"
   ]
  },
  {
   "cell_type": "code",
   "execution_count": 61,
   "id": "326ea58c-e93f-4a62-b848-6f59ffc1564d",
   "metadata": {},
   "outputs": [
    {
     "data": {
      "text/plain": [
       "10.5"
      ]
     },
     "execution_count": 61,
     "metadata": {},
     "output_type": "execute_result"
    }
   ],
   "source": [
    "float(\"10.5\")"
   ]
  },
  {
   "cell_type": "markdown",
   "id": "95c3f927-354e-487d-8d7c-1a7bf5c5638d",
   "metadata": {},
   "source": [
    "**Línea 1 ~ 2**\n",
    "\n",
    "* 1: Use la función int para remplazar letras por números.\n",
    "\n",
    "* 2: Dado que el string \"50\" se ha cambiado a un entero a través de int(\"50\"), la operación + 20 se ejecuta."
   ]
  },
  {
   "cell_type": "markdown",
   "id": "09ee5bba-15a2-4168-8906-c4ec70bd9dae",
   "metadata": {},
   "source": [
    "**Línea 3 ~ 4**\n",
    "\n",
    "* 3: Para remplazar números por letras, use la función str.\n",
    "\n",
    "* 4: Use la función float para remplazar la letra por un número real."
   ]
  },
  {
   "cell_type": "markdown",
   "id": "992a77ef-d481-4d1c-88b6-0fa4297e9bcc",
   "metadata": {},
   "source": [
    "### <FONT COLOR=\"blue\">3. Strings y Operadores</FONT>\n",
    "#### **3.1. Operadores de adición y multiplicación de strings**\n",
    "\n",
    "El string puede usar operadores como adición y multiplicación. La sustracción y división no pueden usarse con estos."
   ]
  },
  {
   "cell_type": "code",
   "execution_count": 62,
   "id": "fa3a2b3f-88a5-485a-a1e5-00f86a6ac907",
   "metadata": {},
   "outputs": [
    {
     "data": {
      "text/plain": [
       "'HeloWorld'"
      ]
     },
     "execution_count": 62,
     "metadata": {},
     "output_type": "execute_result"
    }
   ],
   "source": [
    "\"Helo\" + \"World\""
   ]
  },
  {
   "cell_type": "code",
   "execution_count": 64,
   "id": "d2d857a3-8da3-45c6-9e73-526acab6251d",
   "metadata": {},
   "outputs": [
    {
     "data": {
      "text/plain": [
       "'textrepeatrepeatrepeatrepeatrepeatrepeatrepeatrepeatrepeatrepeat'"
      ]
     },
     "execution_count": 64,
     "metadata": {},
     "output_type": "execute_result"
    }
   ],
   "source": [
    "\"text\" + \"repeat\" * 10"
   ]
  },
  {
   "cell_type": "markdown",
   "id": "f353555d-62a6-4124-a3ea-5c47cd611721",
   "metadata": {},
   "source": [
    "**Línea 1**\n",
    "\n",
    "* Un string no se puede sustraer, pero se puede adicionar. Dos strings se pueden adicionar para conectarlos."
   ]
  },
  {
   "cell_type": "markdown",
   "id": "96945272-5cbe-446b-adf3-9dc39d7b4d76",
   "metadata": {},
   "source": [
    "**Línea 2**\n",
    "\n",
    "* Cuando un string se multiplica por un entero, el string se repite. Aquí, 'repeat' se repite 10 veces.\n",
    "\n",
    "* Sin embargo, la división y la sustracción no funcionan."
   ]
  },
  {
   "cell_type": "markdown",
   "id": "96b741d7-84d3-46a7-bcea-9637ff69205a",
   "metadata": {},
   "source": [
    "### **3.2. Comillas simples y dobles**\n",
    "\n",
    "Cuando se imprime un string, se obtiene el mismo resultado si se usa comillas simples como 'Hello Python!!' o dobles como \"Hello Python!!\"."
   ]
  },
  {
   "cell_type": "code",
   "execution_count": 65,
   "id": "92d12e8f-46b1-4fa4-a9ff-7e833768a608",
   "metadata": {},
   "outputs": [
    {
     "name": "stdout",
     "output_type": "stream",
     "text": [
      "Hello World\n",
      "Hello World\n"
     ]
    }
   ],
   "source": [
    "print(\"Hello World\")\n",
    "print('Hello World')"
   ]
  },
  {
   "cell_type": "markdown",
   "id": "adfc2077-0485-4763-824a-dddbb1a37b88",
   "metadata": {},
   "source": [
    "**Línea 1 ~ 2**\n",
    "\n",
    "* Los strings \" ~~ \" y ' ~~ ' muestran el mismo resultado."
   ]
  },
  {
   "cell_type": "code",
   "execution_count": 66,
   "id": "69a84f81-69df-4570-8a90-8bd965e2f308",
   "metadata": {},
   "outputs": [
    {
     "name": "stdout",
     "output_type": "stream",
     "text": [
      "I am 23 years old\n",
      "I really really really  love Python!\n"
     ]
    }
   ],
   "source": [
    "print('I am', 23, 'years old')\n",
    "print('I', 'really ' * 3, 'love', 'Python!')"
   ]
  },
  {
   "cell_type": "markdown",
   "id": "cc22fafe-10cb-4ef1-b93d-5913feed8c66",
   "metadata": {},
   "source": [
    "**Línea 1 ~ 2**\n",
    "\n",
    "* Se imprimieron valores numéricos y strings usando comas.\n",
    "\n",
    "* La coma automáticamente añade un espacio cuando retorna la salida."
   ]
  },
  {
   "cell_type": "markdown",
   "id": "f08dae8a-71bd-4ef9-9b2a-1c91fcd239dc",
   "metadata": {},
   "source": [
    "### **3.3. Secuencia de escape**\n",
    "\n",
    "La secuencia de escape \\ se puede usar para retornar comillas simples o dobles en la pantalla."
   ]
  },
  {
   "cell_type": "code",
   "execution_count": 67,
   "id": "9e358ea8-ee48-4fad-9905-2d995de7dec7",
   "metadata": {},
   "outputs": [
    {
     "name": "stdout",
     "output_type": "stream",
     "text": [
      "\"double quotation marks\"\n"
     ]
    }
   ],
   "source": [
    "print(\"\\\"double quotation marks\\\"\")"
   ]
  },
  {
   "cell_type": "code",
   "execution_count": 68,
   "id": "fc87e305-cac3-4e75-b5e3-cdc1ccff8688",
   "metadata": {},
   "outputs": [
    {
     "name": "stdout",
     "output_type": "stream",
     "text": [
      "'double quotation marks'\n"
     ]
    }
   ],
   "source": [
    "print(\"\\'double quotation marks\\'\")"
   ]
  },
  {
   "cell_type": "markdown",
   "id": "bead1c6a-2786-49da-ac48-f924ef1f4ce7",
   "metadata": {},
   "source": [
    "**Línea 1 ~ 2**\n",
    "\n",
    "* Los strings deben estar encerrados en comillas simples o dobles.\n",
    "\n",
    "* Por ello es difícil indicar comillas. En este caso, usted puede usar \\\\.\n",
    "\n",
    "* Una secuencia de escape se refiere a un caracter especial usado para controlar un computador, y dado que una comilla simple o doble se define para definir un string, se retorna usando el caracter de control \\\\ para retornarlo."
   ]
  },
  {
   "cell_type": "markdown",
   "id": "03d2bbad-bf36-4635-ad8c-ed1027f24049",
   "metadata": {},
   "source": [
    "La secuencia de escape: \\n se usa para pasar a la siguiente línea."
   ]
  },
  {
   "cell_type": "code",
   "execution_count": 69,
   "id": "8b819568-001e-48eb-b0bb-f03812b2a3de",
   "metadata": {},
   "outputs": [
    {
     "name": "stdout",
     "output_type": "stream",
     "text": [
      "Line\n",
      "break\n"
     ]
    }
   ],
   "source": [
    "print(\"Line\\nbreak\")"
   ]
  },
  {
   "cell_type": "markdown",
   "id": "cac1230d-8411-458b-98d8-9ff493f1277f",
   "metadata": {},
   "source": [
    "**Línea 1**\n",
    "\n",
    "* <Barra diagonal invertida + caracter> se usa para mostrar caracteres especiales como un cambio de línea. \\n es un caracter para campiar a la siguiente línea, y \\t es un caracter de tabulación."
   ]
  },
  {
   "cell_type": "markdown",
   "id": "ef4d5903-163e-45be-a2cc-149d4be6c3d3",
   "metadata": {},
   "source": [
    "La secuencia de escape: \\t se usa cuando se quiere ingresar una tabulación."
   ]
  },
  {
   "cell_type": "code",
   "execution_count": 71,
   "id": "dc078820-ec36-48d7-8020-febb24bc92b2",
   "metadata": {},
   "outputs": [
    {
     "name": "stdout",
     "output_type": "stream",
     "text": [
      "Enter a \t tab in the middle of the sentence.\n"
     ]
    }
   ],
   "source": [
    "print(\"Enter a \\t tab in the middle of the sentence.\")"
   ]
  },
  {
   "cell_type": "markdown",
   "id": "a1910eec-da23-44ae-ade2-f10cd0c81301",
   "metadata": {},
   "source": [
    "**Línea 1**\n",
    "\n",
    "* Cuando se quiera ingresar una tabulación en medio de una sentencia, ingrese \\t en la ubicación correspondiente."
   ]
  },
  {
   "cell_type": "code",
   "execution_count": 72,
   "id": "6e6bd679-2f86-413f-9379-427312b6b26c",
   "metadata": {},
   "outputs": [
    {
     "name": "stdout",
     "output_type": "stream",
     "text": [
      "\tEnter a tab at first.\n"
     ]
    }
   ],
   "source": [
    "print(\"\\tEnter a tab at first.\")"
   ]
  },
  {
   "cell_type": "markdown",
   "id": "22c0fd60-0bc8-4f86-aaf2-5fd56b07f6bb",
   "metadata": {
    "tags": []
   },
   "source": [
    "**Línea 1**\n",
    "\n",
    "* Cuando se quiere ingresar una tabulación al inicio de una sentencia, ingrese \\t como el primer caracter de salida."
   ]
  },
  {
   "cell_type": "markdown",
   "id": "f5bfaffc-4cc9-41cc-99f5-decd0dcc66a2",
   "metadata": {},
   "source": [
    "#### **3.5. Indexación de strings**\n",
    "\n",
    "Indexación de strings: Se puede usar para obtener <span style=\"color:blue\">solo parte de una larga cadena de caracteres</span>. Use los brackets[] y números."
   ]
  },
  {
   "cell_type": "code",
   "execution_count": 74,
   "id": "d9d2e1b7-4ce7-493d-8773-1ce007a74487",
   "metadata": {},
   "outputs": [
    {
     "data": {
      "text/plain": [
       "'h'"
      ]
     },
     "execution_count": 74,
     "metadata": {},
     "output_type": "execute_result"
    }
   ],
   "source": [
    "\"hello\"[0]"
   ]
  },
  {
   "cell_type": "code",
   "execution_count": 75,
   "id": "9c10ecaf-24ce-4946-830b-6ad5d5c7b9ea",
   "metadata": {},
   "outputs": [
    {
     "data": {
      "text/plain": [
       "'l'"
      ]
     },
     "execution_count": 75,
     "metadata": {},
     "output_type": "execute_result"
    }
   ],
   "source": [
    "\"hello\"[2]"
   ]
  },
  {
   "cell_type": "markdown",
   "id": "d4776edc-2fc1-44d7-8a9b-7aa97c87dbcf",
   "metadata": {
    "tags": []
   },
   "source": [
    "**Línea 1**\n",
    "\n",
    "* La indexación de strings empieza por 0.\n",
    "\n",
    "* Es decir, cuando se indexa 0, h, la primera letra de \"hello\" se indexa.\n",
    "\n",
    "**Línea 2**\n",
    "\n",
    "* Cuando se usa 2 como índice en la indexación de strings, usted puede ver que la tercera letra \"l\" se indexa."
   ]
  },
  {
   "cell_type": "markdown",
   "id": "9cc48661-0d4a-4b8f-aa76-cf6411d83a07",
   "metadata": {},
   "source": [
    "#### **3.6. Indexación negativa de strings**\n",
    "\n",
    "Indexación de strings: Se puede usar para obtener <span style=\"color:blue\">solo parte de una larga cadena de caracteres</span>. Use los brackets[] y números."
   ]
  },
  {
   "cell_type": "code",
   "execution_count": 76,
   "id": "1a43db9c-02d6-4bb2-8791-357140de9f80",
   "metadata": {},
   "outputs": [
    {
     "data": {
      "text/plain": [
       "'o'"
      ]
     },
     "execution_count": 76,
     "metadata": {},
     "output_type": "execute_result"
    }
   ],
   "source": [
    "\"hello\"[-1]"
   ]
  },
  {
   "cell_type": "markdown",
   "id": "85f1f52c-80cf-4737-a415-dfabccf11710",
   "metadata": {},
   "source": [
    "**Línea 1**\n",
    "\n",
    "* Python soporta indexación negativa y cuando se indexa -1, se indexa el último caracter."
   ]
  },
  {
   "cell_type": "code",
   "execution_count": 77,
   "id": "19f0c9cb-c766-4902-b117-126bc96f6615",
   "metadata": {},
   "outputs": [
    {
     "data": {
      "text/plain": [
       "'h'"
      ]
     },
     "execution_count": 77,
     "metadata": {},
     "output_type": "execute_result"
    }
   ],
   "source": [
    "\"hello\"[-5]"
   ]
  },
  {
   "cell_type": "markdown",
   "id": "34483265-8908-4e2a-aa7d-26fc135904c6",
   "metadata": {},
   "source": [
    "**Línea 1**\n",
    "\n",
    "* Python soporta indexación negativa y cuando se indexa -5, se indexa el primer caracter."
   ]
  },
  {
   "cell_type": "markdown",
   "id": "d97a2c9e-5da4-4ee1-8d7c-3efaf07cae08",
   "metadata": {},
   "source": [
    "<img src=\"https://ambg0231.github.io/unidad3_/Attention.png\"  width= \"1000px\" />"
   ]
  },
  {
   "cell_type": "markdown",
   "id": "8bc7985d-98a8-4b76-8363-56911fe48aec",
   "metadata": {},
   "source": [
    "**Línea 1**\n",
    "\n",
    "* El string 'hello', tiene 5 caracteres. Por lo tanto el rango de indexación es de 0 a 4. Precaución: un ídice fuera de rango genera un error."
   ]
  },
  {
   "cell_type": "markdown",
   "id": "bb5e0809-39da-4ac9-9fe3-1a80b8d9fb30",
   "metadata": {},
   "source": [
    "## <FONT COLOR=\"blue\">Programación por parejas </FONT>\n",
    "\n",
    "### <FONT COLOR=\"blue\">Práctica de la programación en parejas </FONT>\n",
    "\n",
    "\n",
    "**Directriz, mecanismos y plan de contingencia**\n",
    "\n",
    " Preparar la programación por parejas implica establecer pautas y mecanismos para ayudar a los alumnos a emparejarse correctamente y mantenerlos emparejados.  Por ejemplo, los estudiantes deben turnarse para \"conducir el mouse\".  La preparación efectiva requiere planes de contingencia en caso de que uno de los socios se ausente o decida no participar por una u otra razón.  En estos casos, es importante dejar claro que el alumno activo no será sancionado porque el emparejamiento no funcionó bien.\n",
    " \n",
    "**Emparejar habilidades similares, no necesariamente iguales, como socios**\n",
    "\n",
    " La programación en parejas puede ser efectiva cuando los estudiantes con habilidades similares, aunque no necesariamente iguales, se emparejan como compañeros.  El emparejamiento de estudiantes que no coinciden a menudo puede conducir a una participación desequilibrada.  Los maestros deben enfatizar que la programación en parejas no es una estrategia de \"divide y vencerás\", sino más bien un verdadero esfuerzo de colaboración en cada esfuerzo por todo el proyecto.  Los maestros deben evitar emparejar a estudiantes muy débiles con estudiantes muy fuertes.\n",
    "\n",
    "**Motivar a los estudiantes ofreciendo incentivos adicionales**\n",
    "\n",
    " Ofrecer incentivos adicionales puede ayudar a motivar a los estudiantes a emparejarse, especialmente con estudiantes avanzados.  A algunos maestros les ha resultado útil pedirles a los estudiantes que se emparejen solo para una o dos tareas.\n",
    "\n",
    "**Evitar trampas en la colaboración**\n",
    "\n",
    " El desafío para el maestro es encontrar formas de evaluar los resultados individuales, mientras aprovecha los beneficios de la colaboración.  ¿Cómo saber si un estudiante aprendió o hizo trampa?  Los expertos recomiendan revisar el diseño y la evaluación del curso, así como discutir explícita y concretamente con los estudiantes los comportamientos que se interpretarán como trampa.  Los expertos alientan a los maestros a hacer que las tareas sean significativas para los estudiantes y a explicar el valor de lo que los estudiantes aprenderán al completarlas.\n",
    "\n",
    "**Entorno de aprendizaje colaborativo**\n",
    "\n",
    " Un entorno de aprendizaje colaborativo ocurre cada vez que un instructor requiere que los estudiantes trabajen juntos en actividades de aprendizaje.  Los entornos de aprendizaje colaborativo pueden implicar actividades tanto formales como informales y pueden incluir o no una evaluación directa.  Por ejemplo, parejas de estudiantes trabajan en asignaciones de programación; pequeños grupos de estudiantes discuten posibles respuestas a la pregunta de un profesor durante la lección; y los estudiantes trabajan juntos fuera de clase para aprender nuevos conceptos.  El aprendizaje colaborativo es distinto de los proyectos en los que los estudiantes \"dividen y vencerán\".  Cuando los estudiantes dividen el trabajo, cada uno es responsable de solo una parte de la resolución del problema y hay oportunidades muy limitadas para resolver los problemas con los demás.  En entornos colaborativos, los estudiantes participan en conversaciones intelectuales entre ellos.\n",
    "\n"
   ]
  },
  {
   "cell_type": "markdown",
   "id": "a8543dbf-bd31-4021-b8fa-4db692a38a04",
   "metadata": {},
   "source": [
    "### <FONT COLOR=\"blue\">**Q1.** </FONT>\n",
    "\n",
    "n! se define como n * (n-1) * (n-2) * (n-3) *...* 2 * 1. Encuentre 5! y 10! usando enteros y el operador * e imprimalos como sigue."
   ]
  },
  {
   "cell_type": "markdown",
   "id": "cea94e0a-5b12-4faf-9416-652337d135a9",
   "metadata": {},
   "source": [
    "### <span style=\"color:blue\">Ejemplo de resultado</span>\n",
    "\n",
    "Calcule el factorial.\n",
    "\n",
    "5! = 120\n",
    "\n",
    "Calcule el factorial.\n",
    "\n",
    "10! = 3628800"
   ]
  },
  {
   "cell_type": "code",
   "execution_count": null,
   "id": "7f4c1e49-ca05-4365-89ee-91392beb05e6",
   "metadata": {},
   "outputs": [],
   "source": []
  }
 ],
 "metadata": {
  "kernelspec": {
   "display_name": "Python 3.9.13 64-bit (microsoft store)",
   "language": "python",
   "name": "python3"
  },
  "language_info": {
   "codemirror_mode": {
    "name": "ipython",
    "version": 3
   },
   "file_extension": ".py",
   "mimetype": "text/x-python",
   "name": "python",
   "nbconvert_exporter": "python",
   "pygments_lexer": "ipython3",
   "version": "3.9.13"
  },
  "vscode": {
   "interpreter": {
    "hash": "d6ff7cb00638fb92356a42c28981a177178b7e1976aa8ecd498ce1508ea8d5e4"
   }
  }
 },
 "nbformat": 4,
 "nbformat_minor": 5
}
