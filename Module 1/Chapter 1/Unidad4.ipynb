{
 "cells": [
  {
   "cell_type": "markdown",
   "id": "700e3f6b",
   "metadata": {},
   "source": [
    "# <FONT COLOR=\"blue\"> **Samsung Innovation Campus**</FONT>  \n",
    "\n",
    "## <FONT COLOR=\"blue\">**Codificación y programación**</FONT>\n",
    "\n",
    "# **Capítulo 1. Conceptos básicos de programación e iniciando Python**\n",
    "\n",
    "Descripción del capítulo\n",
    "\n",
    "## Objetivos del capítulo\n",
    "\n",
    "Los estudiantes podrán configurar un ambiente de práctica para Python y aprender los fundamentos de programación. Los estudiantes se familiarizarán con los fundamentos de Python como entradas/salidas, tipos de datos, y variables. Adicionalmente, adquirirán habilidades para la resolución de problemas de codificación a través de varios operadores, condicionales y ciclos.\n",
    "\n",
    "## Contenido del capítulo\n",
    "\n",
    "* Unidad 1. Programación secuencial\n",
    "* Unidad 2. Planeación para la programación\n",
    "* Unidad 3. Fundamentos de tipos de datos numéricos y operaciones aritméticas\n",
    "* Unidad 4. Variables y entradas\n",
    "* Unidad 5. Operaciones lógicas y de comparación\n",
    "* Unidad 6. Sentencias condicionales-1: Condiciones y toma de decisiones\n",
    "* Unidad 7. Sentencias condicionales-2: Toma de decisiones en dos direcciones y aplicación de sentencias condicionales\n",
    "* Unidad 8. Bucle-1\n",
    "* Unidad 9. Bucle-2"
   ]
  },
  {
   "cell_type": "markdown",
   "id": "6b0526cf-1b76-4762-be74-ba8cbb74a08c",
   "metadata": {},
   "source": [
    "# **Unidad 4. Variables y entradas**"
   ]
  },
  {
   "cell_type": "markdown",
   "id": "b8d06040-d27d-4dd0-810a-acf41d2c6165",
   "metadata": {},
   "source": [
    "## Objetivos de aprendizaje\n",
    "\n",
    "* Entender el concepto de variables y estar en capacidad de imprimir variables y constantes.\n",
    "* Entender el tipo de datos de variables y el uso de operadores de asignación, así como ser capaz de usar variables.\n",
    "* Entender el concepto y los tipos de operadores de asignación compuesta, así como ser capaz de hacer sumas acumulativas de variables.\n",
    "* Poder asignar valores y calcular variables usando operadores aritméticos."
   ]
  },
  {
   "cell_type": "markdown",
   "id": "bacb1214-f88f-44a0-a258-f635156fc25e",
   "metadata": {},
   "source": [
    "## Resumen del Aprendizaje\n",
    "\n",
    "* Aprender el concepto de variables y sus operaciones.\n",
    "* Aprender los tipos de datos de variables y strings.\n",
    "* Aprender el concepto de operadores aritméticos y el orden de operaciones basado en variables.\n",
    "* Aprender la suma acumulativa de valores usando operadores de asignación compuesta\n",
    "\n",
    "## Conceptos que necesitará saber de unidades anteriores\n",
    "\n",
    "* Como usar la función print para imprimir la información en la pantalla, y usar input() para recibir valores de entradas del usuario.\n",
    "* Como usar la función str() para cambiar un tipo de dato numérico a un tipo de datos string (caracteres).\n",
    "* Como ejecutar operaciones aritméticas básicas usando tipos de datos numéricos"
   ]
  },
  {
   "cell_type": "markdown",
   "id": "d5757174-f555-48a5-8bbd-05bd5bd55d20",
   "metadata": {},
   "source": [
    "## Palabras Clave\n",
    "\n",
    "![Image](https://ambg0231.github.io/unidad4/Keywords.png)"
   ]
  },
  {
   "cell_type": "markdown",
   "id": "0f4edb9a-bde2-4660-88b6-f4e369c91886",
   "metadata": {},
   "source": [
    "## <FONT COLOR=\"blue\"> Misión </FONT>\n",
    "### <FONT COLOR=\"blue\">1. Problema del mundo real </FONT>\n",
    "#### **1.1. El problema social de la obesidad**"
   ]
  },
  {
   "cell_type": "markdown",
   "id": "989f1ecf-7f19-49cc-a7d2-74666b943e00",
   "metadata": {},
   "source": [
    "<table style='font-size:175%; width:100%'>\n",
    "  <tr>\n",
    "      <td>\n",
    "          <img src=\"https://ambg0231.github.io/unidad4/Obesity.png\" controls=\"controls\" style=\"width: 700px;\">\n",
    "      </td>\n",
    "      <td>\n",
    "        <ul>\n",
    "            <li>De acuerdo a estadísticas de 2013 de la Euro OMS, 50% de los europeos están reportados en sobrepeso o obesidad. En otro reporte de 2019, 1 de cada 8 personas de la población mundial esta reportada como obesa.</li>\n",
    "            <li>La obesidad se está convirtiendo en un problema social importante alrededor del mundo.</li>\n",
    "            <li>El estándar de obesidad se mide a través del IMC (Indice de Masa Corporal).</li>\n",
    "            <li>El IMC se mide a partir de un calculo simple de la altura y el peso.</li>\n",
    "        </ul>\n",
    "      </td>\n",
    "  </tr>\n",
    "</table>\n",
    "\n",
    "* Su precisión sin embargo, es cuestionable ya que el porcentaje de grasa en el cuerpo se mide sin equipo profesional.\n",
    "* Lo que es más, el estándar IMC es establecido por la industria de las aseguradoras y no por doctores o científicos.\n",
    "* El origen del IMC viene de 1895, cuando Metropolitan (ahora MetLife), según reportes hizo un gráfico altura vs peso con los records de la altura, peso y edad de sus clientes."
   ]
  },
  {
   "cell_type": "markdown",
   "id": "38627029-0e8e-4dff-ad5d-8992b6b55c28",
   "metadata": {},
   "source": [
    "#### **1.2. ¿Qué es el IMC?**\n",
    "\n",
    "\n",
    "<table style='font-size:175%; width:100%'>\n",
    "  <tr>\n",
    "      <td>\n",
    "          <img src=\"https://ambg0231.github.io/unidad4/Charts.png\" controls=\"controls\" style=\"width: 650px;\">\n",
    "      </td>\n",
    "      <td>\n",
    "        <ul>\n",
    "            <li>La función para calcular el IMC (kg/m<sup>2</sup>) es (peso)/(altura)<sup>2</sup>. Las unidades son kg para el peso y m para la altura.</li>\n",
    "            <img src=\"https://ambg0231.github.io/unidad4/ExIMC.png\" style=\"width: 650px;\">\n",
    "            <li>El estándar de obesidad basado en el IMC es mayoritariamente universal en el hemisferio occidental; sin embargo, el estándar difiere un poco en países del este asiático.</li>\n",
    "        </ul>\n",
    "      </td>\n",
    "  </tr>\n",
    "</table>\n",
    "\n",
    "https://commons.wikimedia.org/wiki/File:Body_mass_index_chart.svg"
   ]
  },
  {
   "cell_type": "markdown",
   "id": "5fd36f0c-018b-4751-a7ca-addcf2ba4748",
   "metadata": {},
   "source": [
    "#### **1.3 Diagrama de estándares de IMC de la OMS**\n",
    "\n",
    "| El rango para un IMC normal según los estándares de la OMS es 18,5-24,9, y puede diferir de acuerdo al país de origen de la persona, la región y la edad.\n",
    "\n",
    "<img src=\"https://ambg0231.github.io/unidad4/Nutricion.png\" style=\"width: 450px;\">\n",
    "\n",
    "https://www.euro.who.int/en/health-topics/disease-prevention/nutrition/a-healthy-lifestyle/body-mass-index-bmi"
   ]
  },
  {
   "cell_type": "markdown",
   "id": "84e8cbef-82c5-40d6-8d93-5d0edf0293bb",
   "metadata": {},
   "source": [
    "### <FONT COLOR=\"blue\"> 2. Misión </FONT>\n",
    "\n",
    "#### **2.1. ¿Qué es una calculadora de IMC?**\n",
    "\n",
    "| Si se dirige al este sitio web, https://www.nhlbi.nih.gov/health/educational/lose_wt/BMI/bmicalc.htm, puede acceder la calculadora de IMC de la NIH (Nota: Este usa estándares diferentes a los de la OMS)\n",
    "\n",
    "<table style='font-size:175%; width:100%'>\n",
    "  <tr>\n",
    "      <td>\n",
    "          <img src=\"https://ambg0231.github.io/unidad4/NIHCalc.png\" controls=\"controls\" style=\"width: 350px;\">\n",
    "      </td>\n",
    "      <td>\n",
    "        <ul>\n",
    "            <li>Las categorías de obesidad según el IMC se calculan dividiendo el peso de la persona por el cuadrado de su altura. La función es Kg/m<sup>2</sup></li>\n",
    "            <li>De acuerdo con este sitio web, un IMC de 18,5 o menor es categorizado como en bajo peso, cuando está en el rango entre 18,5-24,9, se considera normal, mientras que un rango entre 25,0-29,9, es sobrepeso, y de 30 en adelante se considera obesidad.</li>\n",
    "            <img src=\"https://ambg0231.github.io/unidad4/ExIMC2.png\" style=\"width: 650px;\">\n",
    "        </ul>\n",
    "      </td>\n",
    "  </tr>\n",
    "</table>"
   ]
  },
  {
   "cell_type": "markdown",
   "id": "c773c1f5-8a90-4001-907d-c9aa8aee721c",
   "metadata": {},
   "source": [
    "#### **2.2. Como funciona la calculadora de IMC**"
   ]
  },
  {
   "cell_type": "code",
   "execution_count": 12,
   "id": "0d07e30c-d64f-453b-8230-402cbbf3240f",
   "metadata": {},
   "outputs": [
    {
     "name": "stdout",
     "output_type": "stream",
     "text": [
      "Enter name:  Nilson\n",
      "Enter height (cm) : 173\n",
      "Enter weight (kg) : 96\n"
     ]
    },
    {
     "name": "stdout",
     "output_type": "stream",
     "text": [
      "Nilson 's BMI is 32.075912994086 .\n"
     ]
    }
   ],
   "source": [
    "name = input(\"Enter name: \")\n",
    "height_cm = int(input(\"Enter height (cm) :\"))\n",
    "height_m = height_cm / 100\n",
    "weight = int(input(\"Enter weight (kg) :\"))\n",
    "bmi = weight / (height_m ** 2)\n",
    "print(name,\"'s BMI is\", bmi,\".\")"
   ]
  },
  {
   "cell_type": "markdown",
   "id": "2734027a-ee13-4e32-8778-106193715970",
   "metadata": {},
   "source": [
    "#### **2.3. Plan de programación**\n",
    "\n",
    "<table style='font-size:175%; width:100%'>\n",
    "  <tr>\n",
    "      <th>\n",
    "            | Pseudocódigo\n",
    "      </th>\n",
    "      <th>\n",
    "            | Diagrama de flujo\n",
    "      </th>\n",
    "  </tr>\n",
    "  <tr>\n",
    "      <td>\n",
    "          <img src=\"https://ambg0231.github.io/unidad4/Pseudo.png\" controls=\"controls\" style=\"width: 650px;\">\n",
    "      </td>\n",
    "      <td>\n",
    "          <img src=\"https://ambg0231.github.io/unidad4/Flowchart.png\" style=\"width: 450px;\">\n",
    "      </td>\n",
    "  </tr>\n",
    "</table>"
   ]
  },
  {
   "cell_type": "markdown",
   "id": "084c063e-0573-4cbd-96b5-d9e162d6a908",
   "metadata": {},
   "source": [
    "#### **2.4. código final de la calculadora de IMC**"
   ]
  },
  {
   "cell_type": "code",
   "execution_count": 1,
   "id": "3ae06520-34e1-4e67-97dd-87f4f3a387b5",
   "metadata": {},
   "outputs": [
    {
     "name": "stdout",
     "output_type": "stream",
     "text": [
      "carlos 's BMI is 24.691358024691358 .\n"
     ]
    }
   ],
   "source": [
    "name = input(\"Enter name: \")\n",
    "height_cm = int(input(\"Enter height (cm) :\"))\n",
    "height_m = height_cm / 100\n",
    "weight = int(input(\"Enter weight (kg) :\"))\n",
    "bmi = weight / (height_m ** 2)\n",
    "print(name,\"'s BMI is\", bmi,\".\")"
   ]
  },
  {
   "cell_type": "markdown",
   "id": "c11d8fab-c712-4f98-9e53-8413bdfa35e7",
   "metadata": {
    "tags": []
   },
   "source": [
    "## <FONT COLOR=\"blue\"> Concepto Clave </FONT>\n",
    "### <FONT COLOR=\"blue\"> 1. Declaración de variables</FONT>\n",
    "#### **1.1. ¿Qué es una variable?**"
   ]
  },
  {
   "cell_type": "markdown",
   "id": "3deb9d35-ada7-4864-9069-f158be187a20",
   "metadata": {},
   "source": [
    "Durante la programación, una sola equivocación en la conversión de múltiples valores puede generar un error. El uso de <span style=\"color:red\">variables</span> puede simplificar este proceso.\n",
    "\n",
    "<img src=\"https://ambg0231.github.io/unidad4/Vars.png\" style=\"width:850px;\">\n",
    "\n",
    "El valor de dentro de la caja se puede cambiar constantemente. Es mejor entender este valor como información. Dicha información puede contener un solo valor, como el peso = 78,7, y también puede contener uno o más valores como persona = ('David', 78,7)."
   ]
  },
  {
   "cell_type": "markdown",
   "id": "4815f251-84f2-413e-b6aa-62a2277b6455",
   "metadata": {},
   "source": [
    "#### **1.2. Gramática de la declaración de variables**\n",
    "\n",
    "| Los contenedores para guardar valores de datos se conocen como \"variables\". A diferencia de otros lenguajes de programación, como C o Java que requieren métodos específicos, Python no requiere que haya una declaración del tipo de datos de una variable.\n",
    "\n",
    "<span style=\"color:blue; font-size:200%\">**Ex**</span> Asuma que guardamos el peso de alguien como la variable \"weight\". Para hacer esto, hacemos lo siguiente:\n",
    "    El nombre y el peso pueden ser guardados en conjunto in un ()."
   ]
  },
  {
   "cell_type": "code",
   "execution_count": 13,
   "id": "40606004-0964-4ab5-8720-8b7b2fa4b22a",
   "metadata": {},
   "outputs": [],
   "source": [
    "weight = 78.8\n",
    "person = ('David', 78.7)"
   ]
  },
  {
   "cell_type": "markdown",
   "id": "c69f16aa-a688-401f-8ea4-3f77c315c5d2",
   "metadata": {},
   "source": [
    "**Línea 1,2**\n",
    "\n",
    "* Cuando se ejecuta el código, una variable con el nombre \"weight\" se crea en la memoria y el valor 78.7 se guarda.\n",
    "* En la variable \"person\", se guardan los valores ('David', 78.7). (Este tipo de datos se les llama tuples).\n",
    "* El '=' en el código de arriba no significa \"igual\", sino \"guardar el valor de la derecha con el nombre (weight) a la izquierda\". Este operador '=' se le llama operador de asignación."
   ]
  },
  {
   "cell_type": "markdown",
   "id": "0b7a4d54-e39d-48b0-a959-340065d109ab",
   "metadata": {},
   "source": [
    "!!! Asignar y llamar valores en variables minimiza errores y facilita la edición de programas!!!"
   ]
  },
  {
   "cell_type": "code",
   "execution_count": 14,
   "id": "10d16838-f72c-46b5-8114-2f799bbfb104",
   "metadata": {},
   "outputs": [
    {
     "name": "stdout",
     "output_type": "stream",
     "text": [
      "Radius of circle 4.0\n",
      "Area of circle 50.24\n",
      "Circunference of circle 25.12\n"
     ]
    }
   ],
   "source": [
    "radius = 4.0\n",
    "print('Radius of circle', radius)\n",
    "print('Area of circle', 3.14 * radius * radius)\n",
    "print('Circunference of circle', 2.0 * 3.14 * radius)"
   ]
  },
  {
   "cell_type": "markdown",
   "id": "a76c9711-6310-4355-ac73-dc5225175a80",
   "metadata": {},
   "source": [
    "<span style=\"color:blue; font-size:130%\">**Identificador**</span>:  \n",
    "\n",
    "Aprenderemos a trabajar con varios tipos de datos, pero para hacer esto, necesitamos nombres diferentes para diferenciar los datos en el código. De la misma forma como se diferencian personas por sus nombres, como \"James\" y \"Michael\", los identificadores tienen el rol de diferenciar variables.\n",
    "\n",
    "<img src=\"https://ambg0231.github.io/unidad4/Boxes.png\" style=\"width:750px;\">\n",
    "\n",
    "* Los identificadores se deben escribir con las siguientes reglas.\n",
    "    * Los identificadores deben ser una combinación de letras o dígitos o guion bajo(_), pero no pueden contener símbolos especiales.\n",
    "    * Los identificadores no pueden empezar con un dígito\n",
    "    * Los identificadores no pueden contener espacios o tabulaciones\n",
    "    * Los identificadores distinguen entre mayúsculas y minúsculas. Por lo cual las variables index e INDEX con distintas variables.\n",
    "    * Los identificadores no pueden usar las palabras reservadas de Python (o palabras claves)"
   ]
  },
  {
   "cell_type": "markdown",
   "id": "b03e66be-ccc9-48a5-adf1-88581730e936",
   "metadata": {},
   "source": [
    "#### **1.3 Declaración de variables e identificadores**\n",
    "\n",
    "<span style=\"color:blue; font-size:130%\">**Ejemplo de un identificador**</span>:  \n",
    "\n",
    "Calcule el área de un rectángulo usando su longitud y altura, donde la longitud es 10, y la altura es 5. Es posible usar el identificador \"width\" para guardar 10 y \"height\" para guardar 5, y luego continuar realizando el cálculo. De esta forma, los identificadores facilitan diferenciar variables."
   ]
  },
  {
   "cell_type": "code",
   "execution_count": 15,
   "id": "b6303034-8227-4e61-8fd1-95e8a38b266f",
   "metadata": {},
   "outputs": [
    {
     "name": "stdout",
     "output_type": "stream",
     "text": [
      "rectangle_area = 50\n"
     ]
    }
   ],
   "source": [
    "width = 10 # Identificador para diferenciar la longitud del rectángulo de otros datos\n",
    "height = 5 # Identificador para diferenciar la altura del rectángulo de otros datos\n",
    "rectangle_area = width * height\n",
    "print('rectangle_area =', rectangle_area)"
   ]
  },
  {
   "cell_type": "markdown",
   "id": "5f47dbf7-6660-429e-ad14-a3d6b3f324d9",
   "metadata": {},
   "source": [
    "**Línea 1,2**\n",
    "* Usando los identificadores width y height, podemos diferenciar la longitud y la altura del rectángulo de otros datos."
   ]
  },
  {
   "cell_type": "markdown",
   "id": "d0f88368-35f1-4f3c-b233-dedc056d494a",
   "metadata": {},
   "source": [
    "#### **1.4. Palabras claves de Python**\n",
    "\n",
    "Mientras que podemos nombrar libremente los identificadores, no podemos usar las palabras claves contenidas en Python como identificadores. Adicionalmente, las palabras claves no se pueden usar como nombres de variables.\n",
    "\n",
    "<img src=\"https://ambg0231.github.io/unidad4/KeyTable.png\" style=\"width:750px;\">"
   ]
  },
  {
   "cell_type": "markdown",
   "id": "14ad3b71-41d1-4805-ac76-9e4b5e83ebf9",
   "metadata": {},
   "source": [
    "Usar una palabra clave de Python para crear una variable resultará en un error como se muestra abajo\n",
    "\n",
    "<img src=\"https://ambg0231.github.io/unidad4/SynError.png\" style=\"width:750px;\">"
   ]
  },
  {
   "cell_type": "markdown",
   "id": "59b77d5c-7dd7-4116-92f8-1e4786faac3c",
   "metadata": {},
   "source": [
    "* Cómo buscar las palabras claves de Python:\n",
    "    * La lista de palabras claves de Python se puede buscar usando el siguiente método.\n",
    "    \n",
    "    (- La función import se cubrirá más adelante.)"
   ]
  },
  {
   "cell_type": "code",
   "execution_count": 17,
   "id": "fcd76b16-df9c-4ce0-9d5e-0ce386cfb52e",
   "metadata": {},
   "outputs": [
    {
     "name": "stdout",
     "output_type": "stream",
     "text": [
      "Python keyword list...\n",
      "['False', 'None', 'True', '__peg_parser__', 'and', 'as', 'assert', 'async', 'await', 'break', 'class', 'continue', 'def', 'del', 'elif', 'else', 'except', 'finally', 'for', 'from', 'global', 'if', 'import', 'in', 'is', 'lambda', 'nonlocal', 'not', 'or', 'pass', 'raise', 'return', 'try', 'while', 'with', 'yield']\n"
     ]
    }
   ],
   "source": [
    "import keyword\n",
    "\n",
    "# Search for Python Keywords\n",
    "print(\"Python keyword list...\")\n",
    "print(keyword.kwlist)"
   ]
  },
  {
   "cell_type": "markdown",
   "id": "4f734446-1eb1-41b1-b46d-3f3b54ec489b",
   "metadata": {},
   "source": [
    "<img src=\"https://ambg0231.github.io/unidad4/OMS1.png\" style=\"width:850px;\">"
   ]
  },
  {
   "cell_type": "markdown",
   "id": "d1a47dc1-98ff-42de-8894-0c5a26825c9b",
   "metadata": {},
   "source": [
    "<img src=\"https://ambg0231.github.io/unidad4/OMS2.png\" style=\"width:850px;\">"
   ]
  },
  {
   "cell_type": "markdown",
   "id": "19a8c7f2-fd6e-4cc1-b1a3-cad00e736c08",
   "metadata": {},
   "source": [
    "#### **1.6. String**\n",
    "\n",
    "Hasta el momento solo hemos almacenado números enteros y reales como variables. Sin embargo, también es posible guardar strings (cadenas de caracteres). En el mundo de la programación, a los datos en forma de texto se les llama strings.\n",
    "\n",
    "Para crear un string, usted necesita ya sea comillas simples ('') o comillas dobles (\"\"). Por lo tanto, \"Hello World!\" y 'Hello World!' son el mismo string."
   ]
  },
  {
   "cell_type": "code",
   "execution_count": 19,
   "id": "a42fe23c-adf4-4c5b-b0d1-2568e7ef55b6",
   "metadata": {},
   "outputs": [
    {
     "name": "stdout",
     "output_type": "stream",
     "text": [
      "Hello World\n"
     ]
    }
   ],
   "source": [
    "s1 = 'Hello World'\n",
    "print(s1)"
   ]
  },
  {
   "cell_type": "markdown",
   "id": "feb4d223-e6f3-41c3-b9a2-207b3b6e9e0d",
   "metadata": {},
   "source": [
    "En Python, a los datos de tipo string como los ejemplos de arriba se les llama objetos.\n",
    "\n",
    "En el siguiente ejemplo, la variable s1 sería la \"etiqueta\" que refiere a ese objeto. Los \"Objetos\" son los datos y funciones usadas en la programación en Python.\n",
    "\n",
    "<img src=\"https://ambg0231.github.io/unidad4/StringDraw.png\" style=\"width:850px;\">"
   ]
  },
  {
   "cell_type": "markdown",
   "id": "f67df13f-b05a-454f-b1d7-fdf0c5ec29f8",
   "metadata": {},
   "source": [
    "Los string pueden ejecutar operaciones de adición combinando dos strings con \"+\", como se muestra abajo."
   ]
  },
  {
   "cell_type": "code",
   "execution_count": 21,
   "id": "c69863aa-1411-4023-a2e1-24a251045797",
   "metadata": {},
   "outputs": [
    {
     "name": "stdout",
     "output_type": "stream",
     "text": [
      "HelloWorld!\n"
     ]
    }
   ],
   "source": [
    "s1 = \"Hello\"\n",
    "s2 = \"World!\"\n",
    "print(s1 + s2)"
   ]
  },
  {
   "cell_type": "markdown",
   "id": "accbc628-f6f3-4408-85db-c2f231333ea9",
   "metadata": {},
   "source": [
    "#### **1.7. Tipos de datos en Python**\n",
    "\n",
    "Tipos de datos: Definición y verificación del tipo de datos.\n",
    "\n",
    "Tipos de datos\n",
    "\n",
    "- Un tipo de datos es un tipo de información que puede ser procesada en lenguajes de programación.\n",
    "- Los tipos de datos básicos incluyen Booleanos, Números (Enteros, reales, complejos), Strings, Listas, Tuples, Sets (Conjuntos), y Diccionarios.\n",
    "- La función type() permite verificar el tipo de datos de un objeto."
   ]
  },
  {
   "cell_type": "markdown",
   "id": "d5bc6519-1a74-4971-ac71-d7990726651b",
   "metadata": {},
   "source": [
    "La escritura dinámica se puede usar para asignar variables a diferentes tipos de datos como se muestra abajo."
   ]
  },
  {
   "cell_type": "code",
   "execution_count": 23,
   "id": "a15979f7-9321-4e71-bb94-fa7a78788eb5",
   "metadata": {},
   "outputs": [
    {
     "name": "stdout",
     "output_type": "stream",
     "text": [
      "<class 'int'>\n",
      "<class 'float'>\n",
      "<class 'str'>\n"
     ]
    }
   ],
   "source": [
    "num = 85\n",
    "print(type(num))\n",
    "\n",
    "pi = 3.14159\n",
    "print(type(pi))\n",
    "\n",
    "message = \"Good morning\"\n",
    "print(type(message))"
   ]
  },
  {
   "cell_type": "markdown",
   "id": "bab3cbbc-1fed-46bf-8d71-58b450d30394",
   "metadata": {},
   "source": [
    "<img src=\"https://ambg0231.github.io/unidad4/OMS3.png\" style=\"width:850px;\">"
   ]
  },
  {
   "cell_type": "markdown",
   "id": "55bd8f9a-9302-48a1-821f-a9c06bf81a0e",
   "metadata": {},
   "source": [
    "#### **1.8. Operador de asignación en Python**\n",
    "\n",
    "Observe esta expresión 'result = 100 + 200'.\n",
    "\n",
    "Esta expresión quiere decir que <span style=\"color:red\">asignamos</span> el valor del lado derecho a la variable del lado izquierdo.\n",
    "\n",
    "<img src=\"https://ambg0231.github.io/unidad4/ResBoxes.png\" style=\"width:850px;\">\n",
    "\n",
    "El signo '=' en el código 'result = 100 + 200' no significa 'igual'. Significa 'almacenar el valor de la derecha del operador '=' en la variable 'result' a la izquierda de =.\n",
    "\n",
    "Este operador '=' se llama el <span style=\"color:red\">operador de asignación</span>."
   ]
  },
  {
   "cell_type": "markdown",
   "id": "ce8bb459-b397-4c15-90d3-f6e625800de1",
   "metadata": {},
   "source": [
    "### <FONT COLOR=\"blue\"> 2. Asignación de Variables y Referencias </FONT>\n",
    "#### **2.1. Asignación simultanea de Python**\n",
    "\n",
    "Como se muestra en la expresión x, y = 100, 200, es posible asignar múltiples variables a valores en una línea simultáneamente. Esto es llamado asignación simultanea."
   ]
  },
  {
   "cell_type": "code",
   "execution_count": 25,
   "id": "94f9059a-2f4e-412d-9f3d-ad56717d0290",
   "metadata": {},
   "outputs": [
    {
     "name": "stdout",
     "output_type": "stream",
     "text": [
      "300\n"
     ]
    }
   ],
   "source": [
    "x, y = 100, 200\n",
    "result = x + y\n",
    "print(result)"
   ]
  },
  {
   "cell_type": "markdown",
   "id": "295d31df-d3a7-40e4-b6d9-50854f3b497e",
   "metadata": {},
   "source": [
    "#### **2.2. Asignación múltiple de Python**\n",
    "\n",
    "| Como se muestra en num1 = num2 = num3 = 200, usted podría asignar 200 a múltiples variables."
   ]
  },
  {
   "cell_type": "code",
   "execution_count": 26,
   "id": "bf9a2f0e-4f66-4eb6-bc86-1ae933a94833",
   "metadata": {},
   "outputs": [
    {
     "name": "stdout",
     "output_type": "stream",
     "text": [
      "200 200 200\n"
     ]
    }
   ],
   "source": [
    "num1 = num2 = num3 = 200\n",
    "print(num1, num2, num3)"
   ]
  },
  {
   "cell_type": "markdown",
   "id": "250ee05c-a036-47e7-9b6d-5284ca5606fa",
   "metadata": {},
   "source": [
    "**Línea 1**\n",
    "\n",
    "* 200 se asigna a num1, num2, y num3. El orden de asignación empieza desde la derecha como se muestra abajo."
   ]
  },
  {
   "cell_type": "markdown",
   "id": "3fa3c924-ddc0-4d6a-893c-1826155da7e3",
   "metadata": {},
   "source": [
    "<img src=\"https://ambg0231.github.io/unidad4/AssOrd.png\" style=\"width:850px;\">"
   ]
  },
  {
   "cell_type": "markdown",
   "id": "aac47932-42b9-48ba-a760-2f902c4022ef",
   "metadata": {},
   "source": [
    "#### **2.3. El signo igual en Python**\n",
    "\n",
    "<img src=\"https://ambg0231.github.io/unidad4/EqSign.png\" style=\"width:850px;\">"
   ]
  },
  {
   "cell_type": "markdown",
   "id": "8c37d1c9-877b-4c65-9ad7-1fefe8bd4005",
   "metadata": {},
   "source": [
    "### <FONT COLOR=\"blue\"> 3. Operadores de asignación compuesta </FONT>\n",
    "\n",
    "#### **3.1. Una variedad de operadores de asignación compuesta en Python**\n",
    "\n",
    "Existe una variedad de operadores de asignación compuesta en Python. Aún si usted no está familiarizado con los operadores de asignación compuesta, de todas formas puede usar los operadores aritméticos y de asignación para codificar sin problemas.\n",
    "\n",
    "El no conocer ninguno de los operadores de asignación compuesta que los programadores frecuentemente usan, sin embargo, puede ser un problema al leer el código de alguien más.\n",
    "\n",
    "<img src=\"https://ambg0231.github.io/unidad4/OpComp.png\" style=\"width:850px;\">"
   ]
  },
  {
   "cell_type": "markdown",
   "id": "078ba95d-d8e1-4ff4-9943-769940a3eeb3",
   "metadata": {},
   "source": [
    "Es importante conocer los operadores de asignación compuesta\n",
    "\n",
    "Puede que usted no pueda estar en capacidad de leer y entender el código de alguien más si no conoce los operadores de asignación compuesta."
   ]
  },
  {
   "cell_type": "code",
   "execution_count": 29,
   "id": "0843e4b7-5ac8-4668-b683-1cc40e33b89c",
   "metadata": {},
   "outputs": [
    {
     "name": "stdout",
     "output_type": "stream",
     "text": [
      "300\n",
      "200\n",
      "4000\n",
      "2000.0\n"
     ]
    }
   ],
   "source": [
    "num = 200\n",
    "num += 100\n",
    "print(num)\n",
    "num -= 100\n",
    "print(num)\n",
    "num *= 20\n",
    "print(num)\n",
    "num /= 2\n",
    "print(num)"
   ]
  },
  {
   "cell_type": "markdown",
   "id": "5ffc181c-75a6-4a3f-b12e-7492c3564209",
   "metadata": {},
   "source": [
    "### <FONT COLOR=\"blue\"> 4. Operador Aritmético </FONT>\n",
    "#### **4.1. Operadores aritméticos en Python**\n",
    "\n",
    "Los operadores aritméticos ejecutan adiciones, sustracciones, multiplicaciones, divisiones, módulo y potenciaciones.\n",
    "\n",
    "Expresiones numéricas propias pueden incrementar la eficiencia de los cálculos y simplificar el código.\n",
    "\n",
    "En una expresión como a = 10 + 1, el 10 + 1 de la derecha del signo igual es el valor de evaluación. Este valor es calculado y asignado a 'a'. Tal aritmética, ejecutada por el operador aritmético y asignada a una variable es muy común.\n",
    "\n",
    "<img src=\"https://ambg0231.github.io/unidad4/BoxAritm.png\" style=\"width:850px;\">"
   ]
  },
  {
   "cell_type": "markdown",
   "id": "4974226c-7ad2-4a91-8de1-cde96e8426f6",
   "metadata": {},
   "source": [
    "#### **4.2. ¿Cómo funcionan los operadores aritméticos?**\n",
    "\n",
    "| En la expresión a + b, el + es un operador mientras que a, b son llamados operandos. Los Operadores de Python y sus operaciones se describen en la tabla de abajo.\n",
    "\n",
    "<img src=\"https://ambg0231.github.io/unidad4/AritmTable.png\" style=\"width:850px;\">"
   ]
  },
  {
   "cell_type": "markdown",
   "id": "fdd9dc4f-e25b-4051-848d-1c12540eec51",
   "metadata": {},
   "source": [
    "**Pista:** La raíz cuadrada de 4 se puede obtener como 4 ** 0.5. EL resultado es 2.\n",
    "\n",
    "<img src=\"https://ambg0231.github.io/unidad4/AritmTable2.png\" style=\"width:850px;\">"
   ]
  },
  {
   "cell_type": "markdown",
   "id": "0622a0ee-7876-48bd-ba75-aff2ce021c14",
   "metadata": {},
   "source": [
    "Observemos qué valores de tipo de datos cada variables recibe y como este se calcula usando esa variable.\n",
    "\n",
    "El siguiente código convierte el valor de entrada en un tipo de datos float (número real). Int(input('...') se usa para convertir en tipo entero."
   ]
  },
  {
   "cell_type": "code",
   "execution_count": 33,
   "id": "153bf3a8-334c-4d66-9289-6de45a6a80b1",
   "metadata": {},
   "outputs": [
    {
     "name": "stdout",
     "output_type": "stream",
     "text": [
      "Enter weight in kg:  96\n",
      "Enter height in m:  1.73\n"
     ]
    },
    {
     "name": "stdout",
     "output_type": "stream",
     "text": [
      "Your BMI= 32.075912994086\n"
     ]
    }
   ],
   "source": [
    "weight = float(input(\"Enter weight in kg: \"))\n",
    "height = float(input(\"Enter height in m: \"))\n",
    "\n",
    "bmi = (weight / (height ** 2))\n",
    "print(\"Your BMI=\", bmi)"
   ]
  },
  {
   "cell_type": "markdown",
   "id": "73158da2-5969-4bfa-991c-11212de877ce",
   "metadata": {},
   "source": [
    "#### **4.3. La función input de Python y los operadores aritméticos**\n",
    "\n",
    "El Int(input('')) se usa comúnmente para recibir entradas del usuario y y hacer cálculos con estas convirtiéndolos en entero.\n",
    "\n",
    "Resuelva el problema de devolver las vueltas cuando solo hay 500 y 100 pesos."
   ]
  },
  {
   "cell_type": "code",
   "execution_count": 36,
   "id": "e7d2b80c-59ee-408c-9118-bd06b60bc691",
   "metadata": {},
   "outputs": [
    {
     "name": "stdout",
     "output_type": "stream",
     "text": [
      "Money Paid :  5000\n",
      "Price of Item :  300\n"
     ]
    },
    {
     "name": "stdout",
     "output_type": "stream",
     "text": [
      "Amount of Change:  4700\n",
      "Pieces of 500 pesos coins:  9\n",
      "Pieces of 100 pesos coins:  2\n"
     ]
    }
   ],
   "source": [
    "money = int(input(\"Money Paid : \"))\n",
    "price = int(input(\"Price of Item : \"))\n",
    "                    \n",
    "change = money-price\n",
    "print(\"Amount of Change: \", change)\n",
    "coin500s = change // 500\n",
    "change = change % 500\n",
    "coin100s = change // 100\n",
    "\n",
    "print(\"Pieces of 500 pesos coins: \", coin500s)\n",
    "print(\"Pieces of 100 pesos coins: \", coin100s)"
   ]
  },
  {
   "cell_type": "markdown",
   "id": "91eddfef-3c60-466a-b95b-fad26597c447",
   "metadata": {},
   "source": [
    "**Líneas 1-2**\n",
    "\n",
    "* Reciba la cantidad de dinero y el precio del usuario y conviértelas en el tipo entero.\n",
    "* Después de eso, el problema puede ser resuelto por una operación entera."
   ]
  },
  {
   "cell_type": "markdown",
   "id": "8e326d06-b44c-4206-861d-f443fda3c874",
   "metadata": {},
   "source": [
    "Después de recibir las entradas, el resultado deseado se puede obtener usando el operador."
   ]
  },
  {
   "cell_type": "markdown",
   "id": "0d5be0ed-c54c-44fd-b131-dd5b86b2cbe9",
   "metadata": {},
   "source": [
    "**Líneas 4-8**\n",
    "\n",
    "* El valor de las vueltas es money - price.\n",
    "* En coin500s, las vueltas se dividen entre 500 y luego se almacenan.\n",
    "* Ponga el residuo de change (vueltas) dividido entre 500 en 'change'.\n",
    "* En coin100s, se divide 'change' entre 100 y luego se almacena."
   ]
  },
  {
   "cell_type": "markdown",
   "id": "9c03e215-5822-401a-b636-77aeef8f0b46",
   "metadata": {},
   "source": [
    "#### **4.4. Tenga cuidado con el uso de operadores aritméticos**\n",
    "\n",
    "<img src=\"https://ambg0231.github.io/unidad4/Error1.png\" style=\"width:850px;\">"
   ]
  },
  {
   "cell_type": "markdown",
   "id": "e98f947b-89f2-49b4-a9c0-7b67822001a6",
   "metadata": {},
   "source": [
    "## <FONT COLOR=\"blue\"> Codificación en papel </FONT>\n",
    "\n",
    "<table style=\"font-size:24px\">\n",
    "  <tr>\n",
    "    <td>\n",
    "        Trate de entender completamente los conceptos básicos antes de moverse al siguiente paso.\n",
    "    </td>\n",
    "  </tr>\n",
    "  <tr>\n",
    "    <td>\n",
    "        La falta de entendimiento de los conceptos básicos incrementará su carga en el aprendizaje de este curso, lo que puede hacer que lo repruebe.\n",
    "    </td>\n",
    "  </tr>\n",
    "  <tr>\n",
    "    <td>\n",
    "        Puede que sea difícil ahora, pero para completar con éxito este curso le sugerimos entender completamente los conceptos y luego pasar a el siguiente paso.\n",
    "    </td>\n",
    "  </tr>\n",
    "</table>"
   ]
  },
  {
   "cell_type": "markdown",
   "id": "16f57ace-fd76-4687-8980-326d0f6bdb89",
   "metadata": {},
   "source": [
    "### <FONT COLOR=\"blue\">**Q1.** </FONT>\n",
    "\n",
    "Asigne los valores 30, 60 a las variables width y height, respectivamente. Escriba un programa que use esas dos variables para encontrar el área del rectángulo como se muestra abajo.\n",
    "\n",
    "<table style='font-size:150%; width:100%'>\n",
    "  <tr>\n",
    "      <td>\n",
    "          <b>Condición para la ejecución</b>\n",
    "      </td>\n",
    "      <td>\n",
    "          \"Imprima\" Area del Rectángulo: 1800.\"\n",
    "      </td>\n",
    "  </tr>\n",
    "  <tr>\n",
    "      <td>\n",
    "          <b>Tiempo</b>\n",
    "      </td>\n",
    "      <td>\n",
    "          5 Minutos\n",
    "      </td>\n",
    "  </tr>\n",
    "</table>\n",
    "\n",
    "| Escriba el código y el resultado de salida esperado en una hoja"
   ]
  },
  {
   "cell_type": "markdown",
   "id": "c9b16e44-cdde-4fa6-99b3-8f63b54b3640",
   "metadata": {},
   "source": [
    "### <FONT COLOR=\"blue\">**Q2.** </FONT>\n",
    "\n",
    "El teorema de Pitágoras afirma que el cuadrado de la hipotenusa c para cualquier triángulo rectángulo es igual al cuadrado de la base a más el cuadrado de la altura b. Escriba un código que calcule el largo de la hipotenusa recibiendo la base y la altura como enteros.\n",
    "\n",
    "<table style='font-size:150%; width:100%'>\n",
    "  <tr>\n",
    "      <td>\n",
    "          <b>Condición para la ejecución</b>\n",
    "      </td>\n",
    "      <td>\n",
    "          Ingrese en la primera línea la base y la altura en la segunda línea. En la tercera línea, imprima el resultado de calcular la longitud de la hipotenusa.\n",
    "      </td>\n",
    "  </tr>\n",
    "  <tr>\n",
    "      <td>\n",
    "          <b>Tiempo</b>\n",
    "      </td>\n",
    "      <td>\n",
    "          5 Minutos\n",
    "      </td>\n",
    "  </tr>\n",
    "  <tr>\n",
    "      <td>\n",
    "          <b>El teorema de Pitágoras</b>\n",
    "      </td>\n",
    "      <td>\n",
    "          c**2 = a**2 + b**2\n",
    "      </td>\n",
    "  </tr>\n",
    "</table>\n",
    "\n",
    "<img src=\"https://ambg0231.github.io/unidad4/Pythag.png\" style=\"width:350px;\">\n",
    "\n",
    "Escriba el código y el resultado de salida esperado en una hoja"
   ]
  },
  {
   "cell_type": "markdown",
   "id": "4e0d9b85-60a1-4377-b486-6f2130130d62",
   "metadata": {},
   "source": [
    "## <FONT COLOR=\"blue\"> Vamos a codificar </FONT>\n",
    "### <FONT COLOR=\"blue\"> 1. Recibiendo entradas String del usuario: función input() </FONT>\n",
    "\n",
    "#### **1.1 Usando la función input**\n",
    "\n",
    "El nombre del usuario se guarda en el nombre de la variable. Use esta variable para escribir un código que imprima lo siguiente."
   ]
  },
  {
   "cell_type": "code",
   "execution_count": 38,
   "id": "c94e2178-2ba4-4951-af3d-594fed37237e",
   "metadata": {},
   "outputs": [
    {
     "name": "stdout",
     "output_type": "stream",
     "text": [
      "Enter Name:  Nilson\n"
     ]
    },
    {
     "name": "stdout",
     "output_type": "stream",
     "text": [
      "Hello Nilson\n",
      "Welcome to the World of Python Programming.\n"
     ]
    }
   ],
   "source": [
    "name = input(\"Enter Name: \")\n",
    "print(\"Hello,\", name)\n",
    "print(\"Welcome to the World of Python Programming.\")"
   ]
  },
  {
   "cell_type": "markdown",
   "id": "5f867274-2837-4390-bc25-03dda40afb82",
   "metadata": {},
   "source": [
    "| Verifíque los resultados"
   ]
  },
  {
   "cell_type": "markdown",
   "id": "9663d783-78a5-4ad7-87ac-cd35a738f2d9",
   "metadata": {},
   "source": [
    "#### **1.2.  Recibiendo enteros del usuario**\n",
    "\n",
    "Genere un programa que ejecute una operación aritmética recibiendo entradas del usuario.\n",
    "\n",
    "* El el programa de adición aprendido anteriormente, el resultado de 100 + 200 se imprimía siempre.\n",
    "* Sería un programa mucho más útil, ingresando dos enteros, sumarlos, y luego imprimir el resultado."
   ]
  },
  {
   "cell_type": "code",
   "execution_count": 43,
   "id": "a143380b-8663-416f-acdf-760fc862c9ed",
   "metadata": {},
   "outputs": [
    {
     "name": "stdout",
     "output_type": "stream",
     "text": [
      "Enter the first integer:  300\n",
      "Enter the second integer:  400\n"
     ]
    },
    {
     "name": "stdout",
     "output_type": "stream",
     "text": [
      "The sum of, 300 and 400 is 700\n"
     ]
    }
   ],
   "source": [
    "x = int(input(\"Enter the first integer: \"))\n",
    "y = int(input(\"Enter the second integer: \"))\n",
    "s = x + y\n",
    "print(\"The sum of,\", x, \"and\", y, \"is\", s)"
   ]
  },
  {
   "cell_type": "markdown",
   "id": "74d9d784-f2e3-4cc1-9681-6e4f6499b221",
   "metadata": {},
   "source": [
    "* La función input se usa para ingresar enteros. Sin embargo, la función input() siempre retorna las entradas en la forma de un String. Por lo tanto, retorna el string \"300\".\n",
    "* Para convertir el string \"300\" al entero 300, el valor retornado por la función input() se debe colocar dentro de la función int(). La función int() convierte el string en un entero."
   ]
  },
  {
   "cell_type": "markdown",
   "id": "eae6ddbc-cdd5-4d8a-b3fa-8e2b9014912c",
   "metadata": {},
   "source": [
    "Si ingresa caracteres, o una cadena de caracteres como 'hundred' en vez del número 300 como sigue, la función int() no puede convertirlo en un entero, y resultará en un error de ejecución.\n",
    "\n",
    "<img src=\"https://ambg0231.github.io/unidad4/Error2.png\" style=\"width:950px;\">"
   ]
  },
  {
   "cell_type": "markdown",
   "id": "93a17520-12aa-4bfe-a5bf-4a28b4da9c27",
   "metadata": {},
   "source": [
    "<img src=\"https://ambg0231.github.io/unidad4/OMS4.png\" style=\"width:950px;\">"
   ]
  },
  {
   "cell_type": "markdown",
   "id": "02f808bb-e13c-46cb-8fae-7ee63ae10732",
   "metadata": {},
   "source": [
    "### <FONT COLOR=\"blue\"> 2. Introducción a las variables </FONT>\n",
    "#### **2.1. Usando variables para una programación eficiente**\n",
    "\n",
    "Cuando se escribe un programa, se necesita un nombre para almacenar valores de datos. Dicho nombre es a lo que llamamos variable.\n",
    "\n",
    "<img src=\"https://ambg0231.github.io/unidad4/NameBox.png\" style=\"width:950px;\">\n",
    "\n",
    "Introduciendo variables, tareas complejas se pueden simplificar. Puede almacenar valores en variables y luego usar variables en vez de valores."
   ]
  },
  {
   "cell_type": "markdown",
   "id": "1254bbcc-9167-4d2e-a624-d77e2266e225",
   "metadata": {},
   "source": [
    "#### **2.1. Usando variables para una programación eficiente**\n",
    "\n",
    "Recibiendo una entrada String: encuentre la forma de almacenar el valor string en la variable name.\n",
    "\n",
    "<img src=\"https://ambg0231.github.io/unidad4/NameBox2.png\" style=\"width:950px;\">"
   ]
  },
  {
   "cell_type": "markdown",
   "id": "1512336b-293b-4d16-9aaa-938c88bfbebd",
   "metadata": {},
   "source": [
    "Familiaricémonos con el uso de variables a través de los siguientes códigos."
   ]
  },
  {
   "cell_type": "code",
   "execution_count": 46,
   "id": "4d099d9f-1222-4144-8e5f-67dd91781546",
   "metadata": {},
   "outputs": [
    {
     "name": "stdout",
     "output_type": "stream",
     "text": [
      "Radius of Circle 4.0\n",
      "Area of Circle 50.24\n",
      "Circumference of Circle 25.12\n"
     ]
    }
   ],
   "source": [
    "radius = 4.0\n",
    "print('Radius of Circle', radius)\n",
    "print('Area of Circle', 3.14 * radius * radius)\n",
    "print('Circumference of Circle', 2.0 * 3.14 * radius)"
   ]
  },
  {
   "cell_type": "code",
   "execution_count": 47,
   "id": "ae257d99-a80f-4955-913b-07da6ed9a577",
   "metadata": {},
   "outputs": [
    {
     "name": "stdout",
     "output_type": "stream",
     "text": [
      "input your name:  Carlos\n"
     ]
    }
   ],
   "source": [
    "name = input('input your name: ')"
   ]
  },
  {
   "cell_type": "markdown",
   "id": "f52cdf1b-c140-45f1-9b52-6271b8d7a729",
   "metadata": {},
   "source": [
    "#### **2.2. Variables y tipos de datos**\n",
    "\n",
    "Tipos de variables\n",
    "\n",
    "* Cada variable debe obtener espacio suficiente en memoria para representar su valor.\n",
    "* Para determinar la cantidad de espacio que se necesita y leer/escribir en dicho espacio, el tipo de datos debe ser determinado. Sin embargo, no hay necesidad de especificar el tipo dado que Python determina el tipo más conveniente por su cuenta."
   ]
  },
  {
   "cell_type": "code",
   "execution_count": 48,
   "id": "3fb0bcd3-be45-4dcc-b9e7-118846fa7815",
   "metadata": {},
   "outputs": [
    {
     "name": "stdout",
     "output_type": "stream",
     "text": [
      "<class 'str'>\n",
      "<class 'int'>\n"
     ]
    }
   ],
   "source": [
    "name = 'David'\n",
    "age = 27\n",
    "print(type(name))\n",
    "print(type(age))"
   ]
  },
  {
   "cell_type": "markdown",
   "id": "6a02fd41-f84d-4ec2-8ee7-da593dd06398",
   "metadata": {},
   "source": [
    "#### **2.3. Tenga cuidado con el TypeError (error de tipo) al usar variables**\n",
    "\n",
    "Un error de tipo ocurre cuando un string, como el de la variable my_height, se adiciona a un entero, como el número 1.\n",
    "\n",
    "<img src=\"https://ambg0231.github.io/unidad4/Error3.png\" style=\"width:950px;\">"
   ]
  },
  {
   "cell_type": "markdown",
   "id": "e0950e61-0a77-40c3-99cc-a17c01a84d5f",
   "metadata": {},
   "source": [
    "## <FONT COLOR=\"blue\">Programación por parejas </FONT>\n",
    "\n",
    "### <FONT COLOR=\"blue\">Práctica de la programación en parejas </FONT>\n",
    "\n",
    "\n",
    "**Directriz, mecanismos y plan de contingencia**\n",
    "\n",
    " Preparar la programación por parejas implica establecer pautas y mecanismos para ayudar a los alumnos a emparejarse correctamente y mantenerlos emparejados.  Por ejemplo, los estudiantes deben turnarse para \"conducir el mouse\".  La preparación efectiva requiere planes de contingencia en caso de que uno de los socios se ausente o decida no participar por una u otra razón.  En estos casos, es importante dejar claro que el alumno activo no será sancionado porque el emparejamiento no funcionó bien.\n",
    " \n",
    "**Emparejar habilidades similares, no necesariamente iguales, como socios**\n",
    "\n",
    " La programación en parejas puede ser efectiva cuando los estudiantes con habilidades similares, aunque no necesariamente iguales, se emparejan como compañeros.  El emparejamiento de estudiantes que no coinciden a menudo puede conducir a una participación desequilibrada.  Los maestros deben enfatizar que la programación en parejas no es una estrategia de \"divide y vencerás\", sino más bien un verdadero esfuerzo de colaboración en cada esfuerzo por todo el proyecto.  Los maestros deben evitar emparejar a estudiantes muy débiles con estudiantes muy fuertes.\n",
    "\n",
    "**Motivar a los estudiantes ofreciendo incentivos adicionales**\n",
    "\n",
    " Ofrecer incentivos adicionales puede ayudar a motivar a los estudiantes a emparejarse, especialmente con estudiantes avanzados.  A algunos maestros les ha resultado útil pedirles a los estudiantes que se emparejen solo para una o dos tareas.\n",
    "\n",
    "**Evitar trampas en la colaboración**\n",
    "\n",
    " El desafío para el maestro es encontrar formas de evaluar los resultados individuales, mientras aprovecha los beneficios de la colaboración.  ¿Cómo saber si un estudiante aprendió o hizo trampa?  Los expertos recomiendan revisar el diseño y la evaluación del curso, así como discutir explícita y concretamente con los estudiantes los comportamientos que se interpretarán como trampa.  Los expertos alientan a los maestros a hacer que las tareas sean significativas para los estudiantes y a explicar el valor de lo que los estudiantes aprenderán al completarlas.\n",
    "\n",
    "**Entorno de aprendizaje colaborativo**\n",
    "\n",
    " Un entorno de aprendizaje colaborativo ocurre cada vez que un instructor requiere que los estudiantes trabajen juntos en actividades de aprendizaje.  Los entornos de aprendizaje colaborativo pueden implicar actividades tanto formales como informales y pueden incluir o no una evaluación directa.  Por ejemplo, parejas de estudiantes trabajan en asignaciones de programación; pequeños grupos de estudiantes discuten posibles respuestas a la pregunta de un profesor durante la lección; y los estudiantes trabajan juntos fuera de clase para aprender nuevos conceptos.  El aprendizaje colaborativo es distinto de los proyectos en los que los estudiantes \"dividen y vencerán\".  Cuando los estudiantes dividen el trabajo, cada uno es responsable de solo una parte de la resolución del problema y hay oportunidades muy limitadas para resolver los problemas con los demás.  En entornos colaborativos, los estudiantes participan en conversaciones intelectuales entre ellos.\n",
    "\n"
   ]
  },
  {
   "cell_type": "markdown",
   "id": "baed0bf2-b3ba-4cde-9a0a-a431fdc3c61a",
   "metadata": {},
   "source": [
    "### <FONT COLOR=\"blue\">**Q1.** </FONT>\n",
    "\n",
    "Reciba el valor de un radio del usuario e imprima el área y la circunferencia de un círculo con dicho radio. Use la variable PI = 3.141592 para obtener esos valores.\n",
    "\n",
    "<table style='font-size:150%; width:100%'>\n",
    "  <tr>\n",
    "      <td>\n",
    "          <b>Resultado de ejemplo</b>\n",
    "      </td>\n",
    "      <td>\n",
    "          <p>Ingrese el radio de un círculo: 11</p>\n",
    "          <p>La circunferencia del círculo es = 69.115024, el área del círculo es = 280.132632</p>\n",
    "      </td>\n",
    "  </tr>\n",
    "</table>\n",
    "\n",
    "* La circunferencia de un círculo: 2 * radio * PI\n",
    "* El área de un círculo: PI * radio * radio\n",
    "* Estudie el área y la circunferencia de un círculo antes de continuar."
   ]
  },
  {
   "cell_type": "markdown",
   "id": "6a26b1df-3d70-467e-a8c3-e06673bfb5e8",
   "metadata": {},
   "source": [
    "### <FONT COLOR=\"blue\">**Q2.** </FONT>\n",
    "\n",
    "Escriba un programa que muestre los valores cuadrados de 2 a 6 en una tabla como la que se muestra a continuación. Como se muestra abajo, a se puede incrementar de 2 a 6, y n tiene el valor de 2. Ingrese el valor actual para la parte correspondiente a 'a**n', de tal forma que el resultado de salida de la ecuación sea 2**2.\n",
    "\n",
    "<img src=\"https://ambg0231.github.io/unidad4/ExRes.png\" style=\"width:950px;\">"
   ]
  },
  {
   "cell_type": "code",
   "execution_count": null,
   "id": "d8e4a74b-d271-4128-9dce-1b8055502d4a",
   "metadata": {},
   "outputs": [],
   "source": []
  }
 ],
 "metadata": {
  "kernelspec": {
   "display_name": "Python 3.9.13 64-bit (microsoft store)",
   "language": "python",
   "name": "python3"
  },
  "language_info": {
   "codemirror_mode": {
    "name": "ipython",
    "version": 3
   },
   "file_extension": ".py",
   "mimetype": "text/x-python",
   "name": "python",
   "nbconvert_exporter": "python",
   "pygments_lexer": "ipython3",
   "version": "3.9.13"
  },
  "vscode": {
   "interpreter": {
    "hash": "d6ff7cb00638fb92356a42c28981a177178b7e1976aa8ecd498ce1508ea8d5e4"
   }
  }
 },
 "nbformat": 4,
 "nbformat_minor": 5
}
