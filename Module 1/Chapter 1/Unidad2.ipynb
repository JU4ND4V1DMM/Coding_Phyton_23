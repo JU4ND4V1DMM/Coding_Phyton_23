{
 "cells": [
  {
   "cell_type": "markdown",
   "id": "17d398d0",
   "metadata": {},
   "source": [
    "# <FONT COLOR=\"blue\"> **Samsung Innovation Campus**</FONT>  \n",
    "\n",
    "## <FONT COLOR=\"blue\">**Codificación y Programación**</FONT>\n",
    "\n",
    "\n",
    "# **Capítulo 1. Conceptos básicos de programación e iniciando Python**\n",
    "\n",
    "Descripción del capítulo\n",
    "\n",
    "## Objetivos del capítulo\n",
    "\n",
    "Los estudiantes podrán configurar un ambiente de práctica para Python y aprender los fundamentos de programación. Los estudiantes se familiarizarán con los fundamentos de Python como entradas/salidas, tipos de datos, y variables. Adicionalmente, adquirirán habilidades para la resolución de problemas de codificación a través de varios operadores, condicionales y ciclos.\n",
    "\n",
    "## Contenido del capítulo\n",
    "\n",
    "* Unidad 1. Programación secuencial\n",
    "* Unidad 2. Planeación para la programación\n",
    "* Unidad 3. Fundamentos de tipos de datos numéricos y operaciones aritméticas\n",
    "* Unidad 4. Variables y entradas\n",
    "* Unidad 5. Operaciones lógicas y de comparación\n",
    "* Unidad 6. Sentencias condicionales-1: Condiciones y toma de decisiones\n",
    "* Unidad 7. Sentencias condicionales-2: Toma de decisiones en dos direcciones y aplicación de sentencias condicionales\n",
    "* Unidad 8. Bucle-1\n",
    "* Unidad 9. Bucle-2"
   ]
  },
  {
   "cell_type": "markdown",
   "id": "19fb4d2e-4474-4895-8b81-eb7383e8ae7e",
   "metadata": {},
   "source": [
    "# **Unidad 2. Planeando para la programación**"
   ]
  },
  {
   "cell_type": "markdown",
   "id": "9bcbeb4e-d009-4cb0-8e27-759ab4653b8b",
   "metadata": {},
   "source": [
    "## Objetivos de aprendizaje\n",
    "\n",
    "* Ser capaz de explicar la definición y la necesidad del pensamiento computacional a otros estudiantes.\n",
    "* Instalar paquetes software requeridos para la programación en Python en persona cuando el ambiente de entrenamiento no está configurado.\n",
    "* Construir un nuevo ambiente virtual cuando python 3.x esta ya configurado e instalar diferentes versiones de Python.\n",
    "* Ser capaz de inferir el orden de los códigos al mirar las salidas que solo usaron la función print.\n",
    "* Ser capaz de distinguir entre un error de sintaxis y un error de ejecución al encontrar errores"
   ]
  },
  {
   "cell_type": "markdown",
   "id": "dbb2bb05-f476-448b-9868-265605eaafda",
   "metadata": {},
   "source": [
    "## Resumen del Aprendizaje\n",
    "\n",
    "* Clasificar el programa que el estudiante quiere hacer, en unidades de tareas con lenguaje del día a día y escribirlo como pseudocódigo en el orden correcto.\n",
    "* Ser capaz de expresar cómo resolver problemas cotidianos en algoritmo usando flujogramas.\n",
    "* Interpretar su propio pseudocódigo y reescribirlo en flujogramas.\n",
    "* Explicar la diferencia entre un programa y un algoritmo.\n",
    "* Ser capaz de seleccionar el más eficiente entre varios algoritmos sugeridos con la notación Big 0.\n",
    "\n",
    "## Conceptos que necesitará saber de unidades anteriores\n",
    "\n",
    "* Como ejecutar Jupyter Notebook en un ambiente virtual\n",
    "* Imprimir cadenas de caracteres (string) en pantalla usando la función print()\n",
    "* Tres tipos de estructuras de control de Python: Secuencial, Selección, Repetición"
   ]
  },
  {
   "cell_type": "markdown",
   "id": "e4e286b6-42c9-491c-8832-1e18b4cf4764",
   "metadata": {},
   "source": [
    "## Keywords\n",
    "\n",
    "![Image](https://ambg0231.github.io/unidad2/Keywords.png)"
   ]
  },
  {
   "cell_type": "markdown",
   "id": "19dff4dd-7c51-471d-a78a-bfa503128886",
   "metadata": {},
   "source": [
    "## <FONT COLOR=\"blue\"> Misión </FONT>\n",
    "\n",
    "### <FONT COLOR=\"blue\">1. Problema del mundo real </FONT>\n"
   ]
  },
  {
   "cell_type": "markdown",
   "id": "0eaa6f77-bc3b-4efa-8acc-736289569ad2",
   "metadata": {},
   "source": [
    "Proceso de descubrimiento de problemas y encontrar soluciones\n",
    "\n",
    "Una invención es un producto, tecnología o proceso nuevo creado para resolver un problema. William Kamkwamba nació en Malawi, África, donde existe hambruna severa. Su familia tenía dificultades en la agricultura y necesidades básicas debido a la falta de agua y electricidad. Para ayudar a su familia, William, con 14 años, inventó un pequeño molino de viento con restos metálicos que recolectó y que a través de su idea pudo resolver los problemas de agua y de electricidad de los cuales sufría su familia. Al igual que esta, una invención no es difícil. Empieza por descubrir los problemas que hay en el mundo real alrededor de nosotros. A medida que aprende Python a través de este curso, usted practicará el proceso de descubrir problemas en nuestra vida diaria y de encontrar soluciones para resolverlos.\n",
    "\n",
    "| De click en la imagen para ver el video\n",
    "[![YT_TED](https://cdn.iconscout.com/icon/free/png-256/ted-5-282539.png)](https://www.youtube.com/watch?v=crjU5hu2fag)\n",
    "\n"
   ]
  },
  {
   "cell_type": "markdown",
   "id": "510d3bfe",
   "metadata": {},
   "source": [
    "\n",
    "\n",
    "<table style='font-size:175%; width:100%'>\n",
    "  <tr>\n",
    "      <td>\n",
    "        <img style=\"float: left;\" src=\"https://ambg0231.github.io/unidad2/WilliamsProc.png\" width=2900>    \n",
    "      </td>\n",
    "      <td>\n",
    "        <ul>\n",
    "            <li>La figura es el proceso real a través del cual William atravesó para idear formas de resolver el problema descubierto, y transformar dichas ideas en invenciones concretas.</li>\n",
    "            <li>Este proceso no es solamente el de William, sino el de muchos científicos e inventores que lo adoptan para la invención de algo.</li>\n",
    "            <li>A esto se le llama \"invention log\" o Proceso de diseño de ingeniería (engineering design proces EDP por sus siglas en inglés).</li>\n",
    "            <li>Cada paso es importante, sin embargo, el más importante es concretamente planear ideas y continuar mejorando las ideas a través de la esperimentación, la corrección y la retroalimentación.</li>\n",
    "            <li>La programación es igual. Si alguien quiere hacer algo, dicha persona debe empezar por planear sus pensamientos e ideas en detalle, en lugar de trabajar directamente en el computador.</li>\n",
    "        </ul>\n",
    "      </td>\n",
    "  </tr>\n",
    "</table>"
   ]
  },
  {
   "cell_type": "markdown",
   "id": "d1c6f3fa-ff7c-48f6-a974-b96844864c80",
   "metadata": {},
   "source": [
    "### <FONT COLOR=\"blue\"> 2. Solución </FONT>\n",
    "\n",
    "#### **2.1. Engineering Design Process(EDP) Proceso de diseño de ingeniería**\n",
    "\n",
    "| EDP es una serie de pasos que siguen los ingenieros y científicos para encontrar una solución a un problema. Cada etapa consiste en un proceso de establecer metas y restricciones, crear un prototipo, y evaluar y testear continuamente.\n",
    "\n",
    "| Cada etapa del EDP tiene 5 o 7 subetapas más, pero los pasos más detallados son los que se muestran en la figura de abajo.\n",
    "\n",
    "![Imagen.png](https://ambg0231.github.io/unidad2/EDP.png)"
   ]
  },
  {
   "cell_type": "markdown",
   "id": "65821608",
   "metadata": {},
   "source": [
    "### <FONT COLOR=\"blue\"> 3. Misión </FONT>\n",
    "\n",
    "#### **3.1. Represente el problema de abajo como un diagrama de flujo**\n",
    "\n",
    "| el proceso EDP también puede ser aplicado a la ingeniería computacional y a la programación.\n",
    "\n",
    "| En programación, la etapa de planeación (Desarrollar una propuesta de diseño) se puede expresar como un pseudocódigo y un diagrama de flujo.\n",
    "\n",
    "\n",
    "[Mission]\n",
    "\n",
    "Asumamos que usted está viajando en este momento\n",
    "Necesita encontrar el hotel que reservó, pero se perdió\n",
    "Entonces le está preguntando como llegar a alguien que va pasando, y este lo guía como aparece abajo.\n",
    "\n",
    "<span style=\"color:blue\">\"Siga directo hacia el oriente en este cruce. Encontrará 4 edificios.\n",
    "Apenas vea la oficina postal, cruce a la derecha en frente de la oficina postal.\n",
    "Siga derecho, y cuando vea un restaurante italiano, el tercer edificio es el hotel que está buscando\"</span>\n",
    "\n",
    "Usted no conoce nada en esta área.\n",
    "¡Para encontrar satisfactoriamente el hotel, encontrará el hotel luego de crear un diagrama de flujo de las instrucciones que acaba de recibir!"
   ]
  },
  {
   "cell_type": "markdown",
   "id": "4c48b955",
   "metadata": {},
   "source": [
    "#### **3.2. Referencias para resolver las misiones**\n",
    "\n",
    "| Aquí tiene algunas herramientas digitales para ayudarlo a dibujar el diagrama de flujo fácilmente.\n",
    "\n",
    "| Existen muchas herramientas, pero las que se presentan abajo son gratuitas y fáciles de usar.\n",
    "\n",
    "![Images.png](https://ambg0231.github.io/unidad2/ToolsCharts.png)"
   ]
  },
  {
   "cell_type": "markdown",
   "id": "0d86118c",
   "metadata": {},
   "source": [
    "#### **3.3. El código final del  diagrama de flujo de un programa para encontrar caminos**\n",
    "\n",
    "| Le estamos mostrando el código final antes de empezar la lección no porque deba seguirlo en esta etapa.\n",
    "\n",
    "| Es porque usted puede inferir el proceso por adelantado mirando la versión completa de la solución de la misión que usted realizará al final de la lección.\n",
    "\n",
    "![Images.png](https://ambg0231.github.io/unidad2/Flowchart.png)"
   ]
  },
  {
   "cell_type": "markdown",
   "id": "b198d0c7",
   "metadata": {},
   "source": [
    "## <FONT COLOR=\"blue\"> Concepto Clave </FONT>\n",
    "### <FONT COLOR=\"blue\"> 1. Algoritmo </FONT>\n",
    "#### **1.1. La definición de un algoritmo**\n"
   ]
  },
  {
   "cell_type": "markdown",
   "id": "1ed01be6",
   "metadata": {},
   "source": [
    "| Un algoritmo son una serie de instrucciones para hacer algo.\n",
    "\n",
    "| Un algoritmo debería tener una secuencia razonable de cálculos y tareas para resolver un problema, no solamente una serie de comandos.\n",
    "\n",
    "| Podemos planear la creación de un algoritmo, lo cual es un procedimiento que consiste en comandos para la resolución de problemáticas. El proceso de planeación puede estar constituido de un pseudocódigo y un diagrama de flujos.\n",
    "\n",
    "![Image.png](https://ambg0231.github.io/unidad2/Algorithm.png)"
   ]
  },
  {
   "cell_type": "markdown",
   "id": "4ca5fe07",
   "metadata": {},
   "source": [
    "### <FONT COLOR=\"blue\"> 2. Representación y planeación de algoritmos </FONT>\n",
    "\n",
    "#### **2.1. Pseudocódigo**\n",
    "\n",
    "| Secuencia hace referencia a que el computador ejecuta secuencialmente los comandos de los códigos.\n",
    "\n",
    "| Pseudocódigo es una representación de un algoritmo usando lenguaje cotidiano. Un pseudocódigo puede ser un buen inicio para desarrollar un algoritmo cuando usted no tiene conocimientos básicos suficientes acerca de programación.\n",
    "\n",
    "| El pseudocódigo juega un rol importante como puente para la construcción de un diagrama de flujo y propiamente de un código. Es comúnmente muy usado por programadores como una guía básica cuando implementan el código real.\n",
    "\n",
    "| Lo más esencial es que usted debe explicar claramente y planear lo que cada línea de código debe ejecutar."
   ]
  },
  {
   "cell_type": "code",
   "execution_count": 1,
   "id": "9bfec5b1",
   "metadata": {},
   "outputs": [
    {
     "data": {
      "text/plain": [
       "'Este programa permitirá al usuario verificar si un número es par o impar.\\n\\nIf “4”\\n    print result \\n    “This number is even”\\n\\nIf “3”\\n    print result\\n    “This number is odd”\\n'"
      ]
     },
     "execution_count": 1,
     "metadata": {},
     "output_type": "execute_result"
    }
   ],
   "source": [
    "\"\"\"Este programa permitirá al usuario verificar si un número es par o impar.\n",
    "\n",
    "If “4”\n",
    "    print result \n",
    "    “This number is even”\n",
    "\n",
    "If “3”\n",
    "    print result\n",
    "    “This number is odd”\n",
    "\"\"\""
   ]
  },
  {
   "cell_type": "markdown",
   "id": "7b855abe",
   "metadata": {},
   "source": [
    "* Escriba una sentencia que describa el propósito del algoritmo al inicio\n",
    "* Escriba de forma concisa.\n",
    "* Cree y use reglas de nombres simples y distinguibles en el uso.\n",
    "* La indentación y los espacios en blanco son puntos claves.\n",
    "* Exprese estructuras secuenciales, estructuras de selección, y estructuras de repetición usando if, for, while."
   ]
  },
  {
   "cell_type": "markdown",
   "id": "b97f3261",
   "metadata": {},
   "source": [
    "#### **2.1. Diagrama de flujos**\n",
    "\n",
    "| Un diagrama de flujos expresa comandos con varias formas estandarizadas y el flujo utilizando flechas.\n",
    "\n",
    "| Para las formas y símbolos, se usan aquellos establecidos por la Organización Internacional para la Estandarización (ISO).\n",
    "\n",
    "| Es importante que los dibuje de arriba a abajo y de izquierda a derecha sin sobreponerlos uno encima del otro.\n",
    "\n",
    "\n",
    "![Images.png](https://ambg0231.github.io/unidad2/Symbols.png)"
   ]
  },
  {
   "cell_type": "markdown",
   "id": "de82296a",
   "metadata": {},
   "source": [
    "### <FONT COLOR=\"blue\"> 3. Eficiencia de un algoritmo </FONT>\n",
    "\n",
    "#### **3.1. ¿Qué algoritmo deberíamos escoger y usar?**\n",
    "\n",
    "| De click en la imagen para ver el video\n",
    "[![YT_TED](https://images.vexels.com/media/users/3/157679/isolated/lists/8d24929b0ebd57e691ea9db331e1c1fa-youtube-play-button-logo.png)](https://youtu.be/6hfOvs8pY1k)\n",
    "\n"
   ]
  },
  {
   "cell_type": "markdown",
   "id": "7f35fced",
   "metadata": {},
   "source": [
    "#### **3.2. ¿Qué método es más eficiente?**\n",
    "\n",
    "| Prepare siete datos numéricos [array] sin ningún orden pero ubicados lado a lado.\n",
    "\n",
    "| Pensemos en la eficiencia de un algoritmo revisando dos tipos de algoritmo que realizan la búsqueda de un valor específico en una serie de datos preparados.\n",
    "\n",
    "\n",
    "![Images.png](https://ambg0231.github.io/unidad2/ALGBusqueda.png)"
   ]
  },
  {
   "cell_type": "markdown",
   "id": "c25ba545",
   "metadata": {},
   "source": [
    "#### **3.3. Algoritmo A para encontrar el valor 6**\n",
    "\n",
    "| Este algoritmo es bastante sencillo. Revisa los datos uno a uno desde el principio hasta que encuentra el valor buscado.\n",
    "\n",
    "| Se le llama algoritmo de búsqueda lineal dado que busca en una serie de datos secuencialmente.\n",
    "\n",
    "<table style='font-size:175%; width:100%'>\n",
    "  <tr>\n",
    "      <td>\n",
    "        <img style=\"float: left;\" src=\"https://ambg0231.github.io/unidad2/Busq6.png\" width=2900>    \n",
    "      </td>\n",
    "      <td>\n",
    "        <p>En este ejemplo, <span style=\"color:blue\">comandos para comparar los números dados se ejecutan 3 veces</span> para encontrar el dígito deseado</p>\n",
    "        <p>Si <span style=\"color:blue\">el número total de datos es enorme o no se encuentra el dato deseado</span> ¿qué pasaría?</p>\n",
    "        <p><span style=\"color:blue\">¿Cuántas veces tendría que continuar?</span></p>\n",
    "      </td>\n",
    "  </tr>\n",
    "</table>"
   ]
  },
  {
   "cell_type": "markdown",
   "id": "205c66c2",
   "metadata": {},
   "source": [
    "#### **3.4. Algoritmo B para encontrar el valor 6**\n",
    "\n",
    "| Antes de empezar el algoritmo B, primero alinee los datos en orden numérico.\n",
    "\n",
    "| Compare el dato en el centro del conjunto de datos con el 6, y luego reduzca a la mitad el área de búsqueda (A esto se le llama una búsqueda binaria).\n",
    "\n",
    "<table style='font-size:175%; width:100%'>\n",
    "  <tr>\n",
    "      <td>\n",
    "        <img style=\"float: left;\" src=\"https://ambg0231.github.io/unidad2/Busq6B.png\" width=2900>    \n",
    "      </td>\n",
    "      <td>\n",
    "        <p>Para encontrar el número deseado, <span style=\"color:blue\">Al comparar desde el centro, el rango de búsqueda se elimina a la mitad. Cuando se encuentra el valor deseado, el proceso termina</span></p>\n",
    "        <p>Si <span style=\"color:blue\">el número total de datos es enorme o no se encuentra el dato deseado</span> ¿qué pasaría?</p>\n",
    "        <p><span style=\"color:blue\">Piense en esto en comparación con el algoritmo A</span></p>\n",
    "      </td>\n",
    "  </tr>\n",
    "</table>"
   ]
  },
  {
   "cell_type": "markdown",
   "id": "03e079d3",
   "metadata": {},
   "source": [
    "#### **3.5. Comparemos los Algoritmo A y B**\n",
    "\n",
    "| Esta comprobado que aunque un algoritmo encuentre el resultado deseado, puede no ser eficiente.\n",
    "\n",
    "| Al aprender Python, obtener resultados es importante. Pero también es necesario que usted haga un gran esfuerzo por encontrar el algoritmo más eficiente.\n",
    "\n",
    "![Images.png](https://ambg0231.github.io/unidad2/ALGComp.png)"
   ]
  },
  {
   "cell_type": "markdown",
   "id": "0c0a3b1c-faf2-4b86-956b-d53ba479d3ff",
   "metadata": {},
   "source": [
    "### <FONT COLOR=\"blue\"> 4. Desempeño del algoritmo </FONT>\n",
    "\n",
    "#### **4.1. Estructura de la memoria**\n",
    "\n",
    "| Existen dos formas de medir el desempeño de un algoritmo: <span style=\"color:black\">**complejidad espacial**</span>, lo cual mide cuando espacio ocupa en el computador; y <span style=\"color:black\">**complejidad temporal**</span>, lo que mide que tan rápido se resuelven los problemas.\n",
    "\n",
    "| <span style=\"color:black\">**Complejidad espacial**</span> es una medida de cuanta memoria usa el computador\n",
    "\n",
    "| ¿Cómo se usa la memoria en nuestro computador, y porqué debemos medir el uso de la memoria?\n",
    "\n",
    "<table style='font-size:175%; width:100%'>\n",
    "  <tr>\n",
    "      <td>\n",
    "        <img style=\"float: left;\" src=\"https://ambg0231.github.io/unidad2/MemStruct.png\" width=1900>    \n",
    "      </td>\n",
    "      <td>\n",
    "        <ul>\n",
    "            <li><span><b>Área de código: </b></span>El área donde los códigos del programa a ser ejecutado se guardan. La CPU toma los comandos uno a uno y los procesa.</li>\n",
    "            <li><span><b>Área de datos: </b></span>Área de ubicación de variables globales y estáticas. Se asigna cuando el programa inicia y se destruye cuando este termina.</li>\n",
    "            <li><span><b>Área Heap (montículo): </b></span>Área gestionada por el programador.</li>\n",
    "            <li><span><b>Área Stack (pila): </b></span>Área donde se guardan las variables locales y parámetros relacionados con el llamado de una función.</li>\n",
    "        </ul>\n",
    "      </td>\n",
    "  </tr>\n",
    "</table>"
   ]
  },
  {
   "cell_type": "markdown",
   "id": "a1edbf49-cfac-4d88-aa8c-15f69afdfd5f",
   "metadata": {},
   "source": [
    "#### **4.2. Complejidad espacial**\n",
    "\n",
    "| La memoria de nuestro computador tiene recursos limitados, Por lo tanto, ocupar menos espacio es más eficiente en términos de complejidad espacial.\n",
    "\n",
    "![Images.png](https://ambg0231.github.io/unidad2/MemComp.png)"
   ]
  },
  {
   "cell_type": "markdown",
   "id": "0e7bdd3d-c628-4b2e-8248-0fce4600bc76",
   "metadata": {},
   "source": [
    "#### **4.3. Complejidad temporal en Big O**\n",
    "\n",
    "| La notación Big-O es una representación matemática del desempeño de un algoritmo.\n",
    "\n",
    "| La velocidad del algoritmo puede ser afectada por el desempeño del computador. Por lo tanto debemos comparar el desempeño del algoritmo expresando los pasos del trabajo con notaciones matemáticas, en lugar de evaluarla con el tiempo que consume.\n",
    "\n",
    "| Comparada a la complejidad espacial, la cual es difícil de medir, <span>**la complejidad temporal**</span> es útil al evaluar la complejidad de un algoritmo.\n",
    "\n",
    "![Images.png](https://ambg0231.github.io/unidad2/BigO.png)"
   ]
  },
  {
   "cell_type": "markdown",
   "id": "5b68742d-1a81-4425-9b03-8ff2d74e9624",
   "metadata": {},
   "source": [
    "#### **4.4. Escribamos y comparemos búsqueda lineal y búsquela binaria in Big-O.**\n",
    "\n",
    "| Ya sabemos que la búsqueda binaria tiene menos pasos a ejecutar que la búsqueda lineal.\n",
    "\n",
    "| Comparemos la búsqueda lineal y la búsqueda binaria nuevamente usando la notación Big-O.\n",
    "\n",
    "| Todos los algoritmos que aprenderemos, así como la búsqueda lineal y la búsqueda binaria, se pueden expresar en pasos computacionales en notación Big-O para comparar y analizar los algoritmos eficientes.\n",
    "\n",
    "| Si no entiende como representar el número de operaciones en en log, estudie por su propia cuenta usando el link de abajo.\n",
    "\n",
    "![Images.png](https://ambg0231.github.io/unidad2/TimeComp.png)\n",
    "https://www.khanacademy.org/math/algebra2/x2ec2f6f830c9fb89:logs/x2ec2f6f830c9fb89:log-intro/v/logarithms"
   ]
  },
  {
   "cell_type": "markdown",
   "id": "bb877a3a-6cd0-47a8-b6ed-874f04c61eae",
   "metadata": {},
   "source": [
    "#### **4.5. Comparemos otros algoritmos representándolos en notación Big-O.**\n",
    "\n",
    "| En este curso, aprenderemos diferentes tipos de algoritmos. Igual que la búsqueda lineal y binaria, el número de operaciones de los algoritmos se puede representar con Big-O dependiendo del número de datos.\n",
    "\n",
    "| Es posible identificar algoritmos de alta eficiencia como se muestra en la imagen de abajo con notación Big-O\n",
    "\n",
    "![Images.png](https://ambg0231.github.io/unidad2/BigOChart.png)\n",
    "Source : https://medium.com/swlh/programming-pieces-big-o-notation-b42cfcd88132"
   ]
  },
  {
   "cell_type": "markdown",
   "id": "2b98438a-b3f4-449a-81e9-07e5e74746b7",
   "metadata": {},
   "source": [
    "[![YT_TED](https://ambg0231.github.io/unidad2/Ted.png)](https://youtu.be/wgbV6DLVezo)"
   ]
  },
  {
   "cell_type": "markdown",
   "id": "bef1df98-d290-4215-abd9-8174d8e1aec5",
   "metadata": {},
   "source": [
    "## <FONT COLOR=\"blue\"> Codificación en papel </FONT>\n",
    "\n",
    "<table style=\"font-size:24px\">\n",
    "  <tr>\n",
    "    <td>\n",
    "        Trate de entender completamente los conceptos básicos antes de moverse al siguiente paso.\n",
    "    </td>\n",
    "  </tr>\n",
    "  <tr>\n",
    "    <td>\n",
    "        La falta de entendimiento de los conceptos básicos incrementará su carga en el aprendizaje de este curso, lo que puede hacer que lo repruebe.\n",
    "    </td>\n",
    "  </tr>\n",
    "  <tr>\n",
    "    <td>\n",
    "        Puede que sea difícil ahora, pero para completar con éxito este curso le sugerimos entender completamente los conceptos y luego pasar a el siguiente paso.\n",
    "    </td>\n",
    "  </tr>\n",
    "</table>"
   ]
  },
  {
   "cell_type": "markdown",
   "id": "4d2bed53-3edd-4753-ad87-a1e18bd8025d",
   "metadata": {},
   "source": [
    "### <FONT COLOR=\"blue\">**Q1.** </FONT>\n",
    "\n",
    "Exprese la forma de encontrar el hotel en pseudocódigo usando los comandos de pseudocódigo dados abajo. Escriba todo lo demás en lenguaje cotidiano excepto los comandos de abajo. Preste atención a la indentación al usar dichos comandos.\n",
    "\n",
    "![Images.png](https://ambg0231.github.io/unidad2/Quiz.png)\n",
    "\n",
    "| Escriba el código y el resultado de salida esperado en una hoja"
   ]
  },
  {
   "cell_type": "markdown",
   "id": "0e662b5f-6785-404b-aac6-4c24a6e66ffe",
   "metadata": {},
   "source": [
    "## <FONT COLOR=\"blue\"> Vamos a codificar </FONT>\n",
    "### <FONT COLOR=\"blue\"> 1. Tres estructuras de ejecución de Python que pueden se aplicadas a la vida diaria </FONT>\n"
   ]
  },
  {
   "cell_type": "markdown",
   "id": "d42af988-aef9-4374-82e2-35a238990ed6",
   "metadata": {},
   "source": [
    "Las tres estructuras (estructuras secuenciales, de selección y de iteración) del programa aprendidas en la Unida 1 son útiles no solo para codificar sino también en la vida real.\n",
    "\n",
    "![Images.png](https://ambg0231.github.io/unidad2/Estructuras.png)"
   ]
  },
  {
   "cell_type": "markdown",
   "id": "542b74b2-b5f5-4f1c-9ff2-5f1c1fc3ae53",
   "metadata": {},
   "source": [
    "### <FONT COLOR=\"blue\"> 2. Represente las direcciones como un diagrama de flujos </FONT>\n",
    "\n",
    "#### **2.1. Empiece las direcciones y encuentre la dirección hacia el occidente**\n",
    "\n",
    "<table style='font-size:175%; width:100%'>\n",
    "  <tr>\n",
    "      <td>\n",
    "        <img style=\"float: left;\" src=\"https://ambg0231.github.io/unidad2/DirFlowchart.png\" width=1900>    \n",
    "      </td>\n",
    "      <td>\n",
    "        <ul>\n",
    "            <li>Empezaremos a encontrar un camino hacia el hotel. Para hacer esto, usted debe llegar a la esquina primero. [Secuencia]</li>\n",
    "            <li>Antes de dirigirse hacia el occidente en la esquina, verifique las vías una a una y determine si cada una está en la dirección hacia el occidente. Si es hacia el occidente, camine derecho. Si no, verifique la siguiente vía. [Selección]</li>\n",
    "        </ul>\n",
    "      </td>\n",
    "  </tr>\n",
    "</table>"
   ]
  },
  {
   "cell_type": "markdown",
   "id": "0a35f0c3-3d2e-4bdb-8f8e-d44947d81170",
   "metadata": {},
   "source": [
    "#### **2.2. Encuentre un edificio de la oficina postal**\n",
    "\n",
    "<table style='font-size:175%; width:100%'>\n",
    "  <tr>\n",
    "      <td>\n",
    "        <img style=\"float: left;\" src=\"https://ambg0231.github.io/unidad2/DirFlowchart2.png\" width=1900>    \n",
    "      </td>\n",
    "      <td>\n",
    "        <ul>\n",
    "            <li>Entre la vía hacia el occidente en la esquina y continúe derecho. Siga derecho y llegará al siguiente edificio. [Secuencia]</li>\n",
    "            <li>Juzque si el primer edificio es una oficina postal. Si es una oficina postal, gire a la derecha por la oficina postal. Si no, continúe derecho y verifique el siguiente edificio. [Selección]</li>\n",
    "        </ul>\n",
    "      </td>\n",
    "  </tr>\n",
    "</table>"
   ]
  },
  {
   "cell_type": "markdown",
   "id": "7eba97da-5690-472a-a432-a8e7d34ac73e",
   "metadata": {},
   "source": [
    "#### **2.3. Encuentre un restaurante italiano**\n",
    "\n",
    "<table style='font-size:175%; width:100%'>\n",
    "  <tr>\n",
    "      <td>\n",
    "        <img style=\"float: left;\" src=\"https://ambg0231.github.io/unidad2/DirFlowchart3.png\" width=1900>    \n",
    "      </td>\n",
    "      <td>\n",
    "        <ul>\n",
    "            <li>Despues de pasar el edificio de la oficina postal, gire a la derecha y siga derecho. Siga derecho y llegará al primer edificio. [Secuencia]</li>\n",
    "            <li>Juzque si es un restaurante italiano desde el primer edificio. Si es un restaurante italiano, empiece a buscar un hotel. Si no, continúe derecho y verifique si el siguiente edificio es un restaurante italiano. [Selección]</li>\n",
    "        </ul>\n",
    "      </td>\n",
    "  </tr>\n",
    "</table>"
   ]
  },
  {
   "cell_type": "markdown",
   "id": "4081152a-9084-4156-8bff-235ffc5e5ddf",
   "metadata": {},
   "source": [
    "#### **2.4. Encuentre el hotel y termine las direcciones**\n",
    "\n",
    "<table style='font-size:175%; width:100%'>\n",
    "  <tr>\n",
    "      <td>\n",
    "        <img style=\"float: left;\" src=\"https://ambg0231.github.io/unidad2/DirFlowchart4.png\" width=1900>    \n",
    "      </td>\n",
    "      <td>\n",
    "        <ul>\n",
    "            <li>Una vez que haya encontrado un restaurante italiano, empiece a buscar un hotel. [Secuencia]</li>\n",
    "            <li>El tercer edificio es el que usted está buscando. Entonces repita el proceso de seguir derecho y pasar el edificio tres veces. [Iteración]</li>\n",
    "            <li>Cuando llegue al tercer edificio, verifique el nombre del edificio para ver si es el correcto, y luego termine la búsqueda. [Secuencia]</li>\n",
    "        </ul>\n",
    "      </td>\n",
    "  </tr>\n",
    "</table>"
   ]
  },
  {
   "cell_type": "markdown",
   "id": "1de6e985-0c9e-4ada-8d18-00010bb5cd4e",
   "metadata": {},
   "source": [
    "![Images.png](https://ambg0231.github.io/unidad2/OMS1.png)"
   ]
  },
  {
   "cell_type": "markdown",
   "id": "509d4d50-0a27-42cd-ab93-9780c39a7f11",
   "metadata": {},
   "source": [
    "![Images.png](https://ambg0231.github.io/unidad2/OMS2.png)"
   ]
  },
  {
   "cell_type": "markdown",
   "id": "90c1141c-8fb3-425d-93a3-e5eef6718a4d",
   "metadata": {},
   "source": [
    "![Images.png](https://ambg0231.github.io/unidad2/OMS3.png)"
   ]
  },
  {
   "cell_type": "markdown",
   "id": "c7e64e5d-caa7-45a5-adbe-0a1ff72f412b",
   "metadata": {},
   "source": [
    "![Images.png](https://ambg0231.github.io/unidad2/OMS4.png)"
   ]
  },
  {
   "cell_type": "markdown",
   "id": "ba3a88b1-ab1a-4821-a795-7d04e5aec83f",
   "metadata": {},
   "source": [
    "![Images.png](https://ambg0231.github.io/unidad2/OMS5.png)"
   ]
  },
  {
   "cell_type": "markdown",
   "id": "bcb45c81-a7ff-4d58-803d-46965045744a",
   "metadata": {},
   "source": [
    "## <FONT COLOR=\"blue\">Programación por parejas </FONT>\n",
    "\n",
    "### <FONT COLOR=\"blue\">Práctica de la programación en parejas </FONT>\n",
    "\n",
    "\n",
    "**Directriz, mecanismos y plan de contingencia**\n",
    "\n",
    " Preparar la programación por parejas implica establecer pautas y mecanismos para ayudar a los alumnos a emparejarse correctamente y mantenerlos emparejados.  Por ejemplo, los estudiantes deben turnarse para \"conducir el mouse\".  La preparación efectiva requiere planes de contingencia en caso de que uno de los socios se ausente o decida no participar por una u otra razón.  En estos casos, es importante dejar claro que el alumno activo no será sancionado porque el emparejamiento no funcionó bien.\n",
    " \n",
    "**Emparejar habilidades similares, no necesariamente iguales, como socios**\n",
    "\n",
    " La programación en parejas puede ser efectiva cuando los estudiantes con habilidades similares, aunque no necesariamente iguales, se emparejan como compañeros.  El emparejamiento de estudiantes que no coinciden a menudo puede conducir a una participación desequilibrada.  Los maestros deben enfatizar que la programación en parejas no es una estrategia de \"divide y vencerás\", sino más bien un verdadero esfuerzo de colaboración en cada esfuerzo por todo el proyecto.  Los maestros deben evitar emparejar a estudiantes muy débiles con estudiantes muy fuertes.\n",
    "\n",
    "**Motivar a los estudiantes ofreciendo incentivos adicionales**\n",
    "\n",
    " Ofrecer incentivos adicionales puede ayudar a motivar a los estudiantes a emparejarse, especialmente con estudiantes avanzados.  A algunos maestros les ha resultado útil pedirles a los estudiantes que se emparejen solo para una o dos tareas.\n",
    "\n",
    "**Evitar trampas en la colaboración**\n",
    "\n",
    " El desafío para el maestro es encontrar formas de evaluar los resultados individuales, mientras aprovecha los beneficios de la colaboración.  ¿Cómo saber si un estudiante aprendió o hizo trampa?  Los expertos recomiendan revisar el diseño y la evaluación del curso, así como discutir explícita y concretamente con los estudiantes los comportamientos que se interpretarán como trampa.  Los expertos alientan a los maestros a hacer que las tareas sean significativas para los estudiantes y a explicar el valor de lo que los estudiantes aprenderán al completarlas.\n",
    "\n",
    "**Entorno de aprendizaje colaborativo**\n",
    "\n",
    " Un entorno de aprendizaje colaborativo ocurre cada vez que un instructor requiere que los estudiantes trabajen juntos en actividades de aprendizaje.  Los entornos de aprendizaje colaborativo pueden implicar actividades tanto formales como informales y pueden incluir o no una evaluación directa.  Por ejemplo, parejas de estudiantes trabajan en asignaciones de programación; pequeños grupos de estudiantes discuten posibles respuestas a la pregunta de un profesor durante la lección; y los estudiantes trabajan juntos fuera de clase para aprender nuevos conceptos.  El aprendizaje colaborativo es distinto de los proyectos en los que los estudiantes \"dividen y vencerán\".  Cuando los estudiantes dividen el trabajo, cada uno es responsable de solo una parte de la resolución del problema y hay oportunidades muy limitadas para resolver los problemas con los demás.  En entornos colaborativos, los estudiantes participan en conversaciones intelectuales entre ellos.\n",
    "\n"
   ]
  },
  {
   "cell_type": "markdown",
   "id": "6b9a1a03-30e3-4d8f-995a-13b75b31ce15",
   "metadata": {},
   "source": [
    "### <FONT COLOR=\"blue\">**Q1.** </FONT>\n",
    "\n",
    "Escriba un diagrama de flujos que factorice 18, 39, 63, 126, 792."
   ]
  }
 ],
 "metadata": {
  "kernelspec": {
   "display_name": "Python 3",
   "language": "python",
   "name": "python3"
  },
  "language_info": {
   "codemirror_mode": {
    "name": "ipython",
    "version": 3
   },
   "file_extension": ".py",
   "mimetype": "text/x-python",
   "name": "python",
   "nbconvert_exporter": "python",
   "pygments_lexer": "ipython3",
   "version": "3.9.13"
  },
  "vscode": {
   "interpreter": {
    "hash": "d6ff7cb00638fb92356a42c28981a177178b7e1976aa8ecd498ce1508ea8d5e4"
   }
  }
 },
 "nbformat": 4,
 "nbformat_minor": 5
}
